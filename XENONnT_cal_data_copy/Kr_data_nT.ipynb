{
 "cells": [
  {
   "cell_type": "code",
   "execution_count": null,
   "id": "7902050e-917f-4644-80d0-159cd3c702d7",
   "metadata": {},
   "outputs": [],
   "source": [
    "import strax \n",
    "import straxen \n",
    "import numpy as np\n",
    "import matplotlib.pyplot as plt\n",
    "import cutax\n",
    "import pandas as pd"
   ]
  },
  {
   "cell_type": "code",
   "execution_count": null,
   "id": "b039608d-aab0-4c17-a978-c78341ae38d4",
   "metadata": {},
   "outputs": [],
   "source": [
    "st = cutax.contexts.xenonnt_v8()"
   ]
  },
  {
   "cell_type": "code",
   "execution_count": null,
   "id": "beea4057-8e84-4c20-8e34-a2c8d78f5b80",
   "metadata": {},
   "outputs": [],
   "source": [
    "help(st.select_runs)"
   ]
  },
  {
   "cell_type": "code",
   "execution_count": null,
   "id": "2668901d-c4d6-4827-aa0e-25a10dabee25",
   "metadata": {},
   "outputs": [],
   "source": [
    "st.select_runs(run_mode = 'tpc_ar37', include_tags = ['kr83m_and_ar37'], exclude_tags = ['messy', 'lt_3d_after_ramp'])"
   ]
  },
  {
   "cell_type": "code",
   "execution_count": null,
   "id": "d72cb191-cff2-4828-baa5-a68a2f22b71e",
   "metadata": {},
   "outputs": [],
   "source": [
    "cal_run_id = '034373'"
   ]
  },
  {
   "cell_type": "code",
   "execution_count": null,
   "id": "2136df12-1974-44a1-a2af-d0e2c26a2c25",
   "metadata": {},
   "outputs": [],
   "source": [
    "kr_peaks = strax.(run_id='034373', targets='peaks', progress_bar=True)"
   ]
  },
  {
   "cell_type": "code",
   "execution_count": null,
   "id": "0fd39f99-9a3a-462d-a1dc-c3423fef7198",
   "metadata": {},
   "outputs": [],
   "source": [
    "kr_pb = st.get_array(run_id='034373', targets='peak_basics')"
   ]
  },
  {
   "cell_type": "code",
   "execution_count": null,
   "id": "1046c220-c503-440e-a789-f70a9b631c3d",
   "metadata": {},
   "outputs": [],
   "source": [
    "kr_peaks = st.get_array(run_id='034373', targets='peaks')"
   ]
  },
  {
   "cell_type": "code",
   "execution_count": null,
   "id": "fd293e5b-8649-4fac-a985-bb51af950b36",
   "metadata": {},
   "outputs": [],
   "source": [
    "kr_apc = st.get_array(run_id='034373', targets='event_area_per_channel')"
   ]
  },
  {
   "cell_type": "code",
   "execution_count": null,
   "id": "bcbe1beb-9320-4292-8f7b-9ba10fbde55c",
   "metadata": {},
   "outputs": [],
   "source": [
    "len(kr_apc)"
   ]
  },
  {
   "cell_type": "code",
   "execution_count": null,
   "id": "e70302c1-c737-484b-b4fb-ecca5679a21b",
   "metadata": {},
   "outputs": [],
   "source": [
    "len(kr_peaks)"
   ]
  },
  {
   "cell_type": "code",
   "execution_count": null,
   "id": "e1dbdf7e-0bac-4a63-a527-be849cd01282",
   "metadata": {},
   "outputs": [],
   "source": [
    "kr_peak_pos = st.get_array(run_id='034373', targets='peak_positions_mlp')"
   ]
  },
  {
   "cell_type": "code",
   "execution_count": null,
   "id": "a02e1ce7-e8de-4f1b-b584-9cd712ae7383",
   "metadata": {},
   "outputs": [],
   "source": [
    "kr_peak_pos"
   ]
  },
  {
   "cell_type": "code",
   "execution_count": null,
   "id": "5ae5e96a-c374-4e81-8c11-cce1588caec0",
   "metadata": {},
   "outputs": [],
   "source": []
  },
  {
   "cell_type": "code",
   "execution_count": null,
   "id": "d95cc7ad-68d7-4e33-9c1a-7de9c78a2e15",
   "metadata": {},
   "outputs": [],
   "source": [
    "a = 44\n",
    "def addnum(a):\n",
    "    b = a + 25\n",
    "    return b"
   ]
  },
  {
   "cell_type": "code",
   "execution_count": null,
   "id": "44fec48c-a4a7-49be-8a97-2886ce4746c5",
   "metadata": {},
   "outputs": [],
   "source": [
    "check = addnum"
   ]
  },
  {
   "cell_type": "code",
   "execution_count": null,
   "id": "a4a1577f-7888-4b53-a7a0-fdabea402895",
   "metadata": {},
   "outputs": [],
   "source": [
    "check(23)"
   ]
  },
  {
   "cell_type": "code",
   "execution_count": null,
   "id": "49f9bf5d-9f6a-4a50-80a0-65812a62a297",
   "metadata": {},
   "outputs": [],
   "source": [
    "f = addnum(a)\n",
    "f"
   ]
  },
  {
   "cell_type": "code",
   "execution_count": null,
   "id": "72d5d5ff-e14b-45c8-a475-fdc096a3dc59",
   "metadata": {},
   "outputs": [],
   "source": [
    "len(f)"
   ]
  },
  {
   "cell_type": "code",
   "execution_count": null,
   "id": "4cd6775d-1680-4a3c-b511-907eef308048",
   "metadata": {},
   "outputs": [],
   "source": [
    "kr_peaks.dtype"
   ]
  },
  {
   "cell_type": "code",
   "execution_count": null,
   "id": "b1545eab-ea8d-476b-a387-9f8a95b5f398",
   "metadata": {},
   "outputs": [],
   "source": [
    "peaks_and_pos = np.append(kr_peaks, kr_peak_pos)"
   ]
  },
  {
   "cell_type": "code",
   "execution_count": null,
   "id": "1114d7a1-eaed-4c29-bf15-7193964d8eea",
   "metadata": {},
   "outputs": [],
   "source": [
    "len(kr_peaks)"
   ]
  },
  {
   "cell_type": "code",
   "execution_count": null,
   "id": "4194d88f-5649-47f1-ae60-b2babc573e90",
   "metadata": {},
   "outputs": [],
   "source": [
    "len(kr_peak_pos)"
   ]
  },
  {
   "cell_type": "code",
   "execution_count": null,
   "id": "cc949096-a70c-4653-97bb-d1d8785902fb",
   "metadata": {},
   "outputs": [],
   "source": [
    "kr_eb = st.get_array(run_id='034373', targets='event_basics')"
   ]
  },
  {
   "cell_type": "code",
   "execution_count": null,
   "id": "716011fc-1a3d-425b-bf52-6179b57828df",
   "metadata": {},
   "outputs": [],
   "source": [
    "kr_eb.dtype"
   ]
  },
  {
   "cell_type": "code",
   "execution_count": null,
   "id": "522e4c59-edb1-45d7-8199-c219175e1b1f",
   "metadata": {},
   "outputs": [],
   "source": [
    "len(kr_eb)"
   ]
  },
  {
   "cell_type": "code",
   "execution_count": null,
   "id": "8382fc27-770f-48ee-ba71-e0bfa1fe9c8a",
   "metadata": {},
   "outputs": [],
   "source": [
    "kr_eb.dtype"
   ]
  },
  {
   "cell_type": "code",
   "execution_count": null,
   "id": "14fa1701-eb92-4789-8a13-0c946aa44b77",
   "metadata": {},
   "outputs": [],
   "source": [
    "kr_eb['s2_x']"
   ]
  },
  {
   "cell_type": "code",
   "execution_count": null,
   "id": "83e7c32c-e976-48fc-9cc1-25eb52b32196",
   "metadata": {},
   "outputs": [],
   "source": [
    "len(kr_peaks)"
   ]
  },
  {
   "cell_type": "code",
   "execution_count": null,
   "id": "881524ab-fe05-482a-8203-d99eaad65f50",
   "metadata": {},
   "outputs": [],
   "source": [
    "kr_peaks.dtype"
   ]
  },
  {
   "cell_type": "code",
   "execution_count": null,
   "id": "6fc4b439-ee8e-4b28-8006-09bfdc196df2",
   "metadata": {},
   "outputs": [],
   "source": [
    "help(st.make)"
   ]
  },
  {
   "cell_type": "code",
   "execution_count": null,
   "id": "4f7ee39f-6bf0-4327-b2e5-cafada11269f",
   "metadata": {},
   "outputs": [],
   "source": [
    "len(kr_peaks)"
   ]
  },
  {
   "cell_type": "code",
   "execution_count": null,
   "id": "1bc32878-fad3-4fe7-9727-c90dfdeb10a7",
   "metadata": {},
   "outputs": [],
   "source": [
    "st.register_all(cutax.cuts)\n",
    "kr_events = st.get_df(cal_run_id, targets =('events', 'cut_Kr_SingleS1S2'))"
   ]
  },
  {
   "cell_type": "code",
   "execution_count": null,
   "id": "5d5d50fc-09d7-472d-96ca-2ec5579800a1",
   "metadata": {},
   "outputs": [],
   "source": [
    "kr_events"
   ]
  },
  {
   "cell_type": "code",
   "execution_count": null,
   "id": "bba07d22-a0a4-4cd2-9b89-0af944e7fb41",
   "metadata": {},
   "outputs": [],
   "source": [
    "kr_events_all = st.get_df(cal_run_id, targets =('event_basics'))"
   ]
  },
  {
   "cell_type": "code",
   "execution_count": null,
   "id": "80d8c2e7-6212-40d0-9d47-25d17c81038e",
   "metadata": {},
   "outputs": [],
   "source": [
    "kr_events_all"
   ]
  },
  {
   "cell_type": "code",
   "execution_count": null,
   "id": "f97d5db6-f546-4b63-a7fe-c768d882f4f7",
   "metadata": {},
   "outputs": [],
   "source": [
    "def touching_windowsv2(things, containers, window=0):\n",
    "    \"\"\"Return array of (start, exclusive end) indices into things which extend\n",
    "    to within window of the container, for each container in containers.\n",
    "    :param things: Sorted array of interval-like data\n",
    "    :param containers: Sorted array of interval-like data\n",
    "    :param window: threshold distance for touching check\n",
    "    For example:\n",
    "       - window = 0: things must overlap one sample\n",
    "       - window = -1: things can start right after container ends\n",
    "         (i.e. container endtime equals the thing starttime, since strax\n",
    "          endtimes are exclusive)\n",
    "    \"\"\"\n",
    "    return _touching_windows(\n",
    "        things['time'], things['endtime'],\n",
    "        containers['s1_time'], containers['s2_endtime'],#(containers),\n",
    "        window=window)\n",
    "\n",
    "\n",
    "#@numba.njit(nogil=True, cache=True)\n",
    "def _touching_windows(thing_start, thing_end,\n",
    "                      container_start, container_end,\n",
    "                      window=0):\n",
    "    result = np.zeros((len(container_start), 2), dtype=np.int32)\n",
    "    n = len(thing_start)\n",
    "    left_i = right_i = 0\n",
    "\n",
    "    for i, t0 in enumerate(container_start):\n",
    "        t1 = container_end[i]\n",
    "\n",
    "        while left_i <= n - 1 and thing_end[left_i] <= t0 - window:\n",
    "            # left_i ends before the window starts (so it's still outside)\n",
    "            left_i += 1\n",
    "        # Now left_i is the first index inside the window\n",
    "        # -- unless it is outside the array, in which case right_i\n",
    "        # will also be.\n",
    "\n",
    "        while right_i <= n - 1 and thing_start[right_i] < t1 + window:\n",
    "            # right_i starts before the window ends (so it could be inside)\n",
    "            right_i += 1\n",
    "        # Now right_i is the last index inside the window\n",
    "        # or outside the array.\n",
    "\n",
    "        result[i] = left_i, right_i\n",
    "\n",
    "    return result"
   ]
  },
  {
   "cell_type": "code",
   "execution_count": null,
   "id": "a159c791-81e7-4814-bef1-f6f14575d0af",
   "metadata": {},
   "outputs": [],
   "source": [
    "def touch_window(thing_start, \n",
    "                 container_start, container_end,\n",
    "                 window=0):\n",
    "    result = np.zeros((len(container_start), 2), dtype=np.int32)\n",
    "    n = len(thing_start)\n",
    "    left_i = right_i = 0\n",
    "\n",
    "    for i, t0 in enumerate(container_start):\n",
    "        t1 = container_end[i]\n",
    "        \n",
    "        #ignore data as long as the endtime of the peaklets is less than the start time of the container\n",
    "        while left_i <= n - 1 and thing_end[left_i] <= t0 - window:\n",
    "            # left_i ends before the window starts (so it's still outside)\n",
    "            left_i += 1\n",
    "        # Now left_i is the first index inside the window\n",
    "        # -- unless it is outside the array, in which case right_i\n",
    "        # will also be.\n",
    "\n",
    "        while right_i <= n - 1 and thing_start[right_i] < t1 + window:\n",
    "            # right_i starts before the window ends (so it could be inside)\n",
    "            right_i += 1\n",
    "        # Now right_i is the last index inside the window\n",
    "        # or outside the array.\n",
    "\n",
    "        result[i] = left_i, right_i\n",
    "\n",
    "    return result"
   ]
  },
  {
   "cell_type": "code",
   "execution_count": null,
   "id": "737098ce-bfb2-45f0-b4ab-1a25d11e6254",
   "metadata": {},
   "outputs": [],
   "source": [
    "def get_data_in_time_window(peaklets_start, peak_window_start, peak_window_end, time_resets):\n",
    "    '''\n",
    "    The purpose of this function is to return the indecies of the peaklets which fall within the time\n",
    "    range of two peaks, the qualification for this is that the peaklets start time is within the desired\n",
    "    time frame (possibly questionable assumption, specially for S2s)\n",
    "    '''\n",
    "    result = np.zeros((len(peak_window_start), 2), dtype=np.int32)\n",
    "    n = len(peaklets_start)\n",
    "    time_index = endtime_index = 0 #indecies of peaklets to check\n",
    "    time_check = 0 #index to reset the time when needed\n",
    "    \n",
    "\n",
    "    \n",
    "    for i, t0 in enumerate(peak_window_start):\n",
    "        if time_resets[time_check] == i:\n",
    "            time_index = endtime_index = 0 #reset the timer once in a while since that data is not all organizing according to time\n",
    "            time_check += 1\n",
    "            print(\"Reset number \" + str(time_check))\n",
    "            \n",
    "        #gap_start = 0\n",
    "        #gap_end = 0\n",
    "        while peaklets_start[time_index] < t0:\n",
    "            time_index += 1\n",
    "            \n",
    "        #gap_start = i\n",
    "        endtime_index = time_index\n",
    "        while peaklets_start[endtime_index] < peak_window_end[i]:\n",
    "            endtime_index += 1\n",
    "            if endtime_index == len(peaklets_start):\n",
    "                break\n",
    "            \n",
    "        result[i] = time_index, endtime_index\n",
    "        \n",
    "    return result\n",
    "        "
   ]
  },
  {
   "cell_type": "code",
   "execution_count": null,
   "id": "eb7bf8ef-b3b9-46d3-8eca-bf3349b5029d",
   "metadata": {},
   "outputs": [],
   "source": [
    "help(st.make)"
   ]
  },
  {
   "cell_type": "code",
   "execution_count": null,
   "id": "7689dcd9-9b16-470b-b2c5-ab285b27a2ea",
   "metadata": {},
   "outputs": [],
   "source": [
    "kr_events_all.s1_time - kr_events_all.time"
   ]
  },
  {
   "cell_type": "code",
   "execution_count": null,
   "id": "f2d920d0-6db2-4f15-a26c-dfed0b913ea8",
   "metadata": {},
   "outputs": [],
   "source": [
    "s1t_t = kr_events_all.s1_time - kr_events_all.time"
   ]
  },
  {
   "cell_type": "code",
   "execution_count": null,
   "id": "00f9b99b-dfd7-46d8-87ff-9cb62ee8a893",
   "metadata": {},
   "outputs": [],
   "source": [
    "np.where(s1t_t == np.min(s1t_t))"
   ]
  },
  {
   "cell_type": "code",
   "execution_count": null,
   "id": "67da70ed-b8ad-42ff-9c5c-55f03cea7e2d",
   "metadata": {},
   "outputs": [],
   "source": [
    "np.min(s2t_t[1:-10])"
   ]
  },
  {
   "cell_type": "code",
   "execution_count": null,
   "id": "4b0c934e-b84c-4e62-b09a-6c1695f3fb0c",
   "metadata": {},
   "outputs": [],
   "source": [
    "s2t_t[20:30]"
   ]
  },
  {
   "cell_type": "code",
   "execution_count": null,
   "id": "9181e3f0-1247-47c8-ad10-df348c9891e2",
   "metadata": {},
   "outputs": [],
   "source": [
    "np.min(s2t_t[1:])"
   ]
  },
  {
   "cell_type": "code",
   "execution_count": null,
   "id": "0d3d7d68-43f2-4386-b3c1-63ab8b048dd1",
   "metadata": {},
   "outputs": [],
   "source": [
    "np.max(s2t_t[1:])"
   ]
  },
  {
   "cell_type": "code",
   "execution_count": null,
   "id": "44b1e7ac-75e7-471d-a3fd-6e6c507ccda9",
   "metadata": {},
   "outputs": [],
   "source": [
    "s2et_et = kr_events_all.endtime - kr_events_all.s2_endtime"
   ]
  },
  {
   "cell_type": "code",
   "execution_count": null,
   "id": "3278926c-7854-474d-9448-cfc22648f663",
   "metadata": {},
   "outputs": [],
   "source": [
    "s2et_et"
   ]
  },
  {
   "cell_type": "code",
   "execution_count": null,
   "id": "6c53bb56-7db6-4550-a11a-4659a225f7f1",
   "metadata": {},
   "outputs": [],
   "source": [
    "np.max(s2et_et)"
   ]
  },
  {
   "cell_type": "code",
   "execution_count": null,
   "id": "8bb3892b-6572-4099-a421-73e9b2ed3d30",
   "metadata": {},
   "outputs": [],
   "source": [
    "np.min(s2et_et)"
   ]
  },
  {
   "cell_type": "code",
   "execution_count": null,
   "id": "f46a8b4a-e55e-4c6c-8885-4284e908d3f0",
   "metadata": {},
   "outputs": [],
   "source": [
    "kr_events_array = st.get_array(cal_run_id, targets =('events', 'cut_Kr_SingleS1S2', 'cut_Kr_DoubleS1_SingleS2'))"
   ]
  },
  {
   "cell_type": "code",
   "execution_count": null,
   "id": "a5fae568-dc06-4499-a8ad-32cfb4608a24",
   "metadata": {},
   "outputs": [],
   "source": [
    "print(cutax.cut_versions(st).to_string(index=False))"
   ]
  },
  {
   "cell_type": "code",
   "execution_count": null,
   "id": "3ac863f1-fbc4-4ae3-8b0b-50ddd15139b8",
   "metadata": {},
   "outputs": [],
   "source": [
    "kr_events_array"
   ]
  },
  {
   "cell_type": "code",
   "execution_count": null,
   "id": "8339d869-afda-4cc0-8a56-972e7a5df43d",
   "metadata": {},
   "outputs": [],
   "source": [
    "kr_peaklets_array = st.get_array(cal_run_id, targets =('peaklets'))"
   ]
  },
  {
   "cell_type": "code",
   "execution_count": null,
   "id": "2cd6dbe5-495c-4506-9583-84501e6434fb",
   "metadata": {},
   "outputs": [],
   "source": [
    "kr_pb_array = st.get_array(cal_run_id, targets =('peak_basics'))"
   ]
  },
  {
   "cell_type": "code",
   "execution_count": null,
   "id": "fe437c20-47d6-4a35-a1d5-c72b0ca2e6a2",
   "metadata": {},
   "outputs": [],
   "source": [
    "kr_eb_array = st.get_array(cal_run_id, targets =('event_basics'))"
   ]
  },
  {
   "cell_type": "code",
   "execution_count": null,
   "id": "a5a6c630-d354-4cef-9062-d2dac1e65393",
   "metadata": {},
   "outputs": [],
   "source": [
    "kr_eb_df = st.get_df(cal_run_id, targets =('event_basics'))"
   ]
  },
  {
   "cell_type": "code",
   "execution_count": null,
   "id": "6198ba17-7ba9-4b95-a814-a6d197114ec7",
   "metadata": {},
   "outputs": [],
   "source": [
    "kr_peaklets = st.get_array(cal_run_id, targets =('peaklets'))"
   ]
  },
  {
   "cell_type": "code",
   "execution_count": null,
   "id": "a65ec5b2-d8f4-4849-95a7-7ee752631d0c",
   "metadata": {},
   "outputs": [],
   "source": [
    "len(kr_peaklets)"
   ]
  },
  {
   "cell_type": "code",
   "execution_count": null,
   "id": "6c12c966-44a1-4799-a210-fd09f2588c6e",
   "metadata": {},
   "outputs": [],
   "source": [
    "len(kr_peaks)"
   ]
  },
  {
   "cell_type": "code",
   "execution_count": null,
   "id": "819ed2bb-e2c7-43c2-b406-9b9f1d6fd739",
   "metadata": {},
   "outputs": [],
   "source": [
    "kr_peaklets.dtype"
   ]
  },
  {
   "cell_type": "code",
   "execution_count": null,
   "id": "0ba89b12-0569-4078-879a-c65fe8e84cd9",
   "metadata": {},
   "outputs": [],
   "source": [
    "fig = plt.figure(figsize=(12,6))\n",
    "plt.scatter(kr_peaklets['area'], kr_peaklets['rise_time'], s=0.1, color = 'blue', alpha = 0.5)\n",
    "#plt.scatter(kr_pb_array['area'][kr_pb_array['type'] == 1], kr_pb_array['rise_time'][kr_pb_array['type'] == 1], s=0.1, color = 'blue')\n",
    "plt.xscale('log')\n",
    "plt.yscale('log')\n",
    "plt.xlabel('Area')\n",
    "plt.ylabel('Rise Time')\n",
    "plt.xlim(1,1000000)\n",
    "plt.ylim(1,100000)"
   ]
  },
  {
   "cell_type": "code",
   "execution_count": null,
   "id": "910cec1c-6924-4b06-a12f-d85a29ef24a1",
   "metadata": {},
   "outputs": [],
   "source": [
    "np.unique(kr_peaklets['type'])"
   ]
  },
  {
   "cell_type": "code",
   "execution_count": null,
   "id": "ea5e7b78-97aa-44d1-8d1b-59b11f994b8f",
   "metadata": {},
   "outputs": [],
   "source": [
    "kr_eb_array['time']"
   ]
  },
  {
   "cell_type": "code",
   "execution_count": null,
   "id": "70f27fc6-161f-4e79-b165-0dd75b09e7e5",
   "metadata": {},
   "outputs": [],
   "source": [
    "kr_eb_array['endtime']"
   ]
  },
  {
   "cell_type": "code",
   "execution_count": null,
   "id": "b4019285-4e84-4ce0-94a0-1b8eeaef9d17",
   "metadata": {},
   "outputs": [],
   "source": [
    "kr_eb_array['s1_time']"
   ]
  },
  {
   "cell_type": "code",
   "execution_count": null,
   "id": "38a0180e-0a0c-457b-931d-5ba25f9390df",
   "metadata": {},
   "outputs": [],
   "source": [
    "kr_eb_array['s2_endtime']"
   ]
  },
  {
   "cell_type": "code",
   "execution_count": null,
   "id": "588342d4-6bbc-4099-83b8-775622363258",
   "metadata": {},
   "outputs": [],
   "source": [
    "kr_eb_array['endtime'] - kr_eb_array['s2_endtime']"
   ]
  },
  {
   "cell_type": "code",
   "execution_count": null,
   "id": "8435e23b-b79b-4122-ae6d-a236d874d618",
   "metadata": {},
   "outputs": [],
   "source": [
    "event_t_minus_s1t = kr_eb_array['time'] - kr_eb_array['s1_time']"
   ]
  },
  {
   "cell_type": "code",
   "execution_count": null,
   "id": "6ca88e3d-c02d-4b90-9662-047e940f44e8",
   "metadata": {},
   "outputs": [],
   "source": [
    "event_t_minus_s1t"
   ]
  },
  {
   "cell_type": "code",
   "execution_count": null,
   "id": "a90672fe-dfa2-4a23-9eae-402750c819a9",
   "metadata": {},
   "outputs": [],
   "source": [
    "np.min(event_t_minus_s1t[1:])"
   ]
  },
  {
   "cell_type": "code",
   "execution_count": null,
   "id": "1de24741-b9ae-4c3b-ada4-f2f00b962640",
   "metadata": {},
   "outputs": [],
   "source": [
    "peak_pro = st.get_array(cal_run_id,'peak_proximity')"
   ]
  },
  {
   "cell_type": "code",
   "execution_count": null,
   "id": "38c1b17c-03a7-4ad3-9b82-6623f5150703",
   "metadata": {},
   "outputs": [],
   "source": [
    "kr_events_array[kr_events_array['cut_Kr_SingleS1S2'] == True]"
   ]
  },
  {
   "cell_type": "code",
   "execution_count": null,
   "id": "80e5e2a3-bdce-46a5-9828-f9e659eaf9d1",
   "metadata": {},
   "outputs": [],
   "source": [
    "kr_events_array[1:10]"
   ]
  },
  {
   "cell_type": "code",
   "execution_count": null,
   "id": "0dd17619-5508-4379-8d73-16b371c84340",
   "metadata": {},
   "outputs": [],
   "source": [
    "kr_eb_array['s1_time']"
   ]
  },
  {
   "cell_type": "code",
   "execution_count": null,
   "id": "0da6c62b-d25b-4f73-b746-d2e89c064acd",
   "metadata": {},
   "outputs": [],
   "source": [
    "kr_eb_array['s1_time'][20:30]"
   ]
  },
  {
   "cell_type": "code",
   "execution_count": null,
   "id": "7beec86f-916d-4eb6-9a5e-949b297212ae",
   "metadata": {},
   "outputs": [],
   "source": [
    "g = kr_eb_array[kr_events_array['cut_Kr_SingleS1S2'] == True]"
   ]
  },
  {
   "cell_type": "code",
   "execution_count": null,
   "id": "d4f29116-dd21-4a17-9431-148354bca874",
   "metadata": {},
   "outputs": [],
   "source": [
    "w2 = touching_windowsv2(kr_pb_array, g)"
   ]
  },
  {
   "cell_type": "code",
   "execution_count": null,
   "id": "67f8cfc6-dc31-49da-802f-31c090090a9f",
   "metadata": {},
   "outputs": [],
   "source": [
    "s2= kr_pb_array[kr_pb_array['type']== 2]"
   ]
  },
  {
   "cell_type": "code",
   "execution_count": null,
   "id": "9544c750-4598-4724-861b-6b512f8d78c3",
   "metadata": {},
   "outputs": [],
   "source": [
    "s2s = touching_windowsv2(s2, kr_eb_array[kr_events_array['cut_Kr_SingleS1S2'] == True])"
   ]
  },
  {
   "cell_type": "code",
   "execution_count": null,
   "id": "831deb6c-f48c-42f4-9b9f-8277679d57e3",
   "metadata": {},
   "outputs": [],
   "source": [
    "fig = plt.figure(figsize=(12,6))\n",
    "plt.scatter(s2['area'][s2s], s2['rise_time'][s2s], s=0.1, color = 'blue', alpha = 0.5)\n",
    "#plt.scatter(kr_pb_array['area'][kr_pb_array['type'] == 1], kr_pb_array['rise_time'][kr_pb_array['type'] == 1], s=0.1, color = 'blue')\n",
    "plt.xscale('log')\n",
    "plt.yscale('log')\n",
    "plt.xlabel('Area')\n",
    "plt.ylabel('Rise Time')\n",
    "plt.xlim(1,1000000)\n",
    "plt.ylim(1,100000)"
   ]
  },
  {
   "cell_type": "code",
   "execution_count": null,
   "id": "f42883b3-ad87-40a5-b6cc-6d2474cb5d9b",
   "metadata": {},
   "outputs": [],
   "source": [
    "cal_run_id = '034373'\n",
    "kr_events_array = st.get_array(cal_run_id, targets =('events', 'cut_Kr_SingleS1S2', 'cut_Kr_DoubleS1_SingleS2'))\n",
    "kr_pb_array = st.get_array(cal_run_id, targets =('peak_basics'))\n",
    "window1 = strax.touching_windows(kr_pb_array, kr_events_array[kr_events_array['cut_Kr_SingleS1S2'] == True])\n",
    "store_values = []\n",
    "for i in np.arange(len(window1)):\n",
    "    store_values.append(np.arange(int(window1[i,0]), window1[i,1]+1))\n",
    "    \n",
    "values = np.concatenate(store_values)\n",
    "fig = plt.figure(figsize=(12,6))\n",
    "plt.scatter(kr_pb_array['area'][values], kr_pb_array['rise_time'][values], s=0.1, color = 'blue', alpha = 0.5)\n",
    "#plt.scatter(kr_pb_array['area'][kr_pb_array['type'] == 1], kr_pb_array['rise_time'][kr_pb_array['type'] == 1], s=0.1, color = 'blue')\n",
    "plt.xscale('log')\n",
    "plt.yscale('log')\n",
    "plt.xlabel('Area')\n",
    "plt.ylabel('Rise Time')\n",
    "plt.xlim(1,1000000)\n",
    "plt.ylim(1,100000)"
   ]
  },
  {
   "cell_type": "code",
   "execution_count": null,
   "id": "629c0580-dd19-4416-9a99-4485d21794ba",
   "metadata": {},
   "outputs": [],
   "source": [
    "kr_cleaning = kr_pb_array[values]\n",
    "kr_s1 = kr_cleaning[kr_cleaning['type'] == 1]\n",
    "kr_s2 = kr_cleaning[kr_cleaning['type'] == 2]"
   ]
  },
  {
   "cell_type": "code",
   "execution_count": null,
   "id": "6930f1cc-0e26-40af-a77b-31aeee4bc2e0",
   "metadata": {},
   "outputs": [],
   "source": [
    "fig = plt.figure(figsize=(12,6))\n",
    "plt.scatter(kr_s1['area'], kr_s1['rise_time'], s=0.1, color = 'blue', alpha = 0.5)\n",
    "plt.scatter(kr_s2['area'], kr_s2['rise_time'], s=0.1, color = 'green', alpha = 0.5)\n",
    "#plt.scatter(kr_pb_array['area'][kr_pb_array['type'] == 1], kr_pb_array['rise_time'][kr_pb_array['type'] == 1], s=0.1, color = 'blue')\n",
    "plt.xscale('log')\n",
    "plt.yscale('log')\n",
    "plt.xlabel('Area')\n",
    "plt.ylabel('Rise Time')\n",
    "plt.xlim(1,1000000)\n",
    "plt.ylim(1,100000)"
   ]
  },
  {
   "cell_type": "code",
   "execution_count": null,
   "id": "70ff1f8b-ed6c-4bdf-aad6-c5c34e08a61d",
   "metadata": {},
   "outputs": [],
   "source": [
    "fig = plt.figure(figsize=(12,6))\n",
    "plt.scatter(kr_s1[kr_s1['area'] > 100]['area'], kr_s1[kr_s1['area'] > 100]['rise_time'], s=0.1, color = 'blue', alpha = 0.5)\n",
    "plt.scatter(kr_s2[kr_s2['area'] > 100]['area'], kr_s2[kr_s2['area'] > 100]['rise_time'], s=0.1, color = 'green', alpha = 0.5)\n",
    "#plt.scatter(kr_pb_array['area'][kr_pb_array['type'] == 1], kr_pb_array['rise_time'][kr_pb_array['type'] == 1], s=0.1, color = 'blue')\n",
    "plt.xscale('log')\n",
    "plt.yscale('log')\n",
    "plt.xlabel('Area')\n",
    "plt.ylabel('Rise Time')\n",
    "plt.xlim(1,1000000)\n",
    "plt.ylim(1,100000)"
   ]
  },
  {
   "cell_type": "code",
   "execution_count": null,
   "id": "8f8e25c3-ebeb-473e-a4cf-d1cc87a1d352",
   "metadata": {},
   "outputs": [],
   "source": [
    "np.append(kr_s1, )"
   ]
  },
  {
   "cell_type": "code",
   "execution_count": null,
   "id": "f8f03126-d504-42a2-b1e4-10e5a5909098",
   "metadata": {},
   "outputs": [],
   "source": [
    "cal_run_id = '034373'\n",
    "kr_events_array2 = st.get_array(cal_run_id, targets =('events', 'cut_Kr_SingleS1S2', 'cut_Kr_DoubleS1_SingleS2'))\n",
    "kr_pb_array2 = st.get_array(cal_run_id, targets =('peak_basics'))\n",
    "window2 = strax.touching_windows(kr_pb_array2, kr_events_array2[kr_events_array2['cut_Kr_DoubleS1_SingleS2'] == True])\n",
    "store_values2 = []\n",
    "for i in np.arange(len(window2)):\n",
    "    store_values2.append(np.arange(int(window2[i,0]), window2[i,1]))\n",
    "    \n",
    "values2 = np.concatenate(store_values2)\n",
    "fig = plt.figure(figsize=(12,6))\n",
    "plt.scatter(kr_pb_df['area'][values2], kr_pb_df['rise_time'][values2], s=0.1, color = 'blue', alpha = 0.5)\n",
    "#plt.scatter(kr_pb_array['area'][kr_pb_array['type'] == 1], kr_pb_array['rise_time'][kr_pb_array['type'] == 1], s=0.1, color = 'blue')\n",
    "plt.xscale('log')\n",
    "plt.yscale('log')\n",
    "plt.xlabel('Area')\n",
    "plt.ylabel('Rise Time')\n",
    "plt.xlim(1,1000000)\n",
    "plt.ylim(1,100000)"
   ]
  },
  {
   "cell_type": "code",
   "execution_count": null,
   "id": "09e4372a-c987-43b8-816e-1051f0fc99fb",
   "metadata": {},
   "outputs": [],
   "source": [
    "values2"
   ]
  },
  {
   "cell_type": "code",
   "execution_count": null,
   "id": "5a857741-2978-472c-8079-6ca5e18321c8",
   "metadata": {},
   "outputs": [],
   "source": [
    "kr_singleS1S2_df = kr_pb_df.iloc[values]"
   ]
  },
  {
   "cell_type": "code",
   "execution_count": null,
   "id": "d0c9c493-abde-4b54-9864-498dae899c16",
   "metadata": {},
   "outputs": [],
   "source": [
    "kr_singleS1S2_df_s1 = kr_singleS1S2_df[kr_singleS1S2_df['area'] > 200]\n",
    "kr_singleS1S2_df_s1 = kr_singleS1S2_df_s1[kr_singleS1S2_df_s1['area'] < 1000]\n",
    "kr_singleS1S2_df_s1 = kr_singleS1S2_df_s1[kr_singleS1S2_df_s1['rise_time'] > 30]\n",
    "kr_singleS1S2_df_s1 = kr_singleS1S2_df_s1[kr_singleS1S2_df_s1['rise_time'] < 200]"
   ]
  },
  {
   "cell_type": "code",
   "execution_count": null,
   "id": "3b136113-377e-4793-945b-64f5c1f718a3",
   "metadata": {},
   "outputs": [],
   "source": [
    "kr_singleS1S2_df_s2 = kr_singleS1S2_df[kr_singleS1S2_df['area'] > 3000]\n",
    "kr_singleS1S2_df_s2 = kr_singleS1S2_df_s2[kr_singleS1S2_df_s2['area'] < 20000]\n",
    "kr_singleS1S2_df_s2 = kr_singleS1S2_df_s2[kr_singleS1S2_df_s2['rise_time'] > 200]\n",
    "kr_singleS1S2_df_s2 = kr_singleS1S2_df_s2[kr_singleS1S2_df_s2['rise_time'] < 20000]"
   ]
  },
  {
   "cell_type": "code",
   "execution_count": null,
   "id": "bf8a2471-16d1-4fbb-a88b-e743da3d795b",
   "metadata": {},
   "outputs": [],
   "source": [
    "kr_dS1sS2_df = kr_pb_df.iloc[values2]"
   ]
  },
  {
   "cell_type": "code",
   "execution_count": null,
   "id": "5a2f0d8e-31be-4f60-8d20-c318cb814754",
   "metadata": {},
   "outputs": [],
   "source": [
    "kr_dS1sS2_df_s1 = kr_dS1sS2_df[kr_dS1sS2_df['area'] > 40]\n",
    "kr_dS1sS2_df_s1 = kr_dS1sS2_df_s1[kr_dS1sS2_df_s1['area'] < 600]\n",
    "kr_dS1sS2_df_s1 = kr_dS1sS2_df_s1[kr_dS1sS2_df_s1['rise_time'] > 20]\n",
    "kr_dS1sS2_df_s1 = kr_dS1sS2_df_s1[kr_dS1sS2_df_s1['rise_time'] < 100]"
   ]
  },
  {
   "cell_type": "code",
   "execution_count": null,
   "id": "c8faeddc-bdc0-4b39-80cf-6ee3fb45d2aa",
   "metadata": {},
   "outputs": [],
   "source": [
    "kr_dS1sS2_df_s2 = kr_dS1sS2_df[kr_dS1sS2_df['area'] > 3000]\n",
    "#kr_dS1sS2_df_s2 = kr_dS1sS2_df_s2[kr_dS1sS2_df_s2['area'] < 600]\n",
    "kr_dS1sS2_df_s2 = kr_dS1sS2_df_s2[kr_dS1sS2_df_s2['rise_time'] > 100]\n",
    "#kr_dS1sS2_df_s2 = kr_dS1sS2_df_s2[kr_dS1sS2_df_s2['rise_time'] < 100]"
   ]
  },
  {
   "cell_type": "code",
   "execution_count": null,
   "id": "9f4c9437-df3c-47ff-a9b1-fd0d17063dde",
   "metadata": {},
   "outputs": [],
   "source": [
    "len(kr_singleS1S2_df_s1)"
   ]
  },
  {
   "cell_type": "code",
   "execution_count": null,
   "id": "532f2c84-749a-44dd-8dc9-6e02d8e28e56",
   "metadata": {},
   "outputs": [],
   "source": [
    "fig = plt.figure(figsize=(12,6))\n",
    "plt.scatter(kr_singleS1S2_df_s1['area'], kr_singleS1S2_df_s1['rise_time'], s=0.1, color = 'blue', alpha = 0.5)\n",
    "plt.scatter(kr_singleS1S2_df_s2['area'], kr_singleS1S2_df_s2['rise_time'], s=0.1, color = 'green', alpha = 0.5)\n",
    "#plt.scatter(kr_pb_array['area'][kr_pb_array['type'] == 1], kr_pb_array['rise_time'][kr_pb_array['type'] == 1], s=0.1, color = 'blue')\n",
    "plt.xscale('log')\n",
    "plt.yscale('log')\n",
    "plt.xlabel('Area')\n",
    "plt.ylabel('Rise Time')\n",
    "plt.xlim(1,1000000)\n",
    "plt.ylim(1,100000)"
   ]
  },
  {
   "cell_type": "code",
   "execution_count": null,
   "id": "b5344cb2-ddd1-4d3b-9631-17426940c5c0",
   "metadata": {},
   "outputs": [],
   "source": [
    "fig = plt.figure(figsize=(12,6))\n",
    "plt.scatter(kr_dS1sS2_df_s1['area'], kr_dS1sS2_df_s1['rise_time'], s=0.1, color = 'blue', alpha = 0.5)\n",
    "plt.scatter(kr_dS1sS2_df_s2['area'], kr_dS1sS2_df_s2['rise_time'], s=0.1, color = 'green', alpha = 0.5)\n",
    "#plt.scatter(kr_pb_array['area'][kr_pb_array['type'] == 1], kr_pb_array['rise_time'][kr_pb_array['type'] == 1], s=0.1, color = 'blue')\n",
    "plt.xscale('log')\n",
    "plt.yscale('log')\n",
    "plt.xlabel('Area')\n",
    "plt.ylabel('Rise Time')\n",
    "plt.xlim(1,1000000)\n",
    "plt.ylim(1,100000)"
   ]
  },
  {
   "cell_type": "code",
   "execution_count": null,
   "id": "32725207-34d8-493c-8507-c9dc17603da9",
   "metadata": {},
   "outputs": [],
   "source": [
    "start_time_kr = np.zeros(len(kr_singleS1S2_df_s1)+len(kr_singleS1S2_df_s2)+len(kr_dS1sS2_df_s1)+len(kr_dS1sS2_df_s2), dtype = int)\n",
    "endtime_kr = np.zeros(len(kr_singleS1S2_df_s1)+len(kr_singleS1S2_df_s2)+len(kr_dS1sS2_df_s1)+len(kr_dS1sS2_df_s2), dtype = int)"
   ]
  },
  {
   "cell_type": "code",
   "execution_count": null,
   "id": "4f771d81-736b-4a7c-aeef-b5798097f9c8",
   "metadata": {},
   "outputs": [],
   "source": [
    "#mark start time of krypton events starting with S1s\n",
    "start_time_kr[:len(kr_singleS1S2_df_s1)] = kr_singleS1S2_df_s1['time']\n",
    "start_time_kr[len(kr_singleS1S2_df_s1):len(kr_dS1sS2_df_s1)+len(kr_singleS1S2_df_s1)] = kr_dS1sS2_df_s1['time']\n",
    "start_time_kr[len(kr_singleS1S2_df_s1)+len(kr_dS1sS2_df_s1):len(kr_singleS1S2_df_s1)+len(kr_dS1sS2_df_s1)+len(kr_singleS1S2_df_s2)] = kr_singleS1S2_df_s2['time']\n",
    "start_time_kr[len(kr_singleS1S2_df_s1)+len(kr_dS1sS2_df_s1)+len(kr_singleS1S2_df_s2):] = kr_dS1sS2_df_s2['time']"
   ]
  },
  {
   "cell_type": "code",
   "execution_count": null,
   "id": "1f32c8fe-e45a-45fa-bcc8-c6362be3c057",
   "metadata": {},
   "outputs": [],
   "source": [
    "#mark endtime of krypton events starting with S1s\n",
    "endtime_kr[:len(kr_singleS1S2_df_s1)] = kr_singleS1S2_df_s1['endtime']\n",
    "endtime_kr[len(kr_singleS1S2_df_s1):len(kr_dS1sS2_df_s1)+len(kr_singleS1S2_df_s1)] = kr_dS1sS2_df_s1['endtime']\n",
    "endtime_kr[len(kr_singleS1S2_df_s1)+len(kr_dS1sS2_df_s1):len(kr_singleS1S2_df_s1)+len(kr_dS1sS2_df_s1)+len(kr_singleS1S2_df_s2)] = kr_singleS1S2_df_s2['endtime']\n",
    "endtime_kr[len(kr_singleS1S2_df_s1)+len(kr_dS1sS2_df_s1)+len(kr_singleS1S2_df_s2):] = kr_dS1sS2_df_s2['endtime']"
   ]
  },
  {
   "cell_type": "markdown",
   "id": "6c35b080-38ca-4606-ac7e-dafbd02b6478",
   "metadata": {},
   "source": [
    "Now that I have the krypton peaks by time lets get the overall data and their times with this"
   ]
  },
  {
   "cell_type": "code",
   "execution_count": null,
   "id": "9fc4b644-7207-4c32-96ea-a3122208e34b",
   "metadata": {},
   "outputs": [],
   "source": [
    "fig = plt.figure(figsize=(12,6))\n",
    "plt.scatter(kr_singleS1S2_df_s1['area'], kr_singleS1S2_df_s1['rise_time'], s=0.1, color = 'blue', alpha = 0.5)\n",
    "plt.scatter(kr_singleS1S2_df_s2['area'], kr_singleS1S2_df_s2['rise_time'], s=0.1, color = 'green', alpha = 0.5)\n",
    "plt.scatter(kr_dS1sS2_df_s1['area'], kr_dS1sS2_df_s1['rise_time'], s=0.1, color = 'cyan', alpha = 0.5)\n",
    "plt.scatter(kr_dS1sS2_df_s2['area'], kr_dS1sS2_df_s2['rise_time'], s=0.1, color = 'lime', alpha = 0.5)\n",
    "#plt.scatter(kr_pb_array['area'][kr_pb_array['type'] == 1], kr_pb_array['rise_time'][kr_pb_array['type'] == 1], s=0.1, color = 'blue')\n",
    "plt.xscale('log')\n",
    "plt.yscale('log')\n",
    "plt.xlabel('Area')\n",
    "plt.ylabel('Rise Time')\n",
    "plt.xlim(1,1000000)\n",
    "plt.ylim(1,100000)"
   ]
  },
  {
   "cell_type": "code",
   "execution_count": null,
   "id": "f22aee0e-c325-4ec8-a689-1cd9a87c984b",
   "metadata": {},
   "outputs": [],
   "source": [
    "kr_s1_sS1S2 = []\n",
    "len_sS1S2_s1 = len(kr_singleS1S2_df_s1)\n",
    "len_dS1sS2_s1 = len(kr_dS1sS2_df_s1)\n",
    "len_sS1S2_s2 = len(kr_singleS1S2_df_s2)\n",
    "len_dS1sS2_s2 = len(kr_dS1sS2_df_s2)\n",
    "for idx in kr_singleS1S2_df_s1.index:\n",
    "    kr_s1_sS1S2.append(idx) #single S1\n",
    "for idx2 in kr_dS1sS2_df_s1.index:\n",
    "    kr_s1_sS1S2.append(idx2) #double S1\n",
    "for idx3 in kr_singleS1S2_df_s2.index:\n",
    "    kr_s1_sS1S2.append(idx3) #single S2 from single S1\n",
    "for idx4 in kr_dS1sS2_df_s2.index:\n",
    "    kr_s1_sS1S2.append(idx4) #single s2 from double S1"
   ]
  },
  {
   "cell_type": "code",
   "execution_count": null,
   "id": "5b01e168-96b8-4b11-a925-13f28d2216ae",
   "metadata": {},
   "outputs": [],
   "source": [
    "s1s_num = len(kr_singleS1S2_df_s1) + len(kr_dS1sS2_df_s1)\n",
    "S2s_num = len(kr_singleS1S2_df_s2) + len(kr_dS1sS2_df_s2)"
   ]
  },
  {
   "cell_type": "code",
   "execution_count": null,
   "id": "a7e05f71-f6b0-4669-8cc9-e58c63945686",
   "metadata": {},
   "outputs": [],
   "source": [
    "S2s_num"
   ]
  },
  {
   "cell_type": "code",
   "execution_count": null,
   "id": "1ef28361-e972-42ee-bdf2-76f91e936f50",
   "metadata": {},
   "outputs": [],
   "source": [
    "#kr_s1_sS1S2"
   ]
  },
  {
   "cell_type": "code",
   "execution_count": null,
   "id": "c26363f8-2ff6-456a-8621-ac01218e5e48",
   "metadata": {},
   "outputs": [],
   "source": [
    "s1s_num"
   ]
  },
  {
   "cell_type": "code",
   "execution_count": null,
   "id": "318c5014-ec24-40b9-b992-a78d9dfdb167",
   "metadata": {},
   "outputs": [],
   "source": [
    "len(kr_singleS1S2_df_s1)"
   ]
  },
  {
   "cell_type": "code",
   "execution_count": null,
   "id": "abaf02f2-4bfc-4158-be3b-221f36c5bcde",
   "metadata": {},
   "outputs": [],
   "source": [
    "len(kr_s1_sS1S2)"
   ]
  },
  {
   "cell_type": "code",
   "execution_count": null,
   "id": "9efcad8f-b47e-4867-8c09-ece2c068e5af",
   "metadata": {},
   "outputs": [],
   "source": [
    "len(np.unique(kr_singleS1S2_df_s1))"
   ]
  },
  {
   "cell_type": "code",
   "execution_count": null,
   "id": "57bfe6b0-0876-4d9e-94b2-75c0ed1dd2a0",
   "metadata": {},
   "outputs": [],
   "source": [
    "len(kr_singleS1S2_df_s2)"
   ]
  },
  {
   "cell_type": "code",
   "execution_count": null,
   "id": "58940796-f8f3-4c43-bfde-a4726e0ef0d6",
   "metadata": {},
   "outputs": [],
   "source": [
    "len(kr_dS1sS2_df_s2)"
   ]
  },
  {
   "cell_type": "code",
   "execution_count": null,
   "id": "bfab5a59-26ee-439b-a130-7f379fd3dddb",
   "metadata": {},
   "outputs": [],
   "source": [
    "#kr_s1_sS1S2 indecies"
   ]
  },
  {
   "cell_type": "code",
   "execution_count": null,
   "id": "84fdb024-ee52-4466-95db-12046e4e63b3",
   "metadata": {},
   "outputs": [],
   "source": [
    "cal_run_id = '034373'\n",
    "kr_events_array2 = st.get_array(cal_run_id, targets =('events', 'cut_Kr_SingleS1S2', 'cut_Kr_DoubleS1_SingleS2'))\n",
    "kr_pb_array2 = st.get_array(cal_run_id, targets =('peak_basics'))\n",
    "window2 = strax.touching_windows(kr_pb_array2, kr_events_array2[kr_events_array2['cut_Kr_DoubleS1_SingleS2'] == True])\n",
    "store_values2 = []\n",
    "for i in np.arange(len(window2)):\n",
    "    store_values2.append(np.arange(int(window2[i,0]), window2[i,1]+1))\n",
    "    \n",
    "values2 = np.concatenate(store_values2)\n",
    "fig = plt.figure(figsize=(12,6))\n",
    "plt.scatter(kr_pb_array2['area'][values2], kr_pb_array2['rise_time'][values2], s=0.1, color = 'blue', alpha = 0.5)\n",
    "#plt.scatter(kr_pb_array['area'][kr_pb_array['type'] == 1], kr_pb_array['rise_time'][kr_pb_array['type'] == 1], s=0.1, color = 'blue')\n",
    "plt.xscale('log')\n",
    "plt.yscale('log')\n",
    "plt.xlabel('Area')\n",
    "plt.ylabel('Rise Time')\n",
    "plt.xlim(1,1000000)\n",
    "plt.ylim(1,100000)"
   ]
  },
  {
   "cell_type": "code",
   "execution_count": null,
   "id": "baec85ff-645c-4c1a-864a-1c65041c4846",
   "metadata": {},
   "outputs": [],
   "source": [
    "window1 = strax.touching_windows(kr_pb_array, kr_events_array[kr_events_array['cut_Kr_DoubleS1_SingleS2'] == True])"
   ]
  },
  {
   "cell_type": "code",
   "execution_count": null,
   "id": "4ec69d2e-6966-4315-b70f-65b39b26de69",
   "metadata": {},
   "outputs": [],
   "source": [
    "window2 = strax.touching_windows(kr_pb_array, kr_events_array[kr_events_array['cut_Kr_SingleS1S2'] == True])"
   ]
  },
  {
   "cell_type": "code",
   "execution_count": null,
   "id": "77b2a017-85a2-40b0-818f-bd4737e96ca5",
   "metadata": {},
   "outputs": [],
   "source": [
    "clean_peaks = peak_pro[peak_pro['n_competing_left']==0]"
   ]
  },
  {
   "cell_type": "code",
   "execution_count": null,
   "id": "41b49e8f-4b41-42e0-9a0f-bce32b590886",
   "metadata": {},
   "outputs": [],
   "source": [
    "clean_peaks"
   ]
  },
  {
   "cell_type": "code",
   "execution_count": null,
   "id": "0ae73a46-5bee-4db3-a4a3-4f8ee56cbe81",
   "metadata": {},
   "outputs": [],
   "source": [
    "s1 = kr_pb_array[kr_pb_array['type']==1]"
   ]
  },
  {
   "cell_type": "code",
   "execution_count": null,
   "id": "61485196-aaf1-4959-9b01-280e3ce77610",
   "metadata": {},
   "outputs": [],
   "source": [
    "s2 = kr_pb_array[kr_pb_array['type']==2]"
   ]
  },
  {
   "cell_type": "code",
   "execution_count": null,
   "id": "5c6f87d4-fd28-48d3-9351-09eafaf636c8",
   "metadata": {},
   "outputs": [],
   "source": [
    "s0 = kr_pb_array[kr_pb_array['type']==0]"
   ]
  },
  {
   "cell_type": "code",
   "execution_count": null,
   "id": "a456d231-7596-4465-8a7a-90ba69425e32",
   "metadata": {},
   "outputs": [],
   "source": [
    "s1_peaks = kr_peaks[kr_peaks['type'] == 1]\n",
    "s2_peaks = kr_peaks[kr_peaks['type'] == 2]"
   ]
  },
  {
   "cell_type": "code",
   "execution_count": null,
   "id": "6d313d87-d9a7-4e63-8e63-8ce859e18ef3",
   "metadata": {},
   "outputs": [],
   "source": [
    "save_s1=[] #give indecies in the S1 space as to the location of peaks\n",
    "for j in clean_peaks:\n",
    "    index = np.where(s1['time']==j['time']) \n",
    "    if len(index[0]) != 0:\n",
    "        save_s1.append(index[0][0])"
   ]
  },
  {
   "cell_type": "code",
   "execution_count": null,
   "id": "3884f871-6ff9-41d3-92eb-a6ddfd50e534",
   "metadata": {},
   "outputs": [],
   "source": [
    "save_s2=[]\n",
    "for j in clean_peaks:\n",
    "    index = np.where(s2['time']==j['time']) \n",
    "    if len(index[0]) != 0:\n",
    "        save_s2.append(index[0][0])"
   ]
  },
  {
   "cell_type": "code",
   "execution_count": null,
   "id": "6c6b542d-4990-4946-b634-8d29724bea28",
   "metadata": {},
   "outputs": [],
   "source": [
    "save_s=[]\n",
    "for j in clean_peaks:\n",
    "    index = np.where(s0['time']==j['time']) \n",
    "    if len(index[0]) != 0:\n",
    "        save_s.append(index[0][0])"
   ]
  },
  {
   "cell_type": "code",
   "execution_count": null,
   "id": "4eed3faa-7a99-4f64-94fb-cbe2d5710ec9",
   "metadata": {},
   "outputs": [],
   "source": [
    "s1=s1[save_s1]\n",
    "s2=s2[save_s2]\n",
    "#s0=s0[save_s]"
   ]
  },
  {
   "cell_type": "code",
   "execution_count": null,
   "id": "97bb7c6e-e126-406f-8627-9488dee83a87",
   "metadata": {},
   "outputs": [],
   "source": [
    "s1_peaks = s1_peaks[save_s1]\n",
    "s2_peaks = s2_peaks[save_s2]"
   ]
  },
  {
   "cell_type": "code",
   "execution_count": null,
   "id": "5d046131-0e2f-4eb4-a7b5-86dce2304601",
   "metadata": {},
   "outputs": [],
   "source": [
    "np.argwhere(kr_pb_array['time'] == s1_peaks['time'])"
   ]
  },
  {
   "cell_type": "code",
   "execution_count": null,
   "id": "f04d2d90-a09c-431a-821f-8e6916ced8f6",
   "metadata": {},
   "outputs": [],
   "source": [
    "def make_index_list_with_time(data, s_peaks):\n",
    "    total_num_indecies = len(s_peaks)\n",
    "    data_indecies = np.zeros(total_num_indecies)\n",
    "    for i in np.arange(total_num_indecies):\n",
    "        data_indecies[i] = np.argwhere(data['time'] == s_peaks['time'][i])\n",
    "        \n",
    "    return data_indecies"
   ]
  },
  {
   "cell_type": "code",
   "execution_count": null,
   "id": "5a47ac85-0616-4d81-a884-b241c5ecb3fa",
   "metadata": {},
   "outputs": [],
   "source": [
    "s1_index = make_index_list_with_time(kr_pb_array, s1)"
   ]
  },
  {
   "cell_type": "code",
   "execution_count": null,
   "id": "db4b279d-12e0-4356-87ef-59b7389cd6ee",
   "metadata": {},
   "outputs": [],
   "source": [
    "s2_index = make_index_list_with_time(kr_pb_array, s2)"
   ]
  },
  {
   "cell_type": "code",
   "execution_count": null,
   "id": "c3d45dd0-7752-4966-b4fb-37bc0b4159a4",
   "metadata": {},
   "outputs": [],
   "source": [
    "s1_index.astype(int)"
   ]
  },
  {
   "cell_type": "code",
   "execution_count": null,
   "id": "b4d56624-6b8d-453b-9336-408c81ec6775",
   "metadata": {},
   "outputs": [],
   "source": [
    "s2_index.astype(int)"
   ]
  },
  {
   "cell_type": "code",
   "execution_count": null,
   "id": "91c58e14-126a-4cdb-9579-7183329e5ca5",
   "metadata": {},
   "outputs": [],
   "source": [
    "bg_data = np.concatenate((s1_peaks, s2_peaks))"
   ]
  },
  {
   "cell_type": "code",
   "execution_count": null,
   "id": "2f688ed2-56f1-4428-ad0d-21036c541d17",
   "metadata": {},
   "outputs": [],
   "source": [
    "bg_data_index = np.concatenate((s1_index.astype(int), s2_index.astype(int)))"
   ]
  },
  {
   "cell_type": "code",
   "execution_count": null,
   "id": "f35be239-58c6-4d4a-9bc4-9834c50ac98f",
   "metadata": {},
   "outputs": [],
   "source": [
    "data_indecies = np.concatenate((kr_s1_sS1S2, bg_data_index))"
   ]
  },
  {
   "cell_type": "code",
   "execution_count": null,
   "id": "dd092833-5b89-4c61-8d18-79e75ec162f6",
   "metadata": {},
   "outputs": [],
   "source": [
    "_,ordered_index = np.unique(data_indecies, return_index=True)"
   ]
  },
  {
   "cell_type": "code",
   "execution_count": null,
   "id": "cd4d5d10-e88e-4bd9-afb8-f4bd2997e357",
   "metadata": {},
   "outputs": [],
   "source": [
    "data_indecies_ordered = data_indecies[np.sort(ordered_index )]"
   ]
  },
  {
   "cell_type": "code",
   "execution_count": null,
   "id": "d284bb57-67bf-4ee7-a9bf-12fbc30a9cbb",
   "metadata": {},
   "outputs": [],
   "source": [
    "np.savez('./saved_data/data_indecies_ordered.npz', data_indecies_ordered)"
   ]
  },
  {
   "cell_type": "code",
   "execution_count": null,
   "id": "67b48fa0-2b32-42ca-9ded-66ce64297f2b",
   "metadata": {},
   "outputs": [],
   "source": [
    "s1_peaks['time'][:10]"
   ]
  },
  {
   "cell_type": "code",
   "execution_count": null,
   "id": "364addb3-1eb7-4735-bbe5-008c165fd767",
   "metadata": {},
   "outputs": [],
   "source": [
    "#save_s1"
   ]
  },
  {
   "cell_type": "code",
   "execution_count": null,
   "id": "0b6dd1f0-5ec7-443c-afc3-422f878cf308",
   "metadata": {},
   "outputs": [],
   "source": [
    "bg_data_pb = np.concatenate((s1,s2))"
   ]
  },
  {
   "cell_type": "code",
   "execution_count": null,
   "id": "0c7d8da2-af84-46df-a249-adfd5c529c4e",
   "metadata": {},
   "outputs": [],
   "source": [
    "n_complete_s1s2 = np.concatenate((save_s1,save_s2))"
   ]
  },
  {
   "cell_type": "code",
   "execution_count": null,
   "id": "9fa5cae3-cc38-4b70-af4f-fe37f06ab61f",
   "metadata": {},
   "outputs": [],
   "source": [
    "fig = plt.figure(figsize=(15,9))\n",
    "plt.scatter(s1['area'], s1['rise_time'], s=0.1, color = 'blue')\n",
    "plt.scatter(s2['area'], s2['rise_time'], s=0.1, color = 'green')\n",
    "plt.scatter(kr_pb_array['area'][kr_s1_sS1S2],  kr_pb_array['rise_time'][kr_s1_sS1S2], s=0.1, color = 'orange')\n",
    "#plt.scatter(s0['area'], s0['rise_time'], s=0.1, color = 'black')\n",
    "plt.xscale('log')\n",
    "plt.yscale('log')\n",
    "plt.xlim(1,1000000)\n",
    "plt.ylim(1,100000)"
   ]
  },
  {
   "cell_type": "code",
   "execution_count": null,
   "id": "9fec92c7-5c97-4d48-a61b-f53ef1a438cf",
   "metadata": {},
   "outputs": [],
   "source": [
    "fig = plt.figure(figsize=(9,6))\n",
    "plt.scatter(s1['area'], s1['rise_time'], s=0.1, color = 'blue')\n",
    "plt.scatter(s2['area'], s2['rise_time'], s=0.1, color = 'green')\n",
    "plt.scatter(kr_pb_array['area'][kr_s1_sS1S2],  kr_pb_array['rise_time'][kr_s1_sS1S2], s=0.1, color = 'orange')\n",
    "#plt.scatter(s0['area'], s0['rise_time'], s=0.1, color = 'black')\n",
    "plt.xscale('log')\n",
    "plt.yscale('log')\n",
    "plt.xlim(1,1000000)\n",
    "plt.ylim(1,100000)"
   ]
  },
  {
   "cell_type": "code",
   "execution_count": null,
   "id": "1a31c1df-1796-4343-91ce-83b4b614087c",
   "metadata": {},
   "outputs": [],
   "source": [
    "###Delete after done this is just a sanity check"
   ]
  },
  {
   "cell_type": "code",
   "execution_count": null,
   "id": "d2606691-18ce-4f65-9233-a22a1a6b5f35",
   "metadata": {},
   "outputs": [],
   "source": [
    "def assign_labels(data, ref_img, xdim, ydim, cut_out):\n",
    "    '''This functions takes in the data and classifications based on an image gives the\n",
    "    unique labels as well as the data set bacl with the new classification\n",
    "    PS this version only takes in S1s and S2s and ignores unclassified samples, \n",
    "    another version will be made to deal with the unclassified samples\n",
    "    \n",
    "    data: can be either peaks or peak_basics\n",
    "    ref_img: will be the image extracted from the SOM classification of each data point\n",
    "    xdim: width of the image cube\n",
    "    ydim: height of the image cube\n",
    "    cut_out: removes the n last digits of the image vector if necesarry'''\n",
    "    from PIL import Image\n",
    "    img = Image.open(ref_img)\n",
    "    imgGray = img.convert('L')\n",
    "    #imgGray2.save('/home/luissanchez25/im_kr83_real__30x30_2lbl.0.rmpmap.png')\n",
    "    img_color = np.array(img)\n",
    "    img_color_2d = img_color.reshape((xdim*ydim,3))\n",
    "    label = -1 * np.ones(img_color.shape[:-1])\n",
    "    colorp = np.unique(img_color_2d, axis = 0)\n",
    "    for i, color in enumerate(colorp):  # argwhere\n",
    "        label[np.all((img_color == color), axis = 2)] = i\n",
    "    label_vec = label.reshape((xdim*ydim))\n",
    "    if cut_out != 0:\n",
    "        label_vec_nonzero = label_vec[:-cut_out]\n",
    "    elif cut_out == 0:\n",
    "        label_vec_nonzero = label_vec\n",
    "    s2_data = data[data['type'] == 2]\n",
    "    s1_data = data[data['type'] == 1]\n",
    "    som_class_peaks = np.concatenate((s2_data,s1_data)) #note had to reverse s2,s1 to s1,s2\n",
    "    som_class_peaks['type'] = label_vec_nonzero\n",
    "    \n",
    "    return colorp, som_class_peaks"
   ]
  },
  {
   "cell_type": "code",
   "execution_count": null,
   "id": "77b8cd23-9254-4326-9ee5-18f6bca4371a",
   "metadata": {},
   "outputs": [],
   "source": [
    "color_check, som_cls_check = assign_labels(pb_data_test[data_index_test], './SOM_results/kr_clean.map.png', 152, 991, 1)"
   ]
  },
  {
   "cell_type": "code",
   "execution_count": null,
   "id": "db4005d8-c3dd-44a3-9fcd-af81ee920a00",
   "metadata": {},
   "outputs": [],
   "source": [
    "\n",
    "fig = plt.figure(figsize=(15,9))\n",
    "plt.scatter(som_cls_check['area'][som_cls_check['type'] == 1], som_cls_check['rise_time'][som_cls_check['type'] == 1], s=0.1, color = 'orange')\n",
    "#plt.scatter(s2['area'], s2['rise_time'], s=0.1, color = 'green')\n",
    "#plt.scatter(kr_pb_array['area'][kr_s1_sS1S2],  kr_pb_array['rise_time'][kr_s1_sS1S2], s=0.1, color = 'orange')\n",
    "#plt.scatter(s0['area'], s0['rise_time'], s=0.1, color = 'black')\n",
    "plt.xscale('log')\n",
    "plt.yscale('log')\n",
    "plt.xlim(1,1000000)\n",
    "plt.ylim(1,100000)"
   ]
  },
  {
   "cell_type": "code",
   "execution_count": null,
   "id": "3d174b93-b7ea-4ffa-8400-35e858853bb4",
   "metadata": {},
   "outputs": [],
   "source": [
    "#kr_s1_sS1S2\n",
    "#Generate krypton peaks indecies\n",
    "data_indecies = np.append(kr_s1_sS1S2, n_complete_s1s2.astype(int))"
   ]
  },
  {
   "cell_type": "code",
   "execution_count": null,
   "id": "e4d36bd4-c2f5-4ea4-92ba-e6c0b1b56dc7",
   "metadata": {},
   "outputs": [],
   "source": [
    "data_indecies[:10]"
   ]
  },
  {
   "cell_type": "code",
   "execution_count": null,
   "id": "564aecca-3584-4f00-bc28-a75edccbce25",
   "metadata": {},
   "outputs": [],
   "source": [
    "_,indx = np.unique(data_indecies, return_index=True)"
   ]
  },
  {
   "cell_type": "code",
   "execution_count": null,
   "id": "cc3eb7ab-fc2c-435a-ac1e-7fc104c3e7fc",
   "metadata": {},
   "outputs": [],
   "source": [
    "data_indecies = data_indecies[np.sort(indx)]"
   ]
  },
  {
   "cell_type": "code",
   "execution_count": null,
   "id": "cacbdf8d-f4e4-4fd2-8a71-a2541fbfec05",
   "metadata": {},
   "outputs": [],
   "source": [
    "np.max(data_indecies)"
   ]
  },
  {
   "cell_type": "code",
   "execution_count": null,
   "id": "f3efc50c-f810-456c-a84a-2e9279ef5847",
   "metadata": {},
   "outputs": [],
   "source": [
    "len(kr_pb_array)"
   ]
  },
  {
   "cell_type": "code",
   "execution_count": null,
   "id": "c1642687-4c04-43ef-b12c-51d5929a3325",
   "metadata": {},
   "outputs": [],
   "source": [
    "kr_pb_array[data_indecies]"
   ]
  },
  {
   "cell_type": "code",
   "execution_count": null,
   "id": "99717d23-74bd-48d2-8aa4-4ea775f1ae00",
   "metadata": {},
   "outputs": [],
   "source": [
    "#np.savez('./saved_data/data_indecies_info.npz', data_indecies)"
   ]
  },
  {
   "cell_type": "code",
   "execution_count": null,
   "id": "ee5da78a-2007-46e0-8d13-21ea5241a35a",
   "metadata": {},
   "outputs": [],
   "source": [
    "kr_s1_sS1S2[:10]"
   ]
  },
  {
   "cell_type": "code",
   "execution_count": null,
   "id": "2a01c2a3-202f-40a9-a272-1538b7ce18b0",
   "metadata": {},
   "outputs": [],
   "source": [
    "n_complete_s1s2[:10]"
   ]
  },
  {
   "cell_type": "code",
   "execution_count": null,
   "id": "497744f8-7443-46df-80fa-7fb537b2c1d1",
   "metadata": {},
   "outputs": [],
   "source": [
    "len_kr_plus_s1 = len(np.unique(np.concatenate((kr_pb_array[kr_s1_sS1S2],s1))))"
   ]
  },
  {
   "cell_type": "code",
   "execution_count": null,
   "id": "68ef446c-3393-4b7a-823f-0c64d3634abf",
   "metadata": {},
   "outputs": [],
   "source": [
    "len(np.unique(np.concatenate((np.concatenate((kr_pb_array[kr_s1_sS1S2],s1)),s2))))"
   ]
  },
  {
   "cell_type": "code",
   "execution_count": null,
   "id": "263d5d9d-2318-4430-9aaf-35efcbd8bb71",
   "metadata": {},
   "outputs": [],
   "source": [
    "len_kr_plus_s1"
   ]
  },
  {
   "cell_type": "code",
   "execution_count": null,
   "id": "cd7344c1-2136-4025-857e-61530af68f9e",
   "metadata": {},
   "outputs": [],
   "source": [
    "len((np.concatenate((kr_pb_array,s1))))"
   ]
  },
  {
   "cell_type": "code",
   "execution_count": null,
   "id": "8c31a5a3-be5d-4ab6-885c-3da938a202c6",
   "metadata": {},
   "outputs": [],
   "source": [
    "len_kr_plus_s1"
   ]
  },
  {
   "cell_type": "code",
   "execution_count": null,
   "id": "ac8a1218-1a8d-4c55-90a0-54ab60fcf40b",
   "metadata": {},
   "outputs": [],
   "source": [
    "len(s1)"
   ]
  },
  {
   "cell_type": "code",
   "execution_count": null,
   "id": "45eb1bc8-9dc4-4f2a-acfe-10179e2b6c8e",
   "metadata": {},
   "outputs": [],
   "source": [
    "1+1"
   ]
  },
  {
   "cell_type": "code",
   "execution_count": null,
   "id": "ca7df3c5-6c53-4503-982a-34a86b33f9d0",
   "metadata": {},
   "outputs": [],
   "source": [
    "Data_4_SOM = np.concatenate((kr_peaks[kr_s1_sS1S2], bg_data))"
   ]
  },
  {
   "cell_type": "code",
   "execution_count": null,
   "id": "7da553c1-c85a-4b36-84cc-09c52a3eb7f7",
   "metadata": {},
   "outputs": [],
   "source": [
    "fig = plt.figure(figsize=(15,9))\n",
    "plt.scatter(Data_4_SOM['area'][0:len(kr_pb_array[kr_s1_sS1S2])], Data_4_SOM['rise_time'][0:len(kr_pb_array[kr_s1_sS1S2])], s=0.1, color = 'orange')\n",
    "#plt.scatter(s2['area'], s2['rise_time'], s=0.1, color = 'green')\n",
    "#plt.scatter(kr_pb_array['area'][kr_s1_sS1S2],  kr_pb_array['rise_time'][kr_s1_sS1S2], s=0.1, color = 'orange')\n",
    "#plt.scatter(s0['area'], s0['rise_time'], s=0.1, color = 'black')\n",
    "plt.xscale('log')\n",
    "plt.yscale('log')\n",
    "plt.xlim(1,1000000)\n",
    "plt.ylim(1,100000)"
   ]
  },
  {
   "cell_type": "code",
   "execution_count": null,
   "id": "4a51c756-e541-4738-87fe-9a87cd831717",
   "metadata": {},
   "outputs": [],
   "source": [
    "np.save(kr_peaks[kr_s1_sS1S2], )"
   ]
  },
  {
   "cell_type": "code",
   "execution_count": null,
   "id": "90243e72-0429-4913-a450-b921105e3326",
   "metadata": {},
   "outputs": [],
   "source": [
    "#Data_4_SOM"
   ]
  },
  {
   "cell_type": "code",
   "execution_count": null,
   "id": "834f31b9-ca3b-4a59-8b69-7fbf7216386d",
   "metadata": {},
   "outputs": [],
   "source": [
    "data_index_p = np.concatenate((kr_s1_sS1S2,save_s1))\n",
    "data_index_kr = np.concatenate((data_index_p,save_s2))"
   ]
  },
  {
   "cell_type": "code",
   "execution_count": null,
   "id": "63b1573c-2f0d-4306-b246-f9da095685e0",
   "metadata": {},
   "outputs": [],
   "source": [
    "#Data_4_SOM"
   ]
  },
  {
   "cell_type": "code",
   "execution_count": null,
   "id": "6b6a307b-6cd1-4a84-8163-b60581d90f85",
   "metadata": {},
   "outputs": [],
   "source": [
    "sep_points = np.array([16327, 16327+len(kr_dS1sS2_df_s1), len(kr_s1_sS1S2),\n",
    "                       (kr_plus_bgs1)])#single s1, double s1, kr s2, s1,s2\n",
    "S2s_num"
   ]
  },
  {
   "cell_type": "code",
   "execution_count": null,
   "id": "10a618d3-fba6-4243-abb2-46f6a56ca4d9",
   "metadata": {},
   "outputs": [],
   "source": [
    "sep_points2 = np.array([s1s_num, s1s_num+S2s_num, len_kr_plus_s1,\n",
    "                        152*991])#single s1, double s1, kr s2, s1,s2"
   ]
  },
  {
   "cell_type": "code",
   "execution_count": null,
   "id": "0cf755e1-7e7d-4334-846e-5f744b217940",
   "metadata": {},
   "outputs": [],
   "source": [
    "sep_points2"
   ]
  },
  {
   "cell_type": "code",
   "execution_count": null,
   "id": "7fafffa1-1290-4717-808a-cfb60ccd9612",
   "metadata": {},
   "outputs": [],
   "source": [
    "sep_points"
   ]
  },
  {
   "cell_type": "code",
   "execution_count": null,
   "id": "035f6a84-1b72-4039-a593-8b58788a9b3d",
   "metadata": {},
   "outputs": [],
   "source": [
    "len_kr_plus_s1"
   ]
  },
  {
   "cell_type": "code",
   "execution_count": null,
   "id": "c8862d7d-03c0-4c8e-9c39-3bfe522cb779",
   "metadata": {},
   "outputs": [],
   "source": [
    "152*991"
   ]
  },
  {
   "cell_type": "code",
   "execution_count": null,
   "id": "166b8b99-bcfa-4e0e-a64c-015b2ec43c78",
   "metadata": {},
   "outputs": [],
   "source": [
    "kr_plus_bgs1 = len(np.unique(np.concatenate((kr_peaks[kr_s1_sS1S2], s1_peaks))))"
   ]
  },
  {
   "cell_type": "code",
   "execution_count": null,
   "id": "64e06748-e153-456d-b9de-536a2b4a8233",
   "metadata": {},
   "outputs": [],
   "source": [
    "kr_plus_bgs1"
   ]
  },
  {
   "cell_type": "code",
   "execution_count": null,
   "id": "e8c38953-59ea-4688-b662-8858306f4c6a",
   "metadata": {},
   "outputs": [],
   "source": [
    "len(bg_data)"
   ]
  },
  {
   "cell_type": "code",
   "execution_count": null,
   "id": "e83523fd-3f1d-4da1-adc7-aa24c548cd4f",
   "metadata": {},
   "outputs": [],
   "source": [
    "len(kr_peaks[kr_s1_sS1S2])"
   ]
  },
  {
   "cell_type": "code",
   "execution_count": null,
   "id": "07d89f0b-c9d1-4708-9354-3025479dba5f",
   "metadata": {},
   "outputs": [],
   "source": [
    "_,data_index = np.unique(Data_4_SOM , return_index=True)"
   ]
  },
  {
   "cell_type": "code",
   "execution_count": null,
   "id": "58c2d01d-7b43-497d-bdb7-4ce2d4050cb4",
   "metadata": {},
   "outputs": [],
   "source": [
    "_, data_index_all = np.unique(data_index_kr , return_index=True)"
   ]
  },
  {
   "cell_type": "code",
   "execution_count": null,
   "id": "1b450066-c530-4d0e-a2b6-b10fe086796b",
   "metadata": {},
   "outputs": [],
   "source": [
    "proxy_var = np.concatenate((np.array(kr_s1_sS1S2), np.array(save_s1)))"
   ]
  },
  {
   "cell_type": "code",
   "execution_count": null,
   "id": "334b0adc-9803-44e0-99a5-c73a3b925aab",
   "metadata": {},
   "outputs": [],
   "source": [
    "filtered_data_indecies = np.concatenate((proxy_var, np.array(save_s2)))"
   ]
  },
  {
   "cell_type": "code",
   "execution_count": null,
   "id": "906f2397-67b7-4bc4-a0a2-2f1f1955d434",
   "metadata": {},
   "outputs": [],
   "source": [
    "#sanity check\n",
    "kr_pb_array_filtered = kr_pb_array[filtered_data_indecies]\n",
    "kr_pb_som_data = kr_pb_array_filtered[np.sort(data_index_test)]"
   ]
  },
  {
   "cell_type": "code",
   "execution_count": null,
   "id": "58fb85d8-6c6e-4f9f-9c86-d787f730e72e",
   "metadata": {},
   "outputs": [],
   "source": [
    "fig = plt.figure(figsize=(15,9))\n",
    "plt.scatter(kr_pb_array['area'][bg_data_index], \n",
    "            kr_pb_array['rise_time'][bg_data_index], \n",
    "            s=0.1, color = 'blue')\n",
    "#plt.scatter(s2['area'], s2['rise_time'], s=0.1, color = 'green')\n",
    "#plt.scatter(kr_pb_array['area'][kr_s1_sS1S2],  kr_pb_array['rise_time'][kr_s1_sS1S2], s=0.1, color = 'orange')\n",
    "#plt.scatter(s0['area'], s0['rise_time'], s=0.1, color = 'black')\n",
    "plt.xscale('log')\n",
    "plt.yscale('log')\n",
    "plt.xlim(1,1000000)\n",
    "plt.ylim(1,100000)"
   ]
  },
  {
   "cell_type": "code",
   "execution_count": null,
   "id": "9fafc7b6-1d6c-4ec7-af24-dd97e262abb3",
   "metadata": {},
   "outputs": [],
   "source": [
    "#data_indecies_ordered\n",
    "fig = plt.figure(figsize=(15,9))\n",
    "plt.scatter(kr_pb_array['area'][data_indecies_ordered][0:40445], \n",
    "            kr_pb_array['rise_time'][data_indecies_ordered][0:40445], \n",
    "            s=0.1, color = 'blue')\n",
    "#plt.scatter(s2['area'], s2['rise_time'], s=0.1, color = 'green')\n",
    "#plt.scatter(kr_pb_array['area'][kr_s1_sS1S2],  kr_pb_array['rise_time'][kr_s1_sS1S2], s=0.1, color = 'orange')\n",
    "#plt.scatter(s0['area'], s0['rise_time'], s=0.1, color = 'black')\n",
    "plt.xscale('log')\n",
    "plt.yscale('log')\n",
    "plt.xlim(1,1000000)\n",
    "plt.ylim(1,100000)"
   ]
  },
  {
   "cell_type": "code",
   "execution_count": null,
   "id": "b6113bd5-50f8-46b7-96ed-94a07d8db069",
   "metadata": {},
   "outputs": [],
   "source": [
    "fig = plt.figure(figsize=(15,9))\n",
    "plt.scatter(kr_pb_som_data['area'][0:len(kr_pb_array[kr_s1_sS1S2])], kr_pb_som_data['rise_time'][0:len(kr_pb_array[kr_s1_sS1S2])], \n",
    "            s=0.1, color = 'blue')\n",
    "#plt.scatter(s2['area'], s2['rise_time'], s=0.1, color = 'green')\n",
    "#plt.scatter(kr_pb_array['area'][kr_s1_sS1S2],  kr_pb_array['rise_time'][kr_s1_sS1S2], s=0.1, color = 'orange')\n",
    "#plt.scatter(s0['area'], s0['rise_time'], s=0.1, color = 'black')\n",
    "plt.xscale('log')\n",
    "plt.yscale('log')\n",
    "plt.xlim(1,1000000)\n",
    "plt.ylim(1,100000)"
   ]
  },
  {
   "cell_type": "code",
   "execution_count": null,
   "id": "21087687-decc-49db-b9a7-6dccc00ce640",
   "metadata": {},
   "outputs": [],
   "source": [
    "#np.savez(\"./saved_data/kr_clean_data_index_034373.npz\",data_index_all)"
   ]
  },
  {
   "cell_type": "code",
   "execution_count": null,
   "id": "713c2974-7aeb-429f-8536-80b0fbe5e421",
   "metadata": {},
   "outputs": [],
   "source": [
    "Data_4_SOM = Data_4_SOM[data_index] #check if it worked by doing the same with peak basics"
   ]
  },
  {
   "cell_type": "code",
   "execution_count": null,
   "id": "352e414a-f4ca-4014-844b-48a4b9a3ab8c",
   "metadata": {},
   "outputs": [],
   "source": [
    "pb_data_test = np.concatenate((kr_pb_array[kr_s1_sS1S2], bg_data_pb))"
   ]
  },
  {
   "cell_type": "code",
   "execution_count": null,
   "id": "03599155-e29b-4b76-a6b4-1dc65c0ac404",
   "metadata": {},
   "outputs": [],
   "source": [
    "len(kr_pb_array[kr_s1_sS1S2])"
   ]
  },
  {
   "cell_type": "code",
   "execution_count": null,
   "id": "172eb570-9f75-4a64-b0cc-f9415c7d5a3b",
   "metadata": {},
   "outputs": [],
   "source": [
    "fig = plt.figure(figsize=(15,9))\n",
    "plt.scatter(pb_data_test['area'][0:len(kr_pb_array[kr_s1_sS1S2])], pb_data_test['rise_time'][0:len(kr_pb_array[kr_s1_sS1S2])], s=0.1, color = 'orange')\n",
    "#plt.scatter(s2['area'], s2['rise_time'], s=0.1, color = 'green')\n",
    "#plt.scatter(kr_pb_array['area'][kr_s1_sS1S2],  kr_pb_array['rise_time'][kr_s1_sS1S2], s=0.1, color = 'orange')\n",
    "#plt.scatter(s0['area'], s0['rise_time'], s=0.1, color = 'black')\n",
    "plt.xscale('log')\n",
    "plt.yscale('log')\n",
    "plt.xlim(1,1000000)\n",
    "plt.ylim(1,100000)"
   ]
  },
  {
   "cell_type": "code",
   "execution_count": null,
   "id": "b3472502-7339-435a-a8ad-a26dc041af0a",
   "metadata": {},
   "outputs": [],
   "source": [
    "#np.savez('./saved_data/clean_kr_cal_pb.npz', pb_data_test)"
   ]
  },
  {
   "cell_type": "code",
   "execution_count": null,
   "id": "b086ca84-93ef-4c0d-88d5-3d46842f0951",
   "metadata": {},
   "outputs": [],
   "source": [
    "len(kr_pb_array[kr_s1_sS1S2])"
   ]
  },
  {
   "cell_type": "code",
   "execution_count": null,
   "id": "3ec81032-c1ae-4519-9dde-4f7be2dfb97c",
   "metadata": {},
   "outputs": [],
   "source": [
    "len(bg_data_pb)"
   ]
  },
  {
   "cell_type": "code",
   "execution_count": null,
   "id": "4b98bbfa-fb81-4d1b-b908-80cc02ed85dc",
   "metadata": {},
   "outputs": [],
   "source": [
    "_,data_index_test = np.unique(pb_data_test, return_index=True, unique_indices = True)"
   ]
  },
  {
   "cell_type": "code",
   "execution_count": null,
   "id": "82d3d858-853d-49df-a38b-cf6624f4139e",
   "metadata": {},
   "outputs": [],
   "source": [
    "pd_data_unique = pb_data_test[np.sort(data_index_test)]"
   ]
  },
  {
   "cell_type": "code",
   "execution_count": null,
   "id": "2be0ee10-5061-4ef6-ad01-0e57c52d16e8",
   "metadata": {},
   "outputs": [],
   "source": [
    "data_index_test[:10]"
   ]
  },
  {
   "cell_type": "code",
   "execution_count": null,
   "id": "9152d763-fdcb-4661-997e-2cee5f1e529a",
   "metadata": {},
   "outputs": [],
   "source": [
    "def unique_data_org_order(data):\n",
    "    data_rev = data[::-1]\n",
    "    _,data_index_test = np.unique(data_rev, return_index=True)\n",
    "    data_rev_ordered = data_rev[np.sort(data_index_test)]\n",
    "    result = data_rev_ordered[::-1]\n",
    "    return result"
   ]
  },
  {
   "cell_type": "code",
   "execution_count": null,
   "id": "7b2186e7-2a8d-4c11-b8ae-664eb007843f",
   "metadata": {},
   "outputs": [],
   "source": [
    "a = [1, 5, 8, 7, 2]\n",
    "a[::-1]"
   ]
  },
  {
   "cell_type": "code",
   "execution_count": null,
   "id": "6508e3b5-bc04-4ea1-95f4-9bf119478ca7",
   "metadata": {},
   "outputs": [],
   "source": [
    "pd_data_ordered = unique_data_org_order(pb_data_test)"
   ]
  },
  {
   "cell_type": "code",
   "execution_count": null,
   "id": "c002d410-0d66-4c7c-9ab7-7f60a69f9f37",
   "metadata": {},
   "outputs": [],
   "source": [
    "sdpoj = pb_data_test[np.sort(data_index_test)]"
   ]
  },
  {
   "cell_type": "code",
   "execution_count": null,
   "id": "ac0950e9-544a-4d79-90cb-3223363c3ad2",
   "metadata": {},
   "outputs": [],
   "source": [
    "fig = plt.figure(figsize=(15,9))\n",
    "plt.scatter(pb_data_test['area'][data_index_test], pb_data_test['rise_time'][data_index_test], s=0.1, color = 'blue')\n",
    "#plt.scatter(s2['area'], s2['rise_time'], s=0.1, color = 'green')\n",
    "#plt.scatter(kr_pb_array['area'][kr_s1_sS1S2],  kr_pb_array['rise_time'][kr_s1_sS1S2], s=0.1, color = 'orange')\n",
    "#plt.scatter(s0['area'], s0['rise_time'], s=0.1, color = 'black')\n",
    "plt.xscale('log')\n",
    "plt.yscale('log')\n",
    "plt.xlim(1,1000000)\n",
    "plt.ylim(1,100000)"
   ]
  },
  {
   "cell_type": "code",
   "execution_count": null,
   "id": "88d73f30-1a35-4187-8025-75ae5fa12a3e",
   "metadata": {},
   "outputs": [],
   "source": [
    "fig = plt.figure(figsize=(15,9))\n",
    "plt.scatter(pd_data_ordered['area'][0:40445], pd_data_ordered['rise_time'][0:40445], s=0.1, color = 'blue')\n",
    "#plt.scatter(s2['area'], s2['rise_time'], s=0.1, color = 'green')\n",
    "#plt.scatter(kr_pb_array['area'][kr_s1_sS1S2],  kr_pb_array['rise_time'][kr_s1_sS1S2], s=0.1, color = 'orange')\n",
    "#plt.scatter(s0['area'], s0['rise_time'], s=0.1, color = 'black')\n",
    "plt.xscale('log')\n",
    "plt.yscale('log')\n",
    "plt.xlim(1,1000000)\n",
    "plt.ylim(1,100000)"
   ]
  },
  {
   "cell_type": "code",
   "execution_count": null,
   "id": "37feef71-555e-49ea-a4fb-6189cae1b921",
   "metadata": {},
   "outputs": [],
   "source": [
    "fig = plt.figure(figsize=(15,9))\n",
    "plt.scatter(pd_data_unique['area'][0:40445], pd_data_unique['rise_time'][0:40445], s=0.1, color = 'blue')\n",
    "#plt.scatter(s2['area'], s2['rise_time'], s=0.1, color = 'green')\n",
    "#plt.scatter(kr_pb_array['area'][kr_s1_sS1S2],  kr_pb_array['rise_time'][kr_s1_sS1S2], s=0.1, color = 'orange')\n",
    "#plt.scatter(s0['area'], s0['rise_time'], s=0.1, color = 'black')\n",
    "plt.xscale('log')\n",
    "plt.yscale('log')\n",
    "plt.xlim(1,1000000)\n",
    "plt.ylim(1,100000)"
   ]
  },
  {
   "cell_type": "code",
   "execution_count": null,
   "id": "9c26743d-bc29-4cef-b5e0-8d57152d7980",
   "metadata": {},
   "outputs": [],
   "source": []
  },
  {
   "cell_type": "code",
   "execution_count": null,
   "id": "802d57e1-d875-4551-b5cb-29f1e510343c",
   "metadata": {},
   "outputs": [],
   "source": []
  },
  {
   "cell_type": "code",
   "execution_count": null,
   "id": "4b70a287-8440-4714-bab4-ee8495ea0377",
   "metadata": {},
   "outputs": [],
   "source": [
    "pb_data_test[data_index_test]"
   ]
  },
  {
   "cell_type": "code",
   "execution_count": null,
   "id": "fdc5b5b3-2dbc-4cb3-ad3a-e30f81318977",
   "metadata": {},
   "outputs": [],
   "source": [
    "#np.savez('./saved_data/kr_clean_pb_data_v2.npz', pb_data_test[np.sort(data_index_test)])"
   ]
  },
  {
   "cell_type": "code",
   "execution_count": null,
   "id": "1dcf4c5c-2019-4c24-9528-20c21f8ada98",
   "metadata": {},
   "outputs": [],
   "source": [
    "np.savez('./saved_data/filtered_ordered_indecies.npz', data_index_test.astype(int))"
   ]
  },
  {
   "cell_type": "code",
   "execution_count": null,
   "id": "6d42588c-e1af-48b2-b4f0-f3d3ffdda1f3",
   "metadata": {},
   "outputs": [],
   "source": [
    "len(pb_data_test[data_index_test])"
   ]
  },
  {
   "cell_type": "code",
   "execution_count": null,
   "id": "aa29c0cf-4b5b-41e9-bca8-30242068a0f0",
   "metadata": {},
   "outputs": [],
   "source": [
    "len(Data_4_SOM)"
   ]
  },
  {
   "cell_type": "code",
   "execution_count": null,
   "id": "55d40844-f205-446a-bb4e-1b2bfa26130e",
   "metadata": {},
   "outputs": [],
   "source": [
    "#save data\n",
    "np.savez('cleaned_kr_cal_data_peaks.npz', Data_4_SOM)"
   ]
  },
  {
   "cell_type": "markdown",
   "id": "22496e7f-5d7f-48b5-ad0f-edb7c8ec5213",
   "metadata": {},
   "source": [
    "# Data has been processed and filtered! Now its time to converty it into the desired formats and export it along with the classification file!"
   ]
  },
  {
   "cell_type": "code",
   "execution_count": null,
   "id": "a0194b5d-871a-477d-91fb-54748af4efe9",
   "metadata": {},
   "outputs": [],
   "source": [
    "def compute_wf_and_quantiles(peaks: np.ndarray, bayes_n_nodes: int):\n",
    "    \"\"\"\n",
    "    Compute waveforms and quantiles for a given number of nodes(atributes)\n",
    "    :param peaks:\n",
    "    :param bayes_n_nodes: number of nodes or atributes\n",
    "    :return: waveforms and quantiles\n",
    "    \"\"\"\n",
    "    waveforms = np.zeros((len(peaks), bayes_n_nodes))\n",
    "    quantiles = np.zeros((len(peaks), bayes_n_nodes))\n",
    "\n",
    "    num_samples = peaks['data'].shape[1] \n",
    "    #modified line, original num_samples = peaks['data'].shape[1] \n",
    "    step_size = int(num_samples/bayes_n_nodes)\n",
    "    steps = np.arange(0, num_samples+1, step_size)\n",
    "\n",
    "    data = peaks['data'].copy() #data = peaks['data'].copy() \n",
    "    data[data < 0.0] = 0.0\n",
    "    for i, p in enumerate(peaks):\n",
    "        sample_number = np.arange(0, num_samples+1, 1)*p['dt']\n",
    "        frac_of_cumsum = np.append([0.0], np.cumsum(data[i, :]) / np.sum(data[i, :]))\n",
    "        cumsum_steps = np.interp(np.linspace(0., 1., bayes_n_nodes, endpoint=False), frac_of_cumsum, sample_number)\n",
    "        cumsum_steps = np.append(cumsum_steps, sample_number[-1])\n",
    "        quantiles[i, :] = cumsum_steps[1:] - cumsum_steps[:-1]\n",
    "\n",
    "    for j in range(bayes_n_nodes):\n",
    "        waveforms[:, j] = np.sum(data[:, steps[j]:steps[j+1]], axis=1)\n",
    "    waveforms = waveforms/(peaks['dt']*step_size)[:, np.newaxis]\n",
    "\n",
    "    del data\n",
    "    return waveforms, quantiles"
   ]
  },
  {
   "cell_type": "code",
   "execution_count": null,
   "id": "c87903d9-1ede-4936-b770-1ca1aa6e16fc",
   "metadata": {},
   "outputs": [],
   "source": [
    "def L1_norm_c(data):\n",
    "    #first 0 out all negative values\n",
    "    data = np.where(data<0, 0, data)\n",
    "    #now L1 normalize\n",
    "    peaks_L1 = np.zeros((np.shape(data)))\n",
    "    for aa in np.arange(len(data[:,1])):\n",
    "        peaks_L1[aa,:] = data[aa,:]/np.sum(data[aa,:])     \n",
    "        \n",
    "    return peaks_L1"
   ]
  },
  {
   "cell_type": "code",
   "execution_count": null,
   "id": "6dcb6777-599d-4e1c-9d59-014e66be6053",
   "metadata": {},
   "outputs": [],
   "source": [
    "def generate_incl_file_4(filename, xcube, ycube, class_nums):\n",
    "    '''generates a file that tells NS what the label of each data point is. this needs:\n",
    "    filename: such as 'data.incl'\n",
    "    xcube: horizontal dimension of the data cube\n",
    "    ycube: vertical dimension of the data cube\n",
    "    class_nums: vector of 3 dimensions detailing where the labels should swtich, the values of each vector should be its own puls the previous'''\n",
    "    f = open(filename, \"w+\")\n",
    "    count = 1\n",
    "    for i in np.arange(ycube):\n",
    "        for j in np.arange(xcube):\n",
    "            if count <= class_nums[0]:\n",
    "                f.write('include area ' \n",
    "                        +str(j+1) + ' ' \n",
    "                        +str(i+1) + ' ' \n",
    "                        +str(j+1) + ' ' \n",
    "                        +str(i+1) + ' A' + ' \\n')\n",
    "            if count > class_nums[0] and count <= class_nums[1]:\n",
    "                f.write('include area ' \n",
    "                        +str(j+1) + ' ' \n",
    "                        +str(i+1) + ' ' \n",
    "                        +str(j+1) + ' ' \n",
    "                        +str(i+1) + ' H' + '\\n')\n",
    "            if count > class_nums[1] and count <= class_nums[2]:\n",
    "                f.write('include area ' \n",
    "                        +str(j+1) + ' ' \n",
    "                        +str(i+1) + ' ' \n",
    "                        +str(j+1) + ' ' \n",
    "                        +str(i+1) + ' G' + '\\n')\n",
    "            if count > class_nums[2] and count <= class_nums[3]:\n",
    "                f.write('include area ' \n",
    "                        +str(j+1) + ' ' \n",
    "                        +str(i+1) + ' ' \n",
    "                        +str(j+1) + ' ' \n",
    "                        +str(i+1) + ' C' + '\\n')\n",
    "            if count > class_nums[3]:\n",
    "                f.write('exclude area ' \n",
    "                        +str(j+1) + ' ' \n",
    "                        +str(i+1) + ' ' \n",
    "                        +str(j+1) + ' ' \n",
    "                        +str(i+1))\n",
    "            count = count + 1\n",
    "    f.close()"
   ]
  },
  {
   "cell_type": "code",
   "execution_count": null,
   "id": "69e0a42a-7ab1-4f36-9224-535a3662fb4e",
   "metadata": {},
   "outputs": [],
   "source": [
    "def export_data(data, export_name):\n",
    "    data_vec = np.reshape(data, (len(data[1,:])*len(data[:,1])))\n",
    "    \n",
    "    import struct\n",
    "\n",
    "    f=open(export_name,\"wb\")\n",
    "    export_TL = data_vec\n",
    "    export_TL.dtype\n",
    "    myfmt='f'*len(export_TL)\n",
    "    #  You can use 'd' for double and < or > to force endinness\n",
    "    bin=struct.pack(myfmt,*export_TL)\n",
    "    f.write(bin)\n",
    "    f.close()"
   ]
  },
  {
   "cell_type": "code",
   "execution_count": null,
   "id": "663b0db9-d4f4-4510-aced-0e49fa4eb9a0",
   "metadata": {},
   "outputs": [],
   "source": [
    "wf50, qaunt50 = compute_wf_and_quantiles(Data_4_SOM, 50)"
   ]
  },
  {
   "cell_type": "code",
   "execution_count": null,
   "id": "e7847a60-089f-4242-aceb-ece8efbdcc8c",
   "metadata": {},
   "outputs": [],
   "source": [
    "wf10, deciles = compute_wf_and_quantiles(Data_4_SOM, 10)"
   ]
  },
  {
   "cell_type": "code",
   "execution_count": null,
   "id": "d44fd5eb-228c-4f7f-908f-fdfddf97be28",
   "metadata": {},
   "outputs": [],
   "source": [
    "np.concatenate((wf50,qaunt50))"
   ]
  },
  {
   "cell_type": "code",
   "execution_count": null,
   "id": "1746b20b-a2e0-49c4-bbdd-d1e225438a9b",
   "metadata": {},
   "outputs": [],
   "source": [
    "L1_norm_wf50 = L1_norm_c(wf50)"
   ]
  },
  {
   "cell_type": "code",
   "execution_count": null,
   "id": "a145de9d-ab38-4e2c-8398-01dfa289a96d",
   "metadata": {},
   "outputs": [],
   "source": [
    "np.min(L1_norm_wf50)"
   ]
  },
  {
   "cell_type": "code",
   "execution_count": null,
   "id": "b13ca650-fe31-4ac9-bc8f-682a3c3bd504",
   "metadata": {},
   "outputs": [],
   "source": [
    "#quant50 = np.log10(qaunt50) "
   ]
  },
  {
   "cell_type": "code",
   "execution_count": null,
   "id": "6497bfd5-d449-474f-adc4-6f2893f617ad",
   "metadata": {},
   "outputs": [],
   "source": [
    "np.max(qaunt50)"
   ]
  },
  {
   "cell_type": "code",
   "execution_count": null,
   "id": "1cae3de5-bf9d-4781-91e3-d28fe774b5c1",
   "metadata": {},
   "outputs": [],
   "source": [
    "quant50_scaled = (qaunt50 - np.min(qaunt50)) * (1- 0) / (np.max(qaunt50) - np.min(qaunt50)) + 0"
   ]
  },
  {
   "cell_type": "code",
   "execution_count": null,
   "id": "9fc056ce-f9f6-45fc-8c80-87afcb2b2065",
   "metadata": {},
   "outputs": [],
   "source": [
    "np.min(quant50_scaled)"
   ]
  },
  {
   "cell_type": "code",
   "execution_count": null,
   "id": "7a5f9bd1-07d7-4ba0-a974-a08a99caaa0a",
   "metadata": {},
   "outputs": [],
   "source": [
    "np.min(quant50_scaled)"
   ]
  },
  {
   "cell_type": "code",
   "execution_count": null,
   "id": "84d326e5-ad8e-47ee-b5c1-3cc693347081",
   "metadata": {},
   "outputs": [],
   "source": [
    "np.min(qaunt50)"
   ]
  },
  {
   "cell_type": "code",
   "execution_count": null,
   "id": "9586190b-e1ce-4f7b-a87b-78a2b219d9b6",
   "metadata": {},
   "outputs": [],
   "source": [
    "data_50quant_wf = np.concatenate((quant50_scaled, L1_norm_wf50), axis = 1) #all dave between 0 , 1"
   ]
  },
  {
   "cell_type": "code",
   "execution_count": null,
   "id": "089d2094-54f4-4423-81b1-c555278e10bb",
   "metadata": {},
   "outputs": [],
   "source": [
    "np.shape(data_50quant_wf)"
   ]
  },
  {
   "cell_type": "code",
   "execution_count": null,
   "id": "6880a8e9-049c-4310-9a55-4c699fad956c",
   "metadata": {},
   "outputs": [],
   "source": [
    "plt.plot(data_50quant_wf[0,:])\n",
    "#plt.yscale('log')"
   ]
  },
  {
   "cell_type": "code",
   "execution_count": null,
   "id": "e974d912-bda1-42dc-bde8-02c0ceed498c",
   "metadata": {},
   "outputs": [],
   "source": [
    "plt.plot(data_50quant_wf[10,:])"
   ]
  },
  {
   "cell_type": "code",
   "execution_count": null,
   "id": "9aabc986-c5e8-4a52-a5ea-a6bef31ea839",
   "metadata": {},
   "outputs": [],
   "source": [
    "plt.plot(data_50quant_wf[100000,:])"
   ]
  },
  {
   "cell_type": "code",
   "execution_count": null,
   "id": "44c87fc8-de00-4ee5-ad40-40658595c5ed",
   "metadata": {},
   "outputs": [],
   "source": [
    "len(data_50quant_wf)"
   ]
  },
  {
   "cell_type": "code",
   "execution_count": null,
   "id": "be2f1efb-5a13-4297-a280-12b88e8f2b55",
   "metadata": {},
   "outputs": [],
   "source": [
    "def factors(n):    \n",
    "    from functools import reduce\n",
    "    \n",
    "    return set(reduce(list.__add__, \n",
    "                ([i, n//i] for i in range(1, int(n**0.5) + 1) if n % i == 0)))"
   ]
  },
  {
   "cell_type": "code",
   "execution_count": null,
   "id": "368b674d-1ac0-4e93-8d0d-3ffe8b48cc0b",
   "metadata": {},
   "outputs": [],
   "source": [
    "factors(150632) # need to add 1 vector with zeros"
   ]
  },
  {
   "cell_type": "code",
   "execution_count": null,
   "id": "04132f77-10ca-45da-a5ff-0fd725877d13",
   "metadata": {},
   "outputs": [],
   "source": [
    "152*991"
   ]
  },
  {
   "cell_type": "code",
   "execution_count": null,
   "id": "e119e5da-5853-4f44-84f1-f5dfcc25f4c8",
   "metadata": {},
   "outputs": [],
   "source": [
    "data_area = Data_4_SOM['area']\n",
    "data_area = np.where(data_area > 1, data_area, 1)\n",
    "np.min(data_area)"
   ]
  },
  {
   "cell_type": "code",
   "execution_count": null,
   "id": "02a197e4-1a49-4881-95d0-c93b63eee12e",
   "metadata": {},
   "outputs": [],
   "source": [
    "np.min(np.log10(data_area))"
   ]
  },
  {
   "cell_type": "code",
   "execution_count": null,
   "id": "8870cfdd-5ea5-4d5a-8bd5-1374b8cf50ca",
   "metadata": {
    "tags": []
   },
   "outputs": [],
   "source": [
    "#deciles + log area\n",
    "deciles_l1 = L1_norm_c(deciles)\n",
    "data_area = Data_4_SOM['area']\n",
    "data_area = np.where(data_area > 1, data_area, 1)\n",
    "wf_area = data_area \n",
    "wf_area = np.log10(wf_area)\n",
    "wf_area_scaled = (wf_area - np.min(wf_area)) * (1- 0) / (np.max(wf_area) - np.min(wf_area)) + 0\n",
    "data_deciles_larea = np.concatenate((deciles_l1, np.reshape(wf_area_scaled, [len(wf_area_scaled),1])), axis = 1)"
   ]
  },
  {
   "cell_type": "code",
   "execution_count": null,
   "id": "7cb2ec3b-21a4-4794-ab36-0d2a9345f08b",
   "metadata": {},
   "outputs": [],
   "source": [
    "np.min(Data_4_SOM['area'])"
   ]
  },
  {
   "cell_type": "code",
   "execution_count": null,
   "id": "febb1efb-9304-4ff5-a86e-787b78350995",
   "metadata": {},
   "outputs": [],
   "source": [
    "len(deciles_l1)"
   ]
  },
  {
   "cell_type": "code",
   "execution_count": null,
   "id": "ba2fe8bd-ea8d-4d22-a6b2-f9ea8ec5a778",
   "metadata": {},
   "outputs": [],
   "source": [
    "np.shape(deciles_l1)"
   ]
  },
  {
   "cell_type": "code",
   "execution_count": null,
   "id": "f46bfdaf-97c2-4720-a157-ce891d2c1be9",
   "metadata": {},
   "outputs": [],
   "source": [
    "np.shape(wf_area_scaled)"
   ]
  },
  {
   "cell_type": "code",
   "execution_count": null,
   "id": "1d9c71dd-5b28-4a23-afad-5776962e7b2e",
   "metadata": {},
   "outputs": [],
   "source": [
    "check = np.concatenate((deciles_l1,np.reshape(wf_area_scaled, [len(wf_area_scaled),1])), axis = 1)"
   ]
  },
  {
   "cell_type": "code",
   "execution_count": null,
   "id": "0b339564-cb2e-431e-8434-459ce47d71e3",
   "metadata": {},
   "outputs": [],
   "source": [
    "check"
   ]
  },
  {
   "cell_type": "code",
   "execution_count": null,
   "id": "fe6abc05-105a-47ab-a246-237630021185",
   "metadata": {},
   "outputs": [],
   "source": [
    "plt.plot(check[200])"
   ]
  },
  {
   "cell_type": "code",
   "execution_count": null,
   "id": "0851cddd-da1c-4927-93a3-1da8345629e2",
   "metadata": {},
   "outputs": [],
   "source": [
    "np.shape(deciles_l1)"
   ]
  },
  {
   "cell_type": "code",
   "execution_count": null,
   "id": "8c3d6211-ca43-4b28-9208-2eebf94f49ea",
   "metadata": {},
   "outputs": [],
   "source": [
    "np.argwhere(Data_4_SOM['area'] == np.min(Data_4_SOM['area']))"
   ]
  },
  {
   "cell_type": "code",
   "execution_count": null,
   "id": "12b27f23-3bc5-4972-b884-1997be915d75",
   "metadata": {},
   "outputs": [],
   "source": [
    "data_area = Data_4_SOM"
   ]
  },
  {
   "cell_type": "code",
   "execution_count": null,
   "id": "be25344a-bbc5-44d6-b1c1-676d882aca55",
   "metadata": {},
   "outputs": [],
   "source": [
    "np.min(data_area['area'])"
   ]
  },
  {
   "cell_type": "code",
   "execution_count": null,
   "id": "758551df-a7bc-4965-ba8d-c5647c44e5c2",
   "metadata": {},
   "outputs": [],
   "source": [
    "data_area['area'] = np.where(data_area['area'] > 0, data_area['area'], 0.0001) #assign arbitrary small value for negative area"
   ]
  },
  {
   "cell_type": "code",
   "execution_count": null,
   "id": "020a8221-eaca-4723-b334-f6cd0fd83fa2",
   "metadata": {},
   "outputs": [],
   "source": [
    "np.min(data_area['area'])"
   ]
  },
  {
   "cell_type": "code",
   "execution_count": null,
   "id": "dec50205-59d4-4a0d-871c-90d745a6e0ec",
   "metadata": {},
   "outputs": [],
   "source": [
    "np.max(data_area['area'])"
   ]
  },
  {
   "cell_type": "code",
   "execution_count": null,
   "id": "b41caeb7-1e3c-4247-bc7a-4665af0f9a67",
   "metadata": {},
   "outputs": [],
   "source": [
    "#deciles + log area\n",
    "deciles_l1 = L1_norm_c(deciles)\n",
    "wf_area = data_area['area']\n",
    "#wf_area = np.log10(wf_area)\n",
    "wf_area_scaled = (wf_area - np.min(wf_area)) * (1- 0) / (np.max(wf_area) - np.min(wf_area)) + 0\n",
    "data_deciles_larea = np.concatenate((deciles_l1, wf_area_scaled), axis = 1)"
   ]
  },
  {
   "cell_type": "code",
   "execution_count": null,
   "id": "517ffd40-ace2-4ea7-b5c9-a53dccfd0709",
   "metadata": {},
   "outputs": [],
   "source": [
    "data_deciles_larea = np.concatenate((deciles_l1, wf_area_scaled), axis = 1)"
   ]
  },
  {
   "cell_type": "code",
   "execution_count": null,
   "id": "d396dc62-794c-4f6e-b77f-423068f6530a",
   "metadata": {},
   "outputs": [],
   "source": [
    "wf_area_scaled = np.reshape(wf_area_scaled, [len(wf_area_scaled),1])\n",
    "np.shape(wf_area_scaled)"
   ]
  },
  {
   "cell_type": "code",
   "execution_count": null,
   "id": "94e9ff32-5f5e-42a4-8f1d-315cc19f87c8",
   "metadata": {},
   "outputs": [],
   "source": [
    "data_deciles_larea = np.concatenate((deciles_l1, wf_area_scaled), axis = 1)"
   ]
  },
  {
   "cell_type": "code",
   "execution_count": null,
   "id": "6b91d83f-c92c-4956-b775-d33b47ba6186",
   "metadata": {},
   "outputs": [],
   "source": [
    "data_deciles_larea.shape"
   ]
  },
  {
   "cell_type": "code",
   "execution_count": null,
   "id": "7fcaa7c0-5624-4618-8a6e-85cb54f0f845",
   "metadata": {},
   "outputs": [],
   "source": [
    "data_50quant_wf_zeros = np.concatenate((data_50quant_wf, np.reshape(np.zeros(100), [1,100])), axis = 0)"
   ]
  },
  {
   "cell_type": "code",
   "execution_count": null,
   "id": "4894ed5e-3f81-443a-9f27-7f7c6bd7c948",
   "metadata": {},
   "outputs": [],
   "source": [
    "plt.plot(data_50quant_wf_zeros[1,:])"
   ]
  },
  {
   "cell_type": "code",
   "execution_count": null,
   "id": "669f74b9-052e-4be5-811c-4bce9b62d9b9",
   "metadata": {},
   "outputs": [],
   "source": [
    "data_50quant_wf_zeros.shape"
   ]
  },
  {
   "cell_type": "code",
   "execution_count": null,
   "id": "477d212e-234d-4b9f-806b-e01f279c04ea",
   "metadata": {},
   "outputs": [],
   "source": [
    "data_50quant_wf.shape"
   ]
  },
  {
   "cell_type": "code",
   "execution_count": null,
   "id": "c82743d1-f7f0-4308-9b1f-4b01d8472b25",
   "metadata": {},
   "outputs": [],
   "source": [
    "np.reshape(np.zeros(100), [1,100]).shape"
   ]
  },
  {
   "cell_type": "code",
   "execution_count": null,
   "id": "0b503cea-3cea-44c8-9f93-ff951b3d1e72",
   "metadata": {},
   "outputs": [],
   "source": [
    "np.shape(data_deciles_larea)"
   ]
  },
  {
   "cell_type": "code",
   "execution_count": null,
   "id": "659db927-c0e2-43f0-8409-e1895c280568",
   "metadata": {},
   "outputs": [],
   "source": [
    "#data_deciles_larea\n",
    "data_deciles_larea_zeros = np.concatenate((data_deciles_larea, np.reshape(np.zeros(11), [1,11])), axis = 0)"
   ]
  },
  {
   "cell_type": "code",
   "execution_count": null,
   "id": "e85b0656-d8b8-4049-be70-3cc38f51c2bd",
   "metadata": {},
   "outputs": [],
   "source": [
    "export_data(data_50quant_wf_zeros, './saved_data/run_034373_50quant_scaled_50wfL1v2.raw')"
   ]
  },
  {
   "cell_type": "code",
   "execution_count": null,
   "id": "b1fcadaf-b0d7-4404-b632-3e12351c5d6c",
   "metadata": {},
   "outputs": [],
   "source": [
    "export_data(data_deciles_larea_zeros, './saved_data/run_034373_10decile_logareav2.raw')"
   ]
  },
  {
   "cell_type": "code",
   "execution_count": null,
   "id": "a3fd588b-c5ce-4c2c-918e-9d36b0c799b1",
   "metadata": {},
   "outputs": [],
   "source": [
    "sep_points = np.array([16327, 16327+len(kr_dS1sS2_df_s1), len(kr_s1_sS1S2),\n",
    "                       kr_plus_bgs1])#single s1, double s1, kr s2, s1,s2"
   ]
  },
  {
   "cell_type": "code",
   "execution_count": null,
   "id": "ab3ff33a-5f1c-41be-bf79-510dbdb12932",
   "metadata": {},
   "outputs": [],
   "source": []
  },
  {
   "cell_type": "code",
   "execution_count": null,
   "id": "61b017dc-f339-4090-9331-b5a066f4a2c7",
   "metadata": {},
   "outputs": [],
   "source": [
    "generate_incl_file_4('./saved_data/kr_clean_data_run_034373.incl',152, 991, sep_points)"
   ]
  },
  {
   "cell_type": "code",
   "execution_count": null,
   "id": "de22427c-d8cc-46d3-be25-f97418336ff2",
   "metadata": {},
   "outputs": [],
   "source": [
    "generate_incl_file_4('./saved_data/kr_clean_run_034373_v3.incl',152, 991, sep_points2)"
   ]
  },
  {
   "cell_type": "code",
   "execution_count": null,
   "id": "921706f7-a2f4-4147-85e3-4180cfb16a5a",
   "metadata": {},
   "outputs": [],
   "source": [
    "sep_points2"
   ]
  },
  {
   "cell_type": "code",
   "execution_count": null,
   "id": "69efdc67-6b5f-4a33-af07-2bc4226fc8d0",
   "metadata": {},
   "outputs": [],
   "source": [
    "sep_points = np.array([16327, 16327+len(kr_dS1sS2_df_s1), len(kr_s1_sS1S2),\n",
    "                       kr_plus_bgs1])#single s1, double s1, kr s2, s1,s2"
   ]
  },
  {
   "cell_type": "code",
   "execution_count": null,
   "id": "c881c280-05eb-43fc-b4c1-c6d8f19d9339",
   "metadata": {},
   "outputs": [],
   "source": [
    "sep_points2"
   ]
  },
  {
   "cell_type": "code",
   "execution_count": null,
   "id": "18fc4371-64a1-4d46-bbe9-0f6613299865",
   "metadata": {},
   "outputs": [],
   "source": []
  },
  {
   "cell_type": "code",
   "execution_count": null,
   "id": "056434de-4f48-4a22-86a5-6f8de1813567",
   "metadata": {},
   "outputs": [],
   "source": []
  },
  {
   "cell_type": "code",
   "execution_count": null,
   "id": "fc983329-84cf-420a-9777-631060ffa1d6",
   "metadata": {},
   "outputs": [],
   "source": []
  },
  {
   "cell_type": "code",
   "execution_count": null,
   "id": "c2bf07f4-5572-4342-a907-ce7f17b5ee7c",
   "metadata": {},
   "outputs": [],
   "source": []
  },
  {
   "cell_type": "code",
   "execution_count": null,
   "id": "1406608d-5ca9-4218-a31e-68a17302979c",
   "metadata": {},
   "outputs": [],
   "source": []
  },
  {
   "cell_type": "code",
   "execution_count": null,
   "id": "f0a24670-64dc-4993-8480-e58d64da8444",
   "metadata": {},
   "outputs": [],
   "source": []
  },
  {
   "cell_type": "code",
   "execution_count": null,
   "id": "19a1a04c-56ad-4b52-9efc-1a0ad3f3c0e7",
   "metadata": {},
   "outputs": [],
   "source": [
    "#Finally lets generate the include files and call it there"
   ]
  },
  {
   "cell_type": "code",
   "execution_count": null,
   "id": "0979e921-d3c1-4ef9-ab67-2943ff4bdc1a",
   "metadata": {},
   "outputs": [],
   "source": [
    "np.array([1,2,3,4]).shape"
   ]
  },
  {
   "cell_type": "code",
   "execution_count": null,
   "id": "9d272455-c257-42b7-b9fc-ce2ef3969cf6",
   "metadata": {},
   "outputs": [],
   "source": [
    "wf_area_scaled.shape"
   ]
  },
  {
   "cell_type": "code",
   "execution_count": null,
   "id": "eed6bef9-6311-4534-ab3f-bb6e0aba9b51",
   "metadata": {},
   "outputs": [],
   "source": [
    "deciles_l1.shape"
   ]
  },
  {
   "cell_type": "code",
   "execution_count": null,
   "id": "68fe6956-a7aa-4acd-9aac-e5c9d52bd380",
   "metadata": {},
   "outputs": [],
   "source": [
    "plt.plot(Data_4_SOM['data'][12462]) # -.- we have datapoints with negative area... could just set to 0"
   ]
  },
  {
   "cell_type": "code",
   "execution_count": null,
   "id": "a7b156e0-ed09-4d9a-8e5b-06f7658d96c3",
   "metadata": {},
   "outputs": [],
   "source": [
    "np.shape(wf_area_scaled)"
   ]
  },
  {
   "cell_type": "code",
   "execution_count": null,
   "id": "bc88ab05-41b5-4d89-9f9e-1c24c86d5b06",
   "metadata": {},
   "outputs": [],
   "source": [
    "wf_area_scaled"
   ]
  },
  {
   "cell_type": "code",
   "execution_count": null,
   "id": "0ec65191-d370-44f8-96f9-7686d9fcd999",
   "metadata": {},
   "outputs": [],
   "source": [
    "len(wf_area_scaled)"
   ]
  },
  {
   "cell_type": "code",
   "execution_count": null,
   "id": "a091b299-1026-45ff-bd36-34c0f6c9df1f",
   "metadata": {},
   "outputs": [],
   "source": [
    "len(wf10)"
   ]
  },
  {
   "cell_type": "code",
   "execution_count": null,
   "id": "b0ec17d4-c0fe-4932-9587-d235bb2221b2",
   "metadata": {},
   "outputs": [],
   "source": [
    "store_s1s2_time = np.zeros(len(s1) + len(s2))\n",
    "store_s1s2_endtime = np.zeros(len(s1) + len(s2))"
   ]
  },
  {
   "cell_type": "code",
   "execution_count": null,
   "id": "a8dde2ee-2cba-4a41-b45e-c2b80af145ec",
   "metadata": {},
   "outputs": [],
   "source": [
    "store_s1s2_time[:len(s1)] = s1['time']\n",
    "store_s1s2_time[len(s1):] = s2['time']\n",
    "\n",
    "store_s1s2_endtime[:len(s1)] = s1['endtime']\n",
    "store_s1s2_endtime[len(s1):] = s2['endtime']"
   ]
  },
  {
   "cell_type": "code",
   "execution_count": null,
   "id": "25a807d2-7d45-469c-b8dc-84839128e832",
   "metadata": {},
   "outputs": [],
   "source": [
    "s1"
   ]
  },
  {
   "cell_type": "code",
   "execution_count": null,
   "id": "0f91e4af-efee-4616-a78f-2108fd9b8e45",
   "metadata": {},
   "outputs": [],
   "source": [
    "data_time_kr_plus_bg = np.zeros(len(store_s1s2_time)+len(start_time_kr))\n",
    "data_endtime_kr_plus_bg = np.zeros(len(store_s1s2_time)+len(start_time_kr))"
   ]
  },
  {
   "cell_type": "code",
   "execution_count": null,
   "id": "1f5a4839-c64d-49f8-8fd8-5754288e6c57",
   "metadata": {},
   "outputs": [],
   "source": [
    "#got the actual peaks so will use that instead\n",
    "#kr_s1_sS1S2 #kr indecies\n",
    "kr_peaks_clean = kr_peaks[kr_s1_sS1S2]\n",
    "kr_peaks_bg = kr_peaks[kr_peaks['time'] == s1['time']]"
   ]
  },
  {
   "cell_type": "code",
   "execution_count": null,
   "id": "6f40ffe3-8975-46b7-8097-104ca3b60f02",
   "metadata": {},
   "outputs": [],
   "source": [
    "S1_loc = []\n",
    "S2_loc = []\n",
    "for w in np.arange(len(s1)):\n",
    "    S1_loc.append(np.argwhere(kr_peaks['time'] == s1['time'][w]))\n",
    "    \n",
    "for ww in np.arange(len(s2)):\n",
    "    S2_loc.append(np.argwhere(kr_peaks['time'] == s2['time'][ww]))\n",
    "#np.argwhere(kr_peaks['time'] == s1['time'])\n",
    "s1s2_loc = np.concatenate((S1_loc, S2_loc))"
   ]
  },
  {
   "cell_type": "code",
   "execution_count": null,
   "id": "ad20fa71-668f-4acc-a4c6-1fb24f4313a5",
   "metadata": {},
   "outputs": [],
   "source": [
    "s1s2_loc.shape"
   ]
  },
  {
   "cell_type": "code",
   "execution_count": null,
   "id": "2c63af12-7060-40f2-bd49-01ad0db6d9a6",
   "metadata": {},
   "outputs": [],
   "source": [
    "s1s2_loc_nokr = [j for j in s1s2_loc if j not in kr_s1_sS1S2] #remove events allready in the kr set"
   ]
  },
  {
   "cell_type": "code",
   "execution_count": null,
   "id": "1efb4a93-6488-4c3e-87eb-c57b0b9cf136",
   "metadata": {},
   "outputs": [],
   "source": [
    "s1s2_loc = np.reshape(s1s2_loc, (len(s1s2_loc)))"
   ]
  },
  {
   "cell_type": "code",
   "execution_count": null,
   "id": "9f566f9a-da29-42ac-b77c-103b29e272ec",
   "metadata": {},
   "outputs": [],
   "source": [
    "i = 0\n",
    "reset_points = time_resets\n",
    "while i in np.arange(len())\n",
    "\n",
    "points_to_del = []\n",
    "loop_check = 0\n",
    "j=0\n",
    "for i, idx in enumerate(s1s2_loc):\n",
    "    if reset_points[loop_check] == i:\n",
    "        i = 0\n",
    "        loop_check = 1\n",
    "        \n",
    "    while j < len(kr_s1_sS1S2):\n",
    "        points_to_del.np.argwhere\n",
    "    n = len(peaklets_start)\n",
    "    time_index = endtime_index = 0 #indecies of peaklets to check\n",
    "    time_check = 0 #index to reset the time when needed\n",
    "    \n",
    "\n",
    "    \n",
    "    for i, t0 in enumerate(peak_window_start):\n",
    "        if time_resets[time_check] == i:\n",
    "            time_index = endtime_index = 0 #reset the timer once in a while since that data is not all organizing according to time\n",
    "            time_check += 1\n",
    "            print(\"Reset number \" + str(time_check))\n",
    "            \n",
    "        #gap_start = 0\n",
    "        #gap_end = 0\n",
    "        while peaklets_start[time_index] < t0:\n",
    "            time_index += 1"
   ]
  },
  {
   "cell_type": "code",
   "execution_count": null,
   "id": "fe4df6f7-444c-4794-a671-974a5585a669",
   "metadata": {},
   "outputs": [],
   "source": [
    "points_to_del = []\n",
    "for b in np.arange(len(kr_s1_sS1S2)):\n",
    "    points_to_del.append(np.argwhere(kr_s1_sS1S2[b] == s1s2_loc))"
   ]
  },
  {
   "cell_type": "code",
   "execution_count": null,
   "id": "9bc431c3-af84-4fb6-bca7-dcdf3859410f",
   "metadata": {},
   "outputs": [],
   "source": [
    "point_to_del_ar = np.array(new_list)"
   ]
  },
  {
   "cell_type": "code",
   "execution_count": null,
   "id": "a7f1f6ef-3c10-4f5a-9097-d9bdc2a7b158",
   "metadata": {},
   "outputs": [],
   "source": [
    "point_to_del_ar = np.reshape(point_to_del_ar, len(point_to_del_ar))"
   ]
  },
  {
   "cell_type": "code",
   "execution_count": null,
   "id": "9df34891-95ee-4d2e-96f4-dc3f179cbd43",
   "metadata": {},
   "outputs": [],
   "source": [
    "np.in1d(s1s2_loc_nokr,kr_s1_sS1S2).any()"
   ]
  },
  {
   "cell_type": "code",
   "execution_count": null,
   "id": "3e145a47-b65e-4012-bb68-9c1368122b39",
   "metadata": {},
   "outputs": [],
   "source": [
    "s1s2_loc_nokr = np.delete(s1s2_loc, point_to_del_ar)"
   ]
  },
  {
   "cell_type": "code",
   "execution_count": null,
   "id": "76f62a8a-121b-438e-9a2b-93766f4189c5",
   "metadata": {},
   "outputs": [],
   "source": [
    "len(np.concatenate((kr_s1_sS1S2, s1s2_loc_nokr), axis = 0))"
   ]
  },
  {
   "cell_type": "code",
   "execution_count": null,
   "id": "c2cd1142-e9ff-4a00-9dd6-7ef0d4a93bce",
   "metadata": {},
   "outputs": [],
   "source": [
    "_,data_by_index = np.unique(np.concatenate((kr_s1_sS1S2, s1s2_loc_nokr), axis = 0), return_index=True)\n",
    "data_by_index = np.sort()"
   ]
  },
  {
   "cell_type": "code",
   "execution_count": null,
   "id": "a1787bfd-524e-4d71-a6c9-f885c052df52",
   "metadata": {},
   "outputs": [],
   "source": [
    "_,data_by_idx = np.unique(np.concatenate((kr_s1_sS1S2,s1s2_loc), axis = 0), return_index=True)\n",
    "data_by_idx = np.sort(data_by_idx)\n",
    "len(data_by_idx)"
   ]
  },
  {
   "cell_type": "code",
   "execution_count": null,
   "id": "f13bd637-5634-400e-ad9f-6c3c85512f58",
   "metadata": {},
   "outputs": [],
   "source": [
    "kr_peaks_filtered = kr_peaks[data_by_idx]"
   ]
  },
  {
   "cell_type": "code",
   "execution_count": null,
   "id": "6c111f3a-49b6-4f3e-81cc-bc15f6978e8e",
   "metadata": {},
   "outputs": [],
   "source": [
    "fig = plt.figure(figsize=(15,9))\n",
    "plt.scatter(s1['area'], s1['rise_time'], s=0.1, color = 'blue')\n",
    "#plt.scatter(s2['area'], s2['rise_time'], s=0.1, color = 'green')\n",
    "#plt.scatter(s0['area'], s0['rise_time'], s=0.1, color = 'black')\n",
    "plt.xscale('log')\n",
    "plt.yscale('log')\n",
    "plt.xlim(1,1000000)\n",
    "plt.ylim(1,100000)"
   ]
  },
  {
   "cell_type": "code",
   "execution_count": null,
   "id": "5487b01e-f472-4700-bb5f-0902439d914d",
   "metadata": {},
   "outputs": [],
   "source": [
    "kr_peaks_filtered.dtype"
   ]
  },
  {
   "cell_type": "code",
   "execution_count": null,
   "id": "0b5eb287-ea5f-4dc3-bc47-e54e0fdfbc38",
   "metadata": {},
   "outputs": [],
   "source": [
    "kr_pb_filtered = kr_pb_array[data_by_idx]"
   ]
  },
  {
   "cell_type": "code",
   "execution_count": null,
   "id": "a0b706c3-d36f-42fa-9c4f-3eab876fd43c",
   "metadata": {},
   "outputs": [],
   "source": [
    "fig = plt.figure(figsize=(15,9))\n",
    "plt.scatter(kr_pb_array['area'][kr_s1_sS1S2],  kr_pb_array['rise_time'][kr_s1_sS1S2], s=0.1, color = 'blue')\n",
    "#plt.scatter(s2['area'], s2['rise_time'], s=0.1, color = 'green')\n",
    "#plt.scatter(s0['area'], s0['rise_time'], s=0.1, color = 'black')\n",
    "plt.xscale('log')\n",
    "plt.yscale('log')\n",
    "plt.xlim(1,1000000)\n",
    "plt.ylim(1,100000)"
   ]
  },
  {
   "cell_type": "code",
   "execution_count": null,
   "id": "0b58e711-c281-47ac-b1c6-7c83480fb417",
   "metadata": {},
   "outputs": [],
   "source": [
    "fig = plt.figure(figsize=(15,9))\n",
    "plt.scatter(kr_pb_array['area'][n_complete_s1s2],  kr_pb_array['rise_time'][n_complete_s1s2], s=0.1, color = 'blue')\n",
    "#plt.scatter(s2['area'], s2['rise_time'], s=0.1, color = 'green')\n",
    "#plt.scatter(s0['area'], s0['rise_time'], s=0.1, color = 'black')\n",
    "plt.xscale('log')\n",
    "plt.yscale('log')\n",
    "plt.xlim(1,1000000)\n",
    "plt.ylim(1,100000)"
   ]
  },
  {
   "cell_type": "code",
   "execution_count": null,
   "id": "abf59bbe-8568-4454-8220-3772c3353ccf",
   "metadata": {},
   "outputs": [],
   "source": [
    "kr_pc_s1_ncom = kr_pb_array[n_complete_s1s2]\n",
    "kr_pc_s1_ncom = kr_pc_s1_ncom[kr_pc_s1_ncom['type'] == 1]"
   ]
  },
  {
   "cell_type": "code",
   "execution_count": null,
   "id": "f5d362b8-7d5c-44a0-802c-4c2d27e176b5",
   "metadata": {},
   "outputs": [],
   "source": [
    "kr_pc_s2_ncom = kr_pb_array[n_complete_s1s2]\n",
    "kr_pc_s2_ncom = kr_pc_s2_ncom[kr_pc_s2_ncom['type'] == 2]"
   ]
  },
  {
   "cell_type": "code",
   "execution_count": null,
   "id": "93ca1edd-f5f5-4c57-ac3a-724e3f98a45d",
   "metadata": {},
   "outputs": [],
   "source": [
    "fig = plt.figure(figsize=(15,9))\n",
    "plt.scatter(kr_pc_s1_ncom['area'],  kr_pc_s1_ncom['rise_time'], s=0.1, color = 'blue')\n",
    "plt.scatter(kr_pc_s2_ncom['area'],  kr_pc_s2_ncom['rise_time'], s=0.1, color = 'green')\n",
    "#plt.scatter(s2['area'], s2['rise_time'], s=0.1, color = 'green')\n",
    "#plt.scatter(s0['area'], s0['rise_time'], s=0.1, color = 'black')\n",
    "plt.xscale('log')\n",
    "plt.yscale('log')\n",
    "plt.xlim(1,1000000)\n",
    "plt.ylim(1,100000)"
   ]
  },
  {
   "cell_type": "code",
   "execution_count": null,
   "id": "31cac021-d115-4c6f-9e9a-273f3e5d0fe1",
   "metadata": {},
   "outputs": [],
   "source": [
    "fig = plt.figure(figsize=(10,7))\n",
    "plt.scatter(s1['area'], s1['rise_time'], s=0.1, color = 'blue')\n",
    "plt.scatter(s2['area'], s2['rise_time'], s=0.1, color = 'green')\n",
    "#plt.scatter(s0['area'], s0['rise_time'], s=0.1, color = 'black')\n",
    "plt.xscale('log')\n",
    "plt.yscale('log')\n",
    "plt.xlim(1,1000000)\n",
    "plt.ylim(1,100000)\n",
    "plt.xlabel('Area [PE]')\n",
    "plt.ylabel('Rise Time [ns]')"
   ]
  },
  {
   "cell_type": "code",
   "execution_count": null,
   "id": "b48e1a9c-419a-4c59-aa7c-a414f2ba2822",
   "metadata": {},
   "outputs": [],
   "source": [
    "fig = plt.figure(figsize=(8,6))\n",
    "plt.scatter(s1['area'], s1['rise_time'], s=0.1, color = 'blue')\n",
    "plt.scatter(s2['area'], s2['rise_time'], s=0.1, color = 'green')\n",
    "#plt.scatter(s0['area'], s0['rise_time'], s=0.1, color = 'black')\n",
    "plt.xscale('log')\n",
    "plt.yscale('log')\n",
    "plt.xlim(1,1000000)\n",
    "plt.ylim(1,100000)\n",
    "plt.xlabel('Area [PE]')\n",
    "plt.ylabel('Rise Time [ns]')"
   ]
  },
  {
   "cell_type": "code",
   "execution_count": null,
   "id": "03bc084f-d9ce-46d7-9d2a-71bf1d044838",
   "metadata": {},
   "outputs": [],
   "source": [
    "time_resets"
   ]
  },
  {
   "cell_type": "code",
   "execution_count": null,
   "id": "732e94ce-ee6d-4a8f-ab0b-1cbcc2a37c8e",
   "metadata": {},
   "outputs": [],
   "source": [
    "len(np.unique(kr_s1_sS1S2[21780]))"
   ]
  },
  {
   "cell_type": "code",
   "execution_count": null,
   "id": "25ece017-6e1a-4293-b7c7-a9eb67d244ab",
   "metadata": {},
   "outputs": [],
   "source": [
    "len(np.unique(kr_s1_sS1S2))"
   ]
  },
  {
   "cell_type": "code",
   "execution_count": null,
   "id": "64e653af-50aa-400b-859c-b9cddcd43e76",
   "metadata": {},
   "outputs": [],
   "source": [
    "check1"
   ]
  },
  {
   "cell_type": "code",
   "execution_count": null,
   "id": "87cff620-3e11-4523-864f-8bb2ed8c046a",
   "metadata": {},
   "outputs": [],
   "source": [
    "np.unique(s1s2_loc)"
   ]
  },
  {
   "cell_type": "code",
   "execution_count": null,
   "id": "a727511e-3976-4d8a-8e4a-9b6194561a9c",
   "metadata": {},
   "outputs": [],
   "source": [
    "np.concatenate((kr_s1_sS1S2,s1s2_loc), axis = 0)"
   ]
  },
  {
   "cell_type": "code",
   "execution_count": null,
   "id": "ad14901a-d2d9-471a-a687-6d1f5ec341bd",
   "metadata": {},
   "outputs": [],
   "source": [
    "np.unique(np.concatenate((kr_s1_sS1S2,s1s2_loc), axis = 0), return_index=True)"
   ]
  },
  {
   "cell_type": "code",
   "execution_count": null,
   "id": "e7b28edc-4f4f-4b50-ba94-641c851c9e70",
   "metadata": {},
   "outputs": [],
   "source": [
    "new_list = list(filter(None, points_to_del))"
   ]
  },
  {
   "cell_type": "code",
   "execution_count": null,
   "id": "3dedcf6c-875e-45d9-a4ea-db46eea19363",
   "metadata": {},
   "outputs": [],
   "source": [
    "points_to_del[points_to_del.astype(bool)]"
   ]
  },
  {
   "cell_type": "code",
   "execution_count": null,
   "id": "bc751842-3c4c-4c80-aec0-edb5f8372d1c",
   "metadata": {},
   "outputs": [],
   "source": [
    "s1s2_loc_nokr"
   ]
  },
  {
   "cell_type": "code",
   "execution_count": null,
   "id": "f4e91cc4-e662-4b25-b408-053ecb6b5d14",
   "metadata": {},
   "outputs": [],
   "source": [
    "1+1"
   ]
  },
  {
   "cell_type": "code",
   "execution_count": null,
   "id": "a77b36a3-07ce-4395-b200-eb7097a4d64b",
   "metadata": {},
   "outputs": [],
   "source": [
    "len(kr_s1_sS1S2)"
   ]
  },
  {
   "cell_type": "code",
   "execution_count": null,
   "id": "80693448-e7d1-4feb-a2c1-ff2b8a38aa96",
   "metadata": {},
   "outputs": [],
   "source": [
    "len(np.unique(kr_s1_sS1S2))"
   ]
  },
  {
   "cell_type": "code",
   "execution_count": null,
   "id": "3606a3dd-650a-488a-868f-f70b79aa6fa4",
   "metadata": {},
   "outputs": [],
   "source": [
    "len(kr_s1_sS1S2[s1s_num:])"
   ]
  },
  {
   "cell_type": "code",
   "execution_count": null,
   "id": "af052638-afe3-4042-819c-24c1b4b84dda",
   "metadata": {},
   "outputs": [],
   "source": [
    "len(np.unique(kr_s1_sS1S2[s1s_num:]))"
   ]
  },
  {
   "cell_type": "code",
   "execution_count": null,
   "id": "d03139f7-3bc0-4a6a-811b-4a26e701079a",
   "metadata": {},
   "outputs": [],
   "source": [
    "kr_peaks_bg"
   ]
  },
  {
   "cell_type": "code",
   "execution_count": null,
   "id": "ddc94802-dc41-43eb-956f-7bbec0e5beb8",
   "metadata": {},
   "outputs": [],
   "source": [
    "#get all the data together in 1 array\n",
    "data_time_kr_plus_bg[:len(start_time_kr)] = start_time_kr\n",
    "data_time_kr_plus_bg[len(start_time_kr):] = store_s1s2_time\n",
    "\n",
    "data_endtime_kr_plus_bg[:len(start_time_kr)] = endtime_kr\n",
    "data_endtime_kr_plus_bg[len(start_time_kr):] = store_s1s2_endtime"
   ]
  },
  {
   "cell_type": "code",
   "execution_count": null,
   "id": "c9873131-ef14-49d5-b7a9-c9ce68647e1f",
   "metadata": {},
   "outputs": [],
   "source": [
    "#get all the unique values but keep them in order!!!\n",
    "_,idx1 = np.unique(data_time_kr_plus_bg, return_index=True)\n",
    "time_idx_sorted = np.sort(idx1)\n",
    "data_time_clean = data_time_kr_plus_bg[time_idx_sorted]"
   ]
  },
  {
   "cell_type": "code",
   "execution_count": null,
   "id": "83fc74b4-6228-46b5-a1be-ab59123b72a4",
   "metadata": {},
   "outputs": [],
   "source": [
    "_,idx2 = np.unique(data_endtime_kr_plus_bg, return_index=True)\n",
    "endtime_idx_sorted = np.sort(idx2)\n",
    "data_endtime_clean = data_endtime_kr_plus_bg[endtime_idx_sorted]"
   ]
  },
  {
   "cell_type": "code",
   "execution_count": null,
   "id": "562af9f7-d9db-4bf4-bc45-8a052c1d2ddf",
   "metadata": {},
   "outputs": [],
   "source": [
    "len(data_time_clean) == len(data_endtime_clean)"
   ]
  },
  {
   "cell_type": "markdown",
   "id": "a8fe6882-5e46-4f0a-a664-5240cbad12c5",
   "metadata": {},
   "source": [
    "Now I have the time indecies I wanted for all the data, up next, selection the peaklets that fall in this category, will try to take inspiration from the touching windows function, maybe modify it for my purposes..."
   ]
  },
  {
   "cell_type": "markdown",
   "id": "a8e4d2e6-51eb-4a8f-8a6c-3782ade28e08",
   "metadata": {},
   "source": [
    "Cant do that since peaklets dont have an endtime attached to them..."
   ]
  },
  {
   "cell_type": "code",
   "execution_count": null,
   "id": "05298cb1-3e10-4e66-9ec3-2a1e01af6f3a",
   "metadata": {},
   "outputs": [],
   "source": [
    "kr_peaklets_array.dtype"
   ]
  },
  {
   "cell_type": "code",
   "execution_count": null,
   "id": "1d803a2f-609d-4888-b8be-d9fc9e71bf03",
   "metadata": {},
   "outputs": [],
   "source": [
    "peaklets_from_peaks=_touching_windows(kr_peaklets_array['time'], kr_peaklets_array['endtime'],\n",
    "                                      data_time_clean, data_endtime_clean)"
   ]
  },
  {
   "cell_type": "code",
   "execution_count": null,
   "id": "3722cf09-e64e-491b-973a-d28737fc596d",
   "metadata": {},
   "outputs": [],
   "source": [
    "time_resets = np.array([len(kr_singleS1S2_df_s1), len(kr_singleS1S2_df_s1)+len(kr_dS1sS2_df_s1),\n",
    "                       len(kr_singleS1S2_df_s1)+len(kr_dS1sS2_df_s1)+len(kr_singleS1S2_df_s2),\n",
    "                       len(kr_singleS1S2_df_s1)+len(kr_dS1sS2_df_s1)+len(kr_singleS1S2_df_s2)+len(kr_dS1sS2_df_s2),\n",
    "                       10**9])"
   ]
  },
  {
   "cell_type": "code",
   "execution_count": null,
   "id": "67806818-d630-47cc-a3c8-ed45562a4653",
   "metadata": {},
   "outputs": [],
   "source": [
    "peaklet_indecies = get_data_in_time_window(kr_peaklets_array['time'], data_time_clean, data_endtime_clean, time_resets)"
   ]
  },
  {
   "cell_type": "code",
   "execution_count": null,
   "id": "12eae67a-ef7a-4627-92a1-f1942a3d3622",
   "metadata": {},
   "outputs": [],
   "source": [
    "peaklet_indecies"
   ]
  },
  {
   "cell_type": "code",
   "execution_count": null,
   "id": "9fd07d16-345e-47b1-9019-51a1b9958081",
   "metadata": {},
   "outputs": [],
   "source": [
    "peaklet_indecies[time_resets[2]]"
   ]
  },
  {
   "cell_type": "code",
   "execution_count": null,
   "id": "1c347407-4fc4-4307-9cfa-25407e9653c9",
   "metadata": {},
   "outputs": [],
   "source": [
    "len(kr_pb_array)"
   ]
  },
  {
   "cell_type": "code",
   "execution_count": null,
   "id": "d1350eef-cad9-4a61-adae-15b7e7aa698d",
   "metadata": {},
   "outputs": [],
   "source": [
    "len(kr_peaklets_array)"
   ]
  },
  {
   "cell_type": "code",
   "execution_count": null,
   "id": "7903597c-4c93-4454-ba75-2148c0718383",
   "metadata": {},
   "outputs": [],
   "source": [
    "plt.plot(kr_peaklets_array['data'][30])"
   ]
  },
  {
   "cell_type": "code",
   "execution_count": null,
   "id": "2d3863a2-ecd3-423c-9930-cb0585840271",
   "metadata": {},
   "outputs": [],
   "source": [
    "kr_peaklets_array['area'][30]"
   ]
  },
  {
   "cell_type": "code",
   "execution_count": null,
   "id": "42ec188d-44f7-4e35-96c9-92676177b59c",
   "metadata": {},
   "outputs": [],
   "source": [
    "plt.plot(kr_peaklets_array['data'][30])"
   ]
  },
  {
   "cell_type": "code",
   "execution_count": null,
   "id": "cacedbf8-57a9-420c-a183-8e3eedb0c67d",
   "metadata": {},
   "outputs": [],
   "source": [
    "plt.plot(kr_peaklets_array['data'][31])"
   ]
  },
  {
   "cell_type": "code",
   "execution_count": null,
   "id": "daacb3bc-b6c2-4e19-91f7-0f88d5935fa2",
   "metadata": {},
   "outputs": [],
   "source": [
    "plt.plot(kr_peaklets_array['data'][502])"
   ]
  },
  {
   "cell_type": "code",
   "execution_count": null,
   "id": "aac0aa82-b442-4086-8246-0d19c3bff79c",
   "metadata": {},
   "outputs": [],
   "source": [
    "plt.plot(kr_peaklets_array['data'][503])"
   ]
  },
  {
   "cell_type": "code",
   "execution_count": null,
   "id": "4de83d12-da34-430a-a797-1691140cd69f",
   "metadata": {},
   "outputs": [],
   "source": [
    "#s2\n",
    "plt.plot(kr_peaklets_array['data'][219245])"
   ]
  },
  {
   "cell_type": "code",
   "execution_count": null,
   "id": "fbd6535b-8326-4a8d-a3f8-4a16c143e214",
   "metadata": {},
   "outputs": [],
   "source": [
    "#s2\n",
    "plt.plot(kr_peaklets_array['data'][219246])"
   ]
  },
  {
   "cell_type": "code",
   "execution_count": null,
   "id": "f6c53d53-5135-4c19-a57b-429bdf83bbc7",
   "metadata": {},
   "outputs": [],
   "source": [
    "len(peaklet_indecies)"
   ]
  },
  {
   "cell_type": "code",
   "execution_count": null,
   "id": "7f7c8f58-035b-4876-a5ef-0eac02a507c6",
   "metadata": {},
   "outputs": [],
   "source": [
    "kr_peaklets_array['time'][-1] - data_endtime_clean[-1]"
   ]
  },
  {
   "cell_type": "code",
   "execution_count": null,
   "id": "ce01473a-85f0-41e1-8128-58c99a9d9e76",
   "metadata": {},
   "outputs": [],
   "source": [
    "len(kr_peaklets_array['time'])"
   ]
  },
  {
   "cell_type": "code",
   "execution_count": null,
   "id": "e682e6f4-740a-4862-9713-8abe5ead046c",
   "metadata": {},
   "outputs": [],
   "source": [
    "time_resets"
   ]
  },
  {
   "cell_type": "code",
   "execution_count": null,
   "id": "de6455d8-e86c-4e70-977f-461349b38922",
   "metadata": {},
   "outputs": [],
   "source": []
  },
  {
   "cell_type": "code",
   "execution_count": null,
   "id": "17229c78-dd64-4081-a57b-c9f1b73e18d5",
   "metadata": {},
   "outputs": [],
   "source": [
    "bg_run_id = '033859'"
   ]
  },
  {
   "cell_type": "code",
   "execution_count": null,
   "id": "c9fb1332-b7d4-4f44-8752-1c8ea4899387",
   "metadata": {},
   "outputs": [],
   "source": [
    "bg_peaklets_array = st.get_array(bg_run_id, targets =('peaklets'))"
   ]
  },
  {
   "cell_type": "code",
   "execution_count": null,
   "id": "1e52af6c-bc4e-44cf-9943-225103372110",
   "metadata": {},
   "outputs": [],
   "source": [
    "bg_pb_array = st.get_array(bg_run_id, targets =('peak_basics'))"
   ]
  },
  {
   "cell_type": "code",
   "execution_count": null,
   "id": "3e499a84-80c1-42f3-82a4-bef2ca5e2caf",
   "metadata": {},
   "outputs": [],
   "source": [
    "bg_peak_pro = st.get_array(bg_run_id,'peak_proximity')"
   ]
  },
  {
   "cell_type": "code",
   "execution_count": null,
   "id": "9aab987c-7166-47e5-8359-88001ef8e62b",
   "metadata": {},
   "outputs": [],
   "source": [
    "bg_peak_pro"
   ]
  },
  {
   "cell_type": "code",
   "execution_count": null,
   "id": "e14cfd25-a813-49df-a640-4a452200e308",
   "metadata": {},
   "outputs": [],
   "source": [
    "fig = plt.figure(figsize=(15,9))\n",
    "plt.scatter(bg_pb_array['area'][bg_pb_array['type'] == 2], bg_pb_array['rise_time'][bg_pb_array['type'] == 2], s=0.1, color = 'green', alpha = 0.5)\n",
    "plt.scatter(bg_pb_array['area'][bg_pb_array['type'] == 1], bg_pb_array['rise_time'][bg_pb_array['type'] == 1], s=0.1, color = 'blue')\n",
    "plt.xscale('log')\n",
    "plt.yscale('log')\n",
    "plt.xlim(1,1000000)\n",
    "plt.ylim(1,100000)"
   ]
  },
  {
   "cell_type": "code",
   "execution_count": null,
   "id": "3a40e109-0f22-44a5-9115-588e1d6d4464",
   "metadata": {},
   "outputs": [],
   "source": [
    "clean_bg_peaks = bg_peak_pro[bg_peak_pro['n_competing_left']==0]"
   ]
  },
  {
   "cell_type": "code",
   "execution_count": null,
   "id": "9e99ce2b-3cea-45a0-8490-b52d215f5a3e",
   "metadata": {},
   "outputs": [],
   "source": [
    "kr_pb_array.dtype"
   ]
  },
  {
   "cell_type": "code",
   "execution_count": null,
   "id": "c653276b-5e54-420f-86fc-a484885bfc3b",
   "metadata": {},
   "outputs": [],
   "source": [
    "def find_data_in_selection(selection, data, cut):\n",
    "    \n",
    "    select_data = np.argwhere(selection[cut] == True)\n",
    "    #start_time = selection['time'][select_data]\n",
    "    #end_time = selection['endtime'][select_data]\n",
    "    store_indecies = np.zeros(len(data))\n",
    "    \n",
    "    count = 0\n",
    "    for i in np.arange(len(select_data)):\n",
    "        count2 = 0\n",
    "        for j in np.arange(len(data)):\n",
    "            if ((data['time'][j] >= selection['time'][select_data[i]]) & (data['endtime'][j] <= selection['endtime'][select_data[i]])) == True:\n",
    "                #print(data['time'][j] >= selection['time'][select_data[i]])\n",
    "                #print(data['endtime'][j] <= selection['endtime'][select_data[i]])\n",
    "                #print(data['time'][j] >= selection['time'][select_data[i]] & data['endtime'][j] <= selection['endtime'][select_data[i]])\n",
    "                print(j)\n",
    "                store_indecies[count] = j\n",
    "                count = count + 1\n",
    "                count2 = count2 + 1\n",
    "            if count2 == 4:\n",
    "                break\n",
    "    return store_indecies"
   ]
  },
  {
   "cell_type": "code",
   "execution_count": null,
   "id": "5f6a24e2-70f9-43b5-8a13-02fdfe36cce1",
   "metadata": {},
   "outputs": [],
   "source": [
    "False & False"
   ]
  },
  {
   "cell_type": "code",
   "execution_count": null,
   "id": "b84eccc1-2d16-44ce-94e8-53996508bf44",
   "metadata": {},
   "outputs": [],
   "source": [
    "kr_events_array.dtype"
   ]
  },
  {
   "cell_type": "code",
   "execution_count": null,
   "id": "6dfefee5-b18a-42bf-9a28-b698cd6ec056",
   "metadata": {},
   "outputs": [],
   "source": [
    "kr_ss_events = find_data_in_selection(kr_events_array, kr_pb_array, 'cut_Kr_SingleS1S2')"
   ]
  },
  {
   "cell_type": "code",
   "execution_count": null,
   "id": "c14421f3-11fb-4c9e-89a4-751c2e309ddd",
   "metadata": {},
   "outputs": [],
   "source": [
    "kr_events"
   ]
  },
  {
   "cell_type": "code",
   "execution_count": null,
   "id": "14be81ce-3683-4ef0-b617-355e54b7703e",
   "metadata": {},
   "outputs": [],
   "source": [
    "np.size(kr_pb_array['area'][kr_pb_array['type'] == 1])"
   ]
  },
  {
   "cell_type": "code",
   "execution_count": null,
   "id": "6c2fe029-8235-4525-b232-55cd0db15c65",
   "metadata": {},
   "outputs": [],
   "source": [
    "indecies = np.argwhere(kr_events_array['cut_Kr_SingleS1S2'] == True)\n",
    "indecies[0]"
   ]
  },
  {
   "cell_type": "code",
   "execution_count": null,
   "id": "9d31a1b5-6ff3-4139-bb29-0edc5a3ddd84",
   "metadata": {},
   "outputs": [],
   "source": [
    "kr_events_array['endtime'][indecies[0]] - kr_events_array['time'][indecies[0]]"
   ]
  },
  {
   "cell_type": "code",
   "execution_count": null,
   "id": "bcc91e26-1884-4711-9ade-5dc0e5675173",
   "metadata": {},
   "outputs": [],
   "source": [
    "kr_events_array['endtime'][4] - kr_events_array['time'][4]"
   ]
  },
  {
   "cell_type": "code",
   "execution_count": null,
   "id": "a9f2432f-d0a3-4285-b5dd-0e42effa99c5",
   "metadata": {},
   "outputs": [],
   "source": [
    "kr_events_array['time'][4] "
   ]
  },
  {
   "cell_type": "code",
   "execution_count": null,
   "id": "271cd9fe-cb5e-4eb9-ba48-e5daee24de96",
   "metadata": {},
   "outputs": [],
   "source": [
    "len(kr_pb_array)"
   ]
  },
  {
   "cell_type": "code",
   "execution_count": null,
   "id": "af880feb-0f7d-44fc-9568-7eb101f08822",
   "metadata": {},
   "outputs": [],
   "source": [
    "kr_pb_array['time'][25] - kr_events_array['time'][4] "
   ]
  },
  {
   "cell_type": "code",
   "execution_count": null,
   "id": "9d45d1f7-0bc7-4845-bd3a-1f9a646ad1db",
   "metadata": {},
   "outputs": [],
   "source": [
    "kr_pb_array['endtime'][28] - kr_events_array['endtime'][4] "
   ]
  },
  {
   "cell_type": "code",
   "execution_count": null,
   "id": "c4cd7f95-2595-49ca-9946-291e371f7253",
   "metadata": {},
   "outputs": [],
   "source": [
    "kr_pb_array['time'][25] - kr_events_array['time'][8] "
   ]
  },
  {
   "cell_type": "code",
   "execution_count": null,
   "id": "210cba2a-da43-4615-a957-b6de2bebc0a7",
   "metadata": {},
   "outputs": [],
   "source": [
    "np.argwhere(kr_pb_array['time'] >= kr_events_array['time'][4] )"
   ]
  },
  {
   "cell_type": "code",
   "execution_count": null,
   "id": "2fb0d1a3-3642-421b-831a-99f9b3eba68a",
   "metadata": {},
   "outputs": [],
   "source": [
    "kr_pb_array['time'][8]"
   ]
  },
  {
   "cell_type": "code",
   "execution_count": null,
   "id": "e505a2dd-9e87-42a3-9527-b04bb37c932e",
   "metadata": {},
   "outputs": [],
   "source": [
    "start = kr_events_array['time'][np.argwhere(kr_events_array['cut_Kr_SingleS1S2'] == True)]"
   ]
  },
  {
   "cell_type": "code",
   "execution_count": null,
   "id": "bb4b4a2c-4e4e-4a27-85ac-9a7c13847421",
   "metadata": {},
   "outputs": [],
   "source": [
    "end = kr_events_array['endtime'][np.argwhere(kr_events_array['cut_Kr_SingleS1S2'] == True)]"
   ]
  },
  {
   "cell_type": "code",
   "execution_count": null,
   "id": "20e7c2f8-e59d-4b6e-959c-4ff337ba65fa",
   "metadata": {},
   "outputs": [],
   "source": [
    "kr_pb_array['time'] >= start  & kr_pb_array['endtime'] <= end"
   ]
  },
  {
   "cell_type": "code",
   "execution_count": null,
   "id": "bbeba677-2484-4d9e-88f4-8f3a58ad3ec9",
   "metadata": {},
   "outputs": [],
   "source": [
    "kr_pb_array[kr_pb_array['time'] >= start  & kr_pb_array['endtime'] <= end]"
   ]
  },
  {
   "cell_type": "code",
   "execution_count": null,
   "id": "254c58ad-4b24-4c97-a061-cb4da3ec1c88",
   "metadata": {},
   "outputs": [],
   "source": [
    "kr_pb_df = pd.DataFrame(kr_pb_array)\n",
    "kr_pb_df"
   ]
  },
  {
   "cell_type": "code",
   "execution_count": null,
   "id": "2c488264-9c95-4289-ae98-6e0067d5ad5f",
   "metadata": {},
   "outputs": [],
   "source": [
    "kr_events_array = st.get_array(cal_run_id, targets =('events', 'cut_Kr_SingleS1S2', 'cut_Kr_DoubleS1_SingleS2'))\n",
    "kr_pb_array = st.get_array(cal_run_id, targets =('peak_basics'))\n",
    "window1 = strax.touching_windows(kr_pb_df, kr_events_array[kr_events_array['cut_Kr_SingleS1S2'] == True])\n",
    "store_values = []\n",
    "for i in np.arange(len(window1)):\n",
    "    store_values.append(np.arange(int(window1[i,0]), window1[i,1]+1))\n",
    "    "
   ]
  },
  {
   "cell_type": "code",
   "execution_count": null,
   "id": "d57beff1-d623-4ebd-b616-6aff367e4afc",
   "metadata": {},
   "outputs": [],
   "source": [
    "#store_values"
   ]
  },
  {
   "cell_type": "code",
   "execution_count": null,
   "id": "45df9f36-c93c-4ae3-ae4f-bb9898792603",
   "metadata": {},
   "outputs": [],
   "source": [
    "len(kr_peaklets_array)"
   ]
  },
  {
   "cell_type": "code",
   "execution_count": null,
   "id": "fa4045e4-01a9-4485-a64d-445412749675",
   "metadata": {},
   "outputs": [],
   "source": [
    "len(kr_pb_array)"
   ]
  },
  {
   "cell_type": "code",
   "execution_count": null,
   "id": "aac22722-7dc1-4e01-ab29-f181f7f6db8a",
   "metadata": {},
   "outputs": [],
   "source": [
    "kr_peaklets_array.dtype"
   ]
  },
  {
   "cell_type": "code",
   "execution_count": null,
   "id": "f8592899-dbed-47b1-ae68-47af35430217",
   "metadata": {},
   "outputs": [],
   "source": [
    "plt.plot(np.mean(kr_peaklets_array['data'][:20], axis = 0), color = 'blue', alpha = 1)"
   ]
  },
  {
   "cell_type": "markdown",
   "id": "56555051-c09c-428b-9e43-522f35ac7400",
   "metadata": {},
   "source": [
    "So here we have a bit of an issue with indecies... non of the arrays are the same size so indexes are kinda useless. Instead we need to base things around the time of certain events. I can apply the peak_pro cut and change the labels of some of the krypton events (could take a step further and also label the argon events but ill avoid this for now).\n",
    "I will try to use the time stamps of things, recompute the rise-time value in the peaklets"
   ]
  },
  {
   "cell_type": "code",
   "execution_count": null,
   "id": "d821bf10-baca-4d49-b737-ae6b51160fd2",
   "metadata": {},
   "outputs": [],
   "source": [
    "def peaklet_data_selection(peaklets, desired_pb_data):\n",
    "    '''\n",
    "    This function attempts to do the following:\n",
    "    '''"
   ]
  },
  {
   "cell_type": "code",
   "execution_count": null,
   "id": "e204fd3a-430d-4422-8f2f-b96c7ce95d2b",
   "metadata": {},
   "outputs": [],
   "source": [
    "def desired_peaks(pb_data, selection)"
   ]
  },
  {
   "cell_type": "code",
   "execution_count": null,
   "id": "c9581d28-ca5f-4464-b572-ebda51de1128",
   "metadata": {},
   "outputs": [],
   "source": [
    "def peaks_limits()"
   ]
  },
  {
   "cell_type": "code",
   "execution_count": null,
   "id": "194fad7f-2881-49b3-a8be-1f54a69220cb",
   "metadata": {},
   "outputs": [],
   "source": [
    "def eliminate_peaklets()"
   ]
  },
  {
   "cell_type": "code",
   "execution_count": null,
   "id": "fbedc472-ad0f-4cb2-a15a-83328f74e680",
   "metadata": {},
   "outputs": [],
   "source": [
    "data = np.load('./saved_data/cleaned_kr_cal_data_peaks.npz')"
   ]
  },
  {
   "cell_type": "code",
   "execution_count": null,
   "id": "00f40ffb-a106-41ab-bce2-5ca32f2419d9",
   "metadata": {},
   "outputs": [],
   "source": [
    "pwd"
   ]
  },
  {
   "cell_type": "code",
   "execution_count": null,
   "id": "de691aa6-726b-4294-8209-f9d3a53faeb8",
   "metadata": {},
   "outputs": [],
   "source": [
    "np.shape(data)"
   ]
  },
  {
   "cell_type": "code",
   "execution_count": null,
   "id": "5711e1ed-0ec1-4b3e-a485-85dcc88f3585",
   "metadata": {},
   "outputs": [],
   "source": [
    "data"
   ]
  },
  {
   "cell_type": "code",
   "execution_count": null,
   "id": "0da8b64e-27f4-4fef-a7fd-e3a31a7b189a",
   "metadata": {},
   "outputs": [],
   "source": [
    "np.shape(data['arr_0'][0])"
   ]
  },
  {
   "cell_type": "code",
   "execution_count": null,
   "id": "315b175b-b57c-43db-a4f5-f86b2dfe168c",
   "metadata": {},
   "outputs": [],
   "source": [
    "150631/200"
   ]
  },
  {
   "cell_type": "code",
   "execution_count": null,
   "id": "24c8e472-d31f-49f6-812b-723b52c626f8",
   "metadata": {},
   "outputs": [],
   "source": [
    "np.array(data['arr_0'][0])"
   ]
  },
  {
   "cell_type": "code",
   "execution_count": null,
   "id": "6d4717ba-feae-4dd1-8067-d265e88a4bca",
   "metadata": {},
   "outputs": [],
   "source": [
    "np.size(data['arr_0'][0])"
   ]
  },
  {
   "cell_type": "code",
   "execution_count": null,
   "id": "3beb16d5-d4a4-4650-9c2f-70dd2dfacf4e",
   "metadata": {},
   "outputs": [],
   "source": [
    "generate_incl_file_4('./saved_data/incl_krdata_bgdata.incl', 152,991, [21487,40145,74510, 160000])"
   ]
  },
  {
   "cell_type": "code",
   "execution_count": null,
   "id": "f3690758-b1b4-4cd4-b247-f0995efeec5a",
   "metadata": {},
   "outputs": [],
   "source": [
    "def generate_incl_file_4(filename, xcube, ycube, class_nums):\n",
    "    '''generates a file that tells NS what the label of each data point is. this needs:\n",
    "    filename: such as 'data.incl'\n",
    "    xcube: horizontal dimension of the data cube\n",
    "    ycube: vertical dimension of the data cube\n",
    "    class_nums: vector of 3 dimensions detailing where the labels should swtich, the values of each vector should be its own puls the previous'''\n",
    "    f = open(filename, \"w+\")\n",
    "    count = 1\n",
    "    for i in np.arange(ycube):\n",
    "        for j in np.arange(xcube):\n",
    "            if count <= class_nums[0]:\n",
    "                f.write('include area ' \n",
    "                        +str(j+1) + ' ' \n",
    "                        +str(i+1) + ' ' \n",
    "                        +str(j+1) + ' ' \n",
    "                        +str(i+1) + ' A' + ' \\n')\n",
    "            if count > class_nums[0] and count <= class_nums[1]:\n",
    "                f.write('include area ' \n",
    "                        +str(j+1) + ' ' \n",
    "                        +str(i+1) + ' ' \n",
    "                        +str(j+1) + ' ' \n",
    "                        +str(i+1) + ' H' + '\\n')\n",
    "            if count > class_nums[1] and count <= class_nums[2]:\n",
    "                f.write('include area ' \n",
    "                        +str(j+1) + ' ' \n",
    "                        +str(i+1) + ' ' \n",
    "                        +str(j+1) + ' ' \n",
    "                        +str(i+1) + ' G' + '\\n')\n",
    "            if count > class_nums[2] and count <= class_nums[3]:\n",
    "                f.write('include area ' \n",
    "                        +str(j+1) + ' ' \n",
    "                        +str(i+1) + ' ' \n",
    "                        +str(j+1) + ' ' \n",
    "                        +str(i+1) + ' C' + '\\n')\n",
    "            if count > class_nums[3]:\n",
    "                f.write('exclude area ' \n",
    "                        +str(j+1) + ' ' \n",
    "                        +str(i+1) + ' ' \n",
    "                        +str(j+1) + ' ' \n",
    "                        +str(i+1))\n",
    "            count = count + 1\n",
    "    f.close()"
   ]
  },
  {
   "cell_type": "code",
   "execution_count": null,
   "id": "6af76110-085e-46ed-a461-84d88a9be276",
   "metadata": {},
   "outputs": [],
   "source": [
    "#Here I will remake the data file (In case something I did was stupid and messed things up) with some modifications"
   ]
  },
  {
   "cell_type": "code",
   "execution_count": null,
   "id": "87c07dad-fe46-4632-9478-122e84961198",
   "metadata": {},
   "outputs": [],
   "source": [
    "kr_peaks.dtype"
   ]
  },
  {
   "cell_type": "code",
   "execution_count": null,
   "id": "602f2814-ba10-4964-ac4e-0ede2bf79210",
   "metadata": {},
   "outputs": [],
   "source": [
    "kr_pb_array.dtype"
   ]
  },
  {
   "cell_type": "code",
   "execution_count": null,
   "id": "98f6cd08-b134-4f10-a855-71e4ffd83468",
   "metadata": {},
   "outputs": [],
   "source": [
    "kr_peak_data_for_training = kr_peaks[data_indecies_ordered]"
   ]
  },
  {
   "cell_type": "code",
   "execution_count": null,
   "id": "184a1628-d2ea-463c-8b2f-d84fc852fc01",
   "metadata": {},
   "outputs": [],
   "source": [
    "kr_pb_data_for_training = kr_pb_array[data_indecies_ordered]"
   ]
  },
  {
   "cell_type": "code",
   "execution_count": null,
   "id": "f02131ac-2d77-44b4-bbaa-cbe9b0300f04",
   "metadata": {},
   "outputs": [],
   "source": [
    "def compute_wf_and_quantiles(peaks: np.ndarray, bayes_n_nodes: int):\n",
    "    \"\"\"\n",
    "    Compute waveforms and quantiles for a given number of nodes(atributes)\n",
    "    :param peaks:\n",
    "    :param bayes_n_nodes: number of nodes or atributes\n",
    "    :return: waveforms and quantiles\n",
    "    \"\"\"\n",
    "    waveforms = np.zeros((len(peaks), bayes_n_nodes))\n",
    "    quantiles = np.zeros((len(peaks), bayes_n_nodes))\n",
    "\n",
    "    num_samples = peaks['data'].shape[1] \n",
    "    #modified line, original num_samples = peaks['data'].shape[1] \n",
    "    step_size = int(num_samples/bayes_n_nodes)\n",
    "    steps = np.arange(0, num_samples+1, step_size)\n",
    "\n",
    "    data = peaks['data'].copy() #data = peaks['data'].copy() \n",
    "    data[data < 0.0] = 0.0\n",
    "    for i, p in enumerate(peaks):\n",
    "        sample_number = np.arange(0, num_samples+1, 1)*p['dt']\n",
    "        frac_of_cumsum = np.append([0.0], np.cumsum(data[i, :]) / np.sum(data[i, :]))\n",
    "        cumsum_steps = np.interp(np.linspace(0., 1., bayes_n_nodes, endpoint=False), frac_of_cumsum, sample_number)\n",
    "        cumsum_steps = np.append(cumsum_steps, sample_number[-1])\n",
    "        quantiles[i, :] = cumsum_steps[1:] - cumsum_steps[:-1]\n",
    "\n",
    "    for j in range(bayes_n_nodes):\n",
    "        waveforms[:, j] = np.sum(data[:, steps[j]:steps[j+1]], axis=1)\n",
    "    waveforms = waveforms/(peaks['dt']*step_size)[:, np.newaxis]\n",
    "\n",
    "    del data\n",
    "    return waveforms, quantiles"
   ]
  },
  {
   "cell_type": "code",
   "execution_count": null,
   "id": "9f35cd25-98a0-4326-9a4a-1ae42de658ed",
   "metadata": {},
   "outputs": [],
   "source": [
    "_, peak_data_SOM = compute_wf_and_quantiles(kr_peak_data_for_training, 10)"
   ]
  },
  {
   "cell_type": "code",
   "execution_count": null,
   "id": "46c9018a-42c3-4b5a-bbb0-6dce83d7e58c",
   "metadata": {},
   "outputs": [],
   "source": [
    "np.shape(peak_data_SOM)"
   ]
  },
  {
   "cell_type": "code",
   "execution_count": null,
   "id": "27194822-f49d-469e-95bd-9d55658e745f",
   "metadata": {},
   "outputs": [],
   "source": [
    "plt.plot(np.mean(peak_data_SOM[kr_peak_data_for_training['type'] == 1], axis = 0), color = 'blue')\n",
    "plt.plot(np.mean(peak_data_SOM[kr_peak_data_for_training['type'] == 2], axis = 0), color = 'green')\n",
    "plt.yscale('log')"
   ]
  },
  {
   "cell_type": "code",
   "execution_count": null,
   "id": "a3e91337-5f1e-4ff0-9079-c3c6e04bb555",
   "metadata": {},
   "outputs": [],
   "source": [
    "log_area = np.log10(kr_peak_data_for_training['area'] + np.abs(np.min(kr_peak_data_for_training['area']))+1)"
   ]
  },
  {
   "cell_type": "code",
   "execution_count": null,
   "id": "6cb09640-0d48-4e2c-989a-410d3484cf0f",
   "metadata": {},
   "outputs": [],
   "source": [
    "np.savez('area_scaling.npz', np.abs(np.min(kr_peak_data_for_training['area'])))"
   ]
  },
  {
   "cell_type": "code",
   "execution_count": null,
   "id": "0885413b-1b52-4eb5-b16f-3198b921451a",
   "metadata": {},
   "outputs": [],
   "source": [
    "np.min(log_area)"
   ]
  },
  {
   "cell_type": "code",
   "execution_count": null,
   "id": "97389520-2fed-48a9-9b5f-a81ae6b65833",
   "metadata": {},
   "outputs": [],
   "source": [
    "np.max(log_area)"
   ]
  },
  {
   "cell_type": "code",
   "execution_count": null,
   "id": "4c5ad45e-fc5b-42b5-a426-9517cc307b22",
   "metadata": {},
   "outputs": [],
   "source": [
    "log_area_scaled = log_area / np.max(log_area) #area data"
   ]
  },
  {
   "cell_type": "code",
   "execution_count": null,
   "id": "a6d347a2-6a11-43cc-ba33-99f27dc871a3",
   "metadata": {},
   "outputs": [],
   "source": [
    "np.savez('area_norm.npz', np.max(log_area))"
   ]
  },
  {
   "cell_type": "code",
   "execution_count": null,
   "id": "78236330-fffa-4cee-81d4-9e5af66d5efa",
   "metadata": {},
   "outputs": [],
   "source": [
    "kr_pb_data_for_training['area_fraction_top']"
   ]
  },
  {
   "cell_type": "code",
   "execution_count": null,
   "id": "84ca3ac2-020a-40e6-9804-0f654d3b07de",
   "metadata": {},
   "outputs": [],
   "source": [
    "np.min(kr_pb_data_for_training['area_fraction_top'])"
   ]
  },
  {
   "cell_type": "code",
   "execution_count": null,
   "id": "5f8d483a-1c74-4d98-bb6a-6608a4207886",
   "metadata": {},
   "outputs": [],
   "source": [
    "np.max(kr_pb_data_for_training['area_fraction_top'])"
   ]
  },
  {
   "cell_type": "code",
   "execution_count": null,
   "id": "3437fddc-783d-450e-9d79-a1077d02a4ac",
   "metadata": {},
   "outputs": [],
   "source": [
    "kr_pb_data_for_training = kr_pb_array[data_indecies_ordered] #this is just loading kr_peak_basics and making some data selection"
   ]
  },
  {
   "cell_type": "code",
   "execution_count": null,
   "id": "7479ac95-af32-4f32-9271-09b9f51f0fe8",
   "metadata": {},
   "outputs": [],
   "source": [
    "area_fraction_top = kr_pb_data_for_training['area_fraction_top']"
   ]
  },
  {
   "cell_type": "code",
   "execution_count": null,
   "id": "5e22ad2d-67c7-4376-b48b-135191781624",
   "metadata": {},
   "outputs": [],
   "source": [
    "area_fraction_top[np.isnan(area_fraction_top)] = 0"
   ]
  },
  {
   "cell_type": "code",
   "execution_count": null,
   "id": "3bb34235-278c-4562-8b07-bccbc4e62370",
   "metadata": {},
   "outputs": [],
   "source": [
    "np.max(area_fraction_top)"
   ]
  },
  {
   "cell_type": "code",
   "execution_count": null,
   "id": "a0dea4e9-821b-408c-be2a-65cfc823f367",
   "metadata": {},
   "outputs": [],
   "source": [
    "np.min(area_fraction_top)"
   ]
  },
  {
   "cell_type": "code",
   "execution_count": null,
   "id": "8b438ea0-feba-4a6b-b062-d9cde801da8a",
   "metadata": {},
   "outputs": [],
   "source": [
    "#area_fraction_top[area_fraction_top < 0] = 0"
   ]
  },
  {
   "cell_type": "code",
   "execution_count": null,
   "id": "f7afa913-4ad5-405b-95e9-44126ea9c412",
   "metadata": {},
   "outputs": [],
   "source": [
    "np.argwhere(area_fraction_top < 0)"
   ]
  },
  {
   "cell_type": "code",
   "execution_count": null,
   "id": "362a4cc2-a743-4e99-a53e-35729b048445",
   "metadata": {},
   "outputs": [],
   "source": [
    "plt.plot(kr_peak_data_for_training['data'][42908])\n",
    "plt.title(\"Waveform of peak with negative AFT\")\n",
    "plt.xlabel('Time 10[ns]')\n",
    "plt.ylabel('Raw Amplitude [PE]')"
   ]
  },
  {
   "cell_type": "code",
   "execution_count": null,
   "id": "ea3d2be4-cac6-4bd9-9dbb-4ce3392bb0e2",
   "metadata": {},
   "outputs": [],
   "source": [
    "kr_peak_data_for_training['type'][42908]"
   ]
  },
  {
   "cell_type": "code",
   "execution_count": null,
   "id": "4b15af91-ae62-489c-8ca5-9e6262f1f476",
   "metadata": {},
   "outputs": [],
   "source": [
    "kr_peak_data_for_training['dt'][42908]"
   ]
  },
  {
   "cell_type": "code",
   "execution_count": null,
   "id": "8823dd4a-e02c-435c-a47d-589961ecfe29",
   "metadata": {},
   "outputs": [],
   "source": [
    "unphysical_aft_idx = np.argwhere(area_fraction_top > 1)"
   ]
  },
  {
   "cell_type": "code",
   "execution_count": null,
   "id": "3175e95b-6cbc-4d1a-9073-e94f8fd5b7cd",
   "metadata": {},
   "outputs": [],
   "source": [
    "unphysical_aft_idx.shape"
   ]
  },
  {
   "cell_type": "code",
   "execution_count": null,
   "id": "58ef7f95-6118-43bd-a680-189892f85bd6",
   "metadata": {},
   "outputs": [],
   "source": [
    "unphysical_aft_idx[1,0].astype(int)"
   ]
  },
  {
   "cell_type": "code",
   "execution_count": null,
   "id": "6f3a7825-e766-4267-897a-b74bf78b6e75",
   "metadata": {},
   "outputs": [],
   "source": [
    "len(unphysical_aft_idx)"
   ]
  },
  {
   "cell_type": "code",
   "execution_count": null,
   "id": "513e9929-94d3-49f6-bcba-2a25a50d2dcc",
   "metadata": {},
   "outputs": [],
   "source": [
    "plt.plot(kr_peak_data_for_training['data'][unphysical_aft_idx[0,0].astype(int)])"
   ]
  },
  {
   "cell_type": "code",
   "execution_count": null,
   "id": "93feb6bc-0e94-4493-918d-02457812ea01",
   "metadata": {},
   "outputs": [],
   "source": [
    "plt.plot(kr_peak_data_for_training['data'][unphysical_aft_idx[8,0].astype(int)])"
   ]
  },
  {
   "cell_type": "code",
   "execution_count": null,
   "id": "9bf76d94-bc4f-4f45-98dc-3134416c7521",
   "metadata": {},
   "outputs": [],
   "source": [
    "for u in np.arange(len(unphysical_aft_idx)):\n",
    "    plt.plot(kr_peak_data_for_training['data'][unphysical_aft_idx[u,0]], color = 'red', alpha = 0.3)\n",
    "plt.title(\"Waveform of peak with AFT > 1\")\n",
    "plt.xlabel('Time 10[ns]')\n",
    "plt.ylabel('Raw Amplitude [PE]')"
   ]
  },
  {
   "cell_type": "code",
   "execution_count": null,
   "id": "8331098d-545b-49fe-adb0-8670f5f5c316",
   "metadata": {},
   "outputs": [],
   "source": [
    "unphysical_aft_idx.reshape(16)"
   ]
  },
  {
   "cell_type": "code",
   "execution_count": null,
   "id": "cdfe1279-6c0a-4614-9f5f-6cfde15fe7a2",
   "metadata": {},
   "outputs": [],
   "source": [
    "for u in np.arange(len(unphysical_aft_idx)):\n",
    "    plt.scatter(kr_peak_data_for_training['data'][unphysical_aft_idx[u,0]], color = 'red', alpha = 0.3)\n",
    "plt.title(\"Waveform of peak with AFT > 1\")\n",
    "plt.xlabel('Time 10[ns]')\n",
    "plt.ylabel('Raw Amplitude [PE]')"
   ]
  },
  {
   "cell_type": "code",
   "execution_count": null,
   "id": "9808811b-75fb-48a5-a9b6-172417c7b003",
   "metadata": {},
   "outputs": [],
   "source": [
    "kr_peak_data_for_training['dt'][unphysical_aft_idx]"
   ]
  },
  {
   "cell_type": "code",
   "execution_count": null,
   "id": "94f3e8c8-efca-490e-8b79-842d3230eb0b",
   "metadata": {},
   "outputs": [],
   "source": [
    "area_fraction_top_no_nan"
   ]
  },
  {
   "cell_type": "code",
   "execution_count": null,
   "id": "7f46d7d1-fcce-4ae8-b27d-e4648239a4f2",
   "metadata": {},
   "outputs": [],
   "source": [
    "np.argwhere(area_fraction_top == np.min(area_fraction_top))"
   ]
  },
  {
   "cell_type": "code",
   "execution_count": null,
   "id": "00164325-9a99-4032-8d78-9231f51ba085",
   "metadata": {},
   "outputs": [],
   "source": [
    "area_fraction_top = np.where(area_fraction_top > 0, area_fraction_top, 0)"
   ]
  },
  {
   "cell_type": "code",
   "execution_count": null,
   "id": "0d8a385b-be1d-49bd-898d-bdbd4756dfbd",
   "metadata": {},
   "outputs": [],
   "source": [
    "area_fraction_top = np.where(area_fraction_top < 1, area_fraction_top, 1)"
   ]
  },
  {
   "cell_type": "code",
   "execution_count": null,
   "id": "2faf961f-db72-4793-b5f4-79814d53c7d2",
   "metadata": {},
   "outputs": [],
   "source": [
    "np.max(area_fraction_top)"
   ]
  },
  {
   "cell_type": "code",
   "execution_count": null,
   "id": "fd3b95cf-e996-41e7-a133-3486cbce8a2b",
   "metadata": {},
   "outputs": [],
   "source": [
    "area_fraction_top[area_fraction_top < 0.0]"
   ]
  },
  {
   "cell_type": "code",
   "execution_count": null,
   "id": "515a1796-d0dc-4e5d-bc4e-687f1f87c633",
   "metadata": {},
   "outputs": [],
   "source": [
    "np.where(area_fraction_top > 0 , area_fraction_top, "
   ]
  },
  {
   "cell_type": "code",
   "execution_count": null,
   "id": "57901751-191b-4e49-ab10-f32703234b6e",
   "metadata": {},
   "outputs": [],
   "source": [
    "np.argwhere(area_fraction_top == np.max(area_fraction_top))"
   ]
  },
  {
   "cell_type": "code",
   "execution_count": null,
   "id": "94be30db-e266-44df-8d71-e9c7c43edef7",
   "metadata": {},
   "outputs": [],
   "source": [
    "plt.plot(kr_peak_data_for_training['area_per_channel'][42908])\n",
    "plt.xlabel(\"Channel number\")\n",
    "plt.ylabel(\"PE seen per channel\")"
   ]
  },
  {
   "cell_type": "code",
   "execution_count": null,
   "id": "7e1fe02f-923a-4ffe-a85e-f035521d73e8",
   "metadata": {},
   "outputs": [],
   "source": [
    "plt.plot(kr_peak_data_for_training['area_per_channel'][42908], color = 'blue', label = 'minimum AFT')\n",
    "plt.plot(kr_peak_data_for_training['area_per_channel'][42488], color = 'red', label = 'maximum AFT')\n",
    "plt.xlabel(\"Channel number\")\n",
    "plt.ylabel(\"PE seen per channel\")\n",
    "plt.legend()"
   ]
  },
  {
   "cell_type": "code",
   "execution_count": null,
   "id": "aa8114d8-b7f8-4714-9304-f8440887e087",
   "metadata": {},
   "outputs": [],
   "source": [
    "np.max(peak_data_SOM, axis = 0)"
   ]
  },
  {
   "cell_type": "code",
   "execution_count": null,
   "id": "5d1252e7-7d37-4251-9f3c-993c0466cfd7",
   "metadata": {},
   "outputs": [],
   "source": [
    "np.min(peak_data_SOM, axis = 0)"
   ]
  },
  {
   "cell_type": "code",
   "execution_count": null,
   "id": "b6ee6e2f-7196-4976-924c-a7d47b9edf90",
   "metadata": {},
   "outputs": [],
   "source": [
    "peak_data_log = np.log(peak_data_SOM)"
   ]
  },
  {
   "cell_type": "code",
   "execution_count": null,
   "id": "45e1242b-a779-4de9-bb55-86bbe0f4f4bc",
   "metadata": {},
   "outputs": [],
   "source": [
    "np.max(peak_data_log, axis = 0)"
   ]
  },
  {
   "cell_type": "code",
   "execution_count": null,
   "id": "67c0f4ca-bfd3-4f83-add4-0bb6c8469c63",
   "metadata": {},
   "outputs": [],
   "source": [
    "np.max(log_area)"
   ]
  },
  {
   "cell_type": "code",
   "execution_count": null,
   "id": "41c5453c-f26c-4ed0-958e-59cb0cf4e67f",
   "metadata": {},
   "outputs": [],
   "source": [
    "peak_data_log_n = peak_data_log/ np.max(peak_data_log)"
   ]
  },
  {
   "cell_type": "code",
   "execution_count": null,
   "id": "a3cd64dd-7724-4037-9654-8106f1a88bea",
   "metadata": {},
   "outputs": [],
   "source": [
    "np.max(peak_data_log)"
   ]
  },
  {
   "cell_type": "code",
   "execution_count": null,
   "id": "fca8021c-c0cb-42cd-a974-b0f0c9d63b45",
   "metadata": {},
   "outputs": [],
   "source": [
    "np.savez('deciles_scaling.npz', peak_data_log)"
   ]
  },
  {
   "cell_type": "code",
   "execution_count": null,
   "id": "bf334d4e-b5e7-41cb-bbb6-cac468b08eff",
   "metadata": {},
   "outputs": [],
   "source": [
    "log_area_n = log_area/ np.max(log_area)"
   ]
  },
  {
   "cell_type": "code",
   "execution_count": null,
   "id": "fe2bf3b8-4189-41b4-8062-e5c88e2ad428",
   "metadata": {},
   "outputs": [],
   "source": [
    "log_area_n = np.reshape(log_area_n, [len(log_area_n),1])"
   ]
  },
  {
   "cell_type": "code",
   "execution_count": null,
   "id": "3c3ceab3-aa35-4261-a604-47f097f112a0",
   "metadata": {},
   "outputs": [],
   "source": [
    "decile_area = np.concatenate((peak_data_log_n, log_area_n), axis = 1)"
   ]
  },
  {
   "cell_type": "code",
   "execution_count": null,
   "id": "49641ca8-cbce-4cbb-bb0c-b2091104646b",
   "metadata": {},
   "outputs": [],
   "source": [
    "decile_area_aft = np.concatenate((decile_area, np.reshape(area_fraction_top, [len(area_fraction_top), 1])), axis = 1)"
   ]
  },
  {
   "cell_type": "code",
   "execution_count": null,
   "id": "3b70a69a-d56c-4f39-b587-f8162b93d11d",
   "metadata": {},
   "outputs": [],
   "source": [
    "log_area #shifted by absolute value of min + 1"
   ]
  },
  {
   "cell_type": "code",
   "execution_count": null,
   "id": "70b233b3-388c-49b2-ac3a-17dd4dd5d4a1",
   "metadata": {},
   "outputs": [],
   "source": [
    "log_data_pt1 = np.concatenate((peak_data_log, np.reshape(log_area, [len(log_area),1])), axis = 1)"
   ]
  },
  {
   "cell_type": "code",
   "execution_count": null,
   "id": "6002f404-0441-47da-a923-0562395125cc",
   "metadata": {},
   "outputs": [],
   "source": [
    "log_data = np.concatenate((log_data_pt1, np.reshape(area_fraction_top, [len(area_fraction_top), 1])), axis = 1)"
   ]
  },
  {
   "cell_type": "code",
   "execution_count": null,
   "id": "877e9c1b-fb12-47c1-bad2-40474a22aefb",
   "metadata": {},
   "outputs": [],
   "source": [
    "import plotly.graph_objects as go\n",
    " \n",
    "# initialize a Figure object and store it in\n",
    "# a variable fig\n",
    "fig = go.Figure()\n",
    " \n",
    "# add x and y values for the 1st scatter\n",
    "# plot and name the yaxis as yaxis1 values\n",
    "fig.add_trace(go.Scatter(\n",
    "    x=[10, 12, 13],\n",
    "    y=[41, 58, 60],\n",
    "    name=\"yaxis1 values\"\n",
    "))\n",
    " \n",
    "# add x and y values for the 2nd scatter\n",
    "# plot and name the yaxis as yaxis2 values\n",
    "fig.add_trace(go.Scatter(\n",
    "    x=[12, 13, 14],\n",
    "    y=[401, 501, 610],\n",
    "    name=\"yaxis2 values\",\n",
    "    yaxis=\"y2\"\n",
    "))\n",
    " \n",
    "# add x and y values for the 3rd scatter\n",
    "# plot and name the yaxis as yaxis3 values\n",
    "fig.add_trace(go.Scatter(\n",
    "    x=[14, 15, 16],\n",
    "    y=[42000, 53000, 65000],\n",
    "    name=\"yaxis3 values\",\n",
    "    yaxis=\"y3\"\n",
    "))\n",
    " \n",
    "# add x and y values for the 4th scatter plot\n",
    "# and name the yaxis as yaxis4 values\n",
    "fig.add_trace(go.Scatter(\n",
    "    x=[15, 16, 17],\n",
    "    y=[2000, 5000, 7000],\n",
    "    name=\"yaxis4 values\",\n",
    "    yaxis=\"y4\"\n",
    "))\n",
    " \n",
    "# Create axis objects\n",
    "fig.update_layout(\n",
    "    # split the x-axis to fraction of plots in\n",
    "    # proportions\n",
    "    xaxis=dict(\n",
    "        domain=[0.3, 0.7]\n",
    "    ),\n",
    "   \n",
    "    # pass the y-axis title, titlefont, color\n",
    "    # and tickfont as a dictionary and store\n",
    "    # it an variable yaxis\n",
    "    yaxis=dict(\n",
    "        title=\"yaxis 1\",\n",
    "        titlefont=dict(\n",
    "            color=\"#0000ff\"\n",
    "        ),\n",
    "        tickfont=dict(\n",
    "            color=\"#0000ff\"\n",
    "        )\n",
    "    ),\n",
    "     \n",
    "    # pass the y-axis 2 title, titlefont, color and\n",
    "    # tickfont as a dictionary and store it an\n",
    "    # variable yaxis 2\n",
    "    yaxis2=dict(\n",
    "        title=\"yaxis 2\",\n",
    "        titlefont=dict(\n",
    "            color=\"#FF0000\"\n",
    "        ),\n",
    "        tickfont=dict(\n",
    "            color=\"#FF0000\"\n",
    "        ),\n",
    "        anchor=\"free\",  # specifying x - axis has to be the fixed\n",
    "        overlaying=\"y\",  # specifyinfg y - axis has to be separated\n",
    "        side=\"left\",  # specifying the side the axis should be present\n",
    "        position=0.2  # specifying the position of the axis\n",
    "    ),\n",
    "   \n",
    "    # pass the y-axis 3 title, titlefont, color and\n",
    "    # tickfont as a dictionary and store it an\n",
    "    # variable yaxis 3\n",
    "    yaxis3=dict(\n",
    "        title=\"yaxis 3\",\n",
    "        titlefont=dict(\n",
    "            color=\"#006400\"\n",
    "        ),\n",
    "        tickfont=dict(\n",
    "            color=\"#006400\"\n",
    "        ),\n",
    "        anchor=\"x\",     # specifying x - axis has to be the fixed\n",
    "        overlaying=\"y\",  # specifyinfg y - axis has to be separated\n",
    "        side=\"right\"  # specifying the side the axis should be present\n",
    "    ),\n",
    "     \n",
    "    # pass the y-axis 4 title, titlefont, color and\n",
    "    # tickfont as a dictionary and store it an\n",
    "    # variable yaxis 4\n",
    "    yaxis4=dict(\n",
    "        title=\"yaxis 4\",\n",
    "        titlefont=dict(\n",
    "            color=\"#8f00ff\"\n",
    "        ),\n",
    "        tickfont=dict(\n",
    "            color=\"#8f00ff\"\n",
    "        ),\n",
    "        anchor=\"free\",  # specifying x - axis has to be the fixed\n",
    "        overlaying=\"y\",  # specifyinfg y - axis has to be separated\n",
    "        side=\"right\",  # specifying the side the axis should be present\n",
    "        position=0.8  # specifying the position of the axis\n",
    "    )\n",
    ")\n",
    " \n",
    " \n",
    "# Update layout of the plot namely title_text, width\n",
    "# and place it in the center using title_x parameter\n",
    "# as shown\n",
    "fig.update_layout(\n",
    "    title_text=\"4 y-axes scatter plot in plotly\",\n",
    "    width=1000,\n",
    "    title_x=0.5\n",
    ")"
   ]
  },
  {
   "cell_type": "code",
   "execution_count": null,
   "id": "6add9808-a804-4005-83ab-ee78dc7feb41",
   "metadata": {},
   "outputs": [],
   "source": [
    "from plotly.subplots import make_subplots\n",
    "x = np.arange(12)\n",
    "x_ticks_labels = ['1st decile','2nd decile','3rd decile','4th decile', '5th decile',\n",
    "                 '6th decile', '7th decile','8th decile','9th decile', '10th decile',\n",
    "                 'area', 'aft' ]\n",
    "fig = plt.figure(1)\n",
    "ax = fig.add_subplot(111)\n",
    "#fig = make_subplots(specs=[[{\"secondary_y\": True}]])\n",
    "ax.plot(np.mean(decile_area_aft[kr_peak_data_for_training['type'] == 1], axis = 0), color = 'blue', label = \"Straxen S1\")\n",
    "ax.plot(np.mean(decile_area_aft[kr_peak_data_for_training['type'] == 2], axis = 0), color = 'green', label = \"Straxen S2\")\n",
    "\n",
    "#fig.update_yaxes(title_text= \"Maximum Normalized Log10 Deciles + Area\", secondary_y=False)\n",
    "#fig.update_yaxes(title_text= \"Area Fraction Top\", secondary_y=True)\n",
    "\n",
    "ax.set_xticks(x)\n",
    "ax.set_xticklabels(x_ticks_labels, rotation='vertical', fontsize=10)\n",
    "ax.set_ylabel(\"Maximum Normalized Log10(Deciles, Area)\")\n",
    "ax2 = ax.twinx()\n",
    "#ax2.bar(x, y1, alpha=0.5) \n",
    "ax2.set_ylabel('Area Fraction Top')\n",
    "#ax2.set_xticks(x)\n",
    "#ax2.set_xticklabels([])\n",
    "\n",
    "ax.set_ylabel(\"Maximum Normalized Log10(Deciles, Area)\", fontsize=10)\n",
    "ax.set_title(\"SOM mean input vectors for Straxen classified S1s and S2s\")\n",
    "ax.legend()\n",
    "#plt.yscale('log')"
   ]
  },
  {
   "cell_type": "code",
   "execution_count": null,
   "id": "7436aeb0-5526-456a-a57d-ae86a3946b63",
   "metadata": {},
   "outputs": [],
   "source": [
    "from plotly.subplots import make_subplots\n",
    "x = np.arange(12)\n",
    "x_ticks_labels = ['1st decile','2nd decile','3rd decile','4th decile', '5th decile',\n",
    "                 '6th decile', '7th decile','8th decile','9th decile', '10th decile',\n",
    "                 'area', 'aft' ]\n",
    "fig = plt.figure(1)\n",
    "ax = fig.add_subplot(111)\n",
    "#fig = make_subplots(specs=[[{\"secondary_y\": True}]])\n",
    "\n",
    "for q in np.arange(200):\n",
    "    ax.plot(decile_area_aft[kr_peak_data_for_training['type'] == 1][q], color = 'blue', alpha = 0.1, label = \"Straxen S1\")\n",
    "    ax.plot(decile_area_aft[kr_peak_data_for_training['type'] == 2][q], color = 'green', alpha = 0.1,label = \"Straxen S2\")\n",
    "\n",
    "#fig.update_yaxes(title_text= \"Maximum Normalized Log10 Deciles + Area\", secondary_y=False)\n",
    "#fig.update_yaxes(title_text= \"Area Fraction Top\", secondary_y=True)\n",
    "\n",
    "ax.set_xticks(x)\n",
    "ax.set_xticklabels(x_ticks_labels, rotation='vertical', fontsize=10)\n",
    "ax.set_ylabel(\"Maximum Normalized Log10(Deciles, Area)\")\n",
    "ax2 = ax.twinx()\n",
    "#ax2.bar(x, y1, alpha=0.5) \n",
    "ax2.set_ylabel('Area Fraction Top')\n",
    "#ax2.set_xticks(x)\n",
    "#ax2.set_xticklabels([])\n",
    "\n",
    "ax.set_ylabel(\"Maximum Normalized Log10(Deciles, Area)\", fontsize=10)\n",
    "ax.set_title(\"500 examples of input vectors form Straxen classified S1s and S2s\")\n",
    "#ax.legend()\n",
    "#plt.yscale('log')"
   ]
  },
  {
   "cell_type": "code",
   "execution_count": null,
   "id": "17ff0ea1-93aa-49e8-a42e-501b2f8e9d51",
   "metadata": {},
   "outputs": [],
   "source": [
    "from plotly.subplots import make_subplots\n",
    "x = np.arange(12)\n",
    "x_ticks_labels = ['1st decile','2nd decile','3rd decile','4th decile', '5th decile',\n",
    "                 '6th decile', '7th decile','8th decile','9th decile', '10th decile',\n",
    "                 'area', 'aft' ]\n",
    "fig = plt.figure(1)\n",
    "ax = fig.add_subplot(111)\n",
    "#fig = make_subplots(specs=[[{\"secondary_y\": True}]])\n",
    "\n",
    "for q in np.arange(500):\n",
    "    ax.plot(decile_area_aft[kr_peak_data_for_training['type'] == 1][q], color = 'blue', alpha = 0.05, label = \"Straxen S1\")\n",
    "    ax.plot(decile_area_aft[kr_peak_data_for_training['type'] == 2][q], color = 'green', alpha = 0.05,label = \"Straxen S2\")\n",
    "\n",
    "#fig.update_yaxes(title_text= \"Maximum Normalized Log10 Deciles + Area\", secondary_y=False)\n",
    "#fig.update_yaxes(title_text= \"Area Fraction Top\", secondary_y=True)\n",
    "\n",
    "ax.set_xticks(x)\n",
    "ax.set_xticklabels(x_ticks_labels, rotation='vertical', fontsize=10)\n",
    "ax.set_ylabel(\"Maximum Normalized Log10(Deciles, Area)\")\n",
    "ax2 = ax.twinx()\n",
    "#ax2.bar(x, y1, alpha=0.5) \n",
    "ax2.set_ylabel('Area Fraction Top')\n",
    "#ax2.set_xticks(x)\n",
    "#ax2.set_xticklabels([])\n",
    "\n",
    "ax.set_ylabel(\"Maximum Normalized Log10(Deciles, Area)\", fontsize=10)\n",
    "#ax.set_title(\"500 examples of input vectors form Straxen classified S1s and S2s\")\n",
    "plt.savefig('./figures/500_examples_of_inputs.png')\n",
    "#ax.legend()\n",
    "#plt.yscale('log')"
   ]
  },
  {
   "cell_type": "code",
   "execution_count": null,
   "id": "29158a55-9a5c-4892-b6ce-fc59363059c6",
   "metadata": {},
   "outputs": [],
   "source": [
    "from plotly.subplots import make_subplots\n",
    "x = np.arange(12)\n",
    "x_ticks_labels = ['1st decile','2nd decile','3rd decile','4th decile', '5th decile',\n",
    "                 '6th decile', '7th decile','8th decile','9th decile', '10th decile',\n",
    "                 'area', 'aft' ]\n",
    "fig = plt.figure(1)\n",
    "ax = fig.add_subplot(111)\n",
    "#fig = make_subplots(specs=[[{\"secondary_y\": True}]])\n",
    "\n",
    "for q in np.arange(500):\n",
    "    ax.plot(decile_area_aft[kr_peak_data_for_training['type'] == 1][q], color = 'blue', alpha = 0.05, label = \"Straxen S1\")\n",
    "    ax.plot(decile_area_aft[kr_peak_data_for_training['type'] == 2][q], color = 'green', alpha = 0.05,label = \"Straxen S2\")\n",
    "\n",
    "#fig.update_yaxes(title_text= \"Maximum Normalized Log10 Deciles + Area\", secondary_y=False)\n",
    "#fig.update_yaxes(title_text= \"Area Fraction Top\", secondary_y=True)\n",
    "\n",
    "ax.set_xticks(x)\n",
    "ax.set_xticklabels(x_ticks_labels, rotation='vertical', fontsize=10)\n",
    "ax.set_ylabel(\"Maximum Normalized Log10(Deciles, Area)\")\n",
    "ax2 = ax.twinx()\n",
    "#ax2.bar(x, y1, alpha=0.5) \n",
    "ax2.set_ylabel('Area Fraction Top')\n",
    "#ax2.set_xticks(x)\n",
    "#ax2.set_xticklabels([])\n",
    "\n",
    "ax.set_ylabel(\"Maximum Normalized Log10(Deciles, Area)\", fontsize=10)\n",
    "#ax.legend()\n",
    "#ax.set_title(\"500 examples of input vectors form Straxen classified S1s and S2s\")\n",
    "plt.savefig('./figures/500_examples_of_inputs.png')\n",
    "#ax.legend()\n",
    "#plt.yscale('log')"
   ]
  },
  {
   "cell_type": "code",
   "execution_count": null,
   "id": "984b154a-dabc-4bb7-851d-c68dde47841f",
   "metadata": {},
   "outputs": [],
   "source": [
    "decile_area_aft[kr_peak_data_for_training['type'] == 1][0]"
   ]
  },
  {
   "cell_type": "code",
   "execution_count": null,
   "id": "6deb2bf2-5a3c-47a8-b37e-e55eac75c459",
   "metadata": {},
   "outputs": [],
   "source": [
    "fig = plt.figure(1, figsize=(12, 12))\n",
    "\n",
    "extent = 1, 12, 0, 3\n",
    "im2 = plt.imshow(decile_area_aft[kr_peak_data_for_training['type'] == 1], \n",
    "                 cmap=plt.cm.Blues, alpha=.9, interpolation='bilinear',\n",
    "                extent = extent)"
   ]
  },
  {
   "cell_type": "code",
   "execution_count": null,
   "id": "97d2af90-8233-49d1-b933-c528c97696d5",
   "metadata": {},
   "outputs": [],
   "source": [
    "bin_s1_data = decile_area_aft[kr_peak_data_for_training['type'] == 1]"
   ]
  },
  {
   "cell_type": "code",
   "execution_count": null,
   "id": "95f8f0ac-9877-43f7-a827-75f435c19939",
   "metadata": {},
   "outputs": [],
   "source": [
    "np.shape(bin_s1_data)"
   ]
  },
  {
   "cell_type": "code",
   "execution_count": null,
   "id": "5022901b-01eb-4188-b5e5-b3774c8c2bba",
   "metadata": {},
   "outputs": [],
   "source": [
    "bin_s1_data = decile_area_aft[kr_peak_data_for_training['type'] == 1]\n",
    "num_xbins = 12\n",
    "num_ybins = 10\n",
    "bin_storage = np.zeros((num_ybins, num_xbins))\n",
    "for n in np.arange(num_xbins):\n",
    "    for m in np.arange(num_ybins):\n",
    "        bin_storage[m,n] = sum((m/10 < bin_s1_data[:,n])*(bin_s1_data[:,n] <= (m+1)/10))"
   ]
  },
  {
   "cell_type": "code",
   "execution_count": null,
   "id": "ddfa9ca1-2cac-4298-b014-c861d5875799",
   "metadata": {},
   "outputs": [],
   "source": [
    "def bin_data(data, xbins, ybins):\n",
    "    bin_s1_data = data\n",
    "    num_xbins = xbins\n",
    "    num_ybins = ybins\n",
    "    bin_storage = np.zeros((num_ybins, num_xbins))\n",
    "    for n in np.arange(num_xbins):\n",
    "        for m in np.arange(num_ybins):\n",
    "            bin_storage[m,n] = sum((m/ybins < bin_s1_data[:,n])*(bin_s1_data[:,n] <= (m+1)/ybins))\n",
    "            \n",
    "    return bin_storage"
   ]
  },
  {
   "cell_type": "code",
   "execution_count": null,
   "id": "102df9d7-3b94-4241-b901-34106a565075",
   "metadata": {},
   "outputs": [],
   "source": [
    "extent = 1, 12, 0, 10\n",
    "\n",
    "im2 = plt.imshow(bin_storage, \n",
    "                 cmap=plt.cm.Blues, alpha=.5, interpolation='nearest',\n",
    "                extent = extent)\n",
    "\n"
   ]
  },
  {
   "cell_type": "code",
   "execution_count": null,
   "id": "437a4096-d8cd-4641-af03-81a8272fa776",
   "metadata": {},
   "outputs": [],
   "source": [
    "extent = 1, 12, 0, 10\n",
    "im2 = plt.imshow(np.flip(bin_storage, 0), \n",
    "                 cmap=plt.cm.Blues, alpha=.5, interpolation='nearest',\n",
    "                extent = extent)"
   ]
  },
  {
   "cell_type": "code",
   "execution_count": null,
   "id": "318ed7ec-7e55-48cf-8cab-48b53f014a9d",
   "metadata": {},
   "outputs": [],
   "source": [
    "s1_bins = bin_data(decile_area_aft[kr_peak_data_for_training['type'] == 1], 12, 25)"
   ]
  },
  {
   "cell_type": "code",
   "execution_count": null,
   "id": "2b12e57c-601c-4f4d-9b62-b314b96a5558",
   "metadata": {},
   "outputs": [],
   "source": [
    "s2_bins = bin_data(decile_area_aft[kr_peak_data_for_training['type'] == 2], 12, 25)"
   ]
  },
  {
   "cell_type": "code",
   "execution_count": null,
   "id": "a765b985-eb0e-48de-9784-741a640c1e0e",
   "metadata": {},
   "outputs": [],
   "source": [
    "extent = 1, 30, 0, 25\n",
    "#x = np.arange(12) +0.5\n",
    "#x_ticks_labels = ['1st decile','2nd decile','3rd decile','4th decile', '5th decile',\n",
    "#                 '6th decile', '7th decile','8th decile','9th decile', '10th decile',\n",
    "#                 'area', 'aft' ]\n",
    "fig = plt.figure(1)\n",
    "ax = fig.add_subplot(111)\n",
    "im2 = plt.imshow(np.flip(s1_bins, 0), \n",
    "                 cmap=plt.cm.Blues, alpha=.5, interpolation='nearest',\n",
    "                 extent = extent)\n",
    "\n",
    "#ax.set_xticks(x)\n",
    "#ax.set_xticklabels(x_ticks_labels, rotation='vertical', fontsize=10)\n",
    "plt.colorbar()"
   ]
  },
  {
   "cell_type": "code",
   "execution_count": null,
   "id": "6a89b36d-a566-4c39-ad37-ffd93bbb2523",
   "metadata": {},
   "outputs": [],
   "source": [
    "extent = 1, 30, 0, 25\n",
    "#x = np.arange(12) +0.5\n",
    "#x_ticks_labels = ['1st decile','2nd decile','3rd decile','4th decile', '5th decile',\n",
    "#                 '6th decile', '7th decile','8th decile','9th decile', '10th decile',\n",
    "#                 'area', 'aft' ]\n",
    "fig = plt.figure(1)\n",
    "ax = fig.add_subplot(111)\n",
    "im2 = plt.imshow(np.flip(np.log10(s1_bins+1), 0), \n",
    "                 cmap=plt.cm.Blues, alpha=.5, interpolation='nearest',\n",
    "                 extent = extent)\n",
    "\n",
    "#ax.set_xticks(x)\n",
    "#ax.set_xticklabels(x_ticks_labels, rotation='vertical', fontsize=10)\n",
    "plt.colorbar()"
   ]
  },
  {
   "cell_type": "code",
   "execution_count": null,
   "id": "0681b3e1-ab89-4c51-9899-f7e7ff387bdd",
   "metadata": {},
   "outputs": [],
   "source": [
    "x"
   ]
  },
  {
   "cell_type": "code",
   "execution_count": null,
   "id": "0778ee0f-b729-486e-a1c9-264dd0ec855d",
   "metadata": {},
   "outputs": [],
   "source": [
    "extent = 1, 30, 0, 25\n",
    "im2 = plt.imshow(np.flip(s2_bins, 0), \n",
    "                 cmap=plt.cm.Greens, alpha=.5, interpolation='nearest',\n",
    "                extent = extent)\n",
    "plt.colorbar()"
   ]
  },
  {
   "cell_type": "code",
   "execution_count": null,
   "id": "84176afc-c146-4f9a-8628-7c998012284d",
   "metadata": {},
   "outputs": [],
   "source": [
    "extent = 1, 30, 0, 25\n",
    "im2 = plt.imshow(np.flip(np.log10(s2_bins+1), 0), \n",
    "                 cmap=plt.cm.Greens, alpha=.5, interpolation='nearest',\n",
    "                extent = extent)\n",
    "plt.colorbar()"
   ]
  },
  {
   "cell_type": "code",
   "execution_count": null,
   "id": "db828952-41b9-4814-aaa8-0d74e11a6c90",
   "metadata": {},
   "outputs": [],
   "source": [
    "extent = 1, 30, 0, 25\n",
    "im2 = plt.imshow(np.flip(np.log10(s2_bins+1), 0), \n",
    "                 cmap=plt.cm.Greens, alpha=.5, interpolation='bilinear',\n",
    "                extent = extent)\n",
    "plt.colorbar()"
   ]
  },
  {
   "cell_type": "code",
   "execution_count": null,
   "id": "d28a5c97-c50e-40b9-88cb-31643e6dbb92",
   "metadata": {},
   "outputs": [],
   "source": [
    "x = np.arange(12)\n",
    "x_ticks_labels = ['1st decile','2nd decile','3rd decile','4th decile', '5th decile',\n",
    "                 '6th decile', '7th decile','8th decile','9th decile', '10th decile',\n",
    "                 'area', 'aft' ]\n",
    "extent = 1, 12, 0, 10\n",
    "im2 = plt.imshow(np.flip(bin_storage, 0), \n",
    "                 cmap=plt.cm.Blues, alpha=.5, interpolation='nearest',\n",
    "                extent = extent)\n",
    "im2 = plt.imshow(np.flip(s2_bins, 0), \n",
    "                 cmap=plt.cm.Reds, alpha=.5, interpolation='nearest',\n",
    "                extent = extent)\n",
    "\n",
    "plt.xticks(x)\n",
    "plt.xticklabels(x_ticks_labels, rotation='vertical', fontsize=10)"
   ]
  },
  {
   "cell_type": "code",
   "execution_count": null,
   "id": "06cfc6e0-bc8a-40e2-9c57-35720076e207",
   "metadata": {},
   "outputs": [],
   "source": [
    "fig = plt.figure(1)\n",
    "ax = fig.add_subplot(111)\n",
    "\n",
    "x = np.arange(12)\n",
    "x_ticks_labels = ['1st decile','2nd decile','3rd decile','4th decile', '5th decile',\n",
    "                 '6th decile', '7th decile','8th decile','9th decile', '10th decile',\n",
    "                 'area', 'aft' ]\n",
    "extent = 1, 12, 0, 10\n",
    "im2 = ax.imshow(np.flip(bin_storage, 0), \n",
    "                 cmap=plt.cm.Blues, alpha=.5, interpolation='nearest',\n",
    "                extent = extent, label = \"S1\")\n",
    "im2 = ax.imshow(np.flip(s2_bins, 0), \n",
    "                 cmap=plt.cm.Reds, alpha=.5, interpolation='nearest',\n",
    "                extent = extent, label = \"S2\")\n",
    "\n",
    "ax.set_ylabel(\"Maximum Normalized Log10(Deciles, Area)\")\n",
    "ax2 = ax.twinx()\n",
    "#ax2.bar(x, y1, alpha=0.5) \n",
    "ax2.set_ylabel('Area Fraction Top')\n",
    "ax.set_xticks(x)\n",
    "ax.set_xticklabels(x_ticks_labels, rotation='vertical', fontsize=10)\n",
    "#ax.legend()\n"
   ]
  },
  {
   "cell_type": "code",
   "execution_count": null,
   "id": "1c78a961-887c-4f81-97a3-e6967bdc5992",
   "metadata": {},
   "outputs": [],
   "source": [
    "\n",
    "\n",
    "fig = plt.figure(1)\n",
    "ax = fig.add_subplot(111)\n",
    "\n",
    "x = np.arange(12)\n",
    "x_ticks_labels = ['1st decile','2nd decile','3rd decile','4th decile', '5th decile',\n",
    "                 '6th decile', '7th decile','8th decile','9th decile', '10th decile',\n",
    "                 'area', 'aft' ]\n",
    "extent = 1, 12, 0, 10\n",
    "#ax.plot(np.mean(decile_area_aft[kr_peak_data_for_training['type'] == 1], axis = 0), color = 'blue', label = \"Straxen S1\")\n",
    "#ax.plot(np.mean(decile_area_aft[kr_peak_data_for_training['type'] == 2], axis = 0), color = 'green', label = \"Straxen S2\")\n",
    "im2 = ax.imshow(np.flip(bin_storage, 0), \n",
    "                 cmap=plt.cm.Blues, alpha=.5, interpolation='nearest',\n",
    "                extent = extent, label = \"S1\")\n",
    "im2 = ax.imshow(np.flip(s2_bins, 0), \n",
    "                 cmap=plt.cm.Reds, alpha=.5, interpolation='nearest',\n",
    "                extent = extent, label = \"S2\")\n",
    "\n",
    "\n",
    "ax.set_ylabel(\"Maximum Normalized Log10(Deciles, Area)\")\n",
    "ax2 = ax.twinx()\n",
    "#ax2.bar(x, y1, alpha=0.5) \n",
    "ax2.set_ylabel('Area Fraction Top')\n",
    "ax.set_xticks(x)\n",
    "ax.set_xticklabels(x_ticks_labels, rotation='vertical', fontsize=10)\n",
    "#ax.legend()\n",
    "#plt.show()"
   ]
  },
  {
   "cell_type": "code",
   "execution_count": null,
   "id": "4e363168-5c6e-48fa-93a0-439900f6ffc0",
   "metadata": {},
   "outputs": [],
   "source": [
    "s1_bins2 = bin_data(decile_area_aft[kr_peak_data_for_training['type'] == 1], 12, 25)\n",
    "s2_bins2 = bin_data(decile_area_aft[kr_peak_data_for_training['type'] == 2], 12, 25)"
   ]
  },
  {
   "cell_type": "code",
   "execution_count": null,
   "id": "7e55dd67-3ef3-4672-82f4-24fd1af6d814",
   "metadata": {},
   "outputs": [],
   "source": [
    "fig = plt.figure(1, figsize = (6,6))\n",
    "ax = fig.add_subplot(111)\n",
    "\n",
    "x = np.arange(12)\n",
    "#y = np.arange(11)/10\n",
    "x_ticks_labels = ['0', '1st decile','2nd decile','3rd decile','4th decile', '5th decile',\n",
    "                 '6th decile', '7th decile','8th decile','9th decile', '10th decile',\n",
    "                 'area', 'aft' ]\n",
    "extent = 1, 12, 0, 10\n",
    "#ax.plot(np.mean(decile_area_aft[kr_peak_data_for_training['type'] == 1], axis = 0), color = 'blue', label = \"Straxen S1\")\n",
    "#ax.plot(np.mean(decile_area_aft[kr_peak_data_for_training['type'] == 2], axis = 0), color = 'green', label = \"Straxen S2\")\n",
    "im2 = ax.imshow(np.flip(s1_bins2, 0), \n",
    "                 cmap=plt.cm.Blues, alpha=.5, interpolation='nearest',\n",
    "                extent = extent, label = \"S1\")\n",
    "im2 = ax.imshow(np.flip(s2_bins2, 0), \n",
    "                 cmap=plt.cm.Reds, alpha=.5, interpolation='nearest',\n",
    "                extent = extent, label = \"S2\")\n",
    "\n",
    "\n",
    "ax.set_ylabel(\"Maximum Normalized Log10(Deciles, Area)\")\n",
    "#ax2 = ax.twinx()\n",
    "#ax2.bar(x, y1, alpha=0.5) \n",
    "#ax2.set_ylabel('Area Fraction Top')\n",
    "ax.set_xticks(x)\n",
    "#ax.set_yticks(y)\n",
    "ax.set_xticklabels(x_ticks_labels, rotation='vertical', fontsize=10)\n",
    "ax.set_xlim(1)\n",
    "#ax.set_ylim(0,3)\n",
    "#ax2.set_ylim(0.3,0.7)\n",
    "#ax.legend()\n",
    "#plt.show()"
   ]
  },
  {
   "cell_type": "code",
   "execution_count": null,
   "id": "2bf68da6-7a71-4879-9089-8ed08764816e",
   "metadata": {},
   "outputs": [],
   "source": [
    "fig = plt.figure(1, figsize = (12,12))\n",
    "ax = fig.add_subplot(111)\n",
    "\n",
    "x = np.arange(12)\n",
    "x_ticks_labels = ['0', '1st decile','2nd decile','3rd decile','4th decile', '5th decile',\n",
    "                 '6th decile', '7th decile','8th decile','9th decile', '10th decile',\n",
    "                 'area', 'aft' ]\n",
    "extent = 1, 12, 0, 10\n",
    "#ax.plot(np.mean(decile_area_aft[kr_peak_data_for_training['type'] == 1], axis = 0), color = 'blue', label = \"Straxen S1\")\n",
    "#ax.plot(np.mean(decile_area_aft[kr_peak_data_for_training['type'] == 2], axis = 0), color = 'green', label = \"Straxen S2\")\n",
    "im2 = ax.imshow(np.flip(s1_bins2, 0), \n",
    "                 cmap=plt.cm.Blues, alpha=.5, interpolation='nearest',\n",
    "                extent = extent, label = \"S1\")\n",
    "im2 = ax.imshow(np.flip(s2_bins2, 0), \n",
    "                 cmap=plt.cm.Reds, alpha=.5, interpolation='nearest',\n",
    "                extent = extent, label = \"S2\")\n",
    "\n",
    "\n",
    "ax.set_ylabel(\"Maximum Normalized Log10(Deciles, Area)\")\n",
    "#ax2 = ax.twinx()\n",
    "#ax2.bar(x, y1, alpha=0.5) \n",
    "#ax2.set_ylabel('Area Fraction Top')\n",
    "ax.set_xticks(x)\n",
    "ax.set_xticklabels(x_ticks_labels, rotation='vertical', fontsize=10)\n",
    "ax.set_xlim(1)\n",
    "#ax.set_ylim(0,3)\n",
    "#ax2.set_ylim(0.3,0.7)\n",
    "#ax.legend()\n",
    "#plt.show()"
   ]
  },
  {
   "cell_type": "code",
   "execution_count": null,
   "id": "ee7544a8-77fd-428f-ace2-bf30827200f5",
   "metadata": {},
   "outputs": [],
   "source": [
    "fig = plt.figure(1)\n",
    "ax = fig.add_subplot(111)\n",
    "\n",
    "x = np.arange(12)\n",
    "x_ticks_labels = ['1st decile','2nd decile','3rd decile','4th decile', '5th decile',\n",
    "                 '6th decile', '7th decile','8th decile','9th decile', '10th decile',\n",
    "                 'area', 'aft' ]\n",
    "extent = 1, 12, 0, 10\n",
    "#ax.plot(np.mean(decile_area_aft[kr_peak_data_for_training['type'] == 1], axis = 0), color = 'blue', label = \"Straxen S1\")\n",
    "#ax.plot(np.mean(decile_area_aft[kr_peak_data_for_training['type'] == 2], axis = 0), color = 'green', label = \"Straxen S2\")\n",
    "im2 = ax.imshow(np.flip(bin_storage, 0), \n",
    "                 cmap=plt.cm.Blues, alpha=.5, interpolation='bilinear',\n",
    "                extent = extent, label = \"S1\")\n",
    "im2 = ax.imshow(np.flip(s2_bins, 0), \n",
    "                 cmap=plt.cm.Reds, alpha=.5, interpolation='bilinear',\n",
    "                extent = extent, label = \"S2\")\n",
    "\n",
    "\n",
    "ax.set_ylabel(\"Maximum Normalized Log10(Deciles, Area)\")\n",
    "ax2 = ax.twinx()\n",
    "#ax2.bar(x, y1, alpha=0.5) \n",
    "ax2.set_ylabel('Area Fraction Top')\n",
    "ax.set_xticks(x)\n",
    "ax.set_xticklabels(x_ticks_labels, rotation='vertical', fontsize=10)"
   ]
  },
  {
   "cell_type": "code",
   "execution_count": null,
   "id": "d9225252-34cf-4218-af53-0e82c9b73e10",
   "metadata": {},
   "outputs": [],
   "source": [
    "extent = 1, 12, 0, 10\n",
    "im2 = plt.imshow(np.flip(bin_storage, 0), \n",
    "                 cmap=plt.cm.Blues, alpha=.5, interpolation='bilinear',\n",
    "                extent = extent)\n",
    "im2 = plt.imshow(np.flip(s2_bins, 0), \n",
    "                 cmap=plt.cm.Reds, alpha=.5, interpolation='bilinear',\n",
    "                extent = extent)"
   ]
  },
  {
   "cell_type": "code",
   "execution_count": null,
   "id": "c2b5d3d4-727e-4763-bfa7-7e3448e9ce63",
   "metadata": {},
   "outputs": [],
   "source": [
    "bin_storage.shape"
   ]
  },
  {
   "cell_type": "code",
   "execution_count": null,
   "id": "a517a7e1-8a24-4f5e-9686-2b3b2b7e4fd9",
   "metadata": {},
   "outputs": [],
   "source": [
    "sum((0.0 < bin_s1_data[:,1])*(bin_s1_data[:,1] <= 0.1))"
   ]
  },
  {
   "cell_type": "code",
   "execution_count": null,
   "id": "25ca08c0-07cd-461d-89a1-ab064b4a429a",
   "metadata": {},
   "outputs": [],
   "source": [
    "sum(0.1 < (bin_s1_data[:,1] <= 0.2))"
   ]
  },
  {
   "cell_type": "code",
   "execution_count": null,
   "id": "619d4f17-b2b3-4026-b2ec-d017a5860d51",
   "metadata": {},
   "outputs": [],
   "source": [
    "sum(bin_s1_data[:,1] <= 0.1)"
   ]
  },
  {
   "cell_type": "code",
   "execution_count": null,
   "id": "9629bc48-05da-491c-950b-1b08a3f78d84",
   "metadata": {},
   "outputs": [],
   "source": [
    "fig = plt.figure(1, figsize=(12, 12))\n",
    "\n",
    "extent = 1, 12, 0, 3\n",
    "im2 = plt.imshow(decile_area_aft[kr_peak_data_for_training['type'] == 2], \n",
    "                 cmap=plt.cm.Reds, alpha=.9, interpolation='bilinear',\n",
    "                extent = extent)"
   ]
  },
  {
   "cell_type": "code",
   "execution_count": null,
   "id": "fcceb09c-745c-40bd-b1cb-a570935504b7",
   "metadata": {},
   "outputs": [],
   "source": [
    "fig = plt.figure(1, figsize=(12, 12))\n",
    "\n",
    "extent = 1, 12, 0, 3\n",
    "im2 = plt.imshow(decile_area_aft[kr_peak_data_for_training['type'] == 2], \n",
    "                 cmap=plt.cm.Reds, alpha=.5, interpolation='bilinear',\n",
    "                extent = extent)\n",
    "im2 = plt.imshow(decile_area_aft[kr_peak_data_for_training['type'] == 1], \n",
    "                 cmap=plt.cm.Blues, alpha=.5, interpolation='bilinear',\n",
    "                extent = extent)"
   ]
  },
  {
   "cell_type": "code",
   "execution_count": null,
   "id": "cac0e919-7894-4c66-8a24-78164dc60365",
   "metadata": {},
   "outputs": [],
   "source": [
    "x = np.arange(12)\n",
    "x_ticks_labels = ['1st decile','2nd decile','3rd decile','4th decile', '5th decile',\n",
    "                 '6th decile', '7th decile','8th decile','9th decile', '10th decile',\n",
    "                 'area', 'aft' ]\n",
    "fig, ax = plt.subplots(1,1) \n",
    "\n",
    "plt.plot(np.mean(log_data[kr_peak_data_for_training['type'] == 1], axis = 0), color = 'blue')\n",
    "plt.plot(np.mean(log_data[kr_peak_data_for_training['type'] == 2], axis = 0), color = 'green')\n",
    "\n",
    "ax.set_xticks(x)\n",
    "ax.set_xticklabels(x_ticks_labels, rotation='vertical', fontsize=18)\n",
    "log_data"
   ]
  },
  {
   "cell_type": "code",
   "execution_count": null,
   "id": "04fa79c0-e244-48f7-9068-e1de509f8db0",
   "metadata": {},
   "outputs": [],
   "source": []
  },
  {
   "cell_type": "code",
   "execution_count": null,
   "id": "890f8a8d-54df-4a4e-864a-0739e3c247ac",
   "metadata": {},
   "outputs": [],
   "source": [
    "np.shape(peak_data_log/ np.max(peak_data_log))"
   ]
  },
  {
   "cell_type": "code",
   "execution_count": null,
   "id": "03f26ac8-893f-49d9-9a53-20974cabd571",
   "metadata": {},
   "outputs": [],
   "source": [
    "np.shape(log_area/ np.max(log_area))"
   ]
  },
  {
   "cell_type": "code",
   "execution_count": null,
   "id": "52c31c2a-7108-4ad2-a2e7-bcb0808b68de",
   "metadata": {},
   "outputs": [],
   "source": [
    "np.shape(decile_area_aft)"
   ]
  },
  {
   "cell_type": "code",
   "execution_count": null,
   "id": "6504747b-d3ba-4152-8d9d-a5834de329a6",
   "metadata": {},
   "outputs": [],
   "source": [
    "decile_area_aft_zero = np.concatenate((decile_area_aft, np.reshape(np.zeros(12), [1,12])), axis = 0)"
   ]
  },
  {
   "cell_type": "code",
   "execution_count": null,
   "id": "aefa2a6c-65cf-4903-bcab-6953df64e0b4",
   "metadata": {},
   "outputs": [],
   "source": [
    "plt.plot(decile_area_aft_zero[0])"
   ]
  },
  {
   "cell_type": "code",
   "execution_count": null,
   "id": "fe8fe66b-99ed-4892-8455-45d9cf6663e9",
   "metadata": {},
   "outputs": [],
   "source": [
    "decile_area_aft_zero[:3]"
   ]
  },
  {
   "cell_type": "code",
   "execution_count": null,
   "id": "c396edae-40c3-4f1d-931d-ac6bb1e259f8",
   "metadata": {},
   "outputs": [],
   "source": [
    "np.shape(decile_area_aft_zero)"
   ]
  },
  {
   "cell_type": "code",
   "execution_count": null,
   "id": "07379826-16ae-4a70-8887-2a2667ec98b1",
   "metadata": {},
   "outputs": [],
   "source": [
    "export_data(decile_area_aft_zero, './saved_data/run_034373_10decile_logarea_aft.raw')"
   ]
  },
  {
   "cell_type": "code",
   "execution_count": null,
   "id": "3019af85-5465-4bf3-ae89-f1df630ed666",
   "metadata": {},
   "outputs": [],
   "source": [
    "np.mean(decile_area_aft_zero)"
   ]
  },
  {
   "cell_type": "code",
   "execution_count": null,
   "id": "38817826-9365-4805-ac52-16bf0afe2ea8",
   "metadata": {},
   "outputs": [],
   "source": [
    "np.std(decile_area_aft_zero)"
   ]
  },
  {
   "cell_type": "code",
   "execution_count": null,
   "id": "ae7ece51-f0aa-4198-8d38-6c78a43e2968",
   "metadata": {},
   "outputs": [],
   "source": [
    "np.var(decile_area_aft_zero)"
   ]
  },
  {
   "cell_type": "code",
   "execution_count": null,
   "id": "5e10fe03-6244-4297-b768-da874bb940ed",
   "metadata": {},
   "outputs": [],
   "source": []
  }
 ],
 "metadata": {
  "kernelspec": {
   "display_name": "Python 3 (ipykernel)",
   "language": "python",
   "name": "python3"
  },
  "language_info": {
   "codemirror_mode": {
    "name": "ipython",
    "version": 3
   },
   "file_extension": ".py",
   "mimetype": "text/x-python",
   "name": "python",
   "nbconvert_exporter": "python",
   "pygments_lexer": "ipython3",
   "version": "3.8.12"
  }
 },
 "nbformat": 4,
 "nbformat_minor": 5
}
