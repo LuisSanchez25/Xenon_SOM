{
 "cells": [
  {
   "cell_type": "code",
   "execution_count": 20,
   "id": "e9924227-863d-4cb5-87a0-0e8fa5326416",
   "metadata": {},
   "outputs": [],
   "source": [
    "import strax \n",
    "import straxen \n",
    "import numpy as np\n",
    "import matplotlib.pyplot as plt\n",
    "import cutax\n",
    "import pandas as pd\n",
    "import wfsim"
   ]
  },
  {
   "cell_type": "code",
   "execution_count": 21,
   "id": "ece6109b-5a82-4432-94f3-989158a38fd9",
   "metadata": {},
   "outputs": [],
   "source": [
    "import matplotlib.pyplot as plt\n",
    "from matplotlib.colors import LogNorm\n",
    "from multihist import Histdd, Hist1d\n",
    "from scipy import stats\n",
    "\n",
    "import json\n",
    "import ntauxfiles"
   ]
  },
  {
   "cell_type": "code",
   "execution_count": 3,
   "id": "374fdd44-beda-427f-ad33-60bf8fd85dec",
   "metadata": {},
   "outputs": [
    {
     "data": {
      "text/plain": [
       "'1.0.0'"
      ]
     },
     "execution_count": 3,
     "metadata": {},
     "output_type": "execute_result"
    }
   ],
   "source": [
    "wfsim.__version__"
   ]
  },
  {
   "cell_type": "code",
   "execution_count": 34,
   "id": "bf05e0c7-88ba-472b-87de-9bdb4eb335e6",
   "metadata": {},
   "outputs": [
    {
     "data": {
      "text/plain": [
       "'1.2.2'"
      ]
     },
     "execution_count": 34,
     "metadata": {},
     "output_type": "execute_result"
    }
   ],
   "source": [
    "strax.__version__"
   ]
  },
  {
   "cell_type": "code",
   "execution_count": 35,
   "id": "05f8b099-a2b6-497f-81ab-8ee53c55d124",
   "metadata": {},
   "outputs": [
    {
     "data": {
      "text/plain": [
       "'1.7.1'"
      ]
     },
     "execution_count": 35,
     "metadata": {},
     "output_type": "execute_result"
    }
   ],
   "source": [
    "straxen.__version__"
   ]
  },
  {
   "cell_type": "code",
   "execution_count": 4,
   "id": "2833f159-69a9-409d-b768-bfa669d349ad",
   "metadata": {},
   "outputs": [
    {
     "data": {
      "text/plain": [
       "'/opt/conda/envs/strax/lib/python3.8/site-packages/wfsim/__init__.py'"
      ]
     },
     "execution_count": 4,
     "metadata": {},
     "output_type": "execute_result"
    }
   ],
   "source": [
    "wfsim.__file__"
   ]
  },
  {
   "cell_type": "code",
   "execution_count": 36,
   "id": "4e014ba0-7240-467c-9837-4f0a5cbf99ec",
   "metadata": {},
   "outputs": [
    {
     "data": {
      "text/plain": [
       "'/opt/conda/envs/strax/lib/python3.8/site-packages/straxen/__init__.py'"
      ]
     },
     "execution_count": 36,
     "metadata": {},
     "output_type": "execute_result"
    }
   ],
   "source": [
    "straxen.__file__"
   ]
  },
  {
   "cell_type": "code",
   "execution_count": 5,
   "id": "bb1dbe9e-7cf8-4389-a111-f2cb00c16b71",
   "metadata": {},
   "outputs": [
    {
     "data": {
      "text/plain": [
       "'/opt/conda/envs/strax/lib/python3.8/site-packages/numpy/__init__.py'"
      ]
     },
     "execution_count": 5,
     "metadata": {},
     "output_type": "execute_result"
    }
   ],
   "source": [
    "np.__file__"
   ]
  },
  {
   "cell_type": "code",
   "execution_count": 6,
   "id": "f061f8af-4d4a-4ef7-b540-6164cb9b6f36",
   "metadata": {},
   "outputs": [
    {
     "name": "stderr",
     "output_type": "stream",
     "text": [
      "WARNING:strax:Option gain_model_nv not taken by any registered plugin\n",
      "WARNING:strax:Option gain_model_mv not taken by any registered plugin\n",
      "WARNING:strax:Option gain_model_nv not taken by any registered plugin\n",
      "WARNING:strax:Option gain_model_mv not taken by any registered plugin\n",
      "WARNING:strax:Option gain_model_nv not taken by any registered plugin\n",
      "WARNING:strax:Option gain_model_mv not taken by any registered plugin\n",
      "WARNING:strax:Option gain_model_nv not taken by any registered plugin\n",
      "WARNING:strax:Option gain_model_mv not taken by any registered plugin\n",
      "WARNING:strax:Option gain_model_nv not taken by any registered plugin\n",
      "WARNING:strax:Option gain_model_mv not taken by any registered plugin\n",
      "WARNING:strax:Option gain_model_nv not taken by any registered plugin\n",
      "WARNING:strax:Option gain_model_mv not taken by any registered plugin\n"
     ]
    }
   ],
   "source": [
    "st = straxen.contexts.xenonnt_simulation(cmt_run_id_sim='00001')"
   ]
  },
  {
   "cell_type": "code",
   "execution_count": 7,
   "id": "8022f56a-059d-4291-8fec-426874d43071",
   "metadata": {},
   "outputs": [],
   "source": [
    "cmt = straxen.CorrectionsManagementServices().interface"
   ]
  },
  {
   "cell_type": "code",
   "execution_count": 7,
   "id": "7ada525b-eae9-4d5e-81ed-b4638f741e13",
   "metadata": {},
   "outputs": [
    {
     "name": "stderr",
     "output_type": "stream",
     "text": [
      "WARNING:xedocs:Could not import editors, GUI not available.\n"
     ]
    }
   ],
   "source": [
    "import xedocs as xd"
   ]
  },
  {
   "cell_type": "code",
   "execution_count": 8,
   "id": "215eb301-2394-4192-b114-d2cbe374db6c",
   "metadata": {},
   "outputs": [
    {
     "data": {
      "text/plain": [
       "['detector_numbers',\n",
       " 'fax_configs',\n",
       " 'electron_drift_velocities',\n",
       " 'electron_drift_time_gates',\n",
       " 'electron_lifetimes',\n",
       " 'rel_extraction_effs',\n",
       " 'fdc_maps',\n",
       " 'hit_thresholds',\n",
       " 'pmt_gains',\n",
       " 'posrec_models',\n",
       " 's1_xyz_maps',\n",
       " 's2_xy_maps',\n",
       " 'utube_calibrations',\n",
       " 'diffused_calibrations',\n",
       " 'ibelt_calibrations',\n",
       " 'calibration_sources',\n",
       " 'hotspot_reports',\n",
       " 'anode_ramps',\n",
       " 'anode_washes',\n",
       " 'abnormal_daq_rates',\n",
       " 'processing_requests']"
      ]
     },
     "execution_count": 8,
     "metadata": {},
     "output_type": "execute_result"
    }
   ],
   "source": [
    "xd.list_schemas()"
   ]
  },
  {
   "cell_type": "code",
   "execution_count": 5,
   "id": "53309115-b406-4bf4-a7cb-b7ab5b3296aa",
   "metadata": {},
   "outputs": [],
   "source": [
    "df = cmt.read('global_xenonnt')"
   ]
  },
  {
   "cell_type": "code",
   "execution_count": 9,
   "id": "3078c0f6-f1bb-4b35-9774-31f3cba8082a",
   "metadata": {},
   "outputs": [],
   "source": [
    "#df['global_v8'][0]"
   ]
  },
  {
   "cell_type": "code",
   "execution_count": 8,
   "id": "d9eb536c-490b-450e-8177-9f700d724d1d",
   "metadata": {},
   "outputs": [
    {
     "data": {
      "text/html": [
       "<div>\n",
       "<style scoped>\n",
       "    .dataframe tbody tr th:only-of-type {\n",
       "        vertical-align: middle;\n",
       "    }\n",
       "\n",
       "    .dataframe tbody tr th {\n",
       "        vertical-align: top;\n",
       "    }\n",
       "\n",
       "    .dataframe thead th {\n",
       "        text-align: right;\n",
       "    }\n",
       "</style>\n",
       "<table border=\"1\" class=\"dataframe\">\n",
       "  <thead>\n",
       "    <tr style=\"text-align: right;\">\n",
       "      <th></th>\n",
       "      <th>ONLINE</th>\n",
       "      <th>v1</th>\n",
       "      <th>v2</th>\n",
       "    </tr>\n",
       "    <tr>\n",
       "      <th>time</th>\n",
       "      <th></th>\n",
       "      <th></th>\n",
       "      <th></th>\n",
       "    </tr>\n",
       "  </thead>\n",
       "  <tbody>\n",
       "    <tr>\n",
       "      <th>2017-01-01 00:00:00+00:00</th>\n",
       "      <td>1700</td>\n",
       "      <td>1700</td>\n",
       "      <td>3200</td>\n",
       "    </tr>\n",
       "    <tr>\n",
       "      <th>2021-01-22 19:04:58+00:00</th>\n",
       "      <td>3100</td>\n",
       "      <td>3100</td>\n",
       "      <td>3200</td>\n",
       "    </tr>\n",
       "    <tr>\n",
       "      <th>2021-05-01 00:00:00+00:00</th>\n",
       "      <td>2700</td>\n",
       "      <td>2700</td>\n",
       "      <td>4500</td>\n",
       "    </tr>\n",
       "    <tr>\n",
       "      <th>2030-12-31 23:59:59+00:00</th>\n",
       "      <td>2700</td>\n",
       "      <td>2700</td>\n",
       "      <td>4500</td>\n",
       "    </tr>\n",
       "  </tbody>\n",
       "</table>\n",
       "</div>"
      ],
      "text/plain": [
       "                           ONLINE    v1    v2\n",
       "time                                         \n",
       "2017-01-01 00:00:00+00:00    1700  1700  3200\n",
       "2021-01-22 19:04:58+00:00    3100  3100  3200\n",
       "2021-05-01 00:00:00+00:00    2700  2700  4500\n",
       "2030-12-31 23:59:59+00:00    2700  2700  4500"
      ]
     },
     "execution_count": 8,
     "metadata": {},
     "output_type": "execute_result"
    }
   ],
   "source": [
    "cmt.read('electron_drift_time_gate')"
   ]
  },
  {
   "cell_type": "code",
   "execution_count": 43,
   "id": "a1aa4980-8b99-46c5-a1c5-20b8b715dab9",
   "metadata": {},
   "outputs": [],
   "source": [
    "cmt.read('drift_field')"
   ]
  },
  {
   "cell_type": "code",
   "execution_count": 9,
   "id": "396a73d8-8e10-420f-af8c-0e3cd97cae1f",
   "metadata": {},
   "outputs": [
    {
     "data": {
      "text/html": [
       "<div>\n",
       "<style scoped>\n",
       "    .dataframe tbody tr th:only-of-type {\n",
       "        vertical-align: middle;\n",
       "    }\n",
       "\n",
       "    .dataframe tbody tr th {\n",
       "        vertical-align: top;\n",
       "    }\n",
       "\n",
       "    .dataframe thead th {\n",
       "        text-align: right;\n",
       "    }\n",
       "</style>\n",
       "<table border=\"1\" class=\"dataframe\">\n",
       "  <thead>\n",
       "    <tr style=\"text-align: right;\">\n",
       "      <th></th>\n",
       "      <th>ONLINE</th>\n",
       "      <th>v1</th>\n",
       "      <th>v2</th>\n",
       "      <th>v3</th>\n",
       "    </tr>\n",
       "    <tr>\n",
       "      <th>time</th>\n",
       "      <th></th>\n",
       "      <th></th>\n",
       "      <th></th>\n",
       "      <th></th>\n",
       "    </tr>\n",
       "  </thead>\n",
       "  <tbody>\n",
       "    <tr>\n",
       "      <th>2017-01-01 00:00:00+00:00</th>\n",
       "      <td>0.000133</td>\n",
       "      <td>0.000133</td>\n",
       "      <td>0.000133</td>\n",
       "      <td>0.000063</td>\n",
       "    </tr>\n",
       "    <tr>\n",
       "      <th>2021-01-22 19:04:58+00:00</th>\n",
       "      <td>0.000063</td>\n",
       "      <td>0.000067</td>\n",
       "      <td>0.000063</td>\n",
       "      <td>0.000063</td>\n",
       "    </tr>\n",
       "    <tr>\n",
       "      <th>2021-05-01 00:00:00+00:00</th>\n",
       "      <td>0.000063</td>\n",
       "      <td>0.000067</td>\n",
       "      <td>0.000068</td>\n",
       "      <td>0.000068</td>\n",
       "    </tr>\n",
       "    <tr>\n",
       "      <th>2021-05-11 17:55:00+00:00</th>\n",
       "      <td>0.000063</td>\n",
       "      <td>0.000067</td>\n",
       "      <td>0.000068</td>\n",
       "      <td>0.000068</td>\n",
       "    </tr>\n",
       "    <tr>\n",
       "      <th>2021-05-25 21:20:00+00:00</th>\n",
       "      <td>0.000067</td>\n",
       "      <td>0.000067</td>\n",
       "      <td>0.000068</td>\n",
       "      <td>0.000068</td>\n",
       "    </tr>\n",
       "    <tr>\n",
       "      <th>2021-06-05 00:00:00+00:00</th>\n",
       "      <td>0.000068</td>\n",
       "      <td>0.000068</td>\n",
       "      <td>0.000068</td>\n",
       "      <td>0.000068</td>\n",
       "    </tr>\n",
       "    <tr>\n",
       "      <th>2030-12-31 23:59:59+00:00</th>\n",
       "      <td>0.000068</td>\n",
       "      <td>0.000068</td>\n",
       "      <td>0.000068</td>\n",
       "      <td>0.000068</td>\n",
       "    </tr>\n",
       "  </tbody>\n",
       "</table>\n",
       "</div>"
      ],
      "text/plain": [
       "                             ONLINE        v1        v2        v3\n",
       "time                                                             \n",
       "2017-01-01 00:00:00+00:00  0.000133  0.000133  0.000133  0.000063\n",
       "2021-01-22 19:04:58+00:00  0.000063  0.000067  0.000063  0.000063\n",
       "2021-05-01 00:00:00+00:00  0.000063  0.000067  0.000068  0.000068\n",
       "2021-05-11 17:55:00+00:00  0.000063  0.000067  0.000068  0.000068\n",
       "2021-05-25 21:20:00+00:00  0.000067  0.000067  0.000068  0.000068\n",
       "2021-06-05 00:00:00+00:00  0.000068  0.000068  0.000068  0.000068\n",
       "2030-12-31 23:59:59+00:00  0.000068  0.000068  0.000068  0.000068"
      ]
     },
     "execution_count": 9,
     "metadata": {},
     "output_type": "execute_result"
    }
   ],
   "source": [
    "cmt.read('electron_drift_velocity')"
   ]
  },
  {
   "cell_type": "code",
   "execution_count": 10,
   "id": "59aa4cc5-87eb-4e8b-a37e-f432efee055f",
   "metadata": {},
   "outputs": [
    {
     "data": {
      "text/plain": [
       "time\n",
       "2017-01-01 00:00:00+00:00    266000.00000\n",
       "2020-10-14 00:00:00+00:00     94770.21179\n",
       "2020-10-14 06:00:00+00:00     92134.42277\n",
       "2020-10-14 12:00:00+00:00     91822.93739\n",
       "2020-10-14 18:00:00+00:00     90699.48151\n",
       "                                 ...     \n",
       "2022-01-03 21:03:50+00:00             NaN\n",
       "2022-01-04 03:04:23+00:00             NaN\n",
       "2022-01-04 09:04:57+00:00             NaN\n",
       "2022-01-04 15:05:31+00:00             NaN\n",
       "2022-01-04 21:06:03+00:00             NaN\n",
       "Name: v5, Length: 1583, dtype: float64"
      ]
     },
     "execution_count": 10,
     "metadata": {},
     "output_type": "execute_result"
    }
   ],
   "source": [
    "cmt.read('elife')['v5']"
   ]
  },
  {
   "cell_type": "code",
   "execution_count": 33,
   "id": "b4c63cda-685d-4f05-aa5e-ce2c894d56ff",
   "metadata": {},
   "outputs": [],
   "source": [
    "#wfsim_json_file = ntauxfiles.get_sim_file('fax_config_nt_sr0_v2_mod.json')"
   ]
  },
  {
   "cell_type": "code",
   "execution_count": 34,
   "id": "40dab59f-e3be-4f9b-ae96-84c50aa90eeb",
   "metadata": {},
   "outputs": [],
   "source": [
    "#wfsim_json_file['enable_field_dependencies']"
   ]
  },
  {
   "cell_type": "code",
   "execution_count": 35,
   "id": "82709d84-9126-496b-91c5-0c155ef28ff0",
   "metadata": {},
   "outputs": [],
   "source": [
    "#wfsim_json_file['enable_field_dependencies']['diffusion_longitudinal_map']"
   ]
  },
  {
   "cell_type": "code",
   "execution_count": 36,
   "id": "7ae251e8-79f9-4aa6-99bc-ca3b855063f0",
   "metadata": {},
   "outputs": [],
   "source": [
    "#new_keys = wfsim_json_file.keys()"
   ]
  },
  {
   "cell_type": "code",
   "execution_count": 37,
   "id": "9391f88d-af1e-4b1a-b781-03ca64ac9d75",
   "metadata": {},
   "outputs": [],
   "source": [
    "#defualt_file = ntauxfiles.get_sim_file('fax_config_nt_design.json')"
   ]
  },
  {
   "cell_type": "code",
   "execution_count": 38,
   "id": "66766dc1-b98a-44f8-afb3-b526b142e259",
   "metadata": {},
   "outputs": [],
   "source": [
    "#defualt_file['enable_field_dependencies']"
   ]
  },
  {
   "cell_type": "code",
   "execution_count": 39,
   "id": "b629d410-df30-4e4b-a297-464ae4e8b6ac",
   "metadata": {},
   "outputs": [],
   "source": [
    "#nk_array = np.array(list(new_keys))"
   ]
  },
  {
   "cell_type": "code",
   "execution_count": 40,
   "id": "70329cb5-24b0-40e2-aa57-5d28ecab5aac",
   "metadata": {},
   "outputs": [],
   "source": [
    "#df_array = np.array(list(defualt_keys))"
   ]
  },
  {
   "cell_type": "code",
   "execution_count": 28,
   "id": "8ca5c835-248a-4487-8ffa-0f34192328d6",
   "metadata": {},
   "outputs": [],
   "source": [
    "#wfsim_csv_file"
   ]
  },
  {
   "cell_type": "code",
   "execution_count": 8,
   "id": "6ecd8d9e-d9d4-445e-9e4f-2f1c0fb3992c",
   "metadata": {},
   "outputs": [
    {
     "name": "stderr",
     "output_type": "stream",
     "text": [
      "WARNING:strax:Option gain_model_nv not taken by any registered plugin\n",
      "WARNING:strax:Option gain_model_mv not taken by any registered plugin\n"
     ]
    },
    {
     "data": {
      "text/html": [
       "<div>\n",
       "<style scoped>\n",
       "    .dataframe tbody tr th:only-of-type {\n",
       "        vertical-align: middle;\n",
       "    }\n",
       "\n",
       "    .dataframe tbody tr th {\n",
       "        vertical-align: top;\n",
       "    }\n",
       "\n",
       "    .dataframe thead th {\n",
       "        text-align: right;\n",
       "    }\n",
       "</style>\n",
       "<table border=\"1\" class=\"dataframe\">\n",
       "  <thead>\n",
       "    <tr style=\"text-align: right;\">\n",
       "      <th></th>\n",
       "      <th>option</th>\n",
       "      <th>default</th>\n",
       "      <th>current</th>\n",
       "      <th>applies_to</th>\n",
       "      <th>help</th>\n",
       "    </tr>\n",
       "  </thead>\n",
       "  <tbody>\n",
       "    <tr>\n",
       "      <th>0</th>\n",
       "      <td>detector</td>\n",
       "      <td>XENONnT</td>\n",
       "      <td>XENONnT</td>\n",
       "      <td>(raw_records, raw_records_he, raw_records_aqmo...</td>\n",
       "      <td></td>\n",
       "    </tr>\n",
       "    <tr>\n",
       "      <th>1</th>\n",
       "      <td>event_rate</td>\n",
       "      <td>1000</td>\n",
       "      <td>&lt;OMITTED&gt;</td>\n",
       "      <td>(raw_records, raw_records_he, raw_records_aqmo...</td>\n",
       "      <td>Average number of events per second</td>\n",
       "    </tr>\n",
       "    <tr>\n",
       "      <th>2</th>\n",
       "      <td>chunk_size</td>\n",
       "      <td>100</td>\n",
       "      <td>&lt;OMITTED&gt;</td>\n",
       "      <td>(raw_records, raw_records_he, raw_records_aqmo...</td>\n",
       "      <td>Duration of each chunk in seconds</td>\n",
       "    </tr>\n",
       "    <tr>\n",
       "      <th>3</th>\n",
       "      <td>n_chunk</td>\n",
       "      <td>10</td>\n",
       "      <td>&lt;OMITTED&gt;</td>\n",
       "      <td>(raw_records, raw_records_he, raw_records_aqmo...</td>\n",
       "      <td>Number of chunks to simulate</td>\n",
       "    </tr>\n",
       "    <tr>\n",
       "      <th>4</th>\n",
       "      <td>per_pmt_truth</td>\n",
       "      <td>False</td>\n",
       "      <td>&lt;OMITTED&gt;</td>\n",
       "      <td>(raw_records, raw_records_he, raw_records_aqmo...</td>\n",
       "      <td>Store the info per channel in the truth file</td>\n",
       "    </tr>\n",
       "    <tr>\n",
       "      <th>5</th>\n",
       "      <td>fax_file</td>\n",
       "      <td>None</td>\n",
       "      <td>&lt;OMITTED&gt;</td>\n",
       "      <td>(raw_records, raw_records_he, raw_records_aqmo...</td>\n",
       "      <td>Directory with fax instructions</td>\n",
       "    </tr>\n",
       "    <tr>\n",
       "      <th>6</th>\n",
       "      <td>fax_config</td>\n",
       "      <td>fax_config_nt_design.json</td>\n",
       "      <td>fax_config_nt_design.json</td>\n",
       "      <td>(raw_records, raw_records_he, raw_records_aqmo...</td>\n",
       "      <td></td>\n",
       "    </tr>\n",
       "    <tr>\n",
       "      <th>7</th>\n",
       "      <td>fax_config_override</td>\n",
       "      <td>None</td>\n",
       "      <td>&lt;OMITTED&gt;</td>\n",
       "      <td>(raw_records, raw_records_he, raw_records_aqmo...</td>\n",
       "      <td>Dictionary with configuration option overrides</td>\n",
       "    </tr>\n",
       "    <tr>\n",
       "      <th>8</th>\n",
       "      <td>fax_config_override_from_cmt</td>\n",
       "      <td>None</td>\n",
       "      <td>{'drift_time_gate': ('cmt_run_id', '00001', 'e...</td>\n",
       "      <td>(raw_records, raw_records_he, raw_records_aqmo...</td>\n",
       "      <td>Dictionary of fax parameter names (key) mapped...</td>\n",
       "    </tr>\n",
       "    <tr>\n",
       "      <th>9</th>\n",
       "      <td>gain_model_mc</td>\n",
       "      <td>(to_pe_per_run, to_pe_nt.npy)</td>\n",
       "      <td>(cmt_run_id, 00001, to_pe_model, ONLINE, True)</td>\n",
       "      <td>(raw_records, raw_records_he, raw_records_aqmo...</td>\n",
       "      <td>PMT gain model. Specify as (model_type, model_...</td>\n",
       "    </tr>\n",
       "    <tr>\n",
       "      <th>10</th>\n",
       "      <td>channel_map</td>\n",
       "      <td>&lt;OMITTED&gt;</td>\n",
       "      <td>(tpc, he, aqmon, aqmon_nv, tpc_blank, mv, aux_...</td>\n",
       "      <td>(raw_records, raw_records_he, raw_records_aqmo...</td>\n",
       "      <td>immutabledict mapping subdetector to (min, max...</td>\n",
       "    </tr>\n",
       "    <tr>\n",
       "      <th>11</th>\n",
       "      <td>n_tpc_pmts</td>\n",
       "      <td>&lt;OMITTED&gt;</td>\n",
       "      <td>494</td>\n",
       "      <td>(raw_records, raw_records_he, raw_records_aqmo...</td>\n",
       "      <td>Number of pmts in tpc. Provided by context</td>\n",
       "    </tr>\n",
       "    <tr>\n",
       "      <th>12</th>\n",
       "      <td>n_top_pmts</td>\n",
       "      <td>&lt;OMITTED&gt;</td>\n",
       "      <td>253</td>\n",
       "      <td>(raw_records, raw_records_he, raw_records_aqmo...</td>\n",
       "      <td>Number of pmts in top array. Provided by context</td>\n",
       "    </tr>\n",
       "    <tr>\n",
       "      <th>13</th>\n",
       "      <td>right_raw_extension</td>\n",
       "      <td>100000</td>\n",
       "      <td>&lt;OMITTED&gt;</td>\n",
       "      <td>(raw_records, raw_records_he, raw_records_aqmo...</td>\n",
       "      <td></td>\n",
       "    </tr>\n",
       "    <tr>\n",
       "      <th>14</th>\n",
       "      <td>seed</td>\n",
       "      <td>False</td>\n",
       "      <td>&lt;OMITTED&gt;</td>\n",
       "      <td>(raw_records, raw_records_he, raw_records_aqmo...</td>\n",
       "      <td>Option for setting the seed of the random numb...</td>\n",
       "    </tr>\n",
       "  </tbody>\n",
       "</table>\n",
       "</div>"
      ],
      "text/plain": [
       "                          option                        default  \\\n",
       "0                       detector                        XENONnT   \n",
       "1                     event_rate                           1000   \n",
       "2                     chunk_size                            100   \n",
       "3                        n_chunk                             10   \n",
       "4                  per_pmt_truth                          False   \n",
       "5                       fax_file                           None   \n",
       "6                     fax_config      fax_config_nt_design.json   \n",
       "7            fax_config_override                           None   \n",
       "8   fax_config_override_from_cmt                           None   \n",
       "9                  gain_model_mc  (to_pe_per_run, to_pe_nt.npy)   \n",
       "10                   channel_map                      <OMITTED>   \n",
       "11                    n_tpc_pmts                      <OMITTED>   \n",
       "12                    n_top_pmts                      <OMITTED>   \n",
       "13           right_raw_extension                         100000   \n",
       "14                          seed                          False   \n",
       "\n",
       "                                              current  \\\n",
       "0                                             XENONnT   \n",
       "1                                           <OMITTED>   \n",
       "2                                           <OMITTED>   \n",
       "3                                           <OMITTED>   \n",
       "4                                           <OMITTED>   \n",
       "5                                           <OMITTED>   \n",
       "6                           fax_config_nt_design.json   \n",
       "7                                           <OMITTED>   \n",
       "8   {'drift_time_gate': ('cmt_run_id', '00001', 'e...   \n",
       "9      (cmt_run_id, 00001, to_pe_model, ONLINE, True)   \n",
       "10  (tpc, he, aqmon, aqmon_nv, tpc_blank, mv, aux_...   \n",
       "11                                                494   \n",
       "12                                                253   \n",
       "13                                          <OMITTED>   \n",
       "14                                          <OMITTED>   \n",
       "\n",
       "                                           applies_to  \\\n",
       "0   (raw_records, raw_records_he, raw_records_aqmo...   \n",
       "1   (raw_records, raw_records_he, raw_records_aqmo...   \n",
       "2   (raw_records, raw_records_he, raw_records_aqmo...   \n",
       "3   (raw_records, raw_records_he, raw_records_aqmo...   \n",
       "4   (raw_records, raw_records_he, raw_records_aqmo...   \n",
       "5   (raw_records, raw_records_he, raw_records_aqmo...   \n",
       "6   (raw_records, raw_records_he, raw_records_aqmo...   \n",
       "7   (raw_records, raw_records_he, raw_records_aqmo...   \n",
       "8   (raw_records, raw_records_he, raw_records_aqmo...   \n",
       "9   (raw_records, raw_records_he, raw_records_aqmo...   \n",
       "10  (raw_records, raw_records_he, raw_records_aqmo...   \n",
       "11  (raw_records, raw_records_he, raw_records_aqmo...   \n",
       "12  (raw_records, raw_records_he, raw_records_aqmo...   \n",
       "13  (raw_records, raw_records_he, raw_records_aqmo...   \n",
       "14  (raw_records, raw_records_he, raw_records_aqmo...   \n",
       "\n",
       "                                                 help  \n",
       "0                                                      \n",
       "1                 Average number of events per second  \n",
       "2                   Duration of each chunk in seconds  \n",
       "3                        Number of chunks to simulate  \n",
       "4        Store the info per channel in the truth file  \n",
       "5                     Directory with fax instructions  \n",
       "6                                                      \n",
       "7      Dictionary with configuration option overrides  \n",
       "8   Dictionary of fax parameter names (key) mapped...  \n",
       "9   PMT gain model. Specify as (model_type, model_...  \n",
       "10  immutabledict mapping subdetector to (min, max...  \n",
       "11         Number of pmts in tpc. Provided by context  \n",
       "12   Number of pmts in top array. Provided by context  \n",
       "13                                                     \n",
       "14  Option for setting the seed of the random numb...  "
      ]
     },
     "execution_count": 8,
     "metadata": {},
     "output_type": "execute_result"
    }
   ],
   "source": [
    "st.show_config('raw_records')"
   ]
  },
  {
   "cell_type": "code",
   "execution_count": 9,
   "id": "23d0b76a-f52a-42d1-b4b9-409d775e2690",
   "metadata": {},
   "outputs": [],
   "source": [
    "st.set_config(dict(fax_config= '/home/luissanchez25/Wfsim_files/private_nt_aux_files/sim_files/fax_config_nt_sr0_v1.json'))"
   ]
  },
  {
   "cell_type": "code",
   "execution_count": 33,
   "id": "990bb465-a621-4f05-9958-7b12709d9f5c",
   "metadata": {},
   "outputs": [],
   "source": [
    "#wfsim_csv_file"
   ]
  },
  {
   "cell_type": "code",
   "execution_count": 20,
   "id": "e1d68013-02a9-41d9-819d-dd2165474983",
   "metadata": {},
   "outputs": [],
   "source": [
    "#st.config['fax_file'] = 'XENONnT_SR0_spe_distributions_20210713.csv'"
   ]
  },
  {
   "cell_type": "code",
   "execution_count": 71,
   "id": "ee68cd20-e5bf-4545-af51-619966f2753a",
   "metadata": {},
   "outputs": [],
   "source": [
    "#st.config['fax_config'] = '/home/luissanchez25/Wfsim_files/private_nt_aux_files/sim_files/fax_config_nt_sr0_v2_mod.json'"
   ]
  },
  {
   "cell_type": "code",
   "execution_count": 10,
   "id": "e7472fd3-a425-479b-9277-083e2bc78e8a",
   "metadata": {},
   "outputs": [
    {
     "name": "stderr",
     "output_type": "stream",
     "text": [
      "WARNING:strax:Option gain_model_nv not taken by any registered plugin\n",
      "WARNING:strax:Option gain_model_mv not taken by any registered plugin\n"
     ]
    },
    {
     "data": {
      "text/html": [
       "<div>\n",
       "<style scoped>\n",
       "    .dataframe tbody tr th:only-of-type {\n",
       "        vertical-align: middle;\n",
       "    }\n",
       "\n",
       "    .dataframe tbody tr th {\n",
       "        vertical-align: top;\n",
       "    }\n",
       "\n",
       "    .dataframe thead th {\n",
       "        text-align: right;\n",
       "    }\n",
       "</style>\n",
       "<table border=\"1\" class=\"dataframe\">\n",
       "  <thead>\n",
       "    <tr style=\"text-align: right;\">\n",
       "      <th></th>\n",
       "      <th>option</th>\n",
       "      <th>default</th>\n",
       "      <th>current</th>\n",
       "      <th>applies_to</th>\n",
       "      <th>help</th>\n",
       "    </tr>\n",
       "  </thead>\n",
       "  <tbody>\n",
       "    <tr>\n",
       "      <th>0</th>\n",
       "      <td>detector</td>\n",
       "      <td>XENONnT</td>\n",
       "      <td>XENONnT</td>\n",
       "      <td>(raw_records, raw_records_he, raw_records_aqmo...</td>\n",
       "      <td></td>\n",
       "    </tr>\n",
       "    <tr>\n",
       "      <th>1</th>\n",
       "      <td>event_rate</td>\n",
       "      <td>1000</td>\n",
       "      <td>&lt;OMITTED&gt;</td>\n",
       "      <td>(raw_records, raw_records_he, raw_records_aqmo...</td>\n",
       "      <td>Average number of events per second</td>\n",
       "    </tr>\n",
       "    <tr>\n",
       "      <th>2</th>\n",
       "      <td>chunk_size</td>\n",
       "      <td>100</td>\n",
       "      <td>&lt;OMITTED&gt;</td>\n",
       "      <td>(raw_records, raw_records_he, raw_records_aqmo...</td>\n",
       "      <td>Duration of each chunk in seconds</td>\n",
       "    </tr>\n",
       "    <tr>\n",
       "      <th>3</th>\n",
       "      <td>n_chunk</td>\n",
       "      <td>10</td>\n",
       "      <td>&lt;OMITTED&gt;</td>\n",
       "      <td>(raw_records, raw_records_he, raw_records_aqmo...</td>\n",
       "      <td>Number of chunks to simulate</td>\n",
       "    </tr>\n",
       "    <tr>\n",
       "      <th>4</th>\n",
       "      <td>per_pmt_truth</td>\n",
       "      <td>False</td>\n",
       "      <td>&lt;OMITTED&gt;</td>\n",
       "      <td>(raw_records, raw_records_he, raw_records_aqmo...</td>\n",
       "      <td>Store the info per channel in the truth file</td>\n",
       "    </tr>\n",
       "    <tr>\n",
       "      <th>5</th>\n",
       "      <td>fax_file</td>\n",
       "      <td>None</td>\n",
       "      <td>&lt;OMITTED&gt;</td>\n",
       "      <td>(raw_records, raw_records_he, raw_records_aqmo...</td>\n",
       "      <td>Directory with fax instructions</td>\n",
       "    </tr>\n",
       "    <tr>\n",
       "      <th>6</th>\n",
       "      <td>fax_config</td>\n",
       "      <td>fax_config_nt_design.json</td>\n",
       "      <td>/home/luissanchez25/Wfsim_files/private_nt_aux...</td>\n",
       "      <td>(raw_records, raw_records_he, raw_records_aqmo...</td>\n",
       "      <td></td>\n",
       "    </tr>\n",
       "    <tr>\n",
       "      <th>7</th>\n",
       "      <td>fax_config_override</td>\n",
       "      <td>None</td>\n",
       "      <td>&lt;OMITTED&gt;</td>\n",
       "      <td>(raw_records, raw_records_he, raw_records_aqmo...</td>\n",
       "      <td>Dictionary with configuration option overrides</td>\n",
       "    </tr>\n",
       "    <tr>\n",
       "      <th>8</th>\n",
       "      <td>fax_config_override_from_cmt</td>\n",
       "      <td>None</td>\n",
       "      <td>{'drift_time_gate': ('cmt_run_id', '00001', 'e...</td>\n",
       "      <td>(raw_records, raw_records_he, raw_records_aqmo...</td>\n",
       "      <td>Dictionary of fax parameter names (key) mapped...</td>\n",
       "    </tr>\n",
       "    <tr>\n",
       "      <th>9</th>\n",
       "      <td>gain_model_mc</td>\n",
       "      <td>(to_pe_per_run, to_pe_nt.npy)</td>\n",
       "      <td>(cmt_run_id, 00001, to_pe_model, ONLINE, True)</td>\n",
       "      <td>(raw_records, raw_records_he, raw_records_aqmo...</td>\n",
       "      <td>PMT gain model. Specify as (model_type, model_...</td>\n",
       "    </tr>\n",
       "    <tr>\n",
       "      <th>10</th>\n",
       "      <td>channel_map</td>\n",
       "      <td>&lt;OMITTED&gt;</td>\n",
       "      <td>(tpc, he, aqmon, aqmon_nv, tpc_blank, mv, aux_...</td>\n",
       "      <td>(raw_records, raw_records_he, raw_records_aqmo...</td>\n",
       "      <td>immutabledict mapping subdetector to (min, max...</td>\n",
       "    </tr>\n",
       "    <tr>\n",
       "      <th>11</th>\n",
       "      <td>n_tpc_pmts</td>\n",
       "      <td>&lt;OMITTED&gt;</td>\n",
       "      <td>494</td>\n",
       "      <td>(raw_records, raw_records_he, raw_records_aqmo...</td>\n",
       "      <td>Number of pmts in tpc. Provided by context</td>\n",
       "    </tr>\n",
       "    <tr>\n",
       "      <th>12</th>\n",
       "      <td>n_top_pmts</td>\n",
       "      <td>&lt;OMITTED&gt;</td>\n",
       "      <td>253</td>\n",
       "      <td>(raw_records, raw_records_he, raw_records_aqmo...</td>\n",
       "      <td>Number of pmts in top array. Provided by context</td>\n",
       "    </tr>\n",
       "    <tr>\n",
       "      <th>13</th>\n",
       "      <td>right_raw_extension</td>\n",
       "      <td>100000</td>\n",
       "      <td>&lt;OMITTED&gt;</td>\n",
       "      <td>(raw_records, raw_records_he, raw_records_aqmo...</td>\n",
       "      <td></td>\n",
       "    </tr>\n",
       "    <tr>\n",
       "      <th>14</th>\n",
       "      <td>seed</td>\n",
       "      <td>False</td>\n",
       "      <td>&lt;OMITTED&gt;</td>\n",
       "      <td>(raw_records, raw_records_he, raw_records_aqmo...</td>\n",
       "      <td>Option for setting the seed of the random numb...</td>\n",
       "    </tr>\n",
       "  </tbody>\n",
       "</table>\n",
       "</div>"
      ],
      "text/plain": [
       "                          option                        default  \\\n",
       "0                       detector                        XENONnT   \n",
       "1                     event_rate                           1000   \n",
       "2                     chunk_size                            100   \n",
       "3                        n_chunk                             10   \n",
       "4                  per_pmt_truth                          False   \n",
       "5                       fax_file                           None   \n",
       "6                     fax_config      fax_config_nt_design.json   \n",
       "7            fax_config_override                           None   \n",
       "8   fax_config_override_from_cmt                           None   \n",
       "9                  gain_model_mc  (to_pe_per_run, to_pe_nt.npy)   \n",
       "10                   channel_map                      <OMITTED>   \n",
       "11                    n_tpc_pmts                      <OMITTED>   \n",
       "12                    n_top_pmts                      <OMITTED>   \n",
       "13           right_raw_extension                         100000   \n",
       "14                          seed                          False   \n",
       "\n",
       "                                              current  \\\n",
       "0                                             XENONnT   \n",
       "1                                           <OMITTED>   \n",
       "2                                           <OMITTED>   \n",
       "3                                           <OMITTED>   \n",
       "4                                           <OMITTED>   \n",
       "5                                           <OMITTED>   \n",
       "6   /home/luissanchez25/Wfsim_files/private_nt_aux...   \n",
       "7                                           <OMITTED>   \n",
       "8   {'drift_time_gate': ('cmt_run_id', '00001', 'e...   \n",
       "9      (cmt_run_id, 00001, to_pe_model, ONLINE, True)   \n",
       "10  (tpc, he, aqmon, aqmon_nv, tpc_blank, mv, aux_...   \n",
       "11                                                494   \n",
       "12                                                253   \n",
       "13                                          <OMITTED>   \n",
       "14                                          <OMITTED>   \n",
       "\n",
       "                                           applies_to  \\\n",
       "0   (raw_records, raw_records_he, raw_records_aqmo...   \n",
       "1   (raw_records, raw_records_he, raw_records_aqmo...   \n",
       "2   (raw_records, raw_records_he, raw_records_aqmo...   \n",
       "3   (raw_records, raw_records_he, raw_records_aqmo...   \n",
       "4   (raw_records, raw_records_he, raw_records_aqmo...   \n",
       "5   (raw_records, raw_records_he, raw_records_aqmo...   \n",
       "6   (raw_records, raw_records_he, raw_records_aqmo...   \n",
       "7   (raw_records, raw_records_he, raw_records_aqmo...   \n",
       "8   (raw_records, raw_records_he, raw_records_aqmo...   \n",
       "9   (raw_records, raw_records_he, raw_records_aqmo...   \n",
       "10  (raw_records, raw_records_he, raw_records_aqmo...   \n",
       "11  (raw_records, raw_records_he, raw_records_aqmo...   \n",
       "12  (raw_records, raw_records_he, raw_records_aqmo...   \n",
       "13  (raw_records, raw_records_he, raw_records_aqmo...   \n",
       "14  (raw_records, raw_records_he, raw_records_aqmo...   \n",
       "\n",
       "                                                 help  \n",
       "0                                                      \n",
       "1                 Average number of events per second  \n",
       "2                   Duration of each chunk in seconds  \n",
       "3                        Number of chunks to simulate  \n",
       "4        Store the info per channel in the truth file  \n",
       "5                     Directory with fax instructions  \n",
       "6                                                      \n",
       "7      Dictionary with configuration option overrides  \n",
       "8   Dictionary of fax parameter names (key) mapped...  \n",
       "9   PMT gain model. Specify as (model_type, model_...  \n",
       "10  immutabledict mapping subdetector to (min, max...  \n",
       "11         Number of pmts in tpc. Provided by context  \n",
       "12   Number of pmts in top array. Provided by context  \n",
       "13                                                     \n",
       "14  Option for setting the seed of the random numb...  "
      ]
     },
     "execution_count": 10,
     "metadata": {},
     "output_type": "execute_result"
    }
   ],
   "source": [
    "st.show_config('raw_records')"
   ]
  },
  {
   "cell_type": "code",
   "execution_count": 11,
   "id": "28686127-66f3-40b1-93f8-3412093afdc3",
   "metadata": {},
   "outputs": [],
   "source": [
    "run_id = '6'"
   ]
  },
  {
   "cell_type": "code",
   "execution_count": 12,
   "id": "40e04807-2733-4311-965f-2e69c567b540",
   "metadata": {},
   "outputs": [],
   "source": [
    "def single_electrons_instructions(c):\n",
    "    \"\"\"\n",
    "    Instructions to simulate SE as S2.\n",
    "    param return: returns instructions\n",
    "    \"\"\"\n",
    "    #print(type(c))\n",
    "    #print(c['nchunk'])\n",
    "    #print(c['chunk_size'])\n",
    "    print(c)\n",
    "    n = c['nevents'] = c['event_rate'] * c['chunk_size'] * c['n_chunk']\n",
    "    c['total_time'] = c['chunk_size'] * c['n_chunk']\n",
    "    \n",
    "    print(c['nevents'])\n",
    "\n",
    "    instructions = np.zeros(n, dtype=wfsim.instruction_dtype)\n",
    "    uniform_times = c['total_time'] * (np.arange(n) + 0.5) / n\n",
    "    instructions['time'] = np.repeat(uniform_times, 1) * int(1e9)\n",
    "\n",
    "    # Actually holds which chunk this event occurred in\n",
    "    instructions['event_number'] = np.digitize(instructions['time'],\n",
    "                                               1e9 * np.arange(c['n_chunk']) * c['chunk_size']) - 1\n",
    "\n",
    "    instructions['type'] = np.tile([2], n)\n",
    "    instructions['recoil'] = [7 for i in range(n)]\n",
    "\n",
    "    # Random positioning\n",
    "    r = np.sqrt(np.random.uniform(0, c['tpc_radius']**2, n))\n",
    "    #z = c['tpc_z']\n",
    "    t = np.random.uniform(-np.pi, np.pi, n)\n",
    "    instructions['x'] = np.repeat(r * np.cos(t), 1)\n",
    "    instructions['y'] = np.repeat(r * np.sin(t), 1)\n",
    "    instructions['z'] = -10 * np.ones(n)\n",
    "\n",
    "    instructions['amp'] = np.ones(n)  # Best attempt for single electron\n",
    "    print('*** Simulating single electrons events ***')\n",
    "    \n",
    "    return instructions"
   ]
  },
  {
   "cell_type": "code",
   "execution_count": 51,
   "id": "ac4a7ba9-0eb7-45d8-9aeb-bfc97c8418cd",
   "metadata": {},
   "outputs": [],
   "source": [
    "def super_awesome_custom_instruction(c):\n",
    "    import nestpy\n",
    "    half_life = 156.94e-9 #Kr intermediate state half-life in ns\n",
    "    decay_energies = [32.2,9.4] # Decay energies in kev\n",
    "    \n",
    "    n = c['nevents'] = c['event_rate'] * c['chunk_size'] * c['n_chunk']\n",
    "    c['total_time'] = c['chunk_size'] * c['n_chunk']\n",
    "\n",
    "    instructions = np.zeros(4 * n, dtype=wfsim.instruction_dtype)\n",
    "    instructions['event_number'] = np.digitize(instructions['time'],\n",
    "         1e9 * np.arange(c['n_chunk']) * c['chunk_size']) - 1\n",
    "    \n",
    "    instructions['type'] = np.tile([1, 2], 2 * n)\n",
    "    instructions['recoil'] = [7 for i in range(4 * n)]\n",
    "    \n",
    "    r = np.sqrt(np.random.uniform(0, 2500, n))\n",
    "    t = np.random.uniform(-np.pi, np.pi, n)\n",
    "    instructions['x'] = np.repeat(r * np.cos(t), 4)\n",
    "    instructions['y'] = np.repeat(r * np.sin(t), 4)\n",
    "    instructions['z'] = np.repeat(np.random.uniform(-100, 0, n), 4)\n",
    "    \n",
    "    #To get the correct times we'll need to include the 156.94 ns half life of the intermediate state.\n",
    "\n",
    "    uniform_times = c['total_time'] * (np.arange(n) + 0.5) / n\n",
    "    delayed_times = uniform_times + np.random.exponential(half_life/np.log(2),len(uniform_times))\n",
    "    instructions['time'] = np.repeat(list(zip(uniform_times,delayed_times)),2) * 1e9\n",
    "\n",
    "    # Here we'll define our XENON-like detector\n",
    "    nc = nestpy.NESTcalc(nestpy.VDetector())\n",
    "    A = 131.293\n",
    "    Z = 54.\n",
    "    density = 2.862  # g/cm^3   #SR1 Value\n",
    "    drift_field = 82  # V/cm    #SR1 Value\n",
    "    interaction = nestpy.INTERACTION_TYPE(7)\n",
    "    \n",
    "    energy = np.tile(decay_energies,n)\n",
    "    quanta = []\n",
    "    exciton = []\n",
    "    for en in energy:\n",
    "        y = nc.GetYields(interaction,\n",
    "                         en,\n",
    "                         density,\n",
    "                         drift_field,\n",
    "                         A,\n",
    "                         Z,\n",
    "                         (1, 1))\n",
    "        q = nc.GetQuanta(y, density)\n",
    "        quanta.append(q.photons)\n",
    "        quanta.append(q.electrons)\n",
    "        exciton.append(q.excitons)\n",
    "        exciton.append(0)\n",
    "        \n",
    "    instructions['amp'] = quanta\n",
    "    instructions['local_field'] = drift_field\n",
    "    instructions['n_excitons'] = exciton\n",
    "\n",
    "    return instructions"
   ]
  },
  {
   "cell_type": "code",
   "execution_count": 38,
   "id": "d9f34bdb-b34f-4269-98e3-4523e91b3e20",
   "metadata": {},
   "outputs": [],
   "source": [
    "def Argon_S1_sim(c):\n",
    "    import nestpy\n",
    "    #half_life = 156.94e-9 #Kr intermediate state half-life in ns\n",
    "    decay_energies = [2.8224] # Decay energies in kev\n",
    "    \n",
    "    n = c['nevents'] = c['event_rate'] * c['chunk_size'] * c['n_chunk']\n",
    "    c['total_time'] = c['chunk_size'] * c['n_chunk']\n",
    "\n",
    "    instructions = np.zeros(2 * n, dtype=wfsim.instruction_dtype)\n",
    "    instructions['event_number'] = np.digitize(instructions['time'],\n",
    "         1e9 * np.arange(c['n_chunk']) * c['chunk_size']) - 1\n",
    "    \n",
    "    instructions['type'] = np.tile([1, 2], 1 * n)\n",
    "    instructions['recoil'] = [7 for i in range(2 * n)]\n",
    "    \n",
    "    r = np.sqrt(np.random.uniform(0, c['tpc_radius']**2, n))\n",
    "    t = np.random.uniform(-np.pi, np.pi, n)\n",
    "    instructions['x'] = np.repeat(r * np.cos(t), 2)\n",
    "    instructions['y'] = np.repeat(r * np.sin(t), 2)\n",
    "    instructions['z'] = np.repeat(np.random.uniform(-148, 0, n), 2)\n",
    "    \n",
    "    #To get the correct times we'll need to include the 156.94 ns half life of the intermediate state.\n",
    "\n",
    "    uniform_times = c['total_time'] * (np.arange(n) + 0.5) / n\n",
    "    #delayed_times = uniform_times + np.random.exponential(half_life/np.log(2),len(uniform_times))\n",
    "    instructions['time'] = np.repeat(uniform_times, 2) * int(1e9)\n",
    "\n",
    "\n",
    "    # Here we'll define our XENON-like detector\n",
    "    nc = nestpy.NESTcalc(nestpy.VDetector())\n",
    "    A = 131.293\n",
    "    Z = 54.\n",
    "    density = 2.88  # g/cm^3   #SR0 Value\n",
    "    drift_field = 23  # V/cm    #SR0 Value\n",
    "    interaction = nestpy.INTERACTION_TYPE(7)\n",
    "    \n",
    "    energy = np.tile(decay_energies,n)\n",
    "    quanta = []\n",
    "    exciton = []\n",
    "    for en in energy:\n",
    "        y = nc.GetYields(interaction,\n",
    "                         en,\n",
    "                         density,\n",
    "                         drift_field,\n",
    "                         A,\n",
    "                         Z,\n",
    "                         (1, 1))\n",
    "        q = nc.GetQuanta(y, density)\n",
    "        quanta.append(q.photons)\n",
    "        quanta.append(q.electrons)\n",
    "        exciton.append(q.excitons)\n",
    "        exciton.append(0)\n",
    "        \n",
    "    instructions['amp'] = quanta\n",
    "    instructions['local_field'] = drift_field\n",
    "    instructions['n_excitons'] = exciton\n",
    "\n",
    "    return instructions"
   ]
  },
  {
   "cell_type": "code",
   "execution_count": 53,
   "id": "db8fa8d2-7033-4455-9c9e-f04b050aceae",
   "metadata": {},
   "outputs": [
    {
     "data": {
      "text/plain": [
       "148.6515"
      ]
     },
     "execution_count": 53,
     "metadata": {},
     "output_type": "execute_result"
    }
   ],
   "source": [
    "straxen.tpc_z"
   ]
  },
  {
   "cell_type": "code",
   "execution_count": 29,
   "id": "2e0370b6-61f2-4301-a531-4f80bda491bc",
   "metadata": {},
   "outputs": [
    {
     "data": {
      "text/plain": [
       "\u001b[0;31mSignature:\u001b[0m \u001b[0mwfsim\u001b[0m\u001b[0;34m.\u001b[0m\u001b[0mstrax_interface\u001b[0m\u001b[0;34m.\u001b[0m\u001b[0mrand_instructions\u001b[0m\u001b[0;34m(\u001b[0m\u001b[0mc\u001b[0m\u001b[0;34m)\u001b[0m\u001b[0;34m\u001b[0m\u001b[0;34m\u001b[0m\u001b[0m\n",
       "\u001b[0;31mSource:\u001b[0m   \n",
       "\u001b[0;32mdef\u001b[0m \u001b[0msingle_electrons_instructions\u001b[0m\u001b[0;34m(\u001b[0m\u001b[0mc\u001b[0m\u001b[0;34m)\u001b[0m\u001b[0;34m:\u001b[0m\u001b[0;34m\u001b[0m\n",
       "\u001b[0;34m\u001b[0m    \u001b[0;34m\"\"\"\u001b[0m\n",
       "\u001b[0;34m    Instructions to simulate SE as S2.\u001b[0m\n",
       "\u001b[0;34m    param return: returns instructions\u001b[0m\n",
       "\u001b[0;34m    \"\"\"\u001b[0m\u001b[0;34m\u001b[0m\n",
       "\u001b[0;34m\u001b[0m    \u001b[0;31m#print(type(c))\u001b[0m\u001b[0;34m\u001b[0m\n",
       "\u001b[0;34m\u001b[0m    \u001b[0;31m#print(c['nchunk'])\u001b[0m\u001b[0;34m\u001b[0m\n",
       "\u001b[0;34m\u001b[0m    \u001b[0;31m#print(c['chunk_size'])\u001b[0m\u001b[0;34m\u001b[0m\n",
       "\u001b[0;34m\u001b[0m    \u001b[0mprint\u001b[0m\u001b[0;34m(\u001b[0m\u001b[0mc\u001b[0m\u001b[0;34m)\u001b[0m\u001b[0;34m\u001b[0m\n",
       "\u001b[0;34m\u001b[0m    \u001b[0mn\u001b[0m \u001b[0;34m=\u001b[0m \u001b[0mc\u001b[0m\u001b[0;34m[\u001b[0m\u001b[0;34m'nevents'\u001b[0m\u001b[0;34m]\u001b[0m \u001b[0;34m=\u001b[0m \u001b[0mc\u001b[0m\u001b[0;34m[\u001b[0m\u001b[0;34m'event_rate'\u001b[0m\u001b[0;34m]\u001b[0m \u001b[0;34m*\u001b[0m \u001b[0mc\u001b[0m\u001b[0;34m[\u001b[0m\u001b[0;34m'chunk_size'\u001b[0m\u001b[0;34m]\u001b[0m \u001b[0;34m*\u001b[0m \u001b[0mc\u001b[0m\u001b[0;34m[\u001b[0m\u001b[0;34m'n_chunk'\u001b[0m\u001b[0;34m]\u001b[0m\u001b[0;34m\u001b[0m\n",
       "\u001b[0;34m\u001b[0m    \u001b[0mc\u001b[0m\u001b[0;34m[\u001b[0m\u001b[0;34m'total_time'\u001b[0m\u001b[0;34m]\u001b[0m \u001b[0;34m=\u001b[0m \u001b[0mc\u001b[0m\u001b[0;34m[\u001b[0m\u001b[0;34m'chunk_size'\u001b[0m\u001b[0;34m]\u001b[0m \u001b[0;34m*\u001b[0m \u001b[0mc\u001b[0m\u001b[0;34m[\u001b[0m\u001b[0;34m'n_chunk'\u001b[0m\u001b[0;34m]\u001b[0m\u001b[0;34m\u001b[0m\n",
       "\u001b[0;34m\u001b[0m    \u001b[0;34m\u001b[0m\n",
       "\u001b[0;34m\u001b[0m    \u001b[0mprint\u001b[0m\u001b[0;34m(\u001b[0m\u001b[0mc\u001b[0m\u001b[0;34m[\u001b[0m\u001b[0;34m'nevents'\u001b[0m\u001b[0;34m]\u001b[0m\u001b[0;34m)\u001b[0m\u001b[0;34m\u001b[0m\n",
       "\u001b[0;34m\u001b[0m\u001b[0;34m\u001b[0m\n",
       "\u001b[0;34m\u001b[0m    \u001b[0minstructions\u001b[0m \u001b[0;34m=\u001b[0m \u001b[0mnp\u001b[0m\u001b[0;34m.\u001b[0m\u001b[0mzeros\u001b[0m\u001b[0;34m(\u001b[0m\u001b[0mn\u001b[0m\u001b[0;34m,\u001b[0m \u001b[0mdtype\u001b[0m\u001b[0;34m=\u001b[0m\u001b[0mwfsim\u001b[0m\u001b[0;34m.\u001b[0m\u001b[0minstruction_dtype\u001b[0m\u001b[0;34m)\u001b[0m\u001b[0;34m\u001b[0m\n",
       "\u001b[0;34m\u001b[0m    \u001b[0muniform_times\u001b[0m \u001b[0;34m=\u001b[0m \u001b[0mc\u001b[0m\u001b[0;34m[\u001b[0m\u001b[0;34m'total_time'\u001b[0m\u001b[0;34m]\u001b[0m \u001b[0;34m*\u001b[0m \u001b[0;34m(\u001b[0m\u001b[0mnp\u001b[0m\u001b[0;34m.\u001b[0m\u001b[0marange\u001b[0m\u001b[0;34m(\u001b[0m\u001b[0mn\u001b[0m\u001b[0;34m)\u001b[0m \u001b[0;34m+\u001b[0m \u001b[0;36m0.5\u001b[0m\u001b[0;34m)\u001b[0m \u001b[0;34m/\u001b[0m \u001b[0mn\u001b[0m\u001b[0;34m\u001b[0m\n",
       "\u001b[0;34m\u001b[0m    \u001b[0minstructions\u001b[0m\u001b[0;34m[\u001b[0m\u001b[0;34m'time'\u001b[0m\u001b[0;34m]\u001b[0m \u001b[0;34m=\u001b[0m \u001b[0mnp\u001b[0m\u001b[0;34m.\u001b[0m\u001b[0mrepeat\u001b[0m\u001b[0;34m(\u001b[0m\u001b[0muniform_times\u001b[0m\u001b[0;34m,\u001b[0m \u001b[0;36m1\u001b[0m\u001b[0;34m)\u001b[0m \u001b[0;34m*\u001b[0m \u001b[0mint\u001b[0m\u001b[0;34m(\u001b[0m\u001b[0;36m1e9\u001b[0m\u001b[0;34m)\u001b[0m\u001b[0;34m\u001b[0m\n",
       "\u001b[0;34m\u001b[0m\u001b[0;34m\u001b[0m\n",
       "\u001b[0;34m\u001b[0m    \u001b[0;31m# Actually holds which chunk this event occurred in\u001b[0m\u001b[0;34m\u001b[0m\n",
       "\u001b[0;34m\u001b[0m    \u001b[0minstructions\u001b[0m\u001b[0;34m[\u001b[0m\u001b[0;34m'event_number'\u001b[0m\u001b[0;34m]\u001b[0m \u001b[0;34m=\u001b[0m \u001b[0mnp\u001b[0m\u001b[0;34m.\u001b[0m\u001b[0mdigitize\u001b[0m\u001b[0;34m(\u001b[0m\u001b[0minstructions\u001b[0m\u001b[0;34m[\u001b[0m\u001b[0;34m'time'\u001b[0m\u001b[0;34m]\u001b[0m\u001b[0;34m,\u001b[0m\u001b[0;34m\u001b[0m\n",
       "\u001b[0;34m\u001b[0m                                               \u001b[0;36m1e9\u001b[0m \u001b[0;34m*\u001b[0m \u001b[0mnp\u001b[0m\u001b[0;34m.\u001b[0m\u001b[0marange\u001b[0m\u001b[0;34m(\u001b[0m\u001b[0mc\u001b[0m\u001b[0;34m[\u001b[0m\u001b[0;34m'n_chunk'\u001b[0m\u001b[0;34m]\u001b[0m\u001b[0;34m)\u001b[0m \u001b[0;34m*\u001b[0m \u001b[0mc\u001b[0m\u001b[0;34m[\u001b[0m\u001b[0;34m'chunk_size'\u001b[0m\u001b[0;34m]\u001b[0m\u001b[0;34m)\u001b[0m \u001b[0;34m-\u001b[0m \u001b[0;36m1\u001b[0m\u001b[0;34m\u001b[0m\n",
       "\u001b[0;34m\u001b[0m\u001b[0;34m\u001b[0m\n",
       "\u001b[0;34m\u001b[0m    \u001b[0minstructions\u001b[0m\u001b[0;34m[\u001b[0m\u001b[0;34m'type'\u001b[0m\u001b[0;34m]\u001b[0m \u001b[0;34m=\u001b[0m \u001b[0mnp\u001b[0m\u001b[0;34m.\u001b[0m\u001b[0mtile\u001b[0m\u001b[0;34m(\u001b[0m\u001b[0;34m[\u001b[0m\u001b[0;36m2\u001b[0m\u001b[0;34m]\u001b[0m\u001b[0;34m,\u001b[0m \u001b[0mn\u001b[0m\u001b[0;34m)\u001b[0m\u001b[0;34m\u001b[0m\n",
       "\u001b[0;34m\u001b[0m    \u001b[0minstructions\u001b[0m\u001b[0;34m[\u001b[0m\u001b[0;34m'recoil'\u001b[0m\u001b[0;34m]\u001b[0m \u001b[0;34m=\u001b[0m \u001b[0;34m[\u001b[0m\u001b[0;36m7\u001b[0m \u001b[0;32mfor\u001b[0m \u001b[0mi\u001b[0m \u001b[0;32min\u001b[0m \u001b[0mrange\u001b[0m\u001b[0;34m(\u001b[0m\u001b[0mn\u001b[0m\u001b[0;34m)\u001b[0m\u001b[0;34m]\u001b[0m\u001b[0;34m\u001b[0m\n",
       "\u001b[0;34m\u001b[0m\u001b[0;34m\u001b[0m\n",
       "\u001b[0;34m\u001b[0m    \u001b[0;31m# Random positioning\u001b[0m\u001b[0;34m\u001b[0m\n",
       "\u001b[0;34m\u001b[0m    \u001b[0mr\u001b[0m \u001b[0;34m=\u001b[0m \u001b[0mnp\u001b[0m\u001b[0;34m.\u001b[0m\u001b[0msqrt\u001b[0m\u001b[0;34m(\u001b[0m\u001b[0mnp\u001b[0m\u001b[0;34m.\u001b[0m\u001b[0mrandom\u001b[0m\u001b[0;34m.\u001b[0m\u001b[0muniform\u001b[0m\u001b[0;34m(\u001b[0m\u001b[0;36m0\u001b[0m\u001b[0;34m,\u001b[0m \u001b[0mc\u001b[0m\u001b[0;34m[\u001b[0m\u001b[0;34m'tpc_radius'\u001b[0m\u001b[0;34m]\u001b[0m\u001b[0;34m**\u001b[0m\u001b[0;36m2\u001b[0m\u001b[0;34m,\u001b[0m \u001b[0mn\u001b[0m\u001b[0;34m)\u001b[0m\u001b[0;34m)\u001b[0m\u001b[0;34m\u001b[0m\n",
       "\u001b[0;34m\u001b[0m    \u001b[0;31m#z = c['tpc_z']\u001b[0m\u001b[0;34m\u001b[0m\n",
       "\u001b[0;34m\u001b[0m    \u001b[0mt\u001b[0m \u001b[0;34m=\u001b[0m \u001b[0mnp\u001b[0m\u001b[0;34m.\u001b[0m\u001b[0mrandom\u001b[0m\u001b[0;34m.\u001b[0m\u001b[0muniform\u001b[0m\u001b[0;34m(\u001b[0m\u001b[0;34m-\u001b[0m\u001b[0mnp\u001b[0m\u001b[0;34m.\u001b[0m\u001b[0mpi\u001b[0m\u001b[0;34m,\u001b[0m \u001b[0mnp\u001b[0m\u001b[0;34m.\u001b[0m\u001b[0mpi\u001b[0m\u001b[0;34m,\u001b[0m \u001b[0mn\u001b[0m\u001b[0;34m)\u001b[0m\u001b[0;34m\u001b[0m\n",
       "\u001b[0;34m\u001b[0m    \u001b[0minstructions\u001b[0m\u001b[0;34m[\u001b[0m\u001b[0;34m'x'\u001b[0m\u001b[0;34m]\u001b[0m \u001b[0;34m=\u001b[0m \u001b[0mnp\u001b[0m\u001b[0;34m.\u001b[0m\u001b[0mrepeat\u001b[0m\u001b[0;34m(\u001b[0m\u001b[0mr\u001b[0m \u001b[0;34m*\u001b[0m \u001b[0mnp\u001b[0m\u001b[0;34m.\u001b[0m\u001b[0mcos\u001b[0m\u001b[0;34m(\u001b[0m\u001b[0mt\u001b[0m\u001b[0;34m)\u001b[0m\u001b[0;34m,\u001b[0m \u001b[0;36m1\u001b[0m\u001b[0;34m)\u001b[0m\u001b[0;34m\u001b[0m\n",
       "\u001b[0;34m\u001b[0m    \u001b[0minstructions\u001b[0m\u001b[0;34m[\u001b[0m\u001b[0;34m'y'\u001b[0m\u001b[0;34m]\u001b[0m \u001b[0;34m=\u001b[0m \u001b[0mnp\u001b[0m\u001b[0;34m.\u001b[0m\u001b[0mrepeat\u001b[0m\u001b[0;34m(\u001b[0m\u001b[0mr\u001b[0m \u001b[0;34m*\u001b[0m \u001b[0mnp\u001b[0m\u001b[0;34m.\u001b[0m\u001b[0msin\u001b[0m\u001b[0;34m(\u001b[0m\u001b[0mt\u001b[0m\u001b[0;34m)\u001b[0m\u001b[0;34m,\u001b[0m \u001b[0;36m1\u001b[0m\u001b[0;34m)\u001b[0m\u001b[0;34m\u001b[0m\n",
       "\u001b[0;34m\u001b[0m    \u001b[0minstructions\u001b[0m\u001b[0;34m[\u001b[0m\u001b[0;34m'z'\u001b[0m\u001b[0;34m]\u001b[0m \u001b[0;34m=\u001b[0m \u001b[0mnp\u001b[0m\u001b[0;34m.\u001b[0m\u001b[0mrepeat\u001b[0m\u001b[0;34m(\u001b[0m\u001b[0mnp\u001b[0m\u001b[0;34m.\u001b[0m\u001b[0mrandom\u001b[0m\u001b[0;34m.\u001b[0m\u001b[0muniform\u001b[0m\u001b[0;34m(\u001b[0m\u001b[0;34m-\u001b[0m\u001b[0;36m1\u001b[0m\u001b[0;34m,\u001b[0m \u001b[0;36m0\u001b[0m\u001b[0;34m,\u001b[0m \u001b[0mn\u001b[0m\u001b[0;34m)\u001b[0m\u001b[0;34m,\u001b[0m \u001b[0;36m1\u001b[0m\u001b[0;34m)\u001b[0m\u001b[0;34m\u001b[0m\n",
       "\u001b[0;34m\u001b[0m\u001b[0;34m\u001b[0m\n",
       "\u001b[0;34m\u001b[0m    \u001b[0minstructions\u001b[0m\u001b[0;34m[\u001b[0m\u001b[0;34m'amp'\u001b[0m\u001b[0;34m]\u001b[0m \u001b[0;34m=\u001b[0m \u001b[0mnp\u001b[0m\u001b[0;34m.\u001b[0m\u001b[0mones\u001b[0m\u001b[0;34m(\u001b[0m\u001b[0mn\u001b[0m\u001b[0;34m)\u001b[0m  \u001b[0;31m# Best attempt for single electron\u001b[0m\u001b[0;34m\u001b[0m\n",
       "\u001b[0;34m\u001b[0m    \u001b[0mprint\u001b[0m\u001b[0;34m(\u001b[0m\u001b[0;34m'*** Simulating single electrons events ***'\u001b[0m\u001b[0;34m)\u001b[0m\u001b[0;34m\u001b[0m\n",
       "\u001b[0;34m\u001b[0m    \u001b[0;34m\u001b[0m\n",
       "\u001b[0;34m\u001b[0m    \u001b[0;32mreturn\u001b[0m \u001b[0minstructions\u001b[0m\u001b[0;34m\u001b[0m\u001b[0;34m\u001b[0m\u001b[0m\n",
       "\u001b[0;31mFile:\u001b[0m      /tmp/ipykernel_58481/3831083729.py\n",
       "\u001b[0;31mType:\u001b[0m      function\n"
      ]
     },
     "metadata": {},
     "output_type": "display_data"
    }
   ],
   "source": [
    "wfsim.strax_interface.rand_instructions??"
   ]
  },
  {
   "cell_type": "code",
   "execution_count": 40,
   "id": "c74334f3-c298-4911-a3f7-a50426b92e40",
   "metadata": {},
   "outputs": [
    {
     "data": {
      "text/plain": [
       "array([(0, 1,      33333333, -33.000595 ,  46.53915 , -106.00531 , 124, 7, 0., 0, 0, 23.,  5, 0., 0., 0.),\n",
       "       (0, 2,      33333333, -33.000595 ,  46.53915 , -106.00531 ,  85, 7, 0., 0, 0, 23.,  0, 0., 0., 0.),\n",
       "       (0, 1,     100000000, -51.67387  , -37.269943,  -27.013906, 127, 7, 0., 0, 0, 23., 10, 0., 0., 0.),\n",
       "       ...,\n",
       "       (0, 2, 1499900000000,  -1.7241203,  34.29802 , -116.19479 ,  88, 7, 0., 0, 0, 23.,  0, 0., 0., 0.),\n",
       "       (0, 1, 1499966666666, -23.16297  , -37.11055 , -138.67056 , 120, 7, 0., 0, 0, 23.,  5, 0., 0., 0.),\n",
       "       (0, 2, 1499966666666, -23.16297  , -37.11055 , -138.67056 ,  86, 7, 0., 0, 0, 23.,  0, 0., 0., 0.)],\n",
       "      dtype=[(('Waveform simulator event number.', 'event_number'), '<i4'), (('Quanta type (S1 photons or S2 electrons)', 'type'), 'i1'), (('Time of the interaction [ns]', 'time'), '<i8'), (('X position of the cluster [cm]', 'x'), '<f4'), (('Y position of the cluster [cm]', 'y'), '<f4'), (('Z position of the cluster [cm]', 'z'), '<f4'), (('Number of quanta', 'amp'), '<i4'), (('Recoil type of interaction.', 'recoil'), 'i1'), (('Energy deposit of interaction', 'e_dep'), '<f4'), (('Eventid like in geant4 output rootfile', 'g4id'), '<i4'), (('Volume id giving the detector subvolume', 'vol_id'), '<i4'), (('Local field [ V / cm ]', 'local_field'), '<f8'), (('Number of excitons', 'n_excitons'), '<i4'), (('X position of the primary particle [cm]', 'x_pri'), '<f4'), (('Y position of the primary particle [cm]', 'y_pri'), '<f4'), (('Z position of the primary particle [cm]', 'z_pri'), '<f4')])"
      ]
     },
     "execution_count": 40,
     "metadata": {},
     "output_type": "execute_result"
    }
   ],
   "source": [
    "Argon_S1_sim(dict(n_chunk=100, event_rate=15, chunk_size=15, tpc_radius = straxen.tpc_r))"
   ]
  },
  {
   "cell_type": "code",
   "execution_count": 13,
   "id": "9f7c7312-4b74-46cc-94db-a539dcbd21aa",
   "metadata": {},
   "outputs": [],
   "source": [
    "wfsim.strax_interface.rand_instructions = single_electrons_instructions"
   ]
  },
  {
   "cell_type": "code",
   "execution_count": 14,
   "id": "023a46ea-d305-4abc-a1a3-c5d0220b8b94",
   "metadata": {},
   "outputs": [
    {
     "data": {
      "text/plain": [
       "[(('Waveform simulator event number.', 'event_number'), numpy.int32),\n",
       " (('Quanta type (S1 photons or S2 electrons)', 'type'), numpy.int8),\n",
       " (('Time of the interaction [ns]', 'time'), numpy.int64),\n",
       " (('X position of the cluster [cm]', 'x'), numpy.float32),\n",
       " (('Y position of the cluster [cm]', 'y'), numpy.float32),\n",
       " (('Z position of the cluster [cm]', 'z'), numpy.float32),\n",
       " (('Number of quanta', 'amp'), numpy.int32),\n",
       " (('Recoil type of interaction.', 'recoil'), numpy.int8),\n",
       " (('Energy deposit of interaction', 'e_dep'), numpy.float32),\n",
       " (('Eventid like in geant4 output rootfile', 'g4id'), numpy.int32),\n",
       " (('Volume id giving the detector subvolume', 'vol_id'), numpy.int32),\n",
       " (('Local field [ V / cm ]', 'local_field'), numpy.float64),\n",
       " (('Number of excitons', 'n_excitons'), numpy.int32),\n",
       " (('X position of the primary particle [cm]', 'x_pri'), numpy.float32),\n",
       " (('Y position of the primary particle [cm]', 'y_pri'), numpy.float32),\n",
       " (('Z position of the primary particle [cm]', 'z_pri'), numpy.float32)]"
      ]
     },
     "execution_count": 14,
     "metadata": {},
     "output_type": "execute_result"
    }
   ],
   "source": [
    "wfsim.instruction_dtype"
   ]
  },
  {
   "cell_type": "code",
   "execution_count": 15,
   "id": "f413175b-1021-4c38-90bf-60eddf2bd859",
   "metadata": {},
   "outputs": [],
   "source": [
    "st.set_config(dict(n_chunk=100, event_rate=25, chunk_size=25))"
   ]
  },
  {
   "cell_type": "code",
   "execution_count": 16,
   "id": "3509d968-b688-4cce-8814-96537c5d97d0",
   "metadata": {},
   "outputs": [],
   "source": [
    "#st.set_config(dict(fax_config_override = dict(enable_field_dependencies= 0)))"
   ]
  },
  {
   "cell_type": "code",
   "execution_count": 17,
   "id": "dd44ee67-f10d-4654-9ca7-28674710e17d",
   "metadata": {
    "tags": []
   },
   "outputs": [
    {
     "name": "stderr",
     "output_type": "stream",
     "text": [
      "WARNING:strax:Option gain_model_nv not taken by any registered plugin\n",
      "WARNING:strax:Option gain_model_mv not taken by any registered plugin\n",
      "WARNING:wfsim.interface:Replacing drift_time_gate with CMT option ('cmt_run_id', '00001', 'electron_drift_time_gate', 'ONLINE', True) to 1700.0\n"
     ]
    },
    {
     "name": "stdout",
     "output_type": "stream",
     "text": [
      "Removing data in ./strax_data/6-raw_records_he-tco7hwqsnc to overwrite\n",
      "Removing data in ./strax_data/6-raw_records-tco7hwqsnc to overwrite\n",
      "Removing data in ./strax_data/6-truth-tco7hwqsnc to overwrite\n",
      "Removing data in ./strax_data/6-raw_records_aqmon-tco7hwqsnc to overwrite\n"
     ]
    },
    {
     "name": "stderr",
     "output_type": "stream",
     "text": [
      "WARNING:wfsim.interface:Replacing drift_velocity_liquid with CMT option ('cmt_run_id', '00001', 'electron_drift_velocity', 'ONLINE', True) to 0.00013325\n",
      "WARNING:wfsim.interface:Replacing electron_lifetime_liquid with CMT option ('cmt_run_id', '00001', 'elife', 'ONLINE', True) to 200000.0\n",
      "WARNING:wfsim.resource:Using the private repo to load XENONnT_SR0_spe_distributions_20210713_no_noise_scaled.csv locally\n",
      "WARNING:wfsim.resource:Using the private repo to load XENONnT_s1_xyz_patterns_LCE_MCvf051911_wires.pkl locally\n",
      "WARNING:wfsim.resource:A file has value False, assuming this is intentional.\n",
      "WARNING:wfsim.resource:Using the private repo to load XENONnT_s2_xy_patterns_GXe_LCE_corrected_qes_MCv4.3.0_wires.pkl locally\n",
      "WARNING:wfsim.resource:Using the private repo to load XENONnT_s2_xy_map_v4_210503_mlp_3_in_1_iterated.json locally\n",
      "WARNING:wfsim.resource:Using the private repo to load XENONnT_se_xy_map_v1_mlp.json locally\n",
      "WARNING:wfsim.resource:Using the private repo to load XENONnT_pmt_afterpulse_config_018435.json.gz locally\n",
      "WARNING:wfsim.resource:Using the private repo to load XENONnT_GARFIELD_SR0_B2d75n_C2d75n_G0d3p_A4d9p_T0d9n_PMTs1d3n_FSR0d65p.npz locally\n",
      "WARNING:wfsim.resource:Using the private repo to load garfield_timing_map_gas_gap_sr0.npy locally\n",
      "WARNING:wfsim.resource:Using the private repo to load gas_gap_warping_map_January_2021.pkl locally\n",
      "WARNING:wfsim.resource:Using the private repo to load garfield_gas_gap_map_sr0.json locally\n",
      "WARNING:wfsim.resource:Loading x1t_se_afterpulse_delaytime.pkl.gz from mongo downloader to ./resource_cache/014aa048758a51f154cdc3b32dac2773\n",
      "WARNING:wfsim.resource:Using the private repo to load XENONnT_noise_tpc_only_2ms_25118.npz locally\n",
      "WARNING:wfsim.resource:Using the private repo to load XnT_3D_FDC_xyt_dummy_all_zeros_v0.1.json.gz locally\n",
      "WARNING:wfsim.resource:Using the private repo to load field_dependent_radius_depth_maps_B2d75n_C2d75n_G0d3p_A4d9p_T0d9n_PMTs1d3n_FSR0d65p_QPTFE_0d5n_0d4p.json.gz locally\n",
      "WARNING:wfsim.resource:Using the private repo to load XENONnT_s1_proponly_va43fa9b_wires_20200625.json.gz locally\n",
      "WARNING:wfsim.resource:Using the private repo to load XENONnT_s2_opticalprop_time_v0.json.gz locally\n"
     ]
    },
    {
     "name": "stdout",
     "output_type": "stream",
     "text": [
      "{'detector': 'XENONnT', 'fax_config': '/home/luissanchez25/Wfsim_files/private_nt_aux_files/sim_files/fax_config_nt_sr0_v1.json', 'n_tpc_pmts': 494, 'n_top_pmts': 253, 'channel_map': {'tpc': (0, 493), 'he': (500, 752), 'aqmon': (790, 807), 'aqmon_nv': (808, 815), 'tpc_blank': (999, 999), 'mv': (1000, 1083), 'aux_mv': (1084, 1087), 'mv_blank': (1999, 1999), 'nveto': (2000, 2119), 'nveto_blank': (2999, 2999), 'sum_signal': 800}, 'gain_model_mc': ('cmt_run_id', '00001', 'to_pe_model', 'ONLINE', True), 'fax_config_override_from_cmt': {'drift_time_gate': ('cmt_run_id', '00001', 'electron_drift_time_gate', 'ONLINE', True), 'drift_velocity_liquid': ('cmt_run_id', '00001', 'electron_drift_velocity', 'ONLINE', True), 'electron_lifetime_liquid': ('cmt_run_id', '00001', 'elife', 'ONLINE', True)}, 'n_chunk': 100, 'event_rate': 25, 'chunk_size': 25, 'per_pmt_truth': False, 'fax_file': None, 'fax_config_override': None, 'right_raw_extension': 100000, 'seed': False, 's1_model_type': 'optical_propagation + nest', 's2_time_model': 'optical_propagation', 's2_luminescence_model': 'garfield_gas_gap', 's2_garfield_confine_position': 0.01, 'se_gain_from_map': True, 'ext_eff_from_map': True, 'enable_gas_gap_warping': True, 'enable_pmt_afterpulses': True, 'enable_electron_afterpulses': False, 'enable_noise': True, 'field_distortion_on': False, 'field_distortion_model': 'comsol', 'enable_field_dependencies': {'survival_probability_map': True, 'drift_speed_map': True, 'norm_drift_velocity': True, 'diffusion_longitudinal_map': False, 'diffusion_transverse_map': False}, 'default_reconstruction_algorithm': 'mlp', 'url_base': 'https://raw.githubusercontent.com/XENONnT/private_nt_aux_files/master/sim_files', 'photon_area_distribution': 'XENONnT_SR0_spe_distributions_20210713_no_noise_scaled.csv', 's1_pattern_map': 'XENONnT_s1_xyz_patterns_LCE_MCvf051911_wires.pkl', 's2_pattern_map': 'XENONnT_s2_xy_patterns_GXe_LCE_corrected_qes_MCv4.3.0_wires.pkl', 's1_lce_correction_map': False, 's2_correction_map': 'XENONnT_s2_xy_map_v4_210503_mlp_3_in_1_iterated.json', 'se_gain_map': 'XENONnT_se_xy_map_v1_mlp.json', 's1_time_spline': 'XENONnT_s1_proponly_va43fa9b_wires_20200625.json.gz', 's2_time_spline': 'XENONnT_s2_opticalprop_time_v0.json.gz', 's2_luminescence_gg': 'garfield_timing_map_gas_gap_sr0.npy', 's2_luminescence': 'XENONnT_GARFIELD_SR0_B2d75n_C2d75n_G0d3p_A4d9p_T0d9n_PMTs1d3n_FSR0d65p.npz', 'gas_gap_map': 'gas_gap_warping_map_January_2021.pkl', 'garfield_gas_gap_map': 'garfield_gas_gap_map_sr0.json', 'field_dependencies_map': 'field_dependent_radius_depth_maps_B2d75n_C2d75n_G0d3p_A4d9p_T0d9n_PMTs1d3n_FSR0d65p_QPTFE_0d5n_0d4p.json.gz', 'field_distortion_comsol_map': 'init_to_final_position_mapping_B2d75n_C2d75n_G0d3p_A4d9p_T0d9n_PMTs1d3n_FSR0d65p_QPTFE_0d5n_0d4p.json.gz', 'photon_ap_cdfs': 'XENONnT_pmt_afterpulse_config_018435.json.gz', 'noise_file': 'XENONnT_noise_tpc_only_2ms_25118.npz', 'temperature': 177.45, 'pressure': 1.210852812592475e+18, 'lxe_dielectric_constant': 1.874, 'tpc_length': 148.6515, 'tpc_radius': 66.4, 'anode_wire_radius': 0.0108, 'anode_field_domination_distance': 0.089, 'elr_gas_gap_length': 0.2788, 'gate_to_anode_distance': 0.7888, 'drift_field': 22.92, 'anode_voltage': 4600.0, 'diffusion_constant_longitudinal': 4.45e-08, 'diffusion_constant_transverse': 4.841e-08, 'drift_time_gate': 1700.0, 'drift_velocity_liquid': 0.00013325, 'singlet_fraction_gas': 0.35, 'singlet_lifetime_gas': 5.88, 'singlet_lifetime_liquid': 3.1, 'triplet_lifetime_gas': 100.1, 'triplet_lifetime_liquid': 24.0, 's1_ER_alpha_singlet_fraction': 0.7368421052631579, 's1_ER_primary_singlet_fraction': 0.1452991452991453, 's1_ER_recombination_fraction': 0.9, 's1_ER_recombination_time': 4.276062489602044, 's1_ER_secondary_singlet_fraction': 0.4444444444444444, 's1_NR_singlet_fraction': 0.8863636363636364, 'maximum_recombination_time': 1000, 'override_s1_photon_time_field': 110.0, 's1_decay_spread': 13, 's1_decay_time': 58.02, 's1_detection_efficiency': 1.0, 's2_mean_area_fraction_top': 0.7435, 's2_aft_sigma': 0.0, 's2_aft_skewness': 0.0, 's2_secondary_sc_gain': 31.15, 's2_time_spread': 78.3, 'electron_extraction_yield': 0.55, 'electron_lifetime_liquid': 200000.0, 'electron_trapping_time': 185.0, 'gas_drift_velocity_slope': 5400000000000.0, 'g2_mean': 16.7, 'p_double_pe_emision': 0.219, 'pe_pulse_ts': [-13, -12, -11, -10, -9, -8, -7, -6, -5, -4, -3, -2, -1, 0, 1, 2, 3, 4, 5, 6, 7, 8, 9, 10, 11, 12, 13, 14, 15, 16, 17, 18, 19, 20, 21, 22, 23, 24, 25, 26, 27, 28, 29, 30, 31, 32, 33, 34, 35, 36, 37, 38, 39, 40, 41, 42, 43, 44, 45, 46, 47, 48, 49, 50, 51, 52, 53, 54, 55, 56, 57, 58, 59, 60, 61, 62, 63, 64, 65, 66, 67, 68, 69, 70, 71, 72, 73, 74, 75, 76, 77, 78, 79, 80, 81, 82, 83, 84, 85, 86, 87, 88, 89, 90, 91, 92, 93, 94, 95, 96, 97, 98, 99, 100, 101, 102, 103, 104, 105, 106, 107, 108, 109, 110, 111, 112, 113, 114, 115, 116, 117, 118, 119, 120, 121, 122, 123, 124, 125, 126, 127, 128, 129, 130, 131, 132, 133, 134, 135, 136, 137, 138, 139, 140, 141, 142, 143, 144, 145, 146, 147, 148, 149, 150, 151, 152, 153, 154, 155, 156, 157, 158, 159, 160, 161, 162, 163, 164, 165, 166, 167, 168, 169, 170, 171, 172, 173, 174, 175, 176, 177, 178, 179, 180, 181, 182, 183, 184, 185, 186, 187, 188, 189, 190, 191, 192, 193, 194, 195], 'pe_pulse_ys': [5.877972164179458e-09, 8.655525785456122e-08, 9.494125588317938e-07, 7.896805563760717e-06, 5.0878565098147255e-05, 0.00025904060183682944, 0.0010546866894903517, 0.0034372690428190844, 0.008918175306240714, 0.018366585294685045, 0.03024293464574896, 0.04070285285992151, 0.04650274440945783, 0.04738821191801888, 0.045269280688785586, 0.0420583181746971, 0.03873509136879648, 0.035604682980707264, 0.03271708669859928, 0.03006262425253816, 0.027623450572224897, 0.025382178597567896, 0.023322755583582648, 0.021430427093330644, 0.019691635654062734, 0.018093923795527204, 0.016625844803847056, 0.01527688071229399, 0.014037366945928706, 0.012898423080313378, 0.0117226134274469, 0.010654620425448081, 0.007486532911462879, 0.007122986413393814, 0.006759439915324416, 0.0063958934172549066, 0.006032346919185841, 0.005668800421116332, 0.005305253923046934, 0.004954040729682673, 0.004615160841022549, 0.004498280437047894, 0.004381400033073238, 0.004264519629098583, 0.004147639225123928, 0.004030758821149161, 0.003913878417174506, 0.0037969980131998507, 0.0036801176092253066, 0.0035661831429826276, 0.0034551946144725913, 0.0033972329651430124, 0.003339271315813323, 0.003281309666483744, 0.0032233480171541657, 0.003165386367824587, 0.0031074247184950084, 0.0030494630691652075, 0.002991501419835629, 0.0029345925847569037, 0.002878736563928587, 0.002841831199613188, 0.002804925835297788, 0.0027680204709823884, 0.0027311151066669887, 0.0026942097423514784, 0.0026573043780361897, 0.002620399013720679, 0.002583493649405279, 0.0025470331080403733, 0.0025110173896258497, 0.002483008484319546, 0.0024549995790133527, 0.0024269906737071595, 0.002398981768400855, 0.002370972863094662, 0.0023429639577884688, 0.0023149550524821645, 0.0022869461471758602, 0.0022592201366423946, 0.002231777020881435, 0.0022094260110277998, 0.0021870750011742757, 0.0021647239913207515, 0.002142372981467338, 0.002120021971613703, 0.0020976709617601787, 0.0020753199519066546, 0.002052968942053241, 0.0020307543953674546, 0.00200867631184985, 0.001989054565354189, 0.001969432818858306, 0.0019498110723626448, 0.0019301893258668727, 0.0019105675793713226, 0.0018909458328754394, 0.0018713240863797783, 0.0018517023398840063, 0.0018323263223003487, 0.0018131960336284728, 0.0017984888653722166, 0.0017837816971160714, 0.0017690745288597041, 0.001754367360603559, 0.0017396601923473027, 0.0017249530240910464, 0.0017102458558346792, 0.001695538687578423, 0.0016813056397601814, 0.0016675467123799547, 0.0016623219528827716, 0.0016570971933854775, 0.0016518724338885165, 0.0016466476743912226, 0.0016414229148939284, 0.0016361981553968564, 0.0016309733958997843, 0.0016257486364023791, 0.0016202321178094528, 0.00161442384012045, 0.0016033638987052918, 0.001592303957290245, 0.0015812440158751977, 0.0015701840744600396, 0.0015591241330449924, 0.0015480641916298342, 0.001537004250214787, 0.0015259443087995179, 0.0015148109383005546, 0.0015036041387176751, 0.001491075615624526, 0.0014785470925315991, 0.001466018569438339, 0.001453490046345301, 0.001440961523252152, 0.0014284330001590028, 0.0014159044770659648, 0.0014033759539728158, 0.0013911025358676267, 0.0013790842227502866, 0.0013716577994147816, 0.0013642313760793877, 0.0013568049527439938, 0.001349378529408378, 0.0013419521060730952, 0.0013345256827375902, 0.0013270992594020853, 0.0013196728360666916, 0.0013122629141418373, 0.001304869493627745, 0.0012977730985050332, 0.0012906767033823215, 0.001283580308259388, 0.0012764839131367872, 0.0012693875180140755, 0.0012622911228913638, 0.001255194727768541, 0.0012480983326459403, 0.0012409999123474602, 0.0012338994668731004, 0.0012267625682346867, 0.001219625669596495, 0.0012124887709579703, 0.0012053518723195566, 0.0011982149736811428, 0.0011910780750428401, 0.0011839411764043154, 0.0011768042777659017, 0.0011693420067777262, 0.0011615543634395673, 0.0011479100178038103, 0.0011342656721679426, 0.0011206213265321859, 0.00110697698089654, 0.0010933326352606722, 0.0010796882896250263, 0.0010660439439892696, 0.0010523995983534019, 0.0010394190161775144, 0.0010271021974616074, 0.0010267331210240156, 0.001026364044586091, 0.0010259949681484994, 0.0010256258917104636, 0.001025256815272983, 0.0010248877388350584, 0.0010245186623973556, 0.001024149585959653, 0.0010225269485754907, 0.0010196507502449798, 0.0009942104548798607, 0.0009687701595146309, 0.0009433298641495118, 0.0009178895687842819, 0.000892449273419274, 0.000867008978054155, 0.000841568682688814, 0.0008161283873238061, 0.0007904692274874684, 0.0007645912031799121, 0.0007347736183906416, 0.0007049560336012601, 0.0006751384488119896, 0.0006453208640227192, 0.0006155032792334486, 0.0005856856944440671, 0.0005558681096547966, 0.0005260505248655261], 'pmt_ap_modifier': 1, 'pmt_ap_t_modifier': 0, 'pmt_pulse_time_rounding': 1.0, 'pmt_transit_time_mean': 46.0, 'pmt_transit_time_spread': 9.0, 'photoelectric_modifier': 0, 'photoelectric_p': 0.0, 'photoelectric_t_center': 0, 'photoelectric_t_spread': 0, 'photoionization_modifier': 1, 'sample_duration': 10, 'samples_after_pulse_center': 20, 'samples_before_pulse_center': 2, 'samples_to_store_after': 50, 'samples_to_store_before': 50, 'pmt_circuit_load_resistor': 8.010882825e-09, 'external_amplification': 10, 'high_energy_deamplification_factor': 0.05, 'trigger_window': 50, 'digitizer_bits': 14, 'digitizer_reference_baseline': 16000, 'digitizer_voltage_range': 2.25, 'special_thresholds': {'405': 1000, '434': 20, '448': 20, '471': 20, '593': 25, '688': 20, '798': 200, '800': 60, '801': 30, '802': 30, '803': 30, '804': 30, '805': 30, '806': 30, '807': 30, '999': 16383}, 'zle_threshold': 15, 'gains': array([311348.75 , 212988.27 , 157026.16 , 144278.03 , 288708.4  ,\n",
      "        75398.51 , 346858.25 , 293480.34 , 237415.1  , 269976.22 ,\n",
      "       312967.97 , 307182.1  , 113224.71 , 362688.03 , 328621.22 ,\n",
      "        64863.234, 274903.4  , 254993.7  , 192540.7  , 161344.1  ,\n",
      "       309460.84 , 136059.95 , 255363.67 , 307244.4  , 209602.9  ,\n",
      "       335013.94 , 288160.1  , 392887.25 ,  65840.625, 133823.   ,\n",
      "       259130.69 , 273459.78 , 213419.05 ,  99057.82 , 205018.38 ,\n",
      "       221283.05 , 356859.47 , 352068.5  , 324924.84 , 322875.56 ,\n",
      "       153895.27 , 242468.11 , 188262.44 , 161716.67 , 177020.05 ,\n",
      "       196572.83 , 167109.86 , 275811.12 , 189300.92 , 208045.92 ,\n",
      "       327209.   , 258435.4  , 265960.94 , 373989.62 , 244879.39 ,\n",
      "       141877.94 , 246714.22 , 208215.47 , 231779.9  , 317300.8  ,\n",
      "       157656.81 ,  95384.23 , 261415.67 , 180500.03 , 295908.34 ,\n",
      "       173285.45 , 222484.98 , 338492.5  , 303129.44 , 179216.64 ,\n",
      "       350747.38 , 305400.66 , 237939.44 , 278277.12 , 189018.89 ,\n",
      "       218088.77 , 113321.93 , 112717.1  , 183298.73 , 208311.19 ,\n",
      "       170880.4  , 234670.69 , 350583.34 , 161498.3  , 368616.   ,\n",
      "       262942.47 , 252748.86 , 236852.17 , 216795.16 , 337504.56 ,\n",
      "       254617.86 , 211422.77 , 272602.28 , 252348.94 , 221287.11 ,\n",
      "       252220.86 , 201912.14 , 149473.44 , 220527.69 , 271489.25 ,\n",
      "       245183.97 , 314365.1  , 185866.22 , 310078.62 , 230239.97 ,\n",
      "       352874.8  , 186604.66 , 279114.38 , 312379.8  , 230930.06 ,\n",
      "       195862.66 , 338558.62 , 159118.84 , 172371.   , 272843.34 ,\n",
      "       347315.7  , 251775.12 , 243771.55 , 242870.69 , 124953.625,\n",
      "       288618.   , 194922.53 , 112736.7  , 167268.22 , 225871.84 ,\n",
      "       106067.945, 328115.56 , 116657.09 , 242632.55 , 266685.2  ,\n",
      "       218589.42 , 233905.88 , 175968.5  , 269951.03 , 321938.62 ,\n",
      "       177108.64 , 133828.84 , 238404.22 , 180854.16 , 186053.5  ,\n",
      "       354529.97 , 302045.06 , 268848.78 , 256764.39 , 255046.05 ,\n",
      "       143924.23 , 208100.34 , 218367.4  , 217472.36 , 101578.86 ,\n",
      "       215020.77 , 215340.53 , 106429.78 , 281814.88 , 212245.39 ,\n",
      "       206426.14 , 189082.05 , 154567.64 , 238347.94 , 262992.44 ,\n",
      "       272125.88 , 199987.95 , 311900.2  ,  97861.25 , 287420.72 ,\n",
      "       227558.14 , 215819.27 , 251176.   , 306438.5  , 336268.56 ,\n",
      "        75311.85 ,  84127.6  , 206556.1  , 289369.66 , 189366.11 ,\n",
      "       249722.   , 260659.89 , 202262.39 ,  66900.94 , 227214.67 ,\n",
      "        85051.38 , 202379.92 , 202352.53 , 176525.86 , 254429.73 ,\n",
      "            0.   , 145168.62 , 323178.06 , 310761.12 , 236405.02 ,\n",
      "        83128.61 , 121714.805, 231681.72 , 264152.56 , 178044.86 ,\n",
      "       335135.25 , 252461.1  , 298959.97 , 117643.52 , 286750.3  ,\n",
      "       220747.27 , 214683.89 , 172697.66 , 193291.61 , 120287.875,\n",
      "       238163.33 , 283574.   , 152284.3  , 250526.4  , 191320.61 ,\n",
      "       249421.39 , 189703.64 , 353694.78 , 216896.12 , 237762.44 ,\n",
      "       214346.23 , 139659.33 , 222694.22 , 174278.66 , 256254.12 ,\n",
      "       202272.36 , 159712.05 , 286501.78 , 236010.16 , 213842.62 ,\n",
      "       290190.3  , 226762.69 , 316251.2  , 327293.62 , 283000.4  ,\n",
      "       183127.19 , 168616.97 , 318473.12 , 202343.4  , 171805.55 ,\n",
      "       243752.1  , 313265.22 , 309745.78 , 243354.84 , 105050.87 ,\n",
      "       246603.95 , 321408.44 , 290675.25 , 271908.25 , 221639.77 ,\n",
      "       325166.88 , 204832.39 , 125061.93 , 280573.1  , 210639.39 ,\n",
      "       268415.34 , 253045.   , 288091.66 , 127607.4  , 277972.5  ,\n",
      "       296609.   , 161216.   , 351398.44 , 316848.3  , 269084.3  ,\n",
      "       238687.5  , 346024.38 , 183979.06 , 240682.78 , 306137.1  ,\n",
      "       231590.45 ,  98834.586, 265184.03 , 169946.11 , 237684.08 ,\n",
      "       125504.34 , 380752.4  , 228072.27 , 160841.   , 231413.31 ,\n",
      "       197974.56 , 185311.16 , 208206.81 , 255399.98 , 279528.25 ,\n",
      "       263002.44 , 227009.58 , 179139.61 , 261030.92 , 445540.   ,\n",
      "        98551.39 , 218319.84 , 164936.5  , 278867.06 , 262460.06 ,\n",
      "       227490.3  , 219086.34 , 234692.69 , 250496.7  , 216403.31 ,\n",
      "       340998.28 , 114732.67 , 144163.38 , 101917.766, 362918.56 ,\n",
      "       258346.62 , 224577.6  ,  82737.08 , 190982.36 , 333065.1  ,\n",
      "       187294.45 ,  74572.8  , 231233.28 ,  77059.26 , 236209.73 ,\n",
      "       119518.914, 205051.27 , 348332.97 , 252384.7  ,  71260.33 ,\n",
      "       214602.44 , 279592.25 , 280938.12 , 226615.   , 207532.64 ,\n",
      "       130986.98 , 151902.72 , 197772.3  , 116454.47 , 280915.06 ,\n",
      "        67668.875, 381579.2  ,  69821.86 , 177265.8  , 117288.42 ,\n",
      "       174839.73 , 363817.6  , 251336.45 , 307117.72 , 110762.95 ,\n",
      "       235381.06 ,  79598.63 , 214858.75 ,  75906.67 , 182718.14 ,\n",
      "       199445.02 , 200981.66 , 291200.3  , 257779.61 , 411699.9  ,\n",
      "       299624.56 , 278360.12 , 203174.5  , 191031.58 , 340621.03 ,\n",
      "       284412.2  , 127337.086, 208568.78 , 215850.55 ,      0.   ,\n",
      "       202074.5  , 306523.44 ,  80171.58 , 316088.97 , 213292.03 ,\n",
      "       264068.22 , 321314.7  , 281062.25 , 232901.48 , 196281.75 ,\n",
      "       259719.2  , 180127.28 , 248842.95 , 157692.64 , 233295.86 ,\n",
      "       261779.78 ,  76742.21 , 306842.3  , 350377.75 , 261217.36 ,\n",
      "       363750.5  ,  62603.31 , 318508.22 , 158908.48 , 200708.92 ,\n",
      "       272754.8  ,  96666.266, 322921.47 , 210425.98 , 292023.34 ,\n",
      "       162606.81 ,      0.   , 150042.11 , 266666.62 , 140665.23 ,\n",
      "       263769.56 ,  68993.39 , 192867.53 , 262606.12 , 131670.12 ,\n",
      "       303843.38 , 256930.81 , 238502.45 , 394543.1  , 148388.73 ,\n",
      "       354458.84 , 108125.68 , 364650.72 , 250595.72 , 116097.92 ,\n",
      "       155089.25 , 330145.03 , 199807.45 , 182819.27 , 332243.75 ,\n",
      "       306914.62 , 238070.2  , 329905.66 , 248770.47 , 173364.1  ,\n",
      "       358542.16 , 378167.4  , 220722.8  , 234813.14 ,  75811.57 ,\n",
      "       216369.75 , 192734.1  , 264607.4  , 382009.53 , 324082.22 ,\n",
      "       301645.22 , 383483.   ,      0.   , 297805.4  , 236421.98 ,\n",
      "       335595.2  , 105172.39 , 139956.92 , 214604.58 , 189970.52 ,\n",
      "       254849.86 , 321209.1  , 230762.06 ,  65189.527, 158314.45 ,\n",
      "       240279.67 , 345782.56 , 231126.48 , 245557.88 ,  73107.9  ,\n",
      "       231954.25 , 204223.8  , 326294.06 ,  82566.27 , 266941.44 ,\n",
      "       184020.31 , 163334.08 , 394138.28 , 390384.22 , 290010.84 ,\n",
      "       162958.27 , 245312.45 ,  91956.29 , 328973.53 , 309230.56 ,\n",
      "       298586.7  , 281516.5  , 269923.25 , 161633.17 , 299978.6  ,\n",
      "       166362.28 , 281357.88 , 243161.11 , 224467.9  , 302638.66 ,\n",
      "       174891.92 , 203035.77 , 261861.53 , 252343.52 , 224128.53 ,\n",
      "       183378.   , 178713.28 , 171750.73 , 247705.89 ,  95623.266,\n",
      "       304210.16 , 279248.1  ,  87881.39 , 257787.55 , 271551.   ,\n",
      "       232600.64 , 171495.12 , 257435.17 , 217140.28 ,  83509.05 ,\n",
      "       282617.3  , 308017.28 , 164196.34 ,  84478.52 ], dtype=float32), 'channels_bottom': array([253, 254, 255, 256, 257, 258, 259, 260, 261, 262, 263, 264, 265,\n",
      "       266, 267, 268, 269, 270, 271, 272, 273, 274, 275, 276, 277, 278,\n",
      "       279, 280, 281, 282, 283, 284, 285, 286, 287, 288, 289, 290, 291,\n",
      "       292, 293, 294, 295, 296, 297, 298, 299, 300, 301, 302, 303, 304,\n",
      "       305, 306, 307, 308, 309, 310, 311, 312, 313, 314, 315, 316, 317,\n",
      "       318, 319, 320, 321, 322, 323, 324, 325, 326, 327, 328, 329, 330,\n",
      "       331, 332, 333, 334, 335, 336, 337, 338, 339, 340, 341, 342, 343,\n",
      "       344, 345, 346, 347, 348, 349, 350, 351, 352, 353, 354, 355, 356,\n",
      "       357, 358, 359, 360, 361, 362, 363, 364, 365, 366, 367, 368, 369,\n",
      "       370, 371, 372, 373, 374, 375, 376, 377, 378, 379, 380, 381, 382,\n",
      "       383, 384, 385, 386, 387, 388, 389, 390, 391, 392, 393, 394, 395,\n",
      "       396, 397, 398, 399, 400, 401, 402, 403, 404, 405, 406, 407, 408,\n",
      "       409, 410, 411, 412, 413, 414, 415, 416, 417, 418, 419, 420, 421,\n",
      "       422, 423, 424, 425, 426, 427, 428, 429, 430, 431, 432, 433, 434,\n",
      "       435, 436, 437, 438, 439, 440, 441, 442, 443, 444, 445, 446, 447,\n",
      "       448, 449, 450, 451, 452, 453, 454, 455, 456, 457, 458, 459, 460,\n",
      "       461, 462, 463, 464, 465, 466, 467, 468, 469, 470, 471, 472, 473,\n",
      "       474, 475, 476, 477, 478, 479, 480, 481, 482, 483, 484, 485, 486,\n",
      "       487, 488, 489, 490, 491, 492, 493])}\n",
      "62500\n",
      "*** Simulating single electrons events ***\n"
     ]
    },
    {
     "name": "stderr",
     "output_type": "stream",
     "text": [
      "WARNING:wfsim.resource:Using json for unspecified /home/luissanchez25/Wfsim_files/private_nt_aux_files/ntauxfiles/../strax_files/XENONnT_se_xy_map_v1_mlp.json\n",
      "/opt/conda/envs/strax/lib/python3.8/site-packages/wfsim/load_resource.py:261: RuntimeWarning: invalid value encountered in true_divide\n",
      "  orig_aft_=np.mean((s2map_topeff_/s2map_toteff_)[s2map_toteff_>0.0])\n",
      "WARNING:wfsim.resource:Using json.gz for unspecified /home/luissanchez25/Wfsim_files/private_nt_aux_files/ntauxfiles/../sim_files/XENONnT_s2_opticalprop_time_v0.json.gz\n",
      "WARNING:wfsim.resource:Using noise data /home/luissanchez25/Wfsim_files/private_nt_aux_files/ntauxfiles/../sim_files/XENONnT_noise_tpc_only_2ms_25118.npz with 494 channels for XENONnT\n",
      "*** Detector definition message ***\n",
      "You are currently using the default XENON10 template detector.\n",
      "\n",
      "WARNING:strax:Could not estimate run start and end time from run metadata: assuming it is 0 and inf\n"
     ]
    },
    {
     "data": {
      "application/vnd.jupyter.widget-view+json": {
       "model_id": "4bc04e7a2b454fff8ad6515228bd063e",
       "version_major": 2,
       "version_minor": 0
      },
      "text/plain": [
       "HBox(children=(FloatProgress(value=0.0, description='Simulating Raw Records', max=62500.0, style=ProgressStyle…"
      ]
     },
     "metadata": {},
     "output_type": "display_data"
    },
    {
     "name": "stderr",
     "output_type": "stream",
     "text": [
      "Exception in thread divide_outputs:raw_records:\n",
      "Traceback (most recent call last):\n",
      "  File \"/opt/conda/envs/strax/lib/python3.8/threading.py\", line 932, in _bootstrap_inner\n",
      "CRITICAL:ThreadedMailboxProcessor:Target Mailbox (raw_records) killed, exception <class 'strax.mailbox.MailboxKilled'>, message (<class 'numba.core.errors.TypingError'>, TypingError('Failed in nopython mode pipeline (step: nopython frontend)\\n\\x1b[1m\\x1b[1mUse of unsupported NumPy function \\'numpy.clip\\' or unsupported use of the function.\\n\\x1b[1m\\nFile \"../../../opt/conda/envs/strax/lib/python3.8/site-packages/wfsim/core/s2.py\", line 431:\\x1b[0m\\n\\x1b[1m    def draw_excitation_times(inv_cdf_list, hist_indices, nph, diff_nearest_gg, d_gas_gap):\\n        <source elided>\\n        timings = np.zeros(np.sum(nph))\\n\\x1b[1m        upper_hist_ind = np.clip(hist_indices+1, 0, len(inv_cdf_list)-1)\\n\\x1b[0m        \\x1b[1m^\\x1b[0m\\x1b[0m\\n\\x1b[0m\\n\\x1b[0m\\x1b[1mDuring: typing of get attribute at /opt/conda/envs/strax/lib/python3.8/site-packages/wfsim/core/s2.py (431)\\x1b[0m\\n\\x1b[1m\\nFile \"../../../opt/conda/envs/strax/lib/python3.8/site-packages/wfsim/core/s2.py\", line 431:\\x1b[0m\\n\\x1b[1m    def draw_excitation_times(inv_cdf_list, hist_indices, nph, diff_nearest_gg, d_gas_gap):\\n        <source elided>\\n        timings = np.zeros(np.sum(nph))\\n\\x1b[1m        upper_hist_ind = np.clip(hist_indices+1, 0, len(inv_cdf_list)-1)\\n\\x1b[0m        \\x1b[1m^\\x1b[0m\\x1b[0m\\n'), <traceback object at 0x7ff823d34d40>)\n",
      "    self.run()\n",
      "  File \"/opt/conda/envs/strax/lib/python3.8/threading.py\", line 870, in run\n",
      "    self._target(*self._args, **self._kwargs)\n",
      "  File \"/opt/conda/envs/strax/lib/python3.8/site-packages/strax/mailbox.py\", line 294, in _send_from\n",
      "    self.kill_from_exception(e)\n",
      "  File \"/opt/conda/envs/strax/lib/python3.8/site-packages/strax/mailbox.py\", line 213, in kill_from_exception\n",
      "    raise e\n",
      "  File \"/opt/conda/envs/strax/lib/python3.8/site-packages/strax/mailbox.py\", line 281, in _send_from\n",
      "    x = next(iterable)\n",
      "  File \"/opt/conda/envs/strax/lib/python3.8/site-packages/strax/plugin.py\", line 488, in iter\n",
      "    yield self.do_compute(chunk_i=chunk_i, **inputs_merged)\n",
      "  File \"/opt/conda/envs/strax/lib/python3.8/site-packages/strax/plugin.py\", line 596, in do_compute\n",
      "    result = self.compute(**kwargs)\n",
      "  File \"/opt/conda/envs/strax/lib/python3.8/site-packages/wfsim/strax_interface.py\", line 697, in compute\n",
      "    result = next(self.sim_iter)\n",
      "  File \"/opt/conda/envs/strax/lib/python3.8/site-packages/wfsim/strax_interface.py\", line 386, in __call__\n",
      "    for channel, left, right, data in self.rawdata(instructions=instructions,\n",
      "  File \"/opt/conda/envs/strax/lib/python3.8/site-packages/wfsim/core/rawdata.py\", line 133, in __call__\n",
      "    for instb_secondary in self.sim_data(instb[instb_run_i]):\n",
      "  File \"/opt/conda/envs/strax/lib/python3.8/site-packages/wfsim/core/rawdata.py\", line 173, in sim_data\n",
      "    self.sim_primary(primary_pulse, instruction, **kwargs)\n",
      "  File \"/opt/conda/envs/strax/lib/python3.8/site-packages/wfsim/core/rawdata.py\", line 164, in sim_primary\n",
      "    self.pulses[primary_pulse](instruction)\n",
      "  File \"/opt/conda/envs/strax/lib/python3.8/site-packages/wfsim/core/s2.py\", line 119, in __call__\n",
      "    self._photon_timings = self.photon_timings(positions=positions, \n",
      "  File \"/opt/conda/envs/strax/lib/python3.8/site-packages/wfsim/core/s2.py\", line 532, in photon_timings\n",
      "    _photon_timings = S2.luminescence_timings_garfield_gasgap(positions, n_photons_per_xy,\n",
      "  File \"/opt/conda/envs/strax/lib/python3.8/site-packages/wfsim/core/s2.py\", line 478, in luminescence_timings_garfield_gasgap\n",
      "    return S2.draw_excitation_times(resource.s2_luminescence_gg['timing_inv_cdf'],\n",
      "  File \"/home/luissanchez25/.local/lib/python3.8/site-packages/numba/core/dispatcher.py\", line 415, in _compile_for_args\n",
      "    error_rewrite(e, 'typing')\n",
      "  File \"/home/luissanchez25/.local/lib/python3.8/site-packages/numba/core/dispatcher.py\", line 358, in error_rewrite\n",
      "    reraise(type(e), e, None)\n",
      "  File \"/home/luissanchez25/.local/lib/python3.8/site-packages/numba/core/utils.py\", line 80, in reraise\n",
      "    raise value.with_traceback(tb)\n",
      "numba.core.errors.TypingError: Failed in nopython mode pipeline (step: nopython frontend)\n",
      "\u001b[1m\u001b[1mUse of unsupported NumPy function 'numpy.clip' or unsupported use of the function.\n",
      "\u001b[1m\n",
      "File \"../../../opt/conda/envs/strax/lib/python3.8/site-packages/wfsim/core/s2.py\", line 431:\u001b[0m\n",
      "\u001b[1m    def draw_excitation_times(inv_cdf_list, hist_indices, nph, diff_nearest_gg, d_gas_gap):\n",
      "        <source elided>\n",
      "        timings = np.zeros(np.sum(nph))\n",
      "\u001b[1m        upper_hist_ind = np.clip(hist_indices+1, 0, len(inv_cdf_list)-1)\n",
      "\u001b[0m        \u001b[1m^\u001b[0m\u001b[0m\n",
      "\u001b[0m\n",
      "\u001b[0m\u001b[1mDuring: typing of get attribute at /opt/conda/envs/strax/lib/python3.8/site-packages/wfsim/core/s2.py (431)\u001b[0m\n",
      "\u001b[1m\n",
      "File \"../../../opt/conda/envs/strax/lib/python3.8/site-packages/wfsim/core/s2.py\", line 431:\u001b[0m\n",
      "\u001b[1m    def draw_excitation_times(inv_cdf_list, hist_indices, nph, diff_nearest_gg, d_gas_gap):\n",
      "        <source elided>\n",
      "        timings = np.zeros(np.sum(nph))\n",
      "\u001b[1m        upper_hist_ind = np.clip(hist_indices+1, 0, len(inv_cdf_list)-1)\n",
      "\u001b[0m        \u001b[1m^\u001b[0m\u001b[0m\n",
      "\n"
     ]
    },
    {
     "ename": "TypingError",
     "evalue": "Failed in nopython mode pipeline (step: nopython frontend)\n\u001b[1m\u001b[1mUse of unsupported NumPy function 'numpy.clip' or unsupported use of the function.\n\u001b[1m\nFile \"../../../opt/conda/envs/strax/lib/python3.8/site-packages/wfsim/core/s2.py\", line 431:\u001b[0m\n\u001b[1m    def draw_excitation_times(inv_cdf_list, hist_indices, nph, diff_nearest_gg, d_gas_gap):\n        <source elided>\n        timings = np.zeros(np.sum(nph))\n\u001b[1m        upper_hist_ind = np.clip(hist_indices+1, 0, len(inv_cdf_list)-1)\n\u001b[0m        \u001b[1m^\u001b[0m\u001b[0m\n\u001b[0m\n\u001b[0m\u001b[1mDuring: typing of get attribute at /opt/conda/envs/strax/lib/python3.8/site-packages/wfsim/core/s2.py (431)\u001b[0m\n\u001b[1m\nFile \"../../../opt/conda/envs/strax/lib/python3.8/site-packages/wfsim/core/s2.py\", line 431:\u001b[0m\n\u001b[1m    def draw_excitation_times(inv_cdf_list, hist_indices, nph, diff_nearest_gg, d_gas_gap):\n        <source elided>\n        timings = np.zeros(np.sum(nph))\n\u001b[1m        upper_hist_ind = np.clip(hist_indices+1, 0, len(inv_cdf_list)-1)\n\u001b[0m        \u001b[1m^\u001b[0m\u001b[0m\n",
     "output_type": "error",
     "traceback": [
      "\u001b[0;31m---------------------------------------------------------------------------\u001b[0m",
      "\u001b[0;31mTypingError\u001b[0m                               Traceback (most recent call last)",
      "Input \u001b[0;32mIn [17]\u001b[0m, in \u001b[0;36m<cell line: 1>\u001b[0;34m()\u001b[0m\n\u001b[0;32m----> 1\u001b[0m raw_records \u001b[38;5;241m=\u001b[39m \u001b[43mst\u001b[49m\u001b[38;5;241;43m.\u001b[39;49m\u001b[43mget_array\u001b[49m\u001b[43m(\u001b[49m\u001b[43mrun_id\u001b[49m\u001b[43m,\u001b[49m\u001b[38;5;124;43m'\u001b[39;49m\u001b[38;5;124;43mraw_records\u001b[39;49m\u001b[38;5;124;43m'\u001b[39;49m\u001b[43m)\u001b[49m\n",
      "File \u001b[0;32m/opt/conda/envs/strax/lib/python3.8/site-packages/strax/context.py:1440\u001b[0m, in \u001b[0;36mContext.get_array\u001b[0;34m(self, run_id, targets, save, max_workers, **kwargs)\u001b[0m\n\u001b[1;32m   1433\u001b[0m \u001b[38;5;28;01melse\u001b[39;00m:\n\u001b[1;32m   1434\u001b[0m     source \u001b[38;5;241m=\u001b[39m \u001b[38;5;28mself\u001b[39m\u001b[38;5;241m.\u001b[39mget_iter(\n\u001b[1;32m   1435\u001b[0m         run_ids[\u001b[38;5;241m0\u001b[39m],\n\u001b[1;32m   1436\u001b[0m         targets,\n\u001b[1;32m   1437\u001b[0m         save\u001b[38;5;241m=\u001b[39msave,\n\u001b[1;32m   1438\u001b[0m         max_workers\u001b[38;5;241m=\u001b[39mmax_workers,\n\u001b[1;32m   1439\u001b[0m         \u001b[38;5;241m*\u001b[39m\u001b[38;5;241m*\u001b[39mkwargs)\n\u001b[0;32m-> 1440\u001b[0m     results \u001b[38;5;241m=\u001b[39m [x\u001b[38;5;241m.\u001b[39mdata \u001b[38;5;28;01mfor\u001b[39;00m x \u001b[38;5;129;01min\u001b[39;00m source]\n\u001b[1;32m   1442\u001b[0m results \u001b[38;5;241m=\u001b[39m np\u001b[38;5;241m.\u001b[39mconcatenate(results)\n\u001b[1;32m   1443\u001b[0m \u001b[38;5;28;01mreturn\u001b[39;00m results\n",
      "File \u001b[0;32m/opt/conda/envs/strax/lib/python3.8/site-packages/strax/context.py:1440\u001b[0m, in \u001b[0;36m<listcomp>\u001b[0;34m(.0)\u001b[0m\n\u001b[1;32m   1433\u001b[0m \u001b[38;5;28;01melse\u001b[39;00m:\n\u001b[1;32m   1434\u001b[0m     source \u001b[38;5;241m=\u001b[39m \u001b[38;5;28mself\u001b[39m\u001b[38;5;241m.\u001b[39mget_iter(\n\u001b[1;32m   1435\u001b[0m         run_ids[\u001b[38;5;241m0\u001b[39m],\n\u001b[1;32m   1436\u001b[0m         targets,\n\u001b[1;32m   1437\u001b[0m         save\u001b[38;5;241m=\u001b[39msave,\n\u001b[1;32m   1438\u001b[0m         max_workers\u001b[38;5;241m=\u001b[39mmax_workers,\n\u001b[1;32m   1439\u001b[0m         \u001b[38;5;241m*\u001b[39m\u001b[38;5;241m*\u001b[39mkwargs)\n\u001b[0;32m-> 1440\u001b[0m     results \u001b[38;5;241m=\u001b[39m [x\u001b[38;5;241m.\u001b[39mdata \u001b[38;5;28;01mfor\u001b[39;00m x \u001b[38;5;129;01min\u001b[39;00m source]\n\u001b[1;32m   1442\u001b[0m results \u001b[38;5;241m=\u001b[39m np\u001b[38;5;241m.\u001b[39mconcatenate(results)\n\u001b[1;32m   1443\u001b[0m \u001b[38;5;28;01mreturn\u001b[39;00m results\n",
      "File \u001b[0;32m/opt/conda/envs/strax/lib/python3.8/site-packages/strax/context.py:1321\u001b[0m, in \u001b[0;36mContext.get_iter\u001b[0;34m(self, run_id, targets, save, max_workers, time_range, seconds_range, time_within, time_selection, selection_str, keep_columns, drop_columns, allow_multiple, progress_bar, _chunk_number, **kwargs)\u001b[0m\n\u001b[1;32m   1316\u001b[0m     generator\u001b[38;5;241m.\u001b[39mthrow(OutsideException(\n\u001b[1;32m   1317\u001b[0m         \u001b[38;5;124m\"\u001b[39m\u001b[38;5;124mTerminating due to an exception originating from outside \u001b[39m\u001b[38;5;124m\"\u001b[39m\n\u001b[1;32m   1318\u001b[0m         \u001b[38;5;124m\"\u001b[39m\u001b[38;5;124mstrax\u001b[39m\u001b[38;5;124m'\u001b[39m\u001b[38;5;124ms get_iter (which we cannot retrieve).\u001b[39m\u001b[38;5;124m\"\u001b[39m))\n\u001b[1;32m   1320\u001b[0m \u001b[38;5;28;01mexcept\u001b[39;00m \u001b[38;5;167;01mException\u001b[39;00m \u001b[38;5;28;01mas\u001b[39;00m e:\n\u001b[0;32m-> 1321\u001b[0m     \u001b[43mgenerator\u001b[49m\u001b[38;5;241;43m.\u001b[39;49m\u001b[43mthrow\u001b[49m\u001b[43m(\u001b[49m\u001b[43me\u001b[49m\u001b[43m)\u001b[49m\n\u001b[1;32m   1322\u001b[0m     \u001b[38;5;28;01mraise\u001b[39;00m \u001b[38;5;167;01mValueError\u001b[39;00m(\u001b[38;5;124mf\u001b[39m\u001b[38;5;124m'\u001b[39m\u001b[38;5;124mFailed to process chunk \u001b[39m\u001b[38;5;132;01m{\u001b[39;00mn_chunks\u001b[38;5;132;01m}\u001b[39;00m\u001b[38;5;124m!\u001b[39m\u001b[38;5;124m'\u001b[39m)\n\u001b[1;32m   1324\u001b[0m \u001b[38;5;28;01mif\u001b[39;00m \u001b[38;5;129;01mnot\u001b[39;00m seen_a_chunk:\n",
      "File \u001b[0;32m/opt/conda/envs/strax/lib/python3.8/site-packages/strax/context.py:1293\u001b[0m, in \u001b[0;36mContext.get_iter\u001b[0;34m(self, run_id, targets, save, max_workers, time_range, seconds_range, time_within, time_selection, selection_str, keep_columns, drop_columns, allow_multiple, progress_bar, _chunk_number, **kwargs)\u001b[0m\n\u001b[1;32m   1291\u001b[0m pbar\u001b[38;5;241m.\u001b[39mlast_print_t \u001b[38;5;241m=\u001b[39m time\u001b[38;5;241m.\u001b[39mtime()\n\u001b[1;32m   1292\u001b[0m pbar\u001b[38;5;241m.\u001b[39mmbs \u001b[38;5;241m=\u001b[39m []\n\u001b[0;32m-> 1293\u001b[0m \u001b[38;5;28;01mfor\u001b[39;00m n_chunks, result \u001b[38;5;129;01min\u001b[39;00m \u001b[38;5;28menumerate\u001b[39m(strax\u001b[38;5;241m.\u001b[39mcontinuity_check(generator), \u001b[38;5;241m1\u001b[39m):\n\u001b[1;32m   1294\u001b[0m     seen_a_chunk \u001b[38;5;241m=\u001b[39m \u001b[38;5;28;01mTrue\u001b[39;00m\n\u001b[1;32m   1295\u001b[0m     \u001b[38;5;28;01mif\u001b[39;00m \u001b[38;5;129;01mnot\u001b[39;00m \u001b[38;5;28misinstance\u001b[39m(result, strax\u001b[38;5;241m.\u001b[39mChunk):\n",
      "File \u001b[0;32m/opt/conda/envs/strax/lib/python3.8/site-packages/strax/chunk.py:303\u001b[0m, in \u001b[0;36mcontinuity_check\u001b[0;34m(chunk_iter)\u001b[0m\n\u001b[1;32m    300\u001b[0m last_runid \u001b[38;5;241m=\u001b[39m \u001b[38;5;28;01mNone\u001b[39;00m\n\u001b[1;32m    302\u001b[0m last_subrun \u001b[38;5;241m=\u001b[39m {\u001b[38;5;124m'\u001b[39m\u001b[38;5;124mrun_id\u001b[39m\u001b[38;5;124m'\u001b[39m: \u001b[38;5;28;01mNone\u001b[39;00m}\n\u001b[0;32m--> 303\u001b[0m \u001b[38;5;28;01mfor\u001b[39;00m chunk \u001b[38;5;129;01min\u001b[39;00m chunk_iter:\n\u001b[1;32m    304\u001b[0m     \u001b[38;5;28;01mif\u001b[39;00m chunk\u001b[38;5;241m.\u001b[39mrun_id \u001b[38;5;241m!=\u001b[39m last_runid:\n\u001b[1;32m    305\u001b[0m         last_end \u001b[38;5;241m=\u001b[39m \u001b[38;5;28;01mNone\u001b[39;00m\n",
      "File \u001b[0;32m/opt/conda/envs/strax/lib/python3.8/site-packages/strax/processor.py:302\u001b[0m, in \u001b[0;36mThreadedMailboxProcessor.iter\u001b[0;34m(self)\u001b[0m\n\u001b[1;32m    296\u001b[0m \u001b[38;5;28;01mif\u001b[39;00m exc \u001b[38;5;129;01mis\u001b[39;00m \u001b[38;5;129;01mnot\u001b[39;00m \u001b[38;5;28;01mNone\u001b[39;00m:\n\u001b[1;32m    297\u001b[0m     \u001b[38;5;66;03m# Reraise exception. This is outside the except block\u001b[39;00m\n\u001b[1;32m    298\u001b[0m     \u001b[38;5;66;03m# to avoid the 'during handling of this exception, another\u001b[39;00m\n\u001b[1;32m    299\u001b[0m     \u001b[38;5;66;03m# exception occurred' stuff from confusing the traceback\u001b[39;00m\n\u001b[1;32m    300\u001b[0m     \u001b[38;5;66;03m# which is printed for the user\u001b[39;00m\n\u001b[1;32m    301\u001b[0m     \u001b[38;5;28mself\u001b[39m\u001b[38;5;241m.\u001b[39mlog\u001b[38;5;241m.\u001b[39mdebug(\u001b[38;5;124m\"\u001b[39m\u001b[38;5;124mReraising exception\u001b[39m\u001b[38;5;124m\"\u001b[39m)\n\u001b[0;32m--> 302\u001b[0m     \u001b[38;5;28;01mraise\u001b[39;00m exc\u001b[38;5;241m.\u001b[39mwith_traceback(traceback)\n\u001b[1;32m    304\u001b[0m \u001b[38;5;66;03m# Check the savers for any exception that occurred during saving\u001b[39;00m\n\u001b[1;32m    305\u001b[0m \u001b[38;5;66;03m# These are thrown back to the mailbox, but if that has already closed\u001b[39;00m\n\u001b[1;32m    306\u001b[0m \u001b[38;5;66;03m# it doesn't trigger a crash...\u001b[39;00m\n\u001b[1;32m    307\u001b[0m \u001b[38;5;66;03m# TODO: add savers inlined by parallelsourceplugin\u001b[39;00m\n\u001b[1;32m    308\u001b[0m \u001b[38;5;66;03m# TODO: need to look at plugins too if we ever implement true\u001b[39;00m\n\u001b[1;32m    309\u001b[0m \u001b[38;5;66;03m# multi-target mode\u001b[39;00m\n\u001b[1;32m    310\u001b[0m \u001b[38;5;28;01mfor\u001b[39;00m k, saver_list \u001b[38;5;129;01min\u001b[39;00m \u001b[38;5;28mself\u001b[39m\u001b[38;5;241m.\u001b[39mcomponents\u001b[38;5;241m.\u001b[39msavers\u001b[38;5;241m.\u001b[39mitems():\n",
      "File \u001b[0;32m/opt/conda/envs/strax/lib/python3.8/site-packages/strax/mailbox.py:281\u001b[0m, in \u001b[0;36mMailbox._send_from\u001b[0;34m(self, iterable)\u001b[0m\n\u001b[1;32m    276\u001b[0m                 \u001b[38;5;28;01mraise\u001b[39;00m MailboxReadTimeout(\n\u001b[1;32m    277\u001b[0m                     \u001b[38;5;124mf\u001b[39m\u001b[38;5;124m\"\u001b[39m\u001b[38;5;132;01m{\u001b[39;00m\u001b[38;5;28mself\u001b[39m\u001b[38;5;132;01m}\u001b[39;00m\u001b[38;5;124m could not progress beyond \u001b[39m\u001b[38;5;132;01m{\u001b[39;00mi\u001b[38;5;132;01m}\u001b[39;00m\u001b[38;5;124m, \u001b[39m\u001b[38;5;124m\"\u001b[39m\n\u001b[1;32m    278\u001b[0m                     \u001b[38;5;124mf\u001b[39m\u001b[38;5;124m\"\u001b[39m\u001b[38;5;124mno driving subscriber requested it.\u001b[39m\u001b[38;5;124m\"\u001b[39m)\n\u001b[1;32m    280\u001b[0m \u001b[38;5;28;01mtry\u001b[39;00m:\n\u001b[0;32m--> 281\u001b[0m     x \u001b[38;5;241m=\u001b[39m \u001b[38;5;28;43mnext\u001b[39;49m\u001b[43m(\u001b[49m\u001b[43miterable\u001b[49m\u001b[43m)\u001b[49m\n\u001b[1;32m    282\u001b[0m \u001b[38;5;28;01mexcept\u001b[39;00m \u001b[38;5;167;01mStopIteration\u001b[39;00m:\n\u001b[1;32m    283\u001b[0m     \u001b[38;5;66;03m# No need to send this yet, close will do that\u001b[39;00m\n\u001b[1;32m    284\u001b[0m     \u001b[38;5;28;01mbreak\u001b[39;00m\n",
      "File \u001b[0;32m/opt/conda/envs/strax/lib/python3.8/site-packages/strax/plugin.py:488\u001b[0m, in \u001b[0;36mPlugin.iter\u001b[0;34m(self, iters, executor)\u001b[0m\n\u001b[1;32m    486\u001b[0m             \u001b[38;5;28;01myield\u001b[39;00m new_future\n\u001b[1;32m    487\u001b[0m         \u001b[38;5;28;01melse\u001b[39;00m:\n\u001b[0;32m--> 488\u001b[0m             \u001b[38;5;28;01myield\u001b[39;00m \u001b[38;5;28;43mself\u001b[39;49m\u001b[38;5;241;43m.\u001b[39;49m\u001b[43mdo_compute\u001b[49m\u001b[43m(\u001b[49m\u001b[43mchunk_i\u001b[49m\u001b[38;5;241;43m=\u001b[39;49m\u001b[43mchunk_i\u001b[49m\u001b[43m,\u001b[49m\u001b[43m \u001b[49m\u001b[38;5;241;43m*\u001b[39;49m\u001b[38;5;241;43m*\u001b[39;49m\u001b[43minputs_merged\u001b[49m\u001b[43m)\u001b[49m\n\u001b[1;32m    490\u001b[0m \u001b[38;5;28;01mexcept\u001b[39;00m IterDone:\n\u001b[1;32m    491\u001b[0m     \u001b[38;5;66;03m# Check all sources are exhausted.\u001b[39;00m\n\u001b[1;32m    492\u001b[0m     \u001b[38;5;66;03m# This is more than a check though -- it ensure the content of\u001b[39;00m\n\u001b[1;32m    493\u001b[0m     \u001b[38;5;66;03m# all sources are requested all the way (including the final\u001b[39;00m\n\u001b[1;32m    494\u001b[0m     \u001b[38;5;66;03m# Stopiteration), as required by lazy-mode processing requires\u001b[39;00m\n\u001b[1;32m    495\u001b[0m     \u001b[38;5;28;01mfor\u001b[39;00m d \u001b[38;5;129;01min\u001b[39;00m iters\u001b[38;5;241m.\u001b[39mkeys():\n",
      "File \u001b[0;32m/opt/conda/envs/strax/lib/python3.8/site-packages/strax/plugin.py:596\u001b[0m, in \u001b[0;36mPlugin.do_compute\u001b[0;34m(self, chunk_i, **kwargs)\u001b[0m\n\u001b[1;32m    594\u001b[0m     kwargs[\u001b[38;5;124m'\u001b[39m\u001b[38;5;124mstart\u001b[39m\u001b[38;5;124m'\u001b[39m] \u001b[38;5;241m=\u001b[39m start\n\u001b[1;32m    595\u001b[0m     kwargs[\u001b[38;5;124m'\u001b[39m\u001b[38;5;124mend\u001b[39m\u001b[38;5;124m'\u001b[39m] \u001b[38;5;241m=\u001b[39m end\n\u001b[0;32m--> 596\u001b[0m result \u001b[38;5;241m=\u001b[39m \u001b[38;5;28;43mself\u001b[39;49m\u001b[38;5;241;43m.\u001b[39;49m\u001b[43mcompute\u001b[49m\u001b[43m(\u001b[49m\u001b[38;5;241;43m*\u001b[39;49m\u001b[38;5;241;43m*\u001b[39;49m\u001b[43mkwargs\u001b[49m\u001b[43m)\u001b[49m\n\u001b[1;32m    598\u001b[0m \u001b[38;5;28;01mreturn\u001b[39;00m \u001b[38;5;28mself\u001b[39m\u001b[38;5;241m.\u001b[39m_fix_output(result, start, end)\n",
      "File \u001b[0;32m/opt/conda/envs/strax/lib/python3.8/site-packages/wfsim/strax_interface.py:697\u001b[0m, in \u001b[0;36mRawRecordsFromFaxNT.compute\u001b[0;34m(self)\u001b[0m\n\u001b[1;32m    695\u001b[0m \u001b[38;5;28;01mdef\u001b[39;00m \u001b[38;5;21mcompute\u001b[39m(\u001b[38;5;28mself\u001b[39m):\n\u001b[1;32m    696\u001b[0m     \u001b[38;5;28;01mtry\u001b[39;00m:\n\u001b[0;32m--> 697\u001b[0m         result \u001b[38;5;241m=\u001b[39m \u001b[38;5;28;43mnext\u001b[39;49m\u001b[43m(\u001b[49m\u001b[38;5;28;43mself\u001b[39;49m\u001b[38;5;241;43m.\u001b[39;49m\u001b[43msim_iter\u001b[49m\u001b[43m)\u001b[49m\n\u001b[1;32m    698\u001b[0m     \u001b[38;5;28;01mexcept\u001b[39;00m \u001b[38;5;167;01mStopIteration\u001b[39;00m:\n\u001b[1;32m    699\u001b[0m         \u001b[38;5;28;01mraise\u001b[39;00m \u001b[38;5;167;01mRuntimeError\u001b[39;00m(\u001b[38;5;124m\"\u001b[39m\u001b[38;5;124mBug in chunk count computation\u001b[39m\u001b[38;5;124m\"\u001b[39m)\n",
      "File \u001b[0;32m/opt/conda/envs/strax/lib/python3.8/site-packages/wfsim/strax_interface.py:386\u001b[0m, in \u001b[0;36mChunkRawRecords.__call__\u001b[0;34m(self, instructions, time_zero, **kwargs)\u001b[0m\n\u001b[1;32m    384\u001b[0m \u001b[38;5;28mself\u001b[39m\u001b[38;5;241m.\u001b[39mchunk_time \u001b[38;5;241m=\u001b[39m \u001b[38;5;28mself\u001b[39m\u001b[38;5;241m.\u001b[39mchunk_time_pre \u001b[38;5;241m+\u001b[39m cksz  \u001b[38;5;66;03m# Starting chunk\u001b[39;00m\n\u001b[1;32m    385\u001b[0m \u001b[38;5;28mself\u001b[39m\u001b[38;5;241m.\u001b[39mcurrent_digitized_right \u001b[38;5;241m=\u001b[39m \u001b[38;5;28mself\u001b[39m\u001b[38;5;241m.\u001b[39mlast_digitized_right \u001b[38;5;241m=\u001b[39m \u001b[38;5;241m0\u001b[39m\n\u001b[0;32m--> 386\u001b[0m \u001b[38;5;28;01mfor\u001b[39;00m channel, left, right, data \u001b[38;5;129;01min\u001b[39;00m \u001b[38;5;28mself\u001b[39m\u001b[38;5;241m.\u001b[39mrawdata(instructions\u001b[38;5;241m=\u001b[39minstructions,\n\u001b[1;32m    387\u001b[0m                                                truth_buffer\u001b[38;5;241m=\u001b[39m\u001b[38;5;28mself\u001b[39m\u001b[38;5;241m.\u001b[39mtruth_buffer,\n\u001b[1;32m    388\u001b[0m                                                \u001b[38;5;241m*\u001b[39m\u001b[38;5;241m*\u001b[39mkwargs):\n\u001b[1;32m    389\u001b[0m     pulse_length \u001b[38;5;241m=\u001b[39m right \u001b[38;5;241m-\u001b[39m left \u001b[38;5;241m+\u001b[39m \u001b[38;5;241m1\u001b[39m\n\u001b[1;32m    390\u001b[0m     records_needed \u001b[38;5;241m=\u001b[39m \u001b[38;5;28mint\u001b[39m(np\u001b[38;5;241m.\u001b[39mceil(pulse_length \u001b[38;5;241m/\u001b[39m samples_per_record))\n",
      "File \u001b[0;32m/opt/conda/envs/strax/lib/python3.8/site-packages/wfsim/core/rawdata.py:133\u001b[0m, in \u001b[0;36mRawData.__call__\u001b[0;34m(self, instructions, truth_buffer, progress_bar, **kwargs)\u001b[0m\n\u001b[1;32m    131\u001b[0m     g4id \u001b[38;5;241m=\u001b[39m instb[instb_run_i][\u001b[38;5;124m'\u001b[39m\u001b[38;5;124mg4id\u001b[39m\u001b[38;5;124m'\u001b[39m][\u001b[38;5;241m0\u001b[39m]\n\u001b[1;32m    132\u001b[0m     log\u001b[38;5;241m.\u001b[39mdebug(\u001b[38;5;124mf\u001b[39m\u001b[38;5;124m'\u001b[39m\u001b[38;5;124mMaking S\u001b[39m\u001b[38;5;132;01m{\u001b[39;00mptype\u001b[38;5;132;01m}\u001b[39;00m\u001b[38;5;124m pulse set (\u001b[39m\u001b[38;5;132;01m{\u001b[39;00mi_set\u001b[38;5;241m+\u001b[39m\u001b[38;5;241m1\u001b[39m\u001b[38;5;132;01m}\u001b[39;00m\u001b[38;5;124m/\u001b[39m\u001b[38;5;132;01m{\u001b[39;00mn_set\u001b[38;5;132;01m}\u001b[39;00m\u001b[38;5;124m) for g4 event \u001b[39m\u001b[38;5;132;01m{\u001b[39;00mg4id\u001b[38;5;132;01m}\u001b[39;00m\u001b[38;5;124m'\u001b[39m)\n\u001b[0;32m--> 133\u001b[0m \u001b[38;5;28;01mfor\u001b[39;00m instb_secondary \u001b[38;5;129;01min\u001b[39;00m \u001b[38;5;28mself\u001b[39m\u001b[38;5;241m.\u001b[39msim_data(instb[instb_run_i]):\n\u001b[1;32m    134\u001b[0m     n_too_much \u001b[38;5;241m=\u001b[39m \u001b[38;5;241m0\u001b[39m\n\u001b[1;32m    135\u001b[0m     \u001b[38;5;28;01mif\u001b[39;00m \u001b[38;5;28mlen\u001b[39m(np\u001b[38;5;241m.\u001b[39mwhere(\u001b[38;5;241m~\u001b[39minstb_filled)[\u001b[38;5;241m0\u001b[39m]) \u001b[38;5;241m-\u001b[39m \u001b[38;5;241m10\u001b[39m \u001b[38;5;241m<\u001b[39m \u001b[38;5;28mlen\u001b[39m(instb_secondary):\n",
      "File \u001b[0;32m/opt/conda/envs/strax/lib/python3.8/site-packages/wfsim/core/rawdata.py:173\u001b[0m, in \u001b[0;36mRawData.sim_data\u001b[0;34m(self, instruction, **kwargs)\u001b[0m\n\u001b[1;32m    170\u001b[0m \u001b[38;5;66;03m# Simulate the primary pulse\u001b[39;00m\n\u001b[1;32m    171\u001b[0m primary_pulse \u001b[38;5;241m=\u001b[39m \u001b[38;5;28mself\u001b[39m\u001b[38;5;241m.\u001b[39msymtype(instruction[\u001b[38;5;124m'\u001b[39m\u001b[38;5;124mtype\u001b[39m\u001b[38;5;124m'\u001b[39m][\u001b[38;5;241m0\u001b[39m])\n\u001b[0;32m--> 173\u001b[0m \u001b[38;5;28;43mself\u001b[39;49m\u001b[38;5;241;43m.\u001b[39;49m\u001b[43msim_primary\u001b[49m\u001b[43m(\u001b[49m\u001b[43mprimary_pulse\u001b[49m\u001b[43m,\u001b[49m\u001b[43m \u001b[49m\u001b[43minstruction\u001b[49m\u001b[43m,\u001b[49m\u001b[43m \u001b[49m\u001b[38;5;241;43m*\u001b[39;49m\u001b[38;5;241;43m*\u001b[39;49m\u001b[43mkwargs\u001b[49m\u001b[43m)\u001b[49m\n\u001b[1;32m    175\u001b[0m \u001b[38;5;66;03m# Add PMT afterpulses, if requested\u001b[39;00m\n\u001b[1;32m    176\u001b[0m do_pmt_ap \u001b[38;5;241m=\u001b[39m \u001b[38;5;28mself\u001b[39m\u001b[38;5;241m.\u001b[39mconfig\u001b[38;5;241m.\u001b[39mget(\u001b[38;5;124m'\u001b[39m\u001b[38;5;124menable_pmt_afterpulses\u001b[39m\u001b[38;5;124m'\u001b[39m, \u001b[38;5;28;01mTrue\u001b[39;00m)\n",
      "File \u001b[0;32m/opt/conda/envs/strax/lib/python3.8/site-packages/wfsim/core/rawdata.py:164\u001b[0m, in \u001b[0;36mRawData.sim_primary\u001b[0;34m(self, primary_pulse, instruction, **kwargs)\u001b[0m\n\u001b[1;32m    163\u001b[0m \u001b[38;5;28;01mdef\u001b[39;00m \u001b[38;5;21msim_primary\u001b[39m(\u001b[38;5;28mself\u001b[39m, primary_pulse, instruction, \u001b[38;5;241m*\u001b[39m\u001b[38;5;241m*\u001b[39mkwargs):\n\u001b[0;32m--> 164\u001b[0m     \u001b[38;5;28;43mself\u001b[39;49m\u001b[38;5;241;43m.\u001b[39;49m\u001b[43mpulses\u001b[49m\u001b[43m[\u001b[49m\u001b[43mprimary_pulse\u001b[49m\u001b[43m]\u001b[49m\u001b[43m(\u001b[49m\u001b[43minstruction\u001b[49m\u001b[43m)\u001b[49m\n",
      "File \u001b[0;32m/opt/conda/envs/strax/lib/python3.8/site-packages/wfsim/core/s2.py:119\u001b[0m, in \u001b[0;36mS2.__call__\u001b[0;34m(self, instruction)\u001b[0m\n\u001b[1;32m    111\u001b[0m \u001b[38;5;28mself\u001b[39m\u001b[38;5;241m.\u001b[39m_photon_channels \u001b[38;5;241m=\u001b[39m \u001b[38;5;28mself\u001b[39m\u001b[38;5;241m.\u001b[39mphoton_channels(n_electron\u001b[38;5;241m=\u001b[39mn_electron,\n\u001b[1;32m    112\u001b[0m                                              z_obs\u001b[38;5;241m=\u001b[39mz_obs,\n\u001b[1;32m    113\u001b[0m                                              positions\u001b[38;5;241m=\u001b[39mpositions,\n\u001b[1;32m    114\u001b[0m                                              _instruction\u001b[38;5;241m=\u001b[39m\u001b[38;5;28mself\u001b[39m\u001b[38;5;241m.\u001b[39m_instruction,\n\u001b[1;32m    115\u001b[0m                                              config\u001b[38;5;241m=\u001b[39m\u001b[38;5;28mself\u001b[39m\u001b[38;5;241m.\u001b[39mconfig,\n\u001b[1;32m    116\u001b[0m                                              resource\u001b[38;5;241m=\u001b[39m\u001b[38;5;28mself\u001b[39m\u001b[38;5;241m.\u001b[39mresource)\n\u001b[1;32m    118\u001b[0m \u001b[38;5;66;03m# Second generate photon timing\u001b[39;00m\n\u001b[0;32m--> 119\u001b[0m \u001b[38;5;28mself\u001b[39m\u001b[38;5;241m.\u001b[39m_photon_timings \u001b[38;5;241m=\u001b[39m \u001b[38;5;28;43mself\u001b[39;49m\u001b[38;5;241;43m.\u001b[39;49m\u001b[43mphoton_timings\u001b[49m\u001b[43m(\u001b[49m\u001b[43mpositions\u001b[49m\u001b[38;5;241;43m=\u001b[39;49m\u001b[43mpositions\u001b[49m\u001b[43m,\u001b[49m\u001b[43m \u001b[49m\n\u001b[1;32m    120\u001b[0m \u001b[43m                                           \u001b[49m\u001b[43mn_photons_per_xy\u001b[49m\u001b[38;5;241;43m=\u001b[39;49m\u001b[43mn_photons_per_xy\u001b[49m\u001b[43m,\u001b[49m\n\u001b[1;32m    121\u001b[0m \u001b[43m                                           \u001b[49m\u001b[43m_electron_timings\u001b[49m\u001b[38;5;241;43m=\u001b[39;49m\u001b[38;5;28;43mself\u001b[39;49m\u001b[38;5;241;43m.\u001b[39;49m\u001b[43m_electron_timings\u001b[49m\u001b[43m,\u001b[49m\n\u001b[1;32m    122\u001b[0m \u001b[43m                                           \u001b[49m\u001b[43mn_photons_per_ele\u001b[49m\u001b[38;5;241;43m=\u001b[39;49m\u001b[43mn_photons_per_ele\u001b[49m\u001b[43m,\u001b[49m\n\u001b[1;32m    123\u001b[0m \u001b[43m                                           \u001b[49m\u001b[43m_photon_channels\u001b[49m\u001b[38;5;241;43m=\u001b[39;49m\u001b[38;5;28;43mself\u001b[39;49m\u001b[38;5;241;43m.\u001b[39;49m\u001b[43m_photon_channels\u001b[49m\u001b[43m,\u001b[49m\n\u001b[1;32m    124\u001b[0m \u001b[43m                                           \u001b[49m\u001b[43mphase\u001b[49m\u001b[38;5;241;43m=\u001b[39;49m\u001b[38;5;28;43mself\u001b[39;49m\u001b[38;5;241;43m.\u001b[39;49m\u001b[43mphase\u001b[49m\u001b[43m,\u001b[49m\n\u001b[1;32m    125\u001b[0m \u001b[43m                                           \u001b[49m\u001b[43mconfig\u001b[49m\u001b[38;5;241;43m=\u001b[39;49m\u001b[38;5;28;43mself\u001b[39;49m\u001b[38;5;241;43m.\u001b[39;49m\u001b[43mconfig\u001b[49m\u001b[43m,\u001b[49m\n\u001b[1;32m    126\u001b[0m \u001b[43m                                           \u001b[49m\u001b[43mresource\u001b[49m\u001b[38;5;241;43m=\u001b[39;49m\u001b[38;5;28;43mself\u001b[39;49m\u001b[38;5;241;43m.\u001b[39;49m\u001b[43mresource\u001b[49m\u001b[43m,\u001b[49m\u001b[43m)\u001b[49m\n\u001b[1;32m    128\u001b[0m \u001b[38;5;66;03m# Sorting times according to the channel, as non-explicit sorting\u001b[39;00m\n\u001b[1;32m    129\u001b[0m \u001b[38;5;66;03m# is performed later and this breaks timing of individual channels/arrays\u001b[39;00m\n\u001b[1;32m    130\u001b[0m sortind \u001b[38;5;241m=\u001b[39m np\u001b[38;5;241m.\u001b[39margsort(\u001b[38;5;28mself\u001b[39m\u001b[38;5;241m.\u001b[39m_photon_channels)\n",
      "File \u001b[0;32m/opt/conda/envs/strax/lib/python3.8/site-packages/wfsim/core/s2.py:532\u001b[0m, in \u001b[0;36mS2.photon_timings\u001b[0;34m(positions, n_photons_per_xy, _electron_timings, n_photons_per_ele, _photon_channels, phase, config, resource)\u001b[0m\n\u001b[1;32m    526\u001b[0m     _photon_timings \u001b[38;5;241m=\u001b[39m S2\u001b[38;5;241m.\u001b[39mluminescence_timings_garfield(positions, n_photons_per_xy,\n\u001b[1;32m    527\u001b[0m                                                        config\u001b[38;5;241m=\u001b[39mconfig,\n\u001b[1;32m    528\u001b[0m                                                        resource\u001b[38;5;241m=\u001b[39mresource,\n\u001b[1;32m    529\u001b[0m                                                        confine_position\u001b[38;5;241m=\u001b[39mconfine_position)\n\u001b[1;32m    531\u001b[0m \u001b[38;5;28;01melif\u001b[39;00m config[\u001b[38;5;124m'\u001b[39m\u001b[38;5;124ms2_luminescence_model\u001b[39m\u001b[38;5;124m'\u001b[39m]\u001b[38;5;241m==\u001b[39m\u001b[38;5;124m'\u001b[39m\u001b[38;5;124mgarfield_gas_gap\u001b[39m\u001b[38;5;124m'\u001b[39m:\n\u001b[0;32m--> 532\u001b[0m     _photon_timings \u001b[38;5;241m=\u001b[39m \u001b[43mS2\u001b[49m\u001b[38;5;241;43m.\u001b[39;49m\u001b[43mluminescence_timings_garfield_gasgap\u001b[49m\u001b[43m(\u001b[49m\u001b[43mpositions\u001b[49m\u001b[43m,\u001b[49m\u001b[43m \u001b[49m\u001b[43mn_photons_per_xy\u001b[49m\u001b[43m,\u001b[49m\n\u001b[1;32m    533\u001b[0m \u001b[43m                                                              \u001b[49m\u001b[43mresource\u001b[49m\u001b[38;5;241;43m=\u001b[39;49m\u001b[43mresource\u001b[49m\u001b[43m)\u001b[49m\n\u001b[1;32m    534\u001b[0m \u001b[38;5;28;01melse\u001b[39;00m:\n\u001b[1;32m    535\u001b[0m     \u001b[38;5;28;01mraise\u001b[39;00m \u001b[38;5;167;01mKeyError\u001b[39;00m(\u001b[38;5;124mf\u001b[39m\u001b[38;5;124m\"\u001b[39m\u001b[38;5;132;01m{\u001b[39;00mconfig[\u001b[38;5;124m'\u001b[39m\u001b[38;5;124ms2_luminescence_model\u001b[39m\u001b[38;5;124m'\u001b[39m]\u001b[38;5;132;01m}\u001b[39;00m\u001b[38;5;124m is not valid! Use \u001b[39m\u001b[38;5;124m'\u001b[39m\u001b[38;5;124msimple\u001b[39m\u001b[38;5;124m'\u001b[39m\u001b[38;5;124m or \u001b[39m\u001b[38;5;124m'\u001b[39m\u001b[38;5;124mgarfield\u001b[39m\u001b[38;5;124m'\u001b[39m\u001b[38;5;124m or \u001b[39m\u001b[38;5;124m'\u001b[39m\u001b[38;5;124mgarfield_gas_gap\u001b[39m\u001b[38;5;124m'\u001b[39m\u001b[38;5;124m\"\u001b[39m)\n",
      "File \u001b[0;32m/opt/conda/envs/strax/lib/python3.8/site-packages/wfsim/core/s2.py:478\u001b[0m, in \u001b[0;36mS2.luminescence_timings_garfield_gasgap\u001b[0;34m(xy, n_photons, resource)\u001b[0m\n\u001b[1;32m    475\u001b[0m draw_index \u001b[38;5;241m=\u001b[39m np\u001b[38;5;241m.\u001b[39mdigitize(cont_gas_gaps, resource\u001b[38;5;241m.\u001b[39ms2_luminescence_gg[\u001b[38;5;124m'\u001b[39m\u001b[38;5;124mgas_gap\u001b[39m\u001b[38;5;124m'\u001b[39m])\u001b[38;5;241m-\u001b[39m\u001b[38;5;241m1\u001b[39m\n\u001b[1;32m    476\u001b[0m diff_nearest_gg \u001b[38;5;241m=\u001b[39m cont_gas_gaps \u001b[38;5;241m-\u001b[39m resource\u001b[38;5;241m.\u001b[39ms2_luminescence_gg[\u001b[38;5;124m'\u001b[39m\u001b[38;5;124mgas_gap\u001b[39m\u001b[38;5;124m'\u001b[39m][draw_index]\n\u001b[0;32m--> 478\u001b[0m \u001b[38;5;28;01mreturn\u001b[39;00m \u001b[43mS2\u001b[49m\u001b[38;5;241;43m.\u001b[39;49m\u001b[43mdraw_excitation_times\u001b[49m\u001b[43m(\u001b[49m\u001b[43mresource\u001b[49m\u001b[38;5;241;43m.\u001b[39;49m\u001b[43ms2_luminescence_gg\u001b[49m\u001b[43m[\u001b[49m\u001b[38;5;124;43m'\u001b[39;49m\u001b[38;5;124;43mtiming_inv_cdf\u001b[39;49m\u001b[38;5;124;43m'\u001b[39;49m\u001b[43m]\u001b[49m\u001b[43m,\u001b[49m\n\u001b[1;32m    479\u001b[0m \u001b[43m                                \u001b[49m\u001b[43mdraw_index\u001b[49m\u001b[43m,\u001b[49m\n\u001b[1;32m    480\u001b[0m \u001b[43m                                \u001b[49m\u001b[43mn_photons\u001b[49m\u001b[43m,\u001b[49m\n\u001b[1;32m    481\u001b[0m \u001b[43m                                \u001b[49m\u001b[43mdiff_nearest_gg\u001b[49m\u001b[43m,\u001b[49m\n\u001b[1;32m    482\u001b[0m \u001b[43m                                \u001b[49m\u001b[43md_gasgap\u001b[49m\u001b[43m)\u001b[49m\n",
      "File \u001b[0;32m~/.local/lib/python3.8/site-packages/numba/core/dispatcher.py:415\u001b[0m, in \u001b[0;36m_DispatcherBase._compile_for_args\u001b[0;34m(self, *args, **kws)\u001b[0m\n\u001b[1;32m    409\u001b[0m         msg \u001b[38;5;241m=\u001b[39m \u001b[38;5;28mstr\u001b[39m(e)\u001b[38;5;241m.\u001b[39mrstrip() \u001b[38;5;241m+\u001b[39m (\n\u001b[1;32m    410\u001b[0m             \u001b[38;5;124m\"\u001b[39m\u001b[38;5;130;01m\\n\u001b[39;00m\u001b[38;5;130;01m\\n\u001b[39;00m\u001b[38;5;124mThis error may have been caused by the following argument(s):\u001b[39m\u001b[38;5;130;01m\\n\u001b[39;00m\u001b[38;5;132;01m%s\u001b[39;00m\u001b[38;5;130;01m\\n\u001b[39;00m\u001b[38;5;124m\"\u001b[39m\n\u001b[1;32m    411\u001b[0m             \u001b[38;5;241m%\u001b[39m \u001b[38;5;124m\"\u001b[39m\u001b[38;5;130;01m\\n\u001b[39;00m\u001b[38;5;124m\"\u001b[39m\u001b[38;5;241m.\u001b[39mjoin(\u001b[38;5;124m\"\u001b[39m\u001b[38;5;124m- argument \u001b[39m\u001b[38;5;132;01m%d\u001b[39;00m\u001b[38;5;124m: \u001b[39m\u001b[38;5;132;01m%s\u001b[39;00m\u001b[38;5;124m\"\u001b[39m \u001b[38;5;241m%\u001b[39m (i, err)\n\u001b[1;32m    412\u001b[0m                         \u001b[38;5;28;01mfor\u001b[39;00m i, err \u001b[38;5;129;01min\u001b[39;00m failed_args))\n\u001b[1;32m    413\u001b[0m         e\u001b[38;5;241m.\u001b[39mpatch_message(msg)\n\u001b[0;32m--> 415\u001b[0m     \u001b[43merror_rewrite\u001b[49m\u001b[43m(\u001b[49m\u001b[43me\u001b[49m\u001b[43m,\u001b[49m\u001b[43m \u001b[49m\u001b[38;5;124;43m'\u001b[39;49m\u001b[38;5;124;43mtyping\u001b[39;49m\u001b[38;5;124;43m'\u001b[39;49m\u001b[43m)\u001b[49m\n\u001b[1;32m    416\u001b[0m \u001b[38;5;28;01mexcept\u001b[39;00m errors\u001b[38;5;241m.\u001b[39mUnsupportedError \u001b[38;5;28;01mas\u001b[39;00m e:\n\u001b[1;32m    417\u001b[0m     \u001b[38;5;66;03m# Something unsupported is present in the user code, add help info\u001b[39;00m\n\u001b[1;32m    418\u001b[0m     error_rewrite(e, \u001b[38;5;124m'\u001b[39m\u001b[38;5;124munsupported_error\u001b[39m\u001b[38;5;124m'\u001b[39m)\n",
      "File \u001b[0;32m~/.local/lib/python3.8/site-packages/numba/core/dispatcher.py:358\u001b[0m, in \u001b[0;36m_DispatcherBase._compile_for_args.<locals>.error_rewrite\u001b[0;34m(e, issue_type)\u001b[0m\n\u001b[1;32m    356\u001b[0m     \u001b[38;5;28;01mraise\u001b[39;00m e\n\u001b[1;32m    357\u001b[0m \u001b[38;5;28;01melse\u001b[39;00m:\n\u001b[0;32m--> 358\u001b[0m     \u001b[43mreraise\u001b[49m\u001b[43m(\u001b[49m\u001b[38;5;28;43mtype\u001b[39;49m\u001b[43m(\u001b[49m\u001b[43me\u001b[49m\u001b[43m)\u001b[49m\u001b[43m,\u001b[49m\u001b[43m \u001b[49m\u001b[43me\u001b[49m\u001b[43m,\u001b[49m\u001b[43m \u001b[49m\u001b[38;5;28;43;01mNone\u001b[39;49;00m\u001b[43m)\u001b[49m\n",
      "File \u001b[0;32m~/.local/lib/python3.8/site-packages/numba/core/utils.py:80\u001b[0m, in \u001b[0;36mreraise\u001b[0;34m(tp, value, tb)\u001b[0m\n\u001b[1;32m     78\u001b[0m     value \u001b[38;5;241m=\u001b[39m tp()\n\u001b[1;32m     79\u001b[0m \u001b[38;5;28;01mif\u001b[39;00m value\u001b[38;5;241m.\u001b[39m__traceback__ \u001b[38;5;129;01mis\u001b[39;00m \u001b[38;5;129;01mnot\u001b[39;00m tb:\n\u001b[0;32m---> 80\u001b[0m     \u001b[38;5;28;01mraise\u001b[39;00m value\u001b[38;5;241m.\u001b[39mwith_traceback(tb)\n\u001b[1;32m     81\u001b[0m \u001b[38;5;28;01mraise\u001b[39;00m value\n",
      "\u001b[0;31mTypingError\u001b[0m: Failed in nopython mode pipeline (step: nopython frontend)\n\u001b[1m\u001b[1mUse of unsupported NumPy function 'numpy.clip' or unsupported use of the function.\n\u001b[1m\nFile \"../../../opt/conda/envs/strax/lib/python3.8/site-packages/wfsim/core/s2.py\", line 431:\u001b[0m\n\u001b[1m    def draw_excitation_times(inv_cdf_list, hist_indices, nph, diff_nearest_gg, d_gas_gap):\n        <source elided>\n        timings = np.zeros(np.sum(nph))\n\u001b[1m        upper_hist_ind = np.clip(hist_indices+1, 0, len(inv_cdf_list)-1)\n\u001b[0m        \u001b[1m^\u001b[0m\u001b[0m\n\u001b[0m\n\u001b[0m\u001b[1mDuring: typing of get attribute at /opt/conda/envs/strax/lib/python3.8/site-packages/wfsim/core/s2.py (431)\u001b[0m\n\u001b[1m\nFile \"../../../opt/conda/envs/strax/lib/python3.8/site-packages/wfsim/core/s2.py\", line 431:\u001b[0m\n\u001b[1m    def draw_excitation_times(inv_cdf_list, hist_indices, nph, diff_nearest_gg, d_gas_gap):\n        <source elided>\n        timings = np.zeros(np.sum(nph))\n\u001b[1m        upper_hist_ind = np.clip(hist_indices+1, 0, len(inv_cdf_list)-1)\n\u001b[0m        \u001b[1m^\u001b[0m\u001b[0m\n"
     ]
    }
   ],
   "source": [
    "raw_records = st.get_array(run_id,'raw_records')"
   ]
  },
  {
   "cell_type": "code",
   "execution_count": 37,
   "id": "516be390-5da2-4e8a-a45c-6fac2547ea34",
   "metadata": {},
   "outputs": [
    {
     "name": "stderr",
     "output_type": "stream",
     "text": [
      "WARNING:wfsim.interface:Replacing drift_time_gate with CMT option ('cmt_run_id', '00001', 'electron_drift_time_gate', 'ONLINE', True) to 1700.0\n",
      "WARNING:wfsim.interface:Replacing drift_velocity_liquid with CMT option ('cmt_run_id', '00001', 'electron_drift_velocity', 'ONLINE', True) to 0.00013325\n",
      "WARNING:wfsim.interface:Replacing electron_lifetime_liquid with CMT option ('cmt_run_id', '00001', 'elife', 'ONLINE', True) to 200000.0\n",
      "*** Detector definition message ***\n",
      "You are currently using the default XENON10 template detector.\n",
      "\n",
      "WARNING:strax:Could not estimate run start and end time from run metadata: assuming it is 0 and inf\n"
     ]
    },
    {
     "name": "stdout",
     "output_type": "stream",
     "text": [
      "Removing data in ./strax_data/2-raw_records-vodesrekje to overwrite\n",
      "Removing data in ./strax_data/2-truth-vodesrekje to overwrite\n",
      "Removing data in ./strax_data/2-raw_records_he-vodesrekje to overwrite\n",
      "Removing data in ./strax_data/2-raw_records_aqmon-vodesrekje to overwrite\n",
      "{'detector': 'XENONnT', 'fax_config': 'fax_config_nt_sr0_v2.json', 'n_tpc_pmts': 494, 'n_top_pmts': 253, 'channel_map': {'tpc': (0, 493), 'he': (500, 752), 'aqmon': (790, 807), 'aqmon_nv': (808, 815), 'tpc_blank': (999, 999), 'mv': (1000, 1083), 'aux_mv': (1084, 1087), 'mv_blank': (1999, 1999), 'nveto': (2000, 2119), 'nveto_blank': (2999, 2999), 'sum_signal': 800}, 'gain_model_mc': ('cmt_run_id', '00001', 'to_pe_model', 'ONLINE', True), 'fax_config_override_from_cmt': {'drift_time_gate': ('cmt_run_id', '00001', 'electron_drift_time_gate', 'ONLINE', True), 'drift_velocity_liquid': ('cmt_run_id', '00001', 'electron_drift_velocity', 'ONLINE', True), 'electron_lifetime_liquid': ('cmt_run_id', '00001', 'elife', 'ONLINE', True)}, 'fax_file': None, 'n_chunk': 10, 'event_rate': 10, 'chunk_size': 10, 'per_pmt_truth': False, 'fax_config_override': None, 'right_raw_extension': 100000, 'seed': False, 's1_model_type': 'optical_propagation + nest', 's2_time_model': 'optical_propagation', 's2_luminescence_model': 'garfield_gas_gap', 's2_garfield_confine_position': 0.01, 'se_gain_from_map': True, 'ext_eff_from_map': True, 'enable_gas_gap_warping': True, 'enable_pmt_afterpulses': True, 'enable_electron_afterpulses': False, 'enable_noise': True, 'field_distortion_on': False, 'field_distortion_model': 'comsol', 'enable_field_dependencies': {'survival_probability_map': True, 'drift_speed_map': True, 'norm_drift_velocity': True, 'diffusion_longitudinal_map': True, 'diffusion_transverse_map': False}, 'default_reconstruction_algorithm': 'mlp', 'url_base': 'https://raw.githubusercontent.com/XENONnT/private_nt_aux_files/master/sim_files', 'photon_area_distribution': 'XENONnT_SR0_spe_distributions_20210713_no_noise_scaled.csv', 's1_pattern_map': 'XENONnT_s1_xyz_patterns_LCE_MCvf051911_wires.pkl', 's2_pattern_map': 'XENONnT_s2_xy_patterns_GXe_LCE_corrected_qes_MCv4.3.0_wires.pkl', 's1_lce_correction_map': False, 's2_correction_map': 'XENONnT_s2_xy_map_v4_210503_mlp_3_in_1_iterated.json', 'se_gain_map': 'XENONnT_se_xy_map_v1_mlp.json', 's1_time_spline': 'XENONnT_s1_proponly_va43fa9b_wires_20200625.json.gz', 's2_time_spline': 'XENONnT_s2_opticalprop_time_v0.json.gz', 's2_luminescence_gg': 'garfield_timing_map_gas_gap_sr0.npy', 's2_luminescence': 'XENONnT_GARFIELD_SR0_B2d75n_C2d75n_G0d3p_A4d9p_T0d9n_PMTs1d3n_FSR0d65p.npz', 'gas_gap_map': 'gas_gap_warping_map_January_2021.pkl', 'garfield_gas_gap_map': 'garfield_gas_gap_map_sr0.json', 'field_dependencies_map': 'field_dependent_radius_depth_maps_B2d75n_C2d75n_G0d3p_A4d9p_T0d9n_PMTs1d3n_FSR0d65p_QPTFE_0d5n_0d4p.json.gz', 'field_distortion_comsol_map': 'init_to_final_position_mapping_B2d75n_C2d75n_G0d3p_A4d9p_T0d9n_PMTs1d3n_FSR0d65p_QPTFE_0d5n_0d4p.json.gz', 'diffusion_longitudinal_map': 'data_driven_diffusion_map_XENONnTSR0V2.json.gz', 'photon_ap_cdfs': 'XENONnT_pmt_afterpulse_config_018435.json.gz', 'noise_file': 'XENONnT_noise_tpc_only_2ms_25118.npz', 'temperature': 177.45, 'pressure': 1.210852812592475e+18, 'lxe_dielectric_constant': 1.874, 'tpc_length': 148.6515, 'tpc_radius': 66.4, 'anode_wire_radius': 0.0108, 'anode_field_domination_distance': 0.089, 'elr_gas_gap_length': 0.2788, 'gate_to_anode_distance': 0.7888, 'drift_field': 22.92, 'anode_voltage': 4600.0, 'diffusion_constant_longitudinal': 4.45e-08, 'diffusion_constant_transverse': 4.841e-08, 'drift_time_gate': 1700.0, 'drift_velocity_liquid': 0.00013325, 'singlet_fraction_gas': 0.35, 'singlet_lifetime_gas': 5.88, 'singlet_lifetime_liquid': 3.1, 'triplet_lifetime_gas': 100.1, 'triplet_lifetime_liquid': 24.0, 's1_ER_alpha_singlet_fraction': 0.7368421052631579, 's1_ER_primary_singlet_fraction': 0.1452991452991453, 's1_ER_recombination_fraction': 0.9, 's1_ER_recombination_time': 4.276062489602044, 's1_ER_secondary_singlet_fraction': 0.4444444444444444, 's1_NR_singlet_fraction': 0.8863636363636364, 'maximum_recombination_time': 1000, 'override_s1_photon_time_field': 110.0, 's1_decay_spread': 13, 's1_decay_time': 58.02, 's1_detection_efficiency': 1.0, 's2_mean_area_fraction_top': 0.7435, 's2_aft_sigma': 0.0, 's2_aft_skewness': 0.0, 's2_secondary_sc_gain': 31.15, 's2_time_spread': 78.3, 'electron_extraction_yield': 0.55, 'electron_lifetime_liquid': 200000.0, 'electron_trapping_time': 185.0, 'gas_drift_velocity_slope': 5400000000000.0, 'g2_mean': 16.7, 'p_double_pe_emision': 0.219, 'pe_pulse_ts': [-13, -12, -11, -10, -9, -8, -7, -6, -5, -4, -3, -2, -1, 0, 1, 2, 3, 4, 5, 6, 7, 8, 9, 10, 11, 12, 13, 14, 15, 16, 17, 18, 19, 20, 21, 22, 23, 24, 25, 26, 27, 28, 29, 30, 31, 32, 33, 34, 35, 36, 37, 38, 39, 40, 41, 42, 43, 44, 45, 46, 47, 48, 49, 50, 51, 52, 53, 54, 55, 56, 57, 58, 59, 60, 61, 62, 63, 64, 65, 66, 67, 68, 69, 70, 71, 72, 73, 74, 75, 76, 77, 78, 79, 80, 81, 82, 83, 84, 85, 86, 87, 88, 89, 90, 91, 92, 93, 94, 95, 96, 97, 98, 99, 100, 101, 102, 103, 104, 105, 106, 107, 108, 109, 110, 111, 112, 113, 114, 115, 116, 117, 118, 119, 120, 121, 122, 123, 124, 125, 126, 127, 128, 129, 130, 131, 132, 133, 134, 135, 136, 137, 138, 139, 140, 141, 142, 143, 144, 145, 146, 147, 148, 149, 150, 151, 152, 153, 154, 155, 156, 157, 158, 159, 160, 161, 162, 163, 164, 165, 166, 167, 168, 169, 170, 171, 172, 173, 174, 175, 176, 177, 178, 179, 180, 181, 182, 183, 184, 185, 186, 187, 188, 189, 190, 191, 192, 193, 194, 195], 'pe_pulse_ys': [5.877972164179458e-09, 8.655525785456122e-08, 9.494125588317938e-07, 7.896805563760717e-06, 5.0878565098147255e-05, 0.00025904060183682944, 0.0010546866894903517, 0.0034372690428190844, 0.008918175306240714, 0.018366585294685045, 0.03024293464574896, 0.04070285285992151, 0.04650274440945783, 0.04738821191801888, 0.045269280688785586, 0.0420583181746971, 0.03873509136879648, 0.035604682980707264, 0.03271708669859928, 0.03006262425253816, 0.027623450572224897, 0.025382178597567896, 0.023322755583582648, 0.021430427093330644, 0.019691635654062734, 0.018093923795527204, 0.016625844803847056, 0.01527688071229399, 0.014037366945928706, 0.012898423080313378, 0.0117226134274469, 0.010654620425448081, 0.007486532911462879, 0.007122986413393814, 0.006759439915324416, 0.0063958934172549066, 0.006032346919185841, 0.005668800421116332, 0.005305253923046934, 0.004954040729682673, 0.004615160841022549, 0.004498280437047894, 0.004381400033073238, 0.004264519629098583, 0.004147639225123928, 0.004030758821149161, 0.003913878417174506, 0.0037969980131998507, 0.0036801176092253066, 0.0035661831429826276, 0.0034551946144725913, 0.0033972329651430124, 0.003339271315813323, 0.003281309666483744, 0.0032233480171541657, 0.003165386367824587, 0.0031074247184950084, 0.0030494630691652075, 0.002991501419835629, 0.0029345925847569037, 0.002878736563928587, 0.002841831199613188, 0.002804925835297788, 0.0027680204709823884, 0.0027311151066669887, 0.0026942097423514784, 0.0026573043780361897, 0.002620399013720679, 0.002583493649405279, 0.0025470331080403733, 0.0025110173896258497, 0.002483008484319546, 0.0024549995790133527, 0.0024269906737071595, 0.002398981768400855, 0.002370972863094662, 0.0023429639577884688, 0.0023149550524821645, 0.0022869461471758602, 0.0022592201366423946, 0.002231777020881435, 0.0022094260110277998, 0.0021870750011742757, 0.0021647239913207515, 0.002142372981467338, 0.002120021971613703, 0.0020976709617601787, 0.0020753199519066546, 0.002052968942053241, 0.0020307543953674546, 0.00200867631184985, 0.001989054565354189, 0.001969432818858306, 0.0019498110723626448, 0.0019301893258668727, 0.0019105675793713226, 0.0018909458328754394, 0.0018713240863797783, 0.0018517023398840063, 0.0018323263223003487, 0.0018131960336284728, 0.0017984888653722166, 0.0017837816971160714, 0.0017690745288597041, 0.001754367360603559, 0.0017396601923473027, 0.0017249530240910464, 0.0017102458558346792, 0.001695538687578423, 0.0016813056397601814, 0.0016675467123799547, 0.0016623219528827716, 0.0016570971933854775, 0.0016518724338885165, 0.0016466476743912226, 0.0016414229148939284, 0.0016361981553968564, 0.0016309733958997843, 0.0016257486364023791, 0.0016202321178094528, 0.00161442384012045, 0.0016033638987052918, 0.001592303957290245, 0.0015812440158751977, 0.0015701840744600396, 0.0015591241330449924, 0.0015480641916298342, 0.001537004250214787, 0.0015259443087995179, 0.0015148109383005546, 0.0015036041387176751, 0.001491075615624526, 0.0014785470925315991, 0.001466018569438339, 0.001453490046345301, 0.001440961523252152, 0.0014284330001590028, 0.0014159044770659648, 0.0014033759539728158, 0.0013911025358676267, 0.0013790842227502866, 0.0013716577994147816, 0.0013642313760793877, 0.0013568049527439938, 0.001349378529408378, 0.0013419521060730952, 0.0013345256827375902, 0.0013270992594020853, 0.0013196728360666916, 0.0013122629141418373, 0.001304869493627745, 0.0012977730985050332, 0.0012906767033823215, 0.001283580308259388, 0.0012764839131367872, 0.0012693875180140755, 0.0012622911228913638, 0.001255194727768541, 0.0012480983326459403, 0.0012409999123474602, 0.0012338994668731004, 0.0012267625682346867, 0.001219625669596495, 0.0012124887709579703, 0.0012053518723195566, 0.0011982149736811428, 0.0011910780750428401, 0.0011839411764043154, 0.0011768042777659017, 0.0011693420067777262, 0.0011615543634395673, 0.0011479100178038103, 0.0011342656721679426, 0.0011206213265321859, 0.00110697698089654, 0.0010933326352606722, 0.0010796882896250263, 0.0010660439439892696, 0.0010523995983534019, 0.0010394190161775144, 0.0010271021974616074, 0.0010267331210240156, 0.001026364044586091, 0.0010259949681484994, 0.0010256258917104636, 0.001025256815272983, 0.0010248877388350584, 0.0010245186623973556, 0.001024149585959653, 0.0010225269485754907, 0.0010196507502449798, 0.0009942104548798607, 0.0009687701595146309, 0.0009433298641495118, 0.0009178895687842819, 0.000892449273419274, 0.000867008978054155, 0.000841568682688814, 0.0008161283873238061, 0.0007904692274874684, 0.0007645912031799121, 0.0007347736183906416, 0.0007049560336012601, 0.0006751384488119896, 0.0006453208640227192, 0.0006155032792334486, 0.0005856856944440671, 0.0005558681096547966, 0.0005260505248655261], 'pmt_ap_modifier': 1, 'pmt_ap_t_modifier': 0, 'pmt_pulse_time_rounding': 1.0, 'pmt_transit_time_mean': 46.0, 'pmt_transit_time_spread': 9.0, 'photoelectric_modifier': 0, 'photoelectric_p': 0.0, 'photoelectric_t_center': 0, 'photoelectric_t_spread': 0, 'photoionization_modifier': 1, 'sample_duration': 10, 'samples_after_pulse_center': 20, 'samples_before_pulse_center': 2, 'samples_to_store_after': 50, 'samples_to_store_before': 50, 'pmt_circuit_load_resistor': 8.010882825e-09, 'external_amplification': 10, 'high_energy_deamplification_factor': 0.05, 'trigger_window': 50, 'digitizer_bits': 14, 'digitizer_reference_baseline': 16000, 'digitizer_voltage_range': 2.25, 'special_thresholds': {'405': 1000, '434': 20, '448': 20, '471': 20, '593': 25, '688': 20, '798': 200, '800': 60, '801': 30, '802': 30, '803': 30, '804': 30, '805': 30, '806': 30, '807': 30, '999': 16383}, 'zle_threshold': 15, 'gains': array([311348.75 , 212988.27 , 157026.16 , 144278.03 , 288708.4  ,\n",
      "        75398.51 , 346858.25 , 293480.34 , 237415.1  , 269976.22 ,\n",
      "       312967.97 , 307182.1  , 113224.71 , 362688.03 , 328621.22 ,\n",
      "        64863.234, 274903.4  , 254993.7  , 192540.7  , 161344.1  ,\n",
      "       309460.84 , 136059.95 , 255363.67 , 307244.4  , 209602.9  ,\n",
      "       335013.94 , 288160.1  , 392887.25 ,  65840.625, 133823.   ,\n",
      "       259130.69 , 273459.78 , 213419.05 ,  99057.82 , 205018.38 ,\n",
      "       221283.05 , 356859.47 , 352068.5  , 324924.84 , 322875.56 ,\n",
      "       153895.27 , 242468.11 , 188262.44 , 161716.67 , 177020.05 ,\n",
      "       196572.83 , 167109.86 , 275811.12 , 189300.92 , 208045.92 ,\n",
      "       327209.   , 258435.4  , 265960.94 , 373989.62 , 244879.39 ,\n",
      "       141877.94 , 246714.22 , 208215.47 , 231779.9  , 317300.8  ,\n",
      "       157656.81 ,  95384.23 , 261415.67 , 180500.03 , 295908.34 ,\n",
      "       173285.45 , 222484.98 , 338492.5  , 303129.44 , 179216.64 ,\n",
      "       350747.38 , 305400.66 , 237939.44 , 278277.12 , 189018.89 ,\n",
      "       218088.77 , 113321.93 , 112717.1  , 183298.73 , 208311.19 ,\n",
      "       170880.4  , 234670.69 , 350583.34 , 161498.3  , 368616.   ,\n",
      "       262942.47 , 252748.86 , 236852.17 , 216795.16 , 337504.56 ,\n",
      "       254617.86 , 211422.77 , 272602.28 , 252348.94 , 221287.11 ,\n",
      "       252220.86 , 201912.14 , 149473.44 , 220527.69 , 271489.25 ,\n",
      "       245183.97 , 314365.1  , 185866.22 , 310078.62 , 230239.97 ,\n",
      "       352874.8  , 186604.66 , 279114.38 , 312379.8  , 230930.06 ,\n",
      "       195862.66 , 338558.62 , 159118.84 , 172371.   , 272843.34 ,\n",
      "       347315.7  , 251775.12 , 243771.55 , 242870.69 , 124953.625,\n",
      "       288618.   , 194922.53 , 112736.7  , 167268.22 , 225871.84 ,\n",
      "       106067.945, 328115.56 , 116657.09 , 242632.55 , 266685.2  ,\n",
      "       218589.42 , 233905.88 , 175968.5  , 269951.03 , 321938.62 ,\n",
      "       177108.64 , 133828.84 , 238404.22 , 180854.16 , 186053.5  ,\n",
      "       354529.97 , 302045.06 , 268848.78 , 256764.39 , 255046.05 ,\n",
      "       143924.23 , 208100.34 , 218367.4  , 217472.36 , 101578.86 ,\n",
      "       215020.77 , 215340.53 , 106429.78 , 281814.88 , 212245.39 ,\n",
      "       206426.14 , 189082.05 , 154567.64 , 238347.94 , 262992.44 ,\n",
      "       272125.88 , 199987.95 , 311900.2  ,  97861.25 , 287420.72 ,\n",
      "       227558.14 , 215819.27 , 251176.   , 306438.5  , 336268.56 ,\n",
      "        75311.85 ,  84127.6  , 206556.1  , 289369.66 , 189366.11 ,\n",
      "       249722.   , 260659.89 , 202262.39 ,  66900.94 , 227214.67 ,\n",
      "        85051.38 , 202379.92 , 202352.53 , 176525.86 , 254429.73 ,\n",
      "            0.   , 145168.62 , 323178.06 , 310761.12 , 236405.02 ,\n",
      "        83128.61 , 121714.805, 231681.72 , 264152.56 , 178044.86 ,\n",
      "       335135.25 , 252461.1  , 298959.97 , 117643.52 , 286750.3  ,\n",
      "       220747.27 , 214683.89 , 172697.66 , 193291.61 , 120287.875,\n",
      "       238163.33 , 283574.   , 152284.3  , 250526.4  , 191320.61 ,\n",
      "       249421.39 , 189703.64 , 353694.78 , 216896.12 , 237762.44 ,\n",
      "       214346.23 , 139659.33 , 222694.22 , 174278.66 , 256254.12 ,\n",
      "       202272.36 , 159712.05 , 286501.78 , 236010.16 , 213842.62 ,\n",
      "       290190.3  , 226762.69 , 316251.2  , 327293.62 , 283000.4  ,\n",
      "       183127.19 , 168616.97 , 318473.12 , 202343.4  , 171805.55 ,\n",
      "       243752.1  , 313265.22 , 309745.78 , 243354.84 , 105050.87 ,\n",
      "       246603.95 , 321408.44 , 290675.25 , 271908.25 , 221639.77 ,\n",
      "       325166.88 , 204832.39 , 125061.93 , 280573.1  , 210639.39 ,\n",
      "       268415.34 , 253045.   , 288091.66 , 127607.4  , 277972.5  ,\n",
      "       296609.   , 161216.   , 351398.44 , 316848.3  , 269084.3  ,\n",
      "       238687.5  , 346024.38 , 183979.06 , 240682.78 , 306137.1  ,\n",
      "       231590.45 ,  98834.586, 265184.03 , 169946.11 , 237684.08 ,\n",
      "       125504.34 , 380752.4  , 228072.27 , 160841.   , 231413.31 ,\n",
      "       197974.56 , 185311.16 , 208206.81 , 255399.98 , 279528.25 ,\n",
      "       263002.44 , 227009.58 , 179139.61 , 261030.92 , 445540.   ,\n",
      "        98551.39 , 218319.84 , 164936.5  , 278867.06 , 262460.06 ,\n",
      "       227490.3  , 219086.34 , 234692.69 , 250496.7  , 216403.31 ,\n",
      "       340998.28 , 114732.67 , 144163.38 , 101917.766, 362918.56 ,\n",
      "       258346.62 , 224577.6  ,  82737.08 , 190982.36 , 333065.1  ,\n",
      "       187294.45 ,  74572.8  , 231233.28 ,  77059.26 , 236209.73 ,\n",
      "       119518.914, 205051.27 , 348332.97 , 252384.7  ,  71260.33 ,\n",
      "       214602.44 , 279592.25 , 280938.12 , 226615.   , 207532.64 ,\n",
      "       130986.98 , 151902.72 , 197772.3  , 116454.47 , 280915.06 ,\n",
      "        67668.875, 381579.2  ,  69821.86 , 177265.8  , 117288.42 ,\n",
      "       174839.73 , 363817.6  , 251336.45 , 307117.72 , 110762.95 ,\n",
      "       235381.06 ,  79598.63 , 214858.75 ,  75906.67 , 182718.14 ,\n",
      "       199445.02 , 200981.66 , 291200.3  , 257779.61 , 411699.9  ,\n",
      "       299624.56 , 278360.12 , 203174.5  , 191031.58 , 340621.03 ,\n",
      "       284412.2  , 127337.086, 208568.78 , 215850.55 ,      0.   ,\n",
      "       202074.5  , 306523.44 ,  80171.58 , 316088.97 , 213292.03 ,\n",
      "       264068.22 , 321314.7  , 281062.25 , 232901.48 , 196281.75 ,\n",
      "       259719.2  , 180127.28 , 248842.95 , 157692.64 , 233295.86 ,\n",
      "       261779.78 ,  76742.21 , 306842.3  , 350377.75 , 261217.36 ,\n",
      "       363750.5  ,  62603.31 , 318508.22 , 158908.48 , 200708.92 ,\n",
      "       272754.8  ,  96666.266, 322921.47 , 210425.98 , 292023.34 ,\n",
      "       162606.81 ,      0.   , 150042.11 , 266666.62 , 140665.23 ,\n",
      "       263769.56 ,  68993.39 , 192867.53 , 262606.12 , 131670.12 ,\n",
      "       303843.38 , 256930.81 , 238502.45 , 394543.1  , 148388.73 ,\n",
      "       354458.84 , 108125.68 , 364650.72 , 250595.72 , 116097.92 ,\n",
      "       155089.25 , 330145.03 , 199807.45 , 182819.27 , 332243.75 ,\n",
      "       306914.62 , 238070.2  , 329905.66 , 248770.47 , 173364.1  ,\n",
      "       358542.16 , 378167.4  , 220722.8  , 234813.14 ,  75811.57 ,\n",
      "       216369.75 , 192734.1  , 264607.4  , 382009.53 , 324082.22 ,\n",
      "       301645.22 , 383483.   ,      0.   , 297805.4  , 236421.98 ,\n",
      "       335595.2  , 105172.39 , 139956.92 , 214604.58 , 189970.52 ,\n",
      "       254849.86 , 321209.1  , 230762.06 ,  65189.527, 158314.45 ,\n",
      "       240279.67 , 345782.56 , 231126.48 , 245557.88 ,  73107.9  ,\n",
      "       231954.25 , 204223.8  , 326294.06 ,  82566.27 , 266941.44 ,\n",
      "       184020.31 , 163334.08 , 394138.28 , 390384.22 , 290010.84 ,\n",
      "       162958.27 , 245312.45 ,  91956.29 , 328973.53 , 309230.56 ,\n",
      "       298586.7  , 281516.5  , 269923.25 , 161633.17 , 299978.6  ,\n",
      "       166362.28 , 281357.88 , 243161.11 , 224467.9  , 302638.66 ,\n",
      "       174891.92 , 203035.77 , 261861.53 , 252343.52 , 224128.53 ,\n",
      "       183378.   , 178713.28 , 171750.73 , 247705.89 ,  95623.266,\n",
      "       304210.16 , 279248.1  ,  87881.39 , 257787.55 , 271551.   ,\n",
      "       232600.64 , 171495.12 , 257435.17 , 217140.28 ,  83509.05 ,\n",
      "       282617.3  , 308017.28 , 164196.34 ,  84478.52 ], dtype=float32), 'channels_bottom': array([253, 254, 255, 256, 257, 258, 259, 260, 261, 262, 263, 264, 265,\n",
      "       266, 267, 268, 269, 270, 271, 272, 273, 274, 275, 276, 277, 278,\n",
      "       279, 280, 281, 282, 283, 284, 285, 286, 287, 288, 289, 290, 291,\n",
      "       292, 293, 294, 295, 296, 297, 298, 299, 300, 301, 302, 303, 304,\n",
      "       305, 306, 307, 308, 309, 310, 311, 312, 313, 314, 315, 316, 317,\n",
      "       318, 319, 320, 321, 322, 323, 324, 325, 326, 327, 328, 329, 330,\n",
      "       331, 332, 333, 334, 335, 336, 337, 338, 339, 340, 341, 342, 343,\n",
      "       344, 345, 346, 347, 348, 349, 350, 351, 352, 353, 354, 355, 356,\n",
      "       357, 358, 359, 360, 361, 362, 363, 364, 365, 366, 367, 368, 369,\n",
      "       370, 371, 372, 373, 374, 375, 376, 377, 378, 379, 380, 381, 382,\n",
      "       383, 384, 385, 386, 387, 388, 389, 390, 391, 392, 393, 394, 395,\n",
      "       396, 397, 398, 399, 400, 401, 402, 403, 404, 405, 406, 407, 408,\n",
      "       409, 410, 411, 412, 413, 414, 415, 416, 417, 418, 419, 420, 421,\n",
      "       422, 423, 424, 425, 426, 427, 428, 429, 430, 431, 432, 433, 434,\n",
      "       435, 436, 437, 438, 439, 440, 441, 442, 443, 444, 445, 446, 447,\n",
      "       448, 449, 450, 451, 452, 453, 454, 455, 456, 457, 458, 459, 460,\n",
      "       461, 462, 463, 464, 465, 466, 467, 468, 469, 470, 471, 472, 473,\n",
      "       474, 475, 476, 477, 478, 479, 480, 481, 482, 483, 484, 485, 486,\n",
      "       487, 488, 489, 490, 491, 492, 493])}\n",
      "1000\n",
      "*** Simulating single electrons events ***\n"
     ]
    },
    {
     "data": {
      "application/vnd.jupyter.widget-view+json": {
       "model_id": "710832be911c45c080afb6877a9fb58c",
       "version_major": 2,
       "version_minor": 0
      },
      "text/plain": [
       "HBox(children=(FloatProgress(value=0.0, description='Simulating Raw Records', max=1000.0, style=ProgressStyle(…"
      ]
     },
     "metadata": {},
     "output_type": "display_data"
    },
    {
     "name": "stderr",
     "output_type": "stream",
     "text": [
      "Exception in thread divide_outputs:truthCRITICAL:ThreadedMailboxProcessor:Target Mailbox (truth) killed, exception <class 'strax.mailbox.MailboxKilled'>, message (<class 'numba.core.errors.TypingError'>, TypingError('Failed in nopython mode pipeline (step: nopython frontend)\\n\\x1b[1m\\x1b[1mUse of unsupported NumPy function \\'numpy.clip\\' or unsupported use of the function.\\n\\x1b[1m\\nFile \"../.local/lib/python3.8/site-packages/wfsim/core/s2.py\", line 430:\\x1b[0m\\n\\x1b[1m    def draw_excitation_times(inv_cdf_list, hist_indices, nph, diff_nearest_gg, d_gas_gap):\\n        <source elided>\\n        timings = np.zeros(np.sum(nph))\\n\\x1b[1m        upper_hist_ind = np.clip(hist_indices+1, 0, len(inv_cdf_list)-1)\\n\\x1b[0m        \\x1b[1m^\\x1b[0m\\x1b[0m\\n\\x1b[0m\\n\\x1b[0m\\x1b[1mDuring: typing of get attribute at /home/luissanchez25/.local/lib/python3.8/site-packages/wfsim/core/s2.py (430)\\x1b[0m\\n\\x1b[1m\\nFile \"../.local/lib/python3.8/site-packages/wfsim/core/s2.py\", line 430:\\x1b[0m\\n\\x1b[1m    def draw_excitation_times(inv_cdf_list, hist_indices, nph, diff_nearest_gg, d_gas_gap):\\n        <source elided>\\n        timings = np.zeros(np.sum(nph))\\n\\x1b[1m        upper_hist_ind = np.clip(hist_indices+1, 0, len(inv_cdf_list)-1)\\n\\x1b[0m        \\x1b[1m^\\x1b[0m\\x1b[0m\\n'), <traceback object at 0x7f0c83218980>)\n",
      ":\n",
      "Traceback (most recent call last):\n",
      "  File \"/opt/conda/envs/strax/lib/python3.8/threading.py\", line 932, in _bootstrap_inner\n",
      "    self.run()\n",
      "  File \"/opt/conda/envs/strax/lib/python3.8/threading.py\", line 870, in run\n",
      "    self._target(*self._args, **self._kwargs)\n",
      "  File \"/home/luissanchez25/.local/lib/python3.8/site-packages/strax/mailbox.py\", line 294, in _send_from\n",
      "    self.kill_from_exception(e)\n",
      "  File \"/home/luissanchez25/.local/lib/python3.8/site-packages/strax/mailbox.py\", line 213, in kill_from_exception\n",
      "    raise e\n",
      "  File \"/home/luissanchez25/.local/lib/python3.8/site-packages/strax/mailbox.py\", line 281, in _send_from\n",
      "    x = next(iterable)\n",
      "  File \"/home/luissanchez25/.local/lib/python3.8/site-packages/strax/plugin.py\", line 488, in iter\n",
      "    yield self.do_compute(chunk_i=chunk_i, **inputs_merged)\n",
      "  File \"/home/luissanchez25/.local/lib/python3.8/site-packages/strax/plugin.py\", line 596, in do_compute\n",
      "    result = self.compute(**kwargs)\n",
      "  File \"/home/luissanchez25/.local/lib/python3.8/site-packages/wfsim/strax_interface.py\", line 698, in compute\n",
      "    result = next(self.sim_iter)\n",
      "  File \"/home/luissanchez25/.local/lib/python3.8/site-packages/wfsim/strax_interface.py\", line 386, in __call__\n",
      "    for channel, left, right, data in self.rawdata(instructions=instructions,\n",
      "  File \"/home/luissanchez25/.local/lib/python3.8/site-packages/wfsim/core/rawdata.py\", line 133, in __call__\n",
      "    for instb_secondary in self.sim_data(instb[instb_run_i]):\n",
      "  File \"/home/luissanchez25/.local/lib/python3.8/site-packages/wfsim/core/rawdata.py\", line 173, in sim_data\n",
      "    self.sim_primary(primary_pulse, instruction, **kwargs)\n",
      "  File \"/home/luissanchez25/.local/lib/python3.8/site-packages/wfsim/core/rawdata.py\", line 164, in sim_primary\n",
      "    self.pulses[primary_pulse](instruction)\n",
      "  File \"/home/luissanchez25/.local/lib/python3.8/site-packages/wfsim/core/s2.py\", line 119, in __call__\n",
      "    self._photon_timings = self.photon_timings(positions=positions, \n",
      "  File \"/home/luissanchez25/.local/lib/python3.8/site-packages/wfsim/core/s2.py\", line 531, in photon_timings\n",
      "    _photon_timings = S2.luminescence_timings_garfield_gasgap(positions, n_photons_per_xy,\n",
      "  File \"/home/luissanchez25/.local/lib/python3.8/site-packages/wfsim/core/s2.py\", line 477, in luminescence_timings_garfield_gasgap\n",
      "    return S2.draw_excitation_times(resource.s2_luminescence_gg['timing_inv_cdf'],\n",
      "  File \"/home/luissanchez25/.local/lib/python3.8/site-packages/numba/core/dispatcher.py\", line 415, in _compile_for_args\n",
      "    error_rewrite(e, 'typing')\n",
      "  File \"/home/luissanchez25/.local/lib/python3.8/site-packages/numba/core/dispatcher.py\", line 358, in error_rewrite\n",
      "    reraise(type(e), e, None)\n",
      "  File \"/home/luissanchez25/.local/lib/python3.8/site-packages/numba/core/utils.py\", line 80, in reraise\n",
      "    raise value.with_traceback(tb)\n",
      "numba.core.errors.TypingError: Failed in nopython mode pipeline (step: nopython frontend)\n",
      "\u001b[1m\u001b[1mUse of unsupported NumPy function 'numpy.clip' or unsupported use of the function.\n",
      "\u001b[1m\n",
      "File \"../.local/lib/python3.8/site-packages/wfsim/core/s2.py\", line 430:\u001b[0m\n",
      "\u001b[1m    def draw_excitation_times(inv_cdf_list, hist_indices, nph, diff_nearest_gg, d_gas_gap):\n",
      "        <source elided>\n",
      "        timings = np.zeros(np.sum(nph))\n",
      "\u001b[1m        upper_hist_ind = np.clip(hist_indices+1, 0, len(inv_cdf_list)-1)\n",
      "\u001b[0m        \u001b[1m^\u001b[0m\u001b[0m\n",
      "\u001b[0m\n",
      "\u001b[0m\u001b[1mDuring: typing of get attribute at /home/luissanchez25/.local/lib/python3.8/site-packages/wfsim/core/s2.py (430)\u001b[0m\n",
      "\u001b[1m\n",
      "File \"../.local/lib/python3.8/site-packages/wfsim/core/s2.py\", line 430:\u001b[0m\n",
      "\u001b[1m    def draw_excitation_times(inv_cdf_list, hist_indices, nph, diff_nearest_gg, d_gas_gap):\n",
      "        <source elided>\n",
      "        timings = np.zeros(np.sum(nph))\n",
      "\u001b[1m        upper_hist_ind = np.clip(hist_indices+1, 0, len(inv_cdf_list)-1)\n",
      "\u001b[0m        \u001b[1m^\u001b[0m\u001b[0m\n",
      "\n"
     ]
    },
    {
     "ename": "TypingError",
     "evalue": "Failed in nopython mode pipeline (step: nopython frontend)\n\u001b[1m\u001b[1mUse of unsupported NumPy function 'numpy.clip' or unsupported use of the function.\n\u001b[1m\nFile \"../.local/lib/python3.8/site-packages/wfsim/core/s2.py\", line 430:\u001b[0m\n\u001b[1m    def draw_excitation_times(inv_cdf_list, hist_indices, nph, diff_nearest_gg, d_gas_gap):\n        <source elided>\n        timings = np.zeros(np.sum(nph))\n\u001b[1m        upper_hist_ind = np.clip(hist_indices+1, 0, len(inv_cdf_list)-1)\n\u001b[0m        \u001b[1m^\u001b[0m\u001b[0m\n\u001b[0m\n\u001b[0m\u001b[1mDuring: typing of get attribute at /home/luissanchez25/.local/lib/python3.8/site-packages/wfsim/core/s2.py (430)\u001b[0m\n\u001b[1m\nFile \"../.local/lib/python3.8/site-packages/wfsim/core/s2.py\", line 430:\u001b[0m\n\u001b[1m    def draw_excitation_times(inv_cdf_list, hist_indices, nph, diff_nearest_gg, d_gas_gap):\n        <source elided>\n        timings = np.zeros(np.sum(nph))\n\u001b[1m        upper_hist_ind = np.clip(hist_indices+1, 0, len(inv_cdf_list)-1)\n\u001b[0m        \u001b[1m^\u001b[0m\u001b[0m\n",
     "output_type": "error",
     "traceback": [
      "\u001b[0;31m---------------------------------------------------------------------------\u001b[0m",
      "\u001b[0;31mTypingError\u001b[0m                               Traceback (most recent call last)",
      "Input \u001b[0;32mIn [37]\u001b[0m, in \u001b[0;36m<cell line: 1>\u001b[0;34m()\u001b[0m\n\u001b[0;32m----> 1\u001b[0m truth \u001b[38;5;241m=\u001b[39m \u001b[43mst\u001b[49m\u001b[38;5;241;43m.\u001b[39;49m\u001b[43mget_array\u001b[49m\u001b[43m(\u001b[49m\u001b[43mrun_id\u001b[49m\u001b[43m,\u001b[49m\u001b[38;5;124;43m'\u001b[39;49m\u001b[38;5;124;43mtruth\u001b[39;49m\u001b[38;5;124;43m'\u001b[39;49m\u001b[43m)\u001b[49m\n",
      "File \u001b[0;32m~/.local/lib/python3.8/site-packages/strax/context.py:1440\u001b[0m, in \u001b[0;36mContext.get_array\u001b[0;34m(self, run_id, targets, save, max_workers, **kwargs)\u001b[0m\n\u001b[1;32m   1433\u001b[0m \u001b[38;5;28;01melse\u001b[39;00m:\n\u001b[1;32m   1434\u001b[0m     source \u001b[38;5;241m=\u001b[39m \u001b[38;5;28mself\u001b[39m\u001b[38;5;241m.\u001b[39mget_iter(\n\u001b[1;32m   1435\u001b[0m         run_ids[\u001b[38;5;241m0\u001b[39m],\n\u001b[1;32m   1436\u001b[0m         targets,\n\u001b[1;32m   1437\u001b[0m         save\u001b[38;5;241m=\u001b[39msave,\n\u001b[1;32m   1438\u001b[0m         max_workers\u001b[38;5;241m=\u001b[39mmax_workers,\n\u001b[1;32m   1439\u001b[0m         \u001b[38;5;241m*\u001b[39m\u001b[38;5;241m*\u001b[39mkwargs)\n\u001b[0;32m-> 1440\u001b[0m     results \u001b[38;5;241m=\u001b[39m [x\u001b[38;5;241m.\u001b[39mdata \u001b[38;5;28;01mfor\u001b[39;00m x \u001b[38;5;129;01min\u001b[39;00m source]\n\u001b[1;32m   1442\u001b[0m results \u001b[38;5;241m=\u001b[39m np\u001b[38;5;241m.\u001b[39mconcatenate(results)\n\u001b[1;32m   1443\u001b[0m \u001b[38;5;28;01mreturn\u001b[39;00m results\n",
      "File \u001b[0;32m~/.local/lib/python3.8/site-packages/strax/context.py:1440\u001b[0m, in \u001b[0;36m<listcomp>\u001b[0;34m(.0)\u001b[0m\n\u001b[1;32m   1433\u001b[0m \u001b[38;5;28;01melse\u001b[39;00m:\n\u001b[1;32m   1434\u001b[0m     source \u001b[38;5;241m=\u001b[39m \u001b[38;5;28mself\u001b[39m\u001b[38;5;241m.\u001b[39mget_iter(\n\u001b[1;32m   1435\u001b[0m         run_ids[\u001b[38;5;241m0\u001b[39m],\n\u001b[1;32m   1436\u001b[0m         targets,\n\u001b[1;32m   1437\u001b[0m         save\u001b[38;5;241m=\u001b[39msave,\n\u001b[1;32m   1438\u001b[0m         max_workers\u001b[38;5;241m=\u001b[39mmax_workers,\n\u001b[1;32m   1439\u001b[0m         \u001b[38;5;241m*\u001b[39m\u001b[38;5;241m*\u001b[39mkwargs)\n\u001b[0;32m-> 1440\u001b[0m     results \u001b[38;5;241m=\u001b[39m [x\u001b[38;5;241m.\u001b[39mdata \u001b[38;5;28;01mfor\u001b[39;00m x \u001b[38;5;129;01min\u001b[39;00m source]\n\u001b[1;32m   1442\u001b[0m results \u001b[38;5;241m=\u001b[39m np\u001b[38;5;241m.\u001b[39mconcatenate(results)\n\u001b[1;32m   1443\u001b[0m \u001b[38;5;28;01mreturn\u001b[39;00m results\n",
      "File \u001b[0;32m~/.local/lib/python3.8/site-packages/strax/context.py:1321\u001b[0m, in \u001b[0;36mContext.get_iter\u001b[0;34m(self, run_id, targets, save, max_workers, time_range, seconds_range, time_within, time_selection, selection_str, keep_columns, drop_columns, allow_multiple, progress_bar, _chunk_number, **kwargs)\u001b[0m\n\u001b[1;32m   1316\u001b[0m     generator\u001b[38;5;241m.\u001b[39mthrow(OutsideException(\n\u001b[1;32m   1317\u001b[0m         \u001b[38;5;124m\"\u001b[39m\u001b[38;5;124mTerminating due to an exception originating from outside \u001b[39m\u001b[38;5;124m\"\u001b[39m\n\u001b[1;32m   1318\u001b[0m         \u001b[38;5;124m\"\u001b[39m\u001b[38;5;124mstrax\u001b[39m\u001b[38;5;124m'\u001b[39m\u001b[38;5;124ms get_iter (which we cannot retrieve).\u001b[39m\u001b[38;5;124m\"\u001b[39m))\n\u001b[1;32m   1320\u001b[0m \u001b[38;5;28;01mexcept\u001b[39;00m \u001b[38;5;167;01mException\u001b[39;00m \u001b[38;5;28;01mas\u001b[39;00m e:\n\u001b[0;32m-> 1321\u001b[0m     \u001b[43mgenerator\u001b[49m\u001b[38;5;241;43m.\u001b[39;49m\u001b[43mthrow\u001b[49m\u001b[43m(\u001b[49m\u001b[43me\u001b[49m\u001b[43m)\u001b[49m\n\u001b[1;32m   1322\u001b[0m     \u001b[38;5;28;01mraise\u001b[39;00m \u001b[38;5;167;01mValueError\u001b[39;00m(\u001b[38;5;124mf\u001b[39m\u001b[38;5;124m'\u001b[39m\u001b[38;5;124mFailed to process chunk \u001b[39m\u001b[38;5;132;01m{\u001b[39;00mn_chunks\u001b[38;5;132;01m}\u001b[39;00m\u001b[38;5;124m!\u001b[39m\u001b[38;5;124m'\u001b[39m)\n\u001b[1;32m   1324\u001b[0m \u001b[38;5;28;01mif\u001b[39;00m \u001b[38;5;129;01mnot\u001b[39;00m seen_a_chunk:\n",
      "File \u001b[0;32m~/.local/lib/python3.8/site-packages/strax/context.py:1293\u001b[0m, in \u001b[0;36mContext.get_iter\u001b[0;34m(self, run_id, targets, save, max_workers, time_range, seconds_range, time_within, time_selection, selection_str, keep_columns, drop_columns, allow_multiple, progress_bar, _chunk_number, **kwargs)\u001b[0m\n\u001b[1;32m   1291\u001b[0m pbar\u001b[38;5;241m.\u001b[39mlast_print_t \u001b[38;5;241m=\u001b[39m time\u001b[38;5;241m.\u001b[39mtime()\n\u001b[1;32m   1292\u001b[0m pbar\u001b[38;5;241m.\u001b[39mmbs \u001b[38;5;241m=\u001b[39m []\n\u001b[0;32m-> 1293\u001b[0m \u001b[38;5;28;01mfor\u001b[39;00m n_chunks, result \u001b[38;5;129;01min\u001b[39;00m \u001b[38;5;28menumerate\u001b[39m(strax\u001b[38;5;241m.\u001b[39mcontinuity_check(generator), \u001b[38;5;241m1\u001b[39m):\n\u001b[1;32m   1294\u001b[0m     seen_a_chunk \u001b[38;5;241m=\u001b[39m \u001b[38;5;28;01mTrue\u001b[39;00m\n\u001b[1;32m   1295\u001b[0m     \u001b[38;5;28;01mif\u001b[39;00m \u001b[38;5;129;01mnot\u001b[39;00m \u001b[38;5;28misinstance\u001b[39m(result, strax\u001b[38;5;241m.\u001b[39mChunk):\n",
      "File \u001b[0;32m~/.local/lib/python3.8/site-packages/strax/chunk.py:303\u001b[0m, in \u001b[0;36mcontinuity_check\u001b[0;34m(chunk_iter)\u001b[0m\n\u001b[1;32m    300\u001b[0m last_runid \u001b[38;5;241m=\u001b[39m \u001b[38;5;28;01mNone\u001b[39;00m\n\u001b[1;32m    302\u001b[0m last_subrun \u001b[38;5;241m=\u001b[39m {\u001b[38;5;124m'\u001b[39m\u001b[38;5;124mrun_id\u001b[39m\u001b[38;5;124m'\u001b[39m: \u001b[38;5;28;01mNone\u001b[39;00m}\n\u001b[0;32m--> 303\u001b[0m \u001b[38;5;28;01mfor\u001b[39;00m chunk \u001b[38;5;129;01min\u001b[39;00m chunk_iter:\n\u001b[1;32m    304\u001b[0m     \u001b[38;5;28;01mif\u001b[39;00m chunk\u001b[38;5;241m.\u001b[39mrun_id \u001b[38;5;241m!=\u001b[39m last_runid:\n\u001b[1;32m    305\u001b[0m         last_end \u001b[38;5;241m=\u001b[39m \u001b[38;5;28;01mNone\u001b[39;00m\n",
      "File \u001b[0;32m~/.local/lib/python3.8/site-packages/strax/processor.py:302\u001b[0m, in \u001b[0;36mThreadedMailboxProcessor.iter\u001b[0;34m(self)\u001b[0m\n\u001b[1;32m    296\u001b[0m \u001b[38;5;28;01mif\u001b[39;00m exc \u001b[38;5;129;01mis\u001b[39;00m \u001b[38;5;129;01mnot\u001b[39;00m \u001b[38;5;28;01mNone\u001b[39;00m:\n\u001b[1;32m    297\u001b[0m     \u001b[38;5;66;03m# Reraise exception. This is outside the except block\u001b[39;00m\n\u001b[1;32m    298\u001b[0m     \u001b[38;5;66;03m# to avoid the 'during handling of this exception, another\u001b[39;00m\n\u001b[1;32m    299\u001b[0m     \u001b[38;5;66;03m# exception occurred' stuff from confusing the traceback\u001b[39;00m\n\u001b[1;32m    300\u001b[0m     \u001b[38;5;66;03m# which is printed for the user\u001b[39;00m\n\u001b[1;32m    301\u001b[0m     \u001b[38;5;28mself\u001b[39m\u001b[38;5;241m.\u001b[39mlog\u001b[38;5;241m.\u001b[39mdebug(\u001b[38;5;124m\"\u001b[39m\u001b[38;5;124mReraising exception\u001b[39m\u001b[38;5;124m\"\u001b[39m)\n\u001b[0;32m--> 302\u001b[0m     \u001b[38;5;28;01mraise\u001b[39;00m exc\u001b[38;5;241m.\u001b[39mwith_traceback(traceback)\n\u001b[1;32m    304\u001b[0m \u001b[38;5;66;03m# Check the savers for any exception that occurred during saving\u001b[39;00m\n\u001b[1;32m    305\u001b[0m \u001b[38;5;66;03m# These are thrown back to the mailbox, but if that has already closed\u001b[39;00m\n\u001b[1;32m    306\u001b[0m \u001b[38;5;66;03m# it doesn't trigger a crash...\u001b[39;00m\n\u001b[1;32m    307\u001b[0m \u001b[38;5;66;03m# TODO: add savers inlined by parallelsourceplugin\u001b[39;00m\n\u001b[1;32m    308\u001b[0m \u001b[38;5;66;03m# TODO: need to look at plugins too if we ever implement true\u001b[39;00m\n\u001b[1;32m    309\u001b[0m \u001b[38;5;66;03m# multi-target mode\u001b[39;00m\n\u001b[1;32m    310\u001b[0m \u001b[38;5;28;01mfor\u001b[39;00m k, saver_list \u001b[38;5;129;01min\u001b[39;00m \u001b[38;5;28mself\u001b[39m\u001b[38;5;241m.\u001b[39mcomponents\u001b[38;5;241m.\u001b[39msavers\u001b[38;5;241m.\u001b[39mitems():\n",
      "File \u001b[0;32m~/.local/lib/python3.8/site-packages/strax/mailbox.py:281\u001b[0m, in \u001b[0;36mMailbox._send_from\u001b[0;34m(self, iterable)\u001b[0m\n\u001b[1;32m    276\u001b[0m                 \u001b[38;5;28;01mraise\u001b[39;00m MailboxReadTimeout(\n\u001b[1;32m    277\u001b[0m                     \u001b[38;5;124mf\u001b[39m\u001b[38;5;124m\"\u001b[39m\u001b[38;5;132;01m{\u001b[39;00m\u001b[38;5;28mself\u001b[39m\u001b[38;5;132;01m}\u001b[39;00m\u001b[38;5;124m could not progress beyond \u001b[39m\u001b[38;5;132;01m{\u001b[39;00mi\u001b[38;5;132;01m}\u001b[39;00m\u001b[38;5;124m, \u001b[39m\u001b[38;5;124m\"\u001b[39m\n\u001b[1;32m    278\u001b[0m                     \u001b[38;5;124mf\u001b[39m\u001b[38;5;124m\"\u001b[39m\u001b[38;5;124mno driving subscriber requested it.\u001b[39m\u001b[38;5;124m\"\u001b[39m)\n\u001b[1;32m    280\u001b[0m \u001b[38;5;28;01mtry\u001b[39;00m:\n\u001b[0;32m--> 281\u001b[0m     x \u001b[38;5;241m=\u001b[39m \u001b[38;5;28;43mnext\u001b[39;49m\u001b[43m(\u001b[49m\u001b[43miterable\u001b[49m\u001b[43m)\u001b[49m\n\u001b[1;32m    282\u001b[0m \u001b[38;5;28;01mexcept\u001b[39;00m \u001b[38;5;167;01mStopIteration\u001b[39;00m:\n\u001b[1;32m    283\u001b[0m     \u001b[38;5;66;03m# No need to send this yet, close will do that\u001b[39;00m\n\u001b[1;32m    284\u001b[0m     \u001b[38;5;28;01mbreak\u001b[39;00m\n",
      "File \u001b[0;32m~/.local/lib/python3.8/site-packages/strax/plugin.py:488\u001b[0m, in \u001b[0;36mPlugin.iter\u001b[0;34m(self, iters, executor)\u001b[0m\n\u001b[1;32m    486\u001b[0m             \u001b[38;5;28;01myield\u001b[39;00m new_future\n\u001b[1;32m    487\u001b[0m         \u001b[38;5;28;01melse\u001b[39;00m:\n\u001b[0;32m--> 488\u001b[0m             \u001b[38;5;28;01myield\u001b[39;00m \u001b[38;5;28;43mself\u001b[39;49m\u001b[38;5;241;43m.\u001b[39;49m\u001b[43mdo_compute\u001b[49m\u001b[43m(\u001b[49m\u001b[43mchunk_i\u001b[49m\u001b[38;5;241;43m=\u001b[39;49m\u001b[43mchunk_i\u001b[49m\u001b[43m,\u001b[49m\u001b[43m \u001b[49m\u001b[38;5;241;43m*\u001b[39;49m\u001b[38;5;241;43m*\u001b[39;49m\u001b[43minputs_merged\u001b[49m\u001b[43m)\u001b[49m\n\u001b[1;32m    490\u001b[0m \u001b[38;5;28;01mexcept\u001b[39;00m IterDone:\n\u001b[1;32m    491\u001b[0m     \u001b[38;5;66;03m# Check all sources are exhausted.\u001b[39;00m\n\u001b[1;32m    492\u001b[0m     \u001b[38;5;66;03m# This is more than a check though -- it ensure the content of\u001b[39;00m\n\u001b[1;32m    493\u001b[0m     \u001b[38;5;66;03m# all sources are requested all the way (including the final\u001b[39;00m\n\u001b[1;32m    494\u001b[0m     \u001b[38;5;66;03m# Stopiteration), as required by lazy-mode processing requires\u001b[39;00m\n\u001b[1;32m    495\u001b[0m     \u001b[38;5;28;01mfor\u001b[39;00m d \u001b[38;5;129;01min\u001b[39;00m iters\u001b[38;5;241m.\u001b[39mkeys():\n",
      "File \u001b[0;32m~/.local/lib/python3.8/site-packages/strax/plugin.py:596\u001b[0m, in \u001b[0;36mPlugin.do_compute\u001b[0;34m(self, chunk_i, **kwargs)\u001b[0m\n\u001b[1;32m    594\u001b[0m     kwargs[\u001b[38;5;124m'\u001b[39m\u001b[38;5;124mstart\u001b[39m\u001b[38;5;124m'\u001b[39m] \u001b[38;5;241m=\u001b[39m start\n\u001b[1;32m    595\u001b[0m     kwargs[\u001b[38;5;124m'\u001b[39m\u001b[38;5;124mend\u001b[39m\u001b[38;5;124m'\u001b[39m] \u001b[38;5;241m=\u001b[39m end\n\u001b[0;32m--> 596\u001b[0m result \u001b[38;5;241m=\u001b[39m \u001b[38;5;28;43mself\u001b[39;49m\u001b[38;5;241;43m.\u001b[39;49m\u001b[43mcompute\u001b[49m\u001b[43m(\u001b[49m\u001b[38;5;241;43m*\u001b[39;49m\u001b[38;5;241;43m*\u001b[39;49m\u001b[43mkwargs\u001b[49m\u001b[43m)\u001b[49m\n\u001b[1;32m    598\u001b[0m \u001b[38;5;28;01mreturn\u001b[39;00m \u001b[38;5;28mself\u001b[39m\u001b[38;5;241m.\u001b[39m_fix_output(result, start, end)\n",
      "File \u001b[0;32m~/.local/lib/python3.8/site-packages/wfsim/strax_interface.py:698\u001b[0m, in \u001b[0;36mRawRecordsFromFaxNT.compute\u001b[0;34m(self)\u001b[0m\n\u001b[1;32m    696\u001b[0m \u001b[38;5;28;01mdef\u001b[39;00m \u001b[38;5;21mcompute\u001b[39m(\u001b[38;5;28mself\u001b[39m):\n\u001b[1;32m    697\u001b[0m     \u001b[38;5;28;01mtry\u001b[39;00m:\n\u001b[0;32m--> 698\u001b[0m         result \u001b[38;5;241m=\u001b[39m \u001b[38;5;28;43mnext\u001b[39;49m\u001b[43m(\u001b[49m\u001b[38;5;28;43mself\u001b[39;49m\u001b[38;5;241;43m.\u001b[39;49m\u001b[43msim_iter\u001b[49m\u001b[43m)\u001b[49m\n\u001b[1;32m    699\u001b[0m     \u001b[38;5;28;01mexcept\u001b[39;00m \u001b[38;5;167;01mStopIteration\u001b[39;00m:\n\u001b[1;32m    700\u001b[0m         \u001b[38;5;28;01mraise\u001b[39;00m \u001b[38;5;167;01mRuntimeError\u001b[39;00m(\u001b[38;5;124m\"\u001b[39m\u001b[38;5;124mBug in chunk count computation\u001b[39m\u001b[38;5;124m\"\u001b[39m)\n",
      "File \u001b[0;32m~/.local/lib/python3.8/site-packages/wfsim/strax_interface.py:386\u001b[0m, in \u001b[0;36mChunkRawRecords.__call__\u001b[0;34m(self, instructions, time_zero, **kwargs)\u001b[0m\n\u001b[1;32m    384\u001b[0m \u001b[38;5;28mself\u001b[39m\u001b[38;5;241m.\u001b[39mchunk_time \u001b[38;5;241m=\u001b[39m \u001b[38;5;28mself\u001b[39m\u001b[38;5;241m.\u001b[39mchunk_time_pre \u001b[38;5;241m+\u001b[39m cksz  \u001b[38;5;66;03m# Starting chunk\u001b[39;00m\n\u001b[1;32m    385\u001b[0m \u001b[38;5;28mself\u001b[39m\u001b[38;5;241m.\u001b[39mcurrent_digitized_right \u001b[38;5;241m=\u001b[39m \u001b[38;5;28mself\u001b[39m\u001b[38;5;241m.\u001b[39mlast_digitized_right \u001b[38;5;241m=\u001b[39m \u001b[38;5;241m0\u001b[39m\n\u001b[0;32m--> 386\u001b[0m \u001b[38;5;28;01mfor\u001b[39;00m channel, left, right, data \u001b[38;5;129;01min\u001b[39;00m \u001b[38;5;28mself\u001b[39m\u001b[38;5;241m.\u001b[39mrawdata(instructions\u001b[38;5;241m=\u001b[39minstructions,\n\u001b[1;32m    387\u001b[0m                                                truth_buffer\u001b[38;5;241m=\u001b[39m\u001b[38;5;28mself\u001b[39m\u001b[38;5;241m.\u001b[39mtruth_buffer,\n\u001b[1;32m    388\u001b[0m                                                \u001b[38;5;241m*\u001b[39m\u001b[38;5;241m*\u001b[39mkwargs):\n\u001b[1;32m    389\u001b[0m     pulse_length \u001b[38;5;241m=\u001b[39m right \u001b[38;5;241m-\u001b[39m left \u001b[38;5;241m+\u001b[39m \u001b[38;5;241m1\u001b[39m\n\u001b[1;32m    390\u001b[0m     records_needed \u001b[38;5;241m=\u001b[39m \u001b[38;5;28mint\u001b[39m(np\u001b[38;5;241m.\u001b[39mceil(pulse_length \u001b[38;5;241m/\u001b[39m samples_per_record))\n",
      "File \u001b[0;32m~/.local/lib/python3.8/site-packages/wfsim/core/rawdata.py:133\u001b[0m, in \u001b[0;36mRawData.__call__\u001b[0;34m(self, instructions, truth_buffer, progress_bar, **kwargs)\u001b[0m\n\u001b[1;32m    131\u001b[0m     g4id \u001b[38;5;241m=\u001b[39m instb[instb_run_i][\u001b[38;5;124m'\u001b[39m\u001b[38;5;124mg4id\u001b[39m\u001b[38;5;124m'\u001b[39m][\u001b[38;5;241m0\u001b[39m]\n\u001b[1;32m    132\u001b[0m     log\u001b[38;5;241m.\u001b[39mdebug(\u001b[38;5;124mf\u001b[39m\u001b[38;5;124m'\u001b[39m\u001b[38;5;124mMaking S\u001b[39m\u001b[38;5;132;01m{\u001b[39;00mptype\u001b[38;5;132;01m}\u001b[39;00m\u001b[38;5;124m pulse set (\u001b[39m\u001b[38;5;132;01m{\u001b[39;00mi_set\u001b[38;5;241m+\u001b[39m\u001b[38;5;241m1\u001b[39m\u001b[38;5;132;01m}\u001b[39;00m\u001b[38;5;124m/\u001b[39m\u001b[38;5;132;01m{\u001b[39;00mn_set\u001b[38;5;132;01m}\u001b[39;00m\u001b[38;5;124m) for g4 event \u001b[39m\u001b[38;5;132;01m{\u001b[39;00mg4id\u001b[38;5;132;01m}\u001b[39;00m\u001b[38;5;124m'\u001b[39m)\n\u001b[0;32m--> 133\u001b[0m \u001b[38;5;28;01mfor\u001b[39;00m instb_secondary \u001b[38;5;129;01min\u001b[39;00m \u001b[38;5;28mself\u001b[39m\u001b[38;5;241m.\u001b[39msim_data(instb[instb_run_i]):\n\u001b[1;32m    134\u001b[0m     n_too_much \u001b[38;5;241m=\u001b[39m \u001b[38;5;241m0\u001b[39m\n\u001b[1;32m    135\u001b[0m     \u001b[38;5;28;01mif\u001b[39;00m \u001b[38;5;28mlen\u001b[39m(np\u001b[38;5;241m.\u001b[39mwhere(\u001b[38;5;241m~\u001b[39minstb_filled)[\u001b[38;5;241m0\u001b[39m]) \u001b[38;5;241m-\u001b[39m \u001b[38;5;241m10\u001b[39m \u001b[38;5;241m<\u001b[39m \u001b[38;5;28mlen\u001b[39m(instb_secondary):\n",
      "File \u001b[0;32m~/.local/lib/python3.8/site-packages/wfsim/core/rawdata.py:173\u001b[0m, in \u001b[0;36mRawData.sim_data\u001b[0;34m(self, instruction, **kwargs)\u001b[0m\n\u001b[1;32m    170\u001b[0m \u001b[38;5;66;03m# Simulate the primary pulse\u001b[39;00m\n\u001b[1;32m    171\u001b[0m primary_pulse \u001b[38;5;241m=\u001b[39m \u001b[38;5;28mself\u001b[39m\u001b[38;5;241m.\u001b[39msymtype(instruction[\u001b[38;5;124m'\u001b[39m\u001b[38;5;124mtype\u001b[39m\u001b[38;5;124m'\u001b[39m][\u001b[38;5;241m0\u001b[39m])\n\u001b[0;32m--> 173\u001b[0m \u001b[38;5;28;43mself\u001b[39;49m\u001b[38;5;241;43m.\u001b[39;49m\u001b[43msim_primary\u001b[49m\u001b[43m(\u001b[49m\u001b[43mprimary_pulse\u001b[49m\u001b[43m,\u001b[49m\u001b[43m \u001b[49m\u001b[43minstruction\u001b[49m\u001b[43m,\u001b[49m\u001b[43m \u001b[49m\u001b[38;5;241;43m*\u001b[39;49m\u001b[38;5;241;43m*\u001b[39;49m\u001b[43mkwargs\u001b[49m\u001b[43m)\u001b[49m\n\u001b[1;32m    175\u001b[0m \u001b[38;5;66;03m# Add PMT afterpulses, if requested\u001b[39;00m\n\u001b[1;32m    176\u001b[0m do_pmt_ap \u001b[38;5;241m=\u001b[39m \u001b[38;5;28mself\u001b[39m\u001b[38;5;241m.\u001b[39mconfig\u001b[38;5;241m.\u001b[39mget(\u001b[38;5;124m'\u001b[39m\u001b[38;5;124menable_pmt_afterpulses\u001b[39m\u001b[38;5;124m'\u001b[39m, \u001b[38;5;28;01mTrue\u001b[39;00m)\n",
      "File \u001b[0;32m~/.local/lib/python3.8/site-packages/wfsim/core/rawdata.py:164\u001b[0m, in \u001b[0;36mRawData.sim_primary\u001b[0;34m(self, primary_pulse, instruction, **kwargs)\u001b[0m\n\u001b[1;32m    163\u001b[0m \u001b[38;5;28;01mdef\u001b[39;00m \u001b[38;5;21msim_primary\u001b[39m(\u001b[38;5;28mself\u001b[39m, primary_pulse, instruction, \u001b[38;5;241m*\u001b[39m\u001b[38;5;241m*\u001b[39mkwargs):\n\u001b[0;32m--> 164\u001b[0m     \u001b[38;5;28;43mself\u001b[39;49m\u001b[38;5;241;43m.\u001b[39;49m\u001b[43mpulses\u001b[49m\u001b[43m[\u001b[49m\u001b[43mprimary_pulse\u001b[49m\u001b[43m]\u001b[49m\u001b[43m(\u001b[49m\u001b[43minstruction\u001b[49m\u001b[43m)\u001b[49m\n",
      "File \u001b[0;32m~/.local/lib/python3.8/site-packages/wfsim/core/s2.py:119\u001b[0m, in \u001b[0;36mS2.__call__\u001b[0;34m(self, instruction)\u001b[0m\n\u001b[1;32m    111\u001b[0m \u001b[38;5;28mself\u001b[39m\u001b[38;5;241m.\u001b[39m_photon_channels \u001b[38;5;241m=\u001b[39m \u001b[38;5;28mself\u001b[39m\u001b[38;5;241m.\u001b[39mphoton_channels(n_electron\u001b[38;5;241m=\u001b[39mn_electron,\n\u001b[1;32m    112\u001b[0m                                              z_obs\u001b[38;5;241m=\u001b[39mz_obs,\n\u001b[1;32m    113\u001b[0m                                              positions\u001b[38;5;241m=\u001b[39mpositions,\n\u001b[1;32m    114\u001b[0m                                              _instruction\u001b[38;5;241m=\u001b[39m\u001b[38;5;28mself\u001b[39m\u001b[38;5;241m.\u001b[39m_instruction,\n\u001b[1;32m    115\u001b[0m                                              config\u001b[38;5;241m=\u001b[39m\u001b[38;5;28mself\u001b[39m\u001b[38;5;241m.\u001b[39mconfig,\n\u001b[1;32m    116\u001b[0m                                              resource\u001b[38;5;241m=\u001b[39m\u001b[38;5;28mself\u001b[39m\u001b[38;5;241m.\u001b[39mresource)\n\u001b[1;32m    118\u001b[0m \u001b[38;5;66;03m# Second generate photon timing\u001b[39;00m\n\u001b[0;32m--> 119\u001b[0m \u001b[38;5;28mself\u001b[39m\u001b[38;5;241m.\u001b[39m_photon_timings \u001b[38;5;241m=\u001b[39m \u001b[38;5;28;43mself\u001b[39;49m\u001b[38;5;241;43m.\u001b[39;49m\u001b[43mphoton_timings\u001b[49m\u001b[43m(\u001b[49m\u001b[43mpositions\u001b[49m\u001b[38;5;241;43m=\u001b[39;49m\u001b[43mpositions\u001b[49m\u001b[43m,\u001b[49m\u001b[43m \u001b[49m\n\u001b[1;32m    120\u001b[0m \u001b[43m                                           \u001b[49m\u001b[43mn_photons_per_xy\u001b[49m\u001b[38;5;241;43m=\u001b[39;49m\u001b[43mn_photons_per_xy\u001b[49m\u001b[43m,\u001b[49m\n\u001b[1;32m    121\u001b[0m \u001b[43m                                           \u001b[49m\u001b[43m_electron_timings\u001b[49m\u001b[38;5;241;43m=\u001b[39;49m\u001b[38;5;28;43mself\u001b[39;49m\u001b[38;5;241;43m.\u001b[39;49m\u001b[43m_electron_timings\u001b[49m\u001b[43m,\u001b[49m\n\u001b[1;32m    122\u001b[0m \u001b[43m                                           \u001b[49m\u001b[43mn_photons_per_ele\u001b[49m\u001b[38;5;241;43m=\u001b[39;49m\u001b[43mn_photons_per_ele\u001b[49m\u001b[43m,\u001b[49m\n\u001b[1;32m    123\u001b[0m \u001b[43m                                           \u001b[49m\u001b[43m_photon_channels\u001b[49m\u001b[38;5;241;43m=\u001b[39;49m\u001b[38;5;28;43mself\u001b[39;49m\u001b[38;5;241;43m.\u001b[39;49m\u001b[43m_photon_channels\u001b[49m\u001b[43m,\u001b[49m\n\u001b[1;32m    124\u001b[0m \u001b[43m                                           \u001b[49m\u001b[43mphase\u001b[49m\u001b[38;5;241;43m=\u001b[39;49m\u001b[38;5;28;43mself\u001b[39;49m\u001b[38;5;241;43m.\u001b[39;49m\u001b[43mphase\u001b[49m\u001b[43m,\u001b[49m\n\u001b[1;32m    125\u001b[0m \u001b[43m                                           \u001b[49m\u001b[43mconfig\u001b[49m\u001b[38;5;241;43m=\u001b[39;49m\u001b[38;5;28;43mself\u001b[39;49m\u001b[38;5;241;43m.\u001b[39;49m\u001b[43mconfig\u001b[49m\u001b[43m,\u001b[49m\n\u001b[1;32m    126\u001b[0m \u001b[43m                                           \u001b[49m\u001b[43mresource\u001b[49m\u001b[38;5;241;43m=\u001b[39;49m\u001b[38;5;28;43mself\u001b[39;49m\u001b[38;5;241;43m.\u001b[39;49m\u001b[43mresource\u001b[49m\u001b[43m,\u001b[49m\u001b[43m)\u001b[49m\n\u001b[1;32m    128\u001b[0m \u001b[38;5;66;03m# Sorting times according to the channel, as non-explicit sorting\u001b[39;00m\n\u001b[1;32m    129\u001b[0m \u001b[38;5;66;03m# is performed later and this breaks timing of individual channels/arrays\u001b[39;00m\n\u001b[1;32m    130\u001b[0m sortind \u001b[38;5;241m=\u001b[39m np\u001b[38;5;241m.\u001b[39margsort(\u001b[38;5;28mself\u001b[39m\u001b[38;5;241m.\u001b[39m_photon_channels)\n",
      "File \u001b[0;32m~/.local/lib/python3.8/site-packages/wfsim/core/s2.py:531\u001b[0m, in \u001b[0;36mS2.photon_timings\u001b[0;34m(positions, n_photons_per_xy, _electron_timings, n_photons_per_ele, _photon_channels, phase, config, resource)\u001b[0m\n\u001b[1;32m    525\u001b[0m     _photon_timings \u001b[38;5;241m=\u001b[39m S2\u001b[38;5;241m.\u001b[39mluminescence_timings_garfield(positions, n_photons_per_xy,\n\u001b[1;32m    526\u001b[0m                                                        config\u001b[38;5;241m=\u001b[39mconfig,\n\u001b[1;32m    527\u001b[0m                                                        resource\u001b[38;5;241m=\u001b[39mresource,\n\u001b[1;32m    528\u001b[0m                                                        confine_position\u001b[38;5;241m=\u001b[39mconfine_position)\n\u001b[1;32m    530\u001b[0m \u001b[38;5;28;01melif\u001b[39;00m config[\u001b[38;5;124m'\u001b[39m\u001b[38;5;124ms2_luminescence_model\u001b[39m\u001b[38;5;124m'\u001b[39m]\u001b[38;5;241m==\u001b[39m\u001b[38;5;124m'\u001b[39m\u001b[38;5;124mgarfield_gas_gap\u001b[39m\u001b[38;5;124m'\u001b[39m:\n\u001b[0;32m--> 531\u001b[0m     _photon_timings \u001b[38;5;241m=\u001b[39m \u001b[43mS2\u001b[49m\u001b[38;5;241;43m.\u001b[39;49m\u001b[43mluminescence_timings_garfield_gasgap\u001b[49m\u001b[43m(\u001b[49m\u001b[43mpositions\u001b[49m\u001b[43m,\u001b[49m\u001b[43m \u001b[49m\u001b[43mn_photons_per_xy\u001b[49m\u001b[43m,\u001b[49m\n\u001b[1;32m    532\u001b[0m \u001b[43m                                                              \u001b[49m\u001b[43mresource\u001b[49m\u001b[38;5;241;43m=\u001b[39;49m\u001b[43mresource\u001b[49m\u001b[43m)\u001b[49m\n\u001b[1;32m    533\u001b[0m \u001b[38;5;28;01melse\u001b[39;00m:\n\u001b[1;32m    534\u001b[0m     \u001b[38;5;28;01mraise\u001b[39;00m \u001b[38;5;167;01mKeyError\u001b[39;00m(\u001b[38;5;124mf\u001b[39m\u001b[38;5;124m\"\u001b[39m\u001b[38;5;132;01m{\u001b[39;00mconfig[\u001b[38;5;124m'\u001b[39m\u001b[38;5;124ms2_luminescence_model\u001b[39m\u001b[38;5;124m'\u001b[39m]\u001b[38;5;132;01m}\u001b[39;00m\u001b[38;5;124m is not valid! Use \u001b[39m\u001b[38;5;124m'\u001b[39m\u001b[38;5;124msimple\u001b[39m\u001b[38;5;124m'\u001b[39m\u001b[38;5;124m or \u001b[39m\u001b[38;5;124m'\u001b[39m\u001b[38;5;124mgarfield\u001b[39m\u001b[38;5;124m'\u001b[39m\u001b[38;5;124m or \u001b[39m\u001b[38;5;124m'\u001b[39m\u001b[38;5;124mgarfield_gas_gap\u001b[39m\u001b[38;5;124m'\u001b[39m\u001b[38;5;124m\"\u001b[39m)\n",
      "File \u001b[0;32m~/.local/lib/python3.8/site-packages/wfsim/core/s2.py:477\u001b[0m, in \u001b[0;36mS2.luminescence_timings_garfield_gasgap\u001b[0;34m(xy, n_photons, resource)\u001b[0m\n\u001b[1;32m    474\u001b[0m draw_index \u001b[38;5;241m=\u001b[39m np\u001b[38;5;241m.\u001b[39mdigitize(cont_gas_gaps, resource\u001b[38;5;241m.\u001b[39ms2_luminescence_gg[\u001b[38;5;124m'\u001b[39m\u001b[38;5;124mgas_gap\u001b[39m\u001b[38;5;124m'\u001b[39m])\u001b[38;5;241m-\u001b[39m\u001b[38;5;241m1\u001b[39m\n\u001b[1;32m    475\u001b[0m diff_nearest_gg \u001b[38;5;241m=\u001b[39m cont_gas_gaps \u001b[38;5;241m-\u001b[39m resource\u001b[38;5;241m.\u001b[39ms2_luminescence_gg[\u001b[38;5;124m'\u001b[39m\u001b[38;5;124mgas_gap\u001b[39m\u001b[38;5;124m'\u001b[39m][draw_index]\n\u001b[0;32m--> 477\u001b[0m \u001b[38;5;28;01mreturn\u001b[39;00m \u001b[43mS2\u001b[49m\u001b[38;5;241;43m.\u001b[39;49m\u001b[43mdraw_excitation_times\u001b[49m\u001b[43m(\u001b[49m\u001b[43mresource\u001b[49m\u001b[38;5;241;43m.\u001b[39;49m\u001b[43ms2_luminescence_gg\u001b[49m\u001b[43m[\u001b[49m\u001b[38;5;124;43m'\u001b[39;49m\u001b[38;5;124;43mtiming_inv_cdf\u001b[39;49m\u001b[38;5;124;43m'\u001b[39;49m\u001b[43m]\u001b[49m\u001b[43m,\u001b[49m\n\u001b[1;32m    478\u001b[0m \u001b[43m                                \u001b[49m\u001b[43mdraw_index\u001b[49m\u001b[43m,\u001b[49m\n\u001b[1;32m    479\u001b[0m \u001b[43m                                \u001b[49m\u001b[43mn_photons\u001b[49m\u001b[43m,\u001b[49m\n\u001b[1;32m    480\u001b[0m \u001b[43m                                \u001b[49m\u001b[43mdiff_nearest_gg\u001b[49m\u001b[43m,\u001b[49m\n\u001b[1;32m    481\u001b[0m \u001b[43m                                \u001b[49m\u001b[43md_gasgap\u001b[49m\u001b[43m)\u001b[49m\n",
      "File \u001b[0;32m~/.local/lib/python3.8/site-packages/numba/core/dispatcher.py:415\u001b[0m, in \u001b[0;36m_DispatcherBase._compile_for_args\u001b[0;34m(self, *args, **kws)\u001b[0m\n\u001b[1;32m    409\u001b[0m         msg \u001b[38;5;241m=\u001b[39m \u001b[38;5;28mstr\u001b[39m(e)\u001b[38;5;241m.\u001b[39mrstrip() \u001b[38;5;241m+\u001b[39m (\n\u001b[1;32m    410\u001b[0m             \u001b[38;5;124m\"\u001b[39m\u001b[38;5;130;01m\\n\u001b[39;00m\u001b[38;5;130;01m\\n\u001b[39;00m\u001b[38;5;124mThis error may have been caused by the following argument(s):\u001b[39m\u001b[38;5;130;01m\\n\u001b[39;00m\u001b[38;5;132;01m%s\u001b[39;00m\u001b[38;5;130;01m\\n\u001b[39;00m\u001b[38;5;124m\"\u001b[39m\n\u001b[1;32m    411\u001b[0m             \u001b[38;5;241m%\u001b[39m \u001b[38;5;124m\"\u001b[39m\u001b[38;5;130;01m\\n\u001b[39;00m\u001b[38;5;124m\"\u001b[39m\u001b[38;5;241m.\u001b[39mjoin(\u001b[38;5;124m\"\u001b[39m\u001b[38;5;124m- argument \u001b[39m\u001b[38;5;132;01m%d\u001b[39;00m\u001b[38;5;124m: \u001b[39m\u001b[38;5;132;01m%s\u001b[39;00m\u001b[38;5;124m\"\u001b[39m \u001b[38;5;241m%\u001b[39m (i, err)\n\u001b[1;32m    412\u001b[0m                         \u001b[38;5;28;01mfor\u001b[39;00m i, err \u001b[38;5;129;01min\u001b[39;00m failed_args))\n\u001b[1;32m    413\u001b[0m         e\u001b[38;5;241m.\u001b[39mpatch_message(msg)\n\u001b[0;32m--> 415\u001b[0m     \u001b[43merror_rewrite\u001b[49m\u001b[43m(\u001b[49m\u001b[43me\u001b[49m\u001b[43m,\u001b[49m\u001b[43m \u001b[49m\u001b[38;5;124;43m'\u001b[39;49m\u001b[38;5;124;43mtyping\u001b[39;49m\u001b[38;5;124;43m'\u001b[39;49m\u001b[43m)\u001b[49m\n\u001b[1;32m    416\u001b[0m \u001b[38;5;28;01mexcept\u001b[39;00m errors\u001b[38;5;241m.\u001b[39mUnsupportedError \u001b[38;5;28;01mas\u001b[39;00m e:\n\u001b[1;32m    417\u001b[0m     \u001b[38;5;66;03m# Something unsupported is present in the user code, add help info\u001b[39;00m\n\u001b[1;32m    418\u001b[0m     error_rewrite(e, \u001b[38;5;124m'\u001b[39m\u001b[38;5;124munsupported_error\u001b[39m\u001b[38;5;124m'\u001b[39m)\n",
      "File \u001b[0;32m~/.local/lib/python3.8/site-packages/numba/core/dispatcher.py:358\u001b[0m, in \u001b[0;36m_DispatcherBase._compile_for_args.<locals>.error_rewrite\u001b[0;34m(e, issue_type)\u001b[0m\n\u001b[1;32m    356\u001b[0m     \u001b[38;5;28;01mraise\u001b[39;00m e\n\u001b[1;32m    357\u001b[0m \u001b[38;5;28;01melse\u001b[39;00m:\n\u001b[0;32m--> 358\u001b[0m     \u001b[43mreraise\u001b[49m\u001b[43m(\u001b[49m\u001b[38;5;28;43mtype\u001b[39;49m\u001b[43m(\u001b[49m\u001b[43me\u001b[49m\u001b[43m)\u001b[49m\u001b[43m,\u001b[49m\u001b[43m \u001b[49m\u001b[43me\u001b[49m\u001b[43m,\u001b[49m\u001b[43m \u001b[49m\u001b[38;5;28;43;01mNone\u001b[39;49;00m\u001b[43m)\u001b[49m\n",
      "File \u001b[0;32m~/.local/lib/python3.8/site-packages/numba/core/utils.py:80\u001b[0m, in \u001b[0;36mreraise\u001b[0;34m(tp, value, tb)\u001b[0m\n\u001b[1;32m     78\u001b[0m     value \u001b[38;5;241m=\u001b[39m tp()\n\u001b[1;32m     79\u001b[0m \u001b[38;5;28;01mif\u001b[39;00m value\u001b[38;5;241m.\u001b[39m__traceback__ \u001b[38;5;129;01mis\u001b[39;00m \u001b[38;5;129;01mnot\u001b[39;00m tb:\n\u001b[0;32m---> 80\u001b[0m     \u001b[38;5;28;01mraise\u001b[39;00m value\u001b[38;5;241m.\u001b[39mwith_traceback(tb)\n\u001b[1;32m     81\u001b[0m \u001b[38;5;28;01mraise\u001b[39;00m value\n",
      "\u001b[0;31mTypingError\u001b[0m: Failed in nopython mode pipeline (step: nopython frontend)\n\u001b[1m\u001b[1mUse of unsupported NumPy function 'numpy.clip' or unsupported use of the function.\n\u001b[1m\nFile \"../.local/lib/python3.8/site-packages/wfsim/core/s2.py\", line 430:\u001b[0m\n\u001b[1m    def draw_excitation_times(inv_cdf_list, hist_indices, nph, diff_nearest_gg, d_gas_gap):\n        <source elided>\n        timings = np.zeros(np.sum(nph))\n\u001b[1m        upper_hist_ind = np.clip(hist_indices+1, 0, len(inv_cdf_list)-1)\n\u001b[0m        \u001b[1m^\u001b[0m\u001b[0m\n\u001b[0m\n\u001b[0m\u001b[1mDuring: typing of get attribute at /home/luissanchez25/.local/lib/python3.8/site-packages/wfsim/core/s2.py (430)\u001b[0m\n\u001b[1m\nFile \"../.local/lib/python3.8/site-packages/wfsim/core/s2.py\", line 430:\u001b[0m\n\u001b[1m    def draw_excitation_times(inv_cdf_list, hist_indices, nph, diff_nearest_gg, d_gas_gap):\n        <source elided>\n        timings = np.zeros(np.sum(nph))\n\u001b[1m        upper_hist_ind = np.clip(hist_indices+1, 0, len(inv_cdf_list)-1)\n\u001b[0m        \u001b[1m^\u001b[0m\u001b[0m\n"
     ]
    }
   ],
   "source": [
    "truth = st.get_array(run_id,'truth')"
   ]
  },
  {
   "cell_type": "code",
   "execution_count": 76,
   "id": "b9f33037-dd9f-4b9f-85c9-7137301efcf2",
   "metadata": {},
   "outputs": [
    {
     "name": "stderr",
     "output_type": "stream",
     "text": [
      "WARNING:strax:Option gain_model_nv not taken by any registered plugin\n",
      "WARNING:strax:Option gain_model_mv not taken by any registered plugin\n",
      "WARNING:strax:Option s1_model_type not taken by any registered plugin\n",
      "WARNING:strax:Option s2_time_model not taken by any registered plugin\n",
      "WARNING:strax:Option s2_luminescence_model not taken by any registered plugin\n",
      "WARNING:strax:Option s2_garfield_confine_position not taken by any registered plugin\n",
      "WARNING:strax:Option se_gain_from_map not taken by any registered plugin\n",
      "WARNING:strax:Option ext_eff_from_map not taken by any registered plugin\n",
      "WARNING:strax:Option enable_gas_gap_warping not taken by any registered plugin\n",
      "WARNING:strax:Option enable_pmt_afterpulses not taken by any registered plugin\n",
      "WARNING:strax:Option enable_electron_afterpulses not taken by any registered plugin\n",
      "WARNING:strax:Option enable_noise not taken by any registered plugin\n",
      "WARNING:strax:Option field_distortion_on not taken by any registered plugin\n",
      "WARNING:strax:Option field_distortion_model not taken by any registered plugin\n",
      "WARNING:strax:Option enable_field_dependencies not taken by any registered plugin\n",
      "WARNING:strax:Option url_base not taken by any registered plugin\n",
      "WARNING:strax:Option photon_area_distribution not taken by any registered plugin\n",
      "WARNING:strax:Option s1_pattern_map not taken by any registered plugin\n",
      "WARNING:strax:Option s2_pattern_map not taken by any registered plugin\n",
      "WARNING:strax:Option s1_lce_correction_map not taken by any registered plugin\n",
      "WARNING:strax:Option s2_correction_map not taken by any registered plugin\n",
      "WARNING:strax:Option se_gain_map not taken by any registered plugin\n",
      "WARNING:strax:Option s1_time_spline not taken by any registered plugin\n",
      "WARNING:strax:Option s2_time_spline not taken by any registered plugin\n",
      "WARNING:strax:Option s2_luminescence_gg not taken by any registered plugin\n",
      "WARNING:strax:Option s2_luminescence not taken by any registered plugin\n",
      "WARNING:strax:Option gas_gap_map not taken by any registered plugin\n",
      "WARNING:strax:Option garfield_gas_gap_map not taken by any registered plugin\n",
      "WARNING:strax:Option field_dependencies_map not taken by any registered plugin\n",
      "WARNING:strax:Option field_distortion_comsol_map not taken by any registered plugin\n",
      "WARNING:strax:Option diffusion_longitudinal_map not taken by any registered plugin\n",
      "WARNING:strax:Option photon_ap_cdfs not taken by any registered plugin\n",
      "WARNING:strax:Option noise_file not taken by any registered plugin\n",
      "WARNING:strax:Option temperature not taken by any registered plugin\n",
      "WARNING:strax:Option pressure not taken by any registered plugin\n",
      "WARNING:strax:Option lxe_dielectric_constant not taken by any registered plugin\n",
      "WARNING:strax:Option tpc_length not taken by any registered plugin\n",
      "WARNING:strax:Option tpc_radius not taken by any registered plugin\n",
      "WARNING:strax:Option anode_wire_radius not taken by any registered plugin\n",
      "WARNING:strax:Option anode_field_domination_distance not taken by any registered plugin\n",
      "WARNING:strax:Option elr_gas_gap_length not taken by any registered plugin\n",
      "WARNING:strax:Option gate_to_anode_distance not taken by any registered plugin\n",
      "WARNING:strax:Option drift_field not taken by any registered plugin\n",
      "WARNING:strax:Option anode_voltage not taken by any registered plugin\n",
      "WARNING:strax:Option diffusion_constant_longitudinal not taken by any registered plugin\n",
      "WARNING:strax:Option diffusion_constant_transverse not taken by any registered plugin\n",
      "WARNING:strax:Option drift_time_gate not taken by any registered plugin\n",
      "WARNING:strax:Option drift_velocity_liquid not taken by any registered plugin\n",
      "WARNING:strax:Option singlet_fraction_gas not taken by any registered plugin\n",
      "WARNING:strax:Option singlet_lifetime_gas not taken by any registered plugin\n",
      "WARNING:strax:Option singlet_lifetime_liquid not taken by any registered plugin\n",
      "WARNING:strax:Option triplet_lifetime_gas not taken by any registered plugin\n",
      "WARNING:strax:Option triplet_lifetime_liquid not taken by any registered plugin\n",
      "WARNING:strax:Option s1_ER_alpha_singlet_fraction not taken by any registered plugin\n",
      "WARNING:strax:Option s1_ER_primary_singlet_fraction not taken by any registered plugin\n",
      "WARNING:strax:Option s1_ER_recombination_fraction not taken by any registered plugin\n",
      "WARNING:strax:Option s1_ER_recombination_time not taken by any registered plugin\n",
      "WARNING:strax:Option s1_ER_secondary_singlet_fraction not taken by any registered plugin\n",
      "WARNING:strax:Option s1_NR_singlet_fraction not taken by any registered plugin\n",
      "WARNING:strax:Option maximum_recombination_time not taken by any registered plugin\n",
      "WARNING:strax:Option override_s1_photon_time_field not taken by any registered plugin\n",
      "WARNING:strax:Option s1_decay_spread not taken by any registered plugin\n",
      "WARNING:strax:Option s1_decay_time not taken by any registered plugin\n",
      "WARNING:strax:Option s1_detection_efficiency not taken by any registered plugin\n",
      "WARNING:strax:Option s2_mean_area_fraction_top not taken by any registered plugin\n",
      "WARNING:strax:Option s2_aft_sigma not taken by any registered plugin\n",
      "WARNING:strax:Option s2_aft_skewness not taken by any registered plugin\n",
      "WARNING:strax:Option s2_secondary_sc_gain not taken by any registered plugin\n",
      "WARNING:strax:Option s2_time_spread not taken by any registered plugin\n",
      "WARNING:strax:Option electron_extraction_yield not taken by any registered plugin\n",
      "WARNING:strax:Option electron_lifetime_liquid not taken by any registered plugin\n",
      "WARNING:strax:Option electron_trapping_time not taken by any registered plugin\n",
      "WARNING:strax:Option gas_drift_velocity_slope not taken by any registered plugin\n",
      "WARNING:strax:Option g2_mean not taken by any registered plugin\n",
      "WARNING:strax:Option p_double_pe_emision not taken by any registered plugin\n",
      "WARNING:strax:Option pe_pulse_ts not taken by any registered plugin\n",
      "WARNING:strax:Option pe_pulse_ys not taken by any registered plugin\n",
      "WARNING:strax:Option pmt_ap_modifier not taken by any registered plugin\n",
      "WARNING:strax:Option pmt_ap_t_modifier not taken by any registered plugin\n",
      "WARNING:strax:Option pmt_pulse_time_rounding not taken by any registered plugin\n",
      "WARNING:strax:Option pmt_transit_time_mean not taken by any registered plugin\n",
      "WARNING:strax:Option pmt_transit_time_spread not taken by any registered plugin\n",
      "WARNING:strax:Option photoelectric_modifier not taken by any registered plugin\n",
      "WARNING:strax:Option photoelectric_p not taken by any registered plugin\n",
      "WARNING:strax:Option photoelectric_t_center not taken by any registered plugin\n",
      "WARNING:strax:Option photoelectric_t_spread not taken by any registered plugin\n",
      "WARNING:strax:Option photoionization_modifier not taken by any registered plugin\n",
      "WARNING:strax:Option sample_duration not taken by any registered plugin\n",
      "WARNING:strax:Option samples_after_pulse_center not taken by any registered plugin\n",
      "WARNING:strax:Option samples_before_pulse_center not taken by any registered plugin\n",
      "WARNING:strax:Option samples_to_store_after not taken by any registered plugin\n",
      "WARNING:strax:Option samples_to_store_before not taken by any registered plugin\n",
      "WARNING:strax:Option pmt_circuit_load_resistor not taken by any registered plugin\n",
      "WARNING:strax:Option external_amplification not taken by any registered plugin\n",
      "WARNING:strax:Option high_energy_deamplification_factor not taken by any registered plugin\n",
      "WARNING:strax:Option trigger_window not taken by any registered plugin\n",
      "WARNING:strax:Option digitizer_bits not taken by any registered plugin\n",
      "WARNING:strax:Option digitizer_reference_baseline not taken by any registered plugin\n",
      "WARNING:strax:Option digitizer_voltage_range not taken by any registered plugin\n",
      "WARNING:strax:Option special_thresholds not taken by any registered plugin\n",
      "WARNING:strax:Option zle_threshold not taken by any registered plugin\n",
      "WARNING:strax:Option nchunk not taken by any registered plugin\n",
      "WARNING:strax:Option tpc_z not taken by any registered plugin\n"
     ]
    },
    {
     "name": "stdout",
     "output_type": "stream",
     "text": [
      "Removing old incomplete data in ./strax_data/1-pulse_counts-uhyfnrqqxz\n",
      "Removing old incomplete data in ./strax_data/1-lone_hits-mogktas274\n",
      "Removing old incomplete data in ./strax_data/1-peaklets-mogktas274\n",
      "Removing old incomplete data in ./strax_data/1-peaklet_classification-calfzj67dk\n",
      "Removing old incomplete data in ./strax_data/1-merged_s2s-ltldehur6m\n"
     ]
    },
    {
     "data": {
      "application/vnd.jupyter.widget-view+json": {
       "model_id": "d635fd4737d147849061cd18e084e37e",
       "version_major": 2,
       "version_minor": 0
      },
      "text/plain": [
       "HBox(children=(FloatProgress(value=0.0, description='Loading peak_basics', max=1.0, style=ProgressStyle(descri…"
      ]
     },
     "metadata": {},
     "output_type": "display_data"
    },
    {
     "name": "stdout",
     "output_type": "stream",
     "text": [
      "\n"
     ]
    }
   ],
   "source": [
    "peak_basics = st.get_array(run_id,'peak_basics')"
   ]
  },
  {
   "cell_type": "code",
   "execution_count": null,
   "id": "3685c51d-ded7-46f9-929f-9df2fc1c127c",
   "metadata": {},
   "outputs": [],
   "source": [
    "peaks = st.get_array(run_id,'peaks')"
   ]
  },
  {
   "cell_type": "code",
   "execution_count": 78,
   "id": "23b5049b-ec01-4a63-b21d-e89f3f9c43b4",
   "metadata": {},
   "outputs": [
    {
     "data": {
      "text/plain": [
       "(1, 100000)"
      ]
     },
     "execution_count": 78,
     "metadata": {},
     "output_type": "execute_result"
    },
    {
     "data": {
      "image/png": "[encoded data removed]",
      "text/plain": [
       "<Figure size 432x324 with 1 Axes>"
      ]
     },
     "metadata": {
      "needs_background": "light"
     },
     "output_type": "display_data"
    }
   ],
   "source": [
    "fig = plt.figure(figsize=(6,4.5))\n",
    "\n",
    "plt.scatter(peak_basics['area'], \n",
    "            peak_basics['rise_time'], \n",
    "            s=0.1, alpha = 0.5, color = 'green')\n",
    "#plt.scatter(kr_pb_array['area'][kr_pb_array['type'] == 1], kr_pb_array['rise_time'][kr_pb_array['type'] == 1], s=0.1, color = 'blue')\n",
    "plt.xscale('log')\n",
    "plt.yscale('log')\n",
    "plt.xlabel('Area [PE]')\n",
    "plt.ylabel('Rise Time [ns]')\n",
    "plt.xlim(1,1000000)\n",
    "plt.ylim(1,100000)"
   ]
  },
  {
   "cell_type": "code",
   "execution_count": 28,
   "id": "fe5720a9-6b18-4e23-85d1-79a4020b71c3",
   "metadata": {},
   "outputs": [],
   "source": [
    "se_data = np.load('/home/napoliion/luis_wfsim/runid7_SE_wfsim_peak_basics.npy')"
   ]
  },
  {
   "cell_type": "code",
   "execution_count": 32,
   "id": "c0c0a928-7ec7-49d5-b8bb-53502eb09280",
   "metadata": {},
   "outputs": [],
   "source": [
    "kr_data = np.load('/home/napoliion/luis_wfsim/runid8_Kr_wfsim_peak_basics.npy')"
   ]
  },
  {
   "cell_type": "code",
   "execution_count": 22,
   "id": "e3d75d4d-bc55-4db1-b2cd-15f52a21914f",
   "metadata": {},
   "outputs": [],
   "source": [
    "ar_data = np.load('/home/napoliion/luis_wfsim/runid6_Ar37_S1_wfsim_peak_basics.npy')"
   ]
  },
  {
   "cell_type": "code",
   "execution_count": 24,
   "id": "4ef124bd-339e-4c34-b697-120e23299610",
   "metadata": {},
   "outputs": [],
   "source": [
    "ar_truth = np.load('/home/napoliion/luis_wfsim/runid6_Ar37_S1_wfsim_truth.npy')"
   ]
  },
  {
   "cell_type": "code",
   "execution_count": 26,
   "id": "ac773947-95f7-4d38-856a-c1eb4f2698ea",
   "metadata": {},
   "outputs": [],
   "source": [
    "#ar_truth"
   ]
  },
  {
   "cell_type": "code",
   "execution_count": 29,
   "id": "93e3f082-77ff-4494-818a-a0dae2afe63a",
   "metadata": {},
   "outputs": [
    {
     "data": {
      "text/plain": [
       "2066"
      ]
     },
     "execution_count": 29,
     "metadata": {},
     "output_type": "execute_result"
    }
   ],
   "source": [
    "len(se_data)"
   ]
  },
  {
   "cell_type": "code",
   "execution_count": 33,
   "id": "df76d47b-e17a-4633-acf6-5b525ff6b514",
   "metadata": {},
   "outputs": [
    {
     "data": {
      "text/plain": [
       "(1, 100000)"
      ]
     },
     "execution_count": 33,
     "metadata": {},
     "output_type": "execute_result"
    },
    {
     "data": {
      "image/png": "[encoded data removed]",
      "text/plain": [
       "<Figure size 432x324 with 1 Axes>"
      ]
     },
     "metadata": {
      "needs_background": "light"
     },
     "output_type": "display_data"
    }
   ],
   "source": [
    "fig = plt.figure(figsize=(6,4.5))\n",
    "\n",
    "plt.scatter(kr_data['area'], \n",
    "            kr_data['rise_time'], \n",
    "            s=1, alpha = 0.5, color = 'green')\n",
    "#plt.scatter(kr_pb_array['area'][kr_pb_array['type'] == 1], kr_pb_array['rise_time'][kr_pb_array['type'] == 1], s=0.1, color = 'blue')\n",
    "plt.xscale('log')\n",
    "plt.yscale('log')\n",
    "plt.xlabel('Area [PE]')\n",
    "plt.ylabel('Rise Time [ns]')\n",
    "plt.xlim(1,1000000)\n",
    "plt.ylim(1,100000)"
   ]
  },
  {
   "cell_type": "code",
   "execution_count": 71,
   "id": "7d9a1446-2448-4713-9e8a-838b7ca6d5d4",
   "metadata": {},
   "outputs": [
    {
     "data": {
      "text/plain": [
       "479"
      ]
     },
     "execution_count": 71,
     "metadata": {},
     "output_type": "execute_result"
    }
   ],
   "source": [
    "len(se_data)"
   ]
  },
  {
   "cell_type": "code",
   "execution_count": 31,
   "id": "700fa6b4-7cde-4352-9883-dae7d98d9e24",
   "metadata": {},
   "outputs": [
    {
     "data": {
      "text/plain": [
       "(1, 100000)"
      ]
     },
     "execution_count": 31,
     "metadata": {},
     "output_type": "execute_result"
    },
    {
     "data": {
      "image/png": "[encoded data removed]",
      "text/plain": [
       "<Figure size 432x324 with 1 Axes>"
      ]
     },
     "metadata": {
      "needs_background": "light"
     },
     "output_type": "display_data"
    }
   ],
   "source": [
    "fig = plt.figure(figsize=(6,4.5))\n",
    "\n",
    "plt.scatter(se_data['area'][se_data['type'] == 2], \n",
    "            se_data['rise_time'][se_data['type'] == 2], \n",
    "            s=1, alpha = 0.5, color = 'green')\n",
    "plt.scatter(se_data['area'][se_data['type'] == 1], \n",
    "            se_data['rise_time'][se_data['type'] == 1], \n",
    "            s=1, alpha = 0.5, color = 'blue')\n",
    "#plt.scatter(kr_pb_array['area'][kr_pb_array['type'] == 1], kr_pb_array['rise_time'][kr_pb_array['type'] == 1], s=0.1, color = 'blue')\n",
    "plt.xscale('log')\n",
    "plt.yscale('log')\n",
    "plt.xlabel('Area [PE]')\n",
    "plt.ylabel('Rise Time [ns]')\n",
    "plt.xlim(1,1000000)\n",
    "plt.ylim(1,100000)"
   ]
  },
  {
   "cell_type": "code",
   "execution_count": 22,
   "id": "0106c66c-fa7f-414b-a2a4-11290982a5ab",
   "metadata": {},
   "outputs": [
    {
     "data": {
      "text/plain": [
       "(1, 100000)"
      ]
     },
     "execution_count": 22,
     "metadata": {},
     "output_type": "execute_result"
    },
    {
     "data": {
      "image/png": "[encoded data removed]",
      "text/plain": [
       "<Figure size 432x324 with 1 Axes>"
      ]
     },
     "metadata": {
      "needs_background": "light"
     },
     "output_type": "display_data"
    }
   ],
   "source": [
    "fig = plt.figure(figsize=(6,4.5))\n",
    "\n",
    "plt.scatter(ar_data['area'][ar_data['type'] == 2], \n",
    "            ar_data['rise_time'][ar_data['type'] == 2], \n",
    "            s=1, alpha = 0.5, color = 'green')\n",
    "plt.scatter(ar_data['area'][ar_data['type'] == 1], \n",
    "            ar_data['rise_time'][ar_data['type'] == 1], \n",
    "            s=1, alpha = 0.5, color = 'blue')\n",
    "#plt.scatter(kr_pb_array['area'][kr_pb_array['type'] == 1], kr_pb_array['rise_time'][kr_pb_array['type'] == 1], s=0.1, color = 'blue')\n",
    "plt.xscale('log')\n",
    "plt.yscale('log')\n",
    "plt.xlabel('Area [PE]')\n",
    "plt.ylabel('Rise Time [ns]')\n",
    "plt.xlim(1,1000000)\n",
    "plt.ylim(1,100000)"
   ]
  },
  {
   "cell_type": "code",
   "execution_count": 37,
   "id": "7e4c26d0-30e3-4103-8066-ee7b1c083b39",
   "metadata": {},
   "outputs": [],
   "source": [
    "def MatchedPeaks(peaks, truth):\n",
    "    #depends_on = ('peak_basics', 'truth')\n",
    "    #provides = 'matched_peaks'\n",
    "    #__version__ = '0.0.2'\n",
    "\n",
    "    def compute(peaks, truth):\n",
    "        result = np.zeros(len(truth), dtype = [('time', np.int),\n",
    "             ('endtime', np.int),\n",
    "             ('area', np.int),\n",
    "             ('n_photon', np.int)])\n",
    "\n",
    "        temp = strax.touching_windows(peaks, truth)\n",
    "        idx_truth = []\n",
    "        idx_peak = []\n",
    "        for ix, (l, r) in enumerate(temp):\n",
    "            res = result[ix]\n",
    "            result['time'] = truth['time'][ix]\n",
    "            result['endtime'] = strax.endtime(truth)[ix]\n",
    "            result['n_photon'] = truth['n_photon'][ix]\n",
    "\n",
    "            if r > l:\n",
    "                i_peak = l+np.argmax(peaks['area'][l:r])\n",
    "                result['area'] = peaks['area'][i_peak]\n",
    "\n",
    "        return result"
   ]
  },
  {
   "cell_type": "code",
   "execution_count": 42,
   "id": "fcb499e7-39b0-466e-b018-52cbff441b74",
   "metadata": {},
   "outputs": [
    {
     "name": "stderr",
     "output_type": "stream",
     "text": [
      "/tmp/ipykernel_36983/2701866834.py:4: DeprecationWarning: `np.int` is a deprecated alias for the builtin `int`. To silence this warning, use `int` by itself. Doing this will not modify any behavior and is safe. When replacing `np.int`, you may wish to use e.g. `np.int64` or `np.int32` to specify the precision. If you wish to review your current use, check the release note link for additional information.\n",
      "Deprecated in NumPy 1.20; for more details and guidance: https://numpy.org/devdocs/release/1.20.0-notes.html#deprecations\n",
      "  result = np.zeros(len(truth), dtype = [('time', np.int),\n",
      "/tmp/ipykernel_36983/2701866834.py:5: DeprecationWarning: `np.int` is a deprecated alias for the builtin `int`. To silence this warning, use `int` by itself. Doing this will not modify any behavior and is safe. When replacing `np.int`, you may wish to use e.g. `np.int64` or `np.int32` to specify the precision. If you wish to review your current use, check the release note link for additional information.\n",
      "Deprecated in NumPy 1.20; for more details and guidance: https://numpy.org/devdocs/release/1.20.0-notes.html#deprecations\n",
      "  ('endtime', np.int),\n",
      "/tmp/ipykernel_36983/2701866834.py:6: DeprecationWarning: `np.int` is a deprecated alias for the builtin `int`. To silence this warning, use `int` by itself. Doing this will not modify any behavior and is safe. When replacing `np.int`, you may wish to use e.g. `np.int64` or `np.int32` to specify the precision. If you wish to review your current use, check the release note link for additional information.\n",
      "Deprecated in NumPy 1.20; for more details and guidance: https://numpy.org/devdocs/release/1.20.0-notes.html#deprecations\n",
      "  ('area', np.int)])\n"
     ]
    }
   ],
   "source": [
    "store_tw = strax.touching_windows(ar_data, ar_truth)\n",
    "truth = ar_truth\n",
    "peaks = ar_data\n",
    "result = np.zeros(len(truth), dtype = [('time', np.int),\n",
    "             ('endtime', np.int),\n",
    "             ('area', np.int)])\n",
    "\n",
    "temp = store_tw\n",
    "idx_truth = []\n",
    "idx_peak = []\n",
    "for ix, (l, r) in enumerate(temp):\n",
    "    result['time'] = truth['time'][ix]\n",
    "    result['endtime'] = strax.endtime(truth)[ix]\n",
    "    #result['n_photon'] = truth['n_photon'][ix]\n",
    "\n",
    "    if r > l:\n",
    "        i_peak = l+np.argmax(peaks['area'][l:r])\n",
    "        #result['area'] = peaks['area'][i_peak]"
   ]
  },
  {
   "cell_type": "code",
   "execution_count": 36,
   "id": "3b7fd476-21d7-4625-8580-0daec5a0861e",
   "metadata": {},
   "outputs": [
    {
     "data": {
      "text/plain": [
       "array([[   0,    0],\n",
       "       [   0,    1],\n",
       "       [   1,    1],\n",
       "       ...,\n",
       "       [5494, 5495],\n",
       "       [5495, 5495],\n",
       "       [5495, 5496]], dtype=int32)"
      ]
     },
     "execution_count": 36,
     "metadata": {},
     "output_type": "execute_result"
    }
   ],
   "source": [
    "store_tw"
   ]
  },
  {
   "cell_type": "code",
   "execution_count": 38,
   "id": "f61a5a17-8a12-47ba-902d-47f6a8fd5c53",
   "metadata": {},
   "outputs": [],
   "source": [
    "results = MatchedPeaks(ar_data, ar_truth)"
   ]
  },
  {
   "cell_type": "code",
   "execution_count": 34,
   "id": "c1927197-3137-4926-a796-e6c882b85afc",
   "metadata": {},
   "outputs": [],
   "source": [
    "results"
   ]
  },
  {
   "cell_type": "code",
   "execution_count": null,
   "id": "86ed3bef-fb13-4e49-bc7f-d072415c0170",
   "metadata": {},
   "outputs": [],
   "source": []
  }
 ],
 "metadata": {
  "kernelspec": {
   "display_name": "Python [conda env:strax]",
   "language": "python",
   "name": "conda-env-strax-py"
  },
  "language_info": {
   "codemirror_mode": {
    "name": "ipython",
    "version": 3
   },
   "file_extension": ".py",
   "mimetype": "text/x-python",
   "name": "python",
   "nbconvert_exporter": "python",
   "pygments_lexer": "ipython3",
   "version": "3.8.13"
  }
 },
 "nbformat": 4,
 "nbformat_minor": 5
}
