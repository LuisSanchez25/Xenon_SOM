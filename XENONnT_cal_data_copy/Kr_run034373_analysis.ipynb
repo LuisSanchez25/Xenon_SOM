{
 "cells": [
  {
   "cell_type": "markdown",
   "id": "4a96b7d2-7167-454e-8ada-80af2e52b08e",
   "metadata": {},
   "source": [
    "This code will simply be loading up the data and creating a few different labels for such data as well as the analysis of the different clusters, will try to keep the plotting separate"
   ]
  },
  {
   "cell_type": "code",
   "execution_count": null,
   "id": "ec595560-5b0b-4ef5-852c-09f75cdbe50e",
   "metadata": {},
   "outputs": [],
   "source": [
    "import strax \n",
    "import straxen \n",
    "import numpy as np\n",
    "import matplotlib.pyplot as plt\n",
    "import cutax\n",
    "import pandas as pd"
   ]
  },
  {
   "cell_type": "code",
   "execution_count": null,
   "id": "060027d0-2f45-4622-8ab9-f1a284190609",
   "metadata": {},
   "outputs": [],
   "source": [
    "straxen.pmt_positions()"
   ]
  },
  {
   "cell_type": "code",
   "execution_count": null,
   "id": "d7cedf72-32db-4768-832d-2e2159b80e82",
   "metadata": {},
   "outputs": [],
   "source": [
    "import xedocs as xd"
   ]
  },
  {
   "cell_type": "code",
   "execution_count": null,
   "id": "9b52dcd0-7129-4b75-834a-c267ec1b4cfb",
   "metadata": {},
   "outputs": [],
   "source": [
    "st = cutax.contexts.xenonnt_offline()"
   ]
  },
  {
   "cell_type": "code",
   "execution_count": null,
   "id": "9a31f93d-fe14-4915-bdbc-b904a60581ad",
   "metadata": {},
   "outputs": [],
   "source": [
    "data_indecies = np.load('./saved_data/kr_clean_data_index_034373.npz')['arr_0']"
   ]
  },
  {
   "cell_type": "code",
   "execution_count": null,
   "id": "dfdb316d-fc3e-4f87-84e4-d3208a3e89ef",
   "metadata": {},
   "outputs": [],
   "source": [
    "data_indecies"
   ]
  },
  {
   "cell_type": "code",
   "execution_count": null,
   "id": "14048492-cbe4-4e18-9df1-cd9a6144531b",
   "metadata": {},
   "outputs": [],
   "source": [
    "data_index = np.load('./saved_data/data_indecies_info.npz')['arr_0']"
   ]
  },
  {
   "cell_type": "code",
   "execution_count": null,
   "id": "ccbd7cbc-fd89-4ace-b7db-f3da742a5c2b",
   "metadata": {},
   "outputs": [],
   "source": [
    "data_4_SOM = np.load('./saved_data/cleaned_kr_cal_data_peaks.npz')['arr_0'] #peaks of the data"
   ]
  },
  {
   "cell_type": "code",
   "execution_count": null,
   "id": "3785cb4d-2cd6-4ca3-bf15-7d4ae1a7b7e6",
   "metadata": {},
   "outputs": [],
   "source": [
    "np.shape(data_4_SOM['data'])"
   ]
  },
  {
   "cell_type": "code",
   "execution_count": null,
   "id": "30bdf837-a902-4362-a895-ae9dce6ac367",
   "metadata": {},
   "outputs": [],
   "source": [
    "pb_data = np.load('./saved_data/kr_clean_pb_data_v2.npz')['arr_0']"
   ]
  },
  {
   "cell_type": "code",
   "execution_count": null,
   "id": "4f5cb1b6-5e20-4ba6-a08b-21cf495cb828",
   "metadata": {},
   "outputs": [],
   "source": [
    "len(pb_data)"
   ]
  },
  {
   "cell_type": "code",
   "execution_count": null,
   "id": "c849ca9a-b3d9-4d66-ae2a-36410b3ace24",
   "metadata": {},
   "outputs": [],
   "source": [
    "pb_indecies = np.load('./saved_data/pb_data_indecies.npz')"
   ]
  },
  {
   "cell_type": "code",
   "execution_count": null,
   "id": "4dc8491d-6ef9-42e5-90ea-defb019ae3a3",
   "metadata": {},
   "outputs": [],
   "source": [
    "kr_peaks = st.get_array(run_id='034373', targets='peaks')"
   ]
  },
  {
   "cell_type": "code",
   "execution_count": null,
   "id": "10def867-8568-4c5a-ae51-3d0d8b9bf48f",
   "metadata": {},
   "outputs": [],
   "source": [
    "kr_pb = st.get_array(run_id='034373', targets='peak_basics')"
   ]
  },
  {
   "cell_type": "code",
   "execution_count": null,
   "id": "26754358-a5dd-44d3-8057-4830df9ce32c",
   "metadata": {},
   "outputs": [],
   "source": [
    "kr_pos = st.get_array(run_id='034373', targets='peak_positions_mlp')"
   ]
  },
  {
   "cell_type": "code",
   "execution_count": null,
   "id": "21dfa94c-51fa-4853-ba71-879a7b55f5ca",
   "metadata": {},
   "outputs": [],
   "source": [
    "event_basics = st.get_array(run_id='034373', targets='event_basics')"
   ]
  },
  {
   "cell_type": "code",
   "execution_count": null,
   "id": "bcad8d33-3053-4949-a8d0-58a57b374fc3",
   "metadata": {},
   "outputs": [],
   "source": [
    "data_indecies_ordered = np.load('./saved_data/data_indecies_ordered.npz')['arr_0']"
   ]
  },
  {
   "cell_type": "code",
   "execution_count": null,
   "id": "299f37e2-9a0c-44d6-a3e2-5ed29ed55014",
   "metadata": {},
   "outputs": [],
   "source": [
    "pb_data_indexed = kr_pb[np.sort(filtered_indecies)]\n",
    "#pb_data_indx = pb_data_indexed[np.sort(filtered_indecies)]"
   ]
  },
  {
   "cell_type": "code",
   "execution_count": null,
   "id": "4a1dbef0-c80c-4fe3-b207-a930a1b0fbbd",
   "metadata": {},
   "outputs": [],
   "source": [
    "filtered_positions = kr_pos[data_indecies_ordered]"
   ]
  },
  {
   "cell_type": "code",
   "execution_count": null,
   "id": "e45394d6-bcfd-4662-b812-a84f7d121c46",
   "metadata": {},
   "outputs": [],
   "source": [
    "filtered_peaks = kr_peaks[data_indecies_ordered]"
   ]
  },
  {
   "cell_type": "code",
   "execution_count": null,
   "id": "52162f9f-ab7b-48ae-baf6-933b5b66b31e",
   "metadata": {},
   "outputs": [],
   "source": [
    "filtered_positions['type'] = "
   ]
  },
  {
   "cell_type": "code",
   "execution_count": null,
   "id": "15af106e-ca83-4b0f-8f10-0fb6e46c142b",
   "metadata": {},
   "outputs": [],
   "source": [
    "filtered_positions['x']"
   ]
  },
  {
   "cell_type": "code",
   "execution_count": null,
   "id": "efc2351d-46d9-4e5f-b7e0-288d82aa7608",
   "metadata": {},
   "outputs": [],
   "source": [
    "data_4_SOM.dtype"
   ]
  },
  {
   "cell_type": "code",
   "execution_count": null,
   "id": "7b6219d3-6787-47b7-aeb0-10395b98133c",
   "metadata": {},
   "outputs": [],
   "source": [
    "np.min(data_4_SOM['dt'])"
   ]
  },
  {
   "cell_type": "code",
   "execution_count": null,
   "id": "7245d49f-3ad7-4754-9653-000e363a76fa",
   "metadata": {},
   "outputs": [],
   "source": []
  },
  {
   "cell_type": "code",
   "execution_count": null,
   "id": "9b4c749b-985c-4c99-be20-efb355256154",
   "metadata": {},
   "outputs": [],
   "source": [
    "fig = plt.figure(figsize=(5,3.5))\n",
    "plt.plot(np.arange(200)*data_4_SOM['dt'][7]/1000, data_4_SOM['data'][7]/data_4_SOM['dt'][7], color = 'green')\n",
    "plt.ylabel('Amplitude [# of Photo-electrons / 10 ns]')\n",
    "plt.xlabel('Time [ms]')\n",
    "plt.savefig('figures/Example_s2.png', dpi = 800)"
   ]
  },
  {
   "cell_type": "code",
   "execution_count": null,
   "id": "9cda6c98-ac79-4418-b995-1bdb34269d31",
   "metadata": {},
   "outputs": [],
   "source": [
    "fig = plt.figure(figsize=(5,3.5))\n",
    "plt.plot(np.arange(200)*data_4_SOM['dt'][8]/1000, data_4_SOM['data'][8]/data_4_SOM['dt'][7], color = 'Blue')\n",
    "plt.ylabel('Amplitude [# of Photo-electrons / 10 ns]')\n",
    "plt.xlabel('Time [ms]')\n",
    "plt.savefig('figures/Example_s1.png', dpi = 800)"
   ]
  },
  {
   "cell_type": "code",
   "execution_count": null,
   "id": "42eb1367-e852-4d4f-a74b-eec7fbb37f1c",
   "metadata": {},
   "outputs": [],
   "source": []
  },
  {
   "cell_type": "code",
   "execution_count": null,
   "id": "c735ac12-79d0-4caf-ae30-9285d4d01d92",
   "metadata": {},
   "outputs": [],
   "source": []
  },
  {
   "cell_type": "code",
   "execution_count": null,
   "id": "d33dc040-9c0f-4e05-95cf-01f789b60783",
   "metadata": {},
   "outputs": [],
   "source": [
    "data_4_SOM['dt'][8]"
   ]
  },
  {
   "cell_type": "code",
   "execution_count": null,
   "id": "06d9e381-849e-452d-8e3a-51b718c807e2",
   "metadata": {},
   "outputs": [],
   "source": [
    "plt.plot(data_4_SOM['data'][8])"
   ]
  },
  {
   "cell_type": "code",
   "execution_count": null,
   "id": "756ddbfe-ff7a-4f0a-8f51-00a2fb6eb184",
   "metadata": {},
   "outputs": [],
   "source": [
    "plt.plot(data_4_SOM['data'][12])"
   ]
  },
  {
   "cell_type": "code",
   "execution_count": null,
   "id": "f511549a-631a-4755-b60a-9a9c7ab41c7d",
   "metadata": {},
   "outputs": [],
   "source": [
    "data_4_SOM['dt'][12]"
   ]
  },
  {
   "cell_type": "code",
   "execution_count": null,
   "id": "9602300b-5b9a-4917-a6e6-1f2042dddf01",
   "metadata": {},
   "outputs": [],
   "source": [
    "len(filtered_indecies)"
   ]
  },
  {
   "cell_type": "code",
   "execution_count": null,
   "id": "ef9b1d11-a772-4847-8d19-aaef6b6b4f57",
   "metadata": {},
   "outputs": [],
   "source": [
    "len(pb_data_indexed)"
   ]
  },
  {
   "cell_type": "code",
   "execution_count": null,
   "id": "a55d15b0-c298-4832-9315-0a233c065d14",
   "metadata": {},
   "outputs": [],
   "source": [
    "len(pb_data)"
   ]
  },
  {
   "cell_type": "code",
   "execution_count": null,
   "id": "0448918e-d608-4cd0-a652-a4c225b05f65",
   "metadata": {},
   "outputs": [],
   "source": [
    "kr_peak_basics = st.get_array(run_id='034373', targets='peak_basics')"
   ]
  },
  {
   "cell_type": "code",
   "execution_count": null,
   "id": "94a7b11f-dc02-463b-9129-838a5153e2f4",
   "metadata": {},
   "outputs": [],
   "source": [
    "krpb_wrep = np.load('./saved_data/clean_kr_cal_pb.npz')['arr_0']"
   ]
  },
  {
   "cell_type": "code",
   "execution_count": null,
   "id": "1fead758-2f87-4c7f-bb38-04d69cfe81f6",
   "metadata": {},
   "outputs": [],
   "source": [
    "_,krpb_data_indecies = np.unique(krpb_wrep, return_index=True)"
   ]
  },
  {
   "cell_type": "code",
   "execution_count": null,
   "id": "20c4c004-7ffd-4e49-b0e9-81b19a7d6f44",
   "metadata": {},
   "outputs": [],
   "source": [
    "krpb_non_repeat = krpb_wrep[np.sort(krpb_data_indecies)]"
   ]
  },
  {
   "cell_type": "code",
   "execution_count": null,
   "id": "9eaf3c95-a5f1-4fde-b0a9-5b225d921acf",
   "metadata": {},
   "outputs": [],
   "source": [
    "# Need to get the info from event basics, need to do some time matching to figure out which event is which\n",
    "kr_eb = st.get_array(run_id='034373', targets='event_basics')"
   ]
  },
  {
   "cell_type": "code",
   "execution_count": null,
   "id": "a266fd56-b5c8-400a-a703-8b11ece12a63",
   "metadata": {},
   "outputs": [],
   "source": [
    "kr_eb['s1_time'][1]"
   ]
  },
  {
   "cell_type": "code",
   "execution_count": null,
   "id": "92f218ea-cc22-402b-b3d4-25cf72f1dcfd",
   "metadata": {},
   "outputs": [],
   "source": [
    "krpb_non_repeat[krpb_non_repeat['time'][1] == kr_eb['s1_time']] "
   ]
  },
  {
   "cell_type": "code",
   "execution_count": null,
   "id": "4bbfcbe5-9d0e-423b-bb82-e94818bf1b8c",
   "metadata": {},
   "outputs": [],
   "source": [
    "def match_event_basics_to_data(event_basics, peak_info):\n",
    "    \"\"\"\n",
    "    Feed in event basics and peaks or peaks basics and return the information in peak basics regarding the event.\n",
    "    Note some data will be repreated as every event has multiple peaks.\n",
    "    \"\"\"\n",
    "    # need empty array that I can just put things in\n",
    "    # what if a particular value is never found\n",
    "    eb_info = np.array([])\n",
    "    event_type = np.array([])\n",
    "    nan_array = np.repeat(float(\"nan\"), len(event_basics.dtype))\n",
    "    for jj in np.arange(len(peak_info)):\n",
    "        if any(peak_info['time'][jj] == event_basics['s1_time']): #if the value is an S1\n",
    "            index = int(np.argwhere(peak_info['time'][jj] == event_basics['s1_time']))\n",
    "            eb_info = np.append(eb_info, event_basics[index])\n",
    "            event_type = np.append(eb_info, 0)\n",
    "        elif any(peak_info['time'][jj] == event_basics['alt_s1_time']): #if the value is an S1\n",
    "            index = int(np.argwhere(peak_info['time'][jj] == event_basics['s1_time']))\n",
    "            eb_info = np.append(eb_info, event_basics[index])\n",
    "            event_type = np.append(eb_info, 1)\n",
    "        elif any(peak_info['time'][jj] == event_basics['s2_time']): #if the value is an S1\n",
    "            index = int(np.argwhere(peak_info['time'][jj] == event_basics['s2_time']))\n",
    "            eb_info = np.append(eb_info, event_basics[index])\n",
    "            event_type = np.append(eb_info, 2)\n",
    "        elif any(peak_info['time'][jj] == event_basics['alt_s2_time']): #if the value is an S1\n",
    "            index = int(np.argwhere(peak_info['time'][jj] == event_basics['s2_time']))\n",
    "            eb_info = np.append(eb_info, event_basics[index])\n",
    "            event_type = np.append(eb_info, 3)\n",
    "        else:\n",
    "            eb_info = np.append(eb_info, nan_array)\n",
    "            event_type = np.append(eb_info, nan_array)\n",
    "    return event_type, eb_info"
   ]
  },
  {
   "cell_type": "code",
   "execution_count": null,
   "id": "bc83dd09-50c8-4b2b-81c0-1c3cc39d3ed0",
   "metadata": {},
   "outputs": [],
   "source": [
    "def match_event_basics_to_data(event_basics, peak_info):\n",
    "    \"\"\"\n",
    "    Feed in event basics and peaks or peaks basics and return the information in peak basics regarding the event.\n",
    "    Note some data will be repreated as every event has multiple peaks.\n",
    "    \"\"\"\n",
    "    # need empty array that I can just put things in\n",
    "    # what if a particular value is never found\n",
    "    eb_info = np.array([])  #event basics index\n",
    "    peak_basics_index = np.array([])\n",
    "    nan_array = np.repeat(float(\"nan\"), 1)\n",
    "    \n",
    "    for jj in np.arange(len(peak_info)):\n",
    "        \n",
    "        if any(peak_info['time'][jj] == event_basics['s1_time']): #if the value is an S1\n",
    "            index = int(np.argwhere(peak_info['time'][jj] == event_basics['s1_time'])) #index in peak basics\n",
    "            eb_info = np.append(eb_info, index )\n",
    "            peak_basics_index = np.append(peak_basics_index, jj)\n",
    "\n",
    "        elif any(peak_info['time'][jj] == event_basics['s2_time']): #if the value is an S1\n",
    "            index = int(np.argwhere(peak_info['time'][jj] == event_basics['s2_time']))\n",
    "            eb_info = np.append(eb_info, index )\n",
    "            peak_basics_index = np.append(peak_basics_index, jj)\n",
    "            \n",
    "    eb_index = eb_info\n",
    "            \n",
    "    return eb_index, peak_basics_index"
   ]
  },
  {
   "cell_type": "code",
   "execution_count": null,
   "id": "c2b19a0e-9e36-4031-8919-a3a3b5cd36be",
   "metadata": {},
   "outputs": [],
   "source": [
    "def match_event_basics_to_data(event_basics, peak_info):\n",
    "    \"\"\"\n",
    "    Feed in event basics and peaks or peaks basics and return the information in peak basics regarding the event.\n",
    "    Note some data will be repreated as every event has multiple peaks.\n",
    "    \"\"\"\n",
    "    # need empty array that I can just put things in\n",
    "    # what if a particular value is never found\n",
    "    eb_info = np.array([])  #event basics index\n",
    "    peak_basics_index = np.array([])\n",
    "    nan_array = np.repeat(float(\"nan\"), 1)\n",
    "    \n",
    "    for jj in np.arange(len(peak_info)):\n",
    "        \n",
    "        if any(peak_info['time'][jj] == event_basics['s1_time']): #if the value is an S1\n",
    "            index = int(np.argwhere(peak_info['time'][jj] == event_basics['s1_time'])) #index in peak basics\n",
    "            eb_info = np.append(eb_info, index )\n",
    "            peak_basics_index = np.append(peak_basics_index, jj)\n",
    "            \n",
    "        elif any(peak_info['time'][jj] == event_basics['alt_s1_time']): #if the value is an S1\n",
    "            index = int(np.argwhere(peak_info['time'][jj] == event_basics['alt_s1_time']))\n",
    "            eb_info = np.append(eb_info, index )\n",
    "            peak_basics_index = np.append(peak_basics_index, jj)\n",
    "\n",
    "        elif any(peak_info['time'][jj] == event_basics['s2_time']): #if the value is an S1\n",
    "            index = int(np.argwhere(peak_info['time'][jj] == event_basics['s2_time']))\n",
    "            eb_info = np.append(eb_info, index )\n",
    "            peak_basics_index = np.append(peak_basics_index, jj)\n",
    "            \n",
    "        elif any(peak_info['time'][jj] == event_basics['alt_s2_time']): #if the value is an S1\n",
    "            index = int(np.argwhere(peak_info['time'][jj] == event_basics['alt_s2_time']))\n",
    "            eb_info = np.append(eb_info, index )\n",
    "            peak_basics_index = np.append(peak_basics_index, jj)\n",
    "            \n",
    "    eb_index = eb_info\n",
    "            \n",
    "    return eb_index, peak_basics_index"
   ]
  },
  {
   "cell_type": "code",
   "execution_count": null,
   "id": "b5f3a769-c394-4b31-bdf7-d3480028b629",
   "metadata": {},
   "outputs": [],
   "source": [
    "eb__z_index, kr_pb_z_index = match_event_basics_to_data(kr_eb, )"
   ]
  },
  {
   "cell_type": "code",
   "execution_count": null,
   "id": "72bb06d3-c506-4338-8a7b-bddc4f7d3871",
   "metadata": {},
   "outputs": [],
   "source": [
    "np.shape(kr_eb)"
   ]
  },
  {
   "cell_type": "code",
   "execution_count": null,
   "id": "2320b9dc-df53-4a14-ab06-90000f9e14b2",
   "metadata": {},
   "outputs": [],
   "source": [
    "fig = plt.figure(figsize=(12,6))\n",
    "plt.scatter(krpb_non_repeat['area'][0:21487], krpb_non_repeat['rise_time'][0:21487], s=1, color = 'blue', alpha = 0.5)\n",
    "#plt.scatter(kr_pb_array['area'][kr_pb_array['type'] == 1], kr_pb_array['rise_time'][kr_pb_array['type'] == 1], s=0.1, color = 'blue')\n",
    "plt.xscale('log')\n",
    "plt.yscale('log')\n",
    "plt.xlabel('Area')\n",
    "plt.ylabel('Rise Time')\n",
    "plt.xlim(1,1000000)\n",
    "plt.ylim(1,100000)"
   ]
  },
  {
   "cell_type": "code",
   "execution_count": null,
   "id": "d94795fe-6e64-487a-a1de-34f9a1da69e5",
   "metadata": {},
   "outputs": [],
   "source": [
    "fig = plt.figure(figsize=(12,6))\n",
    "plt.scatter(krpb_non_repeat['area'][0:40145], krpb_non_repeat['rise_time'][0:40145], s=0.1, color = 'blue', alpha = 0.5)\n",
    "#plt.scatter(kr_pb_array['area'][kr_pb_array['type'] == 1], kr_pb_array['rise_time'][kr_pb_array['type'] == 1], s=0.1, color = 'blue')\n",
    "plt.xscale('log')\n",
    "plt.yscale('log')\n",
    "plt.xlabel('Area')\n",
    "plt.ylabel('Rise Time')\n",
    "plt.xlim(1,1000000)\n",
    "plt.ylim(1,100000)"
   ]
  },
  {
   "cell_type": "code",
   "execution_count": null,
   "id": "4876315a-1062-4521-8e5c-b0fb3a5707bc",
   "metadata": {},
   "outputs": [],
   "source": [
    "fig = plt.figure(figsize=(12,6))\n",
    "plt.scatter(krpb_non_repeat['area'][40145:74000], krpb_non_repeat['rise_time'][40145:74000], s=1, color = 'blue', alpha = 0.5)\n",
    "#plt.scatter(kr_pb_array['area'][kr_pb_array['type'] == 1], kr_pb_array['rise_time'][kr_pb_array['type'] == 1], s=0.1, color = 'blue')\n",
    "plt.xscale('log')\n",
    "plt.yscale('log')\n",
    "plt.xlabel('Area')\n",
    "plt.ylabel('Rise Time')\n",
    "plt.xlim(1,1000000)\n",
    "plt.ylim(1,100000)"
   ]
  },
  {
   "cell_type": "code",
   "execution_count": null,
   "id": "398ff0da-8fca-4a9e-a762-90c047cc08a3",
   "metadata": {},
   "outputs": [],
   "source": [
    "fig = plt.figure(figsize=(12,6))\n",
    "plt.scatter(krpb_non_repeat['area'][40145:74510], krpb_non_repeat['rise_time'][40145:74510], s=1, color = 'blue', alpha = 0.5)\n",
    "#plt.scatter(kr_pb_array['area'][kr_pb_array['type'] == 1], kr_pb_array['rise_time'][kr_pb_array['type'] == 1], s=0.1, color = 'blue')\n",
    "plt.xscale('log')\n",
    "plt.yscale('log')\n",
    "plt.xlabel('Area')\n",
    "plt.ylabel('Rise Time')\n",
    "plt.xlim(1,1000000)\n",
    "plt.ylim(1,100000)"
   ]
  },
  {
   "cell_type": "code",
   "execution_count": null,
   "id": "95a6919f-8c65-4267-9699-1587195f80e7",
   "metadata": {},
   "outputs": [],
   "source": [
    "fig = plt.figure(figsize=(12,6))\n",
    "plt.scatter(krpb_non_repeat['area'][40045:70000], krpb_non_repeat['rise_time'][40045:70000], s=0.1, color = 'blue', alpha = 0.5)\n",
    "#plt.scatter(kr_pb_array['area'][kr_pb_array['type'] == 1], kr_pb_array['rise_time'][kr_pb_array['type'] == 1], s=0.1, color = 'blue')\n",
    "plt.xscale('log')\n",
    "plt.yscale('log')\n",
    "plt.xlabel('Area')\n",
    "plt.ylabel('Rise Time')\n",
    "plt.xlim(1,1000000)\n",
    "plt.ylim(1,100000)"
   ]
  },
  {
   "cell_type": "code",
   "execution_count": null,
   "id": "5b920c76-c65d-41c3-ae7c-6365119f3e45",
   "metadata": {},
   "outputs": [],
   "source": [
    "kr_peaks_filt = kr_peaks[data_indecies]"
   ]
  },
  {
   "cell_type": "code",
   "execution_count": null,
   "id": "1b5b347d-3f2f-4764-8558-199c5f8191b7",
   "metadata": {},
   "outputs": [],
   "source": [
    "kr_pb_filt = kr_peak_basics[data_indecies_ordered]"
   ]
  },
  {
   "cell_type": "code",
   "execution_count": null,
   "id": "b164c33c-0c77-438f-9b18-1d260ad20294",
   "metadata": {},
   "outputs": [],
   "source": [
    "fig = plt.figure(figsize=(12,6))\n",
    "plt.scatter(kr_pb_filt['area'], kr_pb_filt['rise_time'], s=0.1, color = 'blue', alpha = 0.5)\n",
    "#plt.scatter(kr_pb_array['area'][kr_pb_array['type'] == 1], kr_pb_array['rise_time'][kr_pb_array['type'] == 1], s=0.1, color = 'blue')\n",
    "plt.xscale('log')\n",
    "plt.yscale('log')\n",
    "plt.xlabel('Area')\n",
    "plt.ylabel('Rise Time')\n",
    "plt.xlim(1,1000000)\n",
    "plt.ylim(1,100000)"
   ]
  },
  {
   "cell_type": "code",
   "execution_count": null,
   "id": "789645c2-8f79-4c3d-a790-1435ca23dc4c",
   "metadata": {},
   "outputs": [],
   "source": [
    "fig = plt.figure(figsize=(12,6))\n",
    "plt.scatter(pb_data['area'], pb_data['rise_time'], s=0.1, color = 'blue', alpha = 0.5)\n",
    "#plt.scatter(kr_pb_array['area'][kr_pb_array['type'] == 1], kr_pb_array['rise_time'][kr_pb_array['type'] == 1], s=0.1, color = 'blue')\n",
    "plt.xscale('log')\n",
    "plt.yscale('log')\n",
    "plt.xlabel('Area')\n",
    "plt.ylabel('Rise Time')\n",
    "plt.xlim(1,1000000)\n",
    "plt.ylim(1,100000)"
   ]
  },
  {
   "cell_type": "code",
   "execution_count": null,
   "id": "15d57c82-1de5-4a8b-98e8-bda5d4a8e7d8",
   "metadata": {},
   "outputs": [],
   "source": [
    "np.savez"
   ]
  },
  {
   "cell_type": "code",
   "execution_count": null,
   "id": "0fc13c40-c0b0-4762-b58b-c932d7cd5a37",
   "metadata": {},
   "outputs": [],
   "source": [
    "fig = plt.figure(figsize=(15,9))\n",
    "plt.scatter(kr_pb_filt['area'][kr_pb_filt['type'] != 0], kr_pb_filt['rise_time'][kr_pb_filt['type'] != 0], s=0.1, color = 'blue', alpha = 0.5)\n",
    "#plt.scatter(kr_pb_array['area'][kr_pb_array['type'] == 1], kr_pb_array['rise_time'][kr_pb_array['type'] == 1], s=0.1, color = 'blue')\n",
    "plt.xscale('log')\n",
    "plt.yscale('log')\n",
    "plt.xlabel('Area')\n",
    "plt.ylabel('Rise Time')\n",
    "plt.xlim(1,1000000)\n",
    "plt.ylim(1,100000)"
   ]
  },
  {
   "cell_type": "code",
   "execution_count": null,
   "id": "88e70961-6fe1-452d-8df7-a350e476a85f",
   "metadata": {},
   "outputs": [],
   "source": [
    "kr_pb_filt[kr_pb_filt['type'] != 0]"
   ]
  },
  {
   "cell_type": "markdown",
   "id": "fcb8b086-841f-4144-b9b4-be406fb10751",
   "metadata": {},
   "source": [
    "Now lets load up the SOM results and try to understand them. We have a lot of labels... I need a way of automating a few things"
   ]
  },
  {
   "cell_type": "code",
   "execution_count": null,
   "id": "7edfbc3c-3b1e-4a4f-8335-70ee72ec88b3",
   "metadata": {},
   "outputs": [],
   "source": [
    "def assign_labels(data, ref_img, xdim, ydim, cut_out):\n",
    "    '''This functions takes in the data and classifications based on an image gives the\n",
    "    unique labels as well as the data set bacl with the new classification\n",
    "    PS this version only takes in S1s and S2s and ignores unclassified samples, \n",
    "    another version will be made to deal with the unclassified samples\n",
    "    \n",
    "    data: can be either peaks or peak_basics\n",
    "    ref_img: will be the image extracted from the SOM classification of each data point\n",
    "    xdim: width of the image cube\n",
    "    ydim: height of the image cube\n",
    "    cut_out: removes the n last digits of the image vector if necesarry'''\n",
    "    from PIL import Image\n",
    "    data_new = data\n",
    "    img = Image.open(ref_img)\n",
    "    imgGray = img.convert('L')\n",
    "    #imgGray2.save('/home/luissanchez25/im_kr83_real__30x30_2lbl.0.rmpmap.png')\n",
    "    img_color = np.array(img) #still in the x,y,3 format\n",
    "    img_color_2d = img_color.reshape((xdim*ydim,3))\n",
    "    label = -1 * np.ones(img_color.shape[:-1])\n",
    "    colorp = np.unique(img_color_2d, axis = 0)\n",
    "    for i, color in enumerate(colorp):  # argwhere\n",
    "        label[np.all((img_color == color), axis = 2)] = i #assignes each color a number\n",
    "    label_vec = label.reshape((xdim*ydim))\n",
    "    if cut_out != 0:\n",
    "        label_vec_nonzero = label_vec[:-cut_out]\n",
    "    elif cut_out == 0:\n",
    "        label_vec_nonzero = label_vec\n",
    "    #s2_data = data[data['type'] == 2]\n",
    "    #s1_data = data[data['type'] == 1]\n",
    "    #som_class_peaks = np.concatenate((s2_data,s1_data)) #note had to reverse s2,s1 to s1,s2\n",
    "    data_new['type'] = label_vec_nonzero\n",
    "    \n",
    "    return colorp, data_new"
   ]
  },
  {
   "cell_type": "code",
   "execution_count": null,
   "id": "5ca45e40-63d5-45e1-b71d-24966e75a06f",
   "metadata": {},
   "outputs": [],
   "source": [
    "np.max(np.argwhere(som_cls_check2['type'] == 3))"
   ]
  },
  {
   "cell_type": "markdown",
   "id": "7debffdf-ba3c-4bc8-a174-9a221ee37a0c",
   "metadata": {},
   "source": [
    "Quick sanity check using the map file, should get identical results as in notebook Kr_data_nT"
   ]
  },
  {
   "cell_type": "code",
   "execution_count": null,
   "id": "c916b1dd-0739-40c3-a65d-5cfa492f6cc5",
   "metadata": {},
   "outputs": [],
   "source": [
    "color_check, som_cls_check = assign_labels(krpb_non_repeat, './SOM_results/kr_clean.map.png', 152, 991, 1)"
   ]
  },
  {
   "cell_type": "code",
   "execution_count": null,
   "id": "14c2b58a-c279-45ab-8f35-9e4252c0fa50",
   "metadata": {},
   "outputs": [],
   "source": [
    "color_check, som_cls_check2 = assign_labels(krpb_non_repeat, './SOM_results/kr_clean.map.png', 152, 991, 1)"
   ]
  },
  {
   "cell_type": "code",
   "execution_count": null,
   "id": "a022698b-546d-409c-8925-ae399e12d34e",
   "metadata": {},
   "outputs": [],
   "source": [
    "color_check, som_cls_check3 = assign_labels2(krpb_non_repeat, './SOM_results/kr_clean.map.png', 152, 991, 1)"
   ]
  },
  {
   "cell_type": "code",
   "execution_count": null,
   "id": "9a28b485-3780-41b5-8d77-19fd2d69cb7c",
   "metadata": {},
   "outputs": [],
   "source": [
    "np.max(np.argwhere(som_cls_check3['type'] == 2))"
   ]
  },
  {
   "cell_type": "code",
   "execution_count": null,
   "id": "8eb8de0a-4e20-4675-8f36-cadafe15368f",
   "metadata": {},
   "outputs": [],
   "source": [
    "#som_cls_check"
   ]
  },
  {
   "cell_type": "code",
   "execution_count": null,
   "id": "95713212-408a-486b-af46-c3cdceebead3",
   "metadata": {},
   "outputs": [],
   "source": [
    "color_check"
   ]
  },
  {
   "cell_type": "code",
   "execution_count": null,
   "id": "35c9057e-79f6-4693-b2f0-335b070480a5",
   "metadata": {},
   "outputs": [],
   "source": [
    "pb_data_indexed"
   ]
  },
  {
   "cell_type": "code",
   "execution_count": null,
   "id": "2bc743eb-423f-4130-805e-d2badcc4b056",
   "metadata": {},
   "outputs": [],
   "source": [
    "fig = plt.figure(figsize=(15,9))\n",
    "plt.scatter(pb_data_indexed['area'], pb_data_indexed['rise_time'], s=0.1, alpha = 0.5)\n",
    "#plt.scatter(kr_pb_array['area'][kr_pb_array['type'] == 1], kr_pb_array['rise_time'][kr_pb_array['type'] == 1], s=0.1, color = 'blue')\n",
    "plt.xscale('log')\n",
    "plt.yscale('log')\n",
    "plt.xlabel('Area')\n",
    "plt.ylabel('Rise Time')\n",
    "plt.xlim(1,1000000)\n",
    "plt.ylim(1,100000)"
   ]
  },
  {
   "cell_type": "code",
   "execution_count": null,
   "id": "a177ef07-c897-4015-8ff7-eec203e8eb41",
   "metadata": {},
   "outputs": [],
   "source": [
    "fig = plt.figure(figsize=(15,9))\n",
    "for kind in np.arange(len(np.unique(som_cls_check['type']))):\n",
    "    plt.scatter(krpb_non_repeat['area'][som_cls_check['type'] == kind], krpb_non_repeat['rise_time'][som_cls_check['type'] == kind], s=0.1, alpha = 0.5)\n",
    "#plt.scatter(kr_pb_array['area'][kr_pb_array['type'] == 1], kr_pb_array['rise_time'][kr_pb_array['type'] == 1], s=0.1, color = 'blue')\n",
    "plt.xscale('log')\n",
    "plt.yscale('log')\n",
    "plt.xlabel('Area')\n",
    "plt.ylabel('Rise Time')\n",
    "plt.xlim(1,1000000)\n",
    "plt.ylim(1,100000)"
   ]
  },
  {
   "cell_type": "code",
   "execution_count": null,
   "id": "e91ff59e-b271-4104-85b6-8b2433ff1031",
   "metadata": {},
   "outputs": [],
   "source": [
    "fig = plt.figure(figsize=(15,9))\n",
    "for kind in np.arange(len(np.unique(som_cls_check['type']))):\n",
    "    plt.scatter(som_cls_check['area'][som_cls_check['type'] == kind], som_cls_check['rise_time'][som_cls_check['type'] == kind], s=0.1, alpha = 0.5)\n",
    "#plt.scatter(kr_pb_array['area'][kr_pb_array['type'] == 1], kr_pb_array['rise_time'][kr_pb_array['type'] == 1], s=0.1, color = 'blue')\n",
    "plt.xscale('log')\n",
    "plt.yscale('log')\n",
    "plt.xlabel('Area')\n",
    "plt.ylabel('Rise Time')\n",
    "plt.xlim(1,1000000)\n",
    "plt.ylim(1,100000)"
   ]
  },
  {
   "cell_type": "code",
   "execution_count": null,
   "id": "6801f28b-a690-430b-8a71-4e86579430ee",
   "metadata": {},
   "outputs": [],
   "source": [
    "fig = plt.figure(figsize=(15,9))\n",
    "for kind in np.arange(len(np.unique(som_cls_check2['type']))):\n",
    "    plt.scatter(som_cls_check2['area'][som_cls_check2['type'] == kind], som_cls_check2['rise_time'][som_cls_check2['type'] == kind], s=0.1, alpha = 0.5)\n",
    "#plt.scatter(kr_pb_array['area'][kr_pb_array['type'] == 1], kr_pb_array['rise_time'][kr_pb_array['type'] == 1], s=0.1, color = 'blue')\n",
    "plt.xscale('log')\n",
    "plt.yscale('log')\n",
    "plt.xlabel('Area')\n",
    "plt.ylabel('Rise Time')\n",
    "plt.xlim(1,1000000)\n",
    "plt.ylim(1,100000)"
   ]
  },
  {
   "cell_type": "code",
   "execution_count": null,
   "id": "c1924316-94b5-4ecc-ad84-610e698dba37",
   "metadata": {},
   "outputs": [],
   "source": [
    "kind = 0\n",
    "fig = plt.figure(figsize=(15,9))\n",
    "plt.scatter(som_cls_check['area'][som_cls_check['type'] == kind], som_cls_check['rise_time'][som_cls_check['type'] == kind], s=0.1, alpha = 0.5)\n",
    "#plt.scatter(kr_pb_array['area'][kr_pb_array['type'] == 1], kr_pb_array['rise_time'][kr_pb_array['type'] == 1], s=0.1, color = 'blue')\n",
    "plt.xscale('log')\n",
    "plt.yscale('log')\n",
    "plt.xlabel('Area')\n",
    "plt.ylabel('Rise Time')\n",
    "plt.xlim(1,1000000)\n",
    "plt.ylim(1,100000)"
   ]
  },
  {
   "cell_type": "code",
   "execution_count": null,
   "id": "850a7c85-9e70-4669-a8b0-1ac3b92f2801",
   "metadata": {},
   "outputs": [],
   "source": [
    "kind = 1\n",
    "fig = plt.figure(figsize=(15,9))\n",
    "plt.scatter(som_cls_check['area'][som_cls_check['type'] == kind], som_cls_check['rise_time'][som_cls_check['type'] == kind], s=0.1, alpha = 0.5)\n",
    "#plt.scatter(kr_pb_array['area'][kr_pb_array['type'] == 1], kr_pb_array['rise_time'][kr_pb_array['type'] == 1], s=0.1, color = 'blue')\n",
    "plt.xscale('log')\n",
    "plt.yscale('log')\n",
    "plt.xlabel('Area')\n",
    "plt.ylabel('Rise Time')\n",
    "plt.xlim(1,1000000)\n",
    "plt.ylim(1,100000)"
   ]
  },
  {
   "cell_type": "code",
   "execution_count": null,
   "id": "e28c01f6-0a1e-4d89-8914-83f68845fa28",
   "metadata": {},
   "outputs": [],
   "source": [
    "som_cls_check['type']"
   ]
  },
  {
   "cell_type": "code",
   "execution_count": null,
   "id": "d72e6b27-842d-4f42-b370-5ec186b309f3",
   "metadata": {},
   "outputs": [],
   "source": [
    "#Things seem to be working now???"
   ]
  },
  {
   "cell_type": "code",
   "execution_count": null,
   "id": "08d40164-110d-4487-89d0-892ab511a1ed",
   "metadata": {},
   "outputs": [],
   "source": [
    "krpb_non_repeat['area'][0:10]"
   ]
  },
  {
   "cell_type": "code",
   "execution_count": null,
   "id": "dc398f72-9e6c-433e-b67f-f555939dca69",
   "metadata": {},
   "outputs": [],
   "source": [
    "[som_cls_check['type'] == 1]"
   ]
  },
  {
   "cell_type": "code",
   "execution_count": null,
   "id": "72331219-008d-4d24-941c-bf25d89aaa9b",
   "metadata": {},
   "outputs": [],
   "source": [
    "#40445\n",
    "num = 2\n",
    "fig = plt.figure(figsize=(15,9)) #first 40445 should all be kryptpn events but that are not so something is wrong with our function\n",
    "plt.scatter(krpb_non_repeat['area'][som_cls_check['type'] == num], krpb_non_repeat['rise_time'][som_cls_check['type'] == num], \n",
    "            color = 'orange', s=0.1, alpha = 0.5)\n",
    "#plt.scatter(kr_pb_array['area'][kr_pb_array['type'] == 1], kr_pb_array['rise_time'][kr_pb_array['type'] == 1], s=0.1, color = 'blue')\n",
    "plt.xscale('log')\n",
    "plt.yscale('log')\n",
    "plt.xlabel('Area')\n",
    "plt.ylabel('Rise Time')\n",
    "plt.xlim(1,1000000)\n",
    "plt.ylim(1,100000)"
   ]
  },
  {
   "cell_type": "code",
   "execution_count": null,
   "id": "68810c36-8361-40ff-86b1-c8a25d70bf8d",
   "metadata": {},
   "outputs": [],
   "source": [
    "fig = plt.figure(figsize=(15,9)) #blue should be generic S1s... we have S2s here instead...\n",
    "plt.scatter(som_cls_check['area'][som_cls_check['type'] == 0], som_cls_check['rise_time'][som_cls_check['type'] == 0], color = 'blue', s=0.1, alpha = 0.5)\n",
    "#plt.scatter(kr_pb_array['area'][kr_pb_array['type'] == 1], kr_pb_array['rise_time'][kr_pb_array['type'] == 1], s=0.1, color = 'blue')\n",
    "plt.xscale('log')\n",
    "plt.yscale('log')\n",
    "plt.xlabel('Area')\n",
    "plt.ylabel('Rise Time')\n",
    "plt.xlim(1,1000000)\n",
    "plt.ylim(1,100000)"
   ]
  },
  {
   "cell_type": "code",
   "execution_count": null,
   "id": "821939a6-148d-4140-80b1-3696fc58402d",
   "metadata": {},
   "outputs": [],
   "source": [
    "fig = plt.figure(figsize=(15,9)) #green should be generic S2s, this just looks like all the data...\n",
    "plt.scatter(som_cls_check['area'][som_cls_check['type'] == 1], som_cls_check['rise_time'][som_cls_check['type'] == 1], color = 'green', s=0.1, alpha = 0.5)\n",
    "#plt.scatter(kr_pb_array['area'][kr_pb_array['type'] == 1], kr_pb_array['rise_time'][kr_pb_array['type'] == 1], s=0.1, color = 'blue')\n",
    "plt.xscale('log')\n",
    "plt.yscale('log')\n",
    "plt.xlabel('Area')\n",
    "plt.ylabel('Rise Time')\n",
    "plt.xlim(1,1000000)\n",
    "plt.ylim(1,100000)"
   ]
  },
  {
   "cell_type": "code",
   "execution_count": null,
   "id": "aa5dc765-d7e0-411c-867a-0ea5edc5997f",
   "metadata": {},
   "outputs": [],
   "source": [
    "#Something is 100% wrong with the labeling and I need to figure this out"
   ]
  },
  {
   "cell_type": "code",
   "execution_count": null,
   "id": "b2a87d3a-1020-451a-ab0e-caa39dee7162",
   "metadata": {},
   "outputs": [],
   "source": [
    "color, som_cls = assign_labels(krpb_non_repeat, './SOM_results/im_kr_clean_L1D_LA_v4_40x40.0.rmpmap.png', 152, 991, 1)"
   ]
  },
  {
   "cell_type": "code",
   "execution_count": null,
   "id": "01cb00fc-8dde-42ab-9a98-105cabfb1a8f",
   "metadata": {},
   "outputs": [],
   "source": [
    "color, som_cls2 = assign_labels(krpb_non_repeat, './SOM_results/im_kr_clean_L1D_LA_v4_40x40.0.rmpmap.png', 152, 991, 1)"
   ]
  },
  {
   "cell_type": "code",
   "execution_count": null,
   "id": "ba25c760-8b92-4f3d-8396-0e51ecbbc25d",
   "metadata": {},
   "outputs": [],
   "source": [
    "som_cls['type']"
   ]
  },
  {
   "cell_type": "code",
   "execution_count": null,
   "id": "79073d14-6d54-437c-a86a-25bf2d81662f",
   "metadata": {},
   "outputs": [],
   "source": [
    "np.unique(som_cls['type'])"
   ]
  },
  {
   "cell_type": "code",
   "execution_count": null,
   "id": "f99e0550-ba82-43cd-b36f-bfc87029f851",
   "metadata": {},
   "outputs": [],
   "source": [
    "color"
   ]
  },
  {
   "cell_type": "code",
   "execution_count": null,
   "id": "86947cae-4cc8-46d3-9db2-24112e34e1b2",
   "metadata": {},
   "outputs": [],
   "source": [
    "color[1]/255"
   ]
  },
  {
   "cell_type": "code",
   "execution_count": null,
   "id": "3d3f9ba4-5800-44a7-ae9f-dfabd04a91fa",
   "metadata": {},
   "outputs": [],
   "source": [
    "filtered_positions['type'] = som_cls['type']"
   ]
  },
  {
   "cell_type": "code",
   "execution_count": null,
   "id": "be681750-94be-4081-9df4-628c01341f31",
   "metadata": {},
   "outputs": [],
   "source": [
    "fig = plt.figure(figsize=(15,9))\n",
    "for kind in np.arange(len(np.unique(som_cls['type']))):\n",
    "    plt.scatter(krpb_non_repeat['area'][som_cls['type'] == kind], krpb_non_repeat['rise_time'][som_cls['type'] == kind], \n",
    "                s=0.5, alpha = 0.5, color = color[kind]/255)\n",
    "#plt.scatter(kr_pb_array['area'][kr_pb_array['type'] == 1], kr_pb_array['rise_time'][kr_pb_array['type'] == 1], s=0.1, color = 'blue')\n",
    "plt.xscale('log')\n",
    "plt.yscale('log')\n",
    "plt.xlabel('Area')\n",
    "plt.ylabel('Rise Time')\n",
    "plt.xlim(1,1000000)\n",
    "plt.ylim(1,100000)"
   ]
  },
  {
   "cell_type": "code",
   "execution_count": null,
   "id": "5789b301-fecc-433f-ac60-5114be9ae5bb",
   "metadata": {},
   "outputs": [],
   "source": [
    "fig = plt.figure(figsize=(9,9))\n",
    "for kind in np.arange(len(np.unique(som_cls['type']))):\n",
    "    plt.scatter(filtered_positions['x_mlp'][som_cls['type'] == kind], filtered_positions['y_mlp'][som_cls['type'] == kind], \n",
    "                s=0.5, alpha = 0.5, color = color[kind]/255)\n",
    "#plt.scatter(kr_pb_array['area'][kr_pb_array['type'] == 1], kr_pb_array['rise_time'][kr_pb_array['type'] == 1], s=0.1, color = 'blue')\n",
    "#plt.xscale('log')\n",
    "#plt.yscale('log')\n",
    "plt.xlabel('x')\n",
    "plt.ylabel('y')\n",
    "plt.xlim(-80,80)\n",
    "plt.ylim(-80,80)"
   ]
  },
  {
   "cell_type": "code",
   "execution_count": null,
   "id": "c820de5a-ea58-43c7-bb96-d8586652e32a",
   "metadata": {},
   "outputs": [],
   "source": [
    "pos = np.array([ 42488,  42890,  49259,  51638,  55466,  58258,  58656,  64644,\n",
    "              87393,  93103,  97979, 114434, 116253, 133225, 139453, 147497])"
   ]
  },
  {
   "cell_type": "code",
   "execution_count": null,
   "id": "c49f9cec-8018-4eae-8014-9722e700c504",
   "metadata": {},
   "outputs": [],
   "source": [
    "pos"
   ]
  },
  {
   "cell_type": "code",
   "execution_count": null,
   "id": "eddeb415-06cf-4bc3-81cd-5a8c561b322d",
   "metadata": {},
   "outputs": [],
   "source": [
    "filtered_positions['x_mlp'].shape"
   ]
  },
  {
   "cell_type": "code",
   "execution_count": null,
   "id": "22bb37a1-520f-471d-aa4e-619bb4c0b22b",
   "metadata": {},
   "outputs": [],
   "source": [
    "fig = plt.figure(figsize=(6,6))\n",
    "for kind in np.arange(len(np.unique(som_cls['type']))):\n",
    "    plt.scatter(filtered_positions['x_mlp'][som_cls['type'] == kind], filtered_positions['y_mlp'][som_cls['type'] == kind], \n",
    "                s=0.1, alpha = 0.5, color = color[kind]/255)\n",
    "#plt.scatter(kr_pb_array['area'][kr_pb_array['type'] == 1], kr_pb_array['rise_time'][kr_pb_array['type'] == 1], s=0.1, color = 'blue')\n",
    "#plt.xscale('log')\n",
    "#plt.yscale('log')\n",
    "plt.xlabel('x')\n",
    "plt.ylabel('y')\n",
    "plt.xlim(-80,80)\n",
    "plt.ylim(-80,80)"
   ]
  },
  {
   "cell_type": "code",
   "execution_count": null,
   "id": "76463726-5baa-4fa2-ba7d-13c7c88b8f4e",
   "metadata": {},
   "outputs": [],
   "source": [
    "fig = plt.figure(figsize=(6,6))\n",
    "plt.scatter(filtered_positions['x_mlp'][pos], filtered_positions['y_mlp'][pos], \n",
    "            s=3, alpha = 0.5, color = 'red')\n",
    "#plt.scatter(kr_pb_array['area'][kr_pb_array['type'] == 1], kr_pb_array['rise_time'][kr_pb_array['type'] == 1], s=0.1, color = 'blue')\n",
    "#plt.xscale('log')\n",
    "#plt.yscale('log')\n",
    "plt.xlabel('x')\n",
    "plt.ylabel('y')\n",
    "plt.xlim(-80,80)\n",
    "plt.ylim(-80,80)"
   ]
  },
  {
   "cell_type": "code",
   "execution_count": null,
   "id": "986fa6e2-5870-45e7-b152-736657ceebf1",
   "metadata": {},
   "outputs": [],
   "source": [
    "fig = plt.figure(figsize=(15,9))\n",
    "for kind in np.arange(len(np.unique(som_cls2['type']))):\n",
    "    plt.scatter(som_cls2['area'][som_cls2['type'] == kind], som_cls2['rise_time'][som_cls2['type'] == kind], s=0.1, alpha = 1)\n",
    "#plt.scatter(kr_pb_array['area'][kr_pb_array['type'] == 1], kr_pb_array['rise_time'][kr_pb_array['type'] == 1], s=0.1, color = 'blue')\n",
    "plt.xscale('log')\n",
    "plt.yscale('log')\n",
    "plt.xlabel('Area')\n",
    "plt.ylabel('Rise Time')\n",
    "plt.xlim(1,1000000)\n",
    "plt.ylim(1,100000)"
   ]
  },
  {
   "cell_type": "code",
   "execution_count": null,
   "id": "858ca7b6-e017-4e7a-a22d-df45c1cd3b0e",
   "metadata": {},
   "outputs": [],
   "source": [
    "fig = plt.figure(figsize=(15,9))\n",
    "plt.scatter(som_cls2['area'][som_cls2['type'] == 14], som_cls2['rise_time'][som_cls2['type'] == 14], s=0.1, alpha = 0.5, color = 'red')\n",
    "#plt.scatter(kr_pb_array['area'][kr_pb_array['type'] == 1], kr_pb_array['rise_time'][kr_pb_array['type'] == 1], s=0.1, color = 'blue')\n",
    "plt.xscale('log')\n",
    "plt.yscale('log')\n",
    "plt.xlabel('Area')\n",
    "plt.ylabel('Rise Time')\n",
    "plt.xlim(1,1000000)\n",
    "plt.ylim(1,100000)"
   ]
  },
  {
   "cell_type": "code",
   "execution_count": null,
   "id": "7e87fc1e-3779-4959-92e4-1b119ed3dd56",
   "metadata": {},
   "outputs": [],
   "source": [
    "num = 0\n",
    "fig = plt.figure(figsize=(15,9))\n",
    "plt.scatter(krpb_non_repeat['area'][som_cls['type'] == num], krpb_non_repeat['rise_time'][som_cls['type'] == num], \n",
    "            s=0.1, color = color[num]/255, alpha = 0.5)\n",
    "#plt.scatter(som_cls['area'][som_cls['type'] == 0], som_cls['rise_time'][som_cls['type'] == 0], s=0.1, color = 'blue', alpha = 0.5)\n",
    "#plt.scatter(kr_pb_array['area'][kr_pb_array['type'] == 1], kr_pb_array['rise_time'][kr_pb_array['type'] == 1], s=0.1, color = 'blue')\n",
    "plt.xscale('log')\n",
    "plt.yscale('log')\n",
    "plt.xlabel('Area')\n",
    "plt.ylabel('Rise Time')\n",
    "plt.xlim(1,1000000)\n",
    "plt.ylim(1,100000)"
   ]
  },
  {
   "cell_type": "code",
   "execution_count": null,
   "id": "86ed345d-0d57-4b94-a0fb-b240ca6f2b4c",
   "metadata": {},
   "outputs": [],
   "source": [
    "num = 1\n",
    "fig = plt.figure(figsize=(15,9))\n",
    "plt.scatter(krpb_non_repeat['area'][som_cls['type'] == num], krpb_non_repeat['rise_time'][som_cls['type'] == num], \n",
    "            s=0.1, color = color[num]/255, alpha = 0.5)\n",
    "#plt.scatter(som_cls['area'][som_cls['type'] == 0], som_cls['rise_time'][som_cls['type'] == 0], s=0.1, color = 'blue', alpha = 0.5)\n",
    "#plt.scatter(kr_pb_array['area'][kr_pb_array['type'] == 1], kr_pb_array['rise_time'][kr_pb_array['type'] == 1], s=0.1, color = 'blue')\n",
    "plt.xscale('log')\n",
    "plt.yscale('log')\n",
    "plt.xlabel('Area')\n",
    "plt.ylabel('Rise Time')\n",
    "plt.xlim(1,1000000)\n",
    "plt.ylim(1,100000)"
   ]
  },
  {
   "cell_type": "code",
   "execution_count": null,
   "id": "d5ba8df4-0a09-4a38-a224-8eb3853c84c3",
   "metadata": {},
   "outputs": [],
   "source": [
    "num = 2\n",
    "fig = plt.figure(figsize=(15,9))\n",
    "plt.scatter(krpb_non_repeat['area'][som_cls['type'] == num], krpb_non_repeat['rise_time'][som_cls['type'] == num], \n",
    "            s=0.1, color = color[num]/255, alpha = 0.5)\n",
    "#plt.scatter(som_cls['area'][som_cls['type'] == 0], som_cls['rise_time'][som_cls['type'] == 0], s=0.1, color = 'blue', alpha = 0.5)\n",
    "#plt.scatter(kr_pb_array['area'][kr_pb_array['type'] == 1], kr_pb_array['rise_time'][kr_pb_array['type'] == 1], s=0.1, color = 'blue')\n",
    "plt.xscale('log')\n",
    "plt.yscale('log')\n",
    "plt.xlabel('Area')\n",
    "plt.ylabel('Rise Time')\n",
    "plt.xlim(1,1000000)\n",
    "plt.ylim(1,100000)"
   ]
  },
  {
   "cell_type": "code",
   "execution_count": null,
   "id": "871c886a-8fe1-4949-913b-e565ed033fc9",
   "metadata": {},
   "outputs": [],
   "source": [
    "num = 3\n",
    "fig = plt.figure(figsize=(15,9))\n",
    "plt.scatter(krpb_non_repeat['area'][som_cls['type'] == num], krpb_non_repeat['rise_time'][som_cls['type'] == num], \n",
    "            s=0.1, color = color[num]/255, alpha = 0.5)\n",
    "#plt.scatter(som_cls['area'][som_cls['type'] == 0], som_cls['rise_time'][som_cls['type'] == 0], s=0.1, color = 'blue', alpha = 0.5)\n",
    "#plt.scatter(kr_pb_array['area'][kr_pb_array['type'] == 1], kr_pb_array['rise_time'][kr_pb_array['type'] == 1], s=0.1, color = 'blue')\n",
    "plt.xscale('log')\n",
    "plt.yscale('log')\n",
    "plt.xlabel('Area')\n",
    "plt.ylabel('Rise Time')\n",
    "plt.xlim(1,1000000)\n",
    "plt.ylim(1,100000)"
   ]
  },
  {
   "cell_type": "code",
   "execution_count": null,
   "id": "957e9342-970e-44bc-8ca9-1bcef1ca5cdb",
   "metadata": {},
   "outputs": [],
   "source": [
    "num = 4 #maily S2s some S1 leekage, could use tighter bounds maybe\n",
    "fig = plt.figure(figsize=(15,9))\n",
    "plt.scatter(krpb_non_repeat['area'][som_cls['type'] == num], krpb_non_repeat['rise_time'][som_cls['type'] == num], \n",
    "            s=0.1, color = color[num]/255, alpha = 0.5)\n",
    "#plt.scatter(som_cls['area'][som_cls['type'] == 0], som_cls['rise_time'][som_cls['type'] == 0], s=0.1, color = 'blue', alpha = 0.5)\n",
    "#plt.scatter(kr_pb_array['area'][kr_pb_array['type'] == 1], kr_pb_array['rise_time'][kr_pb_array['type'] == 1], s=0.1, color = 'blue')\n",
    "plt.xscale('log')\n",
    "plt.yscale('log')\n",
    "plt.xlabel('Area')\n",
    "plt.ylabel('Rise Time')\n",
    "plt.xlim(1,1000000)\n",
    "plt.ylim(1,100000)"
   ]
  },
  {
   "cell_type": "code",
   "execution_count": null,
   "id": "53cf32a0-2f5f-41b6-84d1-d92730db1194",
   "metadata": {},
   "outputs": [],
   "source": [
    "num = 5 #contains both S1s and S2s, needs to be further broken appart\n",
    "fig = plt.figure(figsize=(15,9))\n",
    "plt.scatter(krpb_non_repeat['area'][som_cls['type'] == num], krpb_non_repeat['rise_time'][som_cls['type'] == num], \n",
    "            s=0.1, color = color[num]/255, alpha = 0.5)\n",
    "#plt.scatter(som_cls['area'][som_cls['type'] == 0], som_cls['rise_time'][som_cls['type'] == 0], s=0.1, color = 'blue', alpha = 0.5)\n",
    "#plt.scatter(kr_pb_array['area'][kr_pb_array['type'] == 1], kr_pb_array['rise_time'][kr_pb_array['type'] == 1], s=0.1, color = 'blue')\n",
    "plt.xscale('log')\n",
    "plt.yscale('log')\n",
    "plt.xlabel('Area')\n",
    "plt.ylabel('Rise Time')\n",
    "plt.xlim(1,1000000)\n",
    "plt.ylim(1,100000)"
   ]
  },
  {
   "cell_type": "code",
   "execution_count": null,
   "id": "14fddd2a-47db-4d92-8b81-f84e77863b85",
   "metadata": {},
   "outputs": [],
   "source": [
    "num = 6 #very sparse randome points\n",
    "fig = plt.figure(figsize=(15,9))\n",
    "plt.scatter(krpb_non_repeat['area'][som_cls['type'] == num], krpb_non_repeat['rise_time'][som_cls['type'] == num], \n",
    "            s=1, color = color[num]/255, alpha = 0.5)\n",
    "#plt.scatter(som_cls['area'][som_cls['type'] == 0], som_cls['rise_time'][som_cls['type'] == 0], s=0.1, color = 'blue', alpha = 0.5)\n",
    "#plt.scatter(kr_pb_array['area'][kr_pb_array['type'] == 1], kr_pb_array['rise_time'][kr_pb_array['type'] == 1], s=0.1, color = 'blue')\n",
    "plt.xscale('log')\n",
    "plt.yscale('log')\n",
    "plt.xlabel('Area')\n",
    "plt.ylabel('Rise Time')\n",
    "plt.xlim(1,1000000)\n",
    "plt.ylim(1,100000)"
   ]
  },
  {
   "cell_type": "code",
   "execution_count": null,
   "id": "7fc1e8db-f291-4f82-944c-a3568f28124c",
   "metadata": {},
   "outputs": [],
   "source": [
    "num = 7 #very sparse randome points seem to be motly S2s, doesnt need own cluster probably?\n",
    "fig = plt.figure(figsize=(15,9))\n",
    "plt.scatter(krpb_non_repeat['area'][som_cls['type'] == num], krpb_non_repeat['rise_time'][som_cls['type'] == num], \n",
    "            s=1, color = color[num]/255, alpha = 0.5)\n",
    "#plt.scatter(som_cls['area'][som_cls['type'] == 0], som_cls['rise_time'][som_cls['type'] == 0], s=0.1, color = 'blue', alpha = 0.5)\n",
    "#plt.scatter(kr_pb_array['area'][kr_pb_array['type'] == 1], kr_pb_array['rise_time'][kr_pb_array['type'] == 1], s=0.1, color = 'blue')\n",
    "plt.xscale('log')\n",
    "plt.yscale('log')\n",
    "plt.xlabel('Area')\n",
    "plt.ylabel('Rise Time')\n",
    "plt.xlim(1,1000000)\n",
    "plt.ylim(1,100000)"
   ]
  },
  {
   "cell_type": "code",
   "execution_count": null,
   "id": "1bb24c8d-ec95-4141-bce2-1669f7e7208a",
   "metadata": {},
   "outputs": [],
   "source": [
    "num = 8 #very sparse randome points seem to be motly S2s, doesnt need own cluster probably?\n",
    "fig = plt.figure(figsize=(15,9))\n",
    "plt.scatter(krpb_non_repeat['area'][som_cls['type'] == num], krpb_non_repeat['rise_time'][som_cls['type'] == num], \n",
    "            s=1, color = color[num]/255, alpha = 0.5)\n",
    "#plt.scatter(som_cls['area'][som_cls['type'] == 0], som_cls['rise_time'][som_cls['type'] == 0], s=0.1, color = 'blue', alpha = 0.5)\n",
    "#plt.scatter(kr_pb_array['area'][kr_pb_array['type'] == 1], kr_pb_array['rise_time'][kr_pb_array['type'] == 1], s=0.1, color = 'blue')\n",
    "plt.xscale('log')\n",
    "plt.yscale('log')\n",
    "plt.xlabel('Area')\n",
    "plt.ylabel('Rise Time')\n",
    "plt.xlim(1,1000000)\n",
    "plt.ylim(1,100000)"
   ]
  },
  {
   "cell_type": "code",
   "execution_count": null,
   "id": "24019cb7-5029-48f9-b9ea-3748106ad680",
   "metadata": {},
   "outputs": [],
   "source": [
    "num = 9 #needs to be further broken down and separated\n",
    "fig = plt.figure(figsize=(15,9))\n",
    "plt.scatter(krpb_non_repeat['area'][som_cls['type'] == num], krpb_non_repeat['rise_time'][som_cls['type'] == num], \n",
    "            s=1, color = color[num]/255, alpha = 0.5)\n",
    "#plt.scatter(som_cls['area'][som_cls['type'] == 0], som_cls['rise_time'][som_cls['type'] == 0], s=0.1, color = 'blue', alpha = 0.5)\n",
    "#plt.scatter(kr_pb_array['area'][kr_pb_array['type'] == 1], kr_pb_array['rise_time'][kr_pb_array['type'] == 1], s=0.1, color = 'blue')\n",
    "plt.xscale('log')\n",
    "plt.yscale('log')\n",
    "plt.xlabel('Area')\n",
    "plt.ylabel('Rise Time')\n",
    "plt.xlim(1,1000000)\n",
    "plt.ylim(1,100000)"
   ]
  },
  {
   "cell_type": "code",
   "execution_count": null,
   "id": "4ae2b266-59e4-47f0-a0b6-e1e49faf2661",
   "metadata": {},
   "outputs": [],
   "source": [
    "num = 10 #mostly S1, some S2 leekage\n",
    "fig = plt.figure(figsize=(15,9))\n",
    "plt.scatter(krpb_non_repeat['area'][som_cls['type'] == num], krpb_non_repeat['rise_time'][som_cls['type'] == num], \n",
    "            s=1, color = color[num]/255, alpha = 0.5)\n",
    "#plt.scatter(som_cls['area'][som_cls['type'] == 0], som_cls['rise_time'][som_cls['type'] == 0], s=0.1, color = 'blue', alpha = 0.5)\n",
    "#plt.scatter(kr_pb_array['area'][kr_pb_array['type'] == 1], kr_pb_array['rise_time'][kr_pb_array['type'] == 1], s=0.1, color = 'blue')\n",
    "plt.xscale('log')\n",
    "plt.yscale('log')\n",
    "plt.xlabel('Area')\n",
    "plt.ylabel('Rise Time')\n",
    "plt.xlim(1,1000000)\n",
    "plt.ylim(1,100000)"
   ]
  },
  {
   "cell_type": "code",
   "execution_count": null,
   "id": "985a79b9-074b-4eb1-a46f-cf05e74f6e1b",
   "metadata": {},
   "outputs": [],
   "source": [
    "num = 11 #some s2, probably does not need its own cluster\n",
    "fig = plt.figure(figsize=(15,9))\n",
    "plt.scatter(krpb_non_repeat['area'][som_cls['type'] == num], krpb_non_repeat['rise_time'][som_cls['type'] == num], \n",
    "            s=1, color = color[num]/255, alpha = 0.5)\n",
    "#plt.scatter(som_cls['area'][som_cls['type'] == 0], som_cls['rise_time'][som_cls['type'] == 0], s=0.1, color = 'blue', alpha = 0.5)\n",
    "#plt.scatter(kr_pb_array['area'][kr_pb_array['type'] == 1], kr_pb_array['rise_time'][kr_pb_array['type'] == 1], s=0.1, color = 'blue')\n",
    "plt.xscale('log')\n",
    "plt.yscale('log')\n",
    "plt.xlabel('Area')\n",
    "plt.ylabel('Rise Time')\n",
    "plt.xlim(1,1000000)\n",
    "plt.ylim(1,100000)"
   ]
  },
  {
   "cell_type": "code",
   "execution_count": null,
   "id": "6d78af49-c633-47ee-ae19-c00bb36fb4fb",
   "metadata": {},
   "outputs": [],
   "source": [
    "num = 12 #mostly s2, some S1 leekage\n",
    "fig = plt.figure(figsize=(15,9))\n",
    "plt.scatter(krpb_non_repeat['area'][som_cls['type'] == num], krpb_non_repeat['rise_time'][som_cls['type'] == num], \n",
    "            s=1, color = color[num]/255, alpha = 0.5)\n",
    "#plt.scatter(som_cls['area'][som_cls['type'] == 0], som_cls['rise_time'][som_cls['type'] == 0], s=0.1, color = 'blue', alpha = 0.5)\n",
    "#plt.scatter(kr_pb_array['area'][kr_pb_array['type'] == 1], kr_pb_array['rise_time'][kr_pb_array['type'] == 1], s=0.1, color = 'blue')\n",
    "plt.xscale('log')\n",
    "plt.yscale('log')\n",
    "plt.xlabel('Area')\n",
    "plt.ylabel('Rise Time')\n",
    "plt.xlim(1,1000000)\n",
    "plt.ylim(1,100000)"
   ]
  },
  {
   "cell_type": "code",
   "execution_count": null,
   "id": "533ba52a-1ccc-4af5-b756-3760f13d7f4a",
   "metadata": {},
   "outputs": [],
   "source": [
    "num = 13 #mostly s2, some S1 leekage\n",
    "fig = plt.figure(figsize=(15,9))\n",
    "plt.scatter(krpb_non_repeat['area'][som_cls['type'] == num], krpb_non_repeat['rise_time'][som_cls['type'] == num], \n",
    "            s=1, color = color[num]/255, alpha = 0.5)\n",
    "#plt.scatter(som_cls['area'][som_cls['type'] == 0], som_cls['rise_time'][som_cls['type'] == 0], s=0.1, color = 'blue', alpha = 0.5)\n",
    "#plt.scatter(kr_pb_array['area'][kr_pb_array['type'] == 1], kr_pb_array['rise_time'][kr_pb_array['type'] == 1], s=0.1, color = 'blue')\n",
    "plt.xscale('log')\n",
    "plt.yscale('log')\n",
    "plt.xlabel('Area')\n",
    "plt.ylabel('Rise Time')\n",
    "plt.xlim(1,1000000)\n",
    "plt.ylim(1,100000)"
   ]
  },
  {
   "cell_type": "code",
   "execution_count": null,
   "id": "6a467d78-eeb8-4ceb-9ba6-c27613b0802c",
   "metadata": {},
   "outputs": [],
   "source": [
    "num = 14 #This cluster is the biggest issue\n",
    "fig = plt.figure(figsize=(15,9))\n",
    "plt.scatter(krpb_non_repeat['area'][som_cls['type'] == num], krpb_non_repeat['rise_time'][som_cls['type'] == num], \n",
    "            s=1, color = color[num]/255, alpha = 0.5)\n",
    "#plt.scatter(som_cls['area'][som_cls['type'] == 0], som_cls['rise_time'][som_cls['type'] == 0], s=0.1, color = 'blue', alpha = 0.5)\n",
    "#plt.scatter(kr_pb_array['area'][kr_pb_array['type'] == 1], kr_pb_array['rise_time'][kr_pb_array['type'] == 1], s=0.1, color = 'blue')\n",
    "plt.xscale('log')\n",
    "plt.yscale('log')\n",
    "plt.xlabel('Area')\n",
    "plt.ylabel('Rise Time')\n",
    "plt.xlim(1,1000000)\n",
    "plt.ylim(1,100000)"
   ]
  },
  {
   "cell_type": "code",
   "execution_count": null,
   "id": "95aa31b4-c726-43a7-92b2-8e7f84557bd3",
   "metadata": {},
   "outputs": [],
   "source": [
    "num = 15 #mostly s2, some S1 leekage\n",
    "fig = plt.figure(figsize=(15,9))\n",
    "plt.scatter(krpb_non_repeat['area'][som_cls['type'] == num], krpb_non_repeat['rise_time'][som_cls['type'] == num], \n",
    "            s=1, color = color[num]/255, alpha = 0.5)\n",
    "#plt.scatter(som_cls['area'][som_cls['type'] == 0], som_cls['rise_time'][som_cls['type'] == 0], s=0.1, color = 'blue', alpha = 0.5)\n",
    "#plt.scatter(kr_pb_array['area'][kr_pb_array['type'] == 1], kr_pb_array['rise_time'][kr_pb_array['type'] == 1], s=0.1, color = 'blue')\n",
    "plt.xscale('log')\n",
    "plt.yscale('log')\n",
    "plt.xlabel('Area')\n",
    "plt.ylabel('Rise Time')\n",
    "plt.xlim(1,1000000)\n",
    "plt.ylim(1,100000)"
   ]
  },
  {
   "cell_type": "code",
   "execution_count": null,
   "id": "32753b1a-845e-4d6b-acf6-2aaf7ae151a3",
   "metadata": {},
   "outputs": [],
   "source": [
    "fig = plt.figure(figsize=(5,5))\n",
    "kind = 0\n",
    "#for kind in np.arange(len(np.unique(som_cls['type']))):\n",
    "plt.scatter(filtered_positions['x_mlp'][som_cls['type'] == kind], filtered_positions['y_mlp'][som_cls['type'] == kind], \n",
    "            s=1, alpha = 0.5, color = color[kind]/255)\n",
    "#plt.scatter(kr_pb_array['area'][kr_pb_array['type'] == 1], kr_pb_array['rise_time'][kr_pb_array['type'] == 1], s=0.1, color = 'blue')\n",
    "#plt.xscale('log')\n",
    "#plt.yscale('log')\n",
    "plt.xlabel('x')\n",
    "plt.ylabel('y')\n",
    "plt.xlim(-80,80)\n",
    "plt.ylim(-80,80)"
   ]
  },
  {
   "cell_type": "code",
   "execution_count": null,
   "id": "6959bbdb-0dab-4a12-aaac-f1bce917eb41",
   "metadata": {},
   "outputs": [],
   "source": [
    "fig, ax = plt.subplots(nrows=4, ncols=4, figsize=(18, 20))\n",
    "\n",
    "num = 0\n",
    "for i in np.arange(4):\n",
    "    for j in np.arange(4):\n",
    "        ax[i,j].scatter(krpb_non_repeat['area'][som_cls['type'] == num], krpb_non_repeat['rise_time'][som_cls['type'] == num], \n",
    "                        s=3, color = color[num]/255, alpha = 1)\n",
    "        ax[i,j].set_xscale('log')\n",
    "        ax[i,j].set_yscale('log')\n",
    "        ax[i,j].set_xlim(1,1000000)\n",
    "        ax[i,j].set_ylim(1,100000)\n",
    "        num = num + 1"
   ]
  },
  {
   "cell_type": "code",
   "execution_count": null,
   "id": "611f8aa1-dbca-437c-ae93-d93fa349ec36",
   "metadata": {},
   "outputs": [],
   "source": [
    "fig, ax = plt.subplots(nrows=4, ncols=4, figsize=(18, 18))\n",
    "\n",
    "kind = 0\n",
    "for i in np.arange(4):\n",
    "    for j in np.arange(4):\n",
    "        ax[i,j].scatter(filtered_positions['x_mlp'][som_cls['type'] == kind], filtered_positions['y_mlp'][som_cls['type'] == kind], \n",
    "                        s=1, alpha = 0.5, color = color[kind]/255, label = str(kind))\n",
    "        kind = kind + 1"
   ]
  },
  {
   "cell_type": "code",
   "execution_count": null,
   "id": "2d62a8f9-2968-4302-9743-34ad486646d4",
   "metadata": {},
   "outputs": [],
   "source": [
    "fig, ax = plt.subplots(nrows=4, ncols=4, figsize=(15, 15))\n",
    "\n",
    "kind = 0\n",
    "for i in np.arange(4):\n",
    "    for j in np.arange(4):\n",
    "        ax[i,j].scatter(filtered_positions['x_mlp'][som_cls['type'] == kind], filtered_positions['y_mlp'][som_cls['type'] == kind], \n",
    "                        s=2, alpha = 0.5, color = color[kind]/255, label = str(kind))\n",
    "        kind = kind + 1\n",
    "        ax[i,j].set_xlabel('x')\n",
    "        ax[i,j].set_ylabel('y')"
   ]
  },
  {
   "cell_type": "code",
   "execution_count": null,
   "id": "689d87cb-60eb-4a9e-aa70-11f1866da295",
   "metadata": {},
   "outputs": [],
   "source": [
    "plt.plot(np.mean(kr_peaks['data'], axis = 0))"
   ]
  },
  {
   "cell_type": "code",
   "execution_count": null,
   "id": "dfc9714d-6f21-44a1-905b-0aa5f269da75",
   "metadata": {},
   "outputs": [],
   "source": [
    "kr_peaks\n",
    "fig, ax = plt.subplots(nrows=4, ncols=4, figsize=(15, 15))\n",
    "\n",
    "kind = 0\n",
    "for i in np.arange(4):\n",
    "    for j in np.arange(4):\n",
    "        ax[i,j].plot(np.mean(filtered_peaks['data'][som_cls['type'] == kind], axis = 0), \n",
    "                         alpha = 1, color = color[kind]/255, label = str(kind))\n",
    "        kind = kind + 1"
   ]
  },
  {
   "cell_type": "code",
   "execution_count": null,
   "id": "126f3d91-b044-4f82-b1d6-a71ad2370d64",
   "metadata": {},
   "outputs": [],
   "source": [
    "fig, ax = plt.subplots(nrows=4, ncols=4, figsize=(15, 15))\n",
    "\n",
    "kind = 0\n",
    "for i in np.arange(4):\n",
    "    for j in np.arange(4):\n",
    "        ax[i,j].plot(np.mean(filtered_peaks['data'][som_cls['type'] == kind], axis = 0), \n",
    "                         alpha = 1, color = color[kind]/255, label = str(kind))\n",
    "        kind = kind + 1"
   ]
  },
  {
   "cell_type": "code",
   "execution_count": null,
   "id": "ad5bd1e1-acfb-4bc1-be0a-6f91f593fa1a",
   "metadata": {},
   "outputs": [],
   "source": [
    "def upsample_data(wfdata, max_dt):\n",
    "    #this function takes in waveforms of different dts and upsamples them by repeating\n",
    "    #the elements by the dt value and padding with zeros when necessary\n",
    "    #Max dt is just the largest dt to use\n",
    "    #slightly modified to suit current needs\n",
    "    data = wfdata['data'].copy()\n",
    "    dt = wfdata['dt'].copy()\n",
    "    dt = np.where(dt <= max_dt, dt, max_dt)\n",
    "    dt = dt // 10 # Integer divide by 10 ns\n",
    "    #max_dt = 8 # units of 10 ns\n",
    "    #assert dt.max() <= max_dt\n",
    "\n",
    "    # This will be where the padded waveforms go\n",
    "    S2_padded_data = np.zeros((data.shape[0],\n",
    "                            data.shape[1]*max_dt))\n",
    "\n",
    "    for value in np.unique(dt): \n",
    "        # Just pick waveforms with dt of some value, where this is the mask\n",
    "        selection = dt == value\n",
    "\n",
    "    # Fill required values in the padded data\n",
    "        S2_padded_data[selection, 0:value*200] = np.repeat(data[selection],\n",
    "                                                        value,\n",
    "                                                        axis=1,)\n",
    "    return S2_padded_data"
   ]
  },
  {
   "cell_type": "code",
   "execution_count": null,
   "id": "7370571b-987a-440c-86e7-c1374e9e1c76",
   "metadata": {},
   "outputs": [],
   "source": [
    "def upsample_data_yscaled(wfdata, max_dt):\n",
    "    #this function takes in waveforms of different dts and upsamples them by repeating\n",
    "    #the elements by the dt value and padding with zeros when necessary\n",
    "    #Max dt is just the largest dt to use\n",
    "    #slightly modified to suit current needs\n",
    "    data = wfdata['data'].copy()\n",
    "    dt = wfdata['dt'].copy()\n",
    "    dt = np.where(dt <= max_dt, dt, max_dt)\n",
    "    dt = dt // 10 # Integer divide by 10 ns\n",
    "    #max_dt = 8 # units of 10 ns\n",
    "    #assert dt.max() <= max_dt\n",
    "\n",
    "    # This will be where the padded waveforms go\n",
    "    S2_padded_data = np.zeros((data.shape[0],\n",
    "                            data.shape[1]*max_dt))\n",
    "\n",
    "    for value in np.unique(dt): \n",
    "        # Just pick waveforms with dt of some value, where this is the mask\n",
    "        selection = dt == value\n",
    "\n",
    "    # Fill required values in the padded data\n",
    "        S2_padded_data[selection, 0:value*200] = np.repeat(data[selection],\n",
    "                                                        value,\n",
    "                                                        axis=1,) / value\n",
    "    return S2_padded_data"
   ]
  },
  {
   "cell_type": "code",
   "execution_count": null,
   "id": "e439375c-84ed-420c-a9ae-402e16491f17",
   "metadata": {},
   "outputs": [],
   "source": [
    "kind = 2\n",
    "np.max(filtered_peaks[som_cls['type'] == kind]['dt'])"
   ]
  },
  {
   "cell_type": "code",
   "execution_count": null,
   "id": "f50b22e0-f94a-42b7-b8a4-81b63d40b0b1",
   "metadata": {},
   "outputs": [],
   "source": [
    "kind = 0\n",
    "_ = plt.hist(filtered_peaks[som_cls['type'] == kind]['dt'], bins= np.arange(np.max(filtered_peaks[som_cls['type'] == kind]['dt'])/10)*10)\n",
    "plt.gca().set_yscale(\"log\")\n"
   ]
  },
  {
   "cell_type": "code",
   "execution_count": null,
   "id": "68218f27-e253-47fc-865c-2273f20261a3",
   "metadata": {},
   "outputs": [],
   "source": [
    "pork = upsample_data(filtered_peaks[som_cls['type'] == kind], 300)"
   ]
  },
  {
   "cell_type": "code",
   "execution_count": null,
   "id": "dc422348-0972-4900-a528-ba6f610e967a",
   "metadata": {},
   "outputs": [],
   "source": [
    "kr_peaks\n",
    "fig, ax = plt.subplots(nrows=4, ncols=4, figsize=(15, 15))\n",
    "\n",
    "kind = 0\n",
    "for i in np.arange(4):\n",
    "    for j in np.arange(4):\n",
    "        data = upsample_data(filtered_peaks[som_cls['type'] == kind], 300)\n",
    "        ax[i,j].plot(np.mean(data, axis = 0), \n",
    "                         alpha = 1, color = color[kind]/255, label = str(kind))\n",
    "        kind = kind + 1\n",
    "        ax[i,j].set_xlabel('Time 10[ns]')\n",
    "        ax[i,j].set_xlim(0, 5000)"
   ]
  },
  {
   "cell_type": "code",
   "execution_count": null,
   "id": "7d71ad32-0968-4049-8e8c-58ef8211f1aa",
   "metadata": {},
   "outputs": [],
   "source": [
    "kr_peaks\n",
    "fig, ax = plt.subplots(nrows=4, ncols=4, figsize=(15, 15))\n",
    "\n",
    "kind = 0\n",
    "for i in np.arange(4):\n",
    "    for j in np.arange(4):\n",
    "        data = upsample_data_yscaled(filtered_peaks[som_cls['type'] == kind], 300)\n",
    "        ax[i,j].plot(np.mean(data, axis = 0), \n",
    "                         alpha = 1, color = color[kind]/255, label = str(kind))\n",
    "        kind = kind + 1\n",
    "        ax[i,j].set_xlabel('Time 10[ns]')\n",
    "        ax[i,j].set_xlim(0, 5000)"
   ]
  },
  {
   "cell_type": "code",
   "execution_count": null,
   "id": "2d1e8ae6-63f9-4a3e-a59a-794cb874a873",
   "metadata": {},
   "outputs": [],
   "source": [
    "kr_peaks\n",
    "fig, ax = plt.subplots(nrows=4, ncols=4, figsize=(15, 15))\n",
    "\n",
    "kind = 0\n",
    "for i in np.arange(4):\n",
    "    for j in np.arange(4):\n",
    "        data = upsample_data_yscaled(filtered_peaks[som_cls['type'] == kind], 300)\n",
    "        ax[i,j].plot(np.mean(data, axis = 0), \n",
    "                         alpha = 1, color = color[kind]/255, label = str(kind))\n",
    "        kind = kind + 1\n",
    "        ax[i,j].set_xlabel('Time 10[ns]')\n",
    "        ax[i,j].set_xlim(0, 1000)"
   ]
  },
  {
   "cell_type": "code",
   "execution_count": null,
   "id": "fe6a4160-5d3c-4bcb-be53-05b4b50d7356",
   "metadata": {},
   "outputs": [],
   "source": [
    "kr_peaks\n",
    "fig, ax = plt.subplots(nrows=4, ncols=4, figsize=(15, 15))\n",
    "\n",
    "kind = 0\n",
    "for i in np.arange(4):\n",
    "    for j in np.arange(4):\n",
    "        data = upsample_data(filtered_peaks[som_cls['type'] == kind], 300)\n",
    "        ax[i,j].plot(np.mean(data, axis = 0), \n",
    "                         alpha = 1, color = color[kind]/255, label = str(kind))\n",
    "        kind = kind + 1\n",
    "        ax[i,j].set_xlabel('Time 10[ns]')\n",
    "        ax[i,j].set_xlim(0, 10000)"
   ]
  },
  {
   "cell_type": "code",
   "execution_count": null,
   "id": "8a225ada-3db9-45a3-afaa-a8c535e4480e",
   "metadata": {},
   "outputs": [],
   "source": [
    "kr_peaks\n",
    "fig, ax = plt.subplots(nrows=4, ncols=4, figsize=(15, 15))\n",
    "\n",
    "kind = 0\n",
    "for i in np.arange(4):\n",
    "    for j in np.arange(4):\n",
    "        data = upsample_data(filtered_peaks[som_cls['type'] == kind], 300)\n",
    "        ax[i,j].plot(data[0], alpha = 0.3, color = color[kind]/255, label = str(kind))\n",
    "        ax[i,j].plot(data[1], alpha = 0.3, color = color[kind]/255, label = str(kind))\n",
    "        ax[i,j].plot(data[2], alpha = 0.3, color = color[kind]/255, label = str(kind))\n",
    "        ax[i,j].plot(data[3], alpha = 0.3, color = color[kind]/255, label = str(kind))\n",
    "        ax[i,j].plot(data[4], alpha = 0.3, color = color[kind]/255, label = str(kind))\n",
    "        kind = kind + 1\n",
    "        ax[i,j].set_xlabel('Time 10[ns]')\n",
    "        ax[i,j].set_xlim(0, 4000)"
   ]
  },
  {
   "cell_type": "code",
   "execution_count": null,
   "id": "ea281e30-f79d-461b-be89-36dd404040c9",
   "metadata": {},
   "outputs": [],
   "source": [
    "kr_peaks\n",
    "fig, ax = plt.subplots(nrows=4, ncols=4, figsize=(15, 15))\n",
    "\n",
    "kind = 0\n",
    "for i in np.arange(4):\n",
    "    for j in np.arange(4):\n",
    "        data = upsample_data(filtered_peaks[som_cls['type'] == kind], 300)\n",
    "        ax[i,j].plot(data[0], alpha = 0.3, color = color[kind]/255, label = str(kind))\n",
    "        ax[i,j].plot(data[1], alpha = 0.3, color = color[kind]/255, label = str(kind))\n",
    "        ax[i,j].plot(data[2], alpha = 0.3, color = color[kind]/255, label = str(kind))\n",
    "        ax[i,j].plot(data[3], alpha = 0.3, color = color[kind]/255, label = str(kind))\n",
    "        ax[i,j].plot(data[4], alpha = 0.3, color = color[kind]/255, label = str(kind))\n",
    "        kind = kind + 1\n",
    "        ax[i,j].set_xlabel('Time 10[ns]')\n",
    "        ax[i,j].set_xlim(0, 200)"
   ]
  },
  {
   "cell_type": "code",
   "execution_count": null,
   "id": "a5be7f3d-018e-49f9-a8a0-5cddb793b445",
   "metadata": {},
   "outputs": [],
   "source": [
    "color_daa, som_cls_dec_area_aft = assign_labels(krpb_non_repeat, './SOM_results/im_kr_034373_decile_area_aft_40x40.0.rmpmap.png', 152, 991, 1)"
   ]
  },
  {
   "cell_type": "code",
   "execution_count": null,
   "id": "0cb1d838-4361-4d3c-a21f-4af7a96cb22e",
   "metadata": {},
   "outputs": [],
   "source": [
    "color_daa[18] = np.array([0, 0, 0])"
   ]
  },
  {
   "cell_type": "code",
   "execution_count": null,
   "id": "be441278-2d6d-4973-912c-5dd7eaef0bdc",
   "metadata": {},
   "outputs": [],
   "source": [
    "fig, ax = plt.subplots(nrows=5, ncols=4, figsize=(18, 20))\n",
    "\n",
    "num = 0\n",
    "for i in np.arange(5):\n",
    "    for j in np.arange(4):\n",
    "        ax[i,j].scatter(krpb_non_repeat['area'][som_cls_dec_area_aft['type'] == num], \n",
    "                        krpb_non_repeat['rise_time'][som_cls_dec_area_aft['type'] == num], \n",
    "                        s=0.1, color = color_daa[num]/255, alpha = 1)\n",
    "        ax[i,j].set_xscale('log')\n",
    "        ax[i,j].set_yscale('log')\n",
    "        ax[i,j].set_xlim(1,1000000)\n",
    "        ax[i,j].set_ylim(1,100000)\n",
    "        num = num + 1"
   ]
  },
  {
   "cell_type": "code",
   "execution_count": null,
   "id": "4589472e-8021-4b1e-94bf-c2137ce5b008",
   "metadata": {},
   "outputs": [],
   "source": [
    "fig = plt.figure(figsize=(8,6))\n",
    "for kind in np.arange(len(np.unique(som_cls_dec_area_aft['type']))):\n",
    "    plt.scatter(krpb_non_repeat['area'][som_cls_dec_area_aft['type'] == kind], \n",
    "                krpb_non_repeat['rise_time'][som_cls_dec_area_aft['type'] == kind], \n",
    "                s=0.5, alpha = 0.5, color = color_daa[kind]/255)\n",
    "#plt.scatter(kr_pb_array['area'][kr_pb_array['type'] == 1], kr_pb_array['rise_time'][kr_pb_array['type'] == 1], s=0.1, color = 'blue')\n",
    "plt.xscale('log')\n",
    "plt.yscale('log')\n",
    "plt.xlabel('Area')\n",
    "plt.ylabel('Rise Time')\n",
    "plt.xlim(1,1000000)\n",
    "plt.ylim(1,100000)"
   ]
  },
  {
   "cell_type": "code",
   "execution_count": null,
   "id": "8f2b9a5e-042f-484e-8c36-124401a79323",
   "metadata": {},
   "outputs": [],
   "source": [
    "fig = plt.figure(figsize=(15,9))\n",
    "for kind in np.arange(len(np.unique(som_cls_dec_area_aft['type']))):\n",
    "    plt.scatter(krpb_non_repeat['area'][som_cls_dec_area_aft['type'] == kind], \n",
    "                krpb_non_repeat['area_fraction_top'][som_cls_dec_area_aft['type'] == kind], \n",
    "                s=0.5, alpha = 0.5, color = color_daa[kind]/255)\n",
    "#plt.scatter(kr_pb_array['area'][kr_pb_array['type'] == 1], kr_pb_array['rise_time'][kr_pb_array['type'] == 1], s=0.1, color = 'blue')\n",
    "plt.xscale('log')\n",
    "#plt.yscale('log')\n",
    "plt.xlabel('Area')\n",
    "plt.ylabel('Area Fraction Top')\n",
    "plt.xlim(1,1000000)\n",
    "plt.ylim(0,1)"
   ]
  },
  {
   "cell_type": "code",
   "execution_count": null,
   "id": "0f4d2875-7f2e-49de-9aa2-f7e94816d069",
   "metadata": {},
   "outputs": [],
   "source": [
    "fig, ax = plt.subplots(nrows=5, ncols=4, figsize=(18, 18))\n",
    "\n",
    "kind = 0\n",
    "for i in np.arange(5):\n",
    "    for j in np.arange(4):\n",
    "        ax[i,j].scatter(filtered_positions['x_mlp'][som_cls_dec_area_aft['type'] == kind], \n",
    "                        filtered_positions['y_mlp'][som_cls_dec_area_aft['type'] == kind], \n",
    "                        s=1, alpha = 0.5, color = color_daa[kind]/255, label = str(kind))\n",
    "        kind = kind + 1"
   ]
  },
  {
   "cell_type": "code",
   "execution_count": null,
   "id": "5777f994-0891-4729-bd9d-89740956b307",
   "metadata": {},
   "outputs": [],
   "source": [
    "fig, ax = plt.subplots(nrows=5, ncols=4, figsize=(18, 18))\n",
    "\n",
    "kind = 0\n",
    "for i in np.arange(5):\n",
    "    for j in np.arange(4):\n",
    "        ax[i,j].scatter(filtered_positions['x_mlp'][som_cls_dec_area_aft['type'] == kind], \n",
    "                        filtered_positions['y_mlp'][som_cls_dec_area_aft['type'] == kind], \n",
    "                        s=5, alpha = 0.5, color = color_daa[kind]/255, label = str(kind))\n",
    "        kind = kind + 1"
   ]
  },
  {
   "cell_type": "code",
   "execution_count": null,
   "id": "66df63de-2c10-44d5-8897-a58306667085",
   "metadata": {},
   "outputs": [],
   "source": [
    "fig, ax = plt.subplots(nrows=5, ncols=4, figsize=(15, 15))\n",
    "\n",
    "kind = 0\n",
    "for i in np.arange(5):\n",
    "    for j in np.arange(4):\n",
    "        ax[i,j].plot(np.mean(filtered_peaks['data'][som_cls_dec_area_aft['type'] == kind], axis = 0), \n",
    "                         alpha = 1, color = color_daa[kind]/255, label = str(kind))\n",
    "        kind = kind + 1"
   ]
  },
  {
   "cell_type": "code",
   "execution_count": null,
   "id": "5443ba68-3a29-4519-bdec-d709019e133f",
   "metadata": {},
   "outputs": [],
   "source": [
    "fig, ax = plt.subplots(nrows=5, ncols=4, figsize=(20, 15))\n",
    "\n",
    "kind = 0\n",
    "for i in np.arange(5):\n",
    "    for j in np.arange(4):\n",
    "        data = upsample_data(filtered_peaks[som_cls_dec_area_aft['type'] == kind], 300)\n",
    "        ax[i,j].plot(np.mean(data, axis = 0), \n",
    "                         alpha = 1, color = color_daa[kind]/255, label = str(kind))\n",
    "        kind = kind + 1\n",
    "        ax[i,j].set_xlabel('Time 10[ns]')\n",
    "        ax[i,j].set_xlim(0, 5000)"
   ]
  },
  {
   "cell_type": "code",
   "execution_count": null,
   "id": "3c40d78f-89ca-4521-a55a-8143d18a2757",
   "metadata": {},
   "outputs": [],
   "source": [
    "fig, ax = plt.subplots(nrows=5, ncols=4, figsize=(20, 15))\n",
    "\n",
    "kind = 0\n",
    "for i in np.arange(5):\n",
    "    for j in np.arange(4):\n",
    "        data = upsample_data(filtered_peaks[som_cls_dec_area_aft['type'] == kind], 300)\n",
    "        ax[i,j].plot(np.mean(data, axis = 0), \n",
    "                         alpha = 1, color = color_daa[kind]/255, label = str(kind))\n",
    "        kind = kind + 1\n",
    "        ax[i,j].set_xlabel('Time 10[ns]')\n",
    "        ax[i,j].set_xlim(0, 200)"
   ]
  },
  {
   "cell_type": "code",
   "execution_count": null,
   "id": "f7a4a03b-ec21-4a09-a0d0-21a27a69f3fc",
   "metadata": {},
   "outputs": [],
   "source": [
    "fig, ax = plt.subplots(nrows=5, ncols=4, figsize=(15, 15))\n",
    "\n",
    "kind = 0\n",
    "for i in np.arange(5):\n",
    "    for j in np.arange(4):\n",
    "        data = upsample_data(filtered_peaks[som_cls_dec_area_aft['type'] == kind], 300)\n",
    "        ax[i,j].plot(data[0], alpha = 0.3, color = color_daa[kind]/255, label = str(kind))\n",
    "        ax[i,j].plot(data[1], alpha = 0.3, color = color_daa[kind]/255, label = str(kind))\n",
    "        ax[i,j].plot(data[2], alpha = 0.3, color = color_daa[kind]/255, label = str(kind))\n",
    "        ax[i,j].plot(data[3], alpha = 0.3, color = color_daa[kind]/255, label = str(kind))\n",
    "        ax[i,j].plot(data[4], alpha = 0.3, color = color_daa[kind]/255, label = str(kind))\n",
    "        kind = kind + 1\n",
    "        ax[i,j].set_xlabel('Time 10[ns]')\n",
    "        ax[i,j].set_xlim(0, 5000)"
   ]
  },
  {
   "cell_type": "code",
   "execution_count": null,
   "id": "23fb7894-95e2-4f68-af93-a05b9c2ad601",
   "metadata": {},
   "outputs": [],
   "source": [
    "fig, ax = plt.subplots(nrows=5, ncols=4, figsize=(15, 15))\n",
    "\n",
    "kind = 0\n",
    "a = 0.6\n",
    "for i in np.arange(5):\n",
    "    for j in np.arange(4):\n",
    "        data = upsample_data(filtered_peaks[som_cls_dec_area_aft['type'] == kind], 300)\n",
    "        ax[i,j].plot(data[0], alpha = a, color = color_daa[kind]/255, label = str(kind))\n",
    "        ax[i,j].plot(data[1], alpha = a, color = color_daa[kind]/255, label = str(kind))\n",
    "        ax[i,j].plot(data[2], alpha = a, color = color_daa[kind]/255, label = str(kind))\n",
    "        ax[i,j].plot(data[3], alpha = a, color = color_daa[kind]/255, label = str(kind))\n",
    "        ax[i,j].plot(data[4], alpha = a, color = color_daa[kind]/255, label = str(kind))\n",
    "        kind = kind + 1\n",
    "        ax[i,j].set_xlabel('Time 10[ns]')\n",
    "        ax[i,j].set_xlim(0, 200)"
   ]
  },
  {
   "cell_type": "code",
   "execution_count": null,
   "id": "6bed8e97-2233-48d8-9a63-38cbe936178e",
   "metadata": {},
   "outputs": [],
   "source": [
    "color_daa2, som_cls_dec_area_aft2 = assign_labels(krpb_non_repeat, './SOM_results/im_kr034373_decile_area_aft_40x40_v2.0.rmpmap.png', 152, 991, 1)"
   ]
  },
  {
   "cell_type": "code",
   "execution_count": null,
   "id": "0ef7f9df-b0d3-4666-a8ad-9958c2bf6025",
   "metadata": {},
   "outputs": [],
   "source": [
    "color_daa2"
   ]
  },
  {
   "cell_type": "code",
   "execution_count": null,
   "id": "ce4d232e-8df0-49da-9339-145266693255",
   "metadata": {},
   "outputs": [],
   "source": [
    "eb__z_index, kr_pb_z_index = match_event_basics_to_data(kr_eb, som_cls_dec_area_aft2)"
   ]
  },
  {
   "cell_type": "code",
   "execution_count": null,
   "id": "51fc03aa-9b71-43be-b6f7-857cd84de55e",
   "metadata": {},
   "outputs": [],
   "source": [
    "len(eb__z_index)"
   ]
  },
  {
   "cell_type": "code",
   "execution_count": null,
   "id": "a56a2dd2-e225-4905-9016-37e8342d2a3b",
   "metadata": {},
   "outputs": [],
   "source": [
    "len(kr_pb_z_index)"
   ]
  },
  {
   "cell_type": "code",
   "execution_count": null,
   "id": "ddc19464-822c-4a55-a024-f1f96f7e99bc",
   "metadata": {},
   "outputs": [],
   "source": [
    "np.unique(som_cls_dec_area_aft2_drift['type'])"
   ]
  },
  {
   "cell_type": "code",
   "execution_count": null,
   "id": "44227886-452d-4280-b454-c78b61bb4ee2",
   "metadata": {},
   "outputs": [],
   "source": [
    "eb_drift_info = kr_eb[eb__z_index.astype(int)]"
   ]
  },
  {
   "cell_type": "code",
   "execution_count": null,
   "id": "c7a45d61-8d24-40e4-b1ef-1b56a7392d43",
   "metadata": {},
   "outputs": [],
   "source": [
    "len(eb_drift_info)"
   ]
  },
  {
   "cell_type": "code",
   "execution_count": null,
   "id": "d3cdfc28-86a1-4d9d-b893-8d6ec6f515f2",
   "metadata": {},
   "outputs": [],
   "source": [
    "som_cls_dec_area_aft2_drift = som_cls_dec_area_aft2[kr_pb_z_index.astype(int)]"
   ]
  },
  {
   "cell_type": "code",
   "execution_count": null,
   "id": "c933cbdb-5e5e-4a1f-87d4-a47196dea1af",
   "metadata": {},
   "outputs": [],
   "source": [
    "len(som_cls_dec_area_aft2_drift)"
   ]
  },
  {
   "cell_type": "code",
   "execution_count": null,
   "id": "1e0d3dad-43ec-47a3-bd2a-9064760e6208",
   "metadata": {},
   "outputs": [],
   "source": [
    "pos_z_filetered = filtered_positions[kr_pb_z_index.astype(int)]"
   ]
  },
  {
   "cell_type": "code",
   "execution_count": null,
   "id": "bee31a50-2e93-4789-88ab-211e840c88ea",
   "metadata": {},
   "outputs": [],
   "source": [
    "xgrid = 4\n",
    "ygrid = 5\n",
    "fig, ax = plt.subplots(nrows=ygrid, ncols=xgrid, figsize=(18, 18))\n",
    "\n",
    "kind = 0\n",
    "for i in np.arange(ygrid):\n",
    "    for j in np.arange(xgrid):\n",
    "        ax[i,j].scatter(pos_z_filetered['x_mlp'][som_cls_dec_area_aft2_drift['type'] == kind], \n",
    "                        pos_z_filetered['y_mlp'][som_cls_dec_area_aft2_drift['type'] == kind], \n",
    "                        s=1, alpha = 0.5, color = color_daa2[kind]/255, label = str(kind))\n",
    "        kind = kind + 1"
   ]
  },
  {
   "cell_type": "code",
   "execution_count": null,
   "id": "5081b0c1-c49c-46cb-af64-492d2775a24d",
   "metadata": {},
   "outputs": [],
   "source": [
    "len([som_cls_dec_area_aft2_drift['type'] == kind][0])"
   ]
  },
  {
   "cell_type": "code",
   "execution_count": null,
   "id": "e01a2761-ac55-4f64-b3cd-15c7fd0257fc",
   "metadata": {},
   "outputs": [],
   "source": [
    "som_cls_dec_area_aft2_drift['type'][:5]"
   ]
  },
  {
   "cell_type": "code",
   "execution_count": null,
   "id": "8aadcb81-ec0b-4361-9ead-a11359a9b774",
   "metadata": {},
   "outputs": [],
   "source": [
    "len(eb_drift_info['drift_time'])"
   ]
  },
  {
   "cell_type": "code",
   "execution_count": null,
   "id": "2500ec73-ba71-47a7-a2ff-999e2ffc6d16",
   "metadata": {},
   "outputs": [],
   "source": [
    "indecies = np.argwhere([som_cls_dec_area_aft2_drift['type'] == 5][0] == True)"
   ]
  },
  {
   "cell_type": "code",
   "execution_count": null,
   "id": "6945ad1e-1cfd-43dc-899a-b0d872b2a910",
   "metadata": {},
   "outputs": [],
   "source": [
    "np.min(indecies)"
   ]
  },
  {
   "cell_type": "code",
   "execution_count": null,
   "id": "634738dd-d33b-422e-abe1-7781f72ae985",
   "metadata": {},
   "outputs": [],
   "source": [
    "xgrid = 4\n",
    "ygrid = 5\n",
    "fig, ax = plt.subplots(nrows=ygrid, ncols=xgrid, figsize=(18, 18))\n",
    "\n",
    "kind = 0\n",
    "for i in np.arange(ygrid):\n",
    "    for j in np.arange(xgrid):\n",
    "        indecies = np.argwhere([som_cls_dec_area_aft2_drift['type'] == kind][0] == True)\n",
    "        ax[i,j].scatter(pos_z_filetered['x_mlp'][som_cls_dec_area_aft2_drift['type'] == kind] **2 + pos_z_filetered['y_mlp'][som_cls_dec_area_aft2_drift['type'] == kind] ** 2, \n",
    "                        eb_drift_info['drift_time'][indecies] * drift_velocity, #cm units\n",
    "                        s=5, alpha = 0.3, color = color_daa2[kind]/255, label = str(kind))\n",
    "        kind = kind + 1\n",
    "        ax[i,j].invert_yaxis()\n",
    "        ax[i,j].set_xlabel('R^2')\n",
    "        ax[i,j].set_ylabel('Deapth [cm]')\n"
   ]
  },
  {
   "cell_type": "code",
   "execution_count": null,
   "id": "49bb9f27-17f8-4a09-82de-7a2680193b6c",
   "metadata": {},
   "outputs": [],
   "source": [
    "eb_z_index_full, kr_pb_z_index_full = match_event_basics_to_data(kr_eb, som_cls_dec_area_aft2)"
   ]
  },
  {
   "cell_type": "code",
   "execution_count": null,
   "id": "384aca23-b41b-4e05-aed7-7183a39b62d2",
   "metadata": {},
   "outputs": [],
   "source": [
    "eb_drift_info_full = kr_eb[eb_z_index_full.astype(int)]\n",
    "som_cls_dec_area_aft2_drift_full = som_cls_dec_area_aft2[kr_pb_z_index_full.astype(int)]\n",
    "pos_z_filetered_full = filtered_positions[kr_pb_z_index_full.astype(int)]"
   ]
  },
  {
   "cell_type": "code",
   "execution_count": null,
   "id": "cb48746d-6c17-4f2d-9cd6-90ee9610d971",
   "metadata": {},
   "outputs": [],
   "source": [
    "len(eb_drift_info_full)"
   ]
  },
  {
   "cell_type": "code",
   "execution_count": null,
   "id": "ea0f02a8-9a85-44fa-a86c-f26a8c03d9c2",
   "metadata": {},
   "outputs": [],
   "source": [
    "len()"
   ]
  },
  {
   "cell_type": "code",
   "execution_count": null,
   "id": "12ef20de-cdd0-4ff2-b5b9-cd8e0999e947",
   "metadata": {},
   "outputs": [],
   "source": [
    "xgrid = 4\n",
    "ygrid = 5\n",
    "fig, ax = plt.subplots(nrows=ygrid, ncols=xgrid, figsize=(18, 18))\n",
    "\n",
    "kind = 0\n",
    "for i in np.arange(ygrid):\n",
    "    for j in np.arange(xgrid):\n",
    "        indecies = np.argwhere([som_cls_dec_area_aft2_drift_full['type'] == kind][0] == True)\n",
    "        ax[i,j].scatter(pos_z_filetered_full['x_mlp'][som_cls_dec_area_aft2_drift_full['type'] == kind] **2 + pos_z_filetered_full['y_mlp'][som_cls_dec_area_aft2_drift_full['type'] == kind] ** 2, \n",
    "                        eb_drift_info_full['drift_time'][indecies] * drift_velocity.value, #cm units\n",
    "                        s=5, alpha = 0.3, color = color_daa2[kind]/255, label = str(kind))\n",
    "        ax[i,j].\n",
    "        kind = kind + 1\n",
    "        ax[i,j].invert_yaxis()\n",
    "        ax[i,j].set_xlabel('R^2')\n",
    "        ax[i,j].set_ylabel('Deapth [cm]')"
   ]
  },
  {
   "cell_type": "code",
   "execution_count": null,
   "id": "0f300745-0da9-4d64-ab3a-a75ec69883e7",
   "metadata": {},
   "outputs": [],
   "source": [
    "xgrid = 4\n",
    "ygrid = 5\n",
    "fig, ax = plt.subplots(nrows=ygrid, ncols=xgrid, figsize=(18, 18))\n",
    "\n",
    "kind = 0\n",
    "for i in np.arange(ygrid):\n",
    "    for j in np.arange(xgrid):\n",
    "        indecies = np.argwhere([som_cls_dec_area_aft2_drift_full['type'] == kind][0] == True)\n",
    "        ax[i,j].scatter(pos_z_filetered_full['x_mlp'][som_cls_dec_area_aft2_drift_full['type'] == kind] **2 + pos_z_filetered_full['y_mlp'][som_cls_dec_area_aft2_drift_full['type'] == kind] ** 2, \n",
    "                        eb_drift_info_full['drift_time'][indecies] * drift_velocity.value, #cm units\n",
    "                        s=5, alpha = 0.3, color = color_daa2[kind]/255, label = str(kind))\n",
    "        ax[i,j].set_ylim(0, 133)\n",
    "        kind = kind + 1\n",
    "        ax[i,j].invert_yaxis()\n",
    "        ax[i,j].set_xlabel('R^2')\n",
    "        ax[i,j].set_ylabel('Deapth [cm]')"
   ]
  },
  {
   "cell_type": "code",
   "execution_count": null,
   "id": "c3c5dc43-3e56-4c4d-8fa7-94d0b53a9e91",
   "metadata": {},
   "outputs": [],
   "source": [
    "eb_drift_info['drift_time'][som_cls_dec_area_aft2_drift['type'] == 1]"
   ]
  },
  {
   "cell_type": "code",
   "execution_count": null,
   "id": "dc9c0faf-737d-49d8-965b-5a965525810c",
   "metadata": {},
   "outputs": [],
   "source": [
    "len(np.array([som_cls_dec_area_aft2_drift['type'] == 3]))"
   ]
  },
  {
   "cell_type": "code",
   "execution_count": null,
   "id": "809c7b18-6258-4773-bc7a-9d1866ad8d49",
   "metadata": {},
   "outputs": [],
   "source": [
    "eb_drift_info['drift_time']"
   ]
  },
  {
   "cell_type": "code",
   "execution_count": null,
   "id": "cd79cab0-99fb-40c6-97cf-eb67ec3d0ca1",
   "metadata": {},
   "outputs": [],
   "source": [
    "[som_cls_dec_area_aft2_drift['type'] == 0]"
   ]
  },
  {
   "cell_type": "code",
   "execution_count": null,
   "id": "2b43a439-ca4c-4c87-8304-1774cf83693b",
   "metadata": {},
   "outputs": [],
   "source": [
    "f = [som_cls_dec_area_aft2_drift['type'] == 0]"
   ]
  },
  {
   "cell_type": "code",
   "execution_count": null,
   "id": "2b910f41-c01c-48a3-8aa0-1a0a05fff2dd",
   "metadata": {},
   "outputs": [],
   "source": [
    "f[0][0]"
   ]
  },
  {
   "cell_type": "code",
   "execution_count": null,
   "id": "867b0167-d83f-49e5-9e6d-dfef74810695",
   "metadata": {},
   "outputs": [],
   "source": [
    "color_daa2[19] = np.array([0,0,0])"
   ]
  },
  {
   "cell_type": "code",
   "execution_count": null,
   "id": "a080e2ca-6a9d-4706-b8ea-ca38704ee501",
   "metadata": {},
   "outputs": [],
   "source": [
    "fig = plt.figure(figsize=(6,4.5))\n",
    "for kind in np.arange(len(np.unique(som_cls_dec_area_aft2['type']))):\n",
    "    plt.scatter(krpb_non_repeat['area'][som_cls_dec_area_aft2['type'] == kind], \n",
    "                krpb_non_repeat['rise_time'][som_cls_dec_area_aft2['type'] == kind], \n",
    "                s=0.1, alpha = 0.5, color = color_daa2[kind]/255)\n",
    "#plt.scatter(kr_pb_array['area'][kr_pb_array['type'] == 1], kr_pb_array['rise_time'][kr_pb_array['type'] == 1], s=0.1, color = 'blue')\n",
    "plt.xscale('log')\n",
    "plt.yscale('log')\n",
    "plt.xlabel('Area [PE]')\n",
    "plt.ylabel('Rise Time [ns]')\n",
    "plt.xlim(1,1000000)\n",
    "plt.ylim(1,100000)\n",
    "plt.savefig(\"./figures/SOM_20cls_risetime_v_area.png\")"
   ]
  },
  {
   "cell_type": "code",
   "execution_count": null,
   "id": "0f685f55-da85-4a75-85a0-d85b25baca1f",
   "metadata": {},
   "outputs": [],
   "source": [
    "fig = plt.figure(figsize=(6,4.5))\n",
    "plt.scatter(krpb_non_repeat['area'][som_cls_dec_area_aft2['type'] == 1], \n",
    "            krpb_non_repeat['rise_time'][som_cls_dec_area_aft2['type'] == 1], \n",
    "            s=0.5, alpha = 0.2, color = 'blue')\n",
    "plt.scatter(krpb_non_repeat['area'][som_cls_dec_area_aft2['type'] == 12], \n",
    "            krpb_non_repeat['rise_time'][som_cls_dec_area_aft2['type'] == 12], \n",
    "            s=0.5, alpha = 0.2, color = 'lime')\n",
    "#plt.scatter(kr_pb_array['area'][kr_pb_array['type'] == 1], kr_pb_array['rise_time'][kr_pb_array['type'] == 1], s=0.1, color = 'blue')\n",
    "plt.xscale('log')\n",
    "plt.yscale('log')\n",
    "plt.xlabel('Area [PE]')\n",
    "plt.ylabel('Rise Time [ns]')\n",
    "plt.xlim(1,1000000)\n",
    "plt.ylim(1,100000)"
   ]
  },
  {
   "cell_type": "code",
   "execution_count": null,
   "id": "0db680a5-2b6a-4f0e-abad-02992358ae86",
   "metadata": {},
   "outputs": [],
   "source": [
    "sim_ar_pb = np.load('./sim_data/sim_Ar37_id2_peak_basics.npz')['arr_0']"
   ]
  },
  {
   "cell_type": "code",
   "execution_count": null,
   "id": "da87189c-952b-43b3-b249-0e5b3e2d85cf",
   "metadata": {},
   "outputs": [],
   "source": [
    "sim_se_pb = np.load('./sim_data/sim_single_E_id2_peak_basics.npz')['arr_0']"
   ]
  },
  {
   "cell_type": "code",
   "execution_count": null,
   "id": "9b07f8e5-66bc-49a0-8ab8-e2322374691b",
   "metadata": {},
   "outputs": [],
   "source": [
    "sim_ar_tr = np.load('./sim_data/sim_Ar37_id2_truth.npz')['arr_0']"
   ]
  },
  {
   "cell_type": "code",
   "execution_count": null,
   "id": "634874cc-8ded-4adb-9c3a-a9bd73a4e1ef",
   "metadata": {},
   "outputs": [],
   "source": [
    "ar_sim_trs1 = sim_ar_tr[sim_ar_tr['type'] == 1]"
   ]
  },
  {
   "cell_type": "code",
   "execution_count": null,
   "id": "5bf508ba-d91d-4ff6-aa06-d33bc860e397",
   "metadata": {},
   "outputs": [],
   "source": [
    "fig = plt.figure(figsize=(6,4.5))\n",
    "_ = plt.hist(ar_sim_trs1['raw_area'])\n",
    "plt.xlabel('Bins of raw area')\n",
    "plt.ylabel('Count')"
   ]
  },
  {
   "cell_type": "code",
   "execution_count": null,
   "id": "4661aa95-cd67-44d2-9c84-bafa0416cfb9",
   "metadata": {},
   "outputs": [],
   "source": [
    "#np.savez('./saved_data/kr_034373_pb_som_20cls.npz', som_cls_dec_area_aft2)"
   ]
  },
  {
   "cell_type": "code",
   "execution_count": null,
   "id": "7a31b035-e6b5-4068-adde-f2970c7cc4ea",
   "metadata": {},
   "outputs": [],
   "source": [
    "fig = plt.figure(figsize=(6,4.5))\n",
    "plt.scatter(krpb_non_repeat['area'][som_cls_dec_area_aft2['type'] == 1], \n",
    "            krpb_non_repeat['rise_time'][som_cls_dec_area_aft2['type'] == 1], \n",
    "            s=0.5, alpha = 0.2, color = 'blue')\n",
    "plt.scatter(krpb_non_repeat['area'][som_cls_dec_area_aft2['type'] == 12], \n",
    "            krpb_non_repeat['rise_time'][som_cls_dec_area_aft2['type'] == 12], \n",
    "            s=0.5, alpha = 0.2, color = 'lime')\n",
    "plt.scatter(sim_ar_pb['area'][sim_ar_pb['type'] == 1],\n",
    "            sim_ar_pb['rise_time'][sim_ar_pb['type'] == 1], \n",
    "            s= 1, alpha = 0.2, marker='.',color='orange', label = \"S1\")\n",
    "#plt.scatter(kr_pb_array['area'][kr_pb_array['type'] == 1], kr_pb_array['rise_time'][kr_pb_array['type'] == 1], s=0.1, color = 'blue')\n",
    "plt.xscale('log')\n",
    "plt.yscale('log')\n",
    "plt.xlabel('Area [PE]')\n",
    "plt.ylabel('Rise Time [ns]')\n",
    "plt.xlim(1,1000000)\n",
    "plt.ylim(1,100000)"
   ]
  },
  {
   "cell_type": "code",
   "execution_count": null,
   "id": "c0c598eb-c202-4ff2-a6eb-0d77f7335b1d",
   "metadata": {},
   "outputs": [],
   "source": [
    "fig = plt.figure(figsize=(6,4.5))\n",
    "plt.scatter(krpb_non_repeat['area'][som_cls_dec_area_aft2['type'] == 3], \n",
    "            krpb_non_repeat['rise_time'][som_cls_dec_area_aft2['type'] == 3], \n",
    "            s=1, alpha = 0.1, color = 'lime')\n",
    "plt.scatter(sim_se_pb['area'][sim_se_pb['type'] == 2],\n",
    "            sim_se_pb['rise_time'][sim_se_pb['type'] == 2], \n",
    "            s= 1, alpha = 0.1, marker='.',color='orange', label = \"S1\")\n",
    "#plt.scatter(kr_pb_array['area'][kr_pb_array['type'] == 1], kr_pb_array['rise_time'][kr_pb_array['type'] == 1], s=0.1, color = 'blue')\n",
    "plt.xscale('log')\n",
    "plt.yscale('log')\n",
    "plt.xlabel('Area [PE]')\n",
    "plt.ylabel('Rise Time [ns]')\n",
    "plt.xlim(1,1000000)\n",
    "plt.ylim(1,100000)"
   ]
  },
  {
   "cell_type": "code",
   "execution_count": null,
   "id": "ff6e409e-2cbc-4313-82bc-fc8eca9c214b",
   "metadata": {},
   "outputs": [],
   "source": [
    "fig = plt.figure(figsize=(15,9))\n",
    "for kind in np.arange(len(np.unique(som_cls_dec_area_aft2['type']))):\n",
    "    plt.scatter(krpb_non_repeat['area'][som_cls_dec_area_aft2['type'] == kind], \n",
    "                krpb_non_repeat['rise_time'][som_cls_dec_area_aft2['type'] == kind], \n",
    "                s=0.5, alpha = 0.5, color = color_daa2[kind]/255)\n",
    "#plt.scatter(kr_pb_array['area'][kr_pb_array['type'] == 1], kr_pb_array['rise_time'][kr_pb_array['type'] == 1], s=0.1, color = 'blue')\n",
    "plt.xscale('log')\n",
    "plt.yscale('log')\n",
    "plt.xlabel('Area')\n",
    "plt.ylabel('Rise Time')\n",
    "plt.xlim(1,1000000)\n",
    "plt.ylim(1,100000)"
   ]
  },
  {
   "cell_type": "code",
   "execution_count": null,
   "id": "215bd880-cda4-455d-9865-78ab3e306980",
   "metadata": {},
   "outputs": [],
   "source": [
    "fig = plt.figure(figsize=(12,7))\n",
    "for kind in np.arange(len(np.unique(som_cls_dec_area_aft2['type']))):\n",
    "    plt.scatter(krpb_non_repeat['area'][som_cls_dec_area_aft2['type'] == kind], \n",
    "                krpb_non_repeat['area_fraction_top'][som_cls_dec_area_aft2['type'] == kind], \n",
    "                s=0.5, alpha = 0.5, color = color_daa2[kind]/255)\n",
    "#plt.scatter(kr_pb_array['area'][kr_pb_array['type'] == 1], kr_pb_array['rise_time'][kr_pb_array['type'] == 1], s=0.1, color = 'blue')\n",
    "plt.xscale('log')\n",
    "#plt.yscale('log')\n",
    "plt.xlabel('Area [PE]')\n",
    "plt.ylabel('Area Fraction Top')\n",
    "plt.xlim(1,1000000)\n",
    "plt.ylim(-0.01,1.01)"
   ]
  },
  {
   "cell_type": "code",
   "execution_count": null,
   "id": "7ab73c10-c866-4fd2-be6d-c9f6263d2fd3",
   "metadata": {},
   "outputs": [],
   "source": [
    "fig = plt.figure(figsize=(12,7))\n",
    "for kind in np.arange(len(np.unique(som_cls_dec_area_aft2['type']))):\n",
    "    plt.scatter(krpb_non_repeat['rise_time'][som_cls_dec_area_aft2['type'] == kind], \n",
    "                krpb_non_repeat['area_fraction_top'][som_cls_dec_area_aft2['type'] == kind], \n",
    "                s=0.5, alpha = 0.5, color = color_daa2[kind]/255)\n",
    "#plt.scatter(kr_pb_array['area'][kr_pb_array['type'] == 1], kr_pb_array['rise_time'][kr_pb_array['type'] == 1], s=0.1, color = 'blue')\n",
    "plt.xscale('log')\n",
    "#plt.yscale('log')\n",
    "plt.xlabel('Rise-time [ns]')\n",
    "plt.ylabel('Area Fraction Top')\n",
    "plt.xlim(1,100000)\n",
    "plt.ylim(-0.01,1.01)"
   ]
  },
  {
   "cell_type": "code",
   "execution_count": null,
   "id": "7829a81c-9dc6-4adc-b8ff-456e995b5af7",
   "metadata": {},
   "outputs": [],
   "source": [
    "fig = plt.figure(figsize=(12,7))\n",
    "for kind in np.arange(len(np.unique(som_cls_dec_area_aft2['type']))):\n",
    "    plt.scatter(krpb_non_repeat['area_fraction_top'][som_cls_dec_area_aft2['type'] == kind], \n",
    "                krpb_non_repeat['rise_time'][som_cls_dec_area_aft2['type'] == kind], \n",
    "                s=0.5, alpha = 0.5, color = color_daa2[kind]/255)\n",
    "#plt.scatter(kr_pb_array['area'][kr_pb_array['type'] == 1], kr_pb_array['rise_time'][kr_pb_array['type'] == 1], s=0.1, color = 'blue')\n",
    "#plt.xscale('log')\n",
    "plt.yscale('log')\n",
    "plt.ylabel('Rise-time [ns]')\n",
    "plt.xlabel('Area Fraction Top')\n",
    "plt.ylim(1,100000)\n",
    "plt.xlim(-0.01,1.01)"
   ]
  },
  {
   "cell_type": "code",
   "execution_count": null,
   "id": "a9d28bf2-bb3c-48e2-97c1-387c7be97aa6",
   "metadata": {},
   "outputs": [],
   "source": [
    "fig = plt.figure(figsize=(12,7))\n",
    "for kind in np.arange(len(np.unique(som_cls_dec_area_aft2['type']))):\n",
    "    plt.scatter(krpb_non_repeat['n_channels'][som_cls_dec_area_aft2['type'] == kind], \n",
    "                krpb_non_repeat['area_fraction_top'][som_cls_dec_area_aft2['type'] == kind], \n",
    "                s=0.5, alpha = 0.5, color = color_daa2[kind]/255)\n",
    "#plt.scatter(kr_pb_array['area'][kr_pb_array['type'] == 1], kr_pb_array['rise_time'][kr_pb_array['type'] == 1], s=0.1, color = 'blue')\n",
    "#plt.xscale('log')\n",
    "#plt.yscale('log')\n",
    "plt.xlabel('Number of Contributing Channels')\n",
    "plt.ylabel('Area Fraction Top')\n",
    "plt.xlim(0,490)\n",
    "plt.ylim(-0.01,1.01)"
   ]
  },
  {
   "cell_type": "code",
   "execution_count": null,
   "id": "3f137766-1c0a-4220-bb9c-5f17e68dab4d",
   "metadata": {},
   "outputs": [],
   "source": [
    "fig = plt.figure(figsize=(12,7))\n",
    "for kind in np.arange(len(np.unique(som_cls_dec_area_aft2['type']))):\n",
    "    plt.scatter(krpb_non_repeat['tight_coincidence'][som_cls_dec_area_aft2['type'] == kind], \n",
    "                krpb_non_repeat['area_fraction_top'][som_cls_dec_area_aft2['type'] == kind], \n",
    "                s=0.5, alpha = 0.5, color = color_daa2[kind]/255)\n",
    "#plt.scatter(kr_pb_array['area'][kr_pb_array['type'] == 1], kr_pb_array['rise_time'][kr_pb_array['type'] == 1], s=0.1, color = 'blue')\n",
    "#plt.xscale('log')\n",
    "#plt.yscale('log')\n",
    "plt.xlabel('Area')\n",
    "plt.ylabel('Number of Contributing Channels')\n",
    "#plt.xlim(1,1000000)\n",
    "plt.ylim(-0.01,1.01)"
   ]
  },
  {
   "cell_type": "code",
   "execution_count": null,
   "id": "f10c5e4f-7382-4ab2-a83a-f3c953a1e31a",
   "metadata": {},
   "outputs": [],
   "source": [
    "krpb_non_repeat.dtype"
   ]
  },
  {
   "cell_type": "code",
   "execution_count": null,
   "id": "0cff29a6-65b2-44e1-bdde-72690346d826",
   "metadata": {},
   "outputs": [],
   "source": [
    "fig, ax = plt.subplots(nrows=5, ncols=4, figsize=(18, 20))\n",
    "\n",
    "num = 0\n",
    "for i in np.arange(5):\n",
    "    for j in np.arange(4):\n",
    "        ax[i,j].scatter(krpb_non_repeat['area'][som_cls_dec_area_aft2['type'] == num], \n",
    "                        krpb_non_repeat['rise_time'][som_cls_dec_area_aft2['type'] == num], \n",
    "                        s=0.1, color = color_daa2[num]/255, alpha = 1)\n",
    "        ax[i,j].set_xscale('log')\n",
    "        ax[i,j].set_yscale('log')\n",
    "        ax[i,j].set_xlim(1,1000000)\n",
    "        ax[i,j].set_ylim(1,100000)\n",
    "        num = num + 1"
   ]
  },
  {
   "cell_type": "code",
   "execution_count": null,
   "id": "c512cb9f-2b8d-4420-8741-ee4bf8665a1c",
   "metadata": {},
   "outputs": [],
   "source": [
    "xgrid = 4\n",
    "ygrid = 5\n",
    "fig, ax = plt.subplots(nrows=ygrid, ncols=xgrid, figsize=(18, 18))\n",
    "\n",
    "kind = 0\n",
    "for i in np.arange(ygrid):\n",
    "    for j in np.arange(xgrid):\n",
    "        ax[i,j].scatter(filtered_positions['x_mlp'][som_cls_dec_area_aft2['type'] == kind], \n",
    "                        filtered_positions['y_mlp'][som_cls_dec_area_aft2['type'] == kind], \n",
    "                        s=1, alpha = 0.5, color = color_daa2[kind]/255, label = str(kind))\n",
    "        kind = kind + 1"
   ]
  },
  {
   "cell_type": "code",
   "execution_count": null,
   "id": "6e8c66f6-6633-48c7-99f9-a1f61ade2acb",
   "metadata": {},
   "outputs": [],
   "source": [
    "xgrid = 4\n",
    "ygrid = 5\n",
    "fig, ax = plt.subplots(nrows=ygrid, ncols=xgrid, figsize=(15, 15))\n",
    "\n",
    "kind = 0\n",
    "for i in np.arange(ygrid):\n",
    "    for j in np.arange(xgrid):\n",
    "        ax[i,j].plot(np.mean(filtered_peaks['data'][som_cls_dec_area_aft2['type'] == kind], axis = 0), \n",
    "                         alpha = 1, color = color_daa2[kind]/255, label = str(kind))\n",
    "        kind = kind + 1"
   ]
  },
  {
   "cell_type": "code",
   "execution_count": null,
   "id": "3d1cad26-65a8-49f2-92ef-decf7a158e15",
   "metadata": {},
   "outputs": [],
   "source": [
    "xgrid = 4\n",
    "ygrid = 5\n",
    "fig, ax = plt.subplots(nrows=ygrid, ncols=xgrid, figsize=(20, 16))\n",
    "\n",
    "kind = 0\n",
    "for i in np.arange(ygrid):\n",
    "    for j in np.arange(xgrid):\n",
    "        data = upsample_data_yscaled(filtered_peaks[som_cls_dec_area_aft2['type'] == kind], 300)\n",
    "        ax[i,j].plot(np.mean(data, axis = 0), \n",
    "                         alpha = 1, color = color_daa2[kind]/255, label = str(kind))\n",
    "        kind = kind + 1\n",
    "        ax[i,j].set_xlabel('Time 10[ns]')\n",
    "        ax[i,j].set_xlim(0, 5000)"
   ]
  },
  {
   "cell_type": "code",
   "execution_count": null,
   "id": "ed8946d6-dcc4-4842-82f5-20fc33bb7493",
   "metadata": {},
   "outputs": [],
   "source": []
  },
  {
   "cell_type": "code",
   "execution_count": null,
   "id": "7201c158-19d7-4fc2-b1d6-1ff77944cf0f",
   "metadata": {},
   "outputs": [],
   "source": [
    "plt.plot(np.mean(upsample_data_yscaled(filtered_peaks[som_cls_dec_area_aft2['type'] == 16], 300), axis = 0), alpha = 1, color = color_daa2[16]/255)\n",
    "plt.plot(np.mean(upsample_data_yscaled(filtered_peaks[som_cls_dec_area_aft2['type'] == 8], 300), axis = 0), alpha = 1, color = color_daa2[8]/255)\n",
    "plt.xlim(0, 5000)\n",
    "plt.xlabel('Time 10[ns]')\n",
    "plt.ylabel('Amplitude [PE/ns]')"
   ]
  },
  {
   "cell_type": "code",
   "execution_count": null,
   "id": "6bae22c7-b813-4aa4-8af2-525038ae4dfa",
   "metadata": {},
   "outputs": [],
   "source": [
    "check_data = upsample_data_yscaled(filtered_peaks[som_cls_dec_area_aft2['type'] == 12], 300)[:5]"
   ]
  },
  {
   "cell_type": "code",
   "execution_count": null,
   "id": "85316f64-a727-4c28-932d-3ba4d906c81e",
   "metadata": {},
   "outputs": [],
   "source": [
    "fig, ax = plt.subplots(1 ,figsize=(6,4))\n",
    "a = 0.7\n",
    "kind = 12\n",
    "data = upsample_data_yscaled(filtered_peaks[som_cls_dec_area_aft2['type'] == kind], 300)\n",
    "ax.plot(data[0], alpha = a, color = color_daa2[kind]/255, label = str(kind))\n",
    "ax.plot(data[1], alpha = a, color = color_daa2[kind]/255, label = str(kind))\n",
    "ax.plot(data[2], alpha = a, color = color_daa2[kind]/255, label = str(kind))\n",
    "ax.plot(data[3], alpha = a, color = color_daa2[kind]/255, label = str(kind))\n",
    "ax.plot(data[4], alpha = a, color = color_daa2[kind]/255, label = str(kind))\n",
    "ax.plot(data[5], alpha = a, color = color_daa2[kind]/255, label = str(kind))\n",
    "ax.plot(data[6], alpha = a, color = color_daa2[kind]/255, label = str(kind))\n",
    "ax.plot(data[7], alpha = a, color = color_daa2[kind]/255, label = str(kind))\n",
    "ax.plot(data[8], alpha = a, color = color_daa2[kind]/255, label = str(kind))\n",
    "ax.plot(data[9], alpha = a, color = color_daa2[kind]/255, label = str(kind))\n",
    "\n",
    "kind = 16\n",
    "data = upsample_data_yscaled(filtered_peaks[som_cls_dec_area_aft2['type'] == kind], 300)\n",
    "ax.plot(data[0], alpha = a, color = color_daa2[kind]/255, label = str(kind))\n",
    "ax.plot(data[1], alpha = a, color = color_daa2[kind]/255, label = str(kind))\n",
    "ax.plot(data[2], alpha = a, color = color_daa2[kind]/255, label = str(kind))\n",
    "ax.plot(data[3], alpha = a, color = color_daa2[kind]/255, label = str(kind))\n",
    "ax.plot(data[4], alpha = a, color = color_daa2[kind]/255, label = str(kind))\n",
    "ax.plot(data[5], alpha = a, color = color_daa2[kind]/255, label = str(kind))\n",
    "ax.plot(data[6], alpha = a, color = color_daa2[kind]/255, label = str(kind))\n",
    "ax.plot(data[7], alpha = a, color = color_daa2[kind]/255, label = str(kind))\n",
    "ax.plot(data[8], alpha = a, color = color_daa2[kind]/255, label = str(kind))\n",
    "ax.plot(data[9], alpha = a, color = color_daa2[kind]/255, label = str(kind))\n",
    "\n",
    "ax.set_xlabel('Time 10[ns]')\n",
    "ax.set_xlim(0, 200)\n",
    "#plt.xlim(0, 5000)\n",
    "#plt.ylim(0,10)"
   ]
  },
  {
   "cell_type": "code",
   "execution_count": null,
   "id": "b7c907fa-acd2-417d-a82a-7be83f1d66d9",
   "metadata": {},
   "outputs": [],
   "source": [
    "fig, ax = plt.subplots(1 ,figsize=(6,4))\n",
    "a = 0.3\n",
    "kind = 8\n",
    "data = upsample_data_yscaled(filtered_peaks[som_cls_dec_area_aft2['type'] == kind], 300)\n",
    "ax.plot(data[0], alpha = a, color = color_daa2[kind]/255, label = str(kind))\n",
    "ax.plot(data[1], alpha = a, color = color_daa2[kind]/255, label = str(kind))\n",
    "ax.plot(data[2], alpha = a, color = color_daa2[kind]/255, label = str(kind))\n",
    "ax.plot(data[3], alpha = a, color = color_daa2[kind]/255, label = str(kind))\n",
    "ax.plot(data[4], alpha = a, color = color_daa2[kind]/255, label = str(kind))\n",
    "ax.plot(data[5], alpha = a, color = color_daa2[kind]/255, label = str(kind))\n",
    "ax.plot(data[6], alpha = a, color = color_daa2[kind]/255, label = str(kind))\n",
    "ax.plot(data[7], alpha = a, color = color_daa2[kind]/255, label = str(kind))\n",
    "ax.plot(data[8], alpha = a, color = color_daa2[kind]/255, label = str(kind))\n",
    "ax.plot(data[9], alpha = a, color = color_daa2[kind]/255, label = str(kind))\n",
    "\n",
    "kind = 16\n",
    "data = upsample_data_yscaled(filtered_peaks[som_cls_dec_area_aft2['type'] == kind], 300)\n",
    "ax.plot(data[0], alpha = a, color = color_daa2[kind]/255, label = str(kind))\n",
    "ax.plot(data[1], alpha = a, color = color_daa2[kind]/255, label = str(kind))\n",
    "ax.plot(data[2], alpha = a, color = color_daa2[kind]/255, label = str(kind))\n",
    "ax.plot(data[3], alpha = a, color = color_daa2[kind]/255, label = str(kind))\n",
    "ax.plot(data[4], alpha = a, color = color_daa2[kind]/255, label = str(kind))\n",
    "ax.plot(data[5], alpha = a, color = color_daa2[kind]/255, label = str(kind))\n",
    "ax.plot(data[6], alpha = a, color = color_daa2[kind]/255, label = str(kind))\n",
    "ax.plot(data[7], alpha = a, color = color_daa2[kind]/255, label = str(kind))\n",
    "ax.plot(data[8], alpha = a, color = color_daa2[kind]/255, label = str(kind))\n",
    "ax.plot(data[9], alpha = a, color = color_daa2[kind]/255, label = str(kind))\n",
    "\n",
    "ax.set_xlabel('Time 10[ns]')\n",
    "ax.set_xlim(0, 2000)\n",
    "#plt.xlim(0, 5000)\n",
    "#plt.ylim(0,10)"
   ]
  },
  {
   "cell_type": "code",
   "execution_count": null,
   "id": "ad431819-6399-4e5a-845f-633e4302c31d",
   "metadata": {},
   "outputs": [],
   "source": [
    "fig, ax = plt.subplots(1 ,figsize=(6,4))\n",
    "a = 0.7\n",
    "kind = 12\n",
    "data = upsample_data_yscaled(filtered_peaks[som_cls_dec_area_aft2['type'] == kind], 300)\n",
    "ax.plot(data[np.random.randint(0, len(data))], alpha = a, color = color_daa2[kind]/255, label = str(kind))\n",
    "ax.plot(data[np.random.randint(0, len(data))], alpha = a, color = color_daa2[kind]/255, label = str(kind))\n",
    "ax.plot(data[np.random.randint(0, len(data))], alpha = a, color = color_daa2[kind]/255, label = str(kind))\n",
    "ax.plot(data[np.random.randint(0, len(data))], alpha = a, color = color_daa2[kind]/255, label = str(kind))\n",
    "ax.plot(data[np.random.randint(0, len(data))], alpha = a, color = color_daa2[kind]/255, label = str(kind))\n",
    "ax.plot(data[np.random.randint(0, len(data))], alpha = a, color = color_daa2[kind]/255, label = str(kind))\n",
    "ax.plot(data[np.random.randint(0, len(data))], alpha = a, color = color_daa2[kind]/255, label = str(kind))\n",
    "ax.plot(data[np.random.randint(0, len(data))], alpha = a, color = color_daa2[kind]/255, label = str(kind))\n",
    "ax.plot(data[np.random.randint(0, len(data))], alpha = a, color = color_daa2[kind]/255, label = str(kind))\n",
    "ax.plot(data[np.random.randint(0, len(data))], alpha = a, color = color_daa2[kind]/255, label = str(kind))\n",
    "\n",
    "kind = 16\n",
    "data = upsample_data_yscaled(filtered_peaks[som_cls_dec_area_aft2['type'] == kind], 300)\n",
    "ax.plot(data[np.random.randint(0, len(data))], alpha = a, color = color_daa2[kind]/255, label = str(kind))\n",
    "ax.plot(data[np.random.randint(0, len(data))], alpha = a, color = color_daa2[kind]/255, label = str(kind))\n",
    "ax.plot(data[np.random.randint(0, len(data))], alpha = a, color = color_daa2[kind]/255, label = str(kind))\n",
    "ax.plot(data[np.random.randint(0, len(data))], alpha = a, color = color_daa2[kind]/255, label = str(kind))\n",
    "ax.plot(data[np.random.randint(0, len(data))], alpha = a, color = color_daa2[kind]/255, label = str(kind))\n",
    "ax.plot(data[np.random.randint(0, len(data))], alpha = a, color = color_daa2[kind]/255, label = str(kind))\n",
    "ax.plot(data[np.random.randint(0, len(data))], alpha = a, color = color_daa2[kind]/255, label = str(kind))\n",
    "ax.plot(data[np.random.randint(0, len(data))], alpha = a, color = color_daa2[kind]/255, label = str(kind))\n",
    "ax.plot(data[np.random.randint(0, len(data))], alpha = a, color = color_daa2[kind]/255, label = str(kind))\n",
    "ax.plot(data[np.random.randint(0, len(data))], alpha = a, color = color_daa2[kind]/255, label = str(kind))\n",
    "\n",
    "ax.set_xlabel('Time 10[ns]')\n",
    "ax.set_xlim(0, 2000)\n",
    "#plt.xlim(0, 5000)\n",
    "#plt.ylim(0,10)"
   ]
  },
  {
   "cell_type": "code",
   "execution_count": null,
   "id": "b2670bdc-a22f-4c6c-8e2a-755703f186bd",
   "metadata": {},
   "outputs": [],
   "source": [
    "fig, ax = plt.subplots(1 ,figsize=(6,4))\n",
    "a = 0.8\n",
    "kind = 12\n",
    "data = upsample_data_yscaled(filtered_peaks[som_cls_dec_area_aft2['type'] == kind], 300)\n",
    "ax.plot(data[np.random.randint(0, len(data))], alpha = a, color = color_daa2[kind]/255, label = str(kind))\n",
    "ax.plot(data[np.random.randint(0, len(data))], alpha = a, color = color_daa2[kind]/255, label = str(kind))\n",
    "ax.plot(data[np.random.randint(0, len(data))], alpha = a, color = color_daa2[kind]/255, label = str(kind))\n",
    "ax.plot(data[np.random.randint(0, len(data))], alpha = a, color = color_daa2[kind]/255, label = str(kind))\n",
    "ax.plot(data[np.random.randint(0, len(data))], alpha = a, color = color_daa2[kind]/255, label = str(kind))\n",
    "ax.plot(data[np.random.randint(0, len(data))], alpha = a, color = color_daa2[kind]/255, label = str(kind))\n",
    "ax.plot(data[np.random.randint(0, len(data))], alpha = a, color = color_daa2[kind]/255, label = str(kind))\n",
    "ax.plot(data[np.random.randint(0, len(data))], alpha = a, color = color_daa2[kind]/255, label = str(kind))\n",
    "ax.plot(data[np.random.randint(0, len(data))], alpha = a, color = color_daa2[kind]/255, label = str(kind))\n",
    "ax.plot(data[np.random.randint(0, len(data))], alpha = a, color = color_daa2[kind]/255, label = str(kind))\n",
    "\n",
    "kind = 16\n",
    "data = upsample_data_yscaled(filtered_peaks[som_cls_dec_area_aft2['type'] == kind], 300)\n",
    "ax.plot(data[np.random.randint(0, len(data))], alpha = a, color = color_daa2[kind]/255, label = str(kind))\n",
    "ax.plot(data[np.random.randint(0, len(data))], alpha = a, color = color_daa2[kind]/255, label = str(kind))\n",
    "ax.plot(data[np.random.randint(0, len(data))], alpha = a, color = color_daa2[kind]/255, label = str(kind))\n",
    "ax.plot(data[np.random.randint(0, len(data))], alpha = a, color = color_daa2[kind]/255, label = str(kind))\n",
    "ax.plot(data[np.random.randint(0, len(data))], alpha = a, color = color_daa2[kind]/255, label = str(kind))\n",
    "ax.plot(data[np.random.randint(0, len(data))], alpha = a, color = color_daa2[kind]/255, label = str(kind))\n",
    "ax.plot(data[np.random.randint(0, len(data))], alpha = a, color = color_daa2[kind]/255, label = str(kind))\n",
    "ax.plot(data[np.random.randint(0, len(data))], alpha = a, color = color_daa2[kind]/255, label = str(kind))\n",
    "ax.plot(data[np.random.randint(0, len(data))], alpha = a, color = color_daa2[kind]/255, label = str(kind))\n",
    "ax.plot(data[np.random.randint(0, len(data))], alpha = a, color = color_daa2[kind]/255, label = str(kind))\n",
    "\n",
    "ax.set_xlim(0, 2000)\n",
    "ax.set_xlabel('Time 10[ns]')\n",
    "ax.set_ylabel('Amplitude [PE/ns]')"
   ]
  },
  {
   "cell_type": "code",
   "execution_count": null,
   "id": "5f34e89e-ee90-41de-9f8f-b5f907dfc725",
   "metadata": {},
   "outputs": [],
   "source": [
    "fig, ax = plt.subplots(1 ,figsize=(6,4))\n",
    "a = 0.7\n",
    "kind = 12\n",
    "data = upsample_data_yscaled(filtered_peaks[som_cls_dec_area_aft2['type'] == kind], 300)\n",
    "ax.plot(data[np.random.randint(0, len(data))], alpha = a, color = color_daa2[kind]/255, label = str(kind))\n",
    "ax.plot(data[np.random.randint(0, len(data))], alpha = a, color = color_daa2[kind]/255, label = str(kind))\n",
    "ax.plot(data[np.random.randint(0, len(data))], alpha = a, color = color_daa2[kind]/255, label = str(kind))\n",
    "ax.plot(data[np.random.randint(0, len(data))], alpha = a, color = color_daa2[kind]/255, label = str(kind))\n",
    "ax.plot(data[np.random.randint(0, len(data))], alpha = a, color = color_daa2[kind]/255, label = str(kind))\n",
    "ax.plot(data[np.random.randint(0, len(data))], alpha = a, color = color_daa2[kind]/255, label = str(kind))\n",
    "ax.plot(data[np.random.randint(0, len(data))], alpha = a, color = color_daa2[kind]/255, label = str(kind))\n",
    "ax.plot(data[np.random.randint(0, len(data))], alpha = a, color = color_daa2[kind]/255, label = str(kind))\n",
    "ax.plot(data[np.random.randint(0, len(data))], alpha = a, color = color_daa2[kind]/255, label = str(kind))\n",
    "ax.plot(data[np.random.randint(0, len(data))], alpha = a, color = color_daa2[kind]/255, label = str(kind))\n",
    "\n",
    "kind = 16\n",
    "data = upsample_data_yscaled(filtered_peaks[som_cls_dec_area_aft2['type'] == kind], 300)\n",
    "ax.plot(data[np.random.randint(0, len(data))], alpha = a, color = color_daa2[kind]/255, label = str(kind))\n",
    "ax.plot(data[np.random.randint(0, len(data))], alpha = a, color = color_daa2[kind]/255, label = str(kind))\n",
    "ax.plot(data[np.random.randint(0, len(data))], alpha = a, color = color_daa2[kind]/255, label = str(kind))\n",
    "ax.plot(data[np.random.randint(0, len(data))], alpha = a, color = color_daa2[kind]/255, label = str(kind))\n",
    "ax.plot(data[np.random.randint(0, len(data))], alpha = a, color = color_daa2[kind]/255, label = str(kind))\n",
    "ax.plot(data[np.random.randint(0, len(data))], alpha = a, color = color_daa2[kind]/255, label = str(kind))\n",
    "ax.plot(data[np.random.randint(0, len(data))], alpha = a, color = color_daa2[kind]/255, label = str(kind))\n",
    "ax.plot(data[np.random.randint(0, len(data))], alpha = a, color = color_daa2[kind]/255, label = str(kind))\n",
    "ax.plot(data[np.random.randint(0, len(data))], alpha = a, color = color_daa2[kind]/255, label = str(kind))\n",
    "ax.plot(data[np.random.randint(0, len(data))], alpha = a, color = color_daa2[kind]/255, label = str(kind))\n",
    "\n",
    "ax.set_xlabel('Time 10[ns]')\n",
    "ax.set_xlim(0, 200)"
   ]
  },
  {
   "cell_type": "code",
   "execution_count": null,
   "id": "1cfe30d1-df6b-441c-abec-2688271786c1",
   "metadata": {},
   "outputs": [],
   "source": [
    "np.random.random_integers(0, len(data))"
   ]
  },
  {
   "cell_type": "code",
   "execution_count": null,
   "id": "0637ea8e-253d-4528-8f44-f54bff4bb01d",
   "metadata": {},
   "outputs": [],
   "source": [
    "np.random.randint(0, len(data))"
   ]
  },
  {
   "cell_type": "code",
   "execution_count": null,
   "id": "6fc434a9-ae4f-401f-b459-18091e0bc460",
   "metadata": {},
   "outputs": [],
   "source": [
    "xgrid = 4\n",
    "ygrid = 5\n",
    "fig, ax = plt.subplots(nrows=ygrid, ncols=xgrid, figsize=(20, 16))\n",
    "\n",
    "kind = 0\n",
    "for i in np.arange(ygrid):\n",
    "    for j in np.arange(xgrid):\n",
    "        data = upsample_data_yscaled(filtered_peaks[som_cls_dec_area_aft2['type'] == kind], 300)\n",
    "        ax[i,j].plot(np.mean(data, axis = 0), \n",
    "                         alpha = 1, color = color_daa2[kind]/255, label = str(kind))\n",
    "        kind = kind + 1\n",
    "        ax[i,j].set_xlabel('Time 10[ns]')\n",
    "        ax[i,j].set_xlim(0, 200)"
   ]
  },
  {
   "cell_type": "code",
   "execution_count": null,
   "id": "5523fc38-670a-4256-9deb-54dab11ad95d",
   "metadata": {},
   "outputs": [],
   "source": [
    "xgrid = 4\n",
    "ygrid = 5\n",
    "fig, ax = plt.subplots(nrows=ygrid, ncols=xgrid, figsize=(15, 15))\n",
    "\n",
    "kind = 0\n",
    "a = 0.6\n",
    "for i in np.arange(ygrid):\n",
    "    for j in np.arange(xgrid):\n",
    "        data = upsample_data_yscaled(filtered_peaks[som_cls_dec_area_aft2['type'] == kind], 300)\n",
    "        ax[i,j].plot(data[0], alpha = a, color = color_daa2[kind]/255, label = str(kind))\n",
    "        ax[i,j].plot(data[1], alpha = a, color = color_daa2[kind]/255, label = str(kind))\n",
    "        ax[i,j].plot(data[2], alpha = a, color = color_daa2[kind]/255, label = str(kind))\n",
    "        ax[i,j].plot(data[3], alpha = a, color = color_daa2[kind]/255, label = str(kind))\n",
    "        ax[i,j].plot(data[4], alpha = a, color = color_daa2[kind]/255, label = str(kind))\n",
    "        kind = kind + 1\n",
    "        ax[i,j].set_xlabel('Time 10[ns]')\n",
    "        ax[i,j].set_xlim(0, 200)"
   ]
  },
  {
   "cell_type": "code",
   "execution_count": null,
   "id": "6b62567d-5968-47fb-9537-8e3b429cc0f0",
   "metadata": {},
   "outputs": [],
   "source": [
    "plt.plot(upsample_data_yscaled(filtered_peaks[som_cls_dec_area_aft2['type'] == 1], 300)[0], color = 'blue')\n",
    "plt.xlim(0,200)\n",
    "plt.xlabel('Time 10[ns]')"
   ]
  },
  {
   "cell_type": "code",
   "execution_count": null,
   "id": "2340ac2f-da5c-4bb6-8837-3ff3e30f882d",
   "metadata": {},
   "outputs": [],
   "source": [
    "plt.plot(upsample_data_yscaled(filtered_peaks[som_cls_dec_area_aft2['type'] == 1], 300)[1], color = 'blue')\n",
    "plt.xlim(0,200)\n",
    "plt.xlabel('Time 10[ns]')"
   ]
  },
  {
   "cell_type": "code",
   "execution_count": null,
   "id": "05d8ecf8-f423-4720-9c3a-4fc8266576e0",
   "metadata": {},
   "outputs": [],
   "source": [
    "plt.plot(upsample_data_yscaled(filtered_peaks[som_cls_dec_area_aft2['type'] == 1], 300)[2], color = 'blue')\n",
    "plt.xlim(0,200)\n",
    "plt.xlabel('Time 10[ns]')"
   ]
  },
  {
   "cell_type": "code",
   "execution_count": null,
   "id": "af5bec52-5913-4ade-abd3-750d73fc2385",
   "metadata": {},
   "outputs": [],
   "source": [
    "plt.plot(upsample_data_yscaled(filtered_peaks[som_cls_dec_area_aft2['type'] == 19], 300)[0], color = 'black')\n",
    "plt.xlim(0,200)\n",
    "plt.xlabel('Time 10[ns]')"
   ]
  },
  {
   "cell_type": "code",
   "execution_count": null,
   "id": "c0353be8-35f4-40e7-a274-30031c1b6e5b",
   "metadata": {},
   "outputs": [],
   "source": [
    "plt.plot(upsample_data_yscaled(filtered_peaks[som_cls_dec_area_aft2['type'] == 19], 300)[1], color = 'black')\n",
    "plt.xlim(0,200)\n",
    "plt.xlabel('Time 10[ns]')"
   ]
  },
  {
   "cell_type": "code",
   "execution_count": null,
   "id": "c5f7425b-4e20-493f-a509-4cf3833ba8c2",
   "metadata": {},
   "outputs": [],
   "source": [
    "plt.plot(upsample_data(filtered_peaks[som_cls_dec_area_aft2['type'] == 19], 300)[2], color = 'black')\n",
    "plt.xlim(0,200)\n",
    "plt.xlabel('Time 10[ns]')"
   ]
  },
  {
   "cell_type": "code",
   "execution_count": null,
   "id": "f80e48f9-48d0-4582-8586-e7eed9972378",
   "metadata": {},
   "outputs": [],
   "source": [
    "plt.plot(upsample_data(filtered_peaks[som_cls_dec_area_aft2['type'] == 19], 300)[3], color = 'black')\n",
    "plt.xlim(0,200)\n",
    "plt.xlabel('Time 10[ns]')"
   ]
  },
  {
   "cell_type": "code",
   "execution_count": null,
   "id": "98b80fb4-69dc-4674-abc5-d8b6644abb91",
   "metadata": {},
   "outputs": [],
   "source": [
    "kind = 15\n",
    "plt.plot(upsample_data_yscaled(filtered_peaks[som_cls_dec_area_aft2['type'] == kind], 300)[0], color = color_daa2[kind]/255)\n",
    "plt.xlim(0,200)\n",
    "plt.xlabel('Time 10[ns]')\n",
    "plt.ylabel('Amplitude [PE/ns]')"
   ]
  },
  {
   "cell_type": "code",
   "execution_count": null,
   "id": "0a166c02-ab2f-4b2b-9fec-1c5f125af4cd",
   "metadata": {},
   "outputs": [],
   "source": [
    "kind = 15\n",
    "plt.plot(upsample_data_yscaled(filtered_peaks[som_cls_dec_area_aft2['type'] == kind], 300)[1], color = color_daa2[kind]/255)\n",
    "plt.xlim(0,200)\n",
    "plt.xlabel('Time 10[ns]')\n",
    "plt.ylabel('Amplitude [PE/ns]')"
   ]
  },
  {
   "cell_type": "code",
   "execution_count": null,
   "id": "eb698aaa-a8ae-47bb-b125-a58eb109177c",
   "metadata": {},
   "outputs": [],
   "source": [
    "kind = 15\n",
    "plt.plot(upsample_data_yscaled(filtered_peaks[som_cls_dec_area_aft2['type'] == kind], 300)[2], color = color_daa2[kind]/255)\n",
    "plt.xlim(0,200)\n",
    "plt.xlabel('Time 10[ns]')\n",
    "plt.ylabel('Amplitude [PE/ns]')"
   ]
  },
  {
   "cell_type": "code",
   "execution_count": null,
   "id": "9533957f-f06f-4362-bc42-7bd92bd26f3d",
   "metadata": {},
   "outputs": [],
   "source": [
    "kind = 15\n",
    "plt.plot(upsample_data_yscaled(filtered_peaks[som_cls_dec_area_aft2['type'] == kind], 300)[3], color = color_daa2[kind]/255)\n",
    "plt.xlim(0,200)\n",
    "plt.xlabel('Time 10[ns]')\n",
    "plt.ylabel('Amplitude [PE/ns]')"
   ]
  },
  {
   "cell_type": "code",
   "execution_count": null,
   "id": "8d2c3e19-dc2a-4438-be01-94d42a9a6757",
   "metadata": {},
   "outputs": [],
   "source": [
    "kind = 15\n",
    "plt.plot(upsample_data_yscaled(filtered_peaks[som_cls_dec_area_aft2['type'] == kind], 300)[4], color = color_daa2[kind]/255)\n",
    "plt.xlim(0,200)\n",
    "plt.xlabel('Time 10[ns]')\n",
    "plt.ylabel('Amplitude [PE/ns]')"
   ]
  },
  {
   "cell_type": "code",
   "execution_count": null,
   "id": "628d07bf-4883-4cb3-8919-ff1a9daffc19",
   "metadata": {},
   "outputs": [],
   "source": [
    "kind = 15\n",
    "plt.plot(upsample_data_yscaled(filtered_peaks[som_cls_dec_area_aft2['type'] == kind], 300)[5], color = color_daa2[kind]/255)\n",
    "plt.xlim(0,200)\n",
    "plt.xlabel('Time 10[ns]')\n",
    "plt.ylabel('Amplitude [PE/ns]')"
   ]
  },
  {
   "cell_type": "code",
   "execution_count": null,
   "id": "a8cfd151-b217-45ee-b495-173edd50f20d",
   "metadata": {},
   "outputs": [],
   "source": [
    "kind = 14\n",
    "plt.plot(upsample_data(filtered_peaks[som_cls_dec_area_aft2['type'] == kind], 300)[0], color = color_daa2[kind]/255)\n",
    "plt.xlim(0,200)\n",
    "plt.xlabel('Time 10[ns]')"
   ]
  },
  {
   "cell_type": "code",
   "execution_count": null,
   "id": "1d21e9e7-7a04-4ec8-8892-6bc437f67f76",
   "metadata": {},
   "outputs": [],
   "source": [
    "kind = 14\n",
    "plt.plot(upsample_data(filtered_peaks[som_cls_dec_area_aft2['type'] == kind], 300)[1], color = color_daa2[kind]/255)\n",
    "plt.xlim(0,200)\n",
    "plt.xlabel('Time 10[ns]')"
   ]
  },
  {
   "cell_type": "code",
   "execution_count": null,
   "id": "14120417-44b7-46e1-81d0-01d15c3db23f",
   "metadata": {},
   "outputs": [],
   "source": [
    "kind = 14\n",
    "plt.plot(upsample_data(filtered_peaks[som_cls_dec_area_aft2['type'] == kind], 300)[2], color = color_daa2[kind]/255)\n",
    "plt.xlim(0,200)\n",
    "plt.xlabel('Time 10[ns]')"
   ]
  },
  {
   "cell_type": "code",
   "execution_count": null,
   "id": "cae19c0d-d651-467b-b858-d9a22f7bbf17",
   "metadata": {},
   "outputs": [],
   "source": [
    "kind = 13\n",
    "plt.plot(upsample_data(filtered_peaks[som_cls_dec_area_aft2['type'] == kind], 300)[0], color = color_daa2[kind]/255)\n",
    "plt.xlim(0,200)\n",
    "plt.xlabel('Time 10[ns]')"
   ]
  },
  {
   "cell_type": "code",
   "execution_count": null,
   "id": "109263f7-8ac4-4aea-a2a7-ca2f63c007b4",
   "metadata": {},
   "outputs": [],
   "source": [
    "kind = 13\n",
    "plt.plot(upsample_data(filtered_peaks[som_cls_dec_area_aft2['type'] == kind], 300)[1], color = color_daa2[kind]/255)\n",
    "plt.xlim(0,200)\n",
    "plt.xlabel('Time 10[ns]')"
   ]
  },
  {
   "cell_type": "code",
   "execution_count": null,
   "id": "08ec4e86-bf3d-40bd-9b6a-d2c944c9fe11",
   "metadata": {},
   "outputs": [],
   "source": [
    "kind = 13\n",
    "plt.plot(upsample_data(filtered_peaks[som_cls_dec_area_aft2['type'] == kind], 300)[2], color = color_daa2[kind]/255)\n",
    "plt.xlim(0,200)\n",
    "plt.xlabel('Time 10[ns]')"
   ]
  },
  {
   "cell_type": "code",
   "execution_count": null,
   "id": "b0c59aa0-30a3-46c7-90e4-43600d814dd2",
   "metadata": {},
   "outputs": [],
   "source": [
    "kind = 0\n",
    "plt.plot(upsample_data(filtered_peaks[som_cls_dec_area_aft2['type'] == kind], 300)[0], color = color_daa2[kind]/255)\n",
    "plt.xlim(0,200)\n",
    "plt.xlabel('Time 10[ns]')"
   ]
  },
  {
   "cell_type": "code",
   "execution_count": null,
   "id": "06d56c62-4e48-4236-968d-a31c9c99e0f9",
   "metadata": {},
   "outputs": [],
   "source": [
    "kind = 0\n",
    "plt.plot(upsample_data(filtered_peaks[som_cls_dec_area_aft2['type'] == kind], 300)[1], color = color_daa2[kind]/255)\n",
    "plt.xlim(0,200)\n",
    "plt.xlabel('Time 10[ns]')"
   ]
  },
  {
   "cell_type": "code",
   "execution_count": null,
   "id": "e155b748-368c-4717-b603-843179e5d79f",
   "metadata": {},
   "outputs": [],
   "source": [
    "kind = 0\n",
    "plt.plot(upsample_data(filtered_peaks[som_cls_dec_area_aft2['type'] == kind], 300)[2], color = color_daa2[kind]/255)\n",
    "plt.xlim(0,200)\n",
    "plt.xlabel('Time 10[ns]')"
   ]
  },
  {
   "cell_type": "code",
   "execution_count": null,
   "id": "dce4bab1-2521-42f4-a739-da062776195d",
   "metadata": {},
   "outputs": [],
   "source": [
    "kind = 0\n",
    "plt.plot(upsample_data_yscaled(filtered_peaks[som_cls_dec_area_aft2['type'] == kind], 300)[3], color = color_daa2[kind]/255)\n",
    "plt.xlim(0,400)\n",
    "plt.xlabel('Time 10[ns]')"
   ]
  },
  {
   "cell_type": "code",
   "execution_count": null,
   "id": "11a912a6-749d-4289-b731-f250dbe99ba4",
   "metadata": {},
   "outputs": [],
   "source": [
    "kind = 1\n",
    "plt.plot(upsample_data(filtered_peaks[som_cls_dec_area_aft2['type'] == kind], 300)[0], color = color_daa2[kind]/255)\n",
    "plt.xlim(0,200)\n",
    "plt.xlabel('Time 10[ns]')"
   ]
  },
  {
   "cell_type": "code",
   "execution_count": null,
   "id": "48210864-2833-4dba-b4d8-bce54ceaca52",
   "metadata": {},
   "outputs": [],
   "source": [
    "kind = 1\n",
    "plt.plot(upsample_data(filtered_peaks[som_cls_dec_area_aft2['type'] == kind], 300)[1], color = color_daa2[kind]/255)\n",
    "plt.xlim(0,200)\n",
    "plt.xlabel('Time 10[ns]')"
   ]
  },
  {
   "cell_type": "code",
   "execution_count": null,
   "id": "bdb04fdd-d893-4deb-a4ab-2929e067a421",
   "metadata": {},
   "outputs": [],
   "source": [
    "kind = 1\n",
    "plt.plot(upsample_data(filtered_peaks[som_cls_dec_area_aft2['type'] == kind], 300)[3], color = color_daa2[kind]/255)\n",
    "plt.xlim(0,200)\n",
    "plt.xlabel('Time 10[ns]')"
   ]
  },
  {
   "cell_type": "code",
   "execution_count": null,
   "id": "341836cb-728d-4ca3-980c-e7d8133f9669",
   "metadata": {},
   "outputs": [],
   "source": [
    "kind = 4\n",
    "plt.plot(upsample_data_yscaled(filtered_peaks[som_cls_dec_area_aft2['type'] == kind], 300)[0], color = color_daa2[kind]/255)\n",
    "plt.xlim(0,200)\n",
    "plt.xlabel('Time 10[ns]')"
   ]
  },
  {
   "cell_type": "code",
   "execution_count": null,
   "id": "8629e23e-2b59-461f-ba89-5025f4859445",
   "metadata": {},
   "outputs": [],
   "source": [
    "kind = 4\n",
    "plt.plot(upsample_data_yscaled(filtered_peaks[som_cls_dec_area_aft2['type'] == kind], 300)[1], color = color_daa2[kind]/255)\n",
    "plt.xlim(0,200)\n",
    "plt.xlabel('Time 10[ns]')"
   ]
  },
  {
   "cell_type": "code",
   "execution_count": null,
   "id": "0a608a38-9512-4652-946d-d2a903b51740",
   "metadata": {},
   "outputs": [],
   "source": [
    "kind = 4\n",
    "plt.plot(upsample_data_yscaled(filtered_peaks[som_cls_dec_area_aft2['type'] == kind], 300)[2], color = color_daa2[kind]/255)\n",
    "plt.xlim(0,200)\n",
    "plt.xlabel('Time 10[ns]')"
   ]
  },
  {
   "cell_type": "code",
   "execution_count": null,
   "id": "08c644cb-d876-44bd-b440-d7c6779bf72b",
   "metadata": {},
   "outputs": [],
   "source": [
    "kind = 4\n",
    "plt.plot(upsample_data_yscaled(filtered_peaks[som_cls_dec_area_aft2['type'] == kind], 300)[2], color = color_daa2[kind]/255)\n",
    "plt.xlim(0,1100)\n",
    "plt.xlabel('Time 10[ns]')"
   ]
  },
  {
   "cell_type": "code",
   "execution_count": null,
   "id": "8d7156b8-6379-4d5b-b1ec-36a3e993434c",
   "metadata": {},
   "outputs": [],
   "source": [
    "kind = 4\n",
    "plt.plot(upsample_data_yscaled(filtered_peaks[som_cls_dec_area_aft2['type'] == kind], 300)[3], color = color_daa2[kind]/255)\n",
    "plt.xlim(0,200)\n",
    "plt.xlabel('Time 10[ns]')"
   ]
  },
  {
   "cell_type": "code",
   "execution_count": null,
   "id": "2a80e815-960d-4cf8-817a-b204a6c56ea0",
   "metadata": {},
   "outputs": [],
   "source": [
    "kind = 4\n",
    "plt.plot(upsample_data_yscaled(filtered_peaks[som_cls_dec_area_aft2['type'] == kind], 300)[3], color = color_daa2[kind]/255)\n",
    "plt.xlim(0,1100)\n",
    "plt.xlabel('Time 10[ns]')"
   ]
  },
  {
   "cell_type": "code",
   "execution_count": null,
   "id": "fe23a2bf-1747-417c-a8a5-5a0d8c8115c0",
   "metadata": {},
   "outputs": [],
   "source": [
    "kind = 5\n",
    "plt.plot(upsample_data(filtered_peaks[som_cls_dec_area_aft2['type'] == kind], 300)[0], color = color_daa2[kind]/255)\n",
    "plt.xlim(0,200)\n",
    "plt.xlabel('Time 10[ns]')"
   ]
  },
  {
   "cell_type": "code",
   "execution_count": null,
   "id": "079cf856-df59-4943-b92b-f39bee456180",
   "metadata": {},
   "outputs": [],
   "source": [
    "kind = 5\n",
    "plt.plot(upsample_data(filtered_peaks[som_cls_dec_area_aft2['type'] == kind], 300)[1], color = color_daa2[kind]/255)\n",
    "plt.xlim(0,200)\n",
    "plt.xlabel('Time 10[ns]')"
   ]
  },
  {
   "cell_type": "code",
   "execution_count": null,
   "id": "c7364fa5-0b65-4588-8511-e5eb26a9a990",
   "metadata": {},
   "outputs": [],
   "source": [
    "kind = 5\n",
    "plt.plot(upsample_data(filtered_peaks[som_cls_dec_area_aft2['type'] == kind], 300)[2], color = color_daa2[kind]/255)\n",
    "plt.xlim(0,200)\n",
    "plt.xlabel('Time 10[ns]')"
   ]
  },
  {
   "cell_type": "code",
   "execution_count": null,
   "id": "bb3c9781-62e9-48a7-a569-c0728657cc2b",
   "metadata": {},
   "outputs": [],
   "source": [
    "kind = 5\n",
    "plt.plot(upsample_data(filtered_peaks[som_cls_dec_area_aft2['type'] == kind], 300)[3], color = color_daa2[kind]/255)\n",
    "plt.xlim(0,200)\n",
    "plt.xlabel('Time 10[ns]')"
   ]
  },
  {
   "cell_type": "code",
   "execution_count": null,
   "id": "27ff169e-8036-4db3-adf2-169625ab9e52",
   "metadata": {},
   "outputs": [],
   "source": [
    "kind = 5\n",
    "plt.plot(upsample_data(filtered_peaks[som_cls_dec_area_aft2['type'] == kind], 300)[4], color = color_daa2[kind]/255)\n",
    "plt.xlim(0,200)\n",
    "plt.xlabel('Time 10[ns]')"
   ]
  },
  {
   "cell_type": "code",
   "execution_count": null,
   "id": "50b7975f-e57c-4852-a7f6-5551d324a4c5",
   "metadata": {},
   "outputs": [],
   "source": [
    "kind = 12\n",
    "plt.plot(upsample_data(filtered_peaks[som_cls_dec_area_aft2['type'] == kind], 300)[0], color = color_daa2[kind]/255)\n",
    "plt.xlim(0,200)\n",
    "plt.xlabel('Time 10[ns]')"
   ]
  },
  {
   "cell_type": "code",
   "execution_count": null,
   "id": "c1126180-07d9-4a64-ae03-c99ffce760e6",
   "metadata": {},
   "outputs": [],
   "source": [
    "kind = 12\n",
    "plt.plot(upsample_data(filtered_peaks[som_cls_dec_area_aft2['type'] == kind], 300)[1], color = color_daa2[kind]/255)\n",
    "plt.xlim(0,200)\n",
    "plt.xlabel('Time 10[ns]')"
   ]
  },
  {
   "cell_type": "code",
   "execution_count": null,
   "id": "53702528-3541-44d7-b0f3-662ab622fe7f",
   "metadata": {},
   "outputs": [],
   "source": [
    "kind = 12\n",
    "plt.plot(upsample_data(filtered_peaks[som_cls_dec_area_aft2['type'] == kind], 300)[2], color = color_daa2[kind]/255)\n",
    "plt.xlim(0,200)\n",
    "plt.xlabel('Time 10[ns]')"
   ]
  },
  {
   "cell_type": "code",
   "execution_count": null,
   "id": "94dee15e-8df3-4ad6-b001-1aa132a31896",
   "metadata": {},
   "outputs": [],
   "source": [
    "kind = 12\n",
    "plt.plot(upsample_data(filtered_peaks[som_cls_dec_area_aft2['type'] == kind], 300)[3], color = color_daa2[kind]/255)\n",
    "plt.xlim(0,200)\n",
    "plt.xlabel('Time 10[ns]')"
   ]
  },
  {
   "cell_type": "code",
   "execution_count": null,
   "id": "9a777891-d92c-4820-842c-66263e711a9b",
   "metadata": {},
   "outputs": [],
   "source": [
    "kind = 10\n",
    "plt.plot(upsample_data(filtered_peaks[som_cls_dec_area_aft2['type'] == kind], 300)[0], color = color_daa2[kind]/255)\n",
    "plt.xlim(0,200)\n",
    "plt.xlabel('Time 10[ns]')"
   ]
  },
  {
   "cell_type": "code",
   "execution_count": null,
   "id": "a027acee-3c70-4a07-8157-2738ac109b5a",
   "metadata": {},
   "outputs": [],
   "source": [
    "kind = 10\n",
    "plt.plot(upsample_data(filtered_peaks[som_cls_dec_area_aft2['type'] == kind], 300)[1], color = color_daa2[kind]/255)\n",
    "plt.xlim(0,200)\n",
    "plt.xlabel('Time 10[ns]')"
   ]
  },
  {
   "cell_type": "code",
   "execution_count": null,
   "id": "a913a09b-e993-46b0-93ab-e782b5ffe787",
   "metadata": {},
   "outputs": [],
   "source": [
    "kind = 10\n",
    "plt.plot(upsample_data(filtered_peaks[som_cls_dec_area_aft2['type'] == kind], 300)[2], color = color_daa2[kind]/255)\n",
    "plt.xlim(0,200)\n",
    "plt.xlabel('Time 10[ns]')"
   ]
  },
  {
   "cell_type": "code",
   "execution_count": null,
   "id": "6938143b-6ce6-4b8b-b9de-a10b8af37872",
   "metadata": {},
   "outputs": [],
   "source": [
    "kind = 10\n",
    "plt.plot(upsample_data(filtered_peaks[som_cls_dec_area_aft2['type'] == kind], 300)[3], color = color_daa2[kind]/255)\n",
    "plt.xlim(0,200)\n",
    "plt.xlabel('Time 10[ns]')"
   ]
  },
  {
   "cell_type": "code",
   "execution_count": null,
   "id": "220b132a-5613-4510-8308-5abef81ce628",
   "metadata": {},
   "outputs": [],
   "source": [
    "kind = 10\n",
    "plt.plot(upsample_data(filtered_peaks[som_cls_dec_area_aft2['type'] == kind], 300)[4], color = color_daa2[kind]/255)\n",
    "plt.xlim(0,200)\n",
    "plt.xlabel('Time 10[ns]')"
   ]
  },
  {
   "cell_type": "code",
   "execution_count": null,
   "id": "f314e1a4-30dc-4553-a6f2-5030606d5d59",
   "metadata": {},
   "outputs": [],
   "source": [
    "xgrid = 4\n",
    "ygrid = 5\n",
    "fig, ax = plt.subplots(nrows=ygrid, ncols=xgrid, figsize=(15, 15))\n",
    "\n",
    "kind = 0\n",
    "a = 0.6\n",
    "for i in np.arange(ygrid):\n",
    "    for j in np.arange(xgrid):\n",
    "        data = upsample_data(filtered_peaks[som_cls_dec_area_aft2['type'] == kind], 300)\n",
    "        ax[i,j].plot(data[0], alpha = a, color = color_daa2[kind]/255, label = str(kind))\n",
    "        ax[i,j].plot(data[1], alpha = a, color = color_daa2[kind]/255, label = str(kind))\n",
    "        ax[i,j].plot(data[2], alpha = a, color = color_daa2[kind]/255, label = str(kind))\n",
    "        ax[i,j].plot(data[3], alpha = a, color = color_daa2[kind]/255, label = str(kind))\n",
    "        ax[i,j].plot(data[4], alpha = a, color = color_daa2[kind]/255, label = str(kind))\n",
    "        kind = kind + 1\n",
    "        ax[i,j].set_xlabel('Time 10[ns]')\n",
    "        ax[i,j].set_xlim(0, 5000)"
   ]
  },
  {
   "cell_type": "markdown",
   "id": "422f22a0-fb4b-4a29-9510-b3972acea06e",
   "metadata": {},
   "source": [
    "Now lets look a little deeper into the orange cluster vs the orange cluster, what is the actual difference between the two?"
   ]
  },
  {
   "cell_type": "code",
   "execution_count": null,
   "id": "8ac1c7c5-73ed-4899-a600-157e9bcc1896",
   "metadata": {},
   "outputs": [],
   "source": [
    "kind = 16\n",
    "plt.plot(upsample_data_yscaled(filtered_peaks[som_cls_dec_area_aft2['type'] == kind], 300)[0], color = color_daa2[kind]/255)\n",
    "plt.xlim(0,3000)\n",
    "plt.xlabel('Time 10[ns]')"
   ]
  },
  {
   "cell_type": "code",
   "execution_count": null,
   "id": "612cdcb8-0e5b-45a1-8b02-3496dad82763",
   "metadata": {},
   "outputs": [],
   "source": [
    "kind = 16\n",
    "plt.plot(upsample_data_yscaled(filtered_peaks[som_cls_dec_area_aft2['type'] == kind], 300)[1], color = color_daa2[kind]/255)\n",
    "plt.xlim(0,3000)\n",
    "plt.xlabel('Time 10[ns]')"
   ]
  },
  {
   "cell_type": "code",
   "execution_count": null,
   "id": "b554f8a9-63bc-4db0-bd16-bb5d8bb1eba9",
   "metadata": {},
   "outputs": [],
   "source": [
    "kind = 16\n",
    "plt.plot(upsample_data_yscaled(filtered_peaks[som_cls_dec_area_aft2['type'] == kind], 300)[2], color = color_daa2[kind]/255)\n",
    "plt.xlim(0,3000)\n",
    "plt.xlabel('Time 10[ns]')"
   ]
  },
  {
   "cell_type": "code",
   "execution_count": null,
   "id": "d1e4299b-0cc2-4c21-b52d-b393c165b317",
   "metadata": {},
   "outputs": [],
   "source": [
    "kind = 16\n",
    "plt.plot(upsample_data_yscaled(filtered_peaks[som_cls_dec_area_aft2['type'] == kind], 300)[3], color = color_daa2[kind]/255)\n",
    "plt.xlim(0,3000)\n",
    "plt.xlabel('Time 10[ns]')"
   ]
  },
  {
   "cell_type": "code",
   "execution_count": null,
   "id": "c4321b80-ab5a-4cd1-9f3e-0657f87bb0c9",
   "metadata": {},
   "outputs": [],
   "source": [
    "kind = 8\n",
    "plt.plot(upsample_data_yscaled(filtered_peaks[som_cls_dec_area_aft2['type'] == kind], 300)[0], color = color_daa2[kind]/255)\n",
    "plt.xlim(0,3000)\n",
    "plt.xlabel('Time 10[ns]')"
   ]
  },
  {
   "cell_type": "code",
   "execution_count": null,
   "id": "3a609dec-b341-4728-9ef1-6da24bb2704e",
   "metadata": {},
   "outputs": [],
   "source": [
    "kind = 8\n",
    "plt.plot(upsample_data_yscaled(filtered_peaks[som_cls_dec_area_aft2['type'] == kind], 300)[1], color = color_daa2[kind]/255)\n",
    "plt.xlim(0,3000)\n",
    "plt.xlabel('Time 10[ns]')"
   ]
  },
  {
   "cell_type": "code",
   "execution_count": null,
   "id": "735d5072-a4d4-4e9d-a115-0b09c33bc62d",
   "metadata": {},
   "outputs": [],
   "source": [
    "kind = 8\n",
    "plt.plot(upsample_data_yscaled(filtered_peaks[som_cls_dec_area_aft2['type'] == kind], 300)[2], color = color_daa2[kind]/255)\n",
    "plt.xlim(0,4000)\n",
    "plt.xlabel('Time 10[ns]')"
   ]
  },
  {
   "cell_type": "code",
   "execution_count": null,
   "id": "ca357427-d04c-4e5e-a59c-1c136f180a09",
   "metadata": {},
   "outputs": [],
   "source": [
    "kind = 8\n",
    "plt.plot(upsample_data_yscaled(filtered_peaks[som_cls_dec_area_aft2['type'] == kind], 300)[3], color = color_daa2[kind]/255)\n",
    "plt.xlim(0,4000)\n",
    "plt.xlabel('Time 10[ns]')"
   ]
  },
  {
   "cell_type": "code",
   "execution_count": null,
   "id": "47c95660-530c-4779-a573-327e853e3b70",
   "metadata": {},
   "outputs": [],
   "source": [
    "S1_S2_list = np.array([1,1,2,2,2,1,2,2,2,1,1,2,2,1,1,2,2,1,2,1])"
   ]
  },
  {
   "cell_type": "code",
   "execution_count": null,
   "id": "e4787dcd-3747-48e7-a534-45fcd50d2f70",
   "metadata": {},
   "outputs": [],
   "source": [
    "color_daa2"
   ]
  },
  {
   "cell_type": "code",
   "execution_count": null,
   "id": "6fe460ea-4716-4b5a-ba0c-ff991a3928ce",
   "metadata": {},
   "outputs": [],
   "source": [
    "color_daa2[13]"
   ]
  },
  {
   "cell_type": "code",
   "execution_count": null,
   "id": "a1fa6f08-e3b7-4957-92a5-057d7e64bd5e",
   "metadata": {},
   "outputs": [],
   "source": [
    "S1_S2_list[13]"
   ]
  },
  {
   "cell_type": "code",
   "execution_count": null,
   "id": "48e19a14-92a2-4c35-baaa-c3556cc35f60",
   "metadata": {},
   "outputs": [],
   "source": [
    "S1_S2_list"
   ]
  },
  {
   "cell_type": "code",
   "execution_count": null,
   "id": "1b48d62a-0c9a-4b3e-ab20-17907dba8769",
   "metadata": {},
   "outputs": [],
   "source": [
    "som_cls_s1s2_dec_area_aft2 = som_cls_dec_area_aft2"
   ]
  },
  {
   "cell_type": "code",
   "execution_count": null,
   "id": "92b22f3a-6095-4096-9485-0df0f778375a",
   "metadata": {},
   "outputs": [],
   "source": [
    "np.unique(som_cls_s1s2_dec_area_aft2['type'])"
   ]
  },
  {
   "cell_type": "code",
   "execution_count": null,
   "id": "a0073420-d370-4f77-91a3-69e4fc3cac45",
   "metadata": {},
   "outputs": [],
   "source": [
    "def change_type(data, cls_array):\n",
    "    #makes sure you give a label to each data set\n",
    "    data_s1s2 = data.copy()\n",
    "    assert len(cls_array) == len(np.unique(data['type']))\n",
    "    for i in np.arange(len(np.unique(data_s1s2['type']))):\n",
    "        data_s1s2['type'] = np.where(data_s1s2['type'] != i, data_s1s2['type'], cls_array[i])\n",
    "        \n",
    "    return data_s1s2"
   ]
  },
  {
   "cell_type": "code",
   "execution_count": null,
   "id": "e79b462a-6831-4cd4-a1ad-45ccd1d0b4d0",
   "metadata": {},
   "outputs": [],
   "source": [
    "data_s1s2 = change_type(som_cls_s1s2_dec_area_aft2, S1_S2_list)"
   ]
  },
  {
   "cell_type": "code",
   "execution_count": null,
   "id": "eb07ef13-bfaf-4a13-8a2b-d9c8d4155669",
   "metadata": {},
   "outputs": [],
   "source": [
    "np.unique(data_s1s2['type'])"
   ]
  },
  {
   "cell_type": "code",
   "execution_count": null,
   "id": "58760d13-3507-4534-a960-6bf3fc7a1c49",
   "metadata": {},
   "outputs": [],
   "source": [
    "fig = plt.figure(figsize=(10,7))\n",
    "\n",
    "plt.scatter(krpb_non_repeat['area'][data_s1s2['type'] == 1], \n",
    "            krpb_non_repeat['rise_time'][data_s1s2['type'] == 1], \n",
    "            s=0.5, alpha = 0.5, color = 'blue')\n",
    "plt.scatter(krpb_non_repeat['area'][data_s1s2['type'] == 2], \n",
    "            krpb_non_repeat['rise_time'][data_s1s2['type'] == 2], \n",
    "            s=0.5, alpha = 0.5, color = 'green')\n",
    "#plt.scatter(kr_pb_array['area'][kr_pb_array['type'] == 1], kr_pb_array['rise_time'][kr_pb_array['type'] == 1], s=0.1, color = 'blue')\n",
    "plt.xscale('log')\n",
    "plt.yscale('log')\n",
    "plt.xlabel('Area [PE]')\n",
    "plt.ylabel('Rise Time [ns]')\n",
    "plt.xlim(1,1000000)\n",
    "plt.ylim(1,100000)"
   ]
  },
  {
   "cell_type": "code",
   "execution_count": null,
   "id": "0d754d9c-7f51-461a-8475-b081618b6f16",
   "metadata": {},
   "outputs": [],
   "source": [
    "fig = plt.figure(figsize=(6,4.5))\n",
    "\n",
    "plt.scatter(data_s1s2['area'][data_s1s2['type'] == 1], \n",
    "            data_s1s2['rise_time'][data_s1s2['type'] == 1], \n",
    "            s=0.1, alpha = 0.5, color = 'blue', label = 'SOM S1')\n",
    "plt.scatter(data_s1s2['area'][data_s1s2['type'] == 2], \n",
    "            data_s1s2['rise_time'][data_s1s2['type'] == 2], \n",
    "            s=0.1, alpha = 0.5, color = 'green', label = 'SOM S2')\n",
    "#plt.scatter(kr_pb_array['area'][kr_pb_array['type'] == 1], kr_pb_array['rise_time'][kr_pb_array['type'] == 1], s=0.1, color = 'blue')\n",
    "plt.xscale('log')\n",
    "plt.yscale('log')\n",
    "plt.xlabel('Area [PE]')\n",
    "plt.ylabel('Rise Time [ns]')\n",
    "plt.xlim(1,1000000)\n",
    "plt.ylim(1,100000)\n",
    "plt.legend(markerscale=8)\n",
    "plt.savefig(\"./figures/SOM_S1S2_risetime_v_area.png\")"
   ]
  },
  {
   "cell_type": "code",
   "execution_count": null,
   "id": "f6d5789f-10c4-4dcf-9965-9f1effdcbfe4",
   "metadata": {},
   "outputs": [],
   "source": [
    "#np.savez('./saved_data/kr_034373_pb_SOM2cls.npz', data_s1s2)"
   ]
  },
  {
   "cell_type": "code",
   "execution_count": null,
   "id": "22fcfda7-b64b-44e4-bf6d-4da1dcc1d25f",
   "metadata": {},
   "outputs": [],
   "source": [
    "from matplotlib import cm"
   ]
  },
  {
   "cell_type": "code",
   "execution_count": null,
   "id": "6a442d2a-2a30-4a8e-8915-b9c1850d5c87",
   "metadata": {},
   "outputs": [],
   "source": [
    "fig = plt.figure(figsize=(6,4.5))\n",
    "for kind in np.arange(len(np.unique(som_cls_dec_area_aft2['type']))):\n",
    "    plt.scatter(krpb_non_repeat['area'][som_cls_dec_area_aft2['type'] == kind], \n",
    "                krpb_non_repeat['rise_time'][som_cls_dec_area_aft2['type'] == kind], \n",
    "                s=0.1, alpha = 0.5, color = color_daa2[kind]/255)\n",
    "#plt.scatter(kr_pb_array['area'][kr_pb_array['type'] == 1], kr_pb_array['rise_time'][kr_pb_array['type'] == 1], s=0.1, color = 'blue')\n",
    "plt.xscale('log')\n",
    "plt.yscale('log')\n",
    "plt.xlabel('Area [PE]')\n",
    "plt.ylabel('Rise Time [ns]')\n",
    "plt.xlim(1,1000000)\n",
    "plt.ylim(1,100000)"
   ]
  },
  {
   "cell_type": "code",
   "execution_count": null,
   "id": "f3929428-d3cd-4efd-88ae-87f93d33811e",
   "metadata": {},
   "outputs": [],
   "source": [
    "fig = plt.figure(figsize=(10,7))\n",
    "\n",
    "vmin = 0\n",
    "vmax = 1\n",
    "plt.scatter(krpb_non_repeat['area'][data_s1s2['type'] == 2], \n",
    "            krpb_non_repeat['rise_time'][data_s1s2['type'] == 2], \n",
    "            s=0.5, alpha = 0.5, c= krpb_non_repeat['area_fraction_top'][data_s1s2['type'] == 2],\n",
    "            vmin=vmin, vmax=vmax,\n",
    "            cmap=cm.get_cmap('jet'))\n",
    "plt.scatter(krpb_non_repeat['area'][data_s1s2['type'] == 1], \n",
    "            krpb_non_repeat['rise_time'][data_s1s2['type'] == 1], \n",
    "            s=0.5, alpha = 0.5, c = krpb_non_repeat['area_fraction_top'][data_s1s2['type'] == 1],\n",
    "            vmin=vmin, vmax=vmax,\n",
    "            cmap=cm.get_cmap('jet'))\n",
    "#plt.scatter(kr_pb_array['area'][kr_pb_array['type'] == 1], kr_pb_array['rise_time'][kr_pb_array['type'] == 1], s=0.1, color = 'blue')\n",
    "plt.xscale('log')\n",
    "plt.yscale('log')\n",
    "plt.xlabel('Area [PE]')\n",
    "plt.ylabel('Rise Time [ns]')\n",
    "plt.colorbar()\n",
    "plt.xlim(1,1000000)\n",
    "plt.ylim(1,100000)"
   ]
  },
  {
   "cell_type": "code",
   "execution_count": null,
   "id": "bbf96f8b-53af-487a-91c7-00ab453bac52",
   "metadata": {},
   "outputs": [],
   "source": [
    "fig = plt.figure(figsize=(10,7))\n",
    "\n",
    "plt.scatter(krpb_non_repeat['area'][data_s1s2['type'] == 1], \n",
    "            krpb_non_repeat['rise_time'][data_s1s2['type'] == 1], \n",
    "            c = krpb_non_repeat['area_fraction_top'][data_s1s2['type'] == 1],\n",
    "            s=0.5, alpha = 0.5, \n",
    "            cmap=cm.get_cmap('jet'))\n",
    "\n",
    "#plt.scatter(kr_pb_array['area'][kr_pb_array['type'] == 1], kr_pb_array['rise_time'][kr_pb_array['type'] == 1], s=0.1, color = 'blue')\n",
    "plt.xscale('log')\n",
    "plt.yscale('log')\n",
    "plt.xlabel('Area [PE]')\n",
    "plt.ylabel('Rise Time [ns]')\n",
    "plt.colorbar()\n",
    "plt.xlim(1,1000000)\n",
    "plt.ylim(1,100000)"
   ]
  },
  {
   "cell_type": "code",
   "execution_count": null,
   "id": "e5cc8e89-db09-4d35-b122-8946aba3fbbb",
   "metadata": {},
   "outputs": [],
   "source": [
    "st.register_all(cutax.cuts)\n",
    "kr_events = st.get_df(cal_run_id, targets =('events', 'cut_Kr_SingleS1S2'))"
   ]
  },
  {
   "cell_type": "code",
   "execution_count": null,
   "id": "e1a7790d-e615-4f21-8b07-160618aeff15",
   "metadata": {},
   "outputs": [],
   "source": [
    "fig = plt.figure(figsize=(10,7))\n",
    "\n",
    "plt.scatter(krpb_non_repeat['area'][data_s1s2['type'] == 1], \n",
    "            krpb_non_repeat['rise_time'][data_s1s2['type'] == 1], \n",
    "            s=0.5, alpha = 0.5, color = 'blue')\n",
    "plt.scatter(krpb_non_repeat['area'][data_s1s2['type'] == 2], \n",
    "            krpb_non_repeat['rise_time'][data_s1s2['type'] == 2], \n",
    "            s=0.5, alpha = 0.5, color = 'green')\n",
    "#plt.scatter(kr_pb_array['area'][kr_pb_array['type'] == 1], kr_pb_array['rise_time'][kr_pb_array['type'] == 1], s=0.1, color = 'blue')\n",
    "plt.xscale('log')\n",
    "plt.yscale('log')\n",
    "plt.xlabel('Area [PE]')\n",
    "plt.ylabel('Rise Time [ns]')\n",
    "plt.xlim(1,1000000)\n",
    "plt.ylim(1,100000)"
   ]
  },
  {
   "cell_type": "code",
   "execution_count": null,
   "id": "6f0aaaac-5644-4262-951d-e1e821021517",
   "metadata": {},
   "outputs": [],
   "source": [
    "krpb_non_repeat['area'][som_cls_dec_area_aft['type'] == 18]"
   ]
  },
  {
   "cell_type": "code",
   "execution_count": null,
   "id": "c22c1964-90b7-4bf5-a2a9-1b0d0e45f5fb",
   "metadata": {},
   "outputs": [],
   "source": [
    "fig = plt.figure(figsize=(6,4.5))\n",
    "for kind in np.arange(len(np.unique(som_cls_dec_area_aft2['type']))):\n",
    "    plt.scatter(krpb_non_repeat['area'][som_cls_dec_area_aft2['type'] == kind], \n",
    "                krpb_non_repeat['rise_time'][som_cls_dec_area_aft2['type'] == kind], \n",
    "                s=0.1, alpha = 0.5, color = color_daa2[kind]/255)\n",
    "#plt.scatter(kr_pb_array['area'][kr_pb_array['type'] == 1], kr_pb_array['rise_time'][kr_pb_array['type'] == 1], s=0.1, color = 'blue')\n",
    "plt.xscale('log')\n",
    "plt.yscale('log')\n",
    "plt.xlabel('Area [PE]')\n",
    "plt.ylabel('Rise Time [ns]')\n",
    "plt.xlim(1,1000000)\n",
    "plt.ylim(1,100000)"
   ]
  },
  {
   "cell_type": "code",
   "execution_count": null,
   "id": "b649df3b-cf6f-471f-b3ae-3b41c82e5da3",
   "metadata": {},
   "outputs": [],
   "source": [
    "import io\n",
    "nunr_file = []\n",
    "with io.open(\"./SOM_results/kr_034373_decile_area_aft_v1.k3.40000000.k3.r.40000000.nunr.txt\", mode=\"r\", encoding=\"utf-8\") as f:\n",
    "    next(f)\n",
    "    #next(f)\n",
    "    for line in f:\n",
    "        nunr_file.append(line.split())"
   ]
  },
  {
   "cell_type": "code",
   "execution_count": null,
   "id": "f50c33b0-321e-455f-8ddf-89ccbd54c72f",
   "metadata": {},
   "outputs": [],
   "source": [
    "def nunr_file_to_list(nunr_file):\n",
    "    \n",
    "    #make an object we can store everythin we want in\n",
    "    obj = {}\n",
    "    for i in range(1, len(nunr_file)+1):\n",
    "        obj[i] = []\n",
    "        \n",
    "    for i in np.arange(len(nunr_file)): #also length of obj \n",
    "        skip = 3 #every 3rd value is a char we dont care about \n",
    "        for j in np.arange(int(len(nunr_file[i][2:]) / 3)):\n",
    "            if (skip % 3) == 0:\n",
    "                if tuple(nunr_file[i][skip:skip+2]) != ('152', '991'):\n",
    "                    obj[i+1].append(tuple(nunr_file[i][skip:skip+2]))\n",
    "                    skip = skip + 3\n",
    "                \n",
    "    return obj\n",
    "    "
   ]
  },
  {
   "cell_type": "code",
   "execution_count": null,
   "id": "4e2d3e94-b9f5-49d3-9fde-71af19cd395c",
   "metadata": {},
   "outputs": [],
   "source": [
    "def tuple_list_to_list(tuple_list, x_data_img):\n",
    "    obj = {}\n",
    "    for i in range(1, len(tuple_list)+1):\n",
    "        obj[i] = []\n",
    "        \n",
    "    for i in np.arange(len(tuple_list)):\n",
    "        for j in np.arange(len(tuple_list[i+1])):\n",
    "            obj[i+1].append(int(tuple_list[i+1][j][0]) + ((int(tuple_list[i+1][j][1])-1)*x_data_img))\n",
    "            \n",
    "    return obj"
   ]
  },
  {
   "cell_type": "code",
   "execution_count": null,
   "id": "4c4738df-f34b-40e0-82ab-c0f03f186915",
   "metadata": {},
   "outputs": [],
   "source": [
    "def nunr_to_obj(nunr_file, x_data_img):\n",
    "    return tuple_list_to_list(nunr_file_to_list(nunr_file), x_data_img)"
   ]
  },
  {
   "cell_type": "code",
   "execution_count": null,
   "id": "cbf58564-1de3-472a-ba64-3fa3d925fcfc",
   "metadata": {},
   "outputs": [],
   "source": [
    "PE_data = nunr_to_obj(nunr_file, 152)"
   ]
  },
  {
   "cell_type": "code",
   "execution_count": null,
   "id": "5f3bf419-e230-49af-bf33-5d9c1b0770f0",
   "metadata": {},
   "outputs": [],
   "source": [
    "xgrid = 40\n",
    "ygrid = 40\n",
    "fig, ax = plt.subplots(nrows=ygrid, ncols=xgrid, figsize=(20, 20))\n",
    "\n",
    "a = 1\n",
    "for i in np.arange(ygrid):\n",
    "    for j in np.arange(xgrid):\n",
    "        if PE_data[(i+1) + (j)*xgrid] != []:\n",
    "            data = filtered_peaks[np.array(PE_data[(i+1) + (j)*xgrid])-1]\n",
    "            ax[i,j].plot(np.mean(data['data'], axis = 0), alpha = a, color = 'black')\n",
    "        if PE_data[(i+1) + (j)*xgrid] == []:\n",
    "            ax[i,j].plot(np.zeros(200), alpha = a, color = 'black')\n",
    "        #kind = kind + 1\n",
    "        #ax[i,j].set_xlabel('Sample #')\n",
    "        ax[i,j].set_xlim(0, 200)\n",
    "        ax[i,j].axis('off')\n",
    "    \n",
    "\n",
    "fig.savefig('./SOM_results/waveforms_of_decile_area_aft_40x40.png', layout)"
   ]
  },
  {
   "cell_type": "code",
   "execution_count": null,
   "id": "224c32b9-e543-440d-9d52-103f9c3a444c",
   "metadata": {},
   "outputs": [],
   "source": [
    "xgrid = 40\n",
    "ygrid = 40\n",
    "fig, ax = plt.subplots(nrows=ygrid, ncols=xgrid, figsize=(20, 20))\n",
    "\n",
    "a = 1\n",
    "for i in np.arange(ygrid):\n",
    "    for j in np.arange(xgrid):\n",
    "        if PE_data[(i+1) + (j)*xgrid] != []:\n",
    "            data = filtered_peaks[np.array(PE_data[(i+1) + (j)*xgrid])-1]\n",
    "            ax[39-j,i].plot(np.mean(data['data'], axis = 0), alpha = a, color = 'black')\n",
    "        if PE_data[(i+1) + (j)*xgrid] == []:\n",
    "            ax[39-j,i].plot(np.zeros(200), alpha = a, color = 'black')\n",
    "        #kind = kind + 1\n",
    "        #ax[i,j].set_xlabel('Sample #')\n",
    "        ax[i,j].set_xlim(0, 200)\n",
    "        ax[i,j].axis('off')\n",
    "\n",
    "fig.savefig('./SOM_results/waveforms_of_decile_area_aft_40x40.png', bbox_inches='tight')\n",
    "#fig.gca().invert_xaxis()\n",
    "#fig.gca().invert_yaxis()"
   ]
  },
  {
   "cell_type": "code",
   "execution_count": null,
   "id": "335ad6a4-1e75-425b-9c1c-69b6a60ab05a",
   "metadata": {},
   "outputs": [],
   "source": []
  },
  {
   "cell_type": "code",
   "execution_count": null,
   "id": "43d5c8b6-82ff-4c98-8acc-fc41f7d79e52",
   "metadata": {},
   "outputs": [],
   "source": [
    "'./SOM_results/E4_decile_area_aft_v2.k3.r.40000000.mat'"
   ]
  },
  {
   "cell_type": "code",
   "execution_count": null,
   "id": "6cae54fb-77f8-45ae-8bb3-37693d0d130d",
   "metadata": {},
   "outputs": [],
   "source": [
    "import scipy"
   ]
  },
  {
   "cell_type": "code",
   "execution_count": null,
   "id": "3d352a28-4186-4752-9ca2-389e28f563c0",
   "metadata": {},
   "outputs": [],
   "source": [
    "import matplotlib.pyplot as plt\n",
    "import numpy as np"
   ]
  },
  {
   "cell_type": "code",
   "execution_count": null,
   "id": "a45709f0-9a6b-4e12-afb2-2de9ee1de0be",
   "metadata": {},
   "outputs": [],
   "source": [
    "w_cube = scipy.io.loadmat('./SOM_results/E4_decile_area_aft_v2.k3.r.40000000.mat')"
   ]
  },
  {
   "cell_type": "code",
   "execution_count": null,
   "id": "1a0cf6b5-c201-4cb0-aa29-9fb125130b82",
   "metadata": {},
   "outputs": [],
   "source": [
    "#w_cube['w']"
   ]
  },
  {
   "cell_type": "code",
   "execution_count": null,
   "id": "7627742b-f7b4-4229-8eb0-a4f444f79cca",
   "metadata": {},
   "outputs": [],
   "source": [
    "xgrid = 40\n",
    "ygrid = 40\n",
    "fig, ax = plt.subplots(nrows=ygrid, ncols=xgrid, figsize=(20, 20))\n",
    "\n",
    "a = 1\n",
    "for i in np.arange(ygrid):\n",
    "    for j in np.arange(xgrid):\n",
    "\n",
    "        ax[39-j,i].plot(w_cube['w'][39-j,i] , alpha = a, color = 'black')\n",
    "\n",
    "        #kind = kind + 1\n",
    "        #ax[i,j].set_xlabel('Sample #')\n",
    "        ax[i,j].set_xlim(0, 12)\n",
    "        ax[i,j].axis('off')\n",
    "\n",
    "#fig.savefig('./SOM_results/waveforms_of_decile_area_aft_40x40.png', bbox_inches='tight')"
   ]
  },
  {
   "cell_type": "code",
   "execution_count": null,
   "id": "ffaf974f-cb86-4ca8-b889-d0bc672ebad6",
   "metadata": {},
   "outputs": [],
   "source": [
    "xgrid = 40\n",
    "ygrid = 40\n",
    "fig, ax = plt.subplots(nrows=ygrid, ncols=xgrid, figsize=(20, 20))\n",
    "\n",
    "a = 1\n",
    "for i in np.arange(ygrid):\n",
    "    for j in np.arange(xgrid):\n",
    "\n",
    "        ax[j,i].plot(w_cube['w'][j,i] , alpha = a, color = 'black')\n",
    "\n",
    "        #kind = kind + 1\n",
    "        #ax[i,j].set_xlabel('Sample #')\n",
    "        ax[i,j].set_xlim(0, 12)\n",
    "        ax[i,j].set_ylim(-1, 1)\n",
    "        ax[i,j].axis('off')"
   ]
  },
  {
   "cell_type": "code",
   "execution_count": null,
   "id": "50eacdb1-724d-4556-9d4c-315f5b830e05",
   "metadata": {},
   "outputs": [],
   "source": [
    "np.max(w_cube['w'])"
   ]
  },
  {
   "cell_type": "code",
   "execution_count": null,
   "id": "c2080cf8-fb3c-48b0-a051-7e47ef63d4d1",
   "metadata": {},
   "outputs": [],
   "source": [
    "store_max = np.zeros(1600)\n",
    "store_min = np.zeros(1600) + 10\n",
    "for h in np.arange(1600):\n",
    "    #print(h+1)\n",
    "    if PE_data[h+1] != []:\n",
    "        store_max[h] = np.max(PE_data[h+1])\n",
    "        store_min[h] = np.min(PE_data[h+1])\n",
    "\n",
    "#np.max(store_max)"
   ]
  },
  {
   "cell_type": "code",
   "execution_count": null,
   "id": "21ecfd58-272f-4324-b282-758e8a5457f8",
   "metadata": {},
   "outputs": [],
   "source": [
    "np.max(store_max)"
   ]
  },
  {
   "cell_type": "code",
   "execution_count": null,
   "id": "12e77abe-f1c9-4936-872a-147a57ea737f",
   "metadata": {},
   "outputs": [],
   "source": [
    "np.min(store_min)"
   ]
  },
  {
   "cell_type": "code",
   "execution_count": null,
   "id": "a01a1830-98b0-4f02-9789-8e7f604f12b4",
   "metadata": {},
   "outputs": [],
   "source": [
    "np.max(PE_data[1])"
   ]
  },
  {
   "cell_type": "code",
   "execution_count": null,
   "id": "98b6c2f3-9fcf-4958-901d-1ed8cbb9762c",
   "metadata": {},
   "outputs": [],
   "source": [
    "np.max(PE_data[2])"
   ]
  },
  {
   "cell_type": "code",
   "execution_count": null,
   "id": "20207235-9460-44ce-9f01-3bcfd7f30d30",
   "metadata": {},
   "outputs": [],
   "source": [
    "np.array(PE_data[1])-1"
   ]
  },
  {
   "cell_type": "code",
   "execution_count": null,
   "id": "d29f7464-70d5-4e8d-babc-9e2bda7ca824",
   "metadata": {},
   "outputs": [],
   "source": []
  }
 ],
 "metadata": {
  "kernelspec": {
   "display_name": "Python 3 (ipykernel)",
   "language": "python",
   "name": "python3"
  },
  "language_info": {
   "codemirror_mode": {
    "name": "ipython",
    "version": 3
   },
   "file_extension": ".py",
   "mimetype": "text/x-python",
   "name": "python",
   "nbconvert_exporter": "python",
   "pygments_lexer": "ipython3",
   "version": "3.8.12"
  }
 },
 "nbformat": 4,
 "nbformat_minor": 5
}
