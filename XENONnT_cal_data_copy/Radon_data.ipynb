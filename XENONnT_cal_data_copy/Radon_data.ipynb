{
 "cells": [
  {
   "cell_type": "code",
   "execution_count": null,
   "id": "b1a4185e-2797-46cf-9e07-bd62354f07a6",
   "metadata": {},
   "outputs": [],
   "source": [
    "import strax \n",
    "import straxen \n",
    "import numpy as np\n",
    "import matplotlib.pyplot as plt\n",
    "import cutax\n",
    "import pandas as pd"
   ]
  },
  {
   "cell_type": "code",
   "execution_count": null,
   "id": "ccf188e9-e024-4e28-ba4c-7f93bd5fbe6d",
   "metadata": {},
   "outputs": [],
   "source": [
    "st = straxen.contexts.xenonnt_online()"
   ]
  },
  {
   "cell_type": "code",
   "execution_count": null,
   "id": "07e83c5c-87ee-4a25-8252-49ef8d5819ab",
   "metadata": {},
   "outputs": [],
   "source": [
    "st.get_single_plugin('042222', 'corrected_areas').elife"
   ]
  },
  {
   "cell_type": "code",
   "execution_count": null,
   "id": "17f54b40-f608-46f1-8109-01672333c65c",
   "metadata": {},
   "outputs": [],
   "source": [
    "import xedocs as xd"
   ]
  },
  {
   "cell_type": "code",
   "execution_count": null,
   "id": "d46e5098-4484-4774-b951-9083b28ced0c",
   "metadata": {},
   "outputs": [],
   "source": [
    "xd.schemas.ElectronLifetime.production_db.find_docs(version = \"ONLINE\", run_id='042222')[0].value"
   ]
  },
  {
   "cell_type": "code",
   "execution_count": null,
   "id": "a725c8f8-7994-4c78-8959-119a07daed7a",
   "metadata": {},
   "outputs": [],
   "source": [
    "st.show_config()"
   ]
  },
  {
   "cell_type": "code",
   "execution_count": null,
   "id": "9ba158bb-d969-4f90-95b5-9cec4c034662",
   "metadata": {},
   "outputs": [],
   "source": [
    "#24072"
   ]
  },
  {
   "cell_type": "code",
   "execution_count": null,
   "id": "28c3c293-764a-42eb-b6bb-89636b2670ae",
   "metadata": {},
   "outputs": [],
   "source": [
    "st = cutax.contexts.xenonnt_v8()"
   ]
  },
  {
   "cell_type": "code",
   "execution_count": null,
   "id": "50d2b676-06ff-4c9d-89af-53e13dcd74b0",
   "metadata": {},
   "outputs": [],
   "source": [
    "run_id = '024072'"
   ]
  },
  {
   "cell_type": "code",
   "execution_count": null,
   "id": "a5a8d79a-f761-4e99-b480-e36609b813b9",
   "metadata": {},
   "outputs": [],
   "source": [
    "radon_peaks = st.get_array(run_id = run_id, targets='peaks')"
   ]
  },
  {
   "cell_type": "code",
   "execution_count": null,
   "id": "83030a90-af82-47b7-b0e0-e20fd62b3d28",
   "metadata": {},
   "outputs": [],
   "source": [
    "radon_pb = st.get_array(run_id = run_id, targets='peak_basics')"
   ]
  },
  {
   "cell_type": "code",
   "execution_count": null,
   "id": "25ab0e62-6b0e-4c50-a970-69df6d32a7f8",
   "metadata": {},
   "outputs": [],
   "source": [
    "radon_peaks = kr_peaks"
   ]
  },
  {
   "cell_type": "code",
   "execution_count": null,
   "id": "90e00096-310e-4544-9eb4-af5fabc444c7",
   "metadata": {},
   "outputs": [],
   "source": [
    "fig = plt.figure(figsize=(8,5))\n",
    "plt.scatter(radon_pb['area'][radon_pb['type'] == 1], \n",
    "            radon_pb['rise_time'][radon_pb['type'] == 1], s=0.1, color = 'blue', alpha = 0.5)\n",
    "plt.scatter(radon_pb['area'][radon_pb['type'] == 2], \n",
    "            radon_pb['rise_time'][radon_pb['type'] == 2], s=0.1, color = 'blue', alpha = 0.5)\n",
    "#plt.scatter(kr_pb_array['area'][kr_pb_array['type'] == 1], kr_pb_array['rise_time'][kr_pb_array['type'] == 1], s=0.1, color = 'blue')\n",
    "plt.xscale('log')\n",
    "plt.yscale('log')\n",
    "plt.xlabel('Area')\n",
    "plt.ylabel('Rise Time')\n",
    "plt.xlim(1,1000000)\n",
    "plt.ylim(1,100000)"
   ]
  },
  {
   "cell_type": "code",
   "execution_count": null,
   "id": "44f1d021-e6ee-4119-8cac-418c9c3efa9c",
   "metadata": {},
   "outputs": [],
   "source": [
    "peak_pro = st.get_array(run_id,'peak_proximity')"
   ]
  },
  {
   "cell_type": "code",
   "execution_count": null,
   "id": "ac0aca9c-0db2-49d5-bee2-619b03c02364",
   "metadata": {},
   "outputs": [],
   "source": [
    "clean_peaks = peak_pro[peak_pro['n_competing_left']==0]"
   ]
  },
  {
   "cell_type": "code",
   "execution_count": null,
   "id": "c6cb6e6b-75cf-4cfb-a17d-9d58ac21da39",
   "metadata": {},
   "outputs": [],
   "source": [
    "s1 = radon_pb[radon_pb['type']==1]\n",
    "s2 = radon_pb[radon_pb['type']==2]"
   ]
  },
  {
   "cell_type": "code",
   "execution_count": null,
   "id": "409435ff-74ec-44c8-95cf-009358aef49c",
   "metadata": {},
   "outputs": [],
   "source": [
    "s1_radon_peaks = radon_peaks[radon_peaks['type'] == 1]"
   ]
  },
  {
   "cell_type": "code",
   "execution_count": null,
   "id": "30960696-f1aa-46bc-9984-cf4c4fc83c2a",
   "metadata": {},
   "outputs": [],
   "source": [
    "save_s1=[] #give indecies in the S1 space as to the location of peaks\n",
    "for j in clean_peaks:\n",
    "    index = np.where(s1['time']==j['time']) \n",
    "    if len(index[0]) != 0:\n",
    "        save_s1.append(index[0][0])"
   ]
  },
  {
   "cell_type": "code",
   "execution_count": null,
   "id": "baab0afa-0546-4a53-a8ec-c6d0ac2a619a",
   "metadata": {},
   "outputs": [],
   "source": [
    "save_s2=[]\n",
    "for j in clean_peaks:\n",
    "    index = np.where(s2['time']==j['time']) \n",
    "    if len(index[0]) != 0:\n",
    "        save_s2.append(index[0][0])"
   ]
  },
  {
   "cell_type": "code",
   "execution_count": null,
   "id": "3001a688-6bc4-4f62-91f6-471e6a18f223",
   "metadata": {},
   "outputs": [],
   "source": [
    "s1=s1[save_s1]\n",
    "s2=s2[save_s2]"
   ]
  },
  {
   "cell_type": "code",
   "execution_count": null,
   "id": "48b0cd6d-4a12-4fe3-a529-7d6dbfc8557f",
   "metadata": {},
   "outputs": [],
   "source": [
    "s1_peaks = s1_radon_peaks[save_s1]"
   ]
  },
  {
   "cell_type": "code",
   "execution_count": null,
   "id": "73f152cf-8d0f-43b2-b2f5-11d17344642e",
   "metadata": {},
   "outputs": [],
   "source": [
    "fig = plt.figure(figsize=(8,5))\n",
    "plt.scatter(s1['area'], \n",
    "            s1['rise_time'], s=0.1, color = 'blue', alpha = 0.5)\n",
    "plt.scatter(s2['area'], \n",
    "            s2['rise_time'], s=0.1, color = 'green', alpha = 0.5)\n",
    "#plt.scatter(kr_pb_array['area'][kr_pb_array['type'] == 1], kr_pb_array['rise_time'][kr_pb_array['type'] == 1], s=0.1, color = 'blue')\n",
    "plt.xscale('log')\n",
    "plt.yscale('log')\n",
    "plt.xlabel('Area')\n",
    "plt.ylabel('Rise Time')\n",
    "plt.xlim(5,10000000)\n",
    "plt.ylim(1,100000)"
   ]
  },
  {
   "cell_type": "code",
   "execution_count": null,
   "id": "529f38e8-0a11-4103-a46a-b780c72b2b33",
   "metadata": {},
   "outputs": [],
   "source": [
    "np.savez('./saved_data/Rn_run24072_s1_peaks.npz', s1_radon_peaks)"
   ]
  },
  {
   "cell_type": "code",
   "execution_count": null,
   "id": "32c038b3-7afd-48f2-aac8-abf75e3b7d6d",
   "metadata": {},
   "outputs": [],
   "source": [
    "np.savez('./saved_data/Rn_run24072_s1_peak_basics.npz', s1)"
   ]
  },
  {
   "cell_type": "code",
   "execution_count": null,
   "id": "57c6de63-ebc6-4177-a0c7-1887ad045c87",
   "metadata": {},
   "outputs": [],
   "source": [
    "#do radon cuts"
   ]
  },
  {
   "cell_type": "code",
   "execution_count": null,
   "id": "4b946a55-4137-4559-9012-dcb2fb2e2469",
   "metadata": {},
   "outputs": [],
   "source": [
    "kr_events_array = st.get_array(run_id, targets =('event_info', 'cut_fiducial_volume', \n",
    "                                                 'cut_s2_width', 'cut_s2_single_scatter',\n",
    "                                                 'cut_s2_pattern', 'cut_s2_recon_pos_diff',\n",
    "                                                 'cut_cs2_area_fraction_top'))"
   ]
  },
  {
   "cell_type": "code",
   "execution_count": null,
   "id": "dc0f783f-c298-4bfc-8294-04ccb6a1237b",
   "metadata": {},
   "outputs": [],
   "source": [
    "cut1 = kr_events_array[kr_events_array['cut_fiducial_volume'] == True]\n",
    "cut2 = cut1[cut1['cut_s2_width'] == True]\n",
    "cut3 = cut2[cut2['cut_s2_single_scatter'] == True]\n",
    "cut4 = cut3[cut3['cut_s2_pattern'] == True]\n",
    "cut5 = cut4[cut4['cut_s2_recon_pos_diff'] == True]\n",
    "cut6 = cut5[cut5['cut_cs2_area_fraction_top'] == True]"
   ]
  },
  {
   "cell_type": "code",
   "execution_count": null,
   "id": "bc68c2d7-d801-4da6-8cee-accae573fb54",
   "metadata": {},
   "outputs": [],
   "source": [
    "window1 = strax.touching_windows(s1, cut6)\n",
    "store_values = []\n",
    "for i in np.arange(len(window1)):\n",
    "    store_values.append(np.arange(int(window1[i,0]), window1[i,1]+1))\n",
    "    \n",
    "values = np.concatenate(store_values)\n",
    "fig = plt.figure(figsize=(12,6))\n",
    "plt.scatter(s1['area'][values], s1['rise_time'][values], s=0.1, color = 'blue', alpha = 0.5)\n",
    "#plt.scatter(kr_pb_array['area'][kr_pb_array['type'] == 1], kr_pb_array['rise_time'][kr_pb_array['type'] == 1], s=0.1, color = 'blue')\n",
    "plt.xscale('log')\n",
    "plt.yscale('log')\n",
    "plt.xlabel('Area')\n",
    "plt.ylabel('Rise Time')\n",
    "plt.xlim(1,1000000)\n",
    "plt.ylim(1,100000)"
   ]
  },
  {
   "cell_type": "code",
   "execution_count": null,
   "id": "5bce729c-c84c-47f2-984d-93ff5134c999",
   "metadata": {},
   "outputs": [],
   "source": [
    "window1 = strax.touching_windows(s1, cut1)\n",
    "store_values = []\n",
    "for i in np.arange(len(window1)):\n",
    "    store_values.append(np.arange(int(window1[i,0]), window1[i,1]+1))\n",
    "    \n",
    "values = np.concatenate(store_values)\n",
    "fig = plt.figure(figsize=(12,6))\n",
    "plt.scatter(s1['area'][values], s1['rise_time'][values], s=0.1, color = 'blue', alpha = 0.5)\n",
    "#plt.scatter(kr_pb_array['area'][kr_pb_array['type'] == 1], kr_pb_array['rise_time'][kr_pb_array['type'] == 1], s=0.1, color = 'blue')\n",
    "plt.xscale('log')\n",
    "plt.yscale('log')\n",
    "plt.xlabel('Area')\n",
    "plt.ylabel('Rise Time')\n",
    "plt.xlim(5,10000000)\n",
    "plt.ylim(1,100000)"
   ]
  },
  {
   "cell_type": "code",
   "execution_count": null,
   "id": "27dfc494-a62b-408d-b4ef-8863fde6902a",
   "metadata": {},
   "outputs": [],
   "source": [
    "len(cut6)"
   ]
  },
  {
   "cell_type": "code",
   "execution_count": null,
   "id": "5689f7fe-f9b3-4a59-94cc-f3691668c88c",
   "metadata": {},
   "outputs": [],
   "source": [
    "rn_event_info = st.get_array(run_id = run_id, 'event_info',)"
   ]
  },
  {
   "cell_type": "code",
   "execution_count": null,
   "id": "dc7308fc-8a05-4fca-a914-bbc0ab7afefd",
   "metadata": {},
   "outputs": [],
   "source": [
    "radon_events_array = st.get_array(run_id, targets =('events', 'cut', 'cut_Kr_DoubleS1_SingleS2'))"
   ]
  }
 ],
 "metadata": {
  "kernelspec": {
   "display_name": "Python 3 (ipykernel)",
   "language": "python",
   "name": "python3"
  },
  "language_info": {
   "codemirror_mode": {
    "name": "ipython",
    "version": 3
   },
   "file_extension": ".py",
   "mimetype": "text/x-python",
   "name": "python",
   "nbconvert_exporter": "python",
   "pygments_lexer": "ipython3",
   "version": "3.8.12"
  }
 },
 "nbformat": 4,
 "nbformat_minor": 5
}
