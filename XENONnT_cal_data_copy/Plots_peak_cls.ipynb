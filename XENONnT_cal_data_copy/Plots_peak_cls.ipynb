{
 "cells": [
  {
   "cell_type": "markdown",
   "id": "b200a67f-c98e-480f-b642-c9ec633329e9",
   "metadata": {},
   "source": [
    "# Figures for ESANN Paper"
   ]
  },
  {
   "cell_type": "markdown",
   "id": "6210c560-1fab-419a-957a-c0b598a1623c",
   "metadata": {},
   "source": [
    "Might be a good idea to work on the draft of the paper before actually making the figures but I might have to get some solid figure first and then make my story around these figures."
   ]
  },
  {
   "cell_type": "markdown",
   "id": "1eb7807a-958f-4710-a278-a85baa45adfe",
   "metadata": {},
   "source": [
    "First lets get the data needed in here."
   ]
  },
  {
   "cell_type": "code",
   "execution_count": null,
   "id": "6602e3a9-4d28-4cf8-8ee0-4ecd9e3d8690",
   "metadata": {},
   "outputs": [],
   "source": [
    "import strax \n",
    "import straxen \n",
    "import numpy as np\n",
    "import matplotlib.pyplot as plt\n",
    "import cutax\n",
    "import pandas as pd\n",
    "import seaborn as sns\n",
    "\n",
    "from matplotlib.offsetbox import (OffsetImage, AnnotationBbox)\n",
    "import matplotlib.image as image\n",
    "from matplotlib import cm\n",
    "from matplotlib.lines import Line2D"
   ]
  },
  {
   "cell_type": "code",
   "execution_count": null,
   "id": "a40587a5-c6a6-4159-be83-c89c79401a40",
   "metadata": {},
   "outputs": [],
   "source": [
    "def assign_labels(data, ref_img, xdim, ydim, cut_out):\n",
    "    '''This functions takes in the data and classifications based on an image gives the\n",
    "    unique labels as well as the data set bacl with the new classification\n",
    "    PS this version only takes in S1s and S2s and ignores unclassified samples, \n",
    "    another version will be made to deal with the unclassified samples\n",
    "    \n",
    "    data: can be either peaks or peak_basics\n",
    "    ref_img: will be the image extracted from the SOM classification of each data point\n",
    "    xdim: width of the image cube\n",
    "    ydim: height of the image cube\n",
    "    cut_out: removes the n last digits of the image vector if necesarry'''\n",
    "    from PIL import Image\n",
    "    data_new = data\n",
    "    img = Image.open(ref_img)\n",
    "    imgGray = img.convert('L')\n",
    "    #imgGray2.save('/home/luissanchez25/im_kr83_real__30x30_2lbl.0.rmpmap.png')\n",
    "    img_color = np.array(img) #still in the x,y,3 format\n",
    "    img_color_2d = img_color.reshape((xdim*ydim,3))\n",
    "    label = -1 * np.ones(img_color.shape[:-1])\n",
    "    colorp = np.unique(img_color_2d, axis = 0)\n",
    "    for i, color in enumerate(colorp):  # argwhere\n",
    "        label[np.all((img_color == color), axis = 2)] = i #assignes each color a number\n",
    "    label_vec = label.reshape((xdim*ydim))\n",
    "    if cut_out != 0:\n",
    "        label_vec_nonzero = label_vec[:-cut_out]\n",
    "    elif cut_out == 0:\n",
    "        label_vec_nonzero = label_vec\n",
    "    #s2_data = data[data['type'] == 2]\n",
    "    #s1_data = data[data['type'] == 1]\n",
    "    #som_class_peaks = np.concatenate((s2_data,s1_data)) #note had to reverse s2,s1 to s1,s2\n",
    "    data_new['type'] = label_vec_nonzero\n",
    "    \n",
    "    return colorp, data_new"
   ]
  },
  {
   "cell_type": "code",
   "execution_count": null,
   "id": "6482d73d-b116-450b-b6cd-1d8e4b8c5701",
   "metadata": {},
   "outputs": [],
   "source": [
    "def change_type(data, cls_array):\n",
    "    #makes sure you give a label to each data set\n",
    "    data_s1s2 = data.copy()\n",
    "    assert len(cls_array) == len(np.unique(data['type']))\n",
    "    for i in np.arange(len(np.unique(data_s1s2['type']))):\n",
    "        data_s1s2['type'] = np.where(data_s1s2['type'] != i, data_s1s2['type'], cls_array[i])\n",
    "        \n",
    "    return data_s1s2"
   ]
  },
  {
   "cell_type": "code",
   "execution_count": null,
   "id": "c12f9aa3-405e-49fe-a8cd-f02e2824bd79",
   "metadata": {},
   "outputs": [],
   "source": [
    "st = cutax.contexts.xenonnt_offline()"
   ]
  },
  {
   "cell_type": "code",
   "execution_count": null,
   "id": "bebef6d5-f070-4048-8207-3b2a27904842",
   "metadata": {},
   "outputs": [],
   "source": [
    "krpb_wrep = np.load('./saved_data/clean_kr_cal_pb.npz')['arr_0']"
   ]
  },
  {
   "cell_type": "code",
   "execution_count": null,
   "id": "fe5f6672-5ac8-49b5-8d8a-73f9d3896e18",
   "metadata": {},
   "outputs": [],
   "source": [
    "_,krpb_data_indecies = np.unique(krpb_wrep, return_index=True)"
   ]
  },
  {
   "cell_type": "code",
   "execution_count": null,
   "id": "12c28183-3db8-47a0-811a-d3cc3badb457",
   "metadata": {},
   "outputs": [],
   "source": [
    "krpb_non_repeat = krpb_wrep[np.sort(krpb_data_indecies)]"
   ]
  },
  {
   "cell_type": "code",
   "execution_count": null,
   "id": "23bf66bc-0abb-4505-9d2e-ccc3d91134db",
   "metadata": {},
   "outputs": [],
   "source": [
    "color_daa, som_cls_dec_area_aft = assign_labels(krpb_non_repeat, './SOM_results/im_kr_034373_decile_area_aft_40x40.0.rmpmap.png', 152, 991, 1)"
   ]
  },
  {
   "cell_type": "code",
   "execution_count": null,
   "id": "1fc1dcf5-b663-47a3-aeab-4400565360ba",
   "metadata": {},
   "outputs": [],
   "source": []
  },
  {
   "cell_type": "code",
   "execution_count": null,
   "id": "1ce3199f-d4ff-4c31-b810-a9b560efd5ed",
   "metadata": {},
   "outputs": [],
   "source": [
    "color_daa2, som_cls_dec_area_aft2 = assign_labels(krpb_non_repeat, './SOM_results/im_kr034373_decile_area_aft_40x40_v2.0.rmpmap.png', 152, 991, 1)"
   ]
  },
  {
   "cell_type": "code",
   "execution_count": null,
   "id": "40b1bb76-c74d-4a3f-ac58-37c4e0af34d0",
   "metadata": {},
   "outputs": [],
   "source": [
    "color_daa2[19] = np.array([0,0,0])"
   ]
  },
  {
   "cell_type": "code",
   "execution_count": null,
   "id": "a71c6837-425f-472b-afe1-9bd3a27eb0a9",
   "metadata": {},
   "outputs": [],
   "source": [
    "fig = plt.figure(figsize=(8,6))\n",
    "for kind in np.arange(len(np.unique(som_cls_dec_area_aft2['type']))):\n",
    "    plt.scatter(som_cls_dec_area_aft2['area'][som_cls_dec_area_aft2['type'] == kind], \n",
    "                som_cls_dec_area_aft2['rise_time'][som_cls_dec_area_aft2['type'] == kind], \n",
    "                s=0.5, alpha = 0.5, color = color_daa2[kind]/255)\n",
    "#plt.scatter(kr_pb_array['area'][kr_pb_array['type'] == 1], kr_pb_array['rise_time'][kr_pb_array['type'] == 1], s=0.1, color = 'blue')\n",
    "plt.xscale('log')\n",
    "plt.yscale('log')\n",
    "plt.xlabel('Area')\n",
    "plt.ylabel('Rise Time')\n",
    "plt.xlim(1,1000000)\n",
    "plt.ylim(1,100000)"
   ]
  },
  {
   "cell_type": "code",
   "execution_count": null,
   "id": "b8f5a1db-e3ad-4d5e-b10b-a454d76d3c19",
   "metadata": {},
   "outputs": [],
   "source": [
    "fig, ax = plt.subplots(nrows=5, ncols=4, figsize=(18, 20))\n",
    "\n",
    "num = 0\n",
    "for i in np.arange(5):\n",
    "    for j in np.arange(4):\n",
    "        ax[i,j].scatter(som_cls_dec_area_aft2['area'][som_cls_dec_area_aft2['type'] == num], \n",
    "                        som_cls_dec_area_aft2['rise_time'][som_cls_dec_area_aft2['type'] == num], \n",
    "                        s=0.1, color = color_daa2[num]/255, alpha = 1)\n",
    "        ax[i,j].set_xscale('log')\n",
    "        ax[i,j].set_yscale('log')\n",
    "        ax[i,j].set_xlim(1,1000000)\n",
    "        ax[i,j].set_ylim(1,100000)\n",
    "        num = num + 1"
   ]
  },
  {
   "cell_type": "code",
   "execution_count": null,
   "id": "11599dd8-584d-49f2-8d9f-9eac8e2f3d5e",
   "metadata": {},
   "outputs": [],
   "source": [
    "S1_S2_list = np.array([1,1,2,2,\n",
    "                       2,1,2,2,\n",
    "                       2,1,1,2,\n",
    "                       2,1,1,2,\n",
    "                       2,1,2,1])"
   ]
  },
  {
   "cell_type": "code",
   "execution_count": null,
   "id": "4d144a21-4eb0-400b-b8d4-4bbef431b44a",
   "metadata": {},
   "outputs": [],
   "source": [
    "som_cls_s1s2_dec_area_aft2 = som_cls_dec_area_aft2"
   ]
  },
  {
   "cell_type": "code",
   "execution_count": null,
   "id": "24305ca1-3090-4ea8-92cf-39b4df14172b",
   "metadata": {},
   "outputs": [],
   "source": [
    "data_s1s2 = change_type(som_cls_s1s2_dec_area_aft2, S1_S2_list)"
   ]
  },
  {
   "cell_type": "code",
   "execution_count": null,
   "id": "94587f6e-b820-4e31-9014-980371beda5c",
   "metadata": {},
   "outputs": [],
   "source": [
    "fig = plt.figure(figsize=(6,4.5))\n",
    "\n",
    "plt.scatter(data_s1s2['area'][data_s1s2['type'] == 1], \n",
    "            data_s1s2['rise_time'][data_s1s2['type'] == 1], \n",
    "            s=0.1, alpha = 0.5, color = 'blue', label = 'SOM S1')\n",
    "plt.scatter(data_s1s2['area'][data_s1s2['type'] == 2], \n",
    "            data_s1s2['rise_time'][data_s1s2['type'] == 2], \n",
    "            s=0.1, alpha = 0.5, color = 'green', label = 'SOM S2')\n",
    "#plt.scatter(kr_pb_array['area'][kr_pb_array['type'] == 1], kr_pb_array['rise_time'][kr_pb_array['type'] == 1], s=0.1, color = 'blue')\n",
    "plt.xscale('log')\n",
    "plt.yscale('log')\n",
    "plt.xlabel('Area [PE]')\n",
    "plt.ylabel('Rise Time [ns]')\n",
    "plt.xlim(1,1000000)\n",
    "plt.ylim(1,100000)\n",
    "plt.legend(markerscale=8)"
   ]
  },
  {
   "cell_type": "code",
   "execution_count": null,
   "id": "e961733d-e56a-43e4-b61f-5bfb446ccb48",
   "metadata": {},
   "outputs": [],
   "source": [
    "d = {'Area [PE]': krpb_non_repeat['area'], \n",
    "     'Rise-Time [ns]': krpb_non_repeat['rise_time'],\n",
    "     'kind': krpb_non_repeat['type']}"
   ]
  },
  {
   "cell_type": "code",
   "execution_count": null,
   "id": "ecb03dcc-01e0-44e9-84f2-ef9a0f175367",
   "metadata": {},
   "outputs": [],
   "source": [
    "df = pd.DataFrame(data=d)"
   ]
  },
  {
   "cell_type": "code",
   "execution_count": null,
   "id": "20fe551b-8ef2-48f5-a154-e769cbbfe0a8",
   "metadata": {},
   "outputs": [],
   "source": [
    "fig, ax = plt.subplots()\n",
    "data = krpb_non_repeat[krpb_non_repeat['type'] == 1]\n",
    "data_list = {'Area [PE]': data['area'], \n",
    " 'Rise-Time [ns]': data['rise_time'],\n",
    " 'kind': data['type']}\n",
    "data_df = pd.DataFrame(data=data_list)\n",
    "\n",
    "#sns.set_palette(custom_palette)\n",
    "ax = sns.kdeplot(data=data_df, x=\"Area [PE]\", y=\"Rise-Time [ns]\", hue=\"kind\",\n",
    "                 levels=2, thresh=0.05, fill = True, alpha=.4,\n",
    "                 color=custom_palette2[1], log_scale = True, ax = ax)\n",
    "ax.set_xlim(1, 10000000)\n",
    "ax.set_ylim(10, 100000)"
   ]
  },
  {
   "cell_type": "code",
   "execution_count": null,
   "id": "8d5c6975-8488-46e1-9166-03109aded872",
   "metadata": {},
   "outputs": [],
   "source": [
    "fig, ax = plt.subplots()\n",
    "for i in np.arange(len(custom_palette2)):\n",
    "    data = krpb_non_repeat[krpb_non_repeat['type'] == i ]\n",
    "    data_list = {'Area [PE]': data['area'], \n",
    "     'Rise-Time [ns]': data['rise_time'],\n",
    "     'kind': data['type']}\n",
    "    data_df = pd.DataFrame(data=data_list)\n",
    "    \n",
    "    #sns.set_palette(custom_palette)\n",
    "    ax = sns.kdeplot(data=data_df, x=\"Area [PE]\", y=\"Rise-Time [ns]\", # hue=\"kind\",\n",
    "                     levels=2, thresh=0.1, fill = True, alpha=.4,\n",
    "                     color=custom_palette2[i], log_scale = True, ax = ax)\n",
    "\n",
    "ax.set_xlim(1, 10000000)\n",
    "ax.set_ylim(10, 100000)\n"
   ]
  },
  {
   "cell_type": "code",
   "execution_count": null,
   "id": "7189c803-cb1e-41d0-a8a2-053a341cb7f0",
   "metadata": {},
   "outputs": [],
   "source": [
    "list_of_values = [1,3,4,8,12,13,16,17]\n",
    "fig, ax = plt.subplots()\n",
    "for i in np.arange(len(list_of_values)):\n",
    "    data = krpb_non_repeat[krpb_non_repeat['type'] == list_of_values[i] ]\n",
    "    data_list = {'Area [PE]': data['area'], \n",
    "     'Rise-Time [ns]': data['rise_time'],\n",
    "     'kind': data['type']}\n",
    "    data_df = pd.DataFrame(data=data_list)\n",
    "    \n",
    "    #sns.set_palette(custom_palette)\n",
    "    ax = sns.kdeplot(data=data_df, x=\"Area [PE]\", y=\"Rise-Time [ns]\", # hue=\"kind\",\n",
    "                     levels=2, thresh=0.05, fill = True, alpha=.4,\n",
    "                     color=custom_palette2[list_of_values[i]], log_scale = True, ax = ax)\n",
    "\n",
    "ax.set_xlim(1, 10000000)\n",
    "ax.set_ylim(10, 100000)"
   ]
  },
  {
   "cell_type": "code",
   "execution_count": null,
   "id": "dc346e39-a52b-4e85-b571-952aabed5ba7",
   "metadata": {},
   "outputs": [],
   "source": [
    "list_of_values = [1,3,4,8,12,13,16,17]\n",
    "fig, ax = plt.subplots()\n",
    "for i in np.arange(len(list_of_values)):\n",
    "    data = krpb_non_repeat[krpb_non_repeat['type'] == list_of_values[i] ]\n",
    "    data_list = {'Area [PE]': data['area'], \n",
    "     'Rise-Time [ns]': data['rise_time'],\n",
    "     'kind': data['type']}\n",
    "    data_df = pd.DataFrame(data=data_list)\n",
    "    \n",
    "    #sns.set_palette(custom_palette)\n",
    "    ax = sns.kdeplot(data=data_df, x=\"Area [PE]\", y=\"Rise-Time [ns]\", # hue=\"kind\",\n",
    "                     levels=2, thresh=0.05, fill = True, alpha=.8,\n",
    "                     color=custom_palette2[list_of_values[i]], log_scale = True, ax = ax)\n",
    "\n",
    "ax.set_xlim(1, 10000000)\n",
    "ax.set_ylim(10, 100000)"
   ]
  },
  {
   "cell_type": "code",
   "execution_count": null,
   "id": "4d834264-a229-460f-a625-4a018092ece7",
   "metadata": {},
   "outputs": [],
   "source": [
    "list_of_values = [1,3,8,12,13,16,17]\n",
    "fig, ax = plt.subplots()\n",
    "for i in np.arange(len(list_of_values)):\n",
    "    data = krpb_non_repeat[krpb_non_repeat['type'] == list_of_values[i] ]\n",
    "    data_list = {'Area [PE]': data['area'], \n",
    "     'Rise-Time [ns]': data['rise_time'],\n",
    "     'kind': data['type']}\n",
    "    data_df = pd.DataFrame(data=data_list)\n",
    "    \n",
    "    #sns.set_palette(custom_palette)\n",
    "    ax = sns.kdeplot(data=data_df, x=\"Area [PE]\", y=\"Rise-Time [ns]\", # hue=\"kind\",\n",
    "                     levels=2, thresh=0.05, fill = True, alpha=.8,\n",
    "                     color=custom_palette2[list_of_values[i]], log_scale = True, ax = ax)\n",
    "\n",
    "ax.set_xlim(1, 10000000)\n",
    "ax.set_ylim(10, 100000)"
   ]
  },
  {
   "cell_type": "code",
   "execution_count": null,
   "id": "4aa752a3-d387-42ba-b879-3302642ada7a",
   "metadata": {},
   "outputs": [],
   "source": [
    "list_of_values = [1,3,8,12,13,16,17]\n",
    "fig, ax = plt.subplots()\n",
    "for i in np.arange(len(list_of_values)):\n",
    "    data = krpb_non_repeat[krpb_non_repeat['type'] == list_of_values[i] ]\n",
    "    data_list = {'Area [PE]': data['area'], \n",
    "     'Rise-Time [ns]': data['rise_time'],\n",
    "     'kind': data['type']}\n",
    "    data_df = pd.DataFrame(data=data_list)\n",
    "    \n",
    "    #sns.set_palette(custom_palette)\n",
    "    ax = sns.kdeplot(data=data_df, x=\"Area [PE]\", y=\"Rise-Time [ns]\", # hue=\"kind\",\n",
    "                     levels=2, thresh=0.03, fill = True, alpha=.8,\n",
    "                     color=custom_palette2[list_of_values[i]], log_scale = True, ax = ax)\n",
    "\n",
    "ax.set_xlim(1, 10000000)\n",
    "ax.set_ylim(10, 100000)"
   ]
  },
  {
   "cell_type": "code",
   "execution_count": null,
   "id": "fdc0b2b4-1b2e-4fa9-9301-5c9cb3ac7ba0",
   "metadata": {},
   "outputs": [],
   "source": [
    "custom_palette2 = ['#1d267d', '#2b3be2', '#216916', '#4cf931', \n",
    "                   '#18b000', '#19aff0', '#5b676c', '#71560e',\n",
    "                   '#6e38db', '#5bf5ff', '#b595f9', '#b2b2b2', \n",
    "                   '#cbfab3', '#b5b200', '#ad8b7b', '#ddd726', \n",
    "                   '#f7a102', '#f70a02', '#ff8a80', '#000000']"
   ]
  },
  {
   "cell_type": "code",
   "execution_count": null,
   "id": "c262df39-3532-419b-be82-b8b78de0d672",
   "metadata": {},
   "outputs": [],
   "source": [
    "fig, ax = plt.subplots()\n",
    "custom_palette = sns.color_palette(\"husl\", 4)\n",
    "#sns.set_palette(custom_palette)\n",
    "ax = sns.kdeplot(data=df, x=\"Area [PE]\", y=\"Rise-Time [ns]\", hue=\"kind\", hue_label={\"S1\": \"1\", \"S2\": \"2\"},\n",
    "            palette=custom_palette2, log_scale = True, ax = ax)\n",
    "ax.set_xlim(1, 10000000)\n",
    "ax.set_ylim(10, 100000)\n",
    "ax.legend(loc='upper left')"
   ]
  },
  {
   "cell_type": "code",
   "execution_count": null,
   "id": "9f341e38-3349-450b-9f26-97df5472fc1c",
   "metadata": {},
   "outputs": [],
   "source": [
    "fig, ax = plt.subplots()\n",
    "custom_palette = sns.color_palette(\"husl\", 4)\n",
    "#sns.set_palette(custom_palette)\n",
    "ax = sns.kdeplot(data=df, x=\"Area [PE]\", y=\"Rise-Time [ns]\", hue=\"kind\", hue_label={\"S1\": \"1\", \"S2\": \"2\"},\n",
    "                 linewidths=0.8,\n",
    "                 palette=custom_palette2, log_scale = True, ax = ax)\n",
    "ax.set_xlim(1, 10000000)\n",
    "ax.set_ylim(10, 100000)\n",
    "ax.legend(loc='upper left')"
   ]
  },
  {
   "cell_type": "code",
   "execution_count": null,
   "id": "4dad9b4a-744c-4a64-b303-8689043cf521",
   "metadata": {},
   "outputs": [],
   "source": [
    "# , linewidths=0.5\n",
    "fig, ax = plt.subplots()\n",
    "custom_palette = sns.color_palette(\"husl\", 4)\n",
    "#sns.set_palette(custom_palette)\n",
    "ax = sns.kdeplot(data=df, x=\"Area [PE]\", y=\"Rise-Time [ns]\", hue=\"kind\", hue_label={\"S1\": \"1\", \"S2\": \"2\"},\n",
    "                 linewidths=0.5,\n",
    "                 palette=custom_palette2, log_scale = True, ax = ax)\n",
    "ax.set_xlim(1, 10000000)\n",
    "ax.set_ylim(10, 100000)\n",
    "ax.legend(loc='upper left')"
   ]
  },
  {
   "cell_type": "code",
   "execution_count": null,
   "id": "8fa71733-c1e0-4a64-bbad-508bb555a3d0",
   "metadata": {},
   "outputs": [],
   "source": [
    "fig, ax = plt.subplots()\n",
    "custom_palette = sns.color_palette(\"husl\", 4)\n",
    "#sns.set_palette(custom_palette)\n",
    "ax = sns.kdeplot(data=df, x=\"Area [PE]\", y=\"Rise-Time [ns]\", hue=\"kind\", hue_label={\"S1\": \"1\", \"S2\": \"2\"},\n",
    "                 levels=5, thresh=0.01,\n",
    "                 palette=custom_palette2, log_scale = True, ax = ax)\n",
    "ax.set_xlim(1, 10000000)\n",
    "ax.set_ylim(10, 100000)\n",
    "ax.legend(loc='upper left')"
   ]
  },
  {
   "cell_type": "code",
   "execution_count": null,
   "id": "8d5b8ab9-3443-4e89-8b88-e20fb178dc58",
   "metadata": {},
   "outputs": [],
   "source": [
    "fig, ax = plt.subplots()\n",
    "custom_palette = sns.color_palette(\"husl\", 4)\n",
    "#sns.set_palette(custom_palette)\n",
    "ax = sns.kdeplot(data=df, x=\"Area [PE]\", y=\"Rise-Time [ns]\", hue=\"kind\", hue_label={\"S1\": \"1\", \"S2\": \"2\"},\n",
    "                 levels=5, thresh=0.03, linewidths=0.5,\n",
    "                 palette=custom_palette2, log_scale = True, ax = ax)\n",
    "ax.set_xlim(1, 10000000)\n",
    "ax.set_ylim(10, 100000)\n",
    "ax.legend(loc='upper left')"
   ]
  },
  {
   "cell_type": "code",
   "execution_count": null,
   "id": "f80952e4-c7ef-498b-bc2c-6db5daa282a0",
   "metadata": {},
   "outputs": [],
   "source": [
    "fig, ax = plt.subplots()\n",
    "custom_palette = sns.color_palette(\"husl\", 4)\n",
    "#sns.set_palette(custom_palette)\n",
    "ax = sns.kdeplot(data=df, x=\"Area [PE]\", y=\"Rise-Time [ns]\", hue=\"kind\", hue_label={\"S1\": \"1\", \"S2\": \"2\"},\n",
    "                 linewidths=0.8,\n",
    "                 palette=custom_palette2, log_scale = True, ax = ax)\n",
    "ax.set_xlim(1, 10000000)\n",
    "ax.set_ylim(10, 100000)\n",
    "ax.legend(loc='upper left')"
   ]
  },
  {
   "cell_type": "code",
   "execution_count": null,
   "id": "da259929-7d9e-4f70-b682-eac3173cad99",
   "metadata": {},
   "outputs": [],
   "source": [
    "fig, ax = plt.subplots()\n",
    "custom_palette = sns.color_palette(\"husl\", 4)\n",
    "#sns.set_palette(custom_palette)\n",
    "ax = sns.kdeplot(data=df, x=\"Area [PE]\", y=\"Rise-Time [ns]\", hue=\"kind\", hue_label={\"S1\": \"1\", \"S2\": \"2\"},\n",
    "                 levels=5, thresh=0.03, linewidths=0.8,\n",
    "                 palette=custom_palette2, log_scale = True, ax = ax)\n",
    "ax.set_xlim(1, 10000000)\n",
    "ax.set_ylim(10, 100000)\n",
    "ax.legend(loc='upper left')"
   ]
  },
  {
   "cell_type": "code",
   "execution_count": null,
   "id": "06b808f7-974b-4136-b349-c1849ca5c6ed",
   "metadata": {},
   "outputs": [],
   "source": [
    "fig, ax = plt.subplots()\n",
    "custom_palette = sns.color_palette(\"husl\", 4)\n",
    "#sns.set_palette(custom_palette)\n",
    "ax = sns.kdeplot(data=df, x=\"Area [PE]\", y=\"Rise-Time [ns]\", hue=\"kind\", hue_label={\"S1\": \"1\", \"S2\": \"2\"},\n",
    "                 levels=8, thresh=0.03, linewidths=0.8,\n",
    "                 palette=custom_palette2, log_scale = True, ax = ax)\n",
    "ax.set_xlim(1, 10000000)\n",
    "ax.set_ylim(10, 100000)\n",
    "ax.legend(loc='upper left')"
   ]
  },
  {
   "cell_type": "code",
   "execution_count": null,
   "id": "644bd304-db0f-46f8-b2b1-671586bf642f",
   "metadata": {},
   "outputs": [],
   "source": [
    "# levels=10, thresh=0.05,"
   ]
  },
  {
   "cell_type": "code",
   "execution_count": null,
   "id": "57635bf0-3fe4-4c84-b427-8d3ee14e895a",
   "metadata": {},
   "outputs": [],
   "source": [
    "fig = plt.figure(figsize=(8,6))\n",
    "for kind in np.arange(len(np.unique(som_cls_dec_area_aft2['type']))):\n",
    "    plt.scatter(som_cls_dec_area_aft2['area'][som_cls_dec_area_aft2['type'] == kind], \n",
    "                som_cls_dec_area_aft2['rise_time'][som_cls_dec_area_aft2['type'] == kind], \n",
    "                s=0.5, alpha = 0.5, color = color_daa2[kind]/255)\n",
    "#plt.scatter(kr_pb_array['area'][kr_pb_array['type'] == 1], kr_pb_array['rise_time'][kr_pb_array['type'] == 1], s=0.1, color = 'blue')\n",
    "plt.xscale('log')\n",
    "plt.yscale('log')\n",
    "plt.xlabel('Area [PE]')\n",
    "plt.ylabel('Rise-Time [ns]')\n",
    "plt.xlim(1,1000000)\n",
    "plt.ylim(1,100000)"
   ]
  },
  {
   "cell_type": "code",
   "execution_count": null,
   "id": "8a2740c7-84bc-46e9-a61f-748beab44f7c",
   "metadata": {},
   "outputs": [],
   "source": [
    "fig = plt.figure(figsize=(8,6))\n",
    "for kind in np.arange(len(np.unique(som_cls_dec_area_aft2['type']))):\n",
    "    plt.scatter(som_cls_dec_area_aft2['area'][som_cls_dec_area_aft2['type'] == kind], \n",
    "                som_cls_dec_area_aft2['range_50p_area'][som_cls_dec_area_aft2['type'] == kind], \n",
    "                s=0.5, alpha = 0.5, color = color_daa2[kind]/255)\n",
    "#plt.scatter(kr_pb_array['area'][kr_pb_array['type'] == 1], kr_pb_array['rise_time'][kr_pb_array['type'] == 1], s=0.1, color = 'blue')\n",
    "plt.xscale('log')\n",
    "plt.yscale('log')\n",
    "plt.xlabel('Area [PE]')\n",
    "plt.ylabel('50% width [ns]')\n",
    "plt.xlim(1,1000000)\n",
    "plt.ylim(1,100000)"
   ]
  },
  {
   "cell_type": "code",
   "execution_count": null,
   "id": "d795adc4-022b-4fe1-a137-6485f9e363a4",
   "metadata": {},
   "outputs": [],
   "source": [
    "som_cls_dec_area_aft2.dtype"
   ]
  },
  {
   "cell_type": "code",
   "execution_count": null,
   "id": "4c089251-1ba8-4406-a687-48bd1e0c4ca3",
   "metadata": {},
   "outputs": [],
   "source": []
  },
  {
   "cell_type": "code",
   "execution_count": null,
   "id": "fa6ee9f1-a1c1-4187-bd60-0c0b8badbc6b",
   "metadata": {},
   "outputs": [],
   "source": []
  },
  {
   "cell_type": "code",
   "execution_count": null,
   "id": "fbc0dc5d-de04-45a6-82fd-28ab4592948e",
   "metadata": {},
   "outputs": [],
   "source": [
    "custom_palette2 = ['#1d267d', '#2b3be2', '#216916', '#4cf931', \n",
    "                   '#18b000', '#19aff0', '#5b676c', '#71560e',\n",
    "                   '#6e38db', '#5bf5ff', '#b595f9', '#b2b2b2', \n",
    "                   '#cbfab3', '#b5b200', '#ad8b7b', '#ddd726', \n",
    "                   '#f7a102', '#f70a02', '#ff8a80', '#000000']"
   ]
  },
  {
   "cell_type": "code",
   "execution_count": null,
   "id": "acc262b6-6b12-4a44-a658-ed1f0f3997ca",
   "metadata": {},
   "outputs": [],
   "source": [
    "file = './logos/XE_preliminary_horizontal.png'"
   ]
  },
  {
   "cell_type": "code",
   "execution_count": null,
   "id": "627a7166-6f43-44c1-950a-cb118ca67c23",
   "metadata": {},
   "outputs": [],
   "source": [
    "logo = image.imread(file)"
   ]
  },
  {
   "cell_type": "code",
   "execution_count": null,
   "id": "7065890c-eb8b-4912-bdff-5c0a554db269",
   "metadata": {},
   "outputs": [],
   "source": [
    "list_of_values = [1,3,8,12,13,16,17]\n",
    "fig, ax = plt.subplots()\n",
    "for i in np.arange(len(list_of_values)):\n",
    "    data = krpb_non_repeat[krpb_non_repeat['type'] == list_of_values[i] ]\n",
    "    data_list = {'Area [PE]': data['area'], \n",
    "     'Rise-Time [ns]': data['rise_time'],\n",
    "     'kind': data['type']}\n",
    "    data_df = pd.DataFrame(data=data_list)\n",
    "    \n",
    "    #sns.set_palette(custom_palette)\n",
    "    ax = sns.kdeplot(data=data_df, x=\"Area [PE]\", y=\"Rise-Time [ns]\", # hue=\"kind\",\n",
    "                     levels=2, thresh=0.05, fill = True, alpha=.8,\n",
    "                     color=custom_palette2[list_of_values[i]], log_scale = True, ax = ax)\n",
    "imagebox = OffsetImage(logo, zoom = 0.05)\n",
    "#Annotation box for solar pv logo\n",
    "#Container for the imagebox referring to a specific position *xy*.\n",
    "ab = AnnotationBbox(imagebox, (80000, 100),\n",
    "                    frameon = False)\n",
    "ax.add_artist(ab)\n",
    "ax.set_xlim(1, 10000000)\n",
    "ax.set_ylim(10, 100000)\n",
    "plt.savefig('./figures/SOM_rt_v_area_95%_contours.png', dpi = 400)"
   ]
  },
  {
   "cell_type": "code",
   "execution_count": null,
   "id": "b0554ed9-bacc-424e-98db-dec0f2e04286",
   "metadata": {},
   "outputs": [],
   "source": [
    "list_of_values = [1,3,8,12,13,16,17]\n",
    "fig, ax = plt.subplots()\n",
    "for i in np.arange(len(list_of_values)):\n",
    "    data = krpb_non_repeat[krpb_non_repeat['type'] == list_of_values[i] ]\n",
    "    data_list = {'Area [PE]': data['area'], \n",
    "     'Rise-Time [ns]': data['rise_time'],\n",
    "     'kind': data['type']}\n",
    "    data_df = pd.DataFrame(data=data_list)\n",
    "    \n",
    "    #sns.set_palette(custom_palette)\n",
    "    ax = sns.kdeplot(data=data_df, x=\"Area [PE]\", y=\"Rise-Time [ns]\", # hue=\"kind\",\n",
    "                     levels=5, thresh=0.05,  alpha=.8,\n",
    "                     color=custom_palette2[list_of_values[i]], log_scale = True, ax = ax)\n",
    "imagebox = OffsetImage(logo, zoom = 0.05)\n",
    "#Annotation box for solar pv logo\n",
    "#Container for the imagebox referring to a specific position *xy*.\n",
    "ab = AnnotationBbox(imagebox, (80000, 100),\n",
    "                    frameon = False)\n",
    "ax.add_artist(ab)\n",
    "ax.set_xlim(1, 10000000)\n",
    "ax.set_ylim(10, 100000)"
   ]
  },
  {
   "cell_type": "code",
   "execution_count": null,
   "id": "28add8f5-3a33-42a9-bca8-fcd0a4ae0e9e",
   "metadata": {},
   "outputs": [],
   "source": [
    "list_of_values = [1,3,8,12,13,16,17]\n",
    "fig, ax = plt.subplots()\n",
    "for i in np.arange(len(list_of_values)):\n",
    "    data = krpb_non_repeat[krpb_non_repeat['type'] == list_of_values[i] ]\n",
    "    data_list = {'Area [PE]': data['area'], \n",
    "     'Rise-Time [ns]': data['rise_time'],\n",
    "     'kind': data['type']}\n",
    "    data_df = pd.DataFrame(data=data_list)\n",
    "    \n",
    "    #sns.set_palette(custom_palette)\n",
    "    ax = sns.kdeplot(data=data_df, x=\"Area [PE]\", y=\"Rise-Time [ns]\", # hue=\"kind\",\n",
    "                     levels=2, thresh=0.03, fill = True, alpha=.8,\n",
    "                     color=custom_palette2[list_of_values[i]], log_scale = True, ax = ax)\n",
    "imagebox = OffsetImage(logo, zoom = 0.05)\n",
    "#Annotation box for solar pv logo\n",
    "#Container for the imagebox referring to a specific position *xy*.\n",
    "ab = AnnotationBbox(imagebox, (80000, 100),\n",
    "                    frameon = False)\n",
    "ax.add_artist(ab)\n",
    "ax.set_xlim(1, 10000000)\n",
    "ax.set_ylim(10, 100000)\n",
    "plt.savefig('./figures/SOM_rt_v_area_97%_contours.png', dpi = 400)"
   ]
  },
  {
   "cell_type": "code",
   "execution_count": null,
   "id": "47a513a6-2c90-408c-b6f3-7e04df9bde58",
   "metadata": {},
   "outputs": [],
   "source": [
    "logo_left = 10\n",
    "logo_bottom = 1000\n",
    "logo_width = 100000\n",
    "logo_height = 10000"
   ]
  },
  {
   "cell_type": "code",
   "execution_count": null,
   "id": "e1e1ce20-2a60-4eb9-a980-28ad96f7d892",
   "metadata": {},
   "outputs": [],
   "source": [
    "fig, ax = plt.subplots()\n",
    "ax.imshow(logo, aspect='auto', extent=(logo_left, logo_left+logo_width, logo_bottom, logo_bottom+logo_height), zorder=-1)"
   ]
  },
  {
   "cell_type": "code",
   "execution_count": null,
   "id": "3c5c8bf6-43da-42f2-9d1a-ce8dbd4470d7",
   "metadata": {},
   "outputs": [],
   "source": [
    "list_of_values = [1,3,8,12,13,16,17]\n",
    "fig, ax = plt.subplots()\n",
    "\n",
    "for i in np.arange(len(list_of_values)):\n",
    "    data = krpb_non_repeat[krpb_non_repeat['type'] == list_of_values[i]]\n",
    "    data_list = {'Area [PE]': data['area'], \n",
    "                 'Rise-Time [ns]': data['rise_time'],\n",
    "                 'kind': data['type']}\n",
    "    data_df = pd.DataFrame(data=data_list)\n",
    "    \n",
    "    plt.scatter(data_df[\"Area [PE]\"], data_df[\"Rise-Time [ns]\"],\n",
    "                alpha=0.8, color=custom_palette2[list_of_values[i]], s=0.5)\n",
    "\n",
    "# Adjust logo position and size\n",
    "imagebox = OffsetImage(logo, zoom = 0.05)\n",
    "#Annotation box for solar pv logo\n",
    "#Container for the imagebox referring to a specific position *xy*.\n",
    "ab = AnnotationBbox(imagebox, (80000, 100),\n",
    "                    frameon = False)\n",
    "ax.add_artist(ab)\n",
    "ax.set_xscale('log')\n",
    "ax.set_yscale('log')\n",
    "ax.set_xlim(1, 10000000)\n",
    "ax.set_ylim(10, 100000)\n",
    "ax.set_xlabel('Area [PE]')\n",
    "ax.set_ylabel('Rise Time [ns]')\n",
    "plt.savefig('./figures/SOM_rt_v_area_scatter_plot.png', dpi = 400)"
   ]
  },
  {
   "cell_type": "code",
   "execution_count": null,
   "id": "b945051b-d4b8-465e-bf1a-a41f839748ab",
   "metadata": {},
   "outputs": [],
   "source": [
    "color_list=[]\n",
    "color_array = np.zeros(len(krpb_non_repeat['type']))\n",
    "for i in np.arange(len(krpb_non_repeat['type'])):\n",
    "    if krpb_non_repeat['type'][i] == 1:\n",
    "        #color_array[i] = custom_palette2[1]\n",
    "        color_list = np.append(color_list, custom_palette2[1])\n",
    "    if krpb_non_repeat['type'][i] == 3:\n",
    "        #color_array[i] = custom_palette2[3]\n",
    "        color_list = np.append(color_list, custom_palette2[3])\n",
    "    if krpb_non_repeat['type'][i] == 8:\n",
    "        #color_array[i] = custom_palette2[8]\n",
    "        color_list = np.append(color_list, custom_palette2[8])\n",
    "    if krpb_non_repeat['type'][i] == 12:\n",
    "        #color_array[i] = custom_palette2[12]\n",
    "        color_list = np.append(color_list, custom_palette2[12])\n",
    "    if krpb_non_repeat['type'][i] == 13:\n",
    "        #color_array[i] = custom_palette2[13]\n",
    "        color_list = np.append(color_list, custom_palette2[13])\n",
    "    if krpb_non_repeat['type'][i] == 16:\n",
    "        #color_array[i] = custom_palette2[16]\n",
    "        color_list = np.append(color_list, custom_palette2[16])\n",
    "    if krpb_non_repeat['type'][i] == 17:\n",
    "        #color_array[i] = custom_palette2[17]\n",
    "        color_list = np.append(color_list, custom_palette2[17])\n",
    "    "
   ]
  },
  {
   "cell_type": "code",
   "execution_count": null,
   "id": "e96a678d-e3ad-4100-a5a0-8862be8bd5ab",
   "metadata": {},
   "outputs": [],
   "source": [
    "custom_palette2[17].dtype()"
   ]
  },
  {
   "cell_type": "code",
   "execution_count": null,
   "id": "79808758-b3be-4154-9c27-a61c4efd73b0",
   "metadata": {},
   "outputs": [],
   "source": [
    "col = np.where(krpb_non_repeat['type'] == 1,custom_palette2[1],\n",
    "              krpb_non_repeat['type'] == 3,custom_palette2[3],\n",
    "              krpb_non_repeat['type'] == 8,custom_palette2[8],\n",
    "              krpb_non_repeat['type'] == 12,custom_palette2[12],\n",
    "              krpb_non_repeat['type'] == 13,custom_palette2[13],\n",
    "              krpb_non_repeat['type'] == 16,custom_palette2[16],\n",
    "              krpb_non_repeat['type'] == 17,custom_palette2[17])"
   ]
  },
  {
   "cell_type": "code",
   "execution_count": null,
   "id": "f5518a96-fb8e-4a3e-9b0f-4f3dd7908671",
   "metadata": {},
   "outputs": [],
   "source": [
    "col = np.where(krpb_non_repeat['type'] == 1,custom_palette2[1])"
   ]
  },
  {
   "cell_type": "code",
   "execution_count": null,
   "id": "1f2b8118-8b09-42d5-9f9f-ea5c75a86e8e",
   "metadata": {},
   "outputs": [],
   "source": [
    "custom_palette2[1]"
   ]
  },
  {
   "cell_type": "code",
   "execution_count": null,
   "id": "6921249a-961a-4d42-81ba-3634d6fd5c9b",
   "metadata": {},
   "outputs": [],
   "source": [
    "data['area']"
   ]
  },
  {
   "cell_type": "code",
   "execution_count": null,
   "id": "0180d396-6fa3-4953-ad3f-19d6b2c7c087",
   "metadata": {},
   "outputs": [],
   "source": [
    "len(krpb_non_repeat)"
   ]
  },
  {
   "cell_type": "code",
   "execution_count": null,
   "id": "27897cc9-7125-42df-9575-b331c330ce79",
   "metadata": {},
   "outputs": [],
   "source": [
    "kr_cut_data = krpb_non_repeat.copy()"
   ]
  },
  {
   "cell_type": "code",
   "execution_count": null,
   "id": "8390e6e2-11e3-4125-b171-fd68c2cb9292",
   "metadata": {},
   "outputs": [],
   "source": [
    "mask =  (kr_cut_data[\"type\"] == 1) | (kr_cut_data[\"type\"] == 3) | (kr_cut_data[\"type\"] == 8) | (kr_cut_data[\"type\"] == 12) | (kr_cut_data[\"type\"] == 13) | (kr_cut_data[\"type\"] == 16) | (kr_cut_data[\"type\"] == 17)"
   ]
  },
  {
   "cell_type": "code",
   "execution_count": null,
   "id": "79bc94ed-864f-430c-9e0b-60a4d97ec568",
   "metadata": {},
   "outputs": [],
   "source": [
    "kr_cut_data = kr_cut_data[mask]"
   ]
  },
  {
   "cell_type": "code",
   "execution_count": null,
   "id": "3a4e5462-902f-4d49-90c0-89a6e3e02a7b",
   "metadata": {},
   "outputs": [],
   "source": [
    "len(kr_cut_data)"
   ]
  },
  {
   "cell_type": "code",
   "execution_count": null,
   "id": "97b8a6d5-62b0-45a7-b7a3-80f8925b5de4",
   "metadata": {},
   "outputs": [],
   "source": [
    "len(color_list)"
   ]
  },
  {
   "cell_type": "code",
   "execution_count": null,
   "id": "c9d4db45-bdd2-466d-abe1-12ee8cae4342",
   "metadata": {},
   "outputs": [],
   "source": [
    "list_of_values = [1,3,8,12,13,16,17]\n",
    "fig, ax = plt.subplots()\n",
    "\n",
    "for i in np.arange(len(kr_cut_data)):\n",
    "    \n",
    "    plt.scatter(kr_cut_data['area'][i], kr_cut_data['rise_time'][i],\n",
    "                alpha=0.8, color=color_list[i], s=2)\n",
    "\n",
    "# Adjust logo position and size\n",
    "imagebox = OffsetImage(logo, zoom = 0.05)\n",
    "#Annotation box for solar pv logo\n",
    "#Container for the imagebox referring to a specific position *xy*.\n",
    "ab = AnnotationBbox(imagebox, (80000, 100),\n",
    "                    frameon = False)\n",
    "ax.add_artist(ab)\n",
    "ax.set_xscale('log')\n",
    "ax.set_yscale('log')\n",
    "ax.set_xlim(1, 10000000)\n",
    "ax.set_ylim(10, 100000)"
   ]
  },
  {
   "cell_type": "code",
   "execution_count": null,
   "id": "d3d19b30-27d3-45c4-a33b-49a37e7456f6",
   "metadata": {},
   "outputs": [],
   "source": [
    "list_of_values = [1,3,8,12,13,16,17]\n",
    "fig, ax = plt.subplots()\n",
    "    \n",
    "plt.scatter(kr_cut_data['area'], kr_cut_data['rise_time'],\n",
    "            alpha=0.8, color=color_list, s=0.5)\n",
    "\n",
    "# Adjust logo position and size\n",
    "imagebox = OffsetImage(logo, zoom = 0.05)\n",
    "#Annotation box for solar pv logo\n",
    "#Container for the imagebox referring to a specific position *xy*.\n",
    "ab = AnnotationBbox(imagebox, (80000, 100),\n",
    "                    frameon = False)\n",
    "ax.add_artist(ab)\n",
    "ax.set_xscale('log')\n",
    "ax.set_yscale('log')\n",
    "ax.set_xlim(1, 10000000)\n",
    "ax.set_ylim(10, 100000)"
   ]
  },
  {
   "cell_type": "code",
   "execution_count": null,
   "id": "1aba5ffa-e5f9-46f1-b2a7-8be58dc4e7da",
   "metadata": {},
   "outputs": [],
   "source": [
    "random = np.random.choice(len(kr_cut_data), len(kr_cut_data), replace=False)"
   ]
  },
  {
   "cell_type": "code",
   "execution_count": null,
   "id": "1b4b6626-abbb-4755-9061-b963b0adb27e",
   "metadata": {},
   "outputs": [],
   "source": [
    "list_of_values = [1,3,8,12,13,16,17]\n",
    "fig, ax = plt.subplots()\n",
    "    \n",
    "plt.scatter(kr_cut_data['area'][random], kr_cut_data['rise_time'][random],\n",
    "            alpha=0.8, color=color_list[random], s=0.5)\n",
    "\n",
    "# Adjust logo position and size\n",
    "imagebox = OffsetImage(logo, zoom = 0.05)\n",
    "#Annotation box for solar pv logo\n",
    "#Container for the imagebox referring to a specific position *xy*.\n",
    "ab = AnnotationBbox(imagebox, (80000, 100),\n",
    "                    frameon = False)\n",
    "ax.add_artist(ab)\n",
    "ax.set_xscale('log')\n",
    "ax.set_yscale('log')\n",
    "ax.set_xlim(1, 10000000)\n",
    "ax.set_ylim(10, 100000)\n",
    "ax.set_xlabel('Area [PE]')\n",
    "ax.set_ylabel('Rise-Time [ns]')"
   ]
  },
  {
   "cell_type": "code",
   "execution_count": null,
   "id": "f23f6155-7096-484d-b4f7-2a2c1b99da5f",
   "metadata": {},
   "outputs": [],
   "source": [
    "list_of_values = [1,3,8,12,13,16,17]\n",
    "fig, ax = plt.subplots()\n",
    "    \n",
    "plt.scatter(kr_cut_data['area'][random], kr_cut_data['rise_time'][random],\n",
    "            alpha=0.4, color=color_list[random], s=0.5)\n",
    "\n",
    "# Adjust logo position and size\n",
    "imagebox = OffsetImage(logo, zoom = 0.05)\n",
    "#Annotation box for solar pv logo\n",
    "#Container for the imagebox referring to a specific position *xy*.\n",
    "ab = AnnotationBbox(imagebox, (80000, 100),\n",
    "                    frameon = False)\n",
    "ax.add_artist(ab)\n",
    "ax.set_xscale('log')\n",
    "ax.set_yscale('log')\n",
    "ax.set_xlim(1, 10000000)\n",
    "ax.set_ylim(10, 100000)\n",
    "ax.set_xlabel('Area [PE]')\n",
    "ax.set_ylabel('Rise-Time [ns]')"
   ]
  },
  {
   "cell_type": "code",
   "execution_count": null,
   "id": "90a3c4ef-36fd-47f7-921f-cbc27681b866",
   "metadata": {},
   "outputs": [],
   "source": [
    "kr_cut_data['area']"
   ]
  },
  {
   "cell_type": "code",
   "execution_count": null,
   "id": "b6e474b2-96b3-4001-924c-7884f962fbd6",
   "metadata": {},
   "outputs": [],
   "source": []
  }
 ],
 "metadata": {
  "kernelspec": {
   "display_name": "Python [conda env:2022.11.1]",
   "language": "python",
   "name": "conda-env-2022.11.1-py"
  },
  "language_info": {
   "codemirror_mode": {
    "name": "ipython",
    "version": 3
   },
   "file_extension": ".py",
   "mimetype": "text/x-python",
   "name": "python",
   "nbconvert_exporter": "python",
   "pygments_lexer": "ipython3",
   "version": "3.8.13"
  }
 },
 "nbformat": 4,
 "nbformat_minor": 5
}
