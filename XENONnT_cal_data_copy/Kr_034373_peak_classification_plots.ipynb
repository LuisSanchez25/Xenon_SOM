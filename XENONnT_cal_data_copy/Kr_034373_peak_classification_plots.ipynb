{
 "cells": [
  {
   "cell_type": "code",
   "execution_count": null,
   "id": "043c73ff-bcd1-41f5-904f-15c878450184",
   "metadata": {},
   "outputs": [],
   "source": [
    "import strax \n",
    "import straxen \n",
    "import numpy as np\n",
    "import matplotlib.pyplot as plt\n",
    "import cutax\n",
    "import pandas as pd"
   ]
  },
  {
   "cell_type": "code",
   "execution_count": null,
   "id": "89048a71-a478-40d8-b643-f8f103d1f14f",
   "metadata": {},
   "outputs": [],
   "source": [
    "1+1"
   ]
  },
  {
   "cell_type": "code",
   "execution_count": null,
   "id": "41a5a7dd-bd0d-465d-8376-f9523b65c661",
   "metadata": {},
   "outputs": [],
   "source": [
    "strax.__version__"
   ]
  },
  {
   "cell_type": "code",
   "execution_count": null,
   "id": "9901c552-3578-4960-b9e9-4e1d961f1543",
   "metadata": {},
   "outputs": [],
   "source": [
    "cutax.__version__"
   ]
  },
  {
   "cell_type": "code",
   "execution_count": null,
   "id": "26d18f0a-a553-4325-9c2c-167bd6fff4d4",
   "metadata": {},
   "outputs": [],
   "source": [
    "straxen.__version__"
   ]
  },
  {
   "cell_type": "code",
   "execution_count": null,
   "id": "e68c1971-f6e5-443d-8378-c9783c5f46f6",
   "metadata": {},
   "outputs": [],
   "source": [
    "st = cutax.contexts.xenonnt_v8()"
   ]
  },
  {
   "cell_type": "code",
   "execution_count": null,
   "id": "d4e69ae7-250e-4549-b512-a41127fe0ee5",
   "metadata": {},
   "outputs": [],
   "source": [
    "st = straxen.contexts.xenonnt_simulation()"
   ]
  },
  {
   "cell_type": "code",
   "execution_count": null,
   "id": "35d15f5c-fab3-4f61-94d7-b196d3b8fe8c",
   "metadata": {},
   "outputs": [],
   "source": [
    "pb_data = np.load('./saved_data/kr_clean_pb_data_v2.npz')['arr_0']"
   ]
  },
  {
   "cell_type": "code",
   "execution_count": null,
   "id": "c0fee787-e4fe-4af5-bd00-653cb4798642",
   "metadata": {},
   "outputs": [],
   "source": [
    "st.select_runs(available=('event_info'),run_mode='tpc_ar37',\n",
    "                             include_tags=\"_sr0\",\n",
    "                             exclude_tags=('messy','bad','nonsr0_configuration','ramp down','ramp_down','ramp_up','ramp up','hot_spot','abandon','warm_spot'))"
   ]
  },
  {
   "cell_type": "code",
   "execution_count": null,
   "id": "883548b2-4000-4cfd-92a1-16ed38e6f0dc",
   "metadata": {},
   "outputs": [],
   "source": [
    "cal_run_id = '034373'"
   ]
  },
  {
   "cell_type": "code",
   "execution_count": null,
   "id": "8f5e78b8-5423-4ec3-8861-6bdff3e7a1f5",
   "metadata": {},
   "outputs": [],
   "source": [
    "kr_event_info = st.get_array(run_id = cal_run_id , targets='event_info')"
   ]
  },
  {
   "cell_type": "code",
   "execution_count": null,
   "id": "f921622a-2338-4eb0-b904-d5c580189955",
   "metadata": {},
   "outputs": [],
   "source": [
    "kr_events_info_cuts = st.get_array(cal_run_id, targets =('event_info', 'cut_fiducial_volume', 'cut_s2_width', 'cut_s2_single_scatter',\n",
    "                                                        'cut_s2_pattern', 'cut_s2_recon_pos_diff', 'cut_cs2_area_fraction_top'))"
   ]
  },
  {
   "cell_type": "code",
   "execution_count": null,
   "id": "616245de-7610-448c-9540-6e6b9b517086",
   "metadata": {},
   "outputs": [],
   "source": [
    "cut_list = ['cut_fiducial_volume', 'cut_s2_width', 'cut_s2_single_scatter',\n",
    "            'cut_s2_pattern', 'cut_s2_recon_pos_diff', 'cut_cs2_area_fraction_top']"
   ]
  },
  {
   "cell_type": "code",
   "execution_count": null,
   "id": "2f098e34-e1d4-43e7-b2c3-94158bd22e2b",
   "metadata": {},
   "outputs": [],
   "source": [
    "cut_list[0]"
   ]
  },
  {
   "cell_type": "code",
   "execution_count": null,
   "id": "464655dd-9ccc-4cdf-920c-b4e66ac67117",
   "metadata": {},
   "outputs": [],
   "source": [
    "len(kr_events_info_cuts['s1_index'])"
   ]
  },
  {
   "cell_type": "code",
   "execution_count": null,
   "id": "477c7375-ec6b-445c-bc9a-8b055b5cd299",
   "metadata": {},
   "outputs": [],
   "source": [
    "def apply_cuts_to_event_info(event_info, cut_list):\n",
    "    event_info_cuts = event_info\n",
    "    for i in np.arange(len(cut_list)):\n",
    "        event_info_cuts = event_info_cuts[event_info_cuts[cut_list[i]] == True]\n",
    "        \n",
    "    return event_info_cuts"
   ]
  },
  {
   "cell_type": "code",
   "execution_count": null,
   "id": "21281509-76b4-40b2-8124-17f783ad1aee",
   "metadata": {},
   "outputs": [],
   "source": [
    "def compute_s1_boundary(parm, area):\n",
    "    boundary_line = parm[0]*np.exp(-area/parm[1]) + parm[2]\n",
    "    \n",
    "    return boundary_line"
   ]
  },
  {
   "cell_type": "code",
   "execution_count": null,
   "id": "16a17813-a87b-46fd-8260-c99893070638",
   "metadata": {},
   "outputs": [],
   "source": [
    "events_with_cuts = apply_cuts_to_event_info(kr_events_info_cuts, cut_list)"
   ]
  },
  {
   "cell_type": "code",
   "execution_count": null,
   "id": "b19d2915-90ec-466e-a3e5-8e0e6369fbdf",
   "metadata": {},
   "outputs": [],
   "source": [
    "len(events_with_cuts)"
   ]
  },
  {
   "cell_type": "code",
   "execution_count": null,
   "id": "c0cd2cb6-d5d8-4baf-8572-b702ff6c3985",
   "metadata": {},
   "outputs": [],
   "source": [
    "pb_data_SOM2cls = np.load('./saved_data/kr_034373_pb_SOM2cls.npz')['arr_0']"
   ]
  },
  {
   "cell_type": "code",
   "execution_count": null,
   "id": "bdaa8498-8d2c-4a5c-8b8f-1d23c7feda35",
   "metadata": {},
   "outputs": [],
   "source": [
    "def match_event_basics_to_data(event_basics, peak_info):\n",
    "    \"\"\"\n",
    "    Feed in event basics and peaks or peaks basics and return the information in peak basics regarding the event.\n",
    "    Note some data will be repreated as every event has multiple peaks.\n",
    "    \"\"\"\n",
    "    # need empty array that I can just put things in\n",
    "    # what if a particular value is never found\n",
    "    eb_info = np.array([])  #event basics index\n",
    "    peak_basics_index = np.array([])\n",
    "    nan_array = np.repeat(float(\"nan\"), 1)\n",
    "    \n",
    "    for jj in np.arange(len(peak_info)):\n",
    "        \n",
    "        if any(peak_info['time'][jj] == event_basics['s1_time']): #if the value is an S1\n",
    "            index = int(np.argwhere(peak_info['time'][jj] == event_basics['s1_time'])) #index in peak basics\n",
    "            eb_info = np.append(eb_info, index )\n",
    "            peak_basics_index = np.append(peak_basics_index, jj)\n",
    "\n",
    "        elif any(peak_info['time'][jj] == event_basics['s2_time']): #if the value is an S1\n",
    "            index = int(np.argwhere(peak_info['time'][jj] == event_basics['s2_time']))\n",
    "            eb_info = np.append(eb_info, index )\n",
    "            peak_basics_index = np.append(peak_basics_index, jj)\n",
    "            \n",
    "    eb_index = eb_info\n",
    "            \n",
    "    return eb_index, peak_basics_index"
   ]
  },
  {
   "cell_type": "code",
   "execution_count": null,
   "id": "d4c399d9-6e29-4498-b2d2-d909dfaf0f86",
   "metadata": {},
   "outputs": [],
   "source": [
    "eb_index, pb_index = match_event_basics_to_data(events_with_cuts, pb_data_SOM2cls)"
   ]
  },
  {
   "cell_type": "code",
   "execution_count": null,
   "id": "0a00e771-0991-48cf-b1ab-6c63614dc2c3",
   "metadata": {},
   "outputs": [],
   "source": [
    "data_pb_cuts_2clsSOM = pb_data_SOM2cls[pb_index.astype(int)]"
   ]
  },
  {
   "cell_type": "code",
   "execution_count": null,
   "id": "fef2423c-488f-476e-9754-645cb3303c7c",
   "metadata": {},
   "outputs": [],
   "source": [
    "fig = plt.figure(figsize=(10,7))\n",
    "\n",
    "plt.scatter(pb_data_SOM2cls['area'][pb_data_SOM2cls['type'] == 1], \n",
    "            pb_data_SOM2cls['rise_time'][pb_data_SOM2cls['type'] == 1], \n",
    "            s=0.5, alpha = 0.5, color = 'blue')\n",
    "plt.scatter(pb_data_SOM2cls['area'][pb_data_SOM2cls['type'] == 2], \n",
    "            pb_data_SOM2cls['rise_time'][pb_data_SOM2cls['type'] == 2], \n",
    "            s=0.5, alpha = 0.5, color = 'green')\n",
    "#plt.scatter(kr_pb_array['area'][kr_pb_array['type'] == 1], kr_pb_array['rise_time'][kr_pb_array['type'] == 1], s=0.1, color = 'blue')\n",
    "plt.xscale('log')\n",
    "plt.yscale('log')\n",
    "plt.xlabel('Area [PE]')\n",
    "plt.ylabel('Rise Time [ns]')\n",
    "plt.xlim(1,100)\n",
    "plt.ylim(1,300)"
   ]
  },
  {
   "cell_type": "code",
   "execution_count": null,
   "id": "8c38025e-ff40-40d5-933e-3438f3e8ef59",
   "metadata": {},
   "outputs": [],
   "source": [
    "fig = plt.figure(figsize=(10,7))\n",
    "\n",
    "plt.scatter(pb_data_SOM2cls['area'][pb_data_SOM2cls['type'] == 1], \n",
    "            pb_data_SOM2cls['rise_time'][pb_data_SOM2cls['type'] == 1], \n",
    "            s=0.5, alpha = 0.5, color = 'blue')\n",
    "plt.scatter(pb_data_SOM2cls['area'][pb_data_SOM2cls['type'] == 2], \n",
    "            pb_data_SOM2cls['rise_time'][pb_data_SOM2cls['type'] == 2], \n",
    "            s=0.5, alpha = 0.5, color = 'green')\n",
    "#plt.scatter(kr_pb_array['area'][kr_pb_array['type'] == 1], kr_pb_array['rise_time'][kr_pb_array['type'] == 1], s=0.1, color = 'blue')\n",
    "plt.xscale('log')\n",
    "plt.yscale('log')\n",
    "plt.xlabel('Area [PE]')\n",
    "plt.ylabel('Rise Time [ns]')\n",
    "plt.xlim(1,50)\n",
    "plt.ylim(10,500)"
   ]
  },
  {
   "cell_type": "code",
   "execution_count": null,
   "id": "424fc919-bb1d-4c0a-bebe-ec9eac45c602",
   "metadata": {},
   "outputs": [],
   "source": [
    "parm = np.array([50, 80, 12])"
   ]
  },
  {
   "cell_type": "code",
   "execution_count": null,
   "id": "230412f2-93e3-488d-96c3-dbaa759b7d3f",
   "metadata": {},
   "outputs": [],
   "source": [
    "parm2 = np.array([100, 80, 12])"
   ]
  },
  {
   "cell_type": "code",
   "execution_count": null,
   "id": "eaab8f0d-b4ec-419a-9452-6ef415359e60",
   "metadata": {},
   "outputs": [],
   "source": [
    "parm3 = np.array([50, 80, 60])"
   ]
  },
  {
   "cell_type": "code",
   "execution_count": null,
   "id": "3f5a4cee-d546-4fb0-87ff-aeda65535fe2",
   "metadata": {},
   "outputs": [],
   "source": [
    "st_s1_data = pb_data[pb_data['type'] == 1]\n",
    "st_s2_data = pb_data[pb_data['type'] == 2]"
   ]
  },
  {
   "cell_type": "code",
   "execution_count": null,
   "id": "3261a12d-150d-4dba-a60c-3958818a34db",
   "metadata": {},
   "outputs": [],
   "source": [
    "area_linspace =  np.linspace(1, 100, 200)"
   ]
  },
  {
   "cell_type": "code",
   "execution_count": null,
   "id": "5348fc2f-a04f-41da-ac96-3465a0f34609",
   "metadata": {},
   "outputs": [],
   "source": [
    "fig = plt.figure(figsize=(6,5))\n",
    "\n",
    "plt.scatter(pb_data['area'][pb_data['type'] == 1], \n",
    "            pb_data['rise_time'][pb_data['type'] == 1], \n",
    "            s=0.5, alpha = 0.5, color = 'blue', label = 'S1')\n",
    "plt.scatter(pb_data['area'][pb_data['type'] == 2], \n",
    "            pb_data['rise_time'][pb_data['type'] == 2], \n",
    "            s=0.5, alpha = 0.5, color = 'green', label = 'S2')\n",
    "plt.plot(area_linspace, compute_s1_boundary(parm2, area_linspace),\n",
    "         '--' ,color = 'black', label = 'Straxen Peaklet Boundary')\n",
    "#plt.scatter(kr_pb_array['area'][kr_pb_array['type'] == 1], kr_pb_array['rise_time'][kr_pb_array['type'] == 1], s=0.1, color = 'blue')\n",
    "plt.xscale('log')\n",
    "plt.yscale('log')\n",
    "plt.xlabel('Area [PE]')\n",
    "plt.ylabel('Rise Time [ns]')\n",
    "plt.legend(markerscale=8)\n",
    "plt.xlim(1,50)\n",
    "plt.ylim(10,500)\n",
    "plt.savefig('./figures/Straxen_cls_risetime_v_area_boundary.png')"
   ]
  },
  {
   "cell_type": "code",
   "execution_count": null,
   "id": "0f1d9614-0b32-4765-93ef-918556655cae",
   "metadata": {},
   "outputs": [],
   "source": [
    "fig = plt.figure(figsize=(6,5))\n",
    "\n",
    "plt.scatter(pb_data['area'][pb_data['type'] == 1], \n",
    "            pb_data['rise_time'][pb_data['type'] == 1], \n",
    "            s=0.5, alpha = 0.5, color = 'blue', label = 'S1')\n",
    "plt.scatter(pb_data['area'][pb_data['type'] == 2], \n",
    "            pb_data['rise_time'][pb_data['type'] == 2], \n",
    "            s=0.5, alpha = 0.5, color = 'green', label = 'S2')\n",
    "plt.plot(area_linspace, compute_s1_boundary(parm2, area_linspace),\n",
    "         '--' ,color = 'black', label = 'Straxen Peaklet Boundary')\n",
    "#plt.scatter(kr_pb_array['area'][kr_pb_array['type'] == 1], kr_pb_array['rise_time'][kr_pb_array['type'] == 1], s=0.1, color = 'blue')\n",
    "plt.xscale('log')\n",
    "plt.yscale('log')\n",
    "plt.xlabel('Area [PE]')\n",
    "plt.ylabel('Rise Time [ns]')\n",
    "plt.legend(markerscale=8)\n",
    "plt.xlim(1,50)\n",
    "plt.ylim(10,500)\n",
    "plt.savefig('./figures/Straxen_cls_risetime_v_area_boundary.png', dpi=1200)"
   ]
  },
  {
   "cell_type": "code",
   "execution_count": null,
   "id": "2f451445-b3c6-45de-8ca9-10b3b1edfadf",
   "metadata": {},
   "outputs": [],
   "source": [
    "fig = plt.figure(figsize=(6,5))\n",
    "\n",
    "parm2 = np.array([50, 12, 80])\n",
    "plt.scatter(pb_data['area'][pb_data['type'] == 1], \n",
    "            pb_data['rise_time'][pb_data['type'] == 1], \n",
    "            s=0.5, alpha = 0.5, color = 'blue', label = 'Straxen S1')\n",
    "plt.scatter(pb_data['area'][pb_data['type'] == 2], \n",
    "            pb_data['rise_time'][pb_data['type'] == 2], \n",
    "            s=0.5, alpha = 0.5, color = 'green', label = 'Straxen S2')\n",
    "plt.plot(area_linspace, compute_s1_boundary(parm2, area_linspace),\n",
    "         '--' ,color = 'black', label = 'Straxen Peaklet Boundary')\n",
    "#plt.scatter(kr_pb_array['area'][kr_pb_array['type'] == 1], kr_pb_array['rise_time'][kr_pb_array['type'] == 1], s=0.1, color = 'blue')\n",
    "#plt.xscale('log')\n",
    "#plt.yscale('log')\n",
    "plt.xlabel('Area [PE]')\n",
    "plt.ylabel('Rise Time [ns]')\n",
    "plt.legend(markerscale=8, loc = 2)\n",
    "plt.xlim(1,50)\n",
    "plt.ylim(10,300)\n",
    "plt.savefig('./figures/Straxen_cls_risetime_v_area_boundary.png', dpi=1200)"
   ]
  },
  {
   "cell_type": "code",
   "execution_count": null,
   "id": "25c35b96-cf1f-45ce-987c-39c833afe8fa",
   "metadata": {},
   "outputs": [],
   "source": [
    "pb_s1_data = pb_data[pb_data['type'] == 1]\n",
    "pb_s1_data_high_aft = pb_s1_data[pb_s1_data['area_fraction_top'] > 0.7]\n",
    "\n",
    "pb_s2_data = pb_data[pb_data['type'] == 2]\n",
    "pb_s2_data_low_aft = pb_s2_data[pb_s2_data['area_fraction_top'] < 0.3]"
   ]
  },
  {
   "cell_type": "code",
   "execution_count": null,
   "id": "ef943904-d916-48e5-b097-b392231d8c2f",
   "metadata": {},
   "outputs": [],
   "source": [
    "fig = plt.figure(figsize=(7,5))\n",
    "\n",
    "parm2 = np.array([50, 12, 80])\n",
    "vmin = 0\n",
    "vmax = 1\n",
    "plt.scatter(pb_data['area'][pb_data['type'] == 1], \n",
    "            pb_data['rise_time'][pb_data['type'] == 1], \n",
    "            c = pb_data['area_fraction_top'][pb_data['type'] == 1],\n",
    "            s=5, alpha = 0.5, marker = '^',\n",
    "            vmin=vmin, vmax=vmax, label = 'Straxen S1',\n",
    "            cmap=cm.get_cmap('viridis'))\n",
    "plt.scatter(pb_data['area'][pb_data['type'] == 2], \n",
    "            pb_data['rise_time'][pb_data['type'] == 2], \n",
    "            c = pb_data['area_fraction_top'][pb_data['type'] == 2],\n",
    "            s=5, alpha = 0.5, vmin=vmin, vmax=vmax, \n",
    "            label = 'Straxen S2', marker = 'v',\n",
    "            cmap=cm.get_cmap('viridis'))\n",
    "plt.scatter(pb_s1_data_high_aft['area'],\n",
    "            pb_s1_data_high_aft['rise_time'], s = 10,\n",
    "            marker = 'x', color = 'red', label = 'high aft Straxen S1')\n",
    "plt.scatter(pb_s2_data_low_aft['area'],\n",
    "            pb_s2_data_low_aft['rise_time'], s = 10,\n",
    "            marker = 'x', color = 'black', label = 'low aft Straxen S2')\n",
    "plt.plot(area_linspace, compute_s1_boundary(parm2, area_linspace),\n",
    "         '--' ,color = 'black', label = 'Straxen Peaklet Boundary')\n",
    "plt.colorbar(label = 'AFT')\n",
    "#plt.scatter(kr_pb_array['area'][kr_pb_array['type'] == 1], kr_pb_array['rise_time'][kr_pb_array['type'] == 1], s=0.1, color = 'blue')\n",
    "#plt.xscale('log')\n",
    "#plt.yscale('log')\n",
    "plt.xlabel('Area [PE]')\n",
    "plt.ylabel('Rise Time [ns]')\n",
    "plt.legend(markerscale=3, loc = 1)\n",
    "plt.xlim(1,50)\n",
    "plt.ylim(70,125)\n",
    "#plt.savefig('./figures/Straxen_cls_risetime_v_area_boundary.png', dpi=1200)"
   ]
  },
  {
   "cell_type": "code",
   "execution_count": null,
   "id": "24381487-8bfd-46d4-9f2e-267e2abcd2a7",
   "metadata": {},
   "outputs": [],
   "source": [
    "pb_s1_data_st = pb_data[pb_data['type'] == 1]\n",
    "pb_s1_data_high_aft = pb_s1_data_st[pb_s1_data_st['area_fraction_top'] > 0.8]\n",
    "\n",
    "pb_s2_data_st = pb_data[pb_data['type'] == 2]\n",
    "pb_s2_data_low_aft = pb_s2_data_st[pb_s2_data_st['area_fraction_top'] < 0.2]"
   ]
  },
  {
   "cell_type": "code",
   "execution_count": null,
   "id": "495d6703-777d-4438-a027-7fae851fd6b1",
   "metadata": {},
   "outputs": [],
   "source": [
    "len(pb_s1_data_high_aft_som)"
   ]
  },
  {
   "cell_type": "code",
   "execution_count": null,
   "id": "71b09928-af94-4075-aa21-5235552532c2",
   "metadata": {},
   "outputs": [],
   "source": [
    "len(pb_s1_data_high_aft_st)"
   ]
  },
  {
   "cell_type": "code",
   "execution_count": null,
   "id": "d77388bb-7c36-4d60-a691-7b8470fdd616",
   "metadata": {},
   "outputs": [],
   "source": [
    "len(pb_s2_data_low_aft_st)"
   ]
  },
  {
   "cell_type": "code",
   "execution_count": null,
   "id": "8606ee9d-8a77-47cc-993f-01fb8da5e5f7",
   "metadata": {},
   "outputs": [],
   "source": [
    "len(pb_s2_data_low_aft_som)"
   ]
  },
  {
   "cell_type": "code",
   "execution_count": null,
   "id": "76e1c6d0-5f9e-4baa-8c17-dfff00e41ca5",
   "metadata": {},
   "outputs": [],
   "source": [
    "fig = plt.figure(figsize=(7,5))\n",
    "\n",
    "parm2 = np.array([50, 12, 80])\n",
    "vmin = 0\n",
    "vmax = 1\n",
    "plt.scatter(pb_data['area'][pb_data['type'] == 1], \n",
    "            pb_data['rise_time'][pb_data['type'] == 1], \n",
    "            c = pb_data['area_fraction_top'][pb_data['type'] == 1],\n",
    "            s=10, alpha = 0.5, marker = '^',\n",
    "            vmin=vmin, vmax=vmax, label = 'Straxen S1',\n",
    "            cmap=cm.get_cmap('viridis'))\n",
    "plt.scatter(pb_data['area'][pb_data['type'] == 2], \n",
    "            pb_data['rise_time'][pb_data['type'] == 2], \n",
    "            c = pb_data['area_fraction_top'][pb_data['type'] == 2],\n",
    "            s=10, alpha = 0.5, vmin=vmin, vmax=vmax, \n",
    "            label = 'Straxen S2', marker = 'v',\n",
    "            cmap=cm.get_cmap('viridis'))\n",
    "plt.scatter(pb_s1_data_high_aft_st['area'],\n",
    "            pb_s1_data_high_aft_st['rise_time'], s = 10,\n",
    "            marker = 'x', color = 'lime', label = 'aft > 0.8, Straxen S1')\n",
    "plt.scatter(pb_s2_data_low_aft_st['area'],\n",
    "            pb_s2_data_low_aft_st['rise_time'], s = 10,\n",
    "            marker = 'x', color = 'red', label = 'aft < 0.2, Straxen S2')\n",
    "plt.plot(area_linspace, compute_s1_boundary(parm2, area_linspace),\n",
    "         '--' ,color = 'black', label = 'Straxen Peaklet Boundary')\n",
    "plt.colorbar(label = 'AFT')\n",
    "#plt.scatter(kr_pb_array['area'][kr_pb_array['type'] == 1], kr_pb_array['rise_time'][kr_pb_array['type'] == 1], s=0.1, color = 'blue')\n",
    "#plt.xscale('log')\n",
    "#plt.yscale('log')\n",
    "plt.xlabel('Area [PE]')\n",
    "plt.ylabel('Rise Time [ns]')\n",
    "plt.legend(markerscale=3, loc = 1)\n",
    "plt.xlim(1,50)\n",
    "plt.ylim(70,125)\n",
    "#plt.savefig('./figures/Risetime_v_area_straxen_error.png', dpi = 1200)"
   ]
  },
  {
   "cell_type": "code",
   "execution_count": null,
   "id": "a1f6e90a-fb3b-4f11-95be-4c1e24fb5e14",
   "metadata": {},
   "outputs": [],
   "source": [
    "fig = plt.figure(figsize=(7,5))\n",
    "\n",
    "parm2 = np.array([50, 12, 80])\n",
    "vmin = 0\n",
    "vmax = 1\n",
    "\n",
    "plt.scatter(pb_s1_data_high_aft_st['area'],\n",
    "            pb_s1_data_high_aft_st['rise_time'], s = 10,\n",
    "            marker = 'x', color = 'cornflowerblue', label = 'aft > 0.8, Straxen S1')\n",
    "plt.scatter(pb_s2_data_low_aft_st['area'],\n",
    "            pb_s2_data_low_aft_st['rise_time'], s = 10,\n",
    "            marker = 'x', color = 'magenta', label = 'aft < 0.2, Straxen S2')\n",
    "plt.plot(area_linspace, compute_s1_boundary(parm2, area_linspace),\n",
    "         '--' ,color = 'black', label = 'Straxen Peaklet Boundary')\n",
    "#plt.colorbar(label = 'AFT')\n",
    "#plt.scatter(kr_pb_array['area'][kr_pb_array['type'] == 1], kr_pb_array['rise_time'][kr_pb_array['type'] == 1], s=0.1, color = 'blue')\n",
    "#plt.xscale('log')\n",
    "#plt.yscale('log')\n",
    "plt.xlabel('Area [PE]')\n",
    "plt.ylabel('Rise Time [ns]')\n",
    "plt.legend(markerscale=3, loc = 1)\n",
    "plt.xlim(1,50)\n",
    "plt.ylim(70,125)"
   ]
  },
  {
   "cell_type": "code",
   "execution_count": null,
   "id": "d84ce8bb-e472-420d-819e-9611490c2da9",
   "metadata": {},
   "outputs": [],
   "source": [
    "fig = plt.figure(figsize=(6,5))\n",
    "\n",
    "plt.scatter(pb_data['area'][pb_data['type'] == 1], \n",
    "            pb_data['rise_time'][pb_data['type'] == 1], \n",
    "            s=1, alpha = 0.5, color = 'blue', label = 'S1')\n",
    "plt.scatter(pb_data['area'][pb_data['type'] == 2], \n",
    "            pb_data['rise_time'][pb_data['type'] == 2], \n",
    "            s=1, alpha = 0.5, color = 'green', label = 'S2')\n",
    "plt.plot(area_linspace, compute_s1_boundary(parm2, area_linspace),\n",
    "         '--' ,color = 'black', label = \"Straxen Peaklet Boundary\")\n",
    "#plt.scatter(kr_pb_array['area'][kr_pb_array['type'] == 1], kr_pb_array['rise_time'][kr_pb_array['type'] == 1], s=0.1, color = 'blue')\n",
    "plt.xscale('log')\n",
    "plt.yscale('log')\n",
    "plt.xlabel('Area [PE]')\n",
    "plt.ylabel('Rise Time [ns]')\n",
    "plt.xlim(1,50)\n",
    "plt.ylim(10,500)\n",
    "plt.legend(markerscale=8)\n",
    "#plt.title(\"\")"
   ]
  },
  {
   "cell_type": "code",
   "execution_count": null,
   "id": "aa1fbaa7-4e36-4c8e-b5d7-142281d32031",
   "metadata": {},
   "outputs": [],
   "source": [
    "fig = plt.figure(figsize=(6,5))\n",
    "\n",
    "plt.scatter(pb_data_s1['area'], \n",
    "            pb_data_s1['rise_time'], \n",
    "            s=1, alpha = 0.5, color = 'blue', label = 'S1')\n",
    "plt.scatter(pb_data_s2['area'], \n",
    "            pb_data_s2['rise_time'], \n",
    "            s=1, alpha = 0.5, color = 'green', label = 'S2')\n",
    "plt.plot(area_linspace, compute_s1_boundary(parm2, area_linspace),\n",
    "         '--' ,color = 'black', label = \"Straxen Peaklet Boundary\")\n",
    "#plt.scatter(kr_pb_array['area'][kr_pb_array['type'] == 1], kr_pb_array['rise_time'][kr_pb_array['type'] == 1], s=0.1, color = 'blue')\n",
    "plt.xscale('log')\n",
    "plt.yscale('log')\n",
    "plt.xlabel('Area [PE]')\n",
    "plt.ylabel('Rise Time [ns]')\n",
    "plt.xlim(1,50)\n",
    "plt.ylim(10,500)\n",
    "plt.legend(markerscale=8)\n",
    "#plt.title(\"\")"
   ]
  },
  {
   "cell_type": "code",
   "execution_count": null,
   "id": "228db117-c3cf-45ef-9592-2cc2f548354b",
   "metadata": {},
   "outputs": [],
   "source": [
    "aft_bound_parm = np.array([-1, 2.6, 0.6, 100])"
   ]
  },
  {
   "cell_type": "code",
   "execution_count": null,
   "id": "69b109ca-6661-403e-963a-ac66824e58b2",
   "metadata": {},
   "outputs": [],
   "source": [
    "aft_line = np.linspace(0,1,100)"
   ]
  },
  {
   "cell_type": "code",
   "execution_count": null,
   "id": "13f7342a-4f20-44c1-96e7-3dac5d78f8c2",
   "metadata": {},
   "outputs": [],
   "source": [
    "def upper_rise_time_aft_boundary(aft, slope, offset, aft_boundary, flat_threshold):\n",
    "        \"\"\"\n",
    "        Function which computes the upper rise time boundary as a function\n",
    "        of area fraction top.\n",
    "        \"\"\"\n",
    "        res = 10**(slope * aft + offset)\n",
    "        res[aft >= aft_boundary] = flat_threshold\n",
    "        return res"
   ]
  },
  {
   "cell_type": "code",
   "execution_count": null,
   "id": "760da1d3-5c3d-4c49-9514-d9edfc69d4fd",
   "metadata": {},
   "outputs": [],
   "source": [
    "fig = plt.figure(figsize=(6,5))\n",
    "\n",
    "plt.scatter(st_s1_data['area_fraction_top'], \n",
    "            st_s1_data['rise_time'], \n",
    "            s=0.5, alpha = 0.5, color = 'blue', label = 'S1')\n",
    "plt.scatter(st_s2_data['area_fraction_top'], \n",
    "            st_s2_data['rise_time'], \n",
    "            s=0.5, alpha = 0.5, color = 'green', label = 'S2')\n",
    "plt.plot(aft_line, upper_rise_time_aft_boundary(aft_line, aft_bound_parm[0],\n",
    "                                               aft_bound_parm[1],aft_bound_parm[2],\n",
    "                                               aft_bound_parm[3]),'--' ,color = 'black', label = \"Straxen AFT boundary\")\n",
    "#plt.scatter(kr_pb_array['area'][kr_pb_array['type'] == 1], kr_pb_array['rise_time'][kr_pb_array['type'] == 1], s=0.1, color = 'blue')\n",
    "#plt.xscale('log')\n",
    "plt.yscale('log')\n",
    "plt.xlabel('Area Fraction Top')\n",
    "plt.ylabel('Rise Time [ns]')\n",
    "plt.xlim(0,1)\n",
    "plt.ylim(10,1000)\n",
    "plt.legend(markerscale=8)\n",
    "plt.savefig('./figures/Straxen_cls_risetime_v_AFT_boundary.png', dpi = 1200)"
   ]
  },
  {
   "cell_type": "code",
   "execution_count": null,
   "id": "01d3926d-fb50-45dd-a021-795e3a9321e2",
   "metadata": {},
   "outputs": [],
   "source": [
    "fig = plt.figure(figsize=(10,7))\n",
    "\n",
    "plt.scatter(pb_data['area'][pb_data['type'] == 1], \n",
    "            pb_data['rise_time'][pb_data['type'] == 1], \n",
    "            s=0.5, alpha = 0.5, color = 'blue')\n",
    "plt.scatter(pb_data['area'][pb_data['type'] == 2], \n",
    "            pb_data['rise_time'][pb_data['type'] == 2], \n",
    "            s=0.5, alpha = 0.5, color = 'green')\n",
    "plt.plot(area_linspace, compute_s1_boundary(parm2, area_linspace),'--' ,color = 'black')\n",
    "#plt.scatter(kr_pb_array['area'][kr_pb_array['type'] == 1], kr_pb_array['rise_time'][kr_pb_array['type'] == 1], s=0.1, color = 'blue')\n",
    "plt.xscale('log')\n",
    "plt.yscale('log')\n",
    "plt.xlabel('Area [PE]')\n",
    "plt.ylabel('Rise Time [ns]')\n",
    "plt.xlim(1,50)\n",
    "plt.ylim(10,500)"
   ]
  },
  {
   "cell_type": "code",
   "execution_count": null,
   "id": "48a350a3-400f-49c7-a7d4-2fce4864c38a",
   "metadata": {},
   "outputs": [],
   "source": [
    "pb_data_s2 = pb_data_SOM2cls[pb_data_SOM2cls['type'] == 2]\n",
    "pb_data_s1 = pb_data_SOM2cls[pb_data_SOM2cls['type'] == 1]"
   ]
  },
  {
   "cell_type": "code",
   "execution_count": null,
   "id": "73698c8f-1542-480a-be6d-b81a46a63d3e",
   "metadata": {},
   "outputs": [],
   "source": [
    "from matplotlib import cm"
   ]
  },
  {
   "cell_type": "code",
   "execution_count": null,
   "id": "a64a7cb2-592c-4138-bf8d-118bc3e4c7ac",
   "metadata": {},
   "outputs": [],
   "source": []
  },
  {
   "cell_type": "code",
   "execution_count": null,
   "id": "6e645c1f-640f-4ba6-be78-aaf90b04986b",
   "metadata": {},
   "outputs": [],
   "source": [
    "from matplotlib.lines import Line2D"
   ]
  },
  {
   "cell_type": "code",
   "execution_count": null,
   "id": "378caac0-f5ee-41d6-bbdf-9476ae758a79",
   "metadata": {},
   "outputs": [],
   "source": [
    "fig = plt.figure(figsize=(8,5))\n",
    "\n",
    "vmin = 0\n",
    "vmax = 1\n",
    "m1 = plt.scatter(pb_data_s2['area'][pb_data_s2['area'] < 70], \n",
    "            pb_data_s2['rise_time'][pb_data_s2['area'] < 70], \n",
    "            s=5, alpha = 0.5, c= pb_data_s2['area_fraction_top'][pb_data_s2['area'] < 70],\n",
    "            vmin=vmin, vmax=vmax, label = 'SOM S2', \n",
    "            cmap=cm.get_cmap('Reds'))\n",
    "plt.colorbar(m1, label = 'S2 AFT')\n",
    "m2 = plt.scatter(pb_data_s1['area'][pb_data_s1['area'] < 50], \n",
    "            pb_data_s1['rise_time'][pb_data_s1['area'] < 50], \n",
    "            s=5, alpha = 0.5, c = pb_data_s1['area_fraction_top'][pb_data_s1['area'] < 50],\n",
    "            vmin=vmin, vmax=vmax, label = 'SOM S1',\n",
    "            cmap=cm.get_cmap('Greens'))\n",
    "plt.colorbar(m2, label = 'S1 AFT')\n",
    "plt.plot(area_linspace, compute_s1_boundary(parm2, area_linspace),\n",
    "         '--' ,color = 'black', label = 'Straxen Boundary')\n",
    "#plt.scatter(kr_pb_array['area'][kr_pb_array['type'] == 1], kr_pb_array['rise_time'][kr_pb_array['type'] == 1], s=0.1, color = 'blue')\n",
    "plt.xscale('log')\n",
    "plt.yscale('log')\n",
    "plt.xlabel('Area [PE]')\n",
    "plt.ylabel('Rise Time [ns]')\n",
    "legend_elements = [Line2D([0], [0], marker='o', color='green', label='SOM S1',markerfacecolor='green',linewidth=0, markersize=5),\n",
    "                   Line2D([0], [0], marker='o', color='red', label='SOM S2',markerfacecolor='red',linewidth=0, markersize=5),\n",
    "                   Line2D([0], [0], linestyle='--', color='black', label='Straxen Boundary',markerfacecolor='black',linewidth=2, markersize=5)]\n",
    "\n",
    "plt.legend(handles=legend_elements, loc=0,prop={'size':12})\n",
    "#plt.colorbar()\n",
    "#plt.legend(markerscale=4)\n",
    "plt.xlim(1,50)\n",
    "plt.ylim(10,500)"
   ]
  },
  {
   "cell_type": "code",
   "execution_count": null,
   "id": "150b5f9e-7ad8-42df-b81d-336e97f5f1c1",
   "metadata": {},
   "outputs": [],
   "source": [
    "fig = plt.figure(figsize=(8,5))\n",
    "\n",
    "vmin = 0\n",
    "vmax = 1\n",
    "m1 = plt.scatter(pb_data_s2['area'][pb_data_s2['area'] < 70], \n",
    "            pb_data_s2['rise_time'][pb_data_s2['area'] < 70], \n",
    "            s=5, alpha = 0.5, c= pb_data_s2['area_fraction_top'][pb_data_s2['area'] < 70],\n",
    "            vmin=vmin, vmax=vmax, label = 'SOM S2', \n",
    "            cmap=cm.get_cmap('Reds'))\n",
    "plt.colorbar(m1, label = 'S2 AFT')\n",
    "m2 = plt.scatter(pb_data_s1['area'][pb_data_s1['area'] < 50], \n",
    "            pb_data_s1['rise_time'][pb_data_s1['area'] < 50], \n",
    "            s=5, alpha = 0.5, c = pb_data_s1['area_fraction_top'][pb_data_s1['area'] < 50],\n",
    "            vmin=vmin, vmax=vmax, label = 'SOM S1',\n",
    "            cmap=cm.get_cmap('Greens'))\n",
    "plt.colorbar(m2, label = 'S1 AFT')\n",
    "plt.plot(area_linspace, compute_s1_boundary(parm2, area_linspace),\n",
    "         '--' ,color = 'black', label = 'Straxen Boundary')\n",
    "#plt.scatter(kr_pb_array['area'][kr_pb_array['type'] == 1], kr_pb_array['rise_time'][kr_pb_array['type'] == 1], s=0.1, color = 'blue')\n",
    "plt.xscale('log')\n",
    "plt.yscale('log')\n",
    "plt.xlabel('Area [PE]')\n",
    "plt.ylabel('Rise Time [ns]')\n",
    "legend_elements = [Line2D([0], [0], marker='o', color='green', label='SOM S1',markerfacecolor='green',linewidth=0, markersize=5),\n",
    "                   Line2D([0], [0], marker='o', color='red', label='SOM S2',markerfacecolor='red',linewidth=0, markersize=5),\n",
    "                   Line2D([0], [0], linestyle='--', color='black', label='Straxen Boundary',markerfacecolor='black',linewidth=2, markersize=5)]\n",
    "\n",
    "plt.legend(handles=legend_elements, loc=0,prop={'size':12})\n",
    "#plt.colorbar()\n",
    "#plt.legend(markerscale=4)\n",
    "plt.xlim(1,50)\n",
    "plt.ylim(10,500)"
   ]
  },
  {
   "cell_type": "code",
   "execution_count": null,
   "id": "1b117483-c0c0-496e-a614-ecb3dc06dbc2",
   "metadata": {},
   "outputs": [],
   "source": [
    "fig = plt.figure(figsize=(8,5))\n",
    "\n",
    "vmin = 0\n",
    "vmax = 1\n",
    "m1 = plt.scatter(pb_data_s2['area'][pb_data_s2['area'] < 70], \n",
    "            pb_data_s2['rise_time'][pb_data_s2['area'] < 70], \n",
    "            s=5, alpha = 0.5, c= pb_data_s2['area_fraction_top'][pb_data_s2['area'] < 70],\n",
    "            vmin=vmin, vmax=vmax, label = 'SOM S2', \n",
    "            cmap=cm.get_cmap('Greens'))\n",
    "plt.colorbar(m1, label = 'S2 AFT')\n",
    "m2 = plt.scatter(pb_data_s1['area'][pb_data_s1['area'] < 50], \n",
    "            pb_data_s1['rise_time'][pb_data_s1['area'] < 50], \n",
    "            s=5, alpha = 0.5, c = pb_data_s1['area_fraction_top'][pb_data_s1['area'] < 50],\n",
    "            vmin=vmin, vmax=vmax, label = 'SOM S1',\n",
    "            cmap=cm.get_cmap('Blues'))\n",
    "plt.colorbar(m2, label = 'S1 AFT')\n",
    "plt.plot(area_linspace, compute_s1_boundary(parm2, area_linspace),\n",
    "         '--' ,color = 'black', label = 'Straxen Boundary')\n",
    "#plt.scatter(kr_pb_array['area'][kr_pb_array['type'] == 1], kr_pb_array['rise_time'][kr_pb_array['type'] == 1], s=0.1, color = 'blue')\n",
    "#plt.xscale('log')\n",
    "#plt.yscale('log')\n",
    "plt.xlabel('Area [PE]')\n",
    "plt.ylabel('Rise Time [ns]')\n",
    "legend_elements = [Line2D([0], [0], marker='o', color='blue', label='SOM S1',markerfacecolor='blue',linewidth=0, markersize=5),\n",
    "                   Line2D([0], [0], marker='o', color='green', label='SOM S2',markerfacecolor='green',linewidth=0, markersize=5),\n",
    "                   Line2D([0], [0], linestyle='--', color='black', label='Straxen Boundary',markerfacecolor='black',linewidth=2, markersize=5)]\n",
    "\n",
    "plt.legend(handles=legend_elements, loc=0,prop={'size':12})\n",
    "#plt.colorbar()\n",
    "#plt.legend(markerscale=4)\n",
    "plt.xlim(1,50)\n",
    "plt.ylim(10,500)\n",
    "plt.savefig('./figures/SOMcls_risetime_v_area_wstrax_bound.png')"
   ]
  },
  {
   "cell_type": "code",
   "execution_count": null,
   "id": "80b99737-db72-4108-befe-fa9834b2fa7a",
   "metadata": {},
   "outputs": [],
   "source": [
    "#pb_s1_data = pb_data[pb_data['type'] == 1]\n",
    "pb_s1_data_high_aft_som = pb_data_s1[pb_data_s1['area_fraction_top'] > 0.8]\n",
    "\n",
    "#pb_s2_data = pb_data[pb_data['type'] == 2]\n",
    "pb_s2_data_low_aft_som = pb_data_s2[pb_data_s2['area_fraction_top'] < 0.2]"
   ]
  },
  {
   "cell_type": "code",
   "execution_count": null,
   "id": "03fa937e-51b6-49cf-ac81-194ff960500b",
   "metadata": {},
   "outputs": [],
   "source": [
    "fig = plt.figure(figsize=(6,5))\n",
    "\n",
    "plt.scatter(pb_data_s1['area'], \n",
    "            pb_data_s1['rise_time'], \n",
    "            s=1, alpha = 0.5, color = 'blue', label = 'S1')\n",
    "plt.scatter(pb_data_s2['area'], \n",
    "            pb_data_s2['rise_time'], \n",
    "            s=1, alpha = 0.5, color = 'green', label = 'S2')\n",
    "plt.plot(area_linspace, compute_s1_boundary(parm2, area_linspace),\n",
    "         '--' ,color = 'black', label = \"Straxen Peaklet Boundary\")\n",
    "#plt.scatter(kr_pb_array['area'][kr_pb_array['type'] == 1], kr_pb_array['rise_time'][kr_pb_array['type'] == 1], s=0.1, color = 'blue')\n",
    "plt.xscale('log')\n",
    "plt.yscale('log')\n",
    "plt.xlabel('Area [PE]')\n",
    "plt.ylabel('Rise Time [ns]')\n",
    "plt.xlim(1,50)\n",
    "plt.ylim(10,500)\n",
    "plt.legend(markerscale=8)\n",
    "#plt.title(\"\")"
   ]
  },
  {
   "cell_type": "code",
   "execution_count": null,
   "id": "6e133666-066b-4102-947f-75d13f653348",
   "metadata": {},
   "outputs": [],
   "source": [
    "fig = plt.figure(figsize=(6,5))\n",
    "\n",
    "plt.scatter(pb_data_s1['area'], \n",
    "            pb_data_s1['rise_time'], \n",
    "            s=10, alpha = 0.5, color = 'blue', label = 'S1')\n",
    "plt.scatter(pb_data_s2['area'], \n",
    "            pb_data_s2['rise_time'], \n",
    "            s=10, alpha = 0.5, color = 'green', label = 'S2')\n",
    "plt.plot(area_linspace, compute_s1_boundary(parm2, area_linspace),\n",
    "         '--' ,color = 'black', label = \"Straxen Peaklet Boundary\")\n",
    "#plt.scatter(kr_pb_array['area'][kr_pb_array['type'] == 1], kr_pb_array['rise_time'][kr_pb_array['type'] == 1], s=0.1, color = 'blue')\n",
    "#plt.xscale('log')\n",
    "#plt.yscale('log')\n",
    "plt.xlabel('Area [PE]')\n",
    "plt.ylabel('Rise Time [ns]')\n",
    "plt.xlim(5,20)\n",
    "plt.ylim(50,200)\n",
    "plt.legend(markerscale=8)\n",
    "#plt.title(\"\")"
   ]
  },
  {
   "cell_type": "code",
   "execution_count": null,
   "id": "bfc8f878-95dc-43a5-9dc7-9b0da12dbe3f",
   "metadata": {},
   "outputs": [],
   "source": [
    "fig = plt.figure(figsize=(7,5))\n",
    "\n",
    "parm2 = np.array([50, 12, 80])\n",
    "vmin = 0\n",
    "vmax = 1\n",
    "plt.scatter(pb_data_s1['area'], \n",
    "            pb_data_s1['rise_time'], \n",
    "            c = pb_data_s1['area_fraction_top'],\n",
    "            s=10, alpha = 0.5, marker = '^',\n",
    "            vmin=vmin, vmax=vmax, label = 'SOM S1',\n",
    "            cmap=cm.get_cmap('viridis'))\n",
    "plt.scatter(pb_data_s2['area'], \n",
    "            pb_data_s2['rise_time'], \n",
    "            c = pb_data_s2['area_fraction_top'],\n",
    "            s=10, alpha = 0.5, vmin=vmin, vmax=vmax, \n",
    "            label = 'SOM S2', marker = 'v',\n",
    "            cmap=cm.get_cmap('viridis'))\n",
    "plt.scatter(pb_s1_data_high_aft_som['area'],\n",
    "            pb_s1_data_high_aft_som['rise_time'], s = 10,\n",
    "            marker = 'x', color = 'red', label = 'aft > 0.8, aft SOM S1')\n",
    "plt.scatter(pb_s2_data_low_aft_som['area'],\n",
    "            pb_s2_data_low_aft_som['rise_time'], s = 10,\n",
    "            marker = 'x', color = 'black', label = 'aft < 0.2, aft SOM S2')\n",
    "plt.plot(area_linspace, compute_s1_boundary(parm2, area_linspace),\n",
    "         '--' ,color = 'black', label = 'Straxen Peaklet Boundary')\n",
    "plt.colorbar(label = 'AFT')\n",
    "#plt.scatter(kr_pb_array['area'][kr_pb_array['type'] == 1], kr_pb_array['rise_time'][kr_pb_array['type'] == 1], s=0.1, color = 'blue')\n",
    "#plt.xscale('log')\n",
    "#plt.yscale('log')\n",
    "plt.xlabel('Area [PE]')\n",
    "plt.ylabel('Rise Time [ns]')\n",
    "plt.legend(markerscale=3, loc = 1)\n",
    "plt.xlim(5,20)\n",
    "plt.ylim(50,200)"
   ]
  },
  {
   "cell_type": "code",
   "execution_count": null,
   "id": "cf10325e-eee4-461c-a1a2-cab617568975",
   "metadata": {},
   "outputs": [],
   "source": [
    "pb_s1_data_st = pb_data[pb_data['type'] == 1]\n",
    "pb_s1_data_high_aft_st = pb_s1_data_st[pb_s1_data_st['area_fraction_top'] > 0.8]\n",
    "\n",
    "pb_s2_data_st = pb_data[pb_data['type'] == 2]\n",
    "pb_s2_data_low_aft_st = pb_s2_data_st[pb_s2_data_st['area_fraction_top'] < 0.2]"
   ]
  },
  {
   "cell_type": "code",
   "execution_count": null,
   "id": "787d95f6-0b2d-4af0-aa48-daae8e91f4fd",
   "metadata": {},
   "outputs": [],
   "source": [
    "pb_s1_data_high_aft_st['area_fraction_top']"
   ]
  },
  {
   "cell_type": "code",
   "execution_count": null,
   "id": "58a0dac5-9334-4b8a-b91e-10e15c652434",
   "metadata": {},
   "outputs": [],
   "source": [
    "fig = plt.figure(figsize=(6,5))\n",
    "\n",
    "plt.scatter(pb_s1_data_st['area'], \n",
    "            pb_s1_data_st['rise_time'], \n",
    "            s=1, alpha = 0.5, color = 'blue', label = 'S1')\n",
    "plt.scatter(pb_s2_data_st['area'], \n",
    "            pb_s2_data_st['rise_time'], \n",
    "            s=1, alpha = 0.5, color = 'green', label = 'S2')\n",
    "plt.plot(area_linspace, compute_s1_boundary(parm2, area_linspace),\n",
    "         '--' ,color = 'black', label = \"Straxen Peaklet Boundary\")\n",
    "#plt.scatter(kr_pb_array['area'][kr_pb_array['type'] == 1], kr_pb_array['rise_time'][kr_pb_array['type'] == 1], s=0.1, color = 'blue')\n",
    "plt.xscale('log')\n",
    "plt.yscale('log')\n",
    "plt.xlabel('Area [PE]')\n",
    "plt.ylabel('Rise Time [ns]')\n",
    "plt.xlim(1,50)\n",
    "plt.ylim(10,500)\n",
    "plt.legend(markerscale=8)\n",
    "#plt.title(\"\")"
   ]
  },
  {
   "cell_type": "code",
   "execution_count": null,
   "id": "c2eef524-adc6-4336-b1b6-5cc7fe0bddea",
   "metadata": {},
   "outputs": [],
   "source": [
    "upper = 0.6\n",
    "lower = 0.4\n",
    "#pb_s1_data = pb_data[pb_data['type'] == 1]\n",
    "pb_s1_data_high_aft_som = pb_data_s1[pb_data_s1['area_fraction_top'] > upper]\n",
    "\n",
    "#pb_s2_data = pb_data[pb_data['type'] == 2]\n",
    "pb_s2_data_low_aft_som = pb_data_s2[pb_data_s2['area_fraction_top'] < lower]"
   ]
  },
  {
   "cell_type": "code",
   "execution_count": null,
   "id": "fba68211-8adf-4caa-9da9-b0913e2ee3d8",
   "metadata": {},
   "outputs": [],
   "source": [
    "pb_s1_data_st = pb_data[pb_data['type'] == 1]\n",
    "pb_s1_data_high_aft_st = pb_s1_data_st[pb_s1_data_st['area_fraction_top'] > upper]\n",
    "\n",
    "pb_s2_data_st = pb_data[pb_data['type'] == 2]\n",
    "pb_s2_data_low_aft_st = pb_s2_data_st[pb_s2_data_st['area_fraction_top'] < lower]"
   ]
  },
  {
   "cell_type": "code",
   "execution_count": null,
   "id": "c91a31b1-8d7f-4e85-9bae-ab33b15133a8",
   "metadata": {},
   "outputs": [],
   "source": [
    "def num_of_events_per_aft(data, split, hl):\n",
    "    \"\"\"\n",
    "    data: peak basics\n",
    "    split: nplinespace with what you need\n",
    "    hl: 0 for data less than a certain aft\n",
    "        1 for data more than a certain aft\n",
    "    \"\"\"\n",
    "    #split = np.linspace(min_aft, max_aft, num_of_splits)\n",
    "    results = np.zeros(len(split))\n",
    "    for i in np.arange(len(split)):\n",
    "        if hl == 0:\n",
    "            results[i] = len(data[data['area_fraction_top'] < split[i]])\n",
    "        if hl == 1:\n",
    "            results[i] = len(data[data['area_fraction_top'] > split[i]])\n",
    "            \n",
    "    return results"
   ]
  },
  {
   "cell_type": "code",
   "execution_count": null,
   "id": "4487273c-846d-463a-bbdb-d8f393c6576d",
   "metadata": {},
   "outputs": [],
   "source": [
    "high_aft = np.linspace(0.6,1,25)\n",
    "low_aft = np.linspace(0,0.4,25)"
   ]
  },
  {
   "cell_type": "code",
   "execution_count": null,
   "id": "a379c631-62bc-45b9-9a63-582e7e789d5d",
   "metadata": {},
   "outputs": [],
   "source": [
    "fig = plt.figure(figsize=(5.5,4))\n",
    "plt.scatter(high_aft ,num_of_events_per_aft(pb_s1_data_st, high_aft, 1), marker = '.',\n",
    "            label = 'Straxen # of S1s high AFT', color = 'orange')\n",
    "plt.scatter(high_aft ,num_of_events_per_aft(pb_data_s1, high_aft, 1), marker = 'x',\n",
    "           label = 'SOM # of S1s high AFT', color = 'blue')\n",
    "plt.legend()\n",
    "plt.xlabel(\"AFT\")\n",
    "plt.ylabel('Number of events')\n",
    "plt.savefig('./figures/high_aft_S1.png', dpi = 1200)"
   ]
  },
  {
   "cell_type": "code",
   "execution_count": null,
   "id": "591a6491-101d-4d94-9c1b-460764e928f0",
   "metadata": {},
   "outputs": [],
   "source": [
    "fig = plt.figure(figsize=(5.5,4))\n",
    "plt.scatter(low_aft ,num_of_events_per_aft(pb_s2_data_st, low_aft, 0), marker = '.',\n",
    "           label = 'Straxen # of S2s low AFT', color = 'orange')\n",
    "plt.scatter(low_aft ,num_of_events_per_aft(pb_data_s2, low_aft, 0), marker = 'x',\n",
    "           label = 'SOM # of S2s low AFT', color = 'blue')\n",
    "plt.gca().invert_xaxis()\n",
    "plt.legend()\n",
    "plt.xlabel(\"AFT\")\n",
    "plt.ylabel('Number of events')\n",
    "plt.savefig('./figures/low_aft_S2.png', dpi = 1200)"
   ]
  },
  {
   "cell_type": "code",
   "execution_count": null,
   "id": "9e52cd27-1087-4e2a-a130-33ed89a713a5",
   "metadata": {},
   "outputs": [],
   "source": [
    "np.linspace(0.6,1,25)"
   ]
  },
  {
   "cell_type": "code",
   "execution_count": null,
   "id": "f088e1c6-7f3a-4973-87cb-fef642c07efd",
   "metadata": {},
   "outputs": [],
   "source": [
    "len(pb_s1_data_high_aft_som)"
   ]
  },
  {
   "cell_type": "code",
   "execution_count": null,
   "id": "1b0f032f-b60b-4819-95d1-0423d3344467",
   "metadata": {},
   "outputs": [],
   "source": [
    "len(pb_s1_data_high_aft_st)"
   ]
  },
  {
   "cell_type": "code",
   "execution_count": null,
   "id": "4e78c5f9-0074-4b84-bbbe-614527ffc201",
   "metadata": {},
   "outputs": [],
   "source": [
    "len(pb_s2_data_low_aft_som)"
   ]
  },
  {
   "cell_type": "code",
   "execution_count": null,
   "id": "a5698465-cc61-493e-b3e8-9c2135295a5e",
   "metadata": {},
   "outputs": [],
   "source": [
    "len(pb_s2_data_low_aft_st)"
   ]
  },
  {
   "cell_type": "code",
   "execution_count": null,
   "id": "cb5a65d2-8d19-4e8a-9afd-21d10621a5f3",
   "metadata": {},
   "outputs": [],
   "source": [
    "fig = plt.figure(figsize=(7,5))\n",
    "\n",
    "parm2 = np.array([50, 12, 80])\n",
    "vmin = 0\n",
    "vmax = 1\n",
    "plt.scatter(pb_data_s1['area'], \n",
    "            pb_data_s1['rise_time'], \n",
    "            c = pb_data_s1['area_fraction_top'],\n",
    "            s=10, alpha = 0.5, marker = '^',\n",
    "            vmin=vmin, vmax=vmax, label = 'SOM S1',\n",
    "            cmap=cm.get_cmap('viridis'))\n",
    "plt.scatter(pb_data_s2['area'], \n",
    "            pb_data_s2['rise_time'], \n",
    "            c = pb_data_s2['area_fraction_top'],\n",
    "            s=10, alpha = 0.5, vmin=vmin, vmax=vmax, \n",
    "            label = 'SOM S2', marker = 'v',\n",
    "            cmap=cm.get_cmap('viridis'))\n",
    "plt.scatter(pb_s1_data_high_aft_som['area'],\n",
    "            pb_s1_data_high_aft_som['rise_time'], s = 10,\n",
    "            marker = 'x', color = 'red', label = 'aft > 0.8, aft SOM S1')\n",
    "plt.scatter(pb_s2_data_low_aft_som['area'],\n",
    "            pb_s2_data_low_aft_som['rise_time'], s = 10,\n",
    "            marker = 'x', color = 'black', label = 'aft < 0.2, aft SOM S2')\n",
    "plt.plot(area_linspace, compute_s1_boundary(parm2, area_linspace),\n",
    "         '--' ,color = 'black', label = 'Straxen Peaklet Boundary')\n",
    "plt.colorbar(label = 'AFT')\n",
    "#plt.scatter(kr_pb_array['area'][kr_pb_array['type'] == 1], kr_pb_array['rise_time'][kr_pb_array['type'] == 1], s=0.1, color = 'blue')\n",
    "#plt.xscale('log')\n",
    "#plt.yscale('log')\n",
    "plt.xlabel('Area [PE]')\n",
    "plt.ylabel('Rise Time [ns]')\n",
    "plt.legend(markerscale=3, loc = 1)\n",
    "plt.xlim(1,50)\n",
    "plt.ylim(70,125)\n",
    "plt.savefig('./figures/Risetime_v_area_SOM_error.png', dpi = 1200)"
   ]
  },
  {
   "cell_type": "code",
   "execution_count": null,
   "id": "9a5ce9a4-18f6-4d54-88a2-d21b135c82d2",
   "metadata": {},
   "outputs": [],
   "source": [
    "area_linspace =  np.linspace(1, 50, 100)"
   ]
  },
  {
   "cell_type": "code",
   "execution_count": null,
   "id": "3c6686e5-5820-4009-9c21-2f13a5d5fc1e",
   "metadata": {},
   "outputs": [],
   "source": [
    "parm = np.array([50, 80, 12])\n",
    "#boundary_line = parm[0]*np.exp(-area/tau) + const"
   ]
  },
  {
   "cell_type": "code",
   "execution_count": null,
   "id": "70e30453-dac9-4337-be70-4bd2a62ef4bf",
   "metadata": {},
   "outputs": [],
   "source": [
    "fig = plt.figure(figsize=(10,7))\n",
    "\n",
    "vmin = 0\n",
    "vmax = 1\n",
    "plt.scatter(pb_data_s2['area'][pb_data_s2['area'] < 70], \n",
    "            pb_data_s2['rise_time'][pb_data_s2['area'] < 70], \n",
    "            s=0.5, alpha = 0.5, c= pb_data_s2['area_fraction_top'][pb_data_s2['area'] < 70],\n",
    "            vmin=vmin, vmax=vmax,\n",
    "            cmap=cm.get_cmap('jet'))\n",
    "plt.scatter(pb_data_s1['area'][pb_data_s1['area'] < 50], \n",
    "            pb_data_s1['rise_time'][pb_data_s1['area'] < 50], \n",
    "            s=0.5, alpha = 0.5, c = pb_data_s1['area_fraction_top'][pb_data_s1['area'] < 50],\n",
    "            vmin=vmin, vmax=vmax,\n",
    "            cmap=cm.get_cmap('jet'))\n",
    "plt.plot(area_linspace, compute_s1_boundary(parm, area_linspace))\n",
    "#plt.scatter(kr_pb_array['area'][kr_pb_array['type'] == 1], kr_pb_array['rise_time'][kr_pb_array['type'] == 1], s=0.1, color = 'blue')\n",
    "plt.xscale('log')\n",
    "plt.yscale('log')\n",
    "plt.xlabel('Area [PE]')\n",
    "plt.ylabel('Rise Time [ns]')\n",
    "plt.colorbar()\n",
    "plt.xlim(1,50)\n",
    "plt.ylim(10,500)"
   ]
  },
  {
   "cell_type": "code",
   "execution_count": null,
   "id": "f3a04561-4574-49e0-8dc3-6f9b26aea991",
   "metadata": {},
   "outputs": [],
   "source": [
    "aft_bound_parm = np.array([-1, 2.6, 0.6, 100])"
   ]
  },
  {
   "cell_type": "code",
   "execution_count": null,
   "id": "d8340f43-2a4c-427c-86a3-ed3e6c9ca07e",
   "metadata": {},
   "outputs": [],
   "source": [
    "'''strax.Option('s1_risetime_aft_parameters', default=(-1, 2.6), type=(list, tuple),\n",
    "                 help=(\"Slope and offset in exponential of emperical boundary in the rise time-AFT \"\n",
    "                      \"plot. Specified as (slope, offset)\")),\n",
    "strax.Option('s1_flatten_threshold_aft', default=(0.6, 100), type=(tuple, list),\n",
    "                 help=(\"Threshold for AFT, above which we use a flatted boundary for rise time\" \n",
    "                       \"Specified values: (AFT boundary, constant rise time).\")),'''"
   ]
  },
  {
   "cell_type": "code",
   "execution_count": null,
   "id": "ff6c5fad-e9f8-4450-b421-c32563b196eb",
   "metadata": {},
   "outputs": [],
   "source": [
    "def compute_s1_boundary(parm, area):\n",
    "    boundary_line = parm[0]*np.exp(-area/parm[1]) + parm[2]\n",
    "    \n",
    "    return boundary_line"
   ]
  },
  {
   "cell_type": "code",
   "execution_count": null,
   "id": "5844618f-4b4a-4e4c-ab5b-7eca56c6eb01",
   "metadata": {},
   "outputs": [],
   "source": [
    "v = compute_s1_boundary(parm, area_linspace)"
   ]
  },
  {
   "cell_type": "code",
   "execution_count": null,
   "id": "09a8e269-30c2-401f-8717-22046171d3f4",
   "metadata": {},
   "outputs": [],
   "source": [
    "v"
   ]
  },
  {
   "cell_type": "code",
   "execution_count": null,
   "id": "b830ce8d-8c9d-4fb6-ab3c-5f2f7d196b0b",
   "metadata": {},
   "outputs": [],
   "source": [
    "def upper_rise_time_aft_boundary(aft, slope, offset, aft_boundary, flat_threshold):\n",
    "        \"\"\"\n",
    "        Function which computes the upper rise time boundary as a function\n",
    "        of area fraction top.\n",
    "        \"\"\"\n",
    "        res = 10**(slope * aft + offset)\n",
    "        res[aft >= aft_boundary] = flat_threshold\n",
    "        return res"
   ]
  },
  {
   "cell_type": "code",
   "execution_count": null,
   "id": "c74a3a4f-b62b-487b-9c68-58d1396a43a7",
   "metadata": {},
   "outputs": [],
   "source": [
    "parm = np.array([50, 80, 12])\n",
    "boundary_line = parm[0]*np.exp(-area/tau) + const"
   ]
  },
  {
   "cell_type": "code",
   "execution_count": null,
   "id": "332c5be9-ec45-4ac0-9e5d-582b16ac1986",
   "metadata": {},
   "outputs": [],
   "source": [
    "fig = plt.figure(figsize=(6,5))\n",
    "\n",
    "vmin = 0\n",
    "vmax = 1\n",
    "plt.scatter(pb_data_s2['area'][pb_data_s2['area'] < 70], \n",
    "            pb_data_s2['rise_time'][pb_data_s2['area'] < 70], \n",
    "            s=1, alpha = 0.5, c= pb_data_s2['area_fraction_top'][pb_data_s2['area'] < 70],\n",
    "            vmin=vmin, vmax=vmax,\n",
    "            cmap=cm.get_cmap('jet'))\n",
    "plt.scatter(pb_data_s1['area'][pb_data_s1['area'] < 50], \n",
    "            pb_data_s1['rise_time'][pb_data_s1['area'] < 50], \n",
    "            s=0.5, alpha = 0.5, c = pb_data_s1['area_fraction_top'][pb_data_s1['area'] < 50],\n",
    "            vmin=vmin, vmax=vmax,\n",
    "            cmap=cm.get_cmap('jet'))\n",
    "#plt.scatter(kr_pb_array['area'][kr_pb_array['type'] == 1], kr_pb_array['rise_time'][kr_pb_array['type'] == 1], s=0.1, color = 'blue')\n",
    "#plt.xscale('log')\n",
    "#plt.yscale('log')\n",
    "plt.xlabel('Area [PE]')\n",
    "plt.ylabel('Rise Time [ns]')\n",
    "plt.colorbar()\n",
    "plt.xlim(1,50)\n",
    "plt.ylim(10,300)"
   ]
  },
  {
   "cell_type": "code",
   "execution_count": null,
   "id": "2b3c4153-0be3-4eef-b188-30d96f7fb2be",
   "metadata": {},
   "outputs": [],
   "source": [
    "pb_data_s2.dtype"
   ]
  },
  {
   "cell_type": "code",
   "execution_count": null,
   "id": "96773f41-1ddd-4dff-87a3-b6e2674c10d1",
   "metadata": {},
   "outputs": [],
   "source": [
    "fig = plt.figure(figsize=(8,5))\n",
    "\n",
    "vmin = 0\n",
    "vmax = 200\n",
    "n1 = plt.scatter(pb_data_s2['area_fraction_top'][pb_data_s2['area'] < 70], \n",
    "            pb_data_s2['rise_time'][pb_data_s2['area'] < 70], \n",
    "            s=5, alpha = 0.5, c= pb_data_s2['range_50p_area'][pb_data_s2['area'] < 70],\n",
    "            vmin=vmin, vmax=vmax,\n",
    "            cmap=cm.get_cmap('Greens'))\n",
    "plt.colorbar(n1, label = 'S2 50% width [ns]')\n",
    "n2 = plt.scatter(pb_data_s1['area_fraction_top'][pb_data_s1['area'] < 50], \n",
    "            pb_data_s1['rise_time'][pb_data_s1['area'] < 50], \n",
    "            s=5, alpha = 0.5, c = pb_data_s1['range_50p_area'][pb_data_s1['area'] < 50],\n",
    "            vmin=vmin, vmax=vmax,\n",
    "            cmap=cm.get_cmap('Blues'))\n",
    "plt.colorbar(n2, label = 'S1 50% width [ns]')\n",
    "plt.plot(aft_line, upper_rise_time_aft_boundary(aft_line, aft_bound_parm[0],\n",
    "                                               aft_bound_parm[1],aft_bound_parm[2],\n",
    "                                               aft_bound_parm[3]),'--' ,color = 'black', label = \"Straxen AFT boundary\")\n",
    "#plt.scatter(kr_pb_array['area'][kr_pb_array['type'] == 1], kr_pb_array['rise_time'][kr_pb_array['type'] == 1], s=0.1, color = 'blue')\n",
    "#plt.xscale('log')\n",
    "legend_elements = [Line2D([0], [0], marker='o', color='blue', label='SOM S1',markerfacecolor='blue',linewidth=0, markersize=5),\n",
    "                   Line2D([0], [0], marker='o', color='green', label='SOM S2',markerfacecolor='green',linewidth=0, markersize=5),\n",
    "                   Line2D([0], [0], linestyle='--', color='black', label='Straxen Boundary',markerfacecolor='black',linewidth=2, markersize=5)]\n",
    "\n",
    "plt.legend(handles=legend_elements, loc=0,prop={'size':12})\n",
    "plt.yscale('log')\n",
    "plt.xlabel('Area Fraction Top')\n",
    "plt.ylabel('Rise Time [ns]')\n",
    "#plt.colorbar(label = '50% width [ns]')\n",
    "plt.xlim(0,1)\n",
    "plt.ylim(10,1000)\n",
    "plt.savefig('./figures/SOMcls_risetime_v_AFT_wstrax_bound.png')"
   ]
  },
  {
   "cell_type": "code",
   "execution_count": null,
   "id": "b36da8b7-abcb-4051-bb5c-f0d41a7cdc67",
   "metadata": {},
   "outputs": [],
   "source": [
    "fig = plt.figure(figsize=(6,5))\n",
    "\n",
    "vmin = 0\n",
    "vmax = 200\n",
    "plt.scatter(pb_data_s2['area_fraction_top'][pb_data_s2['area'] < 70], \n",
    "            pb_data_s2['rise_time'][pb_data_s2['area'] < 70], \n",
    "            s=0.5, alpha = 0.5, c= pb_data_s2['range_50p_area'][pb_data_s2['area'] < 70],\n",
    "            vmin=vmin, vmax=vmax,\n",
    "            cmap=cm.get_cmap('jet'))\n",
    "plt.scatter(pb_data_s1['area_fraction_top'][pb_data_s1['area'] < 50], \n",
    "            pb_data_s1['rise_time'][pb_data_s1['area'] < 50], \n",
    "            s=0.5, alpha = 0.5, c = pb_data_s1['range_50p_area'][pb_data_s1['area'] < 50],\n",
    "            vmin=vmin, vmax=vmax,\n",
    "            cmap=cm.get_cmap('jet'))\n",
    "plt.plot(aft_line, upper_rise_time_aft_boundary(aft_line, aft_bound_parm[0],\n",
    "                                               aft_bound_parm[1],aft_bound_parm[2],\n",
    "                                               aft_bound_parm[3]),'--' ,color = 'black', label = \"Straxen AFT boundary\")\n",
    "#plt.scatter(kr_pb_array['area'][kr_pb_array['type'] == 1], kr_pb_array['rise_time'][kr_pb_array['type'] == 1], s=0.1, color = 'blue')\n",
    "#plt.xscale('log')\n",
    "plt.yscale('log')\n",
    "plt.xlabel('Area [PE]')\n",
    "plt.ylabel('Rise Time [ns]')\n",
    "plt.colorbar(label = '50% width [ns]')\n",
    "plt.xlim(0,1)\n",
    "plt.ylim(10,1000)"
   ]
  },
  {
   "cell_type": "code",
   "execution_count": null,
   "id": "6ef9f039-36d6-4c5f-b932-abd62dcaf709",
   "metadata": {},
   "outputs": [],
   "source": [
    "fig = plt.figure(figsize=(10,7))\n",
    "\n",
    "vmin = 0\n",
    "vmax = 200\n",
    "plt.scatter(pb_data_s2['rise_time'][pb_data_s2['area'] < 70], \n",
    "            pb_data_s2['rise_time'][pb_data_s2['area'] < 70], \n",
    "            s=0.5, alpha = 0.5, color = 'blue')\n",
    "plt.scatter(pb_data_s1['rise_time'][pb_data_s1['area'] < 50], \n",
    "            pb_data_s1['rise_time'][pb_data_s1['area'] < 50], \n",
    "            s=0.5, alpha = 0.5, color = 'green')\n",
    "#plt.scatter(kr_pb_array['area'][kr_pb_array['type'] == 1], kr_pb_array['rise_time'][kr_pb_array['type'] == 1], s=0.1, color = 'blue')\n",
    "#plt.xscale('log')\n",
    "#plt.yscale('log')\n",
    "plt.xlabel('Area [PE]')\n",
    "plt.ylabel('Rise Time [ns]')\n",
    "plt.xlim(0,1)\n",
    "plt.ylim(10,1000)"
   ]
  },
  {
   "cell_type": "code",
   "execution_count": null,
   "id": "fdf23dcf-d852-4d52-ab63-cb4ac4212a0f",
   "metadata": {},
   "outputs": [],
   "source": [
    "fig = plt.figure(figsize=(10,7))\n",
    "\n",
    "plt.scatter(pb_data_SOM2cls['area'][pb_data_SOM2cls['type'] == 1], \n",
    "            pb_data_SOM2cls['rise_time'][pb_data_SOM2cls['type'] == 1], \n",
    "            s=0.5, alpha = 0.5, color = 'blue')\n",
    "plt.scatter(pb_data_SOM2cls['area'][pb_data_SOM2cls['type'] == 2], \n",
    "            pb_data_SOM2cls['rise_time'][pb_data_SOM2cls['type'] == 2], \n",
    "            s=0.5, alpha = 0.5, color = 'green')\n",
    "#plt.scatter(kr_pb_array['area'][kr_pb_array['type'] == 1], kr_pb_array['rise_time'][kr_pb_array['type'] == 1], s=0.1, color = 'blue')\n",
    "#plt.xscale('log')\n",
    "#plt.yscale('log')\n",
    "plt.xlabel('Area [PE]')\n",
    "plt.ylabel('Rise Time [ns]')\n",
    "plt.xlim(1,1000000)\n",
    "plt.ylim(1,100000)"
   ]
  },
  {
   "cell_type": "code",
   "execution_count": null,
   "id": "4806704b-393e-4da0-8010-f9ed189a150a",
   "metadata": {},
   "outputs": [],
   "source": [
    "fig = plt.figure(figsize=(10,7))\n",
    "\n",
    "plt.scatter(data_pb_cuts_2clsSOM['area'][data_pb_cuts_2clsSOM['type'] == 1], \n",
    "            data_pb_cuts_2clsSOM['rise_time'][data_pb_cuts_2clsSOM['type'] == 1], \n",
    "            s=0.5, alpha = 0.5, color = 'blue')\n",
    "plt.scatter(data_pb_cuts_2clsSOM['area'][data_pb_cuts_2clsSOM['type'] == 2], \n",
    "            data_pb_cuts_2clsSOM['rise_time'][data_pb_cuts_2clsSOM['type'] == 2], \n",
    "            s=0.5, alpha = 0.5, color = 'green')\n",
    "#plt.scatter(kr_pb_array['area'][kr_pb_array['type'] == 1], kr_pb_array['rise_time'][kr_pb_array['type'] == 1], s=0.1, color = 'blue')\n",
    "plt.xscale('log')\n",
    "plt.yscale('log')\n",
    "plt.xlabel('Area [PE]')\n",
    "plt.ylabel('Rise Time [ns]')\n",
    "plt.xlim(1,1000000)\n",
    "plt.ylim(1,100000)"
   ]
  },
  {
   "cell_type": "code",
   "execution_count": null,
   "id": "352177de-a226-4848-a332-2a95bb78bfeb",
   "metadata": {},
   "outputs": [],
   "source": []
  }
 ],
 "metadata": {
  "kernelspec": {
   "display_name": "Python 3 (ipykernel)",
   "language": "python",
   "name": "python3"
  },
  "language_info": {
   "codemirror_mode": {
    "name": "ipython",
    "version": 3
   },
   "file_extension": ".py",
   "mimetype": "text/x-python",
   "name": "python",
   "nbconvert_exporter": "python",
   "pygments_lexer": "ipython3",
   "version": "3.8.12"
  }
 },
 "nbformat": 4,
 "nbformat_minor": 5
}
