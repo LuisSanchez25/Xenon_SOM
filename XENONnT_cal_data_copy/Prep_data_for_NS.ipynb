{
 "cells": [
  {
   "cell_type": "markdown",
   "id": "b57ba957-7154-4cfa-bb85-d8ff401dec5f",
   "metadata": {},
   "source": [
    "### Ready simulation data for NeuroScope"
   ]
  },
  {
   "cell_type": "code",
   "execution_count": null,
   "id": "0b5e95c8-31cd-4806-8846-6598a8a1c3a0",
   "metadata": {},
   "outputs": [],
   "source": [
    "#this notebook is to expediate the process between simulating the data I need and getting results\n",
    "#hopefuly I just have to run this notebook and it will all do itself"
   ]
  },
  {
   "cell_type": "code",
   "execution_count": null,
   "id": "af9a0f03-caa0-4afa-8870-fdd44997b331",
   "metadata": {},
   "outputs": [],
   "source": [
    "import strax \n",
    "import straxen \n",
    "import numpy as np\n",
    "import matplotlib.pyplot as plt\n",
    "import cutax\n",
    "import pandas as pd\n",
    "import wfsim"
   ]
  },
  {
   "cell_type": "code",
   "execution_count": null,
   "id": "e375c7ed-9060-4fc7-a763-67f422bada14",
   "metadata": {},
   "outputs": [],
   "source": [
    "### Define variables\n",
    "len_of_SE = 0\n",
    "len_of_ArS1 = 0\n",
    "zeros = 0"
   ]
  },
  {
   "cell_type": "code",
   "execution_count": null,
   "id": "de039253-23e4-428d-bff3-3b596e4f6ae0",
   "metadata": {},
   "outputs": [],
   "source": [
    "se_data = np.load('./sim_data/sim_single_E_id2_peaks.npz')['arr_0']\n",
    "se_truth = np.load('./sim_data/sim_single_E_id2_truth.npz')['arr_0']\n",
    "ar_data = np.load('./sim_data/sim_Ar37_id2_peaks.npz')['arr_0']\n",
    "ar_truth = np.load('./sim_data/sim_Ar37_id2_truth.npz')['arr_0']"
   ]
  },
  {
   "cell_type": "code",
   "execution_count": null,
   "id": "28edadc2-4779-4ec9-8119-8ad7adc669e3",
   "metadata": {},
   "outputs": [],
   "source": [
    "se_pb = np.load('./sim_data/sim_single_E_id2_peak_basics.npz')['arr_0']\n",
    "ar_pb = np.load('./sim_data/sim_Ar37_id2_peak_basics.npz')['arr_0']"
   ]
  },
  {
   "cell_type": "code",
   "execution_count": null,
   "id": "b8c528c2-58a1-47d5-b97d-95e05a657299",
   "metadata": {},
   "outputs": [],
   "source": [
    "rn_data = np.load('./saved_data/Rn_run24072_s1_peaks.npz')['arr_0']\n",
    "rn_pb = np.load('./saved_data/Rn_run24072_s1_peak_basics.npz')['arr_0']"
   ]
  },
  {
   "cell_type": "code",
   "execution_count": null,
   "id": "4c3c4a42-bd3e-4d98-ba68-d2f47fe64e6f",
   "metadata": {},
   "outputs": [],
   "source": [
    "def dump_matched_peaks(truth, peaks, peak_basics):#, int_type):\n",
    "    \"\"\"\n",
    "    Dump matched peaks in a human readable format\n",
    "    param truth: truth array to be matched\n",
    "    param peaks: peaks array to be matched\n",
    "    return data: np.array with the matched peaks and true info\n",
    "    \"\"\"\n",
    "    #  This is for single electrons\n",
    "    #if int_type == 1:\n",
    "    #    truth = truth[truth['n_electron'] == 1]\n",
    "\n",
    "    #  for now focus on S2\n",
    "    s2_truth = truth\n",
    "    s2_peaks = peaks\n",
    "    s2_peak_basics = peak_basics\n",
    "\n",
    "    #  This is first attemp to match peaks and true info\n",
    "    mask = np.zeros(len(s2_peak_basics), dtype=np.bool)\n",
    "    for i, t in enumerate(s2_truth):\n",
    "        mask += ((s2_peak_basics['time'] < t['t_mean_photon']) &\n",
    "                 (s2_peak_basics['endtime'] > t['t_mean_photon']))\n",
    "\n",
    "    s2_matched = s2_peaks[mask]\n",
    "    s2_peak_basics = s2_peak_basics[mask]\n",
    "\n",
    "    #   Do not ask me why... sometimes life is hard...\n",
    "    if len(s2_matched['time']) != len(s2_truth['time']):\n",
    "        s2_matched, s2_peak_basics, s2_truth = match_events(s2_matched, s2_peak_basics, s2_truth)\n",
    "\n",
    "    return s2_matched, s2_peak_basics, s2_truth"
   ]
  },
  {
   "cell_type": "code",
   "execution_count": null,
   "id": "3095a70c-f47f-4391-acb5-5623ab1149a1",
   "metadata": {},
   "outputs": [],
   "source": [
    "def match_events(s2_matched, s2_peak_basics, s2_truth):\n",
    "    \"\"\"\n",
    "    Match s2 peaks with s2 true info\n",
    "    param s2_matched: s2 peak array\n",
    "    param s2_peak_basics: s2 peak_basic array\n",
    "    param s2_truth: s2 truth array\n",
    "    param return: s2_ms2_matched, s2_peak_basics, s2_truth matched arrays\n",
    "    \"\"\"\n",
    "    matched = []\n",
    "    matched_t = []\n",
    "    '''\n",
    "    for i, p in enumerate(s2_peak_basics):\n",
    "        for j, t in enumerate(s2_truth):\n",
    "            if abs(p['center_time']-t['t_mean_photon']) < 200:  # 200 ns window\n",
    "                matched.append(i)\n",
    "                matched_t.append(j)\n",
    "                break\n",
    "    '''\n",
    "                \n",
    "    for j, t in enumerate(s2_truth):     \n",
    "        if np.min(abs(t['t_mean_photon'] - s2_peak_basics['center_time'])) < 200:\n",
    "            pb_loc = np.where(abs(s2_peak_basics['center_time'] - t['t_mean_photon']) == np.min(abs(t['t_mean_photon'] - s2_peak_basics['center_time'])))\n",
    "            matched.append(pb_loc)\n",
    "            matched_t.append(j)\n",
    "\n",
    "    s2_matched = np.take(s2_matched, matched)\n",
    "    s2_peak_basics = np.take(s2_peak_basics, matched)\n",
    "    s2_truth = np.take(s2_truth, matched_t)\n",
    "\n",
    "    return s2_matched, s2_peak_basics, s2_truth"
   ]
  },
  {
   "cell_type": "code",
   "execution_count": null,
   "id": "e83f505c-4346-4efc-b12e-b4f84e86be28",
   "metadata": {},
   "outputs": [],
   "source": [
    "def compute_wf_and_quantiles(peaks: np.ndarray, bayes_n_nodes: int):\n",
    "    \"\"\"\n",
    "    Compute waveforms and quantiles for a given number of nodes(atributes)\n",
    "    :param peaks:\n",
    "    :param bayes_n_nodes: number of nodes or atributes\n",
    "    :return: waveforms and quantiles\n",
    "    \"\"\"\n",
    "    waveforms = np.zeros((len(peaks), bayes_n_nodes))\n",
    "    quantiles = np.zeros((len(peaks), bayes_n_nodes))\n",
    "\n",
    "    num_samples = peaks['data'].shape[1]\n",
    "    #modified line, original num_samples = peaks['data'].shape[1] \n",
    "    step_size = int(num_samples/bayes_n_nodes)\n",
    "    steps = np.arange(0, num_samples+1, step_size)\n",
    "\n",
    "    data = peaks['data'].copy() #data = peaks['data'].copy() \n",
    "    data[data < 0.0] = 0.0\n",
    "    for i, p in enumerate(peaks):\n",
    "        sample_number = np.arange(0, num_samples+1, 1)*p['dt']\n",
    "        frac_of_cumsum = np.append([0.0], np.cumsum(data[i, :]) / np.sum(data[i, :]))\n",
    "        cumsum_steps = np.interp(np.linspace(0., 1., bayes_n_nodes, endpoint=False), frac_of_cumsum, sample_number)\n",
    "        cumsum_steps = np.append(cumsum_steps, sample_number[-1])\n",
    "        quantiles[i, :] = cumsum_steps[1:] - cumsum_steps[:-1]\n",
    "\n",
    "    for j in range(bayes_n_nodes):\n",
    "        waveforms[:, j] = np.sum(data[:, steps[j]:steps[j+1]], axis=1)\n",
    "    waveforms = waveforms/(peaks['dt']*step_size)[:, np.newaxis]\n",
    "\n",
    "    del data\n",
    "    return waveforms, quantiles"
   ]
  },
  {
   "cell_type": "code",
   "execution_count": null,
   "id": "9d3cd7ef-03df-44a5-918d-62a74c260feb",
   "metadata": {},
   "outputs": [],
   "source": [
    "def generate_incl_file_4(filename, xcube, ycube, class_nums):\n",
    "    '''generates a file that tells NS what the label of each data point is. this needs:\n",
    "    filename: such as 'data.incl'\n",
    "    xcube: horizontal dimension of the data cube\n",
    "    ycube: vertical dimension of the data cube\n",
    "    class_nums: vector of 3 dimensions detailing where the labels should swtich, the values of each vector should be its own puls the previous'''\n",
    "    f = open(filename, \"w+\")\n",
    "    count = 1\n",
    "    for i in np.arange(ycube):\n",
    "        for j in np.arange(xcube):\n",
    "            if count <= class_nums[0]:\n",
    "                f.write('include area ' \n",
    "                        +str(j+1) + ' ' \n",
    "                        +str(i+1) + ' ' \n",
    "                        +str(j+1) + ' ' \n",
    "                        +str(i+1) + ' A' + ' \\n')\n",
    "            if count > class_nums[0] and count <= class_nums[1]:\n",
    "                f.write('include area ' \n",
    "                        +str(j+1) + ' ' \n",
    "                        +str(i+1) + ' ' \n",
    "                        +str(j+1) + ' ' \n",
    "                        +str(i+1) + ' H' + '\\n')\n",
    "            if count > class_nums[1] and count <= class_nums[2]:\n",
    "                f.write('include area ' \n",
    "                        +str(j+1) + ' ' \n",
    "                        +str(i+1) + ' ' \n",
    "                        +str(j+1) + ' ' \n",
    "                        +str(i+1) + ' G' + '\\n')\n",
    "            if count > class_nums[2] and count <= class_nums[3]:\n",
    "                f.write('include area ' \n",
    "                        +str(j+1) + ' ' \n",
    "                        +str(i+1) + ' ' \n",
    "                        +str(j+1) + ' ' \n",
    "                        +str(i+1) + ' C' + '\\n')\n",
    "            if count > class_nums[3]:\n",
    "                f.write('exclude area ' \n",
    "                        +str(j+1) + ' ' \n",
    "                        +str(i+1) + ' ' \n",
    "                        +str(j+1) + ' ' \n",
    "                        +str(i+1))\n",
    "            count = count + 1\n",
    "    f.close()"
   ]
  },
  {
   "cell_type": "code",
   "execution_count": null,
   "id": "d26a6322-d3b5-4904-b2b2-25f5004a71f0",
   "metadata": {},
   "outputs": [],
   "source": [
    "def export_data(data, export_name):\n",
    "    data_vec = np.reshape(data, (len(data[1,:])*len(data[:,1])))\n",
    "    \n",
    "    import struct\n",
    "\n",
    "    f=open(export_name,\"wb\")\n",
    "    export_TL = data_vec\n",
    "    export_TL.dtype\n",
    "    myfmt='f'*len(export_TL)\n",
    "    #  You can use 'd' for double and < or > to force endinness\n",
    "    bin=struct.pack(myfmt,*export_TL)\n",
    "    f.write(bin)\n",
    "    f.close()"
   ]
  },
  {
   "cell_type": "code",
   "execution_count": null,
   "id": "06f1c1f4-25c6-4d18-adaa-e6108f55b203",
   "metadata": {},
   "outputs": [],
   "source": [
    "s2_se_matched, s2_se_peak_basics, s2_se_truth = dump_matched_peaks(se_truth, se_data, se_pb)"
   ]
  },
  {
   "cell_type": "code",
   "execution_count": null,
   "id": "dd448c8f-c913-4cfe-bd59-d20f0a64e220",
   "metadata": {},
   "outputs": [],
   "source": [
    "s2_ar_matched, s2_ar_peak_basics, s2_ar_truth = dump_matched_peaks(ar_truth, ar_data, ar_pb)"
   ]
  },
  {
   "cell_type": "code",
   "execution_count": null,
   "id": "918a6be6-e529-4ee7-a748-0eea323eba16",
   "metadata": {},
   "outputs": [],
   "source": [
    "len(s2_ar_matched)"
   ]
  },
  {
   "cell_type": "code",
   "execution_count": null,
   "id": "615cb501-d9e5-4121-bc94-b6628b94f2ac",
   "metadata": {},
   "outputs": [],
   "source": [
    "ar_peaks_truth = np.reshape(s2_ar_matched, [len(s2_ar_matched)])"
   ]
  },
  {
   "cell_type": "code",
   "execution_count": null,
   "id": "2b77e0bd-51e3-4d28-83bf-db4889734388",
   "metadata": {},
   "outputs": [],
   "source": [
    "ar_peaks_truth['type'] = s2_ar_truth['type']"
   ]
  },
  {
   "cell_type": "code",
   "execution_count": null,
   "id": "9b802dcf-18ef-401f-af56-661ab0714fbb",
   "metadata": {},
   "outputs": [],
   "source": [
    "len(s2_ar_truth[s2_ar_truth['type'] == 1])"
   ]
  },
  {
   "cell_type": "code",
   "execution_count": null,
   "id": "719791f6-40fa-4a6b-bef1-1df0dcaa3901",
   "metadata": {},
   "outputs": [],
   "source": [
    "s1_ar_peaks = ar_peaks_truth[ar_peaks_truth['type'] == 1]"
   ]
  },
  {
   "cell_type": "code",
   "execution_count": null,
   "id": "b038d124-a049-431c-b35f-8110e0c7352d",
   "metadata": {},
   "outputs": [],
   "source": [
    "len(s1_ar_peaks)"
   ]
  },
  {
   "cell_type": "code",
   "execution_count": null,
   "id": "15eabdac-3a4f-41e0-b126-be3fad6bcfbe",
   "metadata": {},
   "outputs": [],
   "source": [
    "ar_pb_truth = np.reshape(s2_ar_peak_basics, [len(s2_ar_peak_basics)])\n",
    "ar_pb_truth['type'] = s2_ar_truth['type']\n",
    "s1_ar_pb_truth = ar_pb_truth[ar_pb_truth['type'] == 1]"
   ]
  },
  {
   "cell_type": "code",
   "execution_count": null,
   "id": "ca2b9312-0715-4281-a909-507fbcfb1ecb",
   "metadata": {},
   "outputs": [],
   "source": [
    "len(ar_pb_truth)"
   ]
  },
  {
   "cell_type": "code",
   "execution_count": null,
   "id": "e790da45-e7d7-4a16-9621-05fb08527e8c",
   "metadata": {},
   "outputs": [],
   "source": [
    "len(s1_ar_pb_truth)"
   ]
  },
  {
   "cell_type": "code",
   "execution_count": null,
   "id": "4c7c1c1b-4700-4f13-8e11-82aab72722ca",
   "metadata": {},
   "outputs": [],
   "source": []
  },
  {
   "cell_type": "code",
   "execution_count": null,
   "id": "ff3f1022-eabd-4319-9df8-089ea7815073",
   "metadata": {},
   "outputs": [],
   "source": []
  },
  {
   "cell_type": "code",
   "execution_count": null,
   "id": "60877ae3-0669-4e40-94cc-abf2e67ae7ba",
   "metadata": {},
   "outputs": [],
   "source": [
    "rn_s1 = rn_data[rn_data['type'] == 1]"
   ]
  },
  {
   "cell_type": "code",
   "execution_count": null,
   "id": "470b971c-ce60-4aea-90cc-b771747c15f3",
   "metadata": {},
   "outputs": [],
   "source": [
    "se_reshaped = np.reshape(s2_se_matched, [len(s2_se_matched)])"
   ]
  },
  {
   "cell_type": "code",
   "execution_count": null,
   "id": "8b15fe71-8957-4ae4-81c6-94537992ebe7",
   "metadata": {},
   "outputs": [],
   "source": [
    "_, se_deciles = compute_wf_and_quantiles(np.reshape(s2_se_matched, [len(s2_se_matched)]), 10)"
   ]
  },
  {
   "cell_type": "code",
   "execution_count": null,
   "id": "66571d0f-ef96-40d0-a8dd-014818a6be4c",
   "metadata": {},
   "outputs": [],
   "source": [
    "_, ar_s1_deciles = compute_wf_and_quantiles(s1_ar_peaks, 10)"
   ]
  },
  {
   "cell_type": "code",
   "execution_count": null,
   "id": "b2a4de5c-2f2b-4461-a07a-d2ee6ee86ad9",
   "metadata": {},
   "outputs": [],
   "source": [
    "_, rn_s1_deciles = compute_wf_and_quantiles(rn_s1, 10)"
   ]
  },
  {
   "cell_type": "code",
   "execution_count": null,
   "id": "85f8fd43-85cd-45b5-a9e6-264047cce1df",
   "metadata": {},
   "outputs": [],
   "source": [
    "#I should probably devide by the value of the actual data for consistancy"
   ]
  },
  {
   "cell_type": "code",
   "execution_count": null,
   "id": "0d324e00-047d-4f66-b7a0-8afb65069555",
   "metadata": {},
   "outputs": [],
   "source": [
    "area_scaling = np.load('area_scaling.npz')['arr_0']"
   ]
  },
  {
   "cell_type": "code",
   "execution_count": null,
   "id": "e7635cf1-2887-4d3d-b055-2dfdd41410e8",
   "metadata": {},
   "outputs": [],
   "source": [
    "area_scaling"
   ]
  },
  {
   "cell_type": "code",
   "execution_count": null,
   "id": "554ce8bb-e3bb-4126-88bc-c4e2c8a56a6b",
   "metadata": {},
   "outputs": [],
   "source": [
    "area_norm = np.load('area_norm.npz')['arr_0']"
   ]
  },
  {
   "cell_type": "code",
   "execution_count": null,
   "id": "9cc0d549-3988-41ea-b688-baa09b4cd298",
   "metadata": {},
   "outputs": [],
   "source": [
    "area_norm"
   ]
  },
  {
   "cell_type": "code",
   "execution_count": null,
   "id": "7f706089-a62e-4a71-99fe-88a918d77892",
   "metadata": {},
   "outputs": [],
   "source": [
    "decile_norm = np.load('deciles_scaling.npz')['arr_0']"
   ]
  },
  {
   "cell_type": "code",
   "execution_count": null,
   "id": "b3e4a7ee-0e8d-4c8f-bb2a-82ce0ae78104",
   "metadata": {},
   "outputs": [],
   "source": [
    "decile_norm = np.max(decile_norm)"
   ]
  },
  {
   "cell_type": "code",
   "execution_count": null,
   "id": "d486c20c-f96a-41b1-bc40-9acdcf3ba0bb",
   "metadata": {},
   "outputs": [],
   "source": [
    "se_deciles_log = np.log(se_deciles) / decile_norm\n",
    "ar_deciles_log = np.log(ar_s1_deciles) / decile_norm\n",
    "rn_deciles_log = np.log(rn_s1_deciles) / decile_norm"
   ]
  },
  {
   "cell_type": "code",
   "execution_count": null,
   "id": "46560e45-1390-497a-848e-a55d5aa70dbd",
   "metadata": {},
   "outputs": [],
   "source": [
    "np.shape(ar_deciles_log)"
   ]
  },
  {
   "cell_type": "code",
   "execution_count": null,
   "id": "5bbd0493-102f-41c4-a261-b3c50dde92fa",
   "metadata": {},
   "outputs": [],
   "source": [
    "norm_log_decile = np.concatenate((se_deciles_log, ar_deciles_log))"
   ]
  },
  {
   "cell_type": "code",
   "execution_count": null,
   "id": "7e9fdcd3-510e-4e86-9a6f-0e011daa0570",
   "metadata": {},
   "outputs": [],
   "source": [
    "se_log_area = np.log10(se_reshaped['area'] + area_scaling+1) / area_norm\n",
    "ar_log_area = np.log10(s1_ar_peaks['area'] + area_scaling+1) / area_norm\n",
    "rn_log_area = np.log10(rn_s1['area'] + area_scaling+1) / area_norm"
   ]
  },
  {
   "cell_type": "code",
   "execution_count": null,
   "id": "736d4db6-4abf-4f17-89a0-7aa6f8cfe51a",
   "metadata": {},
   "outputs": [],
   "source": [
    "np.shape(ar_log_area)"
   ]
  },
  {
   "cell_type": "code",
   "execution_count": null,
   "id": "83fc78f6-ffc1-4dc0-8997-0c3926a9af00",
   "metadata": {},
   "outputs": [],
   "source": [
    "se_aft = s2_se_peak_basics['area_fraction_top']"
   ]
  },
  {
   "cell_type": "code",
   "execution_count": null,
   "id": "976df3f7-35ae-45b4-abca-19bcc14bd915",
   "metadata": {},
   "outputs": [],
   "source": [
    "se_aft = np.reshape(se_aft, [len(se_aft)])                    "
   ]
  },
  {
   "cell_type": "code",
   "execution_count": null,
   "id": "660dedde-499b-407f-8a2e-1b8c43417927",
   "metadata": {},
   "outputs": [],
   "source": [
    "se_aft = np.where(se_aft > 0, se_aft, 0)\n",
    "se_aft = np.where(se_aft < 1, se_aft, 1)"
   ]
  },
  {
   "cell_type": "code",
   "execution_count": null,
   "id": "e1795532-c554-4578-b9c7-e312abbd1e31",
   "metadata": {},
   "outputs": [],
   "source": [
    "ar_aft = s1_ar_pb_truth['area_fraction_top']\n",
    "ar_aft = np.reshape(ar_aft, [len(ar_aft)])"
   ]
  },
  {
   "cell_type": "code",
   "execution_count": null,
   "id": "f606e296-cc94-4e3f-9c30-938af66cc0a9",
   "metadata": {},
   "outputs": [],
   "source": [
    "np.shape(ar_aft)"
   ]
  },
  {
   "cell_type": "code",
   "execution_count": null,
   "id": "2abfbd66-34f5-42c9-afdf-0dc7fa3b02ed",
   "metadata": {},
   "outputs": [],
   "source": [
    "ar_aft = np.where(ar_aft > 0, ar_aft, 0)\n",
    "ar_aft = np.where(ar_aft < 1, ar_aft, 1)"
   ]
  },
  {
   "cell_type": "code",
   "execution_count": null,
   "id": "d23db414-68a1-4af1-b202-2a5bb057dfad",
   "metadata": {},
   "outputs": [],
   "source": [
    "rn_aft = rn_pb['area_fraction_top']"
   ]
  },
  {
   "cell_type": "code",
   "execution_count": null,
   "id": "afa7a42c-3d6c-484f-b61b-0a68153970b1",
   "metadata": {},
   "outputs": [],
   "source": [
    "rn_aft = np.where(rn_aft > 0, rn_aft, 0)\n",
    "rn_aft = np.where(rn_aft < 1, rn_aft, 1)"
   ]
  },
  {
   "cell_type": "code",
   "execution_count": null,
   "id": "7e058a2d-c581-4dca-af11-0d04eb57e569",
   "metadata": {},
   "outputs": [],
   "source": [
    "se_s1_decile_area = np.concatenate((se_deciles_log, np.reshape(se_log_area, [len(se_log_area), 1])), axis = 1)"
   ]
  },
  {
   "cell_type": "code",
   "execution_count": null,
   "id": "7e59a676-d938-474c-a6f5-469ce18f1d04",
   "metadata": {},
   "outputs": [],
   "source": [
    "np.shape(se_s1_decile_area)"
   ]
  },
  {
   "cell_type": "code",
   "execution_count": null,
   "id": "12f5a6a9-d29d-4afb-9b19-ed2db23a4a13",
   "metadata": {},
   "outputs": [],
   "source": [
    "se_s1_decile_area_aft = np.concatenate((s1_decile_area, np.reshape(se_aft, [len(se_aft), 1])), axis = 1)"
   ]
  },
  {
   "cell_type": "code",
   "execution_count": null,
   "id": "2a0a00e0-38ac-4ddf-84b0-78d6381b87bd",
   "metadata": {},
   "outputs": [],
   "source": [
    "np.shape(se_s1_decile_area_aft)"
   ]
  },
  {
   "cell_type": "code",
   "execution_count": null,
   "id": "8533ed9f-07cd-4bb3-9f6a-ffc491bac2c0",
   "metadata": {},
   "outputs": [],
   "source": [
    "def make_data_inputs(data, area, aft):\n",
    "    decile_area = np.concatenate((data, np.reshape(area, [len(area), 1])), axis = 1)\n",
    "    decile_area_aft = np.concatenate((decile_area, np.reshape(aft, [len(aft), 1])), axis = 1)\n",
    "    \n",
    "    return decile_area_aft"
   ]
  },
  {
   "cell_type": "code",
   "execution_count": null,
   "id": "b7d0fa25-56c1-48f4-8b7b-985f38b24229",
   "metadata": {},
   "outputs": [],
   "source": [
    "ar_s1_deciles_area_aft = make_data_inputs(ar_deciles_log, ar_log_area, ar_aft) "
   ]
  },
  {
   "cell_type": "code",
   "execution_count": null,
   "id": "caab59c8-7131-409f-ab21-c5b5eecfdbf5",
   "metadata": {},
   "outputs": [],
   "source": [
    "rn_s1_deciles_area_aft = make_data_inputs(rn_deciles_log, rn_log_area, rn_aft) "
   ]
  },
  {
   "cell_type": "code",
   "execution_count": null,
   "id": "80648e33-62a5-4b8c-9704-8352d691c8f5",
   "metadata": {},
   "outputs": [],
   "source": [
    "np.shape(se_s1_decile_area_aft)"
   ]
  },
  {
   "cell_type": "code",
   "execution_count": null,
   "id": "7db4a92d-3a6b-45ef-8290-13cecac56b08",
   "metadata": {},
   "outputs": [],
   "source": [
    "np.shape(ar_s1_deciles_area_aft)"
   ]
  },
  {
   "cell_type": "code",
   "execution_count": null,
   "id": "10bc0778-aab5-4f66-a52b-20a1082f8d7b",
   "metadata": {},
   "outputs": [],
   "source": [
    "np.shape(rn_s1_deciles_area_aft)"
   ]
  },
  {
   "cell_type": "code",
   "execution_count": null,
   "id": "ef9db9dc-84c6-48b7-bb56-2bb300cc1ef2",
   "metadata": {},
   "outputs": [],
   "source": [
    "def factors(n):    \n",
    "    from functools import reduce\n",
    "    \n",
    "    return set(reduce(list.__add__, \n",
    "                ([i, n//i] for i in range(1, int(n**0.5) + 1) if n % i == 0)))"
   ]
  },
  {
   "cell_type": "code",
   "execution_count": null,
   "id": "2f42533d-f172-4ea7-8768-c1da020bcd48",
   "metadata": {},
   "outputs": [],
   "source": [
    "len(factors(11422+2))/2"
   ]
  },
  {
   "cell_type": "code",
   "execution_count": null,
   "id": "8f76c3be-2c0e-4c44-ba23-d1dc7a015c46",
   "metadata": {},
   "outputs": [],
   "source": [
    "102*112 #+2"
   ]
  },
  {
   "cell_type": "code",
   "execution_count": null,
   "id": "09929948-6f81-4cb1-afe0-7815300b65c6",
   "metadata": {},
   "outputs": [],
   "source": [
    "143*156 #+2"
   ]
  },
  {
   "cell_type": "code",
   "execution_count": null,
   "id": "b29bddeb-8095-451a-8983-3280b90e798b",
   "metadata": {},
   "outputs": [],
   "source": [
    "1554*2294 #+3"
   ]
  },
  {
   "cell_type": "code",
   "execution_count": null,
   "id": "06678321-eb0e-4e37-8d3e-89a31119fdf3",
   "metadata": {},
   "outputs": [],
   "source": [
    "se_decile_area_aft_zeros = np.concatenate((se_s1_decile_area_aft, np.zeros((2,12))))"
   ]
  },
  {
   "cell_type": "code",
   "execution_count": null,
   "id": "ec947419-120a-4d5b-b52e-5f269d188c34",
   "metadata": {},
   "outputs": [],
   "source": [
    "ar_s1_decile_area_aft_zeros = np.concatenate((ar_s1_deciles_area_aft, np.zeros((2,12))))"
   ]
  },
  {
   "cell_type": "code",
   "execution_count": null,
   "id": "cf821e60-6041-409e-b38a-100c8469b1b3",
   "metadata": {},
   "outputs": [],
   "source": [
    "rn_s1_deciles_area_aft_zeros = np.concatenate((rn_s1_deciles_area_aft, np.zeros((3,12))))"
   ]
  },
  {
   "cell_type": "code",
   "execution_count": null,
   "id": "9651590f-3310-45f2-b531-480fe551c887",
   "metadata": {},
   "outputs": [],
   "source": [
    "generate_incl_file_4('./files_for_NS/se_decile_area_aft.incl', 102, 112, [102*112, 1000000000, 1000000000, 1000000000])"
   ]
  },
  {
   "cell_type": "code",
   "execution_count": null,
   "id": "6871cc8a-8d8b-4ce4-bda8-27470ccfb84e",
   "metadata": {},
   "outputs": [],
   "source": [
    "generate_incl_file_4('./files_for_NS/ar_decile_area_aft.incl', 143, 156, [143*156, 1000000000, 1000000000, 1000000000])"
   ]
  },
  {
   "cell_type": "code",
   "execution_count": null,
   "id": "75579caf-b8b4-4e78-9cb1-7a792a6b6f18",
   "metadata": {},
   "outputs": [],
   "source": [
    "generate_incl_file_4('./files_for_NS/rn_decile_area_aft.incl', 1554, 2294, [143*156, 1000000000, 1000000000, 1000000000])"
   ]
  },
  {
   "cell_type": "code",
   "execution_count": null,
   "id": "c2b38b1c-81a6-4539-b376-262cb2febb19",
   "metadata": {},
   "outputs": [],
   "source": [
    "export_data(se_decile_area_aft_zeros , './saved_data/sim_SE_dec_area_aft.raw')"
   ]
  },
  {
   "cell_type": "code",
   "execution_count": null,
   "id": "7c792a59-4121-4668-9abe-de0dba45726f",
   "metadata": {},
   "outputs": [],
   "source": [
    "export_data(ar_s1_decile_area_aft_zeros , './saved_data/sim_ar_s1_dec_area_aft.raw')"
   ]
  },
  {
   "cell_type": "code",
   "execution_count": null,
   "id": "07158f58-1c0b-49b2-9aec-f2fd7eb90878",
   "metadata": {},
   "outputs": [],
   "source": [
    "export_data(rn_s1_deciles_area_aft_zeros , './saved_data/cal_rn24072_s1_dec_area_aft.raw')"
   ]
  },
  {
   "cell_type": "code",
   "execution_count": null,
   "id": "ab095a71-306a-46cd-a199-01cf1d2cd41e",
   "metadata": {},
   "outputs": [],
   "source": [
    "plt.plot(np.mean(rn_s1_deciles_area_aft_zeros, axis = 0))"
   ]
  },
  {
   "cell_type": "code",
   "execution_count": null,
   "id": "e8c4b27f-06ad-4be3-a99f-619c726a9a12",
   "metadata": {},
   "outputs": [],
   "source": [
    "plt.plot(rn_s1_deciles_area_aft_zeros[0])"
   ]
  },
  {
   "cell_type": "code",
   "execution_count": null,
   "id": "1c84e253-5c2f-4e41-bbf4-71e671aaa309",
   "metadata": {},
   "outputs": [],
   "source": [
    "1+1"
   ]
  },
  {
   "cell_type": "code",
   "execution_count": null,
   "id": "be977e58-9069-443b-9bb1-80235cb5bcc5",
   "metadata": {},
   "outputs": [],
   "source": [
    "np.mean(rn_s1_deciles_area_aft_zeros)"
   ]
  },
  {
   "cell_type": "code",
   "execution_count": null,
   "id": "f43d574d-df38-4b93-923e-42ff0579c1d5",
   "metadata": {},
   "outputs": [],
   "source": [
    "np.var(rn_s1_deciles_area_aft_zeros)"
   ]
  },
  {
   "cell_type": "code",
   "execution_count": null,
   "id": "311334f4-cebc-4598-8027-4cadb50ec90a",
   "metadata": {},
   "outputs": [],
   "source": [
    "ar_37_data = np.load('./sim_data/Ar37_sim_s1.npy')"
   ]
  },
  {
   "cell_type": "code",
   "execution_count": null,
   "id": "4e59d2f5-ad4d-44ba-8244-3f1813210c6f",
   "metadata": {},
   "outputs": [],
   "source": [
    "fig = plt.figure(figsize=(6,4))\n",
    "#plt.scatter(class0_2['area'],class0_2['rise_time'], s= 0.1, marker='.',color='b', label = \"Class 1\")\n",
    "plt.scatter(ar_37_data['area'][ar_37_data['type'] == 1],\n",
    "            ar_37_data['rise_time'][ar_37_data['type'] == 1], \n",
    "            s= 1, marker='.',color='blue', label = \"S1\")\n",
    "plt.scatter(ar_37_data['area'][ar_37_data['type'] == 2],\n",
    "            ar_37_data['rise_time'][ar_37_data['type'] == 2], \n",
    "            s= 1, marker='.',color='g', label = \"S2\")\n",
    "#plt.scatter(class3_2['length'],class3_2['rise_time'], s= 0.1, marker='.',color='orange', label = \"Class 3\")\n",
    "#plt.scatter(class2['area'],class2['rise_time'], s= 0.1, marker='.',color='red')\n",
    "plt.yscale('log')\n",
    "plt.xscale('log')\n",
    "plt.xlim(1,100)\n",
    "plt.ylim(1,1000)\n",
    "plt.xlabel('Area [PE]')#, fontsize = 30)\n",
    "plt.ylabel('Rise time [ns]')#, fontsize = 30)\n",
    "plt.legend(markerscale=8)#, fontsize = 24)\n",
    "plt.tight_layout()\n",
    "#plt.savefig('Checks/kr83_real_data_3lbl_SOM_class.pdf')\n",
    "plt.show()"
   ]
  },
  {
   "cell_type": "code",
   "execution_count": null,
   "id": "6064fcc8-4106-4384-94e7-91ffe501b235",
   "metadata": {},
   "outputs": [],
   "source": [
    "_, sim_ar37_s1_decile = compute_wf_and_quantiles(ar_37_data, 10)"
   ]
  },
  {
   "cell_type": "code",
   "execution_count": null,
   "id": "ec084f77-d752-40dd-af59-3cfd12396c2e",
   "metadata": {},
   "outputs": [],
   "source": [
    "sim_ar37_s1_decile = np.log(sim_ar37_s1_decile) / decile_norm"
   ]
  },
  {
   "cell_type": "code",
   "execution_count": null,
   "id": "ee741fd7-d2be-49d6-8319-bfff580a22cf",
   "metadata": {},
   "outputs": [],
   "source": [
    "sim_ar37_s1_log_area = np.log10(ar_37_data['area'] + area_scaling+1) / area_norm"
   ]
  },
  {
   "cell_type": "code",
   "execution_count": null,
   "id": "44574a2e-a1a0-4b1f-abd3-3e2a16f5da53",
   "metadata": {},
   "outputs": [],
   "source": [
    "sim_ar37_s1_log_area = np.reshape(sim_ar37_s1_log_area, [len(sim_ar37_s1_log_area), 1])"
   ]
  },
  {
   "cell_type": "code",
   "execution_count": null,
   "id": "897e967a-78a7-4cb4-aff8-c5cc4b2904b5",
   "metadata": {},
   "outputs": [],
   "source": [
    "ar_37_data_aft = ar_37_data['area_fraction_top']"
   ]
  },
  {
   "cell_type": "code",
   "execution_count": null,
   "id": "d692d594-b0c9-4682-a450-201a1870f824",
   "metadata": {},
   "outputs": [],
   "source": [
    "ar_37_data_aft = np.where(ar_37_data_aft > 0, ar_37_data_aft, 0)\n",
    "ar_37_data_aft = np.where(ar_37_data_aft < 1, ar_37_data_aft, 1)"
   ]
  },
  {
   "cell_type": "code",
   "execution_count": null,
   "id": "afd69d11-863a-4feb-8590-d23f46388f46",
   "metadata": {},
   "outputs": [],
   "source": [
    "ar_37_data_aft = np.reshape(ar_37_data_aft, [len(ar_37_data_aft), 1])"
   ]
  },
  {
   "cell_type": "code",
   "execution_count": null,
   "id": "7cc689eb-5e90-4476-bd25-ac3e1acb1aee",
   "metadata": {},
   "outputs": [],
   "source": [
    "ar_sim_decile_area = np.concatenate((sim_ar37_s1_decile, sim_ar37_s1_log_area), axis = 1)"
   ]
  },
  {
   "cell_type": "code",
   "execution_count": null,
   "id": "cbf3edaf-e625-417e-a354-0296d984c581",
   "metadata": {},
   "outputs": [],
   "source": [
    "np.shape(ar_sim_decile_area)"
   ]
  },
  {
   "cell_type": "code",
   "execution_count": null,
   "id": "af3eef69-8383-41fc-91d5-7545335497d8",
   "metadata": {},
   "outputs": [],
   "source": [
    "ar_sim_decile_area_aft = np.concatenate((ar_sim_decile_area, ar_37_data_aft), axis= 1)"
   ]
  },
  {
   "cell_type": "code",
   "execution_count": null,
   "id": "56d59045-eec7-4e38-94d6-ecadedb553be",
   "metadata": {},
   "outputs": [],
   "source": [
    "ar_sim_decile_area_aft_zeros = np.concatenate((ar_sim_decile_area_aft, np.zeros((8,12))))"
   ]
  },
  {
   "cell_type": "code",
   "execution_count": null,
   "id": "3f1ce5bd-9e34-48d5-a4e1-c04314c285d0",
   "metadata": {},
   "outputs": [],
   "source": [
    "export_data(ar_sim_decile_area_aft_zeros , './saved_data/sim_Ar37_S1_dec_area_aft.raw')"
   ]
  },
  {
   "cell_type": "code",
   "execution_count": null,
   "id": "2487057f-ec16-4ba5-9be9-587a47fdffcd",
   "metadata": {},
   "outputs": [],
   "source": [
    "# Figure out how many should be misclassified for the Ar as the ground truth is attached to it"
   ]
  },
  {
   "cell_type": "code",
   "execution_count": null,
   "id": "5ae85f25-53e5-4474-923c-75c53d221e34",
   "metadata": {},
   "outputs": [],
   "source": [
    "def compute_s1_boundary(parm, area):\n",
    "    boundary_line = parm[0]*np.exp(-area/parm[1]) + parm[2]\n",
    "    \n",
    "    return boundary_line"
   ]
  },
  {
   "cell_type": "code",
   "execution_count": null,
   "id": "513f151e-c753-4669-ba01-35767cf2a4e5",
   "metadata": {},
   "outputs": [],
   "source": [
    "area_linspace =  np.linspace(1, 100, 200)\n",
    "parm2 = np.array([100, 80, 12])"
   ]
  },
  {
   "cell_type": "code",
   "execution_count": null,
   "id": "1b13e947-c65c-45ce-8db7-14f5a09f1d28",
   "metadata": {},
   "outputs": [],
   "source": [
    "fig = plt.figure(figsize=(6,5))\n",
    "\n",
    "plt.scatter(ar_37_data['area'][ar_37_data['type'] == 1], \n",
    "            ar_37_data['rise_time'][ar_37_data['type'] == 1], \n",
    "            s=0.5, alpha = 0.5, color = 'blue', label = 'S1')\n",
    "plt.scatter(ar_37_data['area'][ar_37_data['type'] == 2], \n",
    "            ar_37_data['rise_time'][ar_37_data['type'] == 2], \n",
    "            s=0.5, alpha = 0.5, color = 'green', label = 'S2')\n",
    "plt.plot(area_linspace, compute_s1_boundary(parm2, area_linspace),\n",
    "         '--' ,color = 'black', label = 'Straxen Peaklet Boundary')\n",
    "#plt.scatter(kr_pb_array['area'][kr_pb_array['type'] == 1], kr_pb_array['rise_time'][kr_pb_array['type'] == 1], s=0.1, color = 'blue')\n",
    "plt.xscale('log')\n",
    "plt.yscale('log')\n",
    "plt.xlabel('Area [PE]')\n",
    "plt.ylabel('Rise Time [ns]')\n",
    "plt.legend(markerscale=8)\n",
    "plt.xlim(1,50)\n",
    "plt.ylim(10,500)"
   ]
  },
  {
   "cell_type": "code",
   "execution_count": null,
   "id": "72779fc9-7bf4-4322-940e-4a63c8fcfc4c",
   "metadata": {},
   "outputs": [],
   "source": [
    "ar_37_data.dtype"
   ]
  },
  {
   "cell_type": "code",
   "execution_count": null,
   "id": "d1dd99e0-ee14-4186-aefc-a071e5e9168c",
   "metadata": {},
   "outputs": [],
   "source": []
  }
 ],
 "metadata": {
  "kernelspec": {
   "display_name": "Python [conda env:strax]",
   "language": "python",
   "name": "conda-env-strax-py"
  },
  "language_info": {
   "codemirror_mode": {
    "name": "ipython",
    "version": 3
   },
   "file_extension": ".py",
   "mimetype": "text/x-python",
   "name": "python",
   "nbconvert_exporter": "python",
   "pygments_lexer": "ipython3",
   "version": "3.8.13"
  }
 },
 "nbformat": 4,
 "nbformat_minor": 5
}
